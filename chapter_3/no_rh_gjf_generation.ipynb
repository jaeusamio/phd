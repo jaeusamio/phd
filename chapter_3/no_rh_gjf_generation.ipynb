{
 "cells": [
  {
   "cell_type": "code",
   "id": "initial_id",
   "metadata": {
    "collapsed": true,
    "ExecuteTime": {
     "end_time": "2025-01-30T15:05:46.412053Z",
     "start_time": "2025-01-30T15:05:43.856984Z"
    }
   },
   "source": [
    "import os\n",
    "import re\n",
    "\n",
    "from rdkit import Chem\n",
    "from openbabel import pybel\n",
    "from chapter_3 import parameter_extractor as pe\n",
    "from rdkit.Chem.Draw import IPythonConsole\n",
    "from rdkit.Chem.Draw.MolDrawing import DrawingOptions\n",
    "\n",
    "IPythonConsole.molSize = (300, 300)  # Change image size\n",
    "DrawingOptions.bondLineWidth = 1.8"
   ],
   "outputs": [],
   "execution_count": 1
  },
  {
   "metadata": {},
   "cell_type": "markdown",
   "source": [
    "# Gaussian Input Files Generation\n",
    "This notebook generates `.gjf` and script files to submit the calculations to gaussian."
   ],
   "id": "c4b041a4f68b529f"
  },
  {
   "metadata": {
    "ExecuteTime": {
     "end_time": "2025-01-30T15:05:47.173663Z",
     "start_time": "2025-01-30T15:05:47.169251Z"
    }
   },
   "cell_type": "code",
   "source": "directory = \"./out/pending/\"",
   "id": "85d4ed417c811b3c",
   "outputs": [],
   "execution_count": 2
  },
  {
   "metadata": {
    "ExecuteTime": {
     "end_time": "2025-01-30T15:05:48.281657Z",
     "start_time": "2025-01-30T15:05:47.518538Z"
    }
   },
   "cell_type": "code",
   "source": [
    "for file in os.listdir(directory):\n",
    "    if not file.endswith(\".out\"):\n",
    "        continue\n",
    "    path = directory + file\n",
    "    ligand_name = file.split(\".\")[0]\n",
    "    submit_filename = f\"{ligand_name}_SPE\"\n",
    "    submit_file = f\"\"\"#!/bin/csh\n",
    "#$ -N {submit_filename}\n",
    "#$ -pe smp 14\n",
    "#$ -q iqtc08.q\n",
    "#$ -S /bin/csh\n",
    "#$ -cwd\n",
    "#$ -o $HOME/javier/{submit_filename}.log\n",
    "#$ -e $HOME/javier/{submit_filename}.err\n",
    "#$ -m e\n",
    "#$ -M javier.eusamio@ub.edu\n",
    "\n",
    "# Load the modules needed\n",
    "source /etc/profile.d/modules.csh\n",
    "module load gaussian/g16b01\n",
    "\n",
    "cd $TMPDIR\n",
    "cp -pr $HOME/javier/{submit_filename}.gjf .\n",
    "\n",
    "# Run the job\n",
    "g16 < {submit_filename}.gjf > {submit_filename}.out\n",
    "\n",
    "# Copy the results to our home directory\n",
    "cp {submit_filename}.out $HOME/javier/\n",
    "cp {submit_filename}.chk $HOME/javier/\"\"\"\n",
    "    out = next(pybel.readfile(\"out\", path))\n",
    "    gjf = out.write(\"gjf\")\n",
    "    gjf = re.sub(\n",
    "        r\"!Put Keywords Here, check Charge and Multiplicity.\\n#\\n\\n\",\n",
    "        fr\"%chk={ligand_name}_SPE\\n%nprocshared=14\\n%mem=8GB\\n# nmr=giao b3lyp/genecp pop=nbo scfcyc=200\\n\\n\",\n",
    "        gjf\n",
    "    )\n",
    "    gjf = re.sub(\" \" + path, ligand_name + \"_SPE\", gjf)\n",
    "    comp = pe.ParameterExtractor(path, include_spe_prop=False)\n",
    "    symbols_list = {a.GetSymbol() for a in comp.mol.GetAtoms() if a.GetAtomicNum() <= 36}\n",
    "    basis_set_ecp = f\"\"\"{\" \".join(symbols_list)}  0\n",
    "TZVP\n",
    "****\n",
    "Rh  0\n",
    "S    2   1.00\n",
    "     17.000000000           -0.16690803139\n",
    "     13.910581694            0.34235001652\n",
    "S    1   1.00\n",
    "      5.2481265288           1.0000000\n",
    "S    1   1.00\n",
    "      1.2262575928           1.0000000\n",
    "S    1   1.00\n",
    "      0.53930216349          1.0000000\n",
    "S    1   1.00\n",
    "      0.10130730377          1.0000000\n",
    "S    1   1.00\n",
    "      0.37124139005D-01      1.0000000\n",
    "P    4   1.00\n",
    "     11.767103631            0.59494859388D-01\n",
    "      6.7485133083          -0.23735853477\n",
    "      1.7502679834           0.49019334303\n",
    "      0.84321166133          0.50623933751\n",
    "P    1   1.00\n",
    "      0.38295544759          1.0000000\n",
    "P    1   1.00\n",
    "      0.11500000000          1.0000000\n",
    "P    1   1.00\n",
    "      0.37000000000D-01      1.0000000\n",
    "D    4   1.00\n",
    "     19.857830136            0.66960778187D-02\n",
    "     10.061378139           -0.21981738213D-01\n",
    "      2.2619546477           0.37918706236\n",
    "      0.97098845035          0.67289976592\n",
    "D    1   1.00\n",
    "      0.38391195297          1.0000000\n",
    "D    1   1.00\n",
    "      0.13537026904          1.0000000\n",
    "F    1   1.00\n",
    "      1.0949900              1.0000000\n",
    "****\n",
    "\n",
    "Rh 0\n",
    "RH-ECP     3     28\n",
    "f potential\n",
    "  2\n",
    "2     12.3100000            -30.09345572\n",
    "2      6.1600000             -5.21848192\n",
    "s-f potential\n",
    "  4\n",
    "2     11.7200000            225.34775353\n",
    "2      5.8200000             32.82318898\n",
    "2     12.3100000             30.09345572\n",
    "2      6.1600000              5.21848192\n",
    "p-f potential\n",
    "  4\n",
    "2     10.4200000            158.70941159\n",
    "2      5.4500000             26.44410049\n",
    "2     12.3100000             30.09345572\n",
    "2      6.1600000              5.21848192\n",
    "d-f potential\n",
    "  4\n",
    "2      8.8200000             62.75862572\n",
    "2      3.8700000             10.97871947\n",
    "2     12.3100000             30.09345572\n",
    "2      6.1600000              5.21848192\n",
    "\n",
    "\"\"\"\n",
    "    final_path = \"./gjf/spe/\" + submit_filename\n",
    "    if not os.path.exists(final_path):\n",
    "        os.makedirs(final_path)\n",
    "\n",
    "    with open(f\"{final_path}/{ligand_name}_SPE.gjf\", \"w\") as f:\n",
    "        f.write(gjf + basis_set_ecp)\n",
    "    with open(f\"{final_path}/{submit_filename}\", \"w\", newline='\\n') as f:\n",
    "        f.write(submit_file)\n",
    "    print(f\"Ligand {ligand_name} done!\")"
   ],
   "id": "e773122e6015aded",
   "outputs": [
    {
     "name": "stdout",
     "output_type": "stream",
     "text": [
      "Ligand adPAMP done!\n"
     ]
    }
   ],
   "execution_count": 3
  },
  {
   "metadata": {},
   "cell_type": "markdown",
   "source": "This cell creates input files for `SPE_NoRh` structures.",
   "id": "fe4bf8b2d8d8865"
  },
  {
   "metadata": {
    "ExecuteTime": {
     "end_time": "2025-01-30T15:05:51.605596Z",
     "start_time": "2025-01-30T15:05:51.601234Z"
    }
   },
   "cell_type": "code",
   "source": "directory = \"./out/pending/\"",
   "id": "39ea4e6af3d346c9",
   "outputs": [],
   "execution_count": 4
  },
  {
   "metadata": {
    "ExecuteTime": {
     "end_time": "2025-01-30T15:05:53.973840Z",
     "start_time": "2025-01-30T15:05:53.513841Z"
    }
   },
   "cell_type": "code",
   "source": [
    "for file in os.listdir(directory):\n",
    "    if not file.endswith(\".out\"):\n",
    "        continue\n",
    "    path = directory + file\n",
    "    ligand_name = file.split(\".\")[0]\n",
    "    submit_filename = f\"{ligand_name}_SPE_NoRh\"\n",
    "    submit_file = f\"\"\"#!/bin/csh\n",
    "#$ -N {submit_filename}\n",
    "#$ -pe smp 14\n",
    "#$ -q iqtc08.q\n",
    "#$ -S /bin/csh\n",
    "#$ -cwd\n",
    "#$ -o $HOME/javier/{submit_filename}.log\n",
    "#$ -e $HOME/javier/{submit_filename}.err\n",
    "#$ -m e  \n",
    "#$ -M javier.eusamio@ub.edu \n",
    "\n",
    "# Load the modules needed\n",
    "source /etc/profile.d/modules.csh\n",
    "module load gaussian/g16b01\n",
    "\n",
    "cd $TMPDIR\n",
    "cp -pr $HOME/javier/{submit_filename}.gjf .\n",
    "\n",
    "# Run the job\n",
    "g16 < {submit_filename}.gjf > {submit_filename}.out\n",
    "\n",
    "# Copy the results to our home directory\n",
    "cp {submit_filename}.out $HOME/javier/\"\"\"\n",
    "    \n",
    "    # Removes COD + Rh from molecule, converts to .gjf and adds job keywords\n",
    "    comp = pe.ParameterExtractor(path, include_spe_prop=False)\n",
    "    editable_mol = Chem.RWMol(comp.mol)\n",
    "    cod_idx = [a.GetIdx() for a in comp.cod]\n",
    "    remove_atoms = [a for a in editable_mol.GetAtoms() if a.GetIdx() in cod_idx]\n",
    "    remove_atoms.append(comp.rh)\n",
    "    remove_atoms = sorted(remove_atoms, key=lambda x: x.GetIdx(), reverse=True)\n",
    "    for atom in remove_atoms:\n",
    "        atom.SetAtomMapNum(atom.GetIdx())\n",
    "        editable_mol.RemoveAtom(atom.GetIdx())\n",
    "    pdb_block = Chem.MolToPDBBlock(editable_mol)\n",
    "    pdb = pybel.readstring(\"pdb\", pdb_block)\n",
    "    gjf = pdb.write(\"gjf\")\n",
    "    gjf = re.sub(\n",
    "        r\"!Put Keywords Here, check Charge and Multiplicity.\\n#\\n\\n\",\n",
    "        fr\"%nprocshared=14\\n%mem=8GB\\n# nmr=giao b3lyp/def2TZVP pop=nbo scfcyc=200\\n\\n{ligand_name} SPE NoRh\",\n",
    "        gjf\n",
    "    )\n",
    "\n",
    "    final_path = \"./gjf/NoRh/\" + submit_filename\n",
    "    if not os.path.exists(final_path):\n",
    "        os.makedirs(final_path)\n",
    "    with open(f\"{final_path}/{ligand_name}_SPE_NoRh.gjf\", \"w\") as f:\n",
    "        f.write(gjf)\n",
    "    with open(f\"{final_path}/{submit_filename}\", \"w\", newline='\\n') as f:\n",
    "        f.write(submit_file)\n",
    "    print(f\"Ligand {ligand_name} done!\")"
   ],
   "id": "33ea7bb68237af96",
   "outputs": [
    {
     "name": "stdout",
     "output_type": "stream",
     "text": [
      "Ligand adPAMP done!\n"
     ]
    }
   ],
   "execution_count": 5
  }
 ],
 "metadata": {
  "kernelspec": {
   "display_name": "Python 3",
   "language": "python",
   "name": "python3"
  },
  "language_info": {
   "codemirror_mode": {
    "name": "ipython",
    "version": 2
   },
   "file_extension": ".py",
   "mimetype": "text/x-python",
   "name": "python",
   "nbconvert_exporter": "python",
   "pygments_lexer": "ipython2",
   "version": "2.7.6"
  }
 },
 "nbformat": 4,
 "nbformat_minor": 5
}
