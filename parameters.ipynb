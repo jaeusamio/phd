{
 "cells": [
  {
   "cell_type": "code",
   "id": "initial_id",
   "metadata": {
    "ExecuteTime": {
     "end_time": "2025-01-26T18:53:03.553297Z",
     "start_time": "2025-01-26T18:53:03.549307Z"
    }
   },
   "source": [
    "import os.path\n",
    "import pandas as pd\n",
    "from rdkit.Chem.Draw import IPythonConsole\n",
    "from rdkit.Chem.Draw.MolDrawing import DrawingOptions\n",
    "from parameter_extractor import ParameterExtractor, Property\n",
    "\n",
    "IPythonConsole.molSize = (300, 300)  # Change image size\n",
    "DrawingOptions.bondLineWidth = 1.8"
   ],
   "outputs": [],
   "execution_count": 23
  },
  {
   "cell_type": "code",
   "id": "a9a53965bad2d575",
   "metadata": {
    "ExecuteTime": {
     "end_time": "2025-01-21T15:30:40.786391Z",
     "start_time": "2025-01-21T15:30:40.779490Z"
    }
   },
   "source": [
    "filename = \"l_15\"\n",
    "path = f\"./out/spe/{filename}_SPE.out\"\n",
    "path_no_rh = f\"./out/spe_no_rh/{filename}_SPE_NoRh.out\"\n",
    "if not os.path.exists(path_no_rh):\n",
    "    print(path_no_rh + \" does not exist\")"
   ],
   "outputs": [],
   "execution_count": 2
  },
  {
   "cell_type": "code",
   "id": "9ac12ab947877846",
   "metadata": {
    "ExecuteTime": {
     "end_time": "2025-01-21T15:30:50.853944Z",
     "start_time": "2025-01-21T15:30:42.409598Z"
    }
   },
   "source": "comp = ParameterExtractor(path=path, no_rh_path=path_no_rh)",
   "outputs": [],
   "execution_count": 3
  },
  {
   "cell_type": "code",
   "id": "932a04594ed5d5b3",
   "metadata": {
    "ExecuteTime": {
     "end_time": "2024-11-21T10:13:36.455336Z",
     "start_time": "2024-11-21T10:13:36.447241Z"
    }
   },
   "source": [
    "bite_angle = comp.get_angle(comp.p1, comp.rh, comp.p2)\n",
    "p1_rh_dist = comp.get_bond_distance(comp.p1, comp.rh)\n",
    "p2_rh_dist = comp.get_bond_distance(comp.p2, comp.rh)\n",
    "p1_bridge_dist = comp.get_bond_distance(comp.p1, comp.bridge)\n",
    "p2_bridge_dist = comp.get_bond_distance(comp.p2, comp.bridge)\n",
    "bridge_angle = comp.get_angle(comp.p1, comp.bridge, comp.p2)\n",
    "\n",
    "print(\"P1-Rh: \" + str(p1_rh_dist), \"P2-Rh: \" + str(p2_rh_dist), \"P1-Bridge: \" + str(p1_bridge_dist),\n",
    "      \"P2-Bridge: \" + str(p2_bridge_dist), \"Bite angle: \" + str(bite_angle), \"Bridge angle: \" + str(bridge_angle))"
   ],
   "outputs": [
    {
     "name": "stdout",
     "output_type": "stream",
     "text": [
      "P1-Rh: 2.3719312711164293 P2-Rh: 2.37194201200198 P1-Bridge: 1.8750391887104654 P2-Bridge: 1.8749946723657644 Bite angle: 72.70956883041772 Bridge angle: 97.16063672571833\n"
     ]
    }
   ],
   "execution_count": 8
  },
  {
   "cell_type": "code",
   "id": "fb26b5a8e4ecc311",
   "metadata": {
    "ExecuteTime": {
     "end_time": "2024-11-21T10:13:36.482276Z",
     "start_time": "2024-11-21T10:13:36.471371Z"
    }
   },
   "source": [
    "comp.dipole"
   ],
   "outputs": [
    {
     "data": {
      "text/plain": [
       "1.9588"
      ]
     },
     "execution_count": 9,
     "metadata": {},
     "output_type": "execute_result"
    }
   ],
   "execution_count": 9
  },
  {
   "metadata": {
    "ExecuteTime": {
     "end_time": "2024-11-21T10:13:36.511790Z",
     "start_time": "2024-11-21T10:13:36.501789Z"
    }
   },
   "cell_type": "code",
   "source": [
    "r1_p1_r2_angle = comp.get_angle(comp.r1, comp.p1, comp.r2)\n",
    "r1_p1_rh_angle = comp.get_angle(comp.r1, comp.p1, comp.rh)\n",
    "rh_p1_bridge_angle = comp.get_angle(comp.rh, comp.p1, comp.bridge)\n",
    "r1_p1_bridge_angle = comp.get_angle(comp.r1, comp.p1, comp.bridge)\n",
    "r2_p1_bridge_angle = comp.get_angle(comp.r2, comp.p1, comp.bridge)\n",
    "r2_p1_rh_angle = comp.get_angle(comp.r2, comp.p1, comp.rh)\n",
    "\n",
    "p1_angle_sum = r1_p1_bridge_angle + r1_p1_r2_angle + r2_p1_bridge_angle\n",
    "p1_angle_sum"
   ],
   "id": "9f0671b96a0d5350",
   "outputs": [
    {
     "data": {
      "text/plain": [
       "317.8066693255203"
      ]
     },
     "execution_count": 10,
     "metadata": {},
     "output_type": "execute_result"
    }
   ],
   "execution_count": 10
  },
  {
   "metadata": {
    "ExecuteTime": {
     "end_time": "2024-11-21T10:13:36.532476Z",
     "start_time": "2024-11-21T10:13:36.521603Z"
    }
   },
   "cell_type": "code",
   "source": [
    "r3_p2_r4_angle = comp.get_angle(comp.r3, comp.p2, comp.r4)\n",
    "r3_p2_rh_angle = comp.get_angle(comp.r3, comp.p2, comp.rh)\n",
    "rh_p2_bridge_angle = comp.get_angle(comp.rh, comp.p2, comp.bridge)\n",
    "r3_p2_bridge_angle = comp.get_angle(comp.r3, comp.p2, comp.bridge)\n",
    "r4_p2_bridge_angle = comp.get_angle(comp.r4, comp.p2, comp.bridge)\n",
    "r4_p2_rh_angle = comp.get_angle(comp.r4, comp.p2, comp.rh)\n",
    "\n",
    "p2_angle_sum = r3_p2_bridge_angle + r3_p2_r4_angle + r4_p2_bridge_angle\n",
    "p2_angle_sum"
   ],
   "id": "bcba7d3018ae8ffd",
   "outputs": [
    {
     "data": {
      "text/plain": [
       "317.80297812394565"
      ]
     },
     "execution_count": 11,
     "metadata": {},
     "output_type": "execute_result"
    }
   ],
   "execution_count": 11
  },
  {
   "metadata": {
    "ExecuteTime": {
     "end_time": "2025-01-21T15:31:26.922937Z",
     "start_time": "2025-01-21T15:31:26.914088Z"
    }
   },
   "cell_type": "code",
   "source": "comp.get_bond(comp.p1, comp.r1).get_prop(Property.ANTIBOND_OCCUPANCY)",
   "id": "1f1d3816cfddfc7f",
   "outputs": [
    {
     "data": {
      "text/plain": [
       "'0.05997'"
      ]
     },
     "execution_count": 4,
     "metadata": {},
     "output_type": "execute_result"
    }
   ],
   "execution_count": 4
  },
  {
   "metadata": {
    "ExecuteTime": {
     "end_time": "2024-11-21T10:13:36.571641Z",
     "start_time": "2024-11-21T10:13:36.563338Z"
    }
   },
   "cell_type": "code",
   "source": "comp.p1.GetPropsAsDict()",
   "id": "897ce52ddaca7c44",
   "outputs": [
    {
     "data": {
      "text/plain": [
       "{'nbo_charge': 1.1076,\n",
       " 'nmr_isotropic': 319.369,\n",
       " 'nmr_anisotropic': 118.7911,\n",
       " 'molAtomMapNumber': 38,\n",
       " 'nbo_charge_no_rh': 0.79838,\n",
       " 'nmr_isotropic_no_rh': 241.6574,\n",
       " 'nmr_anisotropic_no_rh': 93.1935,\n",
       " 'lone_pair_occupancy_no_rh_1': 1.93141,\n",
       " 'lone_pair_energy_no_rh_1': -0.33356}"
      ]
     },
     "execution_count": 13,
     "metadata": {},
     "output_type": "execute_result"
    }
   ],
   "execution_count": 13
  },
  {
   "metadata": {
    "ExecuteTime": {
     "end_time": "2025-01-26T18:53:16.741626Z",
     "start_time": "2025-01-26T18:53:10.102362Z"
    }
   },
   "cell_type": "code",
   "source": [
    "df = pd.DataFrame()\n",
    "param_list = []\n",
    "for file in os.listdir(\"./out/spe/\"):\n",
    "    filename = file.split(\".\")[0]\n",
    "    ligand_name = filename.replace(\"_SPE\", \"\")\n",
    "    path = f\"./out/spe/{filename}.out\"\n",
    "    path_no_rh = f\"./out/spe_no_rh/{filename}_NoRh.out\"\n",
    "    if not os.path.exists(path_no_rh):\n",
    "        print(path_no_rh + \" does not exist\")\n",
    "        continue\n",
    "        \n",
    "    print(ligand_name + \": Parameter extraction started.\")\n",
    "    comp = ParameterExtractor(path=path, no_rh_path=path_no_rh)\n",
    "    \n",
    "    r1_p1_r2_angle = comp.get_angle(comp.r1, comp.p1, comp.r2)\n",
    "    r1_p1_rh_angle = comp.get_angle(comp.r1, comp.p1, comp.rh)\n",
    "    rh_p1_bridge_angle = comp.get_angle(comp.rh, comp.p1, comp.bridge)\n",
    "    r1_p1_bridge_angle = comp.get_angle(comp.r1, comp.p1, comp.bridge)\n",
    "    r2_p1_bridge_angle = comp.get_angle(comp.r2, comp.p1, comp.bridge)\n",
    "    r2_p1_rh_angle = comp.get_angle(comp.r2, comp.p1, comp.rh)\n",
    "    \n",
    "    p1_angle_sum = r1_p1_bridge_angle + r1_p1_r2_angle + r2_p1_bridge_angle\n",
    "    \n",
    "    r3_p2_r4_angle = comp.get_angle(comp.r3, comp.p2, comp.r4)\n",
    "    r3_p2_rh_angle = comp.get_angle(comp.r3, comp.p2, comp.rh)\n",
    "    rh_p2_bridge_angle = comp.get_angle(comp.rh, comp.p2, comp.bridge)\n",
    "    r3_p2_bridge_angle = comp.get_angle(comp.r3, comp.p2, comp.bridge)\n",
    "    r4_p2_bridge_angle = comp.get_angle(comp.r4, comp.p2, comp.bridge)\n",
    "    r4_p2_rh_angle = comp.get_angle(comp.r4, comp.p2, comp.rh)\n",
    "    \n",
    "    p2_angle_sum = r3_p2_bridge_angle + r3_p2_r4_angle + r4_p2_bridge_angle\n",
    "    param_dict = {\n",
    "        # Global parameters\n",
    "        \"ligand\": ligand_name,\n",
    "        \"homo\": comp.homo,\n",
    "        \"lumo\": comp.lumo,\n",
    "        \"dipole\": comp.dipole,\n",
    "        \"rh_charge\": comp.rh.get_prop(Property.CHARGE),\n",
    "        \"rh_LP_1_occ\": comp.rh.get_prop(Property.LONE_PAIR_OCCUPANCY_1),\n",
    "        \"rh_LP_1_eng\": comp.rh.get_prop(Property.LONE_PAIR_ENERGY_1),\n",
    "        \"rh_LP_2_occ\": comp.rh.get_prop(Property.LONE_PAIR_OCCUPANCY_2),\n",
    "        \"rh_LP_2_eng\": comp.rh.get_prop(Property.LONE_PAIR_ENERGY_2),\n",
    "        \"rh_LP_3_occ\": comp.rh.get_prop(Property.LONE_PAIR_OCCUPANCY_3),\n",
    "        \"rh_LP_3_eng\": comp.rh.get_prop(Property.LONE_PAIR_ENERGY_3),\n",
    "        \"rh_LP_4_occ\": comp.rh.get_prop(Property.LONE_PAIR_OCCUPANCY_4),\n",
    "        \"rh_LP_4_eng\": comp.rh.get_prop(Property.LONE_PAIR_ENERGY_4),\n",
    "        \"bite_angle\": comp.get_angle(comp.p1, comp.bridge, comp.p2),\n",
    "        \"homo_no_rh\": comp.homo_no_rh,\n",
    "        \"lumo_no_rh\": comp.lumo_no_rh,\n",
    "        \"dipole_no_rh\": comp.dipole_no_rh,\n",
    "        # missing polarizability, I don't know where to get it from, but does not seem important\n",
    "        \n",
    "        # C1 parameters\n",
    "        \"r1_nbo\": comp.r1.get_prop(Property.CHARGE),\n",
    "        \"r2_nbo\": comp.r2.get_prop(Property.CHARGE),\n",
    "        \"r3_nbo\": comp.r3.get_prop(Property.CHARGE),\n",
    "        \"r4_nbo\": comp.r4.get_prop(Property.CHARGE),\n",
    "        \"bridge_nbo\": comp.bridge.get_prop(Property.CHARGE),\n",
    "        \"p1_nbo\": comp.p1.get_prop(Property.CHARGE),\n",
    "        \"p2_nbo\": comp.p2.get_prop(Property.CHARGE),\n",
    "        \"c1_nbo\": comp.c1.get_prop(Property.CHARGE),\n",
    "        \"c2_nbo\": comp.c2.get_prop(Property.CHARGE),\n",
    "        \"c3_nbo\": comp.c3.get_prop(Property.CHARGE),\n",
    "        \"c4_nbo\": comp.c4.get_prop(Property.CHARGE),\n",
    "        \n",
    "        \"p1_nmr\": comp.p1.get_prop(Property.NMR_ISOTROPIC),\n",
    "        \"p1_nmr_aniso\": comp.p1.get_prop(Property.NMR_ANISOTROPIC),\n",
    "        \"p2_nmr\": comp.p2.get_prop(Property.NMR_ISOTROPIC),\n",
    "        \"p2_nmr_aniso\": comp.p2.get_prop(Property.NMR_ANISOTROPIC),\n",
    "        \n",
    "        \"p1_rh_bond_occ\": comp.get_bond(comp.p1, comp.rh).get_prop(Property.BOND_OCCUPANCY),\n",
    "        \"p2_rh_bond_occ\": comp.get_bond(comp.p2, comp.rh).get_prop(Property.BOND_OCCUPANCY),\n",
    "        \"p1_rh_bond_eng\": comp.get_bond(comp.p1, comp.rh).get_prop(Property.BOND_ENERGY),\n",
    "        \"p2_rh_bond_eng\": comp.get_bond(comp.p2, comp.rh).get_prop(Property.BOND_ENERGY),\n",
    "        \"p1_rh_antibond_occ\": comp.get_bond(comp.p1, comp.rh).get_prop(Property.ANTIBOND_OCCUPANCY),\n",
    "        \"p2_rh_antibond_occ\": comp.get_bond(comp.p2, comp.rh).get_prop(Property.ANTIBOND_OCCUPANCY),\n",
    "        \"p1_rh_antibond_eng\": comp.get_bond(comp.p1, comp.rh).get_prop(Property.ANTIBOND_ENERGY),\n",
    "        \"p2_rh_antibond_eng\": comp.get_bond(comp.p2, comp.rh).get_prop(Property.ANTIBOND_ENERGY),\n",
    "        \"p1_r1_bond_occ\": comp.get_bond(comp.p1, comp.r1).get_prop(Property.BOND_OCCUPANCY),\n",
    "        \"p1_r2_bond_occ\": comp.get_bond(comp.p1, comp.r2).get_prop(Property.BOND_OCCUPANCY),\n",
    "        \"p2_r3_bond_occ\": comp.get_bond(comp.p2, comp.r3).get_prop(Property.BOND_OCCUPANCY),\n",
    "        \"p2_r4_bond_occ\": comp.get_bond(comp.p2, comp.r4).get_prop(Property.BOND_OCCUPANCY),\n",
    "        \"p1_r1_bond_eng\": comp.get_bond(comp.p1, comp.r1).get_prop(Property.BOND_ENERGY),\n",
    "        \"p1_r2_bond_eng\": comp.get_bond(comp.p1, comp.r2).get_prop(Property.BOND_ENERGY),\n",
    "        \"p2_r3_bond_eng\": comp.get_bond(comp.p2, comp.r3).get_prop(Property.BOND_ENERGY),\n",
    "        \"p2_r4_bond_eng\": comp.get_bond(comp.p2, comp.r4).get_prop(Property.BOND_ENERGY),\n",
    "        \"p1_r1_antibond_occ\": comp.get_bond(comp.p1, comp.r1).get_prop(Property.ANTIBOND_OCCUPANCY),\n",
    "        \"p1_r2_antibond_occ\": comp.get_bond(comp.p1, comp.r2).get_prop(Property.ANTIBOND_OCCUPANCY),\n",
    "        \"p2_r3_antibond_occ\": comp.get_bond(comp.p2, comp.r3).get_prop(Property.ANTIBOND_OCCUPANCY),\n",
    "        \"p2_r4_antibond_occ\": comp.get_bond(comp.p2, comp.r4).get_prop(Property.ANTIBOND_OCCUPANCY),\n",
    "        \"p1_r1_antibond_eng\": comp.get_bond(comp.p1, comp.r1).get_prop(Property.ANTIBOND_ENERGY),\n",
    "        \"p1_r2_antibond_eng\": comp.get_bond(comp.p1, comp.r2).get_prop(Property.ANTIBOND_ENERGY),\n",
    "        \"p2_r3_antibond_eng\": comp.get_bond(comp.p2, comp.r3).get_prop(Property.ANTIBOND_ENERGY),\n",
    "        \"p2_r4_antibond_eng\": comp.get_bond(comp.p2, comp.r4).get_prop(Property.ANTIBOND_ENERGY),\n",
    "        \"p1_bridge_bond_occ\": comp.get_bond(comp.p1, comp.bridge).get_prop(Property.BOND_OCCUPANCY),\n",
    "        \"p2_bridge_bond_occ\": comp.get_bond(comp.p2, comp.bridge).get_prop(Property.BOND_OCCUPANCY),\n",
    "        \"p1_bridge_bond_eng\": comp.get_bond(comp.p1, comp.bridge).get_prop(Property.BOND_ENERGY),\n",
    "        \"p2_bridge_bond_eng\": comp.get_bond(comp.p2, comp.bridge).get_prop(Property.BOND_ENERGY),\n",
    "        \"p1_bridge_antibond_occ\": comp.get_bond(comp.p1, comp.bridge).get_prop(Property.ANTIBOND_OCCUPANCY),\n",
    "        \"p2_bridge_antibond_occ\": comp.get_bond(comp.p2, comp.bridge).get_prop(Property.ANTIBOND_OCCUPANCY),\n",
    "        \"p1_bridge_antibond_eng\": comp.get_bond(comp.p1, comp.bridge).get_prop(Property.ANTIBOND_ENERGY),\n",
    "        \"p2_bridge_antibond_eng\": comp.get_bond(comp.p2, comp.bridge).get_prop(Property.ANTIBOND_ENERGY),\n",
    "        \n",
    "        \"c1_rh_dist\": comp.get_bond_distance(comp.c1, comp.rh),\n",
    "        \"c2_rh_dist\": comp.get_bond_distance(comp.c2, comp.rh),\n",
    "        \"c3_rh_dist\": comp.get_bond_distance(comp.c3, comp.rh),\n",
    "        \"c4_rh_dist\": comp.get_bond_distance(comp.c4, comp.rh),\n",
    "        \"p1_c1_dist\": comp.get_bond_distance(comp.p1, comp.c1),\n",
    "        \"p1_c2_dist\": comp.get_bond_distance(comp.p1, comp.c2),\n",
    "        \"p2_c3_dist\": comp.get_bond_distance(comp.p2, comp.c3),\n",
    "        \"p2_c4_dist\": comp.get_bond_distance(comp.p2, comp.c4),\n",
    "        \"p1_bridge_dist\": comp.get_bond_distance(comp.p1, comp.bridge),\n",
    "        \"p2_bridge_dist\": comp.get_bond_distance(comp.p2, comp.bridge),\n",
    "        \n",
    "        \"p1_angle_sum\": p1_angle_sum,\n",
    "        \"p2_angle_sum\": p2_angle_sum,\n",
    "        \"rh_p1_bridge_angle\": rh_p1_bridge_angle,\n",
    "        \"rh_p2_bridge_angle\": rh_p2_bridge_angle,\n",
    "        \"r1_p1_rh_angle\": r1_p1_rh_angle,\n",
    "        \"r2_p1_rh_angle\": r2_p1_rh_angle,\n",
    "        \"r3_p2_rh_angle\": r3_p2_rh_angle,\n",
    "        \"r4_p2_rh_angle\": r4_p2_rh_angle,\n",
    "        \"r1_p1_bridge_angle\": r1_p1_bridge_angle,\n",
    "        \"r2_p1_bridge_angle\": r2_p1_bridge_angle,\n",
    "        \"r3_p2_bridge_angle\": r3_p2_bridge_angle,\n",
    "        \"r4_p2_bridge_angle\": r4_p2_bridge_angle,\n",
    "        \n",
    "        \"p1_nbo_no_rh\": comp.p1.get_prop(Property.CHARGE_NO_RH),\n",
    "        \"p2_nbo_no_rh\": comp.p2.get_prop(Property.CHARGE_NO_RH),\n",
    "        \"r1_nbo_no_rh\": comp.r1.get_prop(Property.CHARGE_NO_RH),\n",
    "        \"r2_nbo_no_rh\": comp.r2.get_prop(Property.CHARGE_NO_RH),\n",
    "        \"r3_nbo_no_rh\": comp.r3.get_prop(Property.CHARGE_NO_RH),\n",
    "        \"r4_nbo_no_rh\": comp.r4.get_prop(Property.CHARGE_NO_RH),\n",
    "        \"bridge_nbo_no_rh\": comp.bridge.get_prop(Property.CHARGE_NO_RH),\n",
    "        \n",
    "        \"p1_nmr_no_rh\": comp.p1.get_prop(Property.NMR_ISOTROPIC_NO_RH),\n",
    "        \"p1_nmr_aniso_no_rh\": comp.p1.get_prop(Property.NMR_ANISOTROPIC_NO_RH),\n",
    "        \"p2_nmr_no_rh\": comp.p2.get_prop(Property.NMR_ISOTROPIC_NO_RH),\n",
    "        \"p2_nmr_aniso_no_rh\": comp.p2.get_prop(Property.NMR_ANISOTROPIC_NO_RH),\n",
    "        \n",
    "        \"p1_LP_occ_no_rh\": comp.p1.get_prop(Property.LONE_PAIR_OCCUPANCY_NO_RH_1),\n",
    "        \"p1_LP_eng_no_rh\": comp.p1.get_prop(Property.LONE_PAIR_ENERGY_NO_RH_1),\n",
    "        \"p2_LP_occ_no_rh\": comp.p2.get_prop(Property.LONE_PAIR_OCCUPANCY_NO_RH_1),\n",
    "        \"p2_LP_eng_no_rh\": comp.p2.get_prop(Property.LONE_PAIR_ENERGY_NO_RH_1),\n",
    "        \n",
    "        \"p1_r1_bond_occ_no_rh\": comp.get_bond(comp.p1, comp.r1).get_prop(Property.BOND_OCCUPANCY_NO_RH),\n",
    "        \"p1_r2_bond_occ_no_rh\": comp.get_bond(comp.p1, comp.r2).get_prop(Property.BOND_OCCUPANCY_NO_RH),\n",
    "        \"p2_r3_bond_occ_no_rh\": comp.get_bond(comp.p2, comp.r3).get_prop(Property.BOND_OCCUPANCY_NO_RH),\n",
    "        \"p2_r4_bond_occ_no_rh\": comp.get_bond(comp.p2, comp.r4).get_prop(Property.BOND_OCCUPANCY_NO_RH),\n",
    "        \"p1_r1_bond_eng_no_rh\": comp.get_bond(comp.p1, comp.r1).get_prop(Property.BOND_ENERGY_NO_RH),\n",
    "        \"p1_r2_bond_eng_no_rh\": comp.get_bond(comp.p1, comp.r2).get_prop(Property.BOND_ENERGY_NO_RH),\n",
    "        \"p2_r3_bond_eng_no_rh\": comp.get_bond(comp.p2, comp.r3).get_prop(Property.BOND_ENERGY_NO_RH),\n",
    "        \"p2_r4_bond_eng_no_rh\": comp.get_bond(comp.p2, comp.r4).get_prop(Property.BOND_ENERGY_NO_RH),\n",
    "        \"p1_r1_antibond_occ_no_rh\": comp.get_bond(comp.p1, comp.r1).get_prop(Property.ANTIBOND_OCCUPANCY_NO_RH),\n",
    "        \"p1_r2_antibond_occ_no_rh\": comp.get_bond(comp.p1, comp.r2).get_prop(Property.ANTIBOND_OCCUPANCY_NO_RH),\n",
    "        \"p2_r3_antibond_occ_no_rh\": comp.get_bond(comp.p2, comp.r3).get_prop(Property.ANTIBOND_OCCUPANCY_NO_RH),\n",
    "        \"p2_r4_antibond_occ_no_rh\": comp.get_bond(comp.p2, comp.r4).get_prop(Property.ANTIBOND_OCCUPANCY_NO_RH),\n",
    "        \"p1_r1_antibond_eng_no_rh\": comp.get_bond(comp.p1, comp.r1).get_prop(Property.ANTIBOND_ENERGY_NO_RH),\n",
    "        \"p1_r2_antibond_eng_no_rh\": comp.get_bond(comp.p1, comp.r2).get_prop(Property.ANTIBOND_ENERGY_NO_RH),\n",
    "        \"p2_r3_antibond_eng_no_rh\": comp.get_bond(comp.p2, comp.r3).get_prop(Property.ANTIBOND_ENERGY_NO_RH),\n",
    "        \"p2_r4_antibond_eng_no_rh\": comp.get_bond(comp.p2, comp.r4).get_prop(Property.ANTIBOND_ENERGY_NO_RH),\n",
    "        \"p1_bridge_bond_occ_no_rh\": comp.get_bond(comp.p1, comp.bridge).get_prop(Property.BOND_OCCUPANCY_NO_RH),\n",
    "        \"p2_bridge_bond_occ_no_rh\": comp.get_bond(comp.p2, comp.bridge).get_prop(Property.BOND_OCCUPANCY_NO_RH),\n",
    "        \"p1_bridge_bond_eng_no_rh\": comp.get_bond(comp.p1, comp.bridge).get_prop(Property.BOND_ENERGY_NO_RH),\n",
    "        \"p2_bridge_bond_eng_no_rh\": comp.get_bond(comp.p2, comp.bridge).get_prop(Property.BOND_ENERGY_NO_RH),\n",
    "        \"p1_bridge_antibond_occ_no_rh\": comp.get_bond(comp.p1, comp.bridge).get_prop(Property.ANTIBOND_OCCUPANCY_NO_RH),\n",
    "        \"p2_bridge_antibond_occ_no_rh\": comp.get_bond(comp.p2, comp.bridge).get_prop(Property.ANTIBOND_OCCUPANCY_NO_RH),\n",
    "        \"p1_bridge_antibond_eng_no_rh\": comp.get_bond(comp.p1, comp.bridge).get_prop(Property.ANTIBOND_ENERGY_NO_RH),\n",
    "        \"p2_bridge_antibond_eng_no_rh\": comp.get_bond(comp.p2, comp.bridge).get_prop(Property.ANTIBOND_ENERGY_NO_RH),\n",
    "        \n",
    "        \"p1_LP_s_occ_no_rh\": comp.p1.get_prop(Property.LONE_PAIR_S_ORBITAL_NO_RH),\n",
    "        \"p2_LP_s_occ_no_rh\": comp.p2.get_prop(Property.LONE_PAIR_S_ORBITAL_NO_RH),\n",
    "    }\n",
    "    \n",
    "    for radius in range(1, 7, 1):\n",
    "        bv = comp.buried_volume(radius)\n",
    "        bv.octant_analysis()\n",
    "        param_dict[f\"Vbur%_{float(radius)}\"] = bv.fraction_buried_volume * 100\n",
    "        param_dict[f\"NE_{float(radius)}\"] = bv.quadrants[\"percent_buried_volume\"][1]\n",
    "        param_dict[f\"NW_{float(radius)}\"] = bv.quadrants[\"percent_buried_volume\"][2]\n",
    "        param_dict[f\"SE_{float(radius)}\"] = bv.quadrants[\"percent_buried_volume\"][3]\n",
    "        param_dict[f\"SW_{float(radius)}\"] = bv.quadrants[\"percent_buried_volume\"][4]\n",
    "        \n",
    "    param_list.append(param_dict)\n",
    "df = pd.DataFrame(param_list)"
   ],
   "id": "5ac6efeb68d64ccd",
   "outputs": [
    {
     "name": "stdout",
     "output_type": "stream",
     "text": [
      "dcPAMP: Parameter extraction started.\n",
      "dcpa: Parameter extraction started.\n"
     ]
    },
    {
     "name": "stderr",
     "output_type": "stream",
     "text": [
      "E:\\Data\\PythonProjects\\short_bridge\\parameter_extractor.py:282: SyntaxWarning: invalid escape sequence '\\s'\n",
      "  pattern = f\"\\s+LP\\s+\\(\\s+1\\)\\s*{atom_symbol}\\s+{atom_idx}\\s+s\\(\"\n",
      "E:\\Data\\PythonProjects\\short_bridge\\parameter_extractor.py:282: SyntaxWarning: invalid escape sequence '\\s'\n",
      "  pattern = f\"\\s+LP\\s+\\(\\s+1\\)\\s*{atom_symbol}\\s+{atom_idx}\\s+s\\(\"\n",
      "E:\\Data\\PythonProjects\\short_bridge\\parameter_extractor.py:282: SyntaxWarning: invalid escape sequence '\\s'\n",
      "  pattern = f\"\\s+LP\\s+\\(\\s+1\\)\\s*{atom_symbol}\\s+{atom_idx}\\s+s\\(\"\n"
     ]
    },
    {
     "ename": "KeyboardInterrupt",
     "evalue": "",
     "output_type": "error",
     "traceback": [
      "\u001B[1;31m---------------------------------------------------------------------------\u001B[0m",
      "\u001B[1;31mKeyboardInterrupt\u001B[0m                         Traceback (most recent call last)",
      "Cell \u001B[1;32mIn[24], line 13\u001B[0m\n\u001B[0;32m     10\u001B[0m     \u001B[38;5;28;01mcontinue\u001B[39;00m\n\u001B[0;32m     12\u001B[0m \u001B[38;5;28mprint\u001B[39m(ligand_name \u001B[38;5;241m+\u001B[39m \u001B[38;5;124m\"\u001B[39m\u001B[38;5;124m: Parameter extraction started.\u001B[39m\u001B[38;5;124m\"\u001B[39m)\n\u001B[1;32m---> 13\u001B[0m comp \u001B[38;5;241m=\u001B[39m \u001B[43mParameterExtractor\u001B[49m\u001B[43m(\u001B[49m\u001B[43mpath\u001B[49m\u001B[38;5;241;43m=\u001B[39;49m\u001B[43mpath\u001B[49m\u001B[43m,\u001B[49m\u001B[43m \u001B[49m\u001B[43mno_rh_path\u001B[49m\u001B[38;5;241;43m=\u001B[39;49m\u001B[43mpath_no_rh\u001B[49m\u001B[43m)\u001B[49m\n\u001B[0;32m     15\u001B[0m r1_p1_r2_angle \u001B[38;5;241m=\u001B[39m comp\u001B[38;5;241m.\u001B[39mget_angle(comp\u001B[38;5;241m.\u001B[39mr1, comp\u001B[38;5;241m.\u001B[39mp1, comp\u001B[38;5;241m.\u001B[39mr2)\n\u001B[0;32m     16\u001B[0m r1_p1_rh_angle \u001B[38;5;241m=\u001B[39m comp\u001B[38;5;241m.\u001B[39mget_angle(comp\u001B[38;5;241m.\u001B[39mr1, comp\u001B[38;5;241m.\u001B[39mp1, comp\u001B[38;5;241m.\u001B[39mrh)\n",
      "File \u001B[1;32mE:\\Data\\PythonProjects\\short_bridge\\parameter_extractor.py:72\u001B[0m, in \u001B[0;36mParameterExtractor.__init__\u001B[1;34m(self, path, verbose, no_rh_path, include_spe_prop)\u001B[0m\n\u001B[0;32m     70\u001B[0m \u001B[38;5;28mself\u001B[39m\u001B[38;5;241m.\u001B[39m__set_nmr_property(no_rh\u001B[38;5;241m=\u001B[39m\u001B[38;5;28;01mTrue\u001B[39;00m)\n\u001B[0;32m     71\u001B[0m \u001B[38;5;28mself\u001B[39m\u001B[38;5;241m.\u001B[39m__set_lone_pair_prop(no_rh\u001B[38;5;241m=\u001B[39m\u001B[38;5;28;01mTrue\u001B[39;00m)\n\u001B[1;32m---> 72\u001B[0m \u001B[38;5;28;43mself\u001B[39;49m\u001B[38;5;241;43m.\u001B[39;49m\u001B[43m__set_lone_pair_orbital_distribution\u001B[49m\u001B[43m(\u001B[49m\u001B[43m)\u001B[49m\n\u001B[0;32m     73\u001B[0m \u001B[38;5;28mself\u001B[39m\u001B[38;5;241m.\u001B[39mhomo_no_rh, \u001B[38;5;28mself\u001B[39m\u001B[38;5;241m.\u001B[39mlumo_no_rh \u001B[38;5;241m=\u001B[39m \u001B[38;5;28mself\u001B[39m\u001B[38;5;241m.\u001B[39m__get_homo_lumo(no_rh\u001B[38;5;241m=\u001B[39m\u001B[38;5;28;01mTrue\u001B[39;00m)\n\u001B[0;32m     74\u001B[0m \u001B[38;5;28mself\u001B[39m\u001B[38;5;241m.\u001B[39mdipole_no_rh \u001B[38;5;241m=\u001B[39m \u001B[38;5;28mself\u001B[39m\u001B[38;5;241m.\u001B[39m__get_dipole(no_rh\u001B[38;5;241m=\u001B[39m\u001B[38;5;28;01mTrue\u001B[39;00m)\n",
      "File \u001B[1;32mE:\\Data\\PythonProjects\\short_bridge\\parameter_extractor.py:284\u001B[0m, in \u001B[0;36mParameterExtractor.__set_lone_pair_orbital_distribution\u001B[1;34m(self)\u001B[0m\n\u001B[0;32m    282\u001B[0m pattern \u001B[38;5;241m=\u001B[39m \u001B[38;5;124mf\u001B[39m\u001B[38;5;124m\"\u001B[39m\u001B[38;5;124m\\\u001B[39m\u001B[38;5;124ms+LP\u001B[39m\u001B[38;5;124m\\\u001B[39m\u001B[38;5;124ms+\u001B[39m\u001B[38;5;124m\\\u001B[39m\u001B[38;5;124m(\u001B[39m\u001B[38;5;124m\\\u001B[39m\u001B[38;5;124ms+1\u001B[39m\u001B[38;5;124m\\\u001B[39m\u001B[38;5;124m)\u001B[39m\u001B[38;5;124m\\\u001B[39m\u001B[38;5;124ms*\u001B[39m\u001B[38;5;132;01m{\u001B[39;00matom_symbol\u001B[38;5;132;01m}\u001B[39;00m\u001B[38;5;124m\\\u001B[39m\u001B[38;5;124ms+\u001B[39m\u001B[38;5;132;01m{\u001B[39;00matom_idx\u001B[38;5;132;01m}\u001B[39;00m\u001B[38;5;124m\\\u001B[39m\u001B[38;5;124ms+s\u001B[39m\u001B[38;5;124m\\\u001B[39m\u001B[38;5;124m(\u001B[39m\u001B[38;5;124m\"\u001B[39m\n\u001B[0;32m    283\u001B[0m \u001B[38;5;28;01mfor\u001B[39;00m line \u001B[38;5;129;01min\u001B[39;00m orbital_occupancy_blocks[\u001B[38;5;241m-\u001B[39m\u001B[38;5;241m1\u001B[39m]:\n\u001B[1;32m--> 284\u001B[0m     \u001B[38;5;28;01mif\u001B[39;00m re\u001B[38;5;241m.\u001B[39msearch(pattern, line):\n\u001B[0;32m    285\u001B[0m         orbital_occ_raw_list \u001B[38;5;241m=\u001B[39m \u001B[38;5;28mstr\u001B[39m\u001B[38;5;241m.\u001B[39msplit(line)[\u001B[38;5;241m-\u001B[39m\u001B[38;5;241m5\u001B[39m:]\n\u001B[0;32m    286\u001B[0m         s, p, d \u001B[38;5;241m=\u001B[39m [\n\u001B[0;32m    287\u001B[0m             re\u001B[38;5;241m.\u001B[39msearch(\u001B[38;5;124mr\u001B[39m\u001B[38;5;124m'\u001B[39m\u001B[38;5;124m\\\u001B[39m\u001B[38;5;124md+\u001B[39m\u001B[38;5;124m\\\u001B[39m\u001B[38;5;124m.\u001B[39m\u001B[38;5;124m\\\u001B[39m\u001B[38;5;124md+(?=\u001B[39m\u001B[38;5;124m%\u001B[39m\u001B[38;5;124m)\u001B[39m\u001B[38;5;124m'\u001B[39m, item)\u001B[38;5;241m.\u001B[39mgroup()\n\u001B[0;32m    288\u001B[0m             \u001B[38;5;28;01mfor\u001B[39;00m item \u001B[38;5;129;01min\u001B[39;00m orbital_occ_raw_list\n\u001B[0;32m    289\u001B[0m             \u001B[38;5;28;01mif\u001B[39;00m re\u001B[38;5;241m.\u001B[39msearch(\u001B[38;5;124mr\u001B[39m\u001B[38;5;124m'\u001B[39m\u001B[38;5;124m\\\u001B[39m\u001B[38;5;124md+\u001B[39m\u001B[38;5;124m\\\u001B[39m\u001B[38;5;124m.\u001B[39m\u001B[38;5;124m\\\u001B[39m\u001B[38;5;124md+(?=\u001B[39m\u001B[38;5;124m%\u001B[39m\u001B[38;5;124m)\u001B[39m\u001B[38;5;124m'\u001B[39m, item)\n\u001B[0;32m    290\u001B[0m         ]\n",
      "\u001B[1;31mKeyboardInterrupt\u001B[0m: "
     ]
    }
   ],
   "execution_count": 24
  },
  {
   "metadata": {
    "ExecuteTime": {
     "end_time": "2025-01-26T18:53:45.727066Z",
     "start_time": "2025-01-26T18:53:45.710733Z"
    }
   },
   "cell_type": "code",
   "source": [
    "file_path = \"parameters_phd.csv\"\n",
    "df = pd.read_csv(file_path)"
   ],
   "id": "b6cafdd87dfcdddb",
   "outputs": [],
   "execution_count": 25
  },
  {
   "metadata": {
    "ExecuteTime": {
     "end_time": "2025-01-26T18:54:11.508481Z",
     "start_time": "2025-01-26T18:54:11.501238Z"
    }
   },
   "cell_type": "code",
   "source": "list(df.columns)",
   "id": "aa5c062fbab20d5d",
   "outputs": [
    {
     "data": {
      "text/plain": [
       "['ligand',\n",
       " 'homo',\n",
       " 'lumo',\n",
       " 'dipole',\n",
       " 'rh_charge',\n",
       " 'rh_LP_1_occ',\n",
       " 'rh_LP_1_eng',\n",
       " 'rh_LP_2_occ',\n",
       " 'rh_LP_2_eng',\n",
       " 'rh_LP_3_occ',\n",
       " 'rh_LP_3_eng',\n",
       " 'rh_LP_4_occ',\n",
       " 'rh_LP_4_eng',\n",
       " 'bite_angle',\n",
       " 'homo_no_rh',\n",
       " 'lumo_no_rh',\n",
       " 'dipole_no_rh',\n",
       " 'r1_nbo',\n",
       " 'r2_nbo',\n",
       " 'r3_nbo',\n",
       " 'r4_nbo',\n",
       " 'bridge_nbo',\n",
       " 'p1_nbo',\n",
       " 'p2_nbo',\n",
       " 'c1_nbo',\n",
       " 'c2_nbo',\n",
       " 'c3_nbo',\n",
       " 'c4_nbo',\n",
       " 'p1_nmr',\n",
       " 'p1_nmr_aniso',\n",
       " 'p2_nmr',\n",
       " 'p2_nmr_aniso',\n",
       " 'p1_rh_bond_occ',\n",
       " 'p2_rh_bond_occ',\n",
       " 'p1_rh_bond_eng',\n",
       " 'p2_rh_bond_eng',\n",
       " 'p1_rh_antibond_occ',\n",
       " 'p2_rh_antibond_occ',\n",
       " 'p1_rh_antibond_eng',\n",
       " 'p2_rh_antibond_eng',\n",
       " 'p1_r1_bond_occ',\n",
       " 'p1_r2_bond_occ',\n",
       " 'p2_r3_bond_occ',\n",
       " 'p2_r4_bond_occ',\n",
       " 'p1_r1_bond_eng',\n",
       " 'p1_r2_bond_eng',\n",
       " 'p2_r3_bond_eng',\n",
       " 'p2_r4_bond_eng',\n",
       " 'p1_r1_antibond_occ',\n",
       " 'p1_r2_antibond_occ',\n",
       " 'p2_r3_antibond_occ',\n",
       " 'p2_r4_antibond_occ',\n",
       " 'p1_r1_antibond_eng',\n",
       " 'p1_r2_antibond_eng',\n",
       " 'p2_r3_antibond_eng',\n",
       " 'p2_r4_antibond_eng',\n",
       " 'p1_bridge_bond_occ',\n",
       " 'p2_bridge_bond_occ',\n",
       " 'p1_bridge_bond_eng',\n",
       " 'p2_bridge_bond_eng',\n",
       " 'p1_bridge_antibond_occ',\n",
       " 'p2_bridge_antibond_occ',\n",
       " 'p1_bridge_antibond_eng',\n",
       " 'p2_bridge_antibond_eng',\n",
       " 'c1_rh_dist',\n",
       " 'c2_rh_dist',\n",
       " 'c3_rh_dist',\n",
       " 'c4_rh_dist',\n",
       " 'p1_c1_dist',\n",
       " 'p1_c2_dist',\n",
       " 'p2_c3_dist',\n",
       " 'p2_c4_dist',\n",
       " 'p1_bridge_dist',\n",
       " 'p2_bridge_dist',\n",
       " 'p1_angle_sum',\n",
       " 'p2_angle_sum',\n",
       " 'rh_p1_bridge_angle',\n",
       " 'rh_p2_bridge_angle',\n",
       " 'r1_p1_rh_angle',\n",
       " 'r2_p1_rh_angle',\n",
       " 'r3_p2_rh_angle',\n",
       " 'r4_p2_rh_angle',\n",
       " 'r1_p1_bridge_angle',\n",
       " 'r2_p1_bridge_angle',\n",
       " 'r3_p2_bridge_angle',\n",
       " 'r4_p2_bridge_angle',\n",
       " 'p1_nbo_no_rh',\n",
       " 'p2_nbo_no_rh',\n",
       " 'r1_nbo_no_rh',\n",
       " 'r2_nbo_no_rh',\n",
       " 'r3_nbo_no_rh',\n",
       " 'r4_nbo_no_rh',\n",
       " 'bridge_nbo_no_rh',\n",
       " 'p1_nmr_no_rh',\n",
       " 'p1_nmr_aniso_no_rh',\n",
       " 'p2_nmr_no_rh',\n",
       " 'p2_nmr_aniso_no_rh',\n",
       " 'p1_LP_occ_no_rh',\n",
       " 'p1_LP_eng_no_rh',\n",
       " 'p2_LP_occ_no_rh',\n",
       " 'p2_LP_eng_no_rh',\n",
       " 'p1_r1_bond_occ_no_rh',\n",
       " 'p1_r2_bond_occ_no_rh',\n",
       " 'p2_r3_bond_occ_no_rh',\n",
       " 'p2_r4_bond_occ_no_rh',\n",
       " 'p1_r1_bond_eng_no_rh',\n",
       " 'p1_r2_bond_eng_no_rh',\n",
       " 'p2_r3_bond_eng_no_rh',\n",
       " 'p2_r4_bond_eng_no_rh',\n",
       " 'p1_r1_antibond_occ_no_rh',\n",
       " 'p1_r2_antibond_occ_no_rh',\n",
       " 'p2_r3_antibond_occ_no_rh',\n",
       " 'p2_r4_antibond_occ_no_rh',\n",
       " 'p1_r1_antibond_eng_no_rh',\n",
       " 'p1_r2_antibond_eng_no_rh',\n",
       " 'p2_r3_antibond_eng_no_rh',\n",
       " 'p2_r4_antibond_eng_no_rh',\n",
       " 'p1_bridge_bond_occ_no_rh',\n",
       " 'p2_bridge_bond_occ_no_rh',\n",
       " 'p1_bridge_bond_eng_no_rh',\n",
       " 'p2_bridge_bond_eng_no_rh',\n",
       " 'p1_bridge_antibond_occ_no_rh',\n",
       " 'p2_bridge_antibond_occ_no_rh',\n",
       " 'p1_bridge_antibond_eng_no_rh',\n",
       " 'p2_bridge_antibond_eng_no_rh',\n",
       " 'p1_LP_s_occ_no_rh',\n",
       " 'p2_LP_s_occ_no_rh',\n",
       " 'Vbur%_1.0',\n",
       " 'NE_1.0',\n",
       " 'NW_1.0',\n",
       " 'SE_1.0',\n",
       " 'SW_1.0',\n",
       " 'Vbur%_2.0',\n",
       " 'NE_2.0',\n",
       " 'NW_2.0',\n",
       " 'SE_2.0',\n",
       " 'SW_2.0',\n",
       " 'Vbur%_3.0',\n",
       " 'NE_3.0',\n",
       " 'NW_3.0',\n",
       " 'SE_3.0',\n",
       " 'SW_3.0',\n",
       " 'Vbur%_4.0',\n",
       " 'NE_4.0',\n",
       " 'NW_4.0',\n",
       " 'SE_4.0',\n",
       " 'SW_4.0',\n",
       " 'Vbur%_5.0',\n",
       " 'NE_5.0',\n",
       " 'NW_5.0',\n",
       " 'SE_5.0',\n",
       " 'SW_5.0',\n",
       " 'Vbur%_6.0',\n",
       " 'NE_6.0',\n",
       " 'NW_6.0',\n",
       " 'SE_6.0',\n",
       " 'SW_6.0']"
      ]
     },
     "execution_count": 28,
     "metadata": {},
     "output_type": "execute_result"
    }
   ],
   "execution_count": 28
  }
 ],
 "metadata": {
  "kernelspec": {
   "display_name": "Python 3 (ipykernel)",
   "language": "python",
   "name": "python3"
  },
  "language_info": {
   "codemirror_mode": {
    "name": "ipython",
    "version": 3
   },
   "file_extension": ".py",
   "mimetype": "text/x-python",
   "name": "python",
   "nbconvert_exporter": "python",
   "pygments_lexer": "ipython3",
   "version": "3.11.7"
  }
 },
 "nbformat": 4,
 "nbformat_minor": 5
}
