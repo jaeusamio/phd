{
 "cells": [
  {
   "cell_type": "code",
   "id": "initial_id",
   "metadata": {
    "ExecuteTime": {
     "end_time": "2024-11-21T13:25:34.035358Z",
     "start_time": "2024-11-21T13:25:34.028597Z"
    }
   },
   "source": [
    "import os.path\n",
    "import numpy as np\n",
    "import pandas as pd\n",
    "from morfeus.buried_volume import BuriedVolume\n",
    "from rdkit.Chem.Draw import IPythonConsole\n",
    "from rdkit.Chem.Draw.MolDrawing import DrawingOptions\n",
    "from parameter_extractor import ParameterExtractor, Property\n",
    "\n",
    "IPythonConsole.molSize = (300, 300)  # Change image size\n",
    "DrawingOptions.bondLineWidth = 1.8"
   ],
   "outputs": [],
   "execution_count": 23
  },
  {
   "cell_type": "code",
   "id": "a9a53965bad2d575",
   "metadata": {
    "ExecuteTime": {
     "end_time": "2024-11-21T10:14:55.221371Z",
     "start_time": "2024-11-21T10:14:55.214108Z"
    }
   },
   "source": [
    "filename = \"l_2\"\n",
    "path = f\"./out/spe/{filename}_SPE.out\"\n",
    "path_no_rh = f\"./out/spe_no_rh/{filename}_SPE_NoRh.out\"\n",
    "if not os.path.exists(path_no_rh):\n",
    "    print(path_no_rh + \" does not exist\")"
   ],
   "outputs": [],
   "execution_count": 2
  },
  {
   "cell_type": "code",
   "id": "9ac12ab947877846",
   "metadata": {
    "ExecuteTime": {
     "end_time": "2024-11-21T10:14:58.812802Z",
     "start_time": "2024-11-21T10:14:57.923836Z"
    }
   },
   "source": "comp = ParameterExtractor(path=path, no_rh_path=path_no_rh)",
   "outputs": [],
   "execution_count": 3
  },
  {
   "cell_type": "code",
   "id": "932a04594ed5d5b3",
   "metadata": {
    "ExecuteTime": {
     "end_time": "2024-11-21T10:13:36.455336Z",
     "start_time": "2024-11-21T10:13:36.447241Z"
    }
   },
   "source": [
    "bite_angle = comp.get_angle(comp.p1, comp.rh, comp.p2)\n",
    "p1_rh_dist = comp.get_bond_distance(comp.p1, comp.rh)\n",
    "p2_rh_dist = comp.get_bond_distance(comp.p2, comp.rh)\n",
    "p1_bridge_dist = comp.get_bond_distance(comp.p1, comp.bridge)\n",
    "p2_bridge_dist = comp.get_bond_distance(comp.p2, comp.bridge)\n",
    "bridge_angle = comp.get_angle(comp.p1, comp.bridge, comp.p2)\n",
    "\n",
    "print(\"P1-Rh: \" + str(p1_rh_dist), \"P2-Rh: \" + str(p2_rh_dist), \"P1-Bridge: \" + str(p1_bridge_dist),\n",
    "      \"P2-Bridge: \" + str(p2_bridge_dist), \"Bite angle: \" + str(bite_angle), \"Bridge angle: \" + str(bridge_angle))"
   ],
   "outputs": [
    {
     "name": "stdout",
     "output_type": "stream",
     "text": [
      "P1-Rh: 2.3719312711164293 P2-Rh: 2.37194201200198 P1-Bridge: 1.8750391887104654 P2-Bridge: 1.8749946723657644 Bite angle: 72.70956883041772 Bridge angle: 97.16063672571833\n"
     ]
    }
   ],
   "execution_count": 8
  },
  {
   "cell_type": "code",
   "id": "fb26b5a8e4ecc311",
   "metadata": {
    "ExecuteTime": {
     "end_time": "2024-11-21T10:13:36.482276Z",
     "start_time": "2024-11-21T10:13:36.471371Z"
    }
   },
   "source": [
    "comp.dipole"
   ],
   "outputs": [
    {
     "data": {
      "text/plain": [
       "1.9588"
      ]
     },
     "execution_count": 9,
     "metadata": {},
     "output_type": "execute_result"
    }
   ],
   "execution_count": 9
  },
  {
   "metadata": {
    "ExecuteTime": {
     "end_time": "2024-11-21T10:13:36.511790Z",
     "start_time": "2024-11-21T10:13:36.501789Z"
    }
   },
   "cell_type": "code",
   "source": [
    "r1_p1_r2_angle = comp.get_angle(comp.r1, comp.p1, comp.r2)\n",
    "r1_p1_rh_angle = comp.get_angle(comp.r1, comp.p1, comp.rh)\n",
    "rh_p1_bridge_angle = comp.get_angle(comp.rh, comp.p1, comp.bridge)\n",
    "r1_p1_bridge_angle = comp.get_angle(comp.r1, comp.p1, comp.bridge)\n",
    "r2_p1_bridge_angle = comp.get_angle(comp.r2, comp.p1, comp.bridge)\n",
    "r2_p1_rh_angle = comp.get_angle(comp.r2, comp.p1, comp.rh)\n",
    "\n",
    "p1_angle_sum = r1_p1_bridge_angle + r1_p1_r2_angle + r2_p1_bridge_angle\n",
    "p1_angle_sum"
   ],
   "id": "9f0671b96a0d5350",
   "outputs": [
    {
     "data": {
      "text/plain": [
       "317.8066693255203"
      ]
     },
     "execution_count": 10,
     "metadata": {},
     "output_type": "execute_result"
    }
   ],
   "execution_count": 10
  },
  {
   "metadata": {
    "ExecuteTime": {
     "end_time": "2024-11-21T10:13:36.532476Z",
     "start_time": "2024-11-21T10:13:36.521603Z"
    }
   },
   "cell_type": "code",
   "source": [
    "r3_p2_r4_angle = comp.get_angle(comp.r3, comp.p2, comp.r4)\n",
    "r3_p2_rh_angle = comp.get_angle(comp.r3, comp.p2, comp.rh)\n",
    "rh_p2_bridge_angle = comp.get_angle(comp.rh, comp.p2, comp.bridge)\n",
    "r3_p2_bridge_angle = comp.get_angle(comp.r3, comp.p2, comp.bridge)\n",
    "r4_p2_bridge_angle = comp.get_angle(comp.r4, comp.p2, comp.bridge)\n",
    "r4_p2_rh_angle = comp.get_angle(comp.r4, comp.p2, comp.rh)\n",
    "\n",
    "p2_angle_sum = r3_p2_bridge_angle + r3_p2_r4_angle + r4_p2_bridge_angle\n",
    "p2_angle_sum"
   ],
   "id": "bcba7d3018ae8ffd",
   "outputs": [
    {
     "data": {
      "text/plain": [
       "317.80297812394565"
      ]
     },
     "execution_count": 11,
     "metadata": {},
     "output_type": "execute_result"
    }
   ],
   "execution_count": 11
  },
  {
   "metadata": {
    "ExecuteTime": {
     "end_time": "2024-11-21T10:13:36.551030Z",
     "start_time": "2024-11-21T10:13:36.543556Z"
    }
   },
   "cell_type": "code",
   "source": "comp.mol.GetBondBetweenAtoms(comp.p1.GetIdx(), comp.rh.GetIdx()).GetProp(Property.BOND_OCCUPANCY.value)",
   "id": "6092306c6ae347c5",
   "outputs": [
    {
     "data": {
      "text/plain": [
       "'1.89836'"
      ]
     },
     "execution_count": 12,
     "metadata": {},
     "output_type": "execute_result"
    }
   ],
   "execution_count": 12
  },
  {
   "metadata": {
    "ExecuteTime": {
     "end_time": "2024-11-21T10:13:36.571641Z",
     "start_time": "2024-11-21T10:13:36.563338Z"
    }
   },
   "cell_type": "code",
   "source": "comp.p1.GetPropsAsDict()",
   "id": "897ce52ddaca7c44",
   "outputs": [
    {
     "data": {
      "text/plain": [
       "{'nbo_charge': 1.1076,\n",
       " 'nmr_isotropic': 319.369,\n",
       " 'nmr_anisotropic': 118.7911,\n",
       " 'molAtomMapNumber': 38,\n",
       " 'nbo_charge_no_rh': 0.79838,\n",
       " 'nmr_isotropic_no_rh': 241.6574,\n",
       " 'nmr_anisotropic_no_rh': 93.1935,\n",
       " 'lone_pair_occupancy_no_rh_1': 1.93141,\n",
       " 'lone_pair_energy_no_rh_1': -0.33356}"
      ]
     },
     "execution_count": 13,
     "metadata": {},
     "output_type": "execute_result"
    }
   ],
   "execution_count": 13
  },
  {
   "metadata": {
    "jupyter": {
     "is_executing": true
    },
    "ExecuteTime": {
     "start_time": "2024-11-21T10:13:36.583551Z"
    }
   },
   "cell_type": "code",
   "source": [
    "df = pd.DataFrame()\n",
    "param_list = []\n",
    "for file in os.listdir(\"./out/spe/\"):\n",
    "    filename = file.split(\".\")[0]\n",
    "    ligand_name = filename.replace(\"_SPE\", \"\")\n",
    "    path = f\"./out/spe/{filename}.out\"\n",
    "    path_no_rh = f\"./out/spe_no_rh/{filename}_NoRh.out\"\n",
    "    if not os.path.exists(path_no_rh):\n",
    "        print(path_no_rh + \" does not exist\")\n",
    "        continue\n",
    "    comp = ParameterExtractor(path=path, no_rh_path=path_no_rh)\n",
    "    param_dict = {\n",
    "        \"ligand\": ligand_name,\n",
    "        \"homo\": comp.homo,\n",
    "        \"lumo\": comp.lumo,\n",
    "        \"dipole\": comp.dipole,\n",
    "        \"rh_charge\": comp.rh.GetProp(Property.CHARGE.value),\n",
    "        \"rh_LP_1_occ\": comp.rh.GetProp(Property.LONE_PAIR_OCCUPANCY_1.value),\n",
    "        \"rh_LP_1_eng\": comp.rh.GetProp(Property.LONE_PAIR_ENERGY_1.value),\n",
    "        \"rh_LP_2_occ\": comp.rh.GetProp(Property.LONE_PAIR_OCCUPANCY_2.value),\n",
    "        \"rh_LP_2_eng\": comp.rh.GetProp(Property.LONE_PAIR_ENERGY_2.value),\n",
    "        \"rh_LP_3_occ\": comp.rh.GetProp(Property.LONE_PAIR_OCCUPANCY_3.value),\n",
    "        \"rh_LP_3_eng\": comp.rh.GetProp(Property.LONE_PAIR_ENERGY_3.value),\n",
    "        \"rh_LP_4_occ\": comp.rh.GetProp(Property.LONE_PAIR_OCCUPANCY_4.value),\n",
    "        \"rh_LP_4_eng\": comp.rh.GetProp(Property.LONE_PAIR_ENERGY_4.value),\n",
    "        \"bite_angle\": comp.get_angle(comp.p1, comp.bridge, comp.p2),\n",
    "        \"homo_no_rh\": comp.homo_no_rh,\n",
    "        \"lumo_no_rh\": comp.lumo_no_rh,\n",
    "        \"dipole_no_rh\": comp.dipole_no_rh,\n",
    "        # missing polarizability, I don't know where to get it from, but does not seem important\n",
    "    }\n",
    "    param_list.append(param_dict)\n",
    "    print(ligand_name + \" DONE\")\n",
    "df = pd.DataFrame(param_list)"
   ],
   "id": "5ac6efeb68d64ccd",
   "outputs": [
    {
     "name": "stdout",
     "output_type": "stream",
     "text": [
      "l_10 DONE\n",
      "l_11 DONE\n",
      "l_12 DONE\n",
      "l_13 DONE\n",
      "l_14 DONE\n",
      "l_15 DONE\n",
      "l_16 DONE\n",
      "l_17 DONE\n",
      "l_18 DONE\n",
      "l_19 DONE\n",
      "l_1 DONE\n",
      "l_20b DONE\n",
      "l_21 DONE\n",
      "l_22 DONE\n",
      "l_23 DONE\n",
      "l_24 DONE\n",
      "l_25 DONE\n",
      "l_26 DONE\n",
      "l_27 DONE\n",
      "l_28 DONE\n",
      "l_29 DONE\n",
      "l_2 DONE\n",
      "l_30 DONE\n",
      "l_31 DONE\n",
      "l_32a DONE\n"
     ]
    }
   ],
   "execution_count": null
  },
  {
   "metadata": {
    "ExecuteTime": {
     "end_time": "2024-11-20T14:57:36.041976Z",
     "start_time": "2024-11-20T14:57:36.015900Z"
    }
   },
   "cell_type": "code",
   "source": "df",
   "id": "b6cafdd87dfcdddb",
   "outputs": [
    {
     "data": {
      "text/plain": [
       "   ligand     homo     lumo  dipole rh_charge rh_LP_1_occ rh_LP_1_eng  \\\n",
       "0    l_10 -0.30854 -0.16412  1.1953  -0.34364     1.98349    -0.31041   \n",
       "1    l_11 -0.31317 -0.16905  0.9229  -0.34856     1.98359    -0.31525   \n",
       "2    l_12 -0.30549 -0.16352  2.3293  -0.36670     1.98320    -0.30691   \n",
       "3    l_13 -0.31265 -0.16971  1.7843  -0.36261     1.98181    -0.31413   \n",
       "4    l_14 -0.30035 -0.15854  3.2379  -0.30737     1.98268    -0.30211   \n",
       "..    ...      ...      ...     ...       ...         ...         ...   \n",
       "72    l_8 -0.31190 -0.16571  1.6657  -0.35261     1.98477    -0.31359   \n",
       "73   l_90 -0.30978 -0.16505  1.7988  -0.35457     1.97948    -0.31016   \n",
       "74   l_91 -0.30633 -0.16210  0.4263  -0.35034     1.97891    -0.30601   \n",
       "75   l_92 -0.30761 -0.16360  1.6455  -0.32650     1.98221    -0.30585   \n",
       "76   l_9b -0.30280 -0.15801  1.4949  -0.39330     1.98293    -0.30777   \n",
       "\n",
       "   rh_LP_2_occ rh_LP_2_eng rh_LP_3_occ rh_LP_3_eng rh_LP_4_occ rh_LP_4_eng  \\\n",
       "0      1.95575    -0.36266     1.79816    -0.32357     1.78943    -0.32714   \n",
       "1      1.95533    -0.36772     1.80166    -0.32999     1.78555    -0.33066   \n",
       "2      1.95379    -0.36021     1.80175    -0.31996     1.79594    -0.32619   \n",
       "3      1.95395    -0.36583     1.80299    -0.32722     1.79435    -0.33069   \n",
       "4      1.95468    -0.35516     1.80823    -0.31759     1.78185    -0.31810   \n",
       "..         ...         ...         ...         ...         ...         ...   \n",
       "72     1.95807    -0.36465     1.80738    -0.32818     1.78242    -0.32740   \n",
       "73     1.95435    -0.36466     1.80425    -0.32558     1.78601    -0.32540   \n",
       "74     1.95465    -0.36093     1.80426    -0.32186     1.78426    -0.32178   \n",
       "75     1.95789    -0.36148     1.79773    -0.31803     1.79284    -0.32762   \n",
       "76     1.95240    -0.35934     1.79972    -0.32250     1.78827    -0.31861   \n",
       "\n",
       "    bite_angle  homo_no_rh  lumo_no_rh  dipole_no_rh  \n",
       "0    98.294533    -0.18560    -0.02563        1.5374  \n",
       "1    97.829436    -0.18959    -0.03209        0.9771  \n",
       "2    97.103496    -0.18398    -0.02436        1.3532  \n",
       "3    97.330332    -0.18901    -0.03116        1.1617  \n",
       "4    96.503755    -0.18430    -0.05829        1.6744  \n",
       "..         ...         ...         ...           ...  \n",
       "72   98.796278    -0.17996     0.01653        1.7227  \n",
       "73   97.032439    -0.18018    -0.02270        1.7804  \n",
       "74   97.153959    -0.17846    -0.02214        1.8019  \n",
       "75   98.598399    -0.18419    -0.02165        1.8320  \n",
       "76   96.727293    -0.17736    -0.01968        2.3010  \n",
       "\n",
       "[77 rows x 17 columns]"
      ],
      "text/html": [
       "<div>\n",
       "<style scoped>\n",
       "    .dataframe tbody tr th:only-of-type {\n",
       "        vertical-align: middle;\n",
       "    }\n",
       "\n",
       "    .dataframe tbody tr th {\n",
       "        vertical-align: top;\n",
       "    }\n",
       "\n",
       "    .dataframe thead th {\n",
       "        text-align: right;\n",
       "    }\n",
       "</style>\n",
       "<table border=\"1\" class=\"dataframe\">\n",
       "  <thead>\n",
       "    <tr style=\"text-align: right;\">\n",
       "      <th></th>\n",
       "      <th>ligand</th>\n",
       "      <th>homo</th>\n",
       "      <th>lumo</th>\n",
       "      <th>dipole</th>\n",
       "      <th>rh_charge</th>\n",
       "      <th>rh_LP_1_occ</th>\n",
       "      <th>rh_LP_1_eng</th>\n",
       "      <th>rh_LP_2_occ</th>\n",
       "      <th>rh_LP_2_eng</th>\n",
       "      <th>rh_LP_3_occ</th>\n",
       "      <th>rh_LP_3_eng</th>\n",
       "      <th>rh_LP_4_occ</th>\n",
       "      <th>rh_LP_4_eng</th>\n",
       "      <th>bite_angle</th>\n",
       "      <th>homo_no_rh</th>\n",
       "      <th>lumo_no_rh</th>\n",
       "      <th>dipole_no_rh</th>\n",
       "    </tr>\n",
       "  </thead>\n",
       "  <tbody>\n",
       "    <tr>\n",
       "      <th>0</th>\n",
       "      <td>l_10</td>\n",
       "      <td>-0.30854</td>\n",
       "      <td>-0.16412</td>\n",
       "      <td>1.1953</td>\n",
       "      <td>-0.34364</td>\n",
       "      <td>1.98349</td>\n",
       "      <td>-0.31041</td>\n",
       "      <td>1.95575</td>\n",
       "      <td>-0.36266</td>\n",
       "      <td>1.79816</td>\n",
       "      <td>-0.32357</td>\n",
       "      <td>1.78943</td>\n",
       "      <td>-0.32714</td>\n",
       "      <td>98.294533</td>\n",
       "      <td>-0.18560</td>\n",
       "      <td>-0.02563</td>\n",
       "      <td>1.5374</td>\n",
       "    </tr>\n",
       "    <tr>\n",
       "      <th>1</th>\n",
       "      <td>l_11</td>\n",
       "      <td>-0.31317</td>\n",
       "      <td>-0.16905</td>\n",
       "      <td>0.9229</td>\n",
       "      <td>-0.34856</td>\n",
       "      <td>1.98359</td>\n",
       "      <td>-0.31525</td>\n",
       "      <td>1.95533</td>\n",
       "      <td>-0.36772</td>\n",
       "      <td>1.80166</td>\n",
       "      <td>-0.32999</td>\n",
       "      <td>1.78555</td>\n",
       "      <td>-0.33066</td>\n",
       "      <td>97.829436</td>\n",
       "      <td>-0.18959</td>\n",
       "      <td>-0.03209</td>\n",
       "      <td>0.9771</td>\n",
       "    </tr>\n",
       "    <tr>\n",
       "      <th>2</th>\n",
       "      <td>l_12</td>\n",
       "      <td>-0.30549</td>\n",
       "      <td>-0.16352</td>\n",
       "      <td>2.3293</td>\n",
       "      <td>-0.36670</td>\n",
       "      <td>1.98320</td>\n",
       "      <td>-0.30691</td>\n",
       "      <td>1.95379</td>\n",
       "      <td>-0.36021</td>\n",
       "      <td>1.80175</td>\n",
       "      <td>-0.31996</td>\n",
       "      <td>1.79594</td>\n",
       "      <td>-0.32619</td>\n",
       "      <td>97.103496</td>\n",
       "      <td>-0.18398</td>\n",
       "      <td>-0.02436</td>\n",
       "      <td>1.3532</td>\n",
       "    </tr>\n",
       "    <tr>\n",
       "      <th>3</th>\n",
       "      <td>l_13</td>\n",
       "      <td>-0.31265</td>\n",
       "      <td>-0.16971</td>\n",
       "      <td>1.7843</td>\n",
       "      <td>-0.36261</td>\n",
       "      <td>1.98181</td>\n",
       "      <td>-0.31413</td>\n",
       "      <td>1.95395</td>\n",
       "      <td>-0.36583</td>\n",
       "      <td>1.80299</td>\n",
       "      <td>-0.32722</td>\n",
       "      <td>1.79435</td>\n",
       "      <td>-0.33069</td>\n",
       "      <td>97.330332</td>\n",
       "      <td>-0.18901</td>\n",
       "      <td>-0.03116</td>\n",
       "      <td>1.1617</td>\n",
       "    </tr>\n",
       "    <tr>\n",
       "      <th>4</th>\n",
       "      <td>l_14</td>\n",
       "      <td>-0.30035</td>\n",
       "      <td>-0.15854</td>\n",
       "      <td>3.2379</td>\n",
       "      <td>-0.30737</td>\n",
       "      <td>1.98268</td>\n",
       "      <td>-0.30211</td>\n",
       "      <td>1.95468</td>\n",
       "      <td>-0.35516</td>\n",
       "      <td>1.80823</td>\n",
       "      <td>-0.31759</td>\n",
       "      <td>1.78185</td>\n",
       "      <td>-0.31810</td>\n",
       "      <td>96.503755</td>\n",
       "      <td>-0.18430</td>\n",
       "      <td>-0.05829</td>\n",
       "      <td>1.6744</td>\n",
       "    </tr>\n",
       "    <tr>\n",
       "      <th>...</th>\n",
       "      <td>...</td>\n",
       "      <td>...</td>\n",
       "      <td>...</td>\n",
       "      <td>...</td>\n",
       "      <td>...</td>\n",
       "      <td>...</td>\n",
       "      <td>...</td>\n",
       "      <td>...</td>\n",
       "      <td>...</td>\n",
       "      <td>...</td>\n",
       "      <td>...</td>\n",
       "      <td>...</td>\n",
       "      <td>...</td>\n",
       "      <td>...</td>\n",
       "      <td>...</td>\n",
       "      <td>...</td>\n",
       "      <td>...</td>\n",
       "    </tr>\n",
       "    <tr>\n",
       "      <th>72</th>\n",
       "      <td>l_8</td>\n",
       "      <td>-0.31190</td>\n",
       "      <td>-0.16571</td>\n",
       "      <td>1.6657</td>\n",
       "      <td>-0.35261</td>\n",
       "      <td>1.98477</td>\n",
       "      <td>-0.31359</td>\n",
       "      <td>1.95807</td>\n",
       "      <td>-0.36465</td>\n",
       "      <td>1.80738</td>\n",
       "      <td>-0.32818</td>\n",
       "      <td>1.78242</td>\n",
       "      <td>-0.32740</td>\n",
       "      <td>98.796278</td>\n",
       "      <td>-0.17996</td>\n",
       "      <td>0.01653</td>\n",
       "      <td>1.7227</td>\n",
       "    </tr>\n",
       "    <tr>\n",
       "      <th>73</th>\n",
       "      <td>l_90</td>\n",
       "      <td>-0.30978</td>\n",
       "      <td>-0.16505</td>\n",
       "      <td>1.7988</td>\n",
       "      <td>-0.35457</td>\n",
       "      <td>1.97948</td>\n",
       "      <td>-0.31016</td>\n",
       "      <td>1.95435</td>\n",
       "      <td>-0.36466</td>\n",
       "      <td>1.80425</td>\n",
       "      <td>-0.32558</td>\n",
       "      <td>1.78601</td>\n",
       "      <td>-0.32540</td>\n",
       "      <td>97.032439</td>\n",
       "      <td>-0.18018</td>\n",
       "      <td>-0.02270</td>\n",
       "      <td>1.7804</td>\n",
       "    </tr>\n",
       "    <tr>\n",
       "      <th>74</th>\n",
       "      <td>l_91</td>\n",
       "      <td>-0.30633</td>\n",
       "      <td>-0.16210</td>\n",
       "      <td>0.4263</td>\n",
       "      <td>-0.35034</td>\n",
       "      <td>1.97891</td>\n",
       "      <td>-0.30601</td>\n",
       "      <td>1.95465</td>\n",
       "      <td>-0.36093</td>\n",
       "      <td>1.80426</td>\n",
       "      <td>-0.32186</td>\n",
       "      <td>1.78426</td>\n",
       "      <td>-0.32178</td>\n",
       "      <td>97.153959</td>\n",
       "      <td>-0.17846</td>\n",
       "      <td>-0.02214</td>\n",
       "      <td>1.8019</td>\n",
       "    </tr>\n",
       "    <tr>\n",
       "      <th>75</th>\n",
       "      <td>l_92</td>\n",
       "      <td>-0.30761</td>\n",
       "      <td>-0.16360</td>\n",
       "      <td>1.6455</td>\n",
       "      <td>-0.32650</td>\n",
       "      <td>1.98221</td>\n",
       "      <td>-0.30585</td>\n",
       "      <td>1.95789</td>\n",
       "      <td>-0.36148</td>\n",
       "      <td>1.79773</td>\n",
       "      <td>-0.31803</td>\n",
       "      <td>1.79284</td>\n",
       "      <td>-0.32762</td>\n",
       "      <td>98.598399</td>\n",
       "      <td>-0.18419</td>\n",
       "      <td>-0.02165</td>\n",
       "      <td>1.8320</td>\n",
       "    </tr>\n",
       "    <tr>\n",
       "      <th>76</th>\n",
       "      <td>l_9b</td>\n",
       "      <td>-0.30280</td>\n",
       "      <td>-0.15801</td>\n",
       "      <td>1.4949</td>\n",
       "      <td>-0.39330</td>\n",
       "      <td>1.98293</td>\n",
       "      <td>-0.30777</td>\n",
       "      <td>1.95240</td>\n",
       "      <td>-0.35934</td>\n",
       "      <td>1.79972</td>\n",
       "      <td>-0.32250</td>\n",
       "      <td>1.78827</td>\n",
       "      <td>-0.31861</td>\n",
       "      <td>96.727293</td>\n",
       "      <td>-0.17736</td>\n",
       "      <td>-0.01968</td>\n",
       "      <td>2.3010</td>\n",
       "    </tr>\n",
       "  </tbody>\n",
       "</table>\n",
       "<p>77 rows × 17 columns</p>\n",
       "</div>"
      ]
     },
     "execution_count": 21,
     "metadata": {},
     "output_type": "execute_result"
    }
   ],
   "execution_count": 21
  },
  {
   "metadata": {
    "ExecuteTime": {
     "end_time": "2024-11-21T13:23:44.112978Z",
     "start_time": "2024-11-21T13:23:44.107043Z"
    }
   },
   "cell_type": "code",
   "source": [
    "atoms = comp.mol.GetAtoms()\n",
    "elements = [a.GetSymbol() for a in atoms]\n",
    "metal_index = comp.rh.GetIdx() + 1\n",
    "conformer = comp.mol.GetConformer()\n",
    "coordinates = [np.array([coord.x, coord.y, coord.z]) for coord in (conformer.GetAtomPosition(a.GetIdx()) for a in atoms)]\n",
    "BuriedVolume()"
   ],
   "id": "5569e77efafbdff9",
   "outputs": [],
   "execution_count": 20
  },
  {
   "metadata": {
    "ExecuteTime": {
     "end_time": "2024-11-21T13:29:25.856214Z",
     "start_time": "2024-11-21T13:29:25.837209Z"
    }
   },
   "cell_type": "code",
   "source": "coordinates",
   "id": "8b4bf008687699ac",
   "outputs": [
    {
     "data": {
      "text/plain": [
       "[array([2.43451e+00, 1.06000e-02, 1.92000e-03]),\n",
       " array([ 3.07728, -0.29538, -0.82292]),\n",
       " array([3.07171, 0.32266, 0.82881]),\n",
       " array([ 1.52523, -1.53962,  2.32611]),\n",
       " array([ 2.54889, -1.86612,  2.50961]),\n",
       " array([ 0.83447, -2.27426,  2.73786]),\n",
       " array([ 1.35422, -0.59262,  2.83688]),\n",
       " array([ 1.7007 , -2.92877, -0.32389]),\n",
       " array([ 0.79111, -4.04883,  0.20905]),\n",
       " array([ 1.03107, -4.98156, -0.30694]),\n",
       " array([-0.26586, -3.84309,  0.03295]),\n",
       " array([ 0.93438, -4.2251 ,  1.27613]),\n",
       " array([ 3.16955, -3.26923, -0.02936]),\n",
       " array([ 3.35114, -3.44216,  1.03209]),\n",
       " array([ 3.85542, -2.49311, -0.37364]),\n",
       " array([ 3.43494, -4.19007, -0.55514]),\n",
       " array([ 1.49191, -2.76466, -1.8375 ]),\n",
       " array([ 1.72278, -3.70738, -2.33922]),\n",
       " array([ 2.1506 , -2.00554, -2.26464]),\n",
       " array([ 0.46161, -2.49885, -2.08002]),\n",
       " array([ 1.51447,  1.5501 , -2.32507]),\n",
       " array([ 2.53558,  1.88494, -2.50786]),\n",
       " array([ 0.81806,  2.27851, -2.73836]),\n",
       " array([ 1.35191,  0.60119, -2.835  ]),\n",
       " array([1.67488, 2.94378, 0.32351]),\n",
       " array([3.14115, 3.29637, 0.03047]),\n",
       " array([3.398  , 4.22013, 0.55537]),\n",
       " array([ 3.32261,  3.4694 , -1.03098]),\n",
       " array([3.83314, 2.52657, 0.37669]),\n",
       " array([ 0.75648,  4.05542, -0.21192]),\n",
       " array([0.9877 , 4.99074, 0.3034 ]),\n",
       " array([-0.29897,  3.84089, -0.0371 ]),\n",
       " array([ 0.89975,  4.2318 , -1.27897]),\n",
       " array([1.46545, 2.77968, 1.83706]),\n",
       " array([2.13027, 2.027  , 2.26611]),\n",
       " array([0.43722, 2.50501, 2.0785 ]),\n",
       " array([1.68724, 3.72505, 2.33791]),\n",
       " array([-2.37546, -1.55055, -0.20154]),\n",
       " array([-1.8481 , -2.43109, -0.54976]),\n",
       " array([-2.23791, -1.22791,  1.13229]),\n",
       " array([-1.64794, -1.90029,  1.74664]),\n",
       " array([-3.07539, -0.24725,  1.91422]),\n",
       " array([-3.97483, -0.74845,  2.29306]),\n",
       " array([-2.50503,  0.04612,  2.79828]),\n",
       " array([-3.47606,  1.0186 ,  1.12746]),\n",
       " array([-3.71852,  1.80664,  1.84224]),\n",
       " array([-4.3881 ,  0.84106,  0.55856]),\n",
       " array([-2.38834,  1.53031,  0.20118]),\n",
       " array([-1.86812,  2.415  ,  0.54961]),\n",
       " array([-2.24798,  1.20902, -1.13265]),\n",
       " array([-1.66352,  1.88637, -1.74683]),\n",
       " array([-3.07675,  0.22121, -1.91479]),\n",
       " array([-3.98015,  0.71464, -2.29436]),\n",
       " array([-2.50333, -0.06758, -2.79839]),\n",
       " array([-3.46718, -1.04781, -1.12799]),\n",
       " array([-4.38071, -0.87767, -0.55922]),\n",
       " array([-3.70312, -1.8378 , -1.84277]),\n",
       " array([ 1.19945, -1.30156,  0.52022]),\n",
       " array([ 1.18869,  1.31133, -0.51927]),\n",
       " array([-7.1618e-01, -3.2200e-03, -1.0000e-04])]"
      ]
     },
     "execution_count": 29,
     "metadata": {},
     "output_type": "execute_result"
    }
   ],
   "execution_count": 29
  }
 ],
 "metadata": {
  "kernelspec": {
   "display_name": "Python 3 (ipykernel)",
   "language": "python",
   "name": "python3"
  },
  "language_info": {
   "codemirror_mode": {
    "name": "ipython",
    "version": 3
   },
   "file_extension": ".py",
   "mimetype": "text/x-python",
   "name": "python",
   "nbconvert_exporter": "python",
   "pygments_lexer": "ipython3",
   "version": "3.11.7"
  }
 },
 "nbformat": 4,
 "nbformat_minor": 5
}
