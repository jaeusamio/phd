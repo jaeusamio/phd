{
 "cells": [
  {
   "cell_type": "code",
   "id": "initial_id",
   "metadata": {
    "ExecuteTime": {
     "end_time": "2025-01-25T16:47:48.772730Z",
     "start_time": "2025-01-25T16:47:48.766561Z"
    }
   },
   "source": [
    "import os.path\n",
    "import pandas as pd\n",
    "import matplotlib.pyplot as plt\n",
    "from rdkit.Chem.Draw import IPythonConsole\n",
    "from rdkit.Chem.Draw.MolDrawing import DrawingOptions\n",
    "from parameter_extractor import ParameterExtractor, Property\n",
    "\n",
    "IPythonConsole.molSize = (300, 300)  # Change image size\n",
    "DrawingOptions.bondLineWidth = 1.8"
   ],
   "outputs": [],
   "execution_count": 36
  },
  {
   "cell_type": "code",
   "id": "a9a53965bad2d575",
   "metadata": {
    "ExecuteTime": {
     "end_time": "2025-01-21T15:30:40.786391Z",
     "start_time": "2025-01-21T15:30:40.779490Z"
    }
   },
   "source": [
    "filename = \"l_15\"\n",
    "path = f\"./out/spe/{filename}_SPE.out\"\n",
    "path_no_rh = f\"./out/spe_no_rh/{filename}_SPE_NoRh.out\"\n",
    "if not os.path.exists(path_no_rh):\n",
    "    print(path_no_rh + \" does not exist\")"
   ],
   "outputs": [],
   "execution_count": 2
  },
  {
   "cell_type": "code",
   "id": "9ac12ab947877846",
   "metadata": {
    "ExecuteTime": {
     "end_time": "2025-01-21T15:30:50.853944Z",
     "start_time": "2025-01-21T15:30:42.409598Z"
    }
   },
   "source": "comp = ParameterExtractor(path=path, no_rh_path=path_no_rh)",
   "outputs": [],
   "execution_count": 3
  },
  {
   "cell_type": "code",
   "id": "932a04594ed5d5b3",
   "metadata": {
    "ExecuteTime": {
     "end_time": "2024-11-21T10:13:36.455336Z",
     "start_time": "2024-11-21T10:13:36.447241Z"
    }
   },
   "source": [
    "bite_angle = comp.get_angle(comp.p1, comp.rh, comp.p2)\n",
    "p1_rh_dist = comp.get_bond_distance(comp.p1, comp.rh)\n",
    "p2_rh_dist = comp.get_bond_distance(comp.p2, comp.rh)\n",
    "p1_bridge_dist = comp.get_bond_distance(comp.p1, comp.bridge)\n",
    "p2_bridge_dist = comp.get_bond_distance(comp.p2, comp.bridge)\n",
    "bridge_angle = comp.get_angle(comp.p1, comp.bridge, comp.p2)\n",
    "\n",
    "print(\"P1-Rh: \" + str(p1_rh_dist), \"P2-Rh: \" + str(p2_rh_dist), \"P1-Bridge: \" + str(p1_bridge_dist),\n",
    "      \"P2-Bridge: \" + str(p2_bridge_dist), \"Bite angle: \" + str(bite_angle), \"Bridge angle: \" + str(bridge_angle))"
   ],
   "outputs": [
    {
     "name": "stdout",
     "output_type": "stream",
     "text": [
      "P1-Rh: 2.3719312711164293 P2-Rh: 2.37194201200198 P1-Bridge: 1.8750391887104654 P2-Bridge: 1.8749946723657644 Bite angle: 72.70956883041772 Bridge angle: 97.16063672571833\n"
     ]
    }
   ],
   "execution_count": 8
  },
  {
   "cell_type": "code",
   "id": "fb26b5a8e4ecc311",
   "metadata": {
    "ExecuteTime": {
     "end_time": "2024-11-21T10:13:36.482276Z",
     "start_time": "2024-11-21T10:13:36.471371Z"
    }
   },
   "source": [
    "comp.dipole"
   ],
   "outputs": [
    {
     "data": {
      "text/plain": [
       "1.9588"
      ]
     },
     "execution_count": 9,
     "metadata": {},
     "output_type": "execute_result"
    }
   ],
   "execution_count": 9
  },
  {
   "metadata": {
    "ExecuteTime": {
     "end_time": "2024-11-21T10:13:36.511790Z",
     "start_time": "2024-11-21T10:13:36.501789Z"
    }
   },
   "cell_type": "code",
   "source": [
    "r1_p1_r2_angle = comp.get_angle(comp.r1, comp.p1, comp.r2)\n",
    "r1_p1_rh_angle = comp.get_angle(comp.r1, comp.p1, comp.rh)\n",
    "rh_p1_bridge_angle = comp.get_angle(comp.rh, comp.p1, comp.bridge)\n",
    "r1_p1_bridge_angle = comp.get_angle(comp.r1, comp.p1, comp.bridge)\n",
    "r2_p1_bridge_angle = comp.get_angle(comp.r2, comp.p1, comp.bridge)\n",
    "r2_p1_rh_angle = comp.get_angle(comp.r2, comp.p1, comp.rh)\n",
    "\n",
    "p1_angle_sum = r1_p1_bridge_angle + r1_p1_r2_angle + r2_p1_bridge_angle\n",
    "p1_angle_sum"
   ],
   "id": "9f0671b96a0d5350",
   "outputs": [
    {
     "data": {
      "text/plain": [
       "317.8066693255203"
      ]
     },
     "execution_count": 10,
     "metadata": {},
     "output_type": "execute_result"
    }
   ],
   "execution_count": 10
  },
  {
   "metadata": {
    "ExecuteTime": {
     "end_time": "2024-11-21T10:13:36.532476Z",
     "start_time": "2024-11-21T10:13:36.521603Z"
    }
   },
   "cell_type": "code",
   "source": [
    "r3_p2_r4_angle = comp.get_angle(comp.r3, comp.p2, comp.r4)\n",
    "r3_p2_rh_angle = comp.get_angle(comp.r3, comp.p2, comp.rh)\n",
    "rh_p2_bridge_angle = comp.get_angle(comp.rh, comp.p2, comp.bridge)\n",
    "r3_p2_bridge_angle = comp.get_angle(comp.r3, comp.p2, comp.bridge)\n",
    "r4_p2_bridge_angle = comp.get_angle(comp.r4, comp.p2, comp.bridge)\n",
    "r4_p2_rh_angle = comp.get_angle(comp.r4, comp.p2, comp.rh)\n",
    "\n",
    "p2_angle_sum = r3_p2_bridge_angle + r3_p2_r4_angle + r4_p2_bridge_angle\n",
    "p2_angle_sum"
   ],
   "id": "bcba7d3018ae8ffd",
   "outputs": [
    {
     "data": {
      "text/plain": [
       "317.80297812394565"
      ]
     },
     "execution_count": 11,
     "metadata": {},
     "output_type": "execute_result"
    }
   ],
   "execution_count": 11
  },
  {
   "metadata": {
    "ExecuteTime": {
     "end_time": "2025-01-21T15:31:26.922937Z",
     "start_time": "2025-01-21T15:31:26.914088Z"
    }
   },
   "cell_type": "code",
   "source": "comp.get_bond(comp.p1, comp.r1).get_prop(Property.ANTIBOND_OCCUPANCY)",
   "id": "1f1d3816cfddfc7f",
   "outputs": [
    {
     "data": {
      "text/plain": [
       "'0.05997'"
      ]
     },
     "execution_count": 4,
     "metadata": {},
     "output_type": "execute_result"
    }
   ],
   "execution_count": 4
  },
  {
   "metadata": {
    "ExecuteTime": {
     "end_time": "2024-11-21T10:13:36.571641Z",
     "start_time": "2024-11-21T10:13:36.563338Z"
    }
   },
   "cell_type": "code",
   "source": "comp.p1.GetPropsAsDict()",
   "id": "897ce52ddaca7c44",
   "outputs": [
    {
     "data": {
      "text/plain": [
       "{'nbo_charge': 1.1076,\n",
       " 'nmr_isotropic': 319.369,\n",
       " 'nmr_anisotropic': 118.7911,\n",
       " 'molAtomMapNumber': 38,\n",
       " 'nbo_charge_no_rh': 0.79838,\n",
       " 'nmr_isotropic_no_rh': 241.6574,\n",
       " 'nmr_anisotropic_no_rh': 93.1935,\n",
       " 'lone_pair_occupancy_no_rh_1': 1.93141,\n",
       " 'lone_pair_energy_no_rh_1': -0.33356}"
      ]
     },
     "execution_count": 13,
     "metadata": {},
     "output_type": "execute_result"
    }
   ],
   "execution_count": 13
  },
  {
   "metadata": {
    "ExecuteTime": {
     "end_time": "2025-01-25T15:29:21.116761Z",
     "start_time": "2025-01-25T15:07:28.124649Z"
    }
   },
   "cell_type": "code",
   "source": [
    "df = pd.DataFrame()\n",
    "param_list = []\n",
    "for file in os.listdir(\"./out/spe/\"):\n",
    "    filename = file.split(\".\")[0]\n",
    "    ligand_name = filename.replace(\"_SPE\", \"\")\n",
    "    path = f\"./out/spe/{filename}.out\"\n",
    "    path_no_rh = f\"./out/spe_no_rh/{filename}_NoRh.out\"\n",
    "    if not os.path.exists(path_no_rh):\n",
    "        print(path_no_rh + \" does not exist\")\n",
    "        continue\n",
    "        \n",
    "    print(ligand_name + \": Parameter extraction started.\")\n",
    "    comp = ParameterExtractor(path=path, no_rh_path=path_no_rh)\n",
    "    \n",
    "    r1_p1_r2_angle = comp.get_angle(comp.r1, comp.p1, comp.r2)\n",
    "    r1_p1_rh_angle = comp.get_angle(comp.r1, comp.p1, comp.rh)\n",
    "    rh_p1_bridge_angle = comp.get_angle(comp.rh, comp.p1, comp.bridge)\n",
    "    r1_p1_bridge_angle = comp.get_angle(comp.r1, comp.p1, comp.bridge)\n",
    "    r2_p1_bridge_angle = comp.get_angle(comp.r2, comp.p1, comp.bridge)\n",
    "    r2_p1_rh_angle = comp.get_angle(comp.r2, comp.p1, comp.rh)\n",
    "    \n",
    "    p1_angle_sum = r1_p1_bridge_angle + r1_p1_r2_angle + r2_p1_bridge_angle\n",
    "    \n",
    "    r3_p2_r4_angle = comp.get_angle(comp.r3, comp.p2, comp.r4)\n",
    "    r3_p2_rh_angle = comp.get_angle(comp.r3, comp.p2, comp.rh)\n",
    "    rh_p2_bridge_angle = comp.get_angle(comp.rh, comp.p2, comp.bridge)\n",
    "    r3_p2_bridge_angle = comp.get_angle(comp.r3, comp.p2, comp.bridge)\n",
    "    r4_p2_bridge_angle = comp.get_angle(comp.r4, comp.p2, comp.bridge)\n",
    "    r4_p2_rh_angle = comp.get_angle(comp.r4, comp.p2, comp.rh)\n",
    "    \n",
    "    p2_angle_sum = r3_p2_bridge_angle + r3_p2_r4_angle + r4_p2_bridge_angle\n",
    "    param_dict = {\n",
    "        # Global parameters\n",
    "        \"ligand\": ligand_name,\n",
    "        \"homo\": comp.homo,\n",
    "        \"lumo\": comp.lumo,\n",
    "        \"dipole\": comp.dipole,\n",
    "        \"rh_charge\": comp.rh.get_prop(Property.CHARGE),\n",
    "        \"rh_LP_1_occ\": comp.rh.get_prop(Property.LONE_PAIR_OCCUPANCY_1),\n",
    "        \"rh_LP_1_eng\": comp.rh.get_prop(Property.LONE_PAIR_ENERGY_1),\n",
    "        \"rh_LP_2_occ\": comp.rh.get_prop(Property.LONE_PAIR_OCCUPANCY_2),\n",
    "        \"rh_LP_2_eng\": comp.rh.get_prop(Property.LONE_PAIR_ENERGY_2),\n",
    "        \"rh_LP_3_occ\": comp.rh.get_prop(Property.LONE_PAIR_OCCUPANCY_3),\n",
    "        \"rh_LP_3_eng\": comp.rh.get_prop(Property.LONE_PAIR_ENERGY_3),\n",
    "        \"rh_LP_4_occ\": comp.rh.get_prop(Property.LONE_PAIR_OCCUPANCY_4),\n",
    "        \"rh_LP_4_eng\": comp.rh.get_prop(Property.LONE_PAIR_ENERGY_4),\n",
    "        \"bite_angle\": comp.get_angle(comp.p1, comp.bridge, comp.p2),\n",
    "        \"homo_no_rh\": comp.homo_no_rh,\n",
    "        \"lumo_no_rh\": comp.lumo_no_rh,\n",
    "        \"dipole_no_rh\": comp.dipole_no_rh,\n",
    "        # missing polarizability, I don't know where to get it from, but does not seem important\n",
    "        \n",
    "        # C1 parameters\n",
    "        \"r1_nbo\": comp.r1.get_prop(Property.CHARGE),\n",
    "        \"r2_nbo\": comp.r2.get_prop(Property.CHARGE),\n",
    "        \"r3_nbo\": comp.r3.get_prop(Property.CHARGE),\n",
    "        \"r4_nbo\": comp.r4.get_prop(Property.CHARGE),\n",
    "        \"bridge_nbo\": comp.bridge.get_prop(Property.CHARGE),\n",
    "        \"p1_nbo\": comp.p1.get_prop(Property.CHARGE),\n",
    "        \"p2_nbo\": comp.p2.get_prop(Property.CHARGE),\n",
    "        \"c1_nbo\": comp.c1.get_prop(Property.CHARGE),\n",
    "        \"c2_nbo\": comp.c2.get_prop(Property.CHARGE),\n",
    "        \"c3_nbo\": comp.c3.get_prop(Property.CHARGE),\n",
    "        \"c4_nbo\": comp.c4.get_prop(Property.CHARGE),\n",
    "        \n",
    "        \"p1_nmr\": comp.p1.get_prop(Property.NMR_ISOTROPIC),\n",
    "        \"p1_nmr_aniso\": comp.p1.get_prop(Property.NMR_ANISOTROPIC),\n",
    "        \"p2_nmr\": comp.p2.get_prop(Property.NMR_ISOTROPIC),\n",
    "        \"p2_nmr_aniso\": comp.p2.get_prop(Property.NMR_ANISOTROPIC),\n",
    "        \n",
    "        \"p1_rh_bond_occ\": comp.get_bond(comp.p1, comp.rh).get_prop(Property.BOND_OCCUPANCY),\n",
    "        \"p2_rh_bond_occ\": comp.get_bond(comp.p2, comp.rh).get_prop(Property.BOND_OCCUPANCY),\n",
    "        \"p1_rh_bond_eng\": comp.get_bond(comp.p1, comp.rh).get_prop(Property.BOND_ENERGY),\n",
    "        \"p2_rh_bond_eng\": comp.get_bond(comp.p2, comp.rh).get_prop(Property.BOND_ENERGY),\n",
    "        \"p1_rh_antibond_occ\": comp.get_bond(comp.p1, comp.rh).get_prop(Property.ANTIBOND_OCCUPANCY),\n",
    "        \"p2_rh_antibond_occ\": comp.get_bond(comp.p2, comp.rh).get_prop(Property.ANTIBOND_OCCUPANCY),\n",
    "        \"p1_rh_antibond_eng\": comp.get_bond(comp.p1, comp.rh).get_prop(Property.ANTIBOND_ENERGY),\n",
    "        \"p2_rh_antibond_eng\": comp.get_bond(comp.p2, comp.rh).get_prop(Property.ANTIBOND_ENERGY),\n",
    "        \"p1_r1_bond_occ\": comp.get_bond(comp.p1, comp.r1).get_prop(Property.BOND_OCCUPANCY),\n",
    "        \"p1_r2_bond_occ\": comp.get_bond(comp.p1, comp.r2).get_prop(Property.BOND_OCCUPANCY),\n",
    "        \"p2_r3_bond_occ\": comp.get_bond(comp.p2, comp.r3).get_prop(Property.BOND_OCCUPANCY),\n",
    "        \"p2_r4_bond_occ\": comp.get_bond(comp.p2, comp.r4).get_prop(Property.BOND_OCCUPANCY),\n",
    "        \"p1_r1_bond_eng\": comp.get_bond(comp.p1, comp.r1).get_prop(Property.BOND_ENERGY),\n",
    "        \"p1_r2_bond_eng\": comp.get_bond(comp.p1, comp.r2).get_prop(Property.BOND_ENERGY),\n",
    "        \"p2_r3_bond_eng\": comp.get_bond(comp.p2, comp.r3).get_prop(Property.BOND_ENERGY),\n",
    "        \"p2_r4_bond_eng\": comp.get_bond(comp.p2, comp.r4).get_prop(Property.BOND_ENERGY),\n",
    "        \"p1_r1_antibond_occ\": comp.get_bond(comp.p1, comp.r1).get_prop(Property.ANTIBOND_OCCUPANCY),\n",
    "        \"p1_r2_antibond_occ\": comp.get_bond(comp.p1, comp.r2).get_prop(Property.ANTIBOND_OCCUPANCY),\n",
    "        \"p2_r3_antibond_occ\": comp.get_bond(comp.p2, comp.r3).get_prop(Property.ANTIBOND_OCCUPANCY),\n",
    "        \"p2_r4_antibond_occ\": comp.get_bond(comp.p2, comp.r4).get_prop(Property.ANTIBOND_OCCUPANCY),\n",
    "        \"p1_r1_antibond_eng\": comp.get_bond(comp.p1, comp.r1).get_prop(Property.ANTIBOND_ENERGY),\n",
    "        \"p1_r2_antibond_eng\": comp.get_bond(comp.p1, comp.r2).get_prop(Property.ANTIBOND_ENERGY),\n",
    "        \"p2_r3_antibond_eng\": comp.get_bond(comp.p2, comp.r3).get_prop(Property.ANTIBOND_ENERGY),\n",
    "        \"p2_r4_antibond_eng\": comp.get_bond(comp.p2, comp.r4).get_prop(Property.ANTIBOND_ENERGY),\n",
    "        \"p1_bridge_bond_occ\": comp.get_bond(comp.p1, comp.bridge).get_prop(Property.BOND_OCCUPANCY),\n",
    "        \"p2_bridge_bond_occ\": comp.get_bond(comp.p2, comp.bridge).get_prop(Property.BOND_OCCUPANCY),\n",
    "        \"p1_bridge_bond_eng\": comp.get_bond(comp.p1, comp.bridge).get_prop(Property.BOND_ENERGY),\n",
    "        \"p2_bridge_bond_eng\": comp.get_bond(comp.p2, comp.bridge).get_prop(Property.BOND_ENERGY),\n",
    "        \"p1_bridge_antibond_occ\": comp.get_bond(comp.p1, comp.bridge).get_prop(Property.ANTIBOND_OCCUPANCY),\n",
    "        \"p2_bridge_antibond_occ\": comp.get_bond(comp.p2, comp.bridge).get_prop(Property.ANTIBOND_OCCUPANCY),\n",
    "        \"p1_bridge_antibond_eng\": comp.get_bond(comp.p1, comp.bridge).get_prop(Property.ANTIBOND_ENERGY),\n",
    "        \"p2_bridge_antibond_eng\": comp.get_bond(comp.p2, comp.bridge).get_prop(Property.ANTIBOND_ENERGY),\n",
    "        \n",
    "        \"c1_rh_dist\": comp.get_bond_distance(comp.c1, comp.rh),\n",
    "        \"c2_rh_dist\": comp.get_bond_distance(comp.c2, comp.rh),\n",
    "        \"c3_rh_dist\": comp.get_bond_distance(comp.c3, comp.rh),\n",
    "        \"c4_rh_dist\": comp.get_bond_distance(comp.c4, comp.rh),\n",
    "        \"p1_c1_dist\": comp.get_bond_distance(comp.p1, comp.c1),\n",
    "        \"p1_c2_dist\": comp.get_bond_distance(comp.p1, comp.c2),\n",
    "        \"p2_c3_dist\": comp.get_bond_distance(comp.p2, comp.c3),\n",
    "        \"p2_c4_dist\": comp.get_bond_distance(comp.p2, comp.c4),\n",
    "        \"p1_bridge_dist\": comp.get_bond_distance(comp.p1, comp.bridge),\n",
    "        \"p2_bridge_dist\": comp.get_bond_distance(comp.p2, comp.bridge),\n",
    "        \n",
    "        \"p1_angle_sum\": p1_angle_sum,\n",
    "        \"p2_angle_sum\": p2_angle_sum,\n",
    "        \"rh_p1_bridge_angle\": rh_p1_bridge_angle,\n",
    "        \"rh_p2_bridge_angle\": rh_p2_bridge_angle,\n",
    "        \"r1_p1_rh_angle\": r1_p1_rh_angle,\n",
    "        \"r2_p1_rh_angle\": r2_p1_rh_angle,\n",
    "        \"r3_p2_rh_angle\": r3_p2_rh_angle,\n",
    "        \"r4_p2_rh_angle\": r4_p2_rh_angle,\n",
    "        \"r1_p1_bridge_angle\": r1_p1_bridge_angle,\n",
    "        \"r2_p1_bridge_angle\": r2_p1_bridge_angle,\n",
    "        \"r3_p2_bridge_angle\": r3_p2_bridge_angle,\n",
    "        \"r4_p2_bridge_angle\": r4_p2_bridge_angle,\n",
    "        \n",
    "        \"p1_nbo_no_rh\": comp.p1.get_prop(Property.CHARGE_NO_RH),\n",
    "        \"p2_nbo_no_rh\": comp.p2.get_prop(Property.CHARGE_NO_RH),\n",
    "        \"r1_nbo_no_rh\": comp.r1.get_prop(Property.CHARGE_NO_RH),\n",
    "        \"r2_nbo_no_rh\": comp.r2.get_prop(Property.CHARGE_NO_RH),\n",
    "        \"r3_nbo_no_rh\": comp.r3.get_prop(Property.CHARGE_NO_RH),\n",
    "        \"r4_nbo_no_rh\": comp.r4.get_prop(Property.CHARGE_NO_RH),\n",
    "        \"bridge_nbo_no_rh\": comp.bridge.get_prop(Property.CHARGE_NO_RH),\n",
    "        \n",
    "        \"p1_nmr_no_rh\": comp.p1.get_prop(Property.NMR_ISOTROPIC_NO_RH),\n",
    "        \"p1_nmr_aniso_no_rh\": comp.p1.get_prop(Property.NMR_ANISOTROPIC_NO_RH),\n",
    "        \"p2_nmr_no_rh\": comp.p2.get_prop(Property.NMR_ISOTROPIC_NO_RH),\n",
    "        \"p2_nmr_aniso_no_rh\": comp.p2.get_prop(Property.NMR_ANISOTROPIC_NO_RH),\n",
    "        \n",
    "        \"p1_LP_occ_no_rh\": comp.p1.get_prop(Property.LONE_PAIR_OCCUPANCY_NO_RH_1),\n",
    "        \"p1_LP_eng_no_rh\": comp.p1.get_prop(Property.LONE_PAIR_ENERGY_NO_RH_1),\n",
    "        \"p2_LP_occ_no_rh\": comp.p2.get_prop(Property.LONE_PAIR_OCCUPANCY_NO_RH_1),\n",
    "        \"p2_LP_eng_no_rh\": comp.p2.get_prop(Property.LONE_PAIR_ENERGY_NO_RH_1),\n",
    "        \n",
    "        \"p1_r1_bond_occ_no_rh\": comp.get_bond(comp.p1, comp.r1).get_prop(Property.BOND_OCCUPANCY_NO_RH),\n",
    "        \"p1_r2_bond_occ_no_rh\": comp.get_bond(comp.p1, comp.r2).get_prop(Property.BOND_OCCUPANCY_NO_RH),\n",
    "        \"p2_r3_bond_occ_no_rh\": comp.get_bond(comp.p2, comp.r3).get_prop(Property.BOND_OCCUPANCY_NO_RH),\n",
    "        \"p2_r4_bond_occ_no_rh\": comp.get_bond(comp.p2, comp.r4).get_prop(Property.BOND_OCCUPANCY_NO_RH),\n",
    "        \"p1_r1_bond_eng_no_rh\": comp.get_bond(comp.p1, comp.r1).get_prop(Property.BOND_ENERGY_NO_RH),\n",
    "        \"p1_r2_bond_eng_no_rh\": comp.get_bond(comp.p1, comp.r2).get_prop(Property.BOND_ENERGY_NO_RH),\n",
    "        \"p2_r3_bond_eng_no_rh\": comp.get_bond(comp.p2, comp.r3).get_prop(Property.BOND_ENERGY_NO_RH),\n",
    "        \"p2_r4_bond_eng_no_rh\": comp.get_bond(comp.p2, comp.r4).get_prop(Property.BOND_ENERGY_NO_RH),\n",
    "        \"p1_r1_antibond_occ_no_rh\": comp.get_bond(comp.p1, comp.r1).get_prop(Property.ANTIBOND_OCCUPANCY_NO_RH),\n",
    "        \"p1_r2_antibond_occ_no_rh\": comp.get_bond(comp.p1, comp.r2).get_prop(Property.ANTIBOND_OCCUPANCY_NO_RH),\n",
    "        \"p2_r3_antibond_occ_no_rh\": comp.get_bond(comp.p2, comp.r3).get_prop(Property.ANTIBOND_OCCUPANCY_NO_RH),\n",
    "        \"p2_r4_antibond_occ_no_rh\": comp.get_bond(comp.p2, comp.r4).get_prop(Property.ANTIBOND_OCCUPANCY_NO_RH),\n",
    "        \"p1_r1_antibond_eng_no_rh\": comp.get_bond(comp.p1, comp.r1).get_prop(Property.ANTIBOND_ENERGY_NO_RH),\n",
    "        \"p1_r2_antibond_eng_no_rh\": comp.get_bond(comp.p1, comp.r2).get_prop(Property.ANTIBOND_ENERGY_NO_RH),\n",
    "        \"p2_r3_antibond_eng_no_rh\": comp.get_bond(comp.p2, comp.r3).get_prop(Property.ANTIBOND_ENERGY_NO_RH),\n",
    "        \"p2_r4_antibond_eng_no_rh\": comp.get_bond(comp.p2, comp.r4).get_prop(Property.ANTIBOND_ENERGY_NO_RH),\n",
    "        \"p1_bridge_bond_occ_no_rh\": comp.get_bond(comp.p1, comp.bridge).get_prop(Property.BOND_OCCUPANCY_NO_RH),\n",
    "        \"p2_bridge_bond_occ_no_rh\": comp.get_bond(comp.p2, comp.bridge).get_prop(Property.BOND_OCCUPANCY_NO_RH),\n",
    "        \"p1_bridge_bond_eng_no_rh\": comp.get_bond(comp.p1, comp.bridge).get_prop(Property.BOND_ENERGY_NO_RH),\n",
    "        \"p2_bridge_bond_eng_no_rh\": comp.get_bond(comp.p2, comp.bridge).get_prop(Property.BOND_ENERGY_NO_RH),\n",
    "        \"p1_bridge_antibond_occ_no_rh\": comp.get_bond(comp.p1, comp.bridge).get_prop(Property.ANTIBOND_OCCUPANCY_NO_RH),\n",
    "        \"p2_bridge_antibond_occ_no_rh\": comp.get_bond(comp.p2, comp.bridge).get_prop(Property.ANTIBOND_OCCUPANCY_NO_RH),\n",
    "        \"p1_bridge_antibond_eng_no_rh\": comp.get_bond(comp.p1, comp.bridge).get_prop(Property.ANTIBOND_ENERGY_NO_RH),\n",
    "        \"p2_bridge_antibond_eng_no_rh\": comp.get_bond(comp.p2, comp.bridge).get_prop(Property.ANTIBOND_ENERGY_NO_RH),\n",
    "        \n",
    "        \"p1_LP_s_occ_no_rh\": comp.p1.get_prop(Property.LONE_PAIR_S_ORBITAL_NO_RH),\n",
    "        \"p2_LP_s_occ_no_rh\": comp.p2.get_prop(Property.LONE_PAIR_S_ORBITAL_NO_RH),\n",
    "    }\n",
    "    \n",
    "    \n",
    "    for radius in range(1, 7, 1):\n",
    "        bv = comp.buried_volume(radius)\n",
    "        bv.octant_analysis()\n",
    "        param_dict[f\"Vbur%_{float(radius)}\"] = bv.fraction_buried_volume * 100\n",
    "        param_dict[f\"NE_{float(radius)}\"] = bv.quadrants[\"percent_buried_volume\"][1]\n",
    "        param_dict[f\"NW_{float(radius)}\"] = bv.quadrants[\"percent_buried_volume\"][2]\n",
    "        param_dict[f\"SE_{float(radius)}\"] = bv.quadrants[\"percent_buried_volume\"][3]\n",
    "        param_dict[f\"SW_{float(radius)}\"] = bv.quadrants[\"percent_buried_volume\"][4]\n",
    "        \n",
    "    param_list.append(param_dict)\n",
    "df = pd.DataFrame(param_list)"
   ],
   "id": "5ac6efeb68d64ccd",
   "outputs": [
    {
     "name": "stdout",
     "output_type": "stream",
     "text": [
      "dcPAMP: Parameter extraction started.\n",
      "dcpa: Parameter extraction started.\n",
      "diprpa: Parameter extraction started.\n",
      "DS-10: Parameter extraction started.\n",
      "DS-11: Parameter extraction started.\n",
      "DS-12: Parameter extraction started.\n",
      "DS-13: Parameter extraction started.\n",
      "DS-14: Parameter extraction started.\n",
      "DS-15: Parameter extraction started.\n",
      "DS-16: Parameter extraction started.\n",
      "DS-17: Parameter extraction started.\n",
      "DS-18: Parameter extraction started.\n",
      "DS-19: Parameter extraction started.\n",
      "DS-1: Parameter extraction started.\n",
      "DS-20: Parameter extraction started.\n",
      "DS-21: Parameter extraction started.\n",
      "DS-22: Parameter extraction started.\n",
      "DS-23: Parameter extraction started.\n",
      "DS-24: Parameter extraction started.\n",
      "DS-25: Parameter extraction started.\n",
      "DS-26: Parameter extraction started.\n",
      "DS-27: Parameter extraction started.\n",
      "DS-28: Parameter extraction started.\n",
      "DS-29: Parameter extraction started.\n",
      "DS-2: Parameter extraction started.\n",
      "DS-30: Parameter extraction started.\n",
      "DS-31: Parameter extraction started.\n",
      "DS-32: Parameter extraction started.\n",
      "DS-33: Parameter extraction started.\n",
      "DS-34: Parameter extraction started.\n",
      "DS-35: Parameter extraction started.\n",
      "DS-36: Parameter extraction started.\n",
      "DS-37: Parameter extraction started.\n",
      "DS-38: Parameter extraction started.\n",
      "DS-39: Parameter extraction started.\n",
      "DS-3: Parameter extraction started.\n",
      "DS-40: Parameter extraction started.\n",
      "DS-41: Parameter extraction started.\n",
      "DS-42: Parameter extraction started.\n",
      "DS-43: Parameter extraction started.\n",
      "DS-44: Parameter extraction started.\n",
      "DS-45: Parameter extraction started.\n",
      "DS-46: Parameter extraction started.\n",
      "DS-48: Parameter extraction started.\n",
      "\u001B[91mBOND_OCCUPANCY not found for bond Rh 9 - P 0\u001B[0m\n",
      "\u001B[91mBOND_ENERGY not found for bond Rh 9 - P 0\u001B[0m\n",
      "\u001B[91mANTIBOND_OCCUPANCY not found for bond Rh 9 - P 0\u001B[0m\n",
      "\u001B[91mANTIBOND_ENERGY not found for bond Rh 9 - P 0\u001B[0m\n",
      "DS-49: Parameter extraction started.\n",
      "DS-4: Parameter extraction started.\n",
      "DS-50: Parameter extraction started.\n",
      "DS-52: Parameter extraction started.\n",
      "DS-53: Parameter extraction started.\n",
      "DS-54: Parameter extraction started.\n",
      "\u001B[91mBOND_OCCUPANCY not found for bond O 79 - P 0\u001B[0m\n",
      "\u001B[91mBOND_OCCUPANCY not found for bond O 76 - P 1\u001B[0m\n",
      "\u001B[91mBOND_ENERGY not found for bond O 79 - P 0\u001B[0m\n",
      "\u001B[91mBOND_ENERGY not found for bond O 76 - P 1\u001B[0m\n",
      "\u001B[91mANTIBOND_OCCUPANCY not found for bond O 79 - P 0\u001B[0m\n",
      "\u001B[91mANTIBOND_OCCUPANCY not found for bond O 76 - P 1\u001B[0m\n",
      "\u001B[91mANTIBOND_ENERGY not found for bond O 79 - P 0\u001B[0m\n",
      "\u001B[91mANTIBOND_ENERGY not found for bond O 76 - P 1\u001B[0m\n",
      "DS-55: Parameter extraction started.\n",
      "\u001B[91mBOND_OCCUPANCY not found for bond O 76 - P 1\u001B[0m\n",
      "\u001B[91mBOND_OCCUPANCY not found for bond O 79 - P 0\u001B[0m\n",
      "\u001B[91mBOND_ENERGY not found for bond O 76 - P 1\u001B[0m\n",
      "\u001B[91mBOND_ENERGY not found for bond O 79 - P 0\u001B[0m\n",
      "\u001B[91mANTIBOND_OCCUPANCY not found for bond O 76 - P 1\u001B[0m\n",
      "\u001B[91mANTIBOND_OCCUPANCY not found for bond O 79 - P 0\u001B[0m\n",
      "\u001B[91mANTIBOND_ENERGY not found for bond O 76 - P 1\u001B[0m\n",
      "\u001B[91mANTIBOND_ENERGY not found for bond O 79 - P 0\u001B[0m\n",
      "DS-56: Parameter extraction started.\n",
      "\u001B[91mBOND_OCCUPANCY not found for bond O 78 - P 0\u001B[0m\n",
      "\u001B[91mBOND_OCCUPANCY not found for bond O 79 - P 0\u001B[0m\n",
      "\u001B[91mBOND_OCCUPANCY not found for bond O 76 - P 1\u001B[0m\n",
      "\u001B[91mBOND_ENERGY not found for bond O 78 - P 0\u001B[0m\n",
      "\u001B[91mBOND_ENERGY not found for bond O 79 - P 0\u001B[0m\n",
      "\u001B[91mBOND_ENERGY not found for bond O 76 - P 1\u001B[0m\n",
      "\u001B[91mANTIBOND_OCCUPANCY not found for bond O 78 - P 0\u001B[0m\n",
      "\u001B[91mANTIBOND_OCCUPANCY not found for bond O 79 - P 0\u001B[0m\n",
      "\u001B[91mANTIBOND_OCCUPANCY not found for bond O 76 - P 1\u001B[0m\n",
      "\u001B[91mANTIBOND_ENERGY not found for bond O 78 - P 0\u001B[0m\n",
      "\u001B[91mANTIBOND_ENERGY not found for bond O 79 - P 0\u001B[0m\n",
      "\u001B[91mANTIBOND_ENERGY not found for bond O 76 - P 1\u001B[0m\n",
      "DS-57: Parameter extraction started.\n",
      "DS-58: Parameter extraction started.\n",
      "DS-59: Parameter extraction started.\n",
      "DS-5: Parameter extraction started.\n",
      "DS-60: Parameter extraction started.\n",
      "DS-61: Parameter extraction started.\n",
      "DS-63: Parameter extraction started.\n",
      "DS-64: Parameter extraction started.\n",
      "DS-6: Parameter extraction started.\n",
      "DS-7: Parameter extraction started.\n",
      "DS-8: Parameter extraction started.\n",
      "DS-9: Parameter extraction started.\n",
      "MB-100: Parameter extraction started.\n",
      "MB-101: Parameter extraction started.\n",
      "MB-102: Parameter extraction started.\n",
      "MB-103: Parameter extraction started.\n",
      "MB-104: Parameter extraction started.\n",
      "MB-105: Parameter extraction started.\n",
      "MB-106: Parameter extraction started.\n",
      "MB-107: Parameter extraction started.\n",
      "MB-108: Parameter extraction started.\n",
      "MB-109: Parameter extraction started.\n",
      "MB-10: Parameter extraction started.\n",
      "MB-110: Parameter extraction started.\n",
      "MB-111: Parameter extraction started.\n",
      "MB-112: Parameter extraction started.\n",
      "MB-113: Parameter extraction started.\n",
      "MB-114: Parameter extraction started.\n",
      "MB-115: Parameter extraction started.\n",
      "MB-116: Parameter extraction started.\n",
      "MB-117: Parameter extraction started.\n",
      "MB-118: Parameter extraction started.\n",
      "MB-119: Parameter extraction started.\n",
      "MB-11: Parameter extraction started.\n",
      "MB-120: Parameter extraction started.\n",
      "MB-121: Parameter extraction started.\n",
      "MB-122: Parameter extraction started.\n",
      "MB-123: Parameter extraction started.\n",
      "MB-124: Parameter extraction started.\n",
      "MB-125: Parameter extraction started.\n",
      "MB-126: Parameter extraction started.\n",
      "MB-127: Parameter extraction started.\n",
      "MB-128: Parameter extraction started.\n",
      "MB-129: Parameter extraction started.\n",
      "MB-12: Parameter extraction started.\n",
      "MB-130: Parameter extraction started.\n",
      "MB-131: Parameter extraction started.\n",
      "MB-132: Parameter extraction started.\n",
      "MB-133: Parameter extraction started.\n",
      "MB-134: Parameter extraction started.\n",
      "MB-135: Parameter extraction started.\n",
      "MB-136: Parameter extraction started.\n",
      "\u001B[91mBOND_OCCUPANCY_NO_RH not found for bond O 9 - P 1\u001B[0m\n",
      "\u001B[91mBOND_OCCUPANCY_NO_RH not found for bond O 3 - P 1\u001B[0m\n",
      "\u001B[91mBOND_ENERGY_NO_RH not found for bond O 9 - P 1\u001B[0m\n",
      "\u001B[91mBOND_ENERGY_NO_RH not found for bond O 3 - P 1\u001B[0m\n",
      "\u001B[91mANTIBOND_OCCUPANCY_NO_RH not found for bond O 9 - P 1\u001B[0m\n",
      "\u001B[91mANTIBOND_OCCUPANCY_NO_RH not found for bond O 3 - P 1\u001B[0m\n",
      "\u001B[91mANTIBOND_ENERGY_NO_RH not found for bond O 9 - P 1\u001B[0m\n",
      "\u001B[91mANTIBOND_ENERGY_NO_RH not found for bond O 3 - P 1\u001B[0m\n",
      "MB-137: Parameter extraction started.\n",
      "MB-139: Parameter extraction started.\n",
      "MB-13: Parameter extraction started.\n",
      "MB-140: Parameter extraction started.\n",
      "MB-143: Parameter extraction started.\n",
      "\u001B[91mBOND_OCCUPANCY not found for bond Rh 41 - P 37\u001B[0m\n",
      "\u001B[91mBOND_ENERGY not found for bond Rh 41 - P 37\u001B[0m\n",
      "\u001B[91mANTIBOND_OCCUPANCY not found for bond Rh 41 - P 37\u001B[0m\n",
      "\u001B[91mANTIBOND_ENERGY not found for bond Rh 41 - P 37\u001B[0m\n",
      "MB-14: Parameter extraction started.\n",
      "MB-15: Parameter extraction started.\n",
      "MB-16: Parameter extraction started.\n",
      "MB-18: Parameter extraction started.\n",
      "MB-19: Parameter extraction started.\n",
      "MB-1: Parameter extraction started.\n",
      "MB-20: Parameter extraction started.\n",
      "MB-21: Parameter extraction started.\n",
      "MB-22: Parameter extraction started.\n",
      "MB-23: Parameter extraction started.\n",
      "MB-24: Parameter extraction started.\n",
      "MB-25: Parameter extraction started.\n",
      "MB-26: Parameter extraction started.\n",
      "MB-27: Parameter extraction started.\n",
      "MB-28: Parameter extraction started.\n",
      "MB-29: Parameter extraction started.\n",
      "MB-2: Parameter extraction started.\n",
      "MB-30: Parameter extraction started.\n",
      "MB-31: Parameter extraction started.\n",
      "MB-32: Parameter extraction started.\n",
      "MB-33: Parameter extraction started.\n",
      "MB-34: Parameter extraction started.\n",
      "MB-35: Parameter extraction started.\n",
      "MB-37: Parameter extraction started.\n",
      "MB-38: Parameter extraction started.\n",
      "MB-39: Parameter extraction started.\n",
      "MB-3: Parameter extraction started.\n",
      "MB-40: Parameter extraction started.\n",
      "MB-41: Parameter extraction started.\n",
      "MB-42: Parameter extraction started.\n",
      "MB-43: Parameter extraction started.\n",
      "MB-44: Parameter extraction started.\n",
      "MB-45: Parameter extraction started.\n",
      "MB-46: Parameter extraction started.\n",
      "MB-47: Parameter extraction started.\n",
      "MB-48: Parameter extraction started.\n",
      "MB-49: Parameter extraction started.\n",
      "MB-4: Parameter extraction started.\n",
      "MB-50: Parameter extraction started.\n",
      "MB-51: Parameter extraction started.\n",
      "MB-52: Parameter extraction started.\n",
      "MB-53: Parameter extraction started.\n",
      "MB-54: Parameter extraction started.\n",
      "MB-55: Parameter extraction started.\n",
      "MB-56: Parameter extraction started.\n",
      "MB-57: Parameter extraction started.\n",
      "MB-58: Parameter extraction started.\n",
      "MB-59: Parameter extraction started.\n",
      "MB-5: Parameter extraction started.\n",
      "MB-60: Parameter extraction started.\n",
      "MB-61: Parameter extraction started.\n",
      "MB-62: Parameter extraction started.\n",
      "MB-63: Parameter extraction started.\n",
      "MB-64: Parameter extraction started.\n",
      "MB-65: Parameter extraction started.\n",
      "MB-66: Parameter extraction started.\n",
      "MB-67: Parameter extraction started.\n",
      "MB-68: Parameter extraction started.\n",
      "MB-69: Parameter extraction started.\n",
      "MB-6: Parameter extraction started.\n",
      "MB-70: Parameter extraction started.\n",
      "MB-71: Parameter extraction started.\n",
      "MB-72: Parameter extraction started.\n",
      "MB-73: Parameter extraction started.\n",
      "MB-74: Parameter extraction started.\n",
      "MB-75: Parameter extraction started.\n",
      "MB-76: Parameter extraction started.\n",
      "MB-77: Parameter extraction started.\n",
      "MB-78: Parameter extraction started.\n",
      "MB-79: Parameter extraction started.\n",
      "MB-7: Parameter extraction started.\n",
      "MB-80: Parameter extraction started.\n",
      "MB-81: Parameter extraction started.\n",
      "MB-82: Parameter extraction started.\n",
      "MB-83: Parameter extraction started.\n",
      "MB-84: Parameter extraction started.\n",
      "MB-85: Parameter extraction started.\n",
      "MB-86: Parameter extraction started.\n",
      "MB-87: Parameter extraction started.\n",
      "MB-88: Parameter extraction started.\n",
      "MB-89: Parameter extraction started.\n",
      "MB-8: Parameter extraction started.\n",
      "MB-90: Parameter extraction started.\n",
      "MB-91: Parameter extraction started.\n",
      "MB-92: Parameter extraction started.\n",
      "MB-93: Parameter extraction started.\n",
      "MB-94: Parameter extraction started.\n",
      "MB-95: Parameter extraction started.\n",
      "MB-96: Parameter extraction started.\n",
      "MB-97: Parameter extraction started.\n",
      "MB-98: Parameter extraction started.\n",
      "MB-9: Parameter extraction started.\n",
      "MS-10: Parameter extraction started.\n",
      "MS-11: Parameter extraction started.\n",
      "MS-12: Parameter extraction started.\n",
      "MS-13: Parameter extraction started.\n",
      "MS-14: Parameter extraction started.\n",
      "MS-15: Parameter extraction started.\n",
      "MS-16: Parameter extraction started.\n",
      "MS-17: Parameter extraction started.\n",
      "MS-19: Parameter extraction started.\n",
      "MS-1: Parameter extraction started.\n",
      "MS-20: Parameter extraction started.\n",
      "MS-21: Parameter extraction started.\n",
      "MS-22: Parameter extraction started.\n",
      "MS-23: Parameter extraction started.\n",
      "MS-24: Parameter extraction started.\n",
      "MS-25: Parameter extraction started.\n",
      "MS-26: Parameter extraction started.\n",
      "MS-27: Parameter extraction started.\n",
      "MS-28: Parameter extraction started.\n",
      "MS-29: Parameter extraction started.\n",
      "MS-2: Parameter extraction started.\n",
      "MS-30: Parameter extraction started.\n",
      "MS-31: Parameter extraction started.\n",
      "MS-32: Parameter extraction started.\n",
      "MS-33: Parameter extraction started.\n",
      "MS-34: Parameter extraction started.\n",
      "MS-35: Parameter extraction started.\n",
      "MS-36: Parameter extraction started.\n",
      "MS-37: Parameter extraction started.\n",
      "MS-38: Parameter extraction started.\n",
      "MS-39: Parameter extraction started.\n",
      "MS-3: Parameter extraction started.\n",
      "MS-40: Parameter extraction started.\n",
      "MS-41: Parameter extraction started.\n",
      "MS-42: Parameter extraction started.\n",
      "\u001B[91mBOND_OCCUPANCY not found for bond Rh 52 - P 51\u001B[0m\n",
      "\u001B[91mBOND_ENERGY not found for bond Rh 52 - P 51\u001B[0m\n",
      "\u001B[91mANTIBOND_OCCUPANCY not found for bond Rh 52 - P 51\u001B[0m\n",
      "\u001B[91mANTIBOND_ENERGY not found for bond Rh 52 - P 51\u001B[0m\n",
      "MS-44: Parameter extraction started.\n",
      "MS-45: Parameter extraction started.\n",
      "MS-46: Parameter extraction started.\n",
      "MS-47: Parameter extraction started.\n",
      "MS-48: Parameter extraction started.\n",
      "MS-49: Parameter extraction started.\n",
      "MS-4: Parameter extraction started.\n",
      "MS-50: Parameter extraction started.\n",
      "MS-51: Parameter extraction started.\n",
      "MS-52: Parameter extraction started.\n",
      "MS-53: Parameter extraction started.\n",
      "MS-54: Parameter extraction started.\n",
      "MS-55: Parameter extraction started.\n",
      "MS-56: Parameter extraction started.\n",
      "MS-57: Parameter extraction started.\n",
      "MS-58: Parameter extraction started.\n",
      "MS-59: Parameter extraction started.\n",
      "MS-5: Parameter extraction started.\n",
      "MS-60: Parameter extraction started.\n",
      "MS-61: Parameter extraction started.\n",
      "MS-62: Parameter extraction started.\n",
      "MS-64: Parameter extraction started.\n",
      "MS-65: Parameter extraction started.\n",
      "MS-66: Parameter extraction started.\n",
      "MS-68: Parameter extraction started.\n",
      "MS-6: Parameter extraction started.\n",
      "\u001B[91mLONE_PAIR_OCCUPANCY_NO_RH_1 not found for atom P 1\u001B[0m\n",
      "\u001B[91mLONE_PAIR_ENERGY_NO_RH_1 not found for atom P 1\u001B[0m\n",
      "\u001B[91mLONE_PAIR_S_ORBITAL_NO_RH not found for atom P 1\u001B[0m\n",
      "MS-70: Parameter extraction started.\n",
      "MS-71: Parameter extraction started.\n",
      "MS-72: Parameter extraction started.\n",
      "MS-73: Parameter extraction started.\n",
      "MS-74: Parameter extraction started.\n",
      "MS-75: Parameter extraction started.\n",
      "MS-76: Parameter extraction started.\n",
      "MS-77: Parameter extraction started.\n",
      "MS-78: Parameter extraction started.\n",
      "MS-79: Parameter extraction started.\n",
      "MS-80: Parameter extraction started.\n",
      "MS-81: Parameter extraction started.\n",
      "MS-82: Parameter extraction started.\n",
      "MS-83: Parameter extraction started.\n",
      "MS-84: Parameter extraction started.\n",
      "MS-85: Parameter extraction started.\n",
      "MS-86: Parameter extraction started.\n",
      "MS-87: Parameter extraction started.\n",
      "MS-88: Parameter extraction started.\n",
      "MS-89: Parameter extraction started.\n",
      "MS-90: Parameter extraction started.\n",
      "MS-91: Parameter extraction started.\n",
      "MS-92: Parameter extraction started.\n",
      "MS-93: Parameter extraction started.\n",
      "MS-9: Parameter extraction started.\n"
     ]
    }
   ],
   "execution_count": 3
  },
  {
   "metadata": {
    "ExecuteTime": {
     "end_time": "2025-01-25T15:32:22.923417Z",
     "start_time": "2025-01-25T15:32:22.888722Z"
    }
   },
   "cell_type": "code",
   "source": "df",
   "id": "b6cafdd87dfcdddb",
   "outputs": [
    {
     "data": {
      "text/plain": [
       "     ligand     homo     lumo  dipole rh_charge rh_LP_1_occ rh_LP_1_eng  \\\n",
       "0    dcPAMP -0.30529 -0.16003  0.4737  -0.35437     1.98307    -0.30775   \n",
       "1      dcpa -0.30559 -0.15670  0.4496  -0.37791     1.98391    -0.30623   \n",
       "2    diprpa -0.31343 -0.16420  1.7617  -0.38593     1.98416    -0.31577   \n",
       "3     DS-10 -0.30313 -0.17047  1.5365  -0.39825     1.98238    -0.30666   \n",
       "4     DS-11 -0.30256 -0.17061  0.5123  -0.37690     1.97580    -0.30490   \n",
       "..      ...      ...      ...     ...       ...         ...         ...   \n",
       "282   MS-90 -0.30651 -0.16200  0.5110  -0.39736     1.98036    -0.31040   \n",
       "283   MS-91 -0.29003 -0.16617  2.8177  -0.56193     1.97629    -0.31107   \n",
       "284   MS-92 -0.29683 -0.15800  2.1256  -0.34873     1.98334    -0.30299   \n",
       "285   MS-93 -0.30480 -0.15955  1.8883  -0.30580     1.98230    -0.30363   \n",
       "286    MS-9 -0.31194 -0.16819  1.1081  -0.40772     1.98036    -0.31234   \n",
       "\n",
       "    rh_LP_2_occ rh_LP_2_eng rh_LP_3_occ  ...  Vbur%_5.0     NE_5.0     NW_5.0  \\\n",
       "0       1.95815    -0.35837     1.79868  ...  47.315009  47.872189  47.901359   \n",
       "1       1.94745    -0.35936     1.80914  ...  46.662633  45.645833  47.370786   \n",
       "2       1.94642    -0.36749     1.81254  ...  45.769804  44.875595  46.616316   \n",
       "3       1.95305    -0.35787     1.80014  ...  41.628299  40.666488  42.586169   \n",
       "4       1.95112    -0.35800     1.80342  ...  41.329310  39.719656  43.575573   \n",
       "..          ...         ...         ...  ...        ...        ...        ...   \n",
       "282     1.94921    -0.36116     1.81075  ...  42.985675  41.764687  45.850020   \n",
       "283     1.93650    -0.36681     1.81843  ...  43.698362  33.433982  49.999212   \n",
       "284     1.95312    -0.35436     1.81012  ...  48.356446  48.915203  48.222226   \n",
       "285     1.95876    -0.35794     1.79485  ...  51.315789  48.516288  48.936489   \n",
       "286     1.95420    -0.36659     1.80633  ...  40.612879  37.801552  43.537731   \n",
       "\n",
       "        SE_5.0     SW_5.0  Vbur%_6.0     NE_6.0     NW_6.0     SE_6.0  \\\n",
       "0    43.261802  50.224685  40.866479  40.639485  40.905710  39.863032   \n",
       "1    46.110971  47.522942  41.961087  40.722935  42.928024  41.100277   \n",
       "2    44.825140  46.762165  37.797066  37.065173  38.606286  36.490544   \n",
       "3    40.668853  42.591687  37.426641  37.590367  37.261554  37.592635   \n",
       "4    40.697234  41.324777  36.609143  35.770783  38.222142  36.185315   \n",
       "..         ...        ...        ...        ...        ...        ...   \n",
       "282  41.741825  42.586169  39.058914  38.800853  40.686199  38.460248   \n",
       "283  37.407367  53.952887  42.449317  34.781169  48.166810  37.559527   \n",
       "284  44.351329  51.937025  42.384462  43.225090  41.522518  39.802259   \n",
       "285  57.096118  50.714263  46.428069  41.051295  41.059005  59.026260   \n",
       "286  42.235344  38.876888  34.157218  29.438523  37.134564  37.092839   \n",
       "\n",
       "        SW_6.0  \n",
       "0    42.057690  \n",
       "1    43.093111  \n",
       "2    39.026260  \n",
       "3    37.262007  \n",
       "4    36.258334  \n",
       "..         ...  \n",
       "282  38.288358  \n",
       "283  49.289764  \n",
       "284  44.987981  \n",
       "285  44.575718  \n",
       "286  32.962946  \n",
       "\n",
       "[287 rows x 157 columns]"
      ],
      "text/html": [
       "<div>\n",
       "<style scoped>\n",
       "    .dataframe tbody tr th:only-of-type {\n",
       "        vertical-align: middle;\n",
       "    }\n",
       "\n",
       "    .dataframe tbody tr th {\n",
       "        vertical-align: top;\n",
       "    }\n",
       "\n",
       "    .dataframe thead th {\n",
       "        text-align: right;\n",
       "    }\n",
       "</style>\n",
       "<table border=\"1\" class=\"dataframe\">\n",
       "  <thead>\n",
       "    <tr style=\"text-align: right;\">\n",
       "      <th></th>\n",
       "      <th>ligand</th>\n",
       "      <th>homo</th>\n",
       "      <th>lumo</th>\n",
       "      <th>dipole</th>\n",
       "      <th>rh_charge</th>\n",
       "      <th>rh_LP_1_occ</th>\n",
       "      <th>rh_LP_1_eng</th>\n",
       "      <th>rh_LP_2_occ</th>\n",
       "      <th>rh_LP_2_eng</th>\n",
       "      <th>rh_LP_3_occ</th>\n",
       "      <th>...</th>\n",
       "      <th>Vbur%_5.0</th>\n",
       "      <th>NE_5.0</th>\n",
       "      <th>NW_5.0</th>\n",
       "      <th>SE_5.0</th>\n",
       "      <th>SW_5.0</th>\n",
       "      <th>Vbur%_6.0</th>\n",
       "      <th>NE_6.0</th>\n",
       "      <th>NW_6.0</th>\n",
       "      <th>SE_6.0</th>\n",
       "      <th>SW_6.0</th>\n",
       "    </tr>\n",
       "  </thead>\n",
       "  <tbody>\n",
       "    <tr>\n",
       "      <th>0</th>\n",
       "      <td>dcPAMP</td>\n",
       "      <td>-0.30529</td>\n",
       "      <td>-0.16003</td>\n",
       "      <td>0.4737</td>\n",
       "      <td>-0.35437</td>\n",
       "      <td>1.98307</td>\n",
       "      <td>-0.30775</td>\n",
       "      <td>1.95815</td>\n",
       "      <td>-0.35837</td>\n",
       "      <td>1.79868</td>\n",
       "      <td>...</td>\n",
       "      <td>47.315009</td>\n",
       "      <td>47.872189</td>\n",
       "      <td>47.901359</td>\n",
       "      <td>43.261802</td>\n",
       "      <td>50.224685</td>\n",
       "      <td>40.866479</td>\n",
       "      <td>40.639485</td>\n",
       "      <td>40.905710</td>\n",
       "      <td>39.863032</td>\n",
       "      <td>42.057690</td>\n",
       "    </tr>\n",
       "    <tr>\n",
       "      <th>1</th>\n",
       "      <td>dcpa</td>\n",
       "      <td>-0.30559</td>\n",
       "      <td>-0.15670</td>\n",
       "      <td>0.4496</td>\n",
       "      <td>-0.37791</td>\n",
       "      <td>1.98391</td>\n",
       "      <td>-0.30623</td>\n",
       "      <td>1.94745</td>\n",
       "      <td>-0.35936</td>\n",
       "      <td>1.80914</td>\n",
       "      <td>...</td>\n",
       "      <td>46.662633</td>\n",
       "      <td>45.645833</td>\n",
       "      <td>47.370786</td>\n",
       "      <td>46.110971</td>\n",
       "      <td>47.522942</td>\n",
       "      <td>41.961087</td>\n",
       "      <td>40.722935</td>\n",
       "      <td>42.928024</td>\n",
       "      <td>41.100277</td>\n",
       "      <td>43.093111</td>\n",
       "    </tr>\n",
       "    <tr>\n",
       "      <th>2</th>\n",
       "      <td>diprpa</td>\n",
       "      <td>-0.31343</td>\n",
       "      <td>-0.16420</td>\n",
       "      <td>1.7617</td>\n",
       "      <td>-0.38593</td>\n",
       "      <td>1.98416</td>\n",
       "      <td>-0.31577</td>\n",
       "      <td>1.94642</td>\n",
       "      <td>-0.36749</td>\n",
       "      <td>1.81254</td>\n",
       "      <td>...</td>\n",
       "      <td>45.769804</td>\n",
       "      <td>44.875595</td>\n",
       "      <td>46.616316</td>\n",
       "      <td>44.825140</td>\n",
       "      <td>46.762165</td>\n",
       "      <td>37.797066</td>\n",
       "      <td>37.065173</td>\n",
       "      <td>38.606286</td>\n",
       "      <td>36.490544</td>\n",
       "      <td>39.026260</td>\n",
       "    </tr>\n",
       "    <tr>\n",
       "      <th>3</th>\n",
       "      <td>DS-10</td>\n",
       "      <td>-0.30313</td>\n",
       "      <td>-0.17047</td>\n",
       "      <td>1.5365</td>\n",
       "      <td>-0.39825</td>\n",
       "      <td>1.98238</td>\n",
       "      <td>-0.30666</td>\n",
       "      <td>1.95305</td>\n",
       "      <td>-0.35787</td>\n",
       "      <td>1.80014</td>\n",
       "      <td>...</td>\n",
       "      <td>41.628299</td>\n",
       "      <td>40.666488</td>\n",
       "      <td>42.586169</td>\n",
       "      <td>40.668853</td>\n",
       "      <td>42.591687</td>\n",
       "      <td>37.426641</td>\n",
       "      <td>37.590367</td>\n",
       "      <td>37.261554</td>\n",
       "      <td>37.592635</td>\n",
       "      <td>37.262007</td>\n",
       "    </tr>\n",
       "    <tr>\n",
       "      <th>4</th>\n",
       "      <td>DS-11</td>\n",
       "      <td>-0.30256</td>\n",
       "      <td>-0.17061</td>\n",
       "      <td>0.5123</td>\n",
       "      <td>-0.37690</td>\n",
       "      <td>1.97580</td>\n",
       "      <td>-0.30490</td>\n",
       "      <td>1.95112</td>\n",
       "      <td>-0.35800</td>\n",
       "      <td>1.80342</td>\n",
       "      <td>...</td>\n",
       "      <td>41.329310</td>\n",
       "      <td>39.719656</td>\n",
       "      <td>43.575573</td>\n",
       "      <td>40.697234</td>\n",
       "      <td>41.324777</td>\n",
       "      <td>36.609143</td>\n",
       "      <td>35.770783</td>\n",
       "      <td>38.222142</td>\n",
       "      <td>36.185315</td>\n",
       "      <td>36.258334</td>\n",
       "    </tr>\n",
       "    <tr>\n",
       "      <th>...</th>\n",
       "      <td>...</td>\n",
       "      <td>...</td>\n",
       "      <td>...</td>\n",
       "      <td>...</td>\n",
       "      <td>...</td>\n",
       "      <td>...</td>\n",
       "      <td>...</td>\n",
       "      <td>...</td>\n",
       "      <td>...</td>\n",
       "      <td>...</td>\n",
       "      <td>...</td>\n",
       "      <td>...</td>\n",
       "      <td>...</td>\n",
       "      <td>...</td>\n",
       "      <td>...</td>\n",
       "      <td>...</td>\n",
       "      <td>...</td>\n",
       "      <td>...</td>\n",
       "      <td>...</td>\n",
       "      <td>...</td>\n",
       "      <td>...</td>\n",
       "    </tr>\n",
       "    <tr>\n",
       "      <th>282</th>\n",
       "      <td>MS-90</td>\n",
       "      <td>-0.30651</td>\n",
       "      <td>-0.16200</td>\n",
       "      <td>0.5110</td>\n",
       "      <td>-0.39736</td>\n",
       "      <td>1.98036</td>\n",
       "      <td>-0.31040</td>\n",
       "      <td>1.94921</td>\n",
       "      <td>-0.36116</td>\n",
       "      <td>1.81075</td>\n",
       "      <td>...</td>\n",
       "      <td>42.985675</td>\n",
       "      <td>41.764687</td>\n",
       "      <td>45.850020</td>\n",
       "      <td>41.741825</td>\n",
       "      <td>42.586169</td>\n",
       "      <td>39.058914</td>\n",
       "      <td>38.800853</td>\n",
       "      <td>40.686199</td>\n",
       "      <td>38.460248</td>\n",
       "      <td>38.288358</td>\n",
       "    </tr>\n",
       "    <tr>\n",
       "      <th>283</th>\n",
       "      <td>MS-91</td>\n",
       "      <td>-0.29003</td>\n",
       "      <td>-0.16617</td>\n",
       "      <td>2.8177</td>\n",
       "      <td>-0.56193</td>\n",
       "      <td>1.97629</td>\n",
       "      <td>-0.31107</td>\n",
       "      <td>1.93650</td>\n",
       "      <td>-0.36681</td>\n",
       "      <td>1.81843</td>\n",
       "      <td>...</td>\n",
       "      <td>43.698362</td>\n",
       "      <td>33.433982</td>\n",
       "      <td>49.999212</td>\n",
       "      <td>37.407367</td>\n",
       "      <td>53.952887</td>\n",
       "      <td>42.449317</td>\n",
       "      <td>34.781169</td>\n",
       "      <td>48.166810</td>\n",
       "      <td>37.559527</td>\n",
       "      <td>49.289764</td>\n",
       "    </tr>\n",
       "    <tr>\n",
       "      <th>284</th>\n",
       "      <td>MS-92</td>\n",
       "      <td>-0.29683</td>\n",
       "      <td>-0.15800</td>\n",
       "      <td>2.1256</td>\n",
       "      <td>-0.34873</td>\n",
       "      <td>1.98334</td>\n",
       "      <td>-0.30299</td>\n",
       "      <td>1.95312</td>\n",
       "      <td>-0.35436</td>\n",
       "      <td>1.81012</td>\n",
       "      <td>...</td>\n",
       "      <td>48.356446</td>\n",
       "      <td>48.915203</td>\n",
       "      <td>48.222226</td>\n",
       "      <td>44.351329</td>\n",
       "      <td>51.937025</td>\n",
       "      <td>42.384462</td>\n",
       "      <td>43.225090</td>\n",
       "      <td>41.522518</td>\n",
       "      <td>39.802259</td>\n",
       "      <td>44.987981</td>\n",
       "    </tr>\n",
       "    <tr>\n",
       "      <th>285</th>\n",
       "      <td>MS-93</td>\n",
       "      <td>-0.30480</td>\n",
       "      <td>-0.15955</td>\n",
       "      <td>1.8883</td>\n",
       "      <td>-0.30580</td>\n",
       "      <td>1.98230</td>\n",
       "      <td>-0.30363</td>\n",
       "      <td>1.95876</td>\n",
       "      <td>-0.35794</td>\n",
       "      <td>1.79485</td>\n",
       "      <td>...</td>\n",
       "      <td>51.315789</td>\n",
       "      <td>48.516288</td>\n",
       "      <td>48.936489</td>\n",
       "      <td>57.096118</td>\n",
       "      <td>50.714263</td>\n",
       "      <td>46.428069</td>\n",
       "      <td>41.051295</td>\n",
       "      <td>41.059005</td>\n",
       "      <td>59.026260</td>\n",
       "      <td>44.575718</td>\n",
       "    </tr>\n",
       "    <tr>\n",
       "      <th>286</th>\n",
       "      <td>MS-9</td>\n",
       "      <td>-0.31194</td>\n",
       "      <td>-0.16819</td>\n",
       "      <td>1.1081</td>\n",
       "      <td>-0.40772</td>\n",
       "      <td>1.98036</td>\n",
       "      <td>-0.31234</td>\n",
       "      <td>1.95420</td>\n",
       "      <td>-0.36659</td>\n",
       "      <td>1.80633</td>\n",
       "      <td>...</td>\n",
       "      <td>40.612879</td>\n",
       "      <td>37.801552</td>\n",
       "      <td>43.537731</td>\n",
       "      <td>42.235344</td>\n",
       "      <td>38.876888</td>\n",
       "      <td>34.157218</td>\n",
       "      <td>29.438523</td>\n",
       "      <td>37.134564</td>\n",
       "      <td>37.092839</td>\n",
       "      <td>32.962946</td>\n",
       "    </tr>\n",
       "  </tbody>\n",
       "</table>\n",
       "<p>287 rows × 157 columns</p>\n",
       "</div>"
      ]
     },
     "execution_count": 4,
     "metadata": {},
     "output_type": "execute_result"
    }
   ],
   "execution_count": 4
  },
  {
   "metadata": {
    "ExecuteTime": {
     "end_time": "2025-01-25T15:41:09.122604Z",
     "start_time": "2025-01-25T15:41:08.972087Z"
    }
   },
   "cell_type": "code",
   "source": [
    "import pandas as pd\n",
    "from sklearn.decomposition import PCA\n",
    "from sklearn.preprocessing import StandardScaler\n",
    "\n",
    "# Load the dataset\n",
    "file_path = \"parameters_phd.csv\"  # Path to your uploaded CSV file\n",
    "data = pd.read_csv(file_path)\n",
    "\n",
    "# Separate the `ligand` column\n",
    "ligand_column = data['ligand']\n",
    "data_numeric = data.drop(columns=['ligand'])\n",
    "data_numeric = data_numeric.fillna(data_numeric.mean())\n",
    "\n",
    "# Standardize the data (important for PCA)\n",
    "scaler = StandardScaler()\n",
    "data_scaled = scaler.fit_transform(data_numeric)\n",
    "\n",
    "# Perform PCA to reduce to 3 components\n",
    "pca = PCA(n_components=3)\n",
    "data_pca = pca.fit_transform(data_scaled)\n",
    "\n",
    "# Save the transformed data to a new CSV file\n",
    "pca_df = pd.DataFrame(data_pca, columns=['Component 1', 'Component 2', 'Component 3'])\n",
    "pca_df['ligand'] = ligand_column.values\n",
    "# output_file = \"/mnt/data/pca_output.csv\"\n",
    "# pca_df.to_csv(output_file, index=False)\n",
    "#\n",
    "# print(f\"PCA completed. Transformed data saved to {output_file}\")\n",
    "pca_df"
   ],
   "id": "324baa1196b581aa",
   "outputs": [
    {
     "data": {
      "text/plain": [
       "     Component 1  Component 2  Component 3  ligand\n",
       "0       5.931822     0.457674     3.937896  dcPAMP\n",
       "1       2.924543    -1.761837     3.880005    dcpa\n",
       "2       1.643196    -4.137959     4.604090  diprpa\n",
       "3       2.566244     2.044061    -3.211252   DS-10\n",
       "4       3.960765     1.351283    -3.400545   DS-11\n",
       "..           ...          ...          ...     ...\n",
       "282     2.384024     2.624356    -2.783570   MS-90\n",
       "283   -17.285434     7.160849    -0.864206   MS-91\n",
       "284     3.801457     3.633572     6.416227   MS-92\n",
       "285     7.523375     1.479296     7.452613   MS-93\n",
       "286     0.441493    -1.250117    -1.745204    MS-9\n",
       "\n",
       "[287 rows x 4 columns]"
      ],
      "text/html": [
       "<div>\n",
       "<style scoped>\n",
       "    .dataframe tbody tr th:only-of-type {\n",
       "        vertical-align: middle;\n",
       "    }\n",
       "\n",
       "    .dataframe tbody tr th {\n",
       "        vertical-align: top;\n",
       "    }\n",
       "\n",
       "    .dataframe thead th {\n",
       "        text-align: right;\n",
       "    }\n",
       "</style>\n",
       "<table border=\"1\" class=\"dataframe\">\n",
       "  <thead>\n",
       "    <tr style=\"text-align: right;\">\n",
       "      <th></th>\n",
       "      <th>Component 1</th>\n",
       "      <th>Component 2</th>\n",
       "      <th>Component 3</th>\n",
       "      <th>ligand</th>\n",
       "    </tr>\n",
       "  </thead>\n",
       "  <tbody>\n",
       "    <tr>\n",
       "      <th>0</th>\n",
       "      <td>5.931822</td>\n",
       "      <td>0.457674</td>\n",
       "      <td>3.937896</td>\n",
       "      <td>dcPAMP</td>\n",
       "    </tr>\n",
       "    <tr>\n",
       "      <th>1</th>\n",
       "      <td>2.924543</td>\n",
       "      <td>-1.761837</td>\n",
       "      <td>3.880005</td>\n",
       "      <td>dcpa</td>\n",
       "    </tr>\n",
       "    <tr>\n",
       "      <th>2</th>\n",
       "      <td>1.643196</td>\n",
       "      <td>-4.137959</td>\n",
       "      <td>4.604090</td>\n",
       "      <td>diprpa</td>\n",
       "    </tr>\n",
       "    <tr>\n",
       "      <th>3</th>\n",
       "      <td>2.566244</td>\n",
       "      <td>2.044061</td>\n",
       "      <td>-3.211252</td>\n",
       "      <td>DS-10</td>\n",
       "    </tr>\n",
       "    <tr>\n",
       "      <th>4</th>\n",
       "      <td>3.960765</td>\n",
       "      <td>1.351283</td>\n",
       "      <td>-3.400545</td>\n",
       "      <td>DS-11</td>\n",
       "    </tr>\n",
       "    <tr>\n",
       "      <th>...</th>\n",
       "      <td>...</td>\n",
       "      <td>...</td>\n",
       "      <td>...</td>\n",
       "      <td>...</td>\n",
       "    </tr>\n",
       "    <tr>\n",
       "      <th>282</th>\n",
       "      <td>2.384024</td>\n",
       "      <td>2.624356</td>\n",
       "      <td>-2.783570</td>\n",
       "      <td>MS-90</td>\n",
       "    </tr>\n",
       "    <tr>\n",
       "      <th>283</th>\n",
       "      <td>-17.285434</td>\n",
       "      <td>7.160849</td>\n",
       "      <td>-0.864206</td>\n",
       "      <td>MS-91</td>\n",
       "    </tr>\n",
       "    <tr>\n",
       "      <th>284</th>\n",
       "      <td>3.801457</td>\n",
       "      <td>3.633572</td>\n",
       "      <td>6.416227</td>\n",
       "      <td>MS-92</td>\n",
       "    </tr>\n",
       "    <tr>\n",
       "      <th>285</th>\n",
       "      <td>7.523375</td>\n",
       "      <td>1.479296</td>\n",
       "      <td>7.452613</td>\n",
       "      <td>MS-93</td>\n",
       "    </tr>\n",
       "    <tr>\n",
       "      <th>286</th>\n",
       "      <td>0.441493</td>\n",
       "      <td>-1.250117</td>\n",
       "      <td>-1.745204</td>\n",
       "      <td>MS-9</td>\n",
       "    </tr>\n",
       "  </tbody>\n",
       "</table>\n",
       "<p>287 rows × 4 columns</p>\n",
       "</div>"
      ]
     },
     "execution_count": 17,
     "metadata": {},
     "output_type": "execute_result"
    }
   ],
   "execution_count": 17
  },
  {
   "metadata": {
    "ExecuteTime": {
     "end_time": "2025-01-25T17:25:58.244139Z",
     "start_time": "2025-01-25T17:25:57.908946Z"
    }
   },
   "cell_type": "code",
   "source": [
    "import numpy as np\n",
    "\n",
    "pca_test = PCA().fit(data_scaled)\n",
    "cumsum_variance = np.cumsum(pca_test.explained_variance_ratio_)\n",
    "plt.plot(cumsum_variance)\n",
    "plt.xlabel('number of components')\n",
    "plt.ylabel('cumulative explained variance')\n",
    "num_components = np.argmax(cumsum_variance >= 0.80) + 1\n",
    "num_components"
   ],
   "id": "82c1190d86c480ac",
   "outputs": [
    {
     "data": {
      "text/plain": [
       "np.int64(13)"
      ]
     },
     "execution_count": 56,
     "metadata": {},
     "output_type": "execute_result"
    },
    {
     "data": {
      "text/plain": [
       "<Figure size 640x480 with 1 Axes>"
      ],
      "image/png": "[encoded data removed]"
     },
     "metadata": {},
     "output_type": "display_data"
    }
   ],
   "execution_count": 56
  },
  {
   "metadata": {
    "ExecuteTime": {
     "end_time": "2025-01-25T17:26:48.680810Z",
     "start_time": "2025-01-25T17:26:48.256476Z"
    }
   },
   "cell_type": "code",
   "source": [
    "import matplotlib.pyplot as plt\n",
    "\n",
    "# Fit PCA to the data\n",
    "pca_test = PCA(n_components=13).fit(data_scaled)\n",
    "\n",
    "# Explained variance ratio for each component\n",
    "explained_variance_ratio = pca_test.explained_variance_ratio_\n",
    "\n",
    "# Create a scree plot\n",
    "plt.figure(figsize=(8, 6))\n",
    "plt.bar(range(1, len(explained_variance_ratio) + 1), explained_variance_ratio, alpha=0.7, align='center', label='Individual Explained Variance')\n",
    "plt.step(range(1, len(explained_variance_ratio) + 1), np.cumsum(explained_variance_ratio), where='mid', label='Cumulative Explained Variance', color='orange')\n",
    "plt.axhline(y=0.8, color='r', linestyle='--', label='95% Variance Threshold')\n",
    "\n",
    "# Customize the plot\n",
    "plt.title('Scree Plot')\n",
    "plt.xlabel('Principal Components')\n",
    "plt.ylabel('Explained Variance Ratio')\n",
    "plt.legend(loc='best')\n",
    "plt.grid()\n",
    "plt.show()\n"
   ],
   "id": "69c9f9490fd36e43",
   "outputs": [
    {
     "data": {
      "text/plain": [
       "<Figure size 800x600 with 1 Axes>"
      ],
      "image/png": "[encoded data removed]"
     },
     "metadata": {},
     "output_type": "display_data"
    }
   ],
   "execution_count": 59
  },
  {
   "metadata": {
    "ExecuteTime": {
     "end_time": "2025-01-25T17:26:20.904532Z",
     "start_time": "2025-01-25T17:26:20.601247Z"
    }
   },
   "cell_type": "code",
   "source": [
    "import matplotlib.pyplot as plt\n",
    "\n",
    "# Fit PCA to the data\n",
    "pca_test = PCA(n_components=13).fit(data_scaled)\n",
    "\n",
    "# Explained variance ratio for each component\n",
    "explained_variance_ratio = pca_test.explained_variance_ratio_\n",
    "\n",
    "# Create a bar plot for the scree plot\n",
    "plt.figure(figsize=(8, 6))\n",
    "plt.bar(range(1, len(explained_variance_ratio) + 1), explained_variance_ratio, alpha=0.7, align='center')\n",
    "\n",
    "# Customize the plot\n",
    "plt.title('Scree Plot')\n",
    "plt.xlabel('Principal Components')\n",
    "plt.ylabel('Explained Variance Ratio')\n",
    "plt.grid(axis='y', linestyle='--', alpha=0.7)\n",
    "plt.show()\n"
   ],
   "id": "9a08e159de14f7cf",
   "outputs": [
    {
     "data": {
      "text/plain": [
       "<Figure size 800x600 with 1 Axes>"
      ],
      "image/png": "[encoded data removed]"
     },
     "metadata": {},
     "output_type": "display_data"
    }
   ],
   "execution_count": 58
  },
  {
   "metadata": {
    "ExecuteTime": {
     "end_time": "2025-01-25T17:21:24.047879Z",
     "start_time": "2025-01-25T17:21:24.014340Z"
    }
   },
   "cell_type": "code",
   "source": [
    "feature_names = [col for col in data.columns if col != 'ligand']\n",
    "\n",
    "loadings = pd.DataFrame(\n",
    "    pca_test.components_,\n",
    "    columns=feature_names,  # Feature names\n",
    "    index=[f'PC{i+1}' for i in range(len(pca_test.components_))]\n",
    ")\n",
    "loadings"
   ],
   "id": "f589abace976e6f4",
   "outputs": [
    {
     "data": {
      "text/plain": [
       "             #  Unnamed: 1      homo      lumo    dipole  rh_charge  \\\n",
       "PC1  -0.008317   -0.008317  0.058411  0.062825 -0.026106   0.146816   \n",
       "PC2  -0.022957   -0.022957  0.145587  0.114408 -0.037277   0.020676   \n",
       "PC3  -0.002893   -0.002893 -0.050028 -0.048956  0.054802   0.062027   \n",
       "PC4  -0.015294   -0.015294 -0.076106 -0.132251  0.081361  -0.006597   \n",
       "PC5   0.138935    0.138935 -0.031950  0.061125  0.010908   0.003220   \n",
       "PC6   0.045661    0.045661  0.059718  0.033702 -0.018938  -0.008728   \n",
       "PC7  -0.062989   -0.062989 -0.079913 -0.083801 -0.001978   0.024181   \n",
       "PC8   0.062382    0.062382  0.000960  0.059921 -0.093787  -0.048427   \n",
       "PC9   0.087802    0.087802 -0.000252  0.004223 -0.146318  -0.015220   \n",
       "PC10 -0.066851   -0.066851 -0.044935 -0.013551  0.033089  -0.034002   \n",
       "PC11 -0.214712   -0.214712 -0.129712 -0.119351  0.028680   0.035155   \n",
       "PC12 -0.094997   -0.094997 -0.011422 -0.070441  0.025585   0.022531   \n",
       "PC13  0.041113    0.041113 -0.097004 -0.023903 -0.070109   0.036417   \n",
       "PC14 -0.135089   -0.135089  0.037814  0.004112  0.173052   0.006228   \n",
       "PC15  0.256931    0.256931  0.067422 -0.013327  0.225383   0.012642   \n",
       "PC16 -0.038241   -0.038241  0.013197 -0.081479 -0.059270   0.043389   \n",
       "PC17 -0.161626   -0.161626 -0.015003 -0.074998 -0.024741  -0.011804   \n",
       "PC18  0.318796    0.318796 -0.039531 -0.063726  0.107375   0.039608   \n",
       "PC19  0.074916    0.074916 -0.057840 -0.017717  0.115483  -0.005916   \n",
       "PC20  0.105453    0.105453  0.015453 -0.014338 -0.110974  -0.024665   \n",
       "PC21 -0.064464   -0.064464  0.075284 -0.042711  0.285045   0.050220   \n",
       "PC22  0.152058    0.152058  0.003123  0.089319 -0.032055  -0.026023   \n",
       "PC23  0.169950    0.169950 -0.059786 -0.086583  0.139065   0.031854   \n",
       "PC24  0.106336    0.106336  0.016914 -0.032753  0.120654  -0.013523   \n",
       "PC25  0.106685    0.106685  0.058585  0.054303  0.025324  -0.046663   \n",
       "PC26  0.128539    0.128539  0.035507  0.101770 -0.007460   0.002250   \n",
       "PC27 -0.092488   -0.092488  0.065982  0.083391  0.086261   0.030851   \n",
       "PC28  0.023810    0.023810 -0.018887 -0.090014 -0.116235   0.009531   \n",
       "PC29 -0.034927   -0.034927 -0.046295  0.064212 -0.078955   0.030296   \n",
       "PC30 -0.018593   -0.018593  0.020096 -0.011374  0.210043  -0.002685   \n",
       "PC31 -0.044284   -0.044284 -0.017912  0.080304  0.295742   0.015080   \n",
       "PC32 -0.010030   -0.010030  0.081238  0.266388 -0.070536  -0.017361   \n",
       "\n",
       "      rh_LP_1_occ  rh_LP_1_eng  rh_LP_2_occ  rh_LP_2_eng  ...  Vbur%_5.0  \\\n",
       "PC1      0.034473     0.072758     0.129433     0.086516  ...   0.059222   \n",
       "PC2     -0.041300     0.137843     0.009142     0.144973  ...   0.133775   \n",
       "PC3      0.000406    -0.056845     0.024606    -0.051593  ...   0.163634   \n",
       "PC4     -0.076464    -0.096899    -0.108019    -0.078672  ...  -0.009701   \n",
       "PC5      0.035014    -0.032193     0.000511    -0.005371  ...   0.015987   \n",
       "PC6      0.063177     0.051744     0.024422     0.042827  ...  -0.027984   \n",
       "PC7      0.028929    -0.077003     0.020902    -0.055566  ...   0.009989   \n",
       "PC8     -0.062967     0.007899     0.010595    -0.004256  ...   0.081035   \n",
       "PC9     -0.111086     0.000666    -0.035701     0.079878  ...   0.003494   \n",
       "PC10    -0.170906    -0.077351     0.055788    -0.051663  ...   0.027222   \n",
       "PC11    -0.054470    -0.115259    -0.045615    -0.047510  ...   0.036830   \n",
       "PC12     0.032043    -0.028529    -0.003592    -0.004800  ...   0.007065   \n",
       "PC13    -0.076921    -0.005285    -0.034210    -0.059510  ...   0.046932   \n",
       "PC14    -0.120708     0.070611    -0.043625     0.003254  ...   0.041774   \n",
       "PC15    -0.092171    -0.011752    -0.015585     0.007677  ...  -0.004200   \n",
       "PC16    -0.144830    -0.032079    -0.054751     0.088675  ...  -0.006597   \n",
       "PC17    -0.317235    -0.043183    -0.052119     0.010731  ...  -0.047893   \n",
       "PC18     0.071538    -0.118626     0.002193     0.023004  ...  -0.060227   \n",
       "PC19    -0.121905    -0.006892    -0.112790    -0.053335  ...   0.008619   \n",
       "PC20    -0.140818    -0.054693     0.009411     0.036011  ...  -0.018797   \n",
       "PC21    -0.075044     0.034100    -0.140863     0.066042  ...   0.084995   \n",
       "PC22     0.116256     0.111655    -0.041972    -0.058028  ...   0.086765   \n",
       "PC23    -0.224677    -0.077472    -0.070104    -0.007000  ...   0.026268   \n",
       "PC24     0.061105     0.019725     0.081674     0.007552  ...   0.050762   \n",
       "PC25    -0.172619     0.030147    -0.030990     0.006436  ...  -0.009544   \n",
       "PC26     0.027553    -0.002027    -0.005180     0.013477  ...   0.006358   \n",
       "PC27     0.057552     0.020414    -0.064721     0.003738  ...  -0.028894   \n",
       "PC28    -0.205732    -0.018808     0.060192     0.025033  ...  -0.017896   \n",
       "PC29     0.205503    -0.038841     0.047578    -0.004764  ...   0.001515   \n",
       "PC30     0.040421    -0.006584    -0.032212     0.023703  ...  -0.004673   \n",
       "PC31     0.080753     0.021602    -0.036759    -0.026642  ...   0.001788   \n",
       "PC32    -0.073437     0.035489    -0.176965     0.043206  ...  -0.020721   \n",
       "\n",
       "        NE_5.0    NW_5.0    SE_5.0    SW_5.0  Vbur%_6.0    NE_6.0    NW_6.0  \\\n",
       "PC1   0.050779  0.030645  0.072356  0.032186   0.042521  0.039013  0.023594   \n",
       "PC2   0.079229  0.103036  0.104444  0.125691   0.158560  0.115812  0.122885   \n",
       "PC3   0.158715  0.132315  0.108945  0.109810   0.133790  0.126223  0.110167   \n",
       "PC4   0.009867 -0.047628  0.032751 -0.021198   0.010553  0.034452 -0.039740   \n",
       "PC5   0.018791 -0.016264 -0.006893  0.051990  -0.008347 -0.000286 -0.037085   \n",
       "PC6   0.039638 -0.179251 -0.048635  0.100169  -0.041507  0.035040 -0.165177   \n",
       "PC7  -0.140872 -0.080697  0.168780  0.078197  -0.011207 -0.136741 -0.063573   \n",
       "PC8  -0.017206  0.064047  0.033937  0.159511   0.085501  0.032129  0.058403   \n",
       "PC9   0.065793 -0.005792  0.009954 -0.051948  -0.006901  0.017572  0.000634   \n",
       "PC10  0.027726  0.024857 -0.003183  0.033838  -0.019891 -0.032048 -0.004354   \n",
       "PC11  0.053935  0.047583 -0.025993  0.037526   0.002791  0.024016  0.017499   \n",
       "PC12 -0.086077  0.144442 -0.170196  0.113795  -0.001647 -0.078815  0.125135   \n",
       "PC13  0.125621  0.006911 -0.011177  0.028836   0.064684  0.132869  0.003502   \n",
       "PC14  0.092375 -0.034031  0.044142  0.032259   0.077265  0.127615 -0.017047   \n",
       "PC15 -0.093720  0.107088  0.030640 -0.060035   0.035059 -0.074592  0.141806   \n",
       "PC16 -0.113651 -0.041086  0.041667  0.083513   0.009589 -0.050188 -0.047203   \n",
       "PC17  0.021757 -0.118954 -0.055617  0.006132  -0.033478  0.027720 -0.097596   \n",
       "PC18 -0.033863 -0.049402 -0.052061 -0.050683  -0.061871  0.009450 -0.076048   \n",
       "PC19  0.125899 -0.036531 -0.069732  0.011998   0.011240  0.093108 -0.026184   \n",
       "PC20 -0.022205  0.040102  0.089406 -0.155633  -0.023981 -0.012070 -0.025801   \n",
       "PC21  0.049022  0.143225  0.006264  0.061023   0.105752  0.098395  0.174171   \n",
       "PC22  0.044111  0.023804  0.055349  0.140831   0.110592  0.065285  0.033384   \n",
       "PC23 -0.074352  0.057892  0.031101  0.058818   0.027915 -0.077247  0.068510   \n",
       "PC24  0.103912  0.009616  0.024184  0.024430   0.011862  0.072698 -0.016989   \n",
       "PC25 -0.065150 -0.046473  0.005393  0.070041   0.000424 -0.069215 -0.039232   \n",
       "PC26  0.115412 -0.065786 -0.098007  0.068809   0.037097  0.205209 -0.090067   \n",
       "PC27  0.000909  0.015137 -0.046719 -0.057166   0.012509 -0.003645  0.080501   \n",
       "PC28  0.018132  0.023576 -0.084660 -0.013786  -0.034999  0.025694  0.004496   \n",
       "PC29 -0.018892 -0.026461 -0.049434  0.092007  -0.027127 -0.037858 -0.046388   \n",
       "PC30 -0.033972 -0.051586  0.013138  0.054340  -0.014718 -0.049529 -0.111153   \n",
       "PC31  0.023268 -0.011032  0.081948 -0.079837  -0.003506  0.052817 -0.021338   \n",
       "PC32 -0.064635  0.036124 -0.041909  0.000520   0.005917 -0.079553  0.104924   \n",
       "\n",
       "        SE_6.0    SW_6.0  \n",
       "PC1   0.049769  0.026060  \n",
       "PC2   0.135031  0.142537  \n",
       "PC3   0.094757  0.105494  \n",
       "PC4   0.051258 -0.011638  \n",
       "PC5  -0.029169  0.039769  \n",
       "PC6  -0.080493  0.077546  \n",
       "PC7   0.109530  0.049144  \n",
       "PC8   0.057555  0.129731  \n",
       "PC9  -0.014805 -0.025148  \n",
       "PC10 -0.049357  0.021040  \n",
       "PC11 -0.045542  0.014408  \n",
       "PC12 -0.137871  0.086448  \n",
       "PC13 -0.003470  0.080664  \n",
       "PC14  0.073496  0.069065  \n",
       "PC15  0.058633 -0.014452  \n",
       "PC16  0.037066  0.089546  \n",
       "PC17 -0.055199  0.017653  \n",
       "PC18 -0.057101 -0.076344  \n",
       "PC19 -0.014577 -0.013291  \n",
       "PC20  0.089357 -0.131043  \n",
       "PC21 -0.008910  0.082844  \n",
       "PC22  0.076191  0.184982  \n",
       "PC23  0.045045  0.051864  \n",
       "PC24 -0.022226  0.007198  \n",
       "PC25  0.028424  0.079127  \n",
       "PC26 -0.119801  0.131977  \n",
       "PC27 -0.056100  0.020765  \n",
       "PC28 -0.071435 -0.070724  \n",
       "PC29 -0.051308  0.047123  \n",
       "PC30  0.041000  0.069781  \n",
       "PC31  0.085235 -0.128032  \n",
       "PC32 -0.018625  0.010918  \n",
       "\n",
       "[32 rows x 158 columns]"
      ],
      "text/html": [
       "<div>\n",
       "<style scoped>\n",
       "    .dataframe tbody tr th:only-of-type {\n",
       "        vertical-align: middle;\n",
       "    }\n",
       "\n",
       "    .dataframe tbody tr th {\n",
       "        vertical-align: top;\n",
       "    }\n",
       "\n",
       "    .dataframe thead th {\n",
       "        text-align: right;\n",
       "    }\n",
       "</style>\n",
       "<table border=\"1\" class=\"dataframe\">\n",
       "  <thead>\n",
       "    <tr style=\"text-align: right;\">\n",
       "      <th></th>\n",
       "      <th>#</th>\n",
       "      <th>Unnamed: 1</th>\n",
       "      <th>homo</th>\n",
       "      <th>lumo</th>\n",
       "      <th>dipole</th>\n",
       "      <th>rh_charge</th>\n",
       "      <th>rh_LP_1_occ</th>\n",
       "      <th>rh_LP_1_eng</th>\n",
       "      <th>rh_LP_2_occ</th>\n",
       "      <th>rh_LP_2_eng</th>\n",
       "      <th>...</th>\n",
       "      <th>Vbur%_5.0</th>\n",
       "      <th>NE_5.0</th>\n",
       "      <th>NW_5.0</th>\n",
       "      <th>SE_5.0</th>\n",
       "      <th>SW_5.0</th>\n",
       "      <th>Vbur%_6.0</th>\n",
       "      <th>NE_6.0</th>\n",
       "      <th>NW_6.0</th>\n",
       "      <th>SE_6.0</th>\n",
       "      <th>SW_6.0</th>\n",
       "    </tr>\n",
       "  </thead>\n",
       "  <tbody>\n",
       "    <tr>\n",
       "      <th>PC1</th>\n",
       "      <td>-0.008317</td>\n",
       "      <td>-0.008317</td>\n",
       "      <td>0.058411</td>\n",
       "      <td>0.062825</td>\n",
       "      <td>-0.026106</td>\n",
       "      <td>0.146816</td>\n",
       "      <td>0.034473</td>\n",
       "      <td>0.072758</td>\n",
       "      <td>0.129433</td>\n",
       "      <td>0.086516</td>\n",
       "      <td>...</td>\n",
       "      <td>0.059222</td>\n",
       "      <td>0.050779</td>\n",
       "      <td>0.030645</td>\n",
       "      <td>0.072356</td>\n",
       "      <td>0.032186</td>\n",
       "      <td>0.042521</td>\n",
       "      <td>0.039013</td>\n",
       "      <td>0.023594</td>\n",
       "      <td>0.049769</td>\n",
       "      <td>0.026060</td>\n",
       "    </tr>\n",
       "    <tr>\n",
       "      <th>PC2</th>\n",
       "      <td>-0.022957</td>\n",
       "      <td>-0.022957</td>\n",
       "      <td>0.145587</td>\n",
       "      <td>0.114408</td>\n",
       "      <td>-0.037277</td>\n",
       "      <td>0.020676</td>\n",
       "      <td>-0.041300</td>\n",
       "      <td>0.137843</td>\n",
       "      <td>0.009142</td>\n",
       "      <td>0.144973</td>\n",
       "      <td>...</td>\n",
       "      <td>0.133775</td>\n",
       "      <td>0.079229</td>\n",
       "      <td>0.103036</td>\n",
       "      <td>0.104444</td>\n",
       "      <td>0.125691</td>\n",
       "      <td>0.158560</td>\n",
       "      <td>0.115812</td>\n",
       "      <td>0.122885</td>\n",
       "      <td>0.135031</td>\n",
       "      <td>0.142537</td>\n",
       "    </tr>\n",
       "    <tr>\n",
       "      <th>PC3</th>\n",
       "      <td>-0.002893</td>\n",
       "      <td>-0.002893</td>\n",
       "      <td>-0.050028</td>\n",
       "      <td>-0.048956</td>\n",
       "      <td>0.054802</td>\n",
       "      <td>0.062027</td>\n",
       "      <td>0.000406</td>\n",
       "      <td>-0.056845</td>\n",
       "      <td>0.024606</td>\n",
       "      <td>-0.051593</td>\n",
       "      <td>...</td>\n",
       "      <td>0.163634</td>\n",
       "      <td>0.158715</td>\n",
       "      <td>0.132315</td>\n",
       "      <td>0.108945</td>\n",
       "      <td>0.109810</td>\n",
       "      <td>0.133790</td>\n",
       "      <td>0.126223</td>\n",
       "      <td>0.110167</td>\n",
       "      <td>0.094757</td>\n",
       "      <td>0.105494</td>\n",
       "    </tr>\n",
       "    <tr>\n",
       "      <th>PC4</th>\n",
       "      <td>-0.015294</td>\n",
       "      <td>-0.015294</td>\n",
       "      <td>-0.076106</td>\n",
       "      <td>-0.132251</td>\n",
       "      <td>0.081361</td>\n",
       "      <td>-0.006597</td>\n",
       "      <td>-0.076464</td>\n",
       "      <td>-0.096899</td>\n",
       "      <td>-0.108019</td>\n",
       "      <td>-0.078672</td>\n",
       "      <td>...</td>\n",
       "      <td>-0.009701</td>\n",
       "      <td>0.009867</td>\n",
       "      <td>-0.047628</td>\n",
       "      <td>0.032751</td>\n",
       "      <td>-0.021198</td>\n",
       "      <td>0.010553</td>\n",
       "      <td>0.034452</td>\n",
       "      <td>-0.039740</td>\n",
       "      <td>0.051258</td>\n",
       "      <td>-0.011638</td>\n",
       "    </tr>\n",
       "    <tr>\n",
       "      <th>PC5</th>\n",
       "      <td>0.138935</td>\n",
       "      <td>0.138935</td>\n",
       "      <td>-0.031950</td>\n",
       "      <td>0.061125</td>\n",
       "      <td>0.010908</td>\n",
       "      <td>0.003220</td>\n",
       "      <td>0.035014</td>\n",
       "      <td>-0.032193</td>\n",
       "      <td>0.000511</td>\n",
       "      <td>-0.005371</td>\n",
       "      <td>...</td>\n",
       "      <td>0.015987</td>\n",
       "      <td>0.018791</td>\n",
       "      <td>-0.016264</td>\n",
       "      <td>-0.006893</td>\n",
       "      <td>0.051990</td>\n",
       "      <td>-0.008347</td>\n",
       "      <td>-0.000286</td>\n",
       "      <td>-0.037085</td>\n",
       "      <td>-0.029169</td>\n",
       "      <td>0.039769</td>\n",
       "    </tr>\n",
       "    <tr>\n",
       "      <th>PC6</th>\n",
       "      <td>0.045661</td>\n",
       "      <td>0.045661</td>\n",
       "      <td>0.059718</td>\n",
       "      <td>0.033702</td>\n",
       "      <td>-0.018938</td>\n",
       "      <td>-0.008728</td>\n",
       "      <td>0.063177</td>\n",
       "      <td>0.051744</td>\n",
       "      <td>0.024422</td>\n",
       "      <td>0.042827</td>\n",
       "      <td>...</td>\n",
       "      <td>-0.027984</td>\n",
       "      <td>0.039638</td>\n",
       "      <td>-0.179251</td>\n",
       "      <td>-0.048635</td>\n",
       "      <td>0.100169</td>\n",
       "      <td>-0.041507</td>\n",
       "      <td>0.035040</td>\n",
       "      <td>-0.165177</td>\n",
       "      <td>-0.080493</td>\n",
       "      <td>0.077546</td>\n",
       "    </tr>\n",
       "    <tr>\n",
       "      <th>PC7</th>\n",
       "      <td>-0.062989</td>\n",
       "      <td>-0.062989</td>\n",
       "      <td>-0.079913</td>\n",
       "      <td>-0.083801</td>\n",
       "      <td>-0.001978</td>\n",
       "      <td>0.024181</td>\n",
       "      <td>0.028929</td>\n",
       "      <td>-0.077003</td>\n",
       "      <td>0.020902</td>\n",
       "      <td>-0.055566</td>\n",
       "      <td>...</td>\n",
       "      <td>0.009989</td>\n",
       "      <td>-0.140872</td>\n",
       "      <td>-0.080697</td>\n",
       "      <td>0.168780</td>\n",
       "      <td>0.078197</td>\n",
       "      <td>-0.011207</td>\n",
       "      <td>-0.136741</td>\n",
       "      <td>-0.063573</td>\n",
       "      <td>0.109530</td>\n",
       "      <td>0.049144</td>\n",
       "    </tr>\n",
       "    <tr>\n",
       "      <th>PC8</th>\n",
       "      <td>0.062382</td>\n",
       "      <td>0.062382</td>\n",
       "      <td>0.000960</td>\n",
       "      <td>0.059921</td>\n",
       "      <td>-0.093787</td>\n",
       "      <td>-0.048427</td>\n",
       "      <td>-0.062967</td>\n",
       "      <td>0.007899</td>\n",
       "      <td>0.010595</td>\n",
       "      <td>-0.004256</td>\n",
       "      <td>...</td>\n",
       "      <td>0.081035</td>\n",
       "      <td>-0.017206</td>\n",
       "      <td>0.064047</td>\n",
       "      <td>0.033937</td>\n",
       "      <td>0.159511</td>\n",
       "      <td>0.085501</td>\n",
       "      <td>0.032129</td>\n",
       "      <td>0.058403</td>\n",
       "      <td>0.057555</td>\n",
       "      <td>0.129731</td>\n",
       "    </tr>\n",
       "    <tr>\n",
       "      <th>PC9</th>\n",
       "      <td>0.087802</td>\n",
       "      <td>0.087802</td>\n",
       "      <td>-0.000252</td>\n",
       "      <td>0.004223</td>\n",
       "      <td>-0.146318</td>\n",
       "      <td>-0.015220</td>\n",
       "      <td>-0.111086</td>\n",
       "      <td>0.000666</td>\n",
       "      <td>-0.035701</td>\n",
       "      <td>0.079878</td>\n",
       "      <td>...</td>\n",
       "      <td>0.003494</td>\n",
       "      <td>0.065793</td>\n",
       "      <td>-0.005792</td>\n",
       "      <td>0.009954</td>\n",
       "      <td>-0.051948</td>\n",
       "      <td>-0.006901</td>\n",
       "      <td>0.017572</td>\n",
       "      <td>0.000634</td>\n",
       "      <td>-0.014805</td>\n",
       "      <td>-0.025148</td>\n",
       "    </tr>\n",
       "    <tr>\n",
       "      <th>PC10</th>\n",
       "      <td>-0.066851</td>\n",
       "      <td>-0.066851</td>\n",
       "      <td>-0.044935</td>\n",
       "      <td>-0.013551</td>\n",
       "      <td>0.033089</td>\n",
       "      <td>-0.034002</td>\n",
       "      <td>-0.170906</td>\n",
       "      <td>-0.077351</td>\n",
       "      <td>0.055788</td>\n",
       "      <td>-0.051663</td>\n",
       "      <td>...</td>\n",
       "      <td>0.027222</td>\n",
       "      <td>0.027726</td>\n",
       "      <td>0.024857</td>\n",
       "      <td>-0.003183</td>\n",
       "      <td>0.033838</td>\n",
       "      <td>-0.019891</td>\n",
       "      <td>-0.032048</td>\n",
       "      <td>-0.004354</td>\n",
       "      <td>-0.049357</td>\n",
       "      <td>0.021040</td>\n",
       "    </tr>\n",
       "    <tr>\n",
       "      <th>PC11</th>\n",
       "      <td>-0.214712</td>\n",
       "      <td>-0.214712</td>\n",
       "      <td>-0.129712</td>\n",
       "      <td>-0.119351</td>\n",
       "      <td>0.028680</td>\n",
       "      <td>0.035155</td>\n",
       "      <td>-0.054470</td>\n",
       "      <td>-0.115259</td>\n",
       "      <td>-0.045615</td>\n",
       "      <td>-0.047510</td>\n",
       "      <td>...</td>\n",
       "      <td>0.036830</td>\n",
       "      <td>0.053935</td>\n",
       "      <td>0.047583</td>\n",
       "      <td>-0.025993</td>\n",
       "      <td>0.037526</td>\n",
       "      <td>0.002791</td>\n",
       "      <td>0.024016</td>\n",
       "      <td>0.017499</td>\n",
       "      <td>-0.045542</td>\n",
       "      <td>0.014408</td>\n",
       "    </tr>\n",
       "    <tr>\n",
       "      <th>PC12</th>\n",
       "      <td>-0.094997</td>\n",
       "      <td>-0.094997</td>\n",
       "      <td>-0.011422</td>\n",
       "      <td>-0.070441</td>\n",
       "      <td>0.025585</td>\n",
       "      <td>0.022531</td>\n",
       "      <td>0.032043</td>\n",
       "      <td>-0.028529</td>\n",
       "      <td>-0.003592</td>\n",
       "      <td>-0.004800</td>\n",
       "      <td>...</td>\n",
       "      <td>0.007065</td>\n",
       "      <td>-0.086077</td>\n",
       "      <td>0.144442</td>\n",
       "      <td>-0.170196</td>\n",
       "      <td>0.113795</td>\n",
       "      <td>-0.001647</td>\n",
       "      <td>-0.078815</td>\n",
       "      <td>0.125135</td>\n",
       "      <td>-0.137871</td>\n",
       "      <td>0.086448</td>\n",
       "    </tr>\n",
       "    <tr>\n",
       "      <th>PC13</th>\n",
       "      <td>0.041113</td>\n",
       "      <td>0.041113</td>\n",
       "      <td>-0.097004</td>\n",
       "      <td>-0.023903</td>\n",
       "      <td>-0.070109</td>\n",
       "      <td>0.036417</td>\n",
       "      <td>-0.076921</td>\n",
       "      <td>-0.005285</td>\n",
       "      <td>-0.034210</td>\n",
       "      <td>-0.059510</td>\n",
       "      <td>...</td>\n",
       "      <td>0.046932</td>\n",
       "      <td>0.125621</td>\n",
       "      <td>0.006911</td>\n",
       "      <td>-0.011177</td>\n",
       "      <td>0.028836</td>\n",
       "      <td>0.064684</td>\n",
       "      <td>0.132869</td>\n",
       "      <td>0.003502</td>\n",
       "      <td>-0.003470</td>\n",
       "      <td>0.080664</td>\n",
       "    </tr>\n",
       "    <tr>\n",
       "      <th>PC14</th>\n",
       "      <td>-0.135089</td>\n",
       "      <td>-0.135089</td>\n",
       "      <td>0.037814</td>\n",
       "      <td>0.004112</td>\n",
       "      <td>0.173052</td>\n",
       "      <td>0.006228</td>\n",
       "      <td>-0.120708</td>\n",
       "      <td>0.070611</td>\n",
       "      <td>-0.043625</td>\n",
       "      <td>0.003254</td>\n",
       "      <td>...</td>\n",
       "      <td>0.041774</td>\n",
       "      <td>0.092375</td>\n",
       "      <td>-0.034031</td>\n",
       "      <td>0.044142</td>\n",
       "      <td>0.032259</td>\n",
       "      <td>0.077265</td>\n",
       "      <td>0.127615</td>\n",
       "      <td>-0.017047</td>\n",
       "      <td>0.073496</td>\n",
       "      <td>0.069065</td>\n",
       "    </tr>\n",
       "    <tr>\n",
       "      <th>PC15</th>\n",
       "      <td>0.256931</td>\n",
       "      <td>0.256931</td>\n",
       "      <td>0.067422</td>\n",
       "      <td>-0.013327</td>\n",
       "      <td>0.225383</td>\n",
       "      <td>0.012642</td>\n",
       "      <td>-0.092171</td>\n",
       "      <td>-0.011752</td>\n",
       "      <td>-0.015585</td>\n",
       "      <td>0.007677</td>\n",
       "      <td>...</td>\n",
       "      <td>-0.004200</td>\n",
       "      <td>-0.093720</td>\n",
       "      <td>0.107088</td>\n",
       "      <td>0.030640</td>\n",
       "      <td>-0.060035</td>\n",
       "      <td>0.035059</td>\n",
       "      <td>-0.074592</td>\n",
       "      <td>0.141806</td>\n",
       "      <td>0.058633</td>\n",
       "      <td>-0.014452</td>\n",
       "    </tr>\n",
       "    <tr>\n",
       "      <th>PC16</th>\n",
       "      <td>-0.038241</td>\n",
       "      <td>-0.038241</td>\n",
       "      <td>0.013197</td>\n",
       "      <td>-0.081479</td>\n",
       "      <td>-0.059270</td>\n",
       "      <td>0.043389</td>\n",
       "      <td>-0.144830</td>\n",
       "      <td>-0.032079</td>\n",
       "      <td>-0.054751</td>\n",
       "      <td>0.088675</td>\n",
       "      <td>...</td>\n",
       "      <td>-0.006597</td>\n",
       "      <td>-0.113651</td>\n",
       "      <td>-0.041086</td>\n",
       "      <td>0.041667</td>\n",
       "      <td>0.083513</td>\n",
       "      <td>0.009589</td>\n",
       "      <td>-0.050188</td>\n",
       "      <td>-0.047203</td>\n",
       "      <td>0.037066</td>\n",
       "      <td>0.089546</td>\n",
       "    </tr>\n",
       "    <tr>\n",
       "      <th>PC17</th>\n",
       "      <td>-0.161626</td>\n",
       "      <td>-0.161626</td>\n",
       "      <td>-0.015003</td>\n",
       "      <td>-0.074998</td>\n",
       "      <td>-0.024741</td>\n",
       "      <td>-0.011804</td>\n",
       "      <td>-0.317235</td>\n",
       "      <td>-0.043183</td>\n",
       "      <td>-0.052119</td>\n",
       "      <td>0.010731</td>\n",
       "      <td>...</td>\n",
       "      <td>-0.047893</td>\n",
       "      <td>0.021757</td>\n",
       "      <td>-0.118954</td>\n",
       "      <td>-0.055617</td>\n",
       "      <td>0.006132</td>\n",
       "      <td>-0.033478</td>\n",
       "      <td>0.027720</td>\n",
       "      <td>-0.097596</td>\n",
       "      <td>-0.055199</td>\n",
       "      <td>0.017653</td>\n",
       "    </tr>\n",
       "    <tr>\n",
       "      <th>PC18</th>\n",
       "      <td>0.318796</td>\n",
       "      <td>0.318796</td>\n",
       "      <td>-0.039531</td>\n",
       "      <td>-0.063726</td>\n",
       "      <td>0.107375</td>\n",
       "      <td>0.039608</td>\n",
       "      <td>0.071538</td>\n",
       "      <td>-0.118626</td>\n",
       "      <td>0.002193</td>\n",
       "      <td>0.023004</td>\n",
       "      <td>...</td>\n",
       "      <td>-0.060227</td>\n",
       "      <td>-0.033863</td>\n",
       "      <td>-0.049402</td>\n",
       "      <td>-0.052061</td>\n",
       "      <td>-0.050683</td>\n",
       "      <td>-0.061871</td>\n",
       "      <td>0.009450</td>\n",
       "      <td>-0.076048</td>\n",
       "      <td>-0.057101</td>\n",
       "      <td>-0.076344</td>\n",
       "    </tr>\n",
       "    <tr>\n",
       "      <th>PC19</th>\n",
       "      <td>0.074916</td>\n",
       "      <td>0.074916</td>\n",
       "      <td>-0.057840</td>\n",
       "      <td>-0.017717</td>\n",
       "      <td>0.115483</td>\n",
       "      <td>-0.005916</td>\n",
       "      <td>-0.121905</td>\n",
       "      <td>-0.006892</td>\n",
       "      <td>-0.112790</td>\n",
       "      <td>-0.053335</td>\n",
       "      <td>...</td>\n",
       "      <td>0.008619</td>\n",
       "      <td>0.125899</td>\n",
       "      <td>-0.036531</td>\n",
       "      <td>-0.069732</td>\n",
       "      <td>0.011998</td>\n",
       "      <td>0.011240</td>\n",
       "      <td>0.093108</td>\n",
       "      <td>-0.026184</td>\n",
       "      <td>-0.014577</td>\n",
       "      <td>-0.013291</td>\n",
       "    </tr>\n",
       "    <tr>\n",
       "      <th>PC20</th>\n",
       "      <td>0.105453</td>\n",
       "      <td>0.105453</td>\n",
       "      <td>0.015453</td>\n",
       "      <td>-0.014338</td>\n",
       "      <td>-0.110974</td>\n",
       "      <td>-0.024665</td>\n",
       "      <td>-0.140818</td>\n",
       "      <td>-0.054693</td>\n",
       "      <td>0.009411</td>\n",
       "      <td>0.036011</td>\n",
       "      <td>...</td>\n",
       "      <td>-0.018797</td>\n",
       "      <td>-0.022205</td>\n",
       "      <td>0.040102</td>\n",
       "      <td>0.089406</td>\n",
       "      <td>-0.155633</td>\n",
       "      <td>-0.023981</td>\n",
       "      <td>-0.012070</td>\n",
       "      <td>-0.025801</td>\n",
       "      <td>0.089357</td>\n",
       "      <td>-0.131043</td>\n",
       "    </tr>\n",
       "    <tr>\n",
       "      <th>PC21</th>\n",
       "      <td>-0.064464</td>\n",
       "      <td>-0.064464</td>\n",
       "      <td>0.075284</td>\n",
       "      <td>-0.042711</td>\n",
       "      <td>0.285045</td>\n",
       "      <td>0.050220</td>\n",
       "      <td>-0.075044</td>\n",
       "      <td>0.034100</td>\n",
       "      <td>-0.140863</td>\n",
       "      <td>0.066042</td>\n",
       "      <td>...</td>\n",
       "      <td>0.084995</td>\n",
       "      <td>0.049022</td>\n",
       "      <td>0.143225</td>\n",
       "      <td>0.006264</td>\n",
       "      <td>0.061023</td>\n",
       "      <td>0.105752</td>\n",
       "      <td>0.098395</td>\n",
       "      <td>0.174171</td>\n",
       "      <td>-0.008910</td>\n",
       "      <td>0.082844</td>\n",
       "    </tr>\n",
       "    <tr>\n",
       "      <th>PC22</th>\n",
       "      <td>0.152058</td>\n",
       "      <td>0.152058</td>\n",
       "      <td>0.003123</td>\n",
       "      <td>0.089319</td>\n",
       "      <td>-0.032055</td>\n",
       "      <td>-0.026023</td>\n",
       "      <td>0.116256</td>\n",
       "      <td>0.111655</td>\n",
       "      <td>-0.041972</td>\n",
       "      <td>-0.058028</td>\n",
       "      <td>...</td>\n",
       "      <td>0.086765</td>\n",
       "      <td>0.044111</td>\n",
       "      <td>0.023804</td>\n",
       "      <td>0.055349</td>\n",
       "      <td>0.140831</td>\n",
       "      <td>0.110592</td>\n",
       "      <td>0.065285</td>\n",
       "      <td>0.033384</td>\n",
       "      <td>0.076191</td>\n",
       "      <td>0.184982</td>\n",
       "    </tr>\n",
       "    <tr>\n",
       "      <th>PC23</th>\n",
       "      <td>0.169950</td>\n",
       "      <td>0.169950</td>\n",
       "      <td>-0.059786</td>\n",
       "      <td>-0.086583</td>\n",
       "      <td>0.139065</td>\n",
       "      <td>0.031854</td>\n",
       "      <td>-0.224677</td>\n",
       "      <td>-0.077472</td>\n",
       "      <td>-0.070104</td>\n",
       "      <td>-0.007000</td>\n",
       "      <td>...</td>\n",
       "      <td>0.026268</td>\n",
       "      <td>-0.074352</td>\n",
       "      <td>0.057892</td>\n",
       "      <td>0.031101</td>\n",
       "      <td>0.058818</td>\n",
       "      <td>0.027915</td>\n",
       "      <td>-0.077247</td>\n",
       "      <td>0.068510</td>\n",
       "      <td>0.045045</td>\n",
       "      <td>0.051864</td>\n",
       "    </tr>\n",
       "    <tr>\n",
       "      <th>PC24</th>\n",
       "      <td>0.106336</td>\n",
       "      <td>0.106336</td>\n",
       "      <td>0.016914</td>\n",
       "      <td>-0.032753</td>\n",
       "      <td>0.120654</td>\n",
       "      <td>-0.013523</td>\n",
       "      <td>0.061105</td>\n",
       "      <td>0.019725</td>\n",
       "      <td>0.081674</td>\n",
       "      <td>0.007552</td>\n",
       "      <td>...</td>\n",
       "      <td>0.050762</td>\n",
       "      <td>0.103912</td>\n",
       "      <td>0.009616</td>\n",
       "      <td>0.024184</td>\n",
       "      <td>0.024430</td>\n",
       "      <td>0.011862</td>\n",
       "      <td>0.072698</td>\n",
       "      <td>-0.016989</td>\n",
       "      <td>-0.022226</td>\n",
       "      <td>0.007198</td>\n",
       "    </tr>\n",
       "    <tr>\n",
       "      <th>PC25</th>\n",
       "      <td>0.106685</td>\n",
       "      <td>0.106685</td>\n",
       "      <td>0.058585</td>\n",
       "      <td>0.054303</td>\n",
       "      <td>0.025324</td>\n",
       "      <td>-0.046663</td>\n",
       "      <td>-0.172619</td>\n",
       "      <td>0.030147</td>\n",
       "      <td>-0.030990</td>\n",
       "      <td>0.006436</td>\n",
       "      <td>...</td>\n",
       "      <td>-0.009544</td>\n",
       "      <td>-0.065150</td>\n",
       "      <td>-0.046473</td>\n",
       "      <td>0.005393</td>\n",
       "      <td>0.070041</td>\n",
       "      <td>0.000424</td>\n",
       "      <td>-0.069215</td>\n",
       "      <td>-0.039232</td>\n",
       "      <td>0.028424</td>\n",
       "      <td>0.079127</td>\n",
       "    </tr>\n",
       "    <tr>\n",
       "      <th>PC26</th>\n",
       "      <td>0.128539</td>\n",
       "      <td>0.128539</td>\n",
       "      <td>0.035507</td>\n",
       "      <td>0.101770</td>\n",
       "      <td>-0.007460</td>\n",
       "      <td>0.002250</td>\n",
       "      <td>0.027553</td>\n",
       "      <td>-0.002027</td>\n",
       "      <td>-0.005180</td>\n",
       "      <td>0.013477</td>\n",
       "      <td>...</td>\n",
       "      <td>0.006358</td>\n",
       "      <td>0.115412</td>\n",
       "      <td>-0.065786</td>\n",
       "      <td>-0.098007</td>\n",
       "      <td>0.068809</td>\n",
       "      <td>0.037097</td>\n",
       "      <td>0.205209</td>\n",
       "      <td>-0.090067</td>\n",
       "      <td>-0.119801</td>\n",
       "      <td>0.131977</td>\n",
       "    </tr>\n",
       "    <tr>\n",
       "      <th>PC27</th>\n",
       "      <td>-0.092488</td>\n",
       "      <td>-0.092488</td>\n",
       "      <td>0.065982</td>\n",
       "      <td>0.083391</td>\n",
       "      <td>0.086261</td>\n",
       "      <td>0.030851</td>\n",
       "      <td>0.057552</td>\n",
       "      <td>0.020414</td>\n",
       "      <td>-0.064721</td>\n",
       "      <td>0.003738</td>\n",
       "      <td>...</td>\n",
       "      <td>-0.028894</td>\n",
       "      <td>0.000909</td>\n",
       "      <td>0.015137</td>\n",
       "      <td>-0.046719</td>\n",
       "      <td>-0.057166</td>\n",
       "      <td>0.012509</td>\n",
       "      <td>-0.003645</td>\n",
       "      <td>0.080501</td>\n",
       "      <td>-0.056100</td>\n",
       "      <td>0.020765</td>\n",
       "    </tr>\n",
       "    <tr>\n",
       "      <th>PC28</th>\n",
       "      <td>0.023810</td>\n",
       "      <td>0.023810</td>\n",
       "      <td>-0.018887</td>\n",
       "      <td>-0.090014</td>\n",
       "      <td>-0.116235</td>\n",
       "      <td>0.009531</td>\n",
       "      <td>-0.205732</td>\n",
       "      <td>-0.018808</td>\n",
       "      <td>0.060192</td>\n",
       "      <td>0.025033</td>\n",
       "      <td>...</td>\n",
       "      <td>-0.017896</td>\n",
       "      <td>0.018132</td>\n",
       "      <td>0.023576</td>\n",
       "      <td>-0.084660</td>\n",
       "      <td>-0.013786</td>\n",
       "      <td>-0.034999</td>\n",
       "      <td>0.025694</td>\n",
       "      <td>0.004496</td>\n",
       "      <td>-0.071435</td>\n",
       "      <td>-0.070724</td>\n",
       "    </tr>\n",
       "    <tr>\n",
       "      <th>PC29</th>\n",
       "      <td>-0.034927</td>\n",
       "      <td>-0.034927</td>\n",
       "      <td>-0.046295</td>\n",
       "      <td>0.064212</td>\n",
       "      <td>-0.078955</td>\n",
       "      <td>0.030296</td>\n",
       "      <td>0.205503</td>\n",
       "      <td>-0.038841</td>\n",
       "      <td>0.047578</td>\n",
       "      <td>-0.004764</td>\n",
       "      <td>...</td>\n",
       "      <td>0.001515</td>\n",
       "      <td>-0.018892</td>\n",
       "      <td>-0.026461</td>\n",
       "      <td>-0.049434</td>\n",
       "      <td>0.092007</td>\n",
       "      <td>-0.027127</td>\n",
       "      <td>-0.037858</td>\n",
       "      <td>-0.046388</td>\n",
       "      <td>-0.051308</td>\n",
       "      <td>0.047123</td>\n",
       "    </tr>\n",
       "    <tr>\n",
       "      <th>PC30</th>\n",
       "      <td>-0.018593</td>\n",
       "      <td>-0.018593</td>\n",
       "      <td>0.020096</td>\n",
       "      <td>-0.011374</td>\n",
       "      <td>0.210043</td>\n",
       "      <td>-0.002685</td>\n",
       "      <td>0.040421</td>\n",
       "      <td>-0.006584</td>\n",
       "      <td>-0.032212</td>\n",
       "      <td>0.023703</td>\n",
       "      <td>...</td>\n",
       "      <td>-0.004673</td>\n",
       "      <td>-0.033972</td>\n",
       "      <td>-0.051586</td>\n",
       "      <td>0.013138</td>\n",
       "      <td>0.054340</td>\n",
       "      <td>-0.014718</td>\n",
       "      <td>-0.049529</td>\n",
       "      <td>-0.111153</td>\n",
       "      <td>0.041000</td>\n",
       "      <td>0.069781</td>\n",
       "    </tr>\n",
       "    <tr>\n",
       "      <th>PC31</th>\n",
       "      <td>-0.044284</td>\n",
       "      <td>-0.044284</td>\n",
       "      <td>-0.017912</td>\n",
       "      <td>0.080304</td>\n",
       "      <td>0.295742</td>\n",
       "      <td>0.015080</td>\n",
       "      <td>0.080753</td>\n",
       "      <td>0.021602</td>\n",
       "      <td>-0.036759</td>\n",
       "      <td>-0.026642</td>\n",
       "      <td>...</td>\n",
       "      <td>0.001788</td>\n",
       "      <td>0.023268</td>\n",
       "      <td>-0.011032</td>\n",
       "      <td>0.081948</td>\n",
       "      <td>-0.079837</td>\n",
       "      <td>-0.003506</td>\n",
       "      <td>0.052817</td>\n",
       "      <td>-0.021338</td>\n",
       "      <td>0.085235</td>\n",
       "      <td>-0.128032</td>\n",
       "    </tr>\n",
       "    <tr>\n",
       "      <th>PC32</th>\n",
       "      <td>-0.010030</td>\n",
       "      <td>-0.010030</td>\n",
       "      <td>0.081238</td>\n",
       "      <td>0.266388</td>\n",
       "      <td>-0.070536</td>\n",
       "      <td>-0.017361</td>\n",
       "      <td>-0.073437</td>\n",
       "      <td>0.035489</td>\n",
       "      <td>-0.176965</td>\n",
       "      <td>0.043206</td>\n",
       "      <td>...</td>\n",
       "      <td>-0.020721</td>\n",
       "      <td>-0.064635</td>\n",
       "      <td>0.036124</td>\n",
       "      <td>-0.041909</td>\n",
       "      <td>0.000520</td>\n",
       "      <td>0.005917</td>\n",
       "      <td>-0.079553</td>\n",
       "      <td>0.104924</td>\n",
       "      <td>-0.018625</td>\n",
       "      <td>0.010918</td>\n",
       "    </tr>\n",
       "  </tbody>\n",
       "</table>\n",
       "<p>32 rows × 158 columns</p>\n",
       "</div>"
      ]
     },
     "execution_count": 55,
     "metadata": {},
     "output_type": "execute_result"
    }
   ],
   "execution_count": 55
  },
  {
   "metadata": {
    "ExecuteTime": {
     "end_time": "2025-01-25T15:52:10.331088Z",
     "start_time": "2025-01-25T15:52:07.543645Z"
    }
   },
   "cell_type": "code",
   "source": [
    "from mpl_toolkits.mplot3d import Axes3D\n",
    "\n",
    "# Specify ligands to highlight\n",
    "highlight_ligands = ['l_44', 'l_45', \"l_46\", \"l_47\", \"l_48\", \"l_49\", \"l_58\", \"l_59\"]\n",
    "\n",
    "# 3D scatter plot\n",
    "fig = plt.figure(figsize=(10, 8))\n",
    "ax = fig.add_subplot(111, projection='3d')\n",
    "\n",
    "categories = {\n",
    "    \"DS\": {\"color\": \"blue\", \"label\": \"DS Ligands\"},\n",
    "    \"MS\": {\"color\": \"red\", \"label\": \"MS Ligands\"},\n",
    "    \"MB\": {\"color\": \"green\", \"label\": \"MB Ligands\"},\n",
    "    \"Other\": {\"color\": \"purple\", \"label\": \"Other Ligands\"},\n",
    "}\n",
    "labels_added = {key: False for key in categories}\n",
    "\n",
    "for ligand in pca_df['ligand'].unique():\n",
    "    subset = pca_df[pca_df['ligand'] == ligand]\n",
    "    if \"DS\" in ligand:\n",
    "        category = \"DS\"\n",
    "    elif \"MS\" in ligand:\n",
    "        category = \"MS\"\n",
    "    elif \"MB\" in ligand:\n",
    "        category = \"MB\"\n",
    "    else:\n",
    "        category = \"Other\"\n",
    "\n",
    "    ax.scatter(\n",
    "        subset['Component 1'],\n",
    "        subset['Component 2'],\n",
    "        subset['Component 3'],\n",
    "        color=categories[category][\"color\"],\n",
    "        s=30,\n",
    "        alpha=0.8,\n",
    "        label=categories[category][\"label\"] if not labels_added[category] else None\n",
    "    )\n",
    "    labels_added[category] = True\n",
    "\n",
    "ax.set_title('3D PCA Plot with Highlighted Ligands', fontsize=16)\n",
    "ax.set_xlabel('Component 1')\n",
    "ax.set_ylabel('Component 2')\n",
    "ax.set_zlabel('Component 3')\n",
    "ax.legend(title='Highlighted Ligands', bbox_to_anchor=(1.05, 1), loc='upper left')\n",
    "plt.tight_layout()\n",
    "plt.show()"
   ],
   "id": "85cc7d2aff63c4a4",
   "outputs": [
    {
     "data": {
      "text/plain": [
       "<Figure size 1000x800 with 1 Axes>"
      ],
      "image/png": "[encoded data removed]"
     },
     "metadata": {},
     "output_type": "display_data"
    }
   ],
   "execution_count": 26
  },
  {
   "metadata": {
    "ExecuteTime": {
     "end_time": "2025-01-25T15:41:15.682655Z",
     "start_time": "2025-01-25T15:41:15.671084Z"
    }
   },
   "cell_type": "code",
   "source": "pca_df",
   "id": "fdba83ddcd399f49",
   "outputs": [
    {
     "data": {
      "text/plain": [
       "     Component 1  Component 2  Component 3  ligand\n",
       "0       5.931822     0.457674     3.937896  dcPAMP\n",
       "1       2.924543    -1.761837     3.880005    dcpa\n",
       "2       1.643196    -4.137959     4.604090  diprpa\n",
       "3       2.566244     2.044061    -3.211252   DS-10\n",
       "4       3.960765     1.351283    -3.400545   DS-11\n",
       "..           ...          ...          ...     ...\n",
       "282     2.384024     2.624356    -2.783570   MS-90\n",
       "283   -17.285434     7.160849    -0.864206   MS-91\n",
       "284     3.801457     3.633572     6.416227   MS-92\n",
       "285     7.523375     1.479296     7.452613   MS-93\n",
       "286     0.441493    -1.250117    -1.745204    MS-9\n",
       "\n",
       "[287 rows x 4 columns]"
      ],
      "text/html": [
       "<div>\n",
       "<style scoped>\n",
       "    .dataframe tbody tr th:only-of-type {\n",
       "        vertical-align: middle;\n",
       "    }\n",
       "\n",
       "    .dataframe tbody tr th {\n",
       "        vertical-align: top;\n",
       "    }\n",
       "\n",
       "    .dataframe thead th {\n",
       "        text-align: right;\n",
       "    }\n",
       "</style>\n",
       "<table border=\"1\" class=\"dataframe\">\n",
       "  <thead>\n",
       "    <tr style=\"text-align: right;\">\n",
       "      <th></th>\n",
       "      <th>Component 1</th>\n",
       "      <th>Component 2</th>\n",
       "      <th>Component 3</th>\n",
       "      <th>ligand</th>\n",
       "    </tr>\n",
       "  </thead>\n",
       "  <tbody>\n",
       "    <tr>\n",
       "      <th>0</th>\n",
       "      <td>5.931822</td>\n",
       "      <td>0.457674</td>\n",
       "      <td>3.937896</td>\n",
       "      <td>dcPAMP</td>\n",
       "    </tr>\n",
       "    <tr>\n",
       "      <th>1</th>\n",
       "      <td>2.924543</td>\n",
       "      <td>-1.761837</td>\n",
       "      <td>3.880005</td>\n",
       "      <td>dcpa</td>\n",
       "    </tr>\n",
       "    <tr>\n",
       "      <th>2</th>\n",
       "      <td>1.643196</td>\n",
       "      <td>-4.137959</td>\n",
       "      <td>4.604090</td>\n",
       "      <td>diprpa</td>\n",
       "    </tr>\n",
       "    <tr>\n",
       "      <th>3</th>\n",
       "      <td>2.566244</td>\n",
       "      <td>2.044061</td>\n",
       "      <td>-3.211252</td>\n",
       "      <td>DS-10</td>\n",
       "    </tr>\n",
       "    <tr>\n",
       "      <th>4</th>\n",
       "      <td>3.960765</td>\n",
       "      <td>1.351283</td>\n",
       "      <td>-3.400545</td>\n",
       "      <td>DS-11</td>\n",
       "    </tr>\n",
       "    <tr>\n",
       "      <th>...</th>\n",
       "      <td>...</td>\n",
       "      <td>...</td>\n",
       "      <td>...</td>\n",
       "      <td>...</td>\n",
       "    </tr>\n",
       "    <tr>\n",
       "      <th>282</th>\n",
       "      <td>2.384024</td>\n",
       "      <td>2.624356</td>\n",
       "      <td>-2.783570</td>\n",
       "      <td>MS-90</td>\n",
       "    </tr>\n",
       "    <tr>\n",
       "      <th>283</th>\n",
       "      <td>-17.285434</td>\n",
       "      <td>7.160849</td>\n",
       "      <td>-0.864206</td>\n",
       "      <td>MS-91</td>\n",
       "    </tr>\n",
       "    <tr>\n",
       "      <th>284</th>\n",
       "      <td>3.801457</td>\n",
       "      <td>3.633572</td>\n",
       "      <td>6.416227</td>\n",
       "      <td>MS-92</td>\n",
       "    </tr>\n",
       "    <tr>\n",
       "      <th>285</th>\n",
       "      <td>7.523375</td>\n",
       "      <td>1.479296</td>\n",
       "      <td>7.452613</td>\n",
       "      <td>MS-93</td>\n",
       "    </tr>\n",
       "    <tr>\n",
       "      <th>286</th>\n",
       "      <td>0.441493</td>\n",
       "      <td>-1.250117</td>\n",
       "      <td>-1.745204</td>\n",
       "      <td>MS-9</td>\n",
       "    </tr>\n",
       "  </tbody>\n",
       "</table>\n",
       "<p>287 rows × 4 columns</p>\n",
       "</div>"
      ]
     },
     "execution_count": 18,
     "metadata": {},
     "output_type": "execute_result"
    }
   ],
   "execution_count": 18
  },
  {
   "metadata": {
    "ExecuteTime": {
     "end_time": "2025-01-25T15:43:34.037362Z",
     "start_time": "2025-01-25T15:43:33.947939Z"
    }
   },
   "cell_type": "code",
   "source": [
    "import plotly.express as px\n",
    "\n",
    "# Specify ligands to highlight\n",
    "highlight_ligands = ['l_44', 'l_45', \"l_46\", \"l_47\", \"l_48\", \"l_49\", \"l_58\", \"l_59\"]\n",
    "\n",
    "# Add a new column for color coding (highlight or default)\n",
    "# pca_df['color'] = pca_df['ligand'].apply(\n",
    "#     lambda x: x if x in highlight_ligands else 'Other'\n",
    "# )\n",
    "\n",
    "# Create a 3D scatter plot\n",
    "fig = px.scatter_3d(\n",
    "    pca_df,\n",
    "    x='Component 1',\n",
    "    y='Component 2',\n",
    "    z='Component 3',\n",
    "    # color='color',\n",
    "    title='Interactive 3D PCA Plot',\n",
    "    hover_data={'ligand': True},\n",
    "    # labels={'ligand': 'Name'},\n",
    "    # symbol='color',  # Optional: use different symbols for highlighted ligands\n",
    "    opacity=0.8\n",
    ")\n",
    "\n",
    "# Customize the layout\n",
    "fig.update_layout(\n",
    "    legend=dict(title='Ligand Categories'),\n",
    "    scene=dict(\n",
    "        xaxis_title='Component 1',\n",
    "        yaxis_title='Component 2',\n",
    "        zaxis_title='Component 3'\n",
    "    )\n",
    ")\n",
    "\n",
    "# Show the interactive plot\n",
    "fig.show()"
   ],
   "id": "a88fe68730d17c64",
   "outputs": [
    {
     "data": {
      "application/vnd.plotly.v1+json": {
       "data": [
        {
         "customdata": [
          [
           "dcPAMP"
          ],
          [
           "dcpa"
          ],
          [
           "diprpa"
          ],
          [
           "DS-10"
          ],
          [
           "DS-11"
          ],
          [
           "DS-12"
          ],
          [
           "DS-13"
          ],
          [
           "DS-14"
          ],
          [
           "DS-15"
          ],
          [
           "DS-16"
          ],
          [
           "DS-17"
          ],
          [
           "DS-18"
          ],
          [
           "DS-19"
          ],
          [
           "DS-1"
          ],
          [
           "DS-20"
          ],
          [
           "DS-21"
          ],
          [
           "DS-22"
          ],
          [
           "DS-23"
          ],
          [
           "DS-24"
          ],
          [
           "DS-25"
          ],
          [
           "DS-26"
          ],
          [
           "DS-27"
          ],
          [
           "DS-28"
          ],
          [
           "DS-29"
          ],
          [
           "DS-2"
          ],
          [
           "DS-30"
          ],
          [
           "DS-31"
          ],
          [
           "DS-32"
          ],
          [
           "DS-33"
          ],
          [
           "DS-34"
          ],
          [
           "DS-35"
          ],
          [
           "DS-36"
          ],
          [
           "DS-37"
          ],
          [
           "DS-38"
          ],
          [
           "DS-39"
          ],
          [
           "DS-3"
          ],
          [
           "DS-40"
          ],
          [
           "DS-41"
          ],
          [
           "DS-42"
          ],
          [
           "DS-43"
          ],
          [
           "DS-44"
          ],
          [
           "DS-45"
          ],
          [
           "DS-46"
          ],
          [
           "DS-48"
          ],
          [
           "DS-49"
          ],
          [
           "DS-4"
          ],
          [
           "DS-50"
          ],
          [
           "DS-52"
          ],
          [
           "DS-53"
          ],
          [
           "DS-54"
          ],
          [
           "DS-55"
          ],
          [
           "DS-56"
          ],
          [
           "DS-57"
          ],
          [
           "DS-58"
          ],
          [
           "DS-59"
          ],
          [
           "DS-5"
          ],
          [
           "DS-60"
          ],
          [
           "DS-61"
          ],
          [
           "DS-63"
          ],
          [
           "DS-64"
          ],
          [
           "DS-6"
          ],
          [
           "DS-7"
          ],
          [
           "DS-8"
          ],
          [
           "DS-9"
          ],
          [
           "MB-100"
          ],
          [
           "MB-101"
          ],
          [
           "MB-102"
          ],
          [
           "MB-103"
          ],
          [
           "MB-104"
          ],
          [
           "MB-105"
          ],
          [
           "MB-106"
          ],
          [
           "MB-107"
          ],
          [
           "MB-108"
          ],
          [
           "MB-109"
          ],
          [
           "MB-10"
          ],
          [
           "MB-110"
          ],
          [
           "MB-111"
          ],
          [
           "MB-112"
          ],
          [
           "MB-113"
          ],
          [
           "MB-114"
          ],
          [
           "MB-115"
          ],
          [
           "MB-116"
          ],
          [
           "MB-117"
          ],
          [
           "MB-118"
          ],
          [
           "MB-119"
          ],
          [
           "MB-11"
          ],
          [
           "MB-120"
          ],
          [
           "MB-121"
          ],
          [
           "MB-122"
          ],
          [
           "MB-123"
          ],
          [
           "MB-124"
          ],
          [
           "MB-125"
          ],
          [
           "MB-126"
          ],
          [
           "MB-127"
          ],
          [
           "MB-128"
          ],
          [
           "MB-129"
          ],
          [
           "MB-12"
          ],
          [
           "MB-130"
          ],
          [
           "MB-131"
          ],
          [
           "MB-132"
          ],
          [
           "MB-133"
          ],
          [
           "MB-134"
          ],
          [
           "MB-135"
          ],
          [
           "MB-136"
          ],
          [
           "MB-137"
          ],
          [
           "MB-139"
          ],
          [
           "MB-13"
          ],
          [
           "MB-140"
          ],
          [
           "MB-143"
          ],
          [
           "MB-14"
          ],
          [
           "MB-15"
          ],
          [
           "MB-16"
          ],
          [
           "MB-18"
          ],
          [
           "MB-19"
          ],
          [
           "MB-1"
          ],
          [
           "MB-20"
          ],
          [
           "MB-21"
          ],
          [
           "MB-22"
          ],
          [
           "MB-23"
          ],
          [
           "MB-24"
          ],
          [
           "MB-25"
          ],
          [
           "MB-26"
          ],
          [
           "MB-27"
          ],
          [
           "MB-28"
          ],
          [
           "MB-29"
          ],
          [
           "MB-2"
          ],
          [
           "MB-30"
          ],
          [
           "MB-31"
          ],
          [
           "MB-32"
          ],
          [
           "MB-33"
          ],
          [
           "MB-34"
          ],
          [
           "MB-35"
          ],
          [
           "MB-37"
          ],
          [
           "MB-38"
          ],
          [
           "MB-39"
          ],
          [
           "MB-3"
          ],
          [
           "MB-40"
          ],
          [
           "MB-41"
          ],
          [
           "MB-42"
          ],
          [
           "MB-43"
          ],
          [
           "MB-44"
          ],
          [
           "MB-45"
          ],
          [
           "MB-46"
          ],
          [
           "MB-47"
          ],
          [
           "MB-48"
          ],
          [
           "MB-49"
          ],
          [
           "MB-4"
          ],
          [
           "MB-50"
          ],
          [
           "MB-51"
          ],
          [
           "MB-52"
          ],
          [
           "MB-53"
          ],
          [
           "MB-54"
          ],
          [
           "MB-55"
          ],
          [
           "MB-56"
          ],
          [
           "MB-57"
          ],
          [
           "MB-58"
          ],
          [
           "MB-59"
          ],
          [
           "MB-5"
          ],
          [
           "MB-60"
          ],
          [
           "MB-61"
          ],
          [
           "MB-62"
          ],
          [
           "MB-63"
          ],
          [
           "MB-64"
          ],
          [
           "MB-65"
          ],
          [
           "MB-66"
          ],
          [
           "MB-67"
          ],
          [
           "MB-68"
          ],
          [
           "MB-69"
          ],
          [
           "MB-6"
          ],
          [
           "MB-70"
          ],
          [
           "MB-71"
          ],
          [
           "MB-72"
          ],
          [
           "MB-73"
          ],
          [
           "MB-74"
          ],
          [
           "MB-75"
          ],
          [
           "MB-76"
          ],
          [
           "MB-77"
          ],
          [
           "MB-78"
          ],
          [
           "MB-79"
          ],
          [
           "MB-7"
          ],
          [
           "MB-80"
          ],
          [
           "MB-81"
          ],
          [
           "MB-82"
          ],
          [
           "MB-83"
          ],
          [
           "MB-84"
          ],
          [
           "MB-85"
          ],
          [
           "MB-86"
          ],
          [
           "MB-87"
          ],
          [
           "MB-88"
          ],
          [
           "MB-89"
          ],
          [
           "MB-8"
          ],
          [
           "MB-90"
          ],
          [
           "MB-91"
          ],
          [
           "MB-92"
          ],
          [
           "MB-93"
          ],
          [
           "MB-94"
          ],
          [
           "MB-95"
          ],
          [
           "MB-96"
          ],
          [
           "MB-97"
          ],
          [
           "MB-98"
          ],
          [
           "MB-9"
          ],
          [
           "MS-10"
          ],
          [
           "MS-11"
          ],
          [
           "MS-12"
          ],
          [
           "MS-13"
          ],
          [
           "MS-14"
          ],
          [
           "MS-15"
          ],
          [
           "MS-16"
          ],
          [
           "MS-17"
          ],
          [
           "MS-19"
          ],
          [
           "MS-1"
          ],
          [
           "MS-20"
          ],
          [
           "MS-21"
          ],
          [
           "MS-22"
          ],
          [
           "MS-23"
          ],
          [
           "MS-24"
          ],
          [
           "MS-25"
          ],
          [
           "MS-26"
          ],
          [
           "MS-27"
          ],
          [
           "MS-28"
          ],
          [
           "MS-29"
          ],
          [
           "MS-2"
          ],
          [
           "MS-30"
          ],
          [
           "MS-31"
          ],
          [
           "MS-32"
          ],
          [
           "MS-33"
          ],
          [
           "MS-34"
          ],
          [
           "MS-35"
          ],
          [
           "MS-36"
          ],
          [
           "MS-37"
          ],
          [
           "MS-38"
          ],
          [
           "MS-39"
          ],
          [
           "MS-3"
          ],
          [
           "MS-40"
          ],
          [
           "MS-41"
          ],
          [
           "MS-42"
          ],
          [
           "MS-44"
          ],
          [
           "MS-45"
          ],
          [
           "MS-46"
          ],
          [
           "MS-47"
          ],
          [
           "MS-48"
          ],
          [
           "MS-49"
          ],
          [
           "MS-4"
          ],
          [
           "MS-50"
          ],
          [
           "MS-51"
          ],
          [
           "MS-52"
          ],
          [
           "MS-53"
          ],
          [
           "MS-54"
          ],
          [
           "MS-55"
          ],
          [
           "MS-56"
          ],
          [
           "MS-57"
          ],
          [
           "MS-58"
          ],
          [
           "MS-59"
          ],
          [
           "MS-5"
          ],
          [
           "MS-60"
          ],
          [
           "MS-61"
          ],
          [
           "MS-62"
          ],
          [
           "MS-64"
          ],
          [
           "MS-65"
          ],
          [
           "MS-66"
          ],
          [
           "MS-68"
          ],
          [
           "MS-6"
          ],
          [
           "MS-70"
          ],
          [
           "MS-71"
          ],
          [
           "MS-72"
          ],
          [
           "MS-73"
          ],
          [
           "MS-74"
          ],
          [
           "MS-75"
          ],
          [
           "MS-76"
          ],
          [
           "MS-77"
          ],
          [
           "MS-78"
          ],
          [
           "MS-79"
          ],
          [
           "MS-80"
          ],
          [
           "MS-81"
          ],
          [
           "MS-82"
          ],
          [
           "MS-83"
          ],
          [
           "MS-84"
          ],
          [
           "MS-85"
          ],
          [
           "MS-86"
          ],
          [
           "MS-87"
          ],
          [
           "MS-88"
          ],
          [
           "MS-89"
          ],
          [
           "MS-90"
          ],
          [
           "MS-91"
          ],
          [
           "MS-92"
          ],
          [
           "MS-93"
          ],
          [
           "MS-9"
          ]
         ],
         "hovertemplate": "Component 1=%{x}<br>Component 2=%{y}<br>Component 3=%{z}<br>ligand=%{customdata[0]}<extra></extra>",
         "legendgroup": "",
         "marker": {
          "color": "#636efa",
          "opacity": 0.8,
          "symbol": "circle"
         },
         "mode": "markers",
         "name": "",
         "scene": "scene",
         "showlegend": false,
         "x": [
          5.931822255089498,
          2.924543023907077,
          1.6431963287924423,
          2.5662440650771265,
          3.9607653422806743,
          0.9764343911821717,
          -0.9859024968116201,
          3.6501825607653875,
          3.5752208664995195,
          3.1257148953275737,
          4.9779375757623505,
          3.391327541888231,
          -2.5677883917119457,
          -1.073225814639228,
          3.746070300237722,
          3.1919517920155123,
          3.8909172123605,
          5.011680310910131,
          3.6273643409512033,
          5.174084117640862,
          3.466838492703333,
          2.8370740855395233,
          4.282066001620953,
          2.7918033821509076,
          -7.900542765220172,
          5.140963789473831,
          3.86272634115596,
          5.287626134490217,
          2.993097559330063,
          2.070086951459864,
          3.3102443375158366,
          -1.7040578585197679,
          -1.6520497677457278,
          -2.2654385670118824,
          -2.1652691488753057,
          3.894810109932223,
          -1.2572418109944257,
          -1.9695606834241586,
          1.8918877809650692,
          -17.33287731212111,
          -1.9058156299980284,
          -16.8246860046206,
          -16.632796627564936,
          -0.7733602308880412,
          -17.470764803897303,
          3.2915374717136627,
          -17.12217738669297,
          -7.616479854222193,
          -2.034623775802864,
          -15.899449936695081,
          -14.825429404359191,
          -15.213358605406727,
          2.2293770241159314,
          -0.9853744408540197,
          2.8321538814068954,
          3.2201562115284763,
          -0.15227646608928222,
          -0.8513710492405195,
          -1.1336026068099936,
          -2.5330960014455464,
          0.8375511383288164,
          2.232164538917378,
          4.218534656100846,
          3.6932699114526737,
          0.7442535699570614,
          3.5665719459975627,
          4.940878306390317,
          -1.818650935831151,
          4.769421061938625,
          -4.8587357160808144,
          3.139335073970123,
          4.284851173834077,
          4.338265811398343,
          3.1705706631210573,
          0.8185825079269692,
          6.818020517170911,
          5.317084795738986,
          2.285748881154595,
          4.7319101998280715,
          6.786236483643307,
          1.8128501543512539,
          0.3820795243604868,
          -0.21210220047953293,
          4.661580309035169,
          -14.750930011106187,
          -1.3450425254837743,
          5.566688621652003,
          2.9504941181779754,
          -7.604473522815452,
          -6.652357128920688,
          4.837503380849491,
          7.406700199085705,
          7.555822548057821,
          -0.6875379574441052,
          9.023643833203352,
          3.770657097561149,
          2.885653768278363,
          -3.2243757888544855,
          -16.202644652803315,
          7.041907084505324,
          0.10127911225005506,
          3.9344630877857627,
          2.2422267744466966,
          -2.158567585274371,
          4.337925384077481,
          -0.721463758901361,
          -0.8884606781215396,
          5.92716777728756,
          6.441971968368926,
          -16.87707259595498,
          -1.234590728655462,
          4.465668729168624,
          5.652408148660649,
          -1.0262367204832072,
          -4.506967920206129,
          -0.8158215083169758,
          -0.564365430123389,
          0.4090961587013579,
          3.6486945583883497,
          -0.668656160906521,
          1.1331813452648591,
          8.413127588113605,
          -6.736647577858847,
          -1.4980910094643007,
          -15.51471389811962,
          -4.5385940261896485,
          -20.821726995583745,
          1.1728006038247996,
          0.3535768622175498,
          2.1302622916518,
          2.789688789923149,
          3.605523255521369,
          1.106015849176983,
          1.3202443065733853,
          0.43666452108203274,
          -19.984322032059,
          4.857036012446873,
          1.1955538307065696,
          5.4248839734690835,
          -7.338377752960131,
          1.6090375219483077,
          0.1787895114216635,
          -16.080350714438545,
          -4.566541996498387,
          1.3624942839318719,
          1.9416435680034625,
          -1.039005030951821,
          0.9484848302164208,
          2.3953033515661364,
          -4.253456436105579,
          0.8894964255573325,
          4.167606238506386,
          -2.0727577579737684,
          1.6184541050926506,
          3.396115084172237,
          3.7003118499761523,
          3.3800656240544678,
          -1.5158508867108957,
          6.724970719222438,
          4.089206307595183,
          6.729196853209075,
          5.379755652200999,
          2.665396141953801,
          -17.87113342130763,
          1.5575102845034476,
          1.9596197147850105,
          2.6829836172816353,
          2.8460898707476447,
          -1.098400663319791,
          3.502133286826686,
          3.6401310344739803,
          4.119714263026114,
          1.9865570611658478,
          4.017029975739657,
          5.373647903049336,
          6.3139113422698125,
          1.3650378190297783,
          2.572792213609877,
          0.8226875247669811,
          -3.6667425894343157,
          5.378199517983403,
          2.0506682195659387,
          2.396329665044245,
          2.170517973808008,
          3.5676618869437653,
          6.254043971547346,
          5.77753172326395,
          -0.5433778479591156,
          2.6035345585773,
          2.539603559495696,
          -17.45223190949949,
          4.025100484710413,
          1.6762790039915307,
          6.958816304032918,
          -16.00564509759334,
          1.0293581305567137,
          2.349456846364382,
          3.0265756447127345,
          4.106624009341041,
          -7.082942211603001,
          1.385446677848951,
          7.761190720890006,
          -0.16529163559249632,
          1.8008561281362419,
          3.1767108171102536,
          -0.21379577192918797,
          0.9055636588735748,
          1.952421391110335,
          2.1182233457861264,
          1.781286642935434,
          -3.0504552261129776,
          1.8849489981939573,
          1.964757849184264,
          2.444373912791969,
          2.020132434464909,
          2.2572533505454504,
          1.6985939858594443,
          4.106022459121999,
          2.194428320704253,
          1.1764264554698176,
          2.289797230229715,
          -5.994086297112094,
          2.383261414503462,
          1.3050145505261452,
          1.3755827486277132,
          2.406044098341695,
          2.31559389148746,
          2.3946472647465975,
          2.4244279991453523,
          1.8781915405197434,
          2.046202406250604,
          2.53611463737966,
          -7.101735671396387,
          2.5668262226141807,
          1.7609470096724282,
          5.399211999565862,
          1.944917785385295,
          1.7953269969619272,
          2.279417790625791,
          1.7447740714657234,
          2.5528692996650206,
          2.2070544123674742,
          2.5620682433774644,
          3.2634280976177976,
          1.789343229050877,
          0.07144930706668831,
          1.5925897071571793,
          3.0838403328658615,
          1.7286300782084976,
          2.066918705413642,
          2.105766676911838,
          1.0757956518890068,
          2.3823128462030305,
          3.0587114302575418,
          1.7715431318358954,
          3.415412276176119,
          4.533138849501915,
          4.8209867407955205,
          1.3941920467936246,
          1.7315785533626933,
          2.0615226047771893,
          2.5059890387674972,
          -4.836884115067574,
          -1.0451570753803892,
          1.053370749855778,
          -18.005768424268034,
          -1.8972265880659545,
          -17.872686326909243,
          -18.271760734865556,
          -1.124856679480475,
          -17.772195115833735,
          4.339795492605638,
          1.3318614465167686,
          4.958774860439027,
          -17.15306863705377,
          -17.62140673031906,
          -16.0258799475686,
          2.3097040412028003,
          3.387411152225804,
          -16.715602290330246,
          2.5772230166472836,
          -16.159370997500222,
          2.3840243457003782,
          -17.285433875162525,
          3.8014573496613933,
          7.5233745092430855,
          0.44149317203898847
         ],
         "y": [
          0.45767410651582374,
          -1.7618365688208746,
          -4.137959235999334,
          2.0440611791007393,
          1.3512825422124173,
          -0.6981244686280981,
          5.091412096494157,
          1.7123635307566423,
          1.717052798337387,
          4.711236625217412,
          0.076824321857743,
          4.555312764741301,
          13.58743427957792,
          -7.50971916113791,
          2.0319051221528874,
          1.3529010743626342,
          2.6102189679443053,
          2.7040802611899064,
          1.9275759882001489,
          2.959728618305481,
          4.132348826609764,
          5.72177890711973,
          7.965837036361854,
          0.816331374624657,
          -14.702377571568025,
          3.3878175114927154,
          3.0861351201932985,
          3.5897684651993433,
          3.194341086696967,
          1.8801689407262718,
          4.682003180044392,
          0.5248215243094825,
          0.6235202913922532,
          -2.4622417491464357,
          2.852310294649481,
          -0.3661327117919595,
          2.240390284012717,
          -1.3000062388342732,
          6.589875784102835,
          9.597137944062192,
          3.501812943207064,
          10.591901675418669,
          10.503676238766916,
          9.077007346081773,
          10.748929486835243,
          -0.10930162696587446,
          11.58992894018722,
          4.200523969145937,
          -0.5193890564209074,
          11.253487922958943,
          11.28168016091254,
          11.291573639995507,
          6.895502848391661,
          4.27309307780147,
          6.476390384625935,
          1.1024429420230677,
          7.70954731415031,
          6.873651561086243,
          7.868011093198203,
          9.47500469689219,
          4.503719835226968,
          1.8428294187228105,
          2.347368607478559,
          0.5845723736369455,
          10.08704135167424,
          -1.7808714983275271,
          3.8291660615940173,
          -0.44955020082899505,
          -1.061858334922549,
          -2.3625014083330633,
          -0.8465048406072085,
          -2.9264768276949575,
          0.8582181687746897,
          0.6259200678991236,
          -5.024939836314368,
          1.907278590429361,
          3.244980981888434,
          -1.367101759971555,
          1.366832247253986,
          4.210065524308132,
          -3.34939311955755,
          -5.651189712221407,
          -6.647413415351095,
          2.2694483669283336,
          -4.411727682118164,
          -3.5147770637404037,
          1.8015092269379447,
          4.230090147378275,
          -3.7288893125929135,
          -3.6928198229249696,
          2.589873150460893,
          4.475274068003479,
          3.1338193653728417,
          -7.9035692667359,
          3.6756705431222922,
          -2.2242825706272753,
          -3.4458011633425603,
          0.4040475642389086,
          -5.208752862478987,
          2.2718108371638954,
          -9.286093245163372,
          -4.718590969437979,
          -1.6102434006429873,
          0.8786138269845755,
          -4.14171745723142,
          -11.317134561083028,
          -6.229194760004262,
          1.4406461697258408,
          -0.29721698203422886,
          -4.495372656119755,
          -6.7147811785505445,
          -2.701511925728354,
          -2.0386888604555122,
          -5.633466466613283,
          -9.459806781812427,
          -6.620035566951776,
          -6.212455015653195,
          -3.7845881942313064,
          -2.3541825200188606,
          -5.839906564962513,
          -4.356696136194881,
          -1.5372767550927733,
          -20.768747599324694,
          -2.4213745036990755,
          -1.134210117054007,
          -7.242234871303837,
          -12.588157330560952,
          -4.090943156460209,
          -3.001154249105066,
          -3.343445462016603,
          -2.218697250462664,
          -1.6835701182877603,
          -3.4446258407959087,
          -5.778374403906536,
          -3.7168518051363306,
          -9.705116147095676,
          -0.9358605138672899,
          -3.208759082818756,
          -0.45841078811636593,
          -1.6562621191753986,
          -4.807711136719879,
          1.6683090748302543,
          4.03857990444302,
          7.184678486833662,
          -3.912909874756167,
          -2.466456149864744,
          -6.009835335461117,
          -3.8152366351843097,
          -3.3537746355548927,
          -4.756194024403953,
          -2.857703892582985,
          -0.0806734521760571,
          2.4806053944247024,
          -3.0856487339315226,
          -1.5593144425848804,
          -3.3637831972949406,
          -1.6694517132891613,
          -7.245150769817987,
          0.4221079812807216,
          -3.80916600544579,
          1.2745779708854357,
          0.5007936823454333,
          -1.3219353826373068,
          -8.781444651925518,
          -2.3588662712257875,
          -1.57053806474383,
          -2.5093418770607396,
          -1.9532876980270224,
          -6.343161609785546,
          -3.3276765597392632,
          -2.7807190605688517,
          -0.8373837887352988,
          -2.411010736353665,
          -0.7977771673368605,
          -0.42874223227264774,
          -1.430353173877145,
          -2.321748133443178,
          -1.7705289927780958,
          -3.5997924165203945,
          -7.568008661896073,
          -0.7110457266400297,
          -1.7607073266515108,
          -1.345409624796186,
          -1.4347704575049967,
          -1.3930882965941085,
          0.8648255743544192,
          -0.013084543559641598,
          -4.465715451739088,
          -0.3991020791959865,
          -0.17491058347858193,
          -6.241104943299619,
          0.42209436105763415,
          -3.622060086054275,
          -1.42393624072745,
          -4.936325399196856,
          -3.2736589846035553,
          -1.2704354322511076,
          -2.27182834976508,
          -2.117840737719705,
          -4.9437578842148815,
          -4.317833056225235,
          4.0304415829573115,
          3.257603830843246,
          0.549404607841672,
          1.1741671054894947,
          -1.137295253040434,
          -0.8828621739875125,
          0.6279612201396556,
          0.8228449044313415,
          2.0650712497245007,
          -5.2975076426115075,
          1.5298199306106777,
          0.9806402232831917,
          2.1530720864267776,
          1.139188644593218,
          1.9297736417698057,
          2.4185884309829775,
          3.3327007078327044,
          1.3961953503073739,
          0.8243483321955024,
          1.552747304822112,
          -0.9172764989145237,
          2.2708375331742165,
          0.668453824333374,
          0.9511029337909267,
          2.2137627247945546,
          1.4343230835568201,
          2.038260678120762,
          1.954179723734326,
          1.5508090328289317,
          1.1991659745299097,
          1.3702771667304587,
          -18.240065583099895,
          2.2484012181796116,
          1.6485622109270495,
          1.5258124528880932,
          1.9284218871752743,
          1.1413174449492665,
          4.052340021457491,
          2.099100207592274,
          1.3651286065803185,
          1.6905195170249294,
          1.498451046119364,
          4.060492433089203,
          1.1348658068505315,
          -0.62366765093278,
          1.2186686249019592,
          1.5462449066538433,
          4.235436180021501,
          1.7761040138179642,
          2.572187276416359,
          4.39736805678806,
          2.736275604521187,
          1.2725641201526514,
          1.5389548685330756,
          2.1480552686017633,
          2.780616003118446,
          3.4362401525683004,
          3.866306569864182,
          2.75828571134124,
          2.261012830797809,
          3.7485128118236886,
          -5.415928781511855,
          -1.9720650281432344,
          -7.634999315986222,
          -0.22010440233195833,
          -2.453328712960326,
          0.16884497547823873,
          -0.6983069727041569,
          -0.3914159106413683,
          0.8445912609000564,
          -1.28269845104316,
          -6.682605441900045,
          -0.08538833118474555,
          6.826287919523914,
          0.46177031257308326,
          7.214182484146752,
          -2.6344492018951873,
          2.705681012062226,
          7.907711898462435,
          -1.2246103831896655,
          6.903581848954785,
          2.624355872382937,
          7.160849021355165,
          3.6335722896189435,
          1.4792964530219128,
          -1.2501171835185323
         ],
         "z": [
          3.937895530181646,
          3.880004643633486,
          4.604089672739802,
          -3.2112520274515304,
          -3.400544560475301,
          -0.5716640592061177,
          1.3222211931933994,
          -3.2109367117451577,
          -2.7903965642722044,
          -3.612537587086176,
          -3.6884587532753628,
          -2.1156232355681635,
          0.9489051494362355,
          -6.411884734901075,
          -3.0748684396551296,
          -2.6020137986898653,
          -3.602059315772793,
          -3.8889686514445563,
          -2.6496030439288174,
          -4.059852149626989,
          -3.6194982977116505,
          0.4745448295969064,
          2.1776563652819787,
          -1.6607179195862352,
          9.588027432876721,
          -4.135657081982679,
          -3.7506930983298803,
          -4.305532807695996,
          -3.028059092691382,
          -1.8463362189488084,
          -2.1551835979771834,
          -3.8955349671425243,
          -3.9442605755489706,
          -7.574091451592961,
          -2.1512667079226153,
          0.03173062849318781,
          -3.54454265472821,
          -5.853022920324607,
          5.434813249671646,
          -0.7393127592079494,
          -4.006245009973994,
          0.10771440676038095,
          1.3046168635682118,
          13.032260305315504,
          1.0000927012592449,
          -2.4851714133752894,
          0.5968174796918222,
          2.3508300171751606,
          2.7823380186117026,
          1.690961499251512,
          2.184900774242381,
          1.4445110583663028,
          5.032964782048857,
          0.4188033393487537,
          -1.0320932691284461,
          -3.1123808309640184,
          -1.8049442058754803,
          -1.0215817618946048,
          -3.0991036832915966,
          8.287025284490992,
          -1.6724556247203297,
          -2.7948994851368134,
          0.36240688013064265,
          -2.89747840925574,
          9.433816359894433,
          -0.47696306581072956,
          1.1811654781062633,
          -1.8183250581581598,
          2.3755845788955146,
          8.430562466791375,
          -0.8992627059568479,
          5.897423035808938,
          1.9426662946543887,
          -3.21776627319327,
          -0.2745498472284039,
          5.8909974323800585,
          3.7564125754831887,
          -2.5840196890663285,
          -0.14034124839486314,
          4.3996090798679495,
          0.31135219257843255,
          1.0575091897403726,
          1.2031202942055919,
          -0.6185644853356276,
          5.727459165480819,
          -3.4165015725121077,
          -2.2346237091172667,
          1.0089813385931485,
          2.364036705933482,
          3.587668709335289,
          2.160164320080748,
          4.67356681210938,
          -0.6243884949810484,
          -0.8879357817411735,
          8.997771504010665,
          3.4217062892687324,
          1.4139228365096697,
          9.960954690643657,
          2.2643527071510126,
          4.320041066247478,
          6.043932925652705,
          2.529934319907465,
          -2.2492042569542305,
          9.53384321159816,
          2.3077711197571515,
          7.33558589078526,
          -4.0227168683687005,
          2.0037093054902417,
          6.738055404920977,
          -0.28801674724178244,
          -7.942228494448232,
          5.269419846243446,
          4.449079111847564,
          -4.968856388942352,
          -6.644584665958964,
          -3.9372943951404005,
          -3.89378313869112,
          -3.157343903955113,
          1.2602530308491646,
          -4.162287217008696,
          1.8732624847939507,
          7.80942901263165,
          10.108374449826126,
          -4.831243292013533,
          0.607467920572187,
          -6.933623720946154,
          1.7317250183584318,
          -0.8538899403543647,
          -2.8399271579376295,
          0.4829541135130752,
          0.03563499412610588,
          1.1364344681195404,
          -2.594420229496266,
          -0.640784992126355,
          -3.9175377386014714,
          -0.9492950448770462,
          4.018514824837208,
          -2.640915723577495,
          4.083876072665479,
          -0.1301351774833992,
          -1.9528913207489338,
          -2.7296505112413607,
          -0.9410199840744468,
          5.47636644229781,
          -3.0407308406263396,
          -2.847768570710936,
          -1.197036910376029,
          -2.845517482169895,
          -0.8947598078488836,
          1.3159917404860209,
          -4.8679242022125235,
          -0.4930285915010054,
          -0.15642145732344354,
          -1.5034555074176608,
          0.9481473643231502,
          2.7063276788238535,
          1.09209651178098,
          -3.814755156766597,
          4.521097714141249,
          5.4050166667005035,
          3.18514487179329,
          3.1201884786820555,
          -0.6957495465747123,
          6.883598905142585,
          0.48087213465511025,
          -2.5066972899932476,
          -1.0725005702185095,
          -0.8143788011808163,
          -1.7963763018275534,
          -1.1015626274963064,
          -1.596174541298204,
          1.3386981154899207,
          -2.8694896744416822,
          0.7469208591696774,
          4.325230660641013,
          5.881001884968209,
          -1.0712585468320437,
          0.06659210300302046,
          -3.4832175164183212,
          -7.023321011191304,
          4.75411323072752,
          -2.393264556359717,
          -2.310707674029017,
          -2.5504571667032123,
          1.089254082059922,
          6.2815619584025315,
          4.052050027499999,
          -4.937922525881234,
          -2.713344720503814,
          -3.4085869808489755,
          0.17946642416303366,
          -0.41630377881828995,
          0.1374036426507813,
          7.472926959696711,
          4.397360220775228,
          -3.9062731443380967,
          -1.8934711138354146,
          2.272095295853382,
          2.378937098723031,
          5.272317079222447,
          2.563605744295294,
          8.334699977262193,
          0.7060635527765678,
          -2.80778941657238,
          -0.4227773907889617,
          -1.3243545470021154,
          4.861084181348358,
          -3.1765718751274505,
          -3.375399449703141,
          -2.969462692962503,
          -3.8937452340190397,
          -3.0602534437166353,
          -2.6197168980822187,
          -3.2298994198164217,
          -2.7444811677951813,
          -3.1209587128355776,
          -2.6693692041706125,
          1.578736380188543,
          -2.975104626823728,
          -1.2136905273210372,
          -3.120094479287629,
          0.2611658003636029,
          -2.9063899462351395,
          -2.3066215273162474,
          -2.440585960972312,
          -3.4262001267009503,
          -2.9354680301271956,
          -3.154668453327568,
          -3.150932346071574,
          -3.2634690432898426,
          -2.7465857588977394,
          -2.3015900777734166,
          9.650314541220332,
          -3.442612803325466,
          -2.6467957428794575,
          8.81100405020087,
          -2.886922688438002,
          -2.648514018483247,
          -3.7195333348657353,
          -2.295342580077825,
          -2.3685523289184776,
          -2.5702171906294193,
          2.0208205176985157,
          -1.4886959346386357,
          -2.6397108758015886,
          -0.11618563488771702,
          -1.8579614389160137,
          -0.5836901564602811,
          -2.7013019728654264,
          -3.427858505361873,
          -3.0168162974035506,
          -2.5882535198688736,
          -3.100407375943374,
          2.3382714938489957,
          -3.1156070709595247,
          1.4275089160287564,
          4.087478348851447,
          3.6320589782746904,
          -2.7952901102143652,
          -2.35112111777774,
          -2.4889143268821368,
          6.739746197037485,
          -7.289395244310411,
          -1.8790180873363038,
          -1.255261838535706,
          -0.49038787527735317,
          3.029544953863653,
          -0.5219560413906515,
          0.0954158992081102,
          -3.8726660092085865,
          -0.6611298894551916,
          6.96713001485926,
          -1.8975232163223086,
          6.851724724899563,
          -1.326545229175906,
          -0.7154980504795877,
          1.092144406675297,
          2.7255912298865814,
          6.914697196726081,
          0.8353945385818369,
          2.2339201211812076,
          1.6229492984418807,
          -2.783569716725521,
          -0.8642060126454557,
          6.416226547978908,
          7.45261254328734,
          -1.7452035337582101
         ],
         "type": "scatter3d"
        }
       ],
       "layout": {
        "template": {
         "data": {
          "histogram2dcontour": [
           {
            "type": "histogram2dcontour",
            "colorbar": {
             "outlinewidth": 0,
             "ticks": ""
            },
            "colorscale": [
             [
              0.0,
              "#0d0887"
             ],
             [
              0.1111111111111111,
              "#46039f"
             ],
             [
              0.2222222222222222,
              "#7201a8"
             ],
             [
              0.3333333333333333,
              "#9c179e"
             ],
             [
              0.4444444444444444,
              "#bd3786"
             ],
             [
              0.5555555555555556,
              "#d8576b"
             ],
             [
              0.6666666666666666,
              "#ed7953"
             ],
             [
              0.7777777777777778,
              "#fb9f3a"
             ],
             [
              0.8888888888888888,
              "#fdca26"
             ],
             [
              1.0,
              "#f0f921"
             ]
            ]
           }
          ],
          "choropleth": [
           {
            "type": "choropleth",
            "colorbar": {
             "outlinewidth": 0,
             "ticks": ""
            }
           }
          ],
          "histogram2d": [
           {
            "type": "histogram2d",
            "colorbar": {
             "outlinewidth": 0,
             "ticks": ""
            },
            "colorscale": [
             [
              0.0,
              "#0d0887"
             ],
             [
              0.1111111111111111,
              "#46039f"
             ],
             [
              0.2222222222222222,
              "#7201a8"
             ],
             [
              0.3333333333333333,
              "#9c179e"
             ],
             [
              0.4444444444444444,
              "#bd3786"
             ],
             [
              0.5555555555555556,
              "#d8576b"
             ],
             [
              0.6666666666666666,
              "#ed7953"
             ],
             [
              0.7777777777777778,
              "#fb9f3a"
             ],
             [
              0.8888888888888888,
              "#fdca26"
             ],
             [
              1.0,
              "#f0f921"
             ]
            ]
           }
          ],
          "heatmap": [
           {
            "type": "heatmap",
            "colorbar": {
             "outlinewidth": 0,
             "ticks": ""
            },
            "colorscale": [
             [
              0.0,
              "#0d0887"
             ],
             [
              0.1111111111111111,
              "#46039f"
             ],
             [
              0.2222222222222222,
              "#7201a8"
             ],
             [
              0.3333333333333333,
              "#9c179e"
             ],
             [
              0.4444444444444444,
              "#bd3786"
             ],
             [
              0.5555555555555556,
              "#d8576b"
             ],
             [
              0.6666666666666666,
              "#ed7953"
             ],
             [
              0.7777777777777778,
              "#fb9f3a"
             ],
             [
              0.8888888888888888,
              "#fdca26"
             ],
             [
              1.0,
              "#f0f921"
             ]
            ]
           }
          ],
          "heatmapgl": [
           {
            "type": "heatmapgl",
            "colorbar": {
             "outlinewidth": 0,
             "ticks": ""
            },
            "colorscale": [
             [
              0.0,
              "#0d0887"
             ],
             [
              0.1111111111111111,
              "#46039f"
             ],
             [
              0.2222222222222222,
              "#7201a8"
             ],
             [
              0.3333333333333333,
              "#9c179e"
             ],
             [
              0.4444444444444444,
              "#bd3786"
             ],
             [
              0.5555555555555556,
              "#d8576b"
             ],
             [
              0.6666666666666666,
              "#ed7953"
             ],
             [
              0.7777777777777778,
              "#fb9f3a"
             ],
             [
              0.8888888888888888,
              "#fdca26"
             ],
             [
              1.0,
              "#f0f921"
             ]
            ]
           }
          ],
          "contourcarpet": [
           {
            "type": "contourcarpet",
            "colorbar": {
             "outlinewidth": 0,
             "ticks": ""
            }
           }
          ],
          "contour": [
           {
            "type": "contour",
            "colorbar": {
             "outlinewidth": 0,
             "ticks": ""
            },
            "colorscale": [
             [
              0.0,
              "#0d0887"
             ],
             [
              0.1111111111111111,
              "#46039f"
             ],
             [
              0.2222222222222222,
              "#7201a8"
             ],
             [
              0.3333333333333333,
              "#9c179e"
             ],
             [
              0.4444444444444444,
              "#bd3786"
             ],
             [
              0.5555555555555556,
              "#d8576b"
             ],
             [
              0.6666666666666666,
              "#ed7953"
             ],
             [
              0.7777777777777778,
              "#fb9f3a"
             ],
             [
              0.8888888888888888,
              "#fdca26"
             ],
             [
              1.0,
              "#f0f921"
             ]
            ]
           }
          ],
          "surface": [
           {
            "type": "surface",
            "colorbar": {
             "outlinewidth": 0,
             "ticks": ""
            },
            "colorscale": [
             [
              0.0,
              "#0d0887"
             ],
             [
              0.1111111111111111,
              "#46039f"
             ],
             [
              0.2222222222222222,
              "#7201a8"
             ],
             [
              0.3333333333333333,
              "#9c179e"
             ],
             [
              0.4444444444444444,
              "#bd3786"
             ],
             [
              0.5555555555555556,
              "#d8576b"
             ],
             [
              0.6666666666666666,
              "#ed7953"
             ],
             [
              0.7777777777777778,
              "#fb9f3a"
             ],
             [
              0.8888888888888888,
              "#fdca26"
             ],
             [
              1.0,
              "#f0f921"
             ]
            ]
           }
          ],
          "mesh3d": [
           {
            "type": "mesh3d",
            "colorbar": {
             "outlinewidth": 0,
             "ticks": ""
            }
           }
          ],
          "scatter": [
           {
            "fillpattern": {
             "fillmode": "overlay",
             "size": 10,
             "solidity": 0.2
            },
            "type": "scatter"
           }
          ],
          "parcoords": [
           {
            "type": "parcoords",
            "line": {
             "colorbar": {
              "outlinewidth": 0,
              "ticks": ""
             }
            }
           }
          ],
          "scatterpolargl": [
           {
            "type": "scatterpolargl",
            "marker": {
             "colorbar": {
              "outlinewidth": 0,
              "ticks": ""
             }
            }
           }
          ],
          "bar": [
           {
            "error_x": {
             "color": "#2a3f5f"
            },
            "error_y": {
             "color": "#2a3f5f"
            },
            "marker": {
             "line": {
              "color": "#E5ECF6",
              "width": 0.5
             },
             "pattern": {
              "fillmode": "overlay",
              "size": 10,
              "solidity": 0.2
             }
            },
            "type": "bar"
           }
          ],
          "scattergeo": [
           {
            "type": "scattergeo",
            "marker": {
             "colorbar": {
              "outlinewidth": 0,
              "ticks": ""
             }
            }
           }
          ],
          "scatterpolar": [
           {
            "type": "scatterpolar",
            "marker": {
             "colorbar": {
              "outlinewidth": 0,
              "ticks": ""
             }
            }
           }
          ],
          "histogram": [
           {
            "marker": {
             "pattern": {
              "fillmode": "overlay",
              "size": 10,
              "solidity": 0.2
             }
            },
            "type": "histogram"
           }
          ],
          "scattergl": [
           {
            "type": "scattergl",
            "marker": {
             "colorbar": {
              "outlinewidth": 0,
              "ticks": ""
             }
            }
           }
          ],
          "scatter3d": [
           {
            "type": "scatter3d",
            "line": {
             "colorbar": {
              "outlinewidth": 0,
              "ticks": ""
             }
            },
            "marker": {
             "colorbar": {
              "outlinewidth": 0,
              "ticks": ""
             }
            }
           }
          ],
          "scattermapbox": [
           {
            "type": "scattermapbox",
            "marker": {
             "colorbar": {
              "outlinewidth": 0,
              "ticks": ""
             }
            }
           }
          ],
          "scatterternary": [
           {
            "type": "scatterternary",
            "marker": {
             "colorbar": {
              "outlinewidth": 0,
              "ticks": ""
             }
            }
           }
          ],
          "scattercarpet": [
           {
            "type": "scattercarpet",
            "marker": {
             "colorbar": {
              "outlinewidth": 0,
              "ticks": ""
             }
            }
           }
          ],
          "carpet": [
           {
            "aaxis": {
             "endlinecolor": "#2a3f5f",
             "gridcolor": "white",
             "linecolor": "white",
             "minorgridcolor": "white",
             "startlinecolor": "#2a3f5f"
            },
            "baxis": {
             "endlinecolor": "#2a3f5f",
             "gridcolor": "white",
             "linecolor": "white",
             "minorgridcolor": "white",
             "startlinecolor": "#2a3f5f"
            },
            "type": "carpet"
           }
          ],
          "table": [
           {
            "cells": {
             "fill": {
              "color": "#EBF0F8"
             },
             "line": {
              "color": "white"
             }
            },
            "header": {
             "fill": {
              "color": "#C8D4E3"
             },
             "line": {
              "color": "white"
             }
            },
            "type": "table"
           }
          ],
          "barpolar": [
           {
            "marker": {
             "line": {
              "color": "#E5ECF6",
              "width": 0.5
             },
             "pattern": {
              "fillmode": "overlay",
              "size": 10,
              "solidity": 0.2
             }
            },
            "type": "barpolar"
           }
          ],
          "pie": [
           {
            "automargin": true,
            "type": "pie"
           }
          ]
         },
         "layout": {
          "autotypenumbers": "strict",
          "colorway": [
           "#636efa",
           "#EF553B",
           "#00cc96",
           "#ab63fa",
           "#FFA15A",
           "#19d3f3",
           "#FF6692",
           "#B6E880",
           "#FF97FF",
           "#FECB52"
          ],
          "font": {
           "color": "#2a3f5f"
          },
          "hovermode": "closest",
          "hoverlabel": {
           "align": "left"
          },
          "paper_bgcolor": "white",
          "plot_bgcolor": "#E5ECF6",
          "polar": {
           "bgcolor": "#E5ECF6",
           "angularaxis": {
            "gridcolor": "white",
            "linecolor": "white",
            "ticks": ""
           },
           "radialaxis": {
            "gridcolor": "white",
            "linecolor": "white",
            "ticks": ""
           }
          },
          "ternary": {
           "bgcolor": "#E5ECF6",
           "aaxis": {
            "gridcolor": "white",
            "linecolor": "white",
            "ticks": ""
           },
           "baxis": {
            "gridcolor": "white",
            "linecolor": "white",
            "ticks": ""
           },
           "caxis": {
            "gridcolor": "white",
            "linecolor": "white",
            "ticks": ""
           }
          },
          "coloraxis": {
           "colorbar": {
            "outlinewidth": 0,
            "ticks": ""
           }
          },
          "colorscale": {
           "sequential": [
            [
             0.0,
             "#0d0887"
            ],
            [
             0.1111111111111111,
             "#46039f"
            ],
            [
             0.2222222222222222,
             "#7201a8"
            ],
            [
             0.3333333333333333,
             "#9c179e"
            ],
            [
             0.4444444444444444,
             "#bd3786"
            ],
            [
             0.5555555555555556,
             "#d8576b"
            ],
            [
             0.6666666666666666,
             "#ed7953"
            ],
            [
             0.7777777777777778,
             "#fb9f3a"
            ],
            [
             0.8888888888888888,
             "#fdca26"
            ],
            [
             1.0,
             "#f0f921"
            ]
           ],
           "sequentialminus": [
            [
             0.0,
             "#0d0887"
            ],
            [
             0.1111111111111111,
             "#46039f"
            ],
            [
             0.2222222222222222,
             "#7201a8"
            ],
            [
             0.3333333333333333,
             "#9c179e"
            ],
            [
             0.4444444444444444,
             "#bd3786"
            ],
            [
             0.5555555555555556,
             "#d8576b"
            ],
            [
             0.6666666666666666,
             "#ed7953"
            ],
            [
             0.7777777777777778,
             "#fb9f3a"
            ],
            [
             0.8888888888888888,
             "#fdca26"
            ],
            [
             1.0,
             "#f0f921"
            ]
           ],
           "diverging": [
            [
             0,
             "#8e0152"
            ],
            [
             0.1,
             "#c51b7d"
            ],
            [
             0.2,
             "#de77ae"
            ],
            [
             0.3,
             "#f1b6da"
            ],
            [
             0.4,
             "#fde0ef"
            ],
            [
             0.5,
             "#f7f7f7"
            ],
            [
             0.6,
             "#e6f5d0"
            ],
            [
             0.7,
             "#b8e186"
            ],
            [
             0.8,
             "#7fbc41"
            ],
            [
             0.9,
             "#4d9221"
            ],
            [
             1,
             "#276419"
            ]
           ]
          },
          "xaxis": {
           "gridcolor": "white",
           "linecolor": "white",
           "ticks": "",
           "title": {
            "standoff": 15
           },
           "zerolinecolor": "white",
           "automargin": true,
           "zerolinewidth": 2
          },
          "yaxis": {
           "gridcolor": "white",
           "linecolor": "white",
           "ticks": "",
           "title": {
            "standoff": 15
           },
           "zerolinecolor": "white",
           "automargin": true,
           "zerolinewidth": 2
          },
          "scene": {
           "xaxis": {
            "backgroundcolor": "#E5ECF6",
            "gridcolor": "white",
            "linecolor": "white",
            "showbackground": true,
            "ticks": "",
            "zerolinecolor": "white",
            "gridwidth": 2
           },
           "yaxis": {
            "backgroundcolor": "#E5ECF6",
            "gridcolor": "white",
            "linecolor": "white",
            "showbackground": true,
            "ticks": "",
            "zerolinecolor": "white",
            "gridwidth": 2
           },
           "zaxis": {
            "backgroundcolor": "#E5ECF6",
            "gridcolor": "white",
            "linecolor": "white",
            "showbackground": true,
            "ticks": "",
            "zerolinecolor": "white",
            "gridwidth": 2
           }
          },
          "shapedefaults": {
           "line": {
            "color": "#2a3f5f"
           }
          },
          "annotationdefaults": {
           "arrowcolor": "#2a3f5f",
           "arrowhead": 0,
           "arrowwidth": 1
          },
          "geo": {
           "bgcolor": "white",
           "landcolor": "#E5ECF6",
           "subunitcolor": "white",
           "showland": true,
           "showlakes": true,
           "lakecolor": "white"
          },
          "title": {
           "x": 0.05
          },
          "mapbox": {
           "style": "light"
          }
         }
        },
        "scene": {
         "domain": {
          "x": [
           0.0,
           1.0
          ],
          "y": [
           0.0,
           1.0
          ]
         },
         "xaxis": {
          "title": {
           "text": "Component 1"
          }
         },
         "yaxis": {
          "title": {
           "text": "Component 2"
          }
         },
         "zaxis": {
          "title": {
           "text": "Component 3"
          }
         }
        },
        "legend": {
         "tracegroupgap": 0,
         "title": {
          "text": "Ligand Categories"
         }
        },
        "title": {
         "text": "Interactive 3D PCA Plot"
        }
       },
       "config": {
        "plotlyServerURL": "https://plot.ly"
       }
      },
      "text/html": [
       "<div>                            <div id=\"14bf6ba2-3105-4fe1-b14f-bfe83bda6be5\" class=\"plotly-graph-div\" style=\"height:525px; width:100%;\"></div>            <script type=\"text/javascript\">                require([\"plotly\"], function(Plotly) {                    window.PLOTLYENV=window.PLOTLYENV || {};                                    if (document.getElementById(\"14bf6ba2-3105-4fe1-b14f-bfe83bda6be5\")) {                    Plotly.newPlot(                        \"14bf6ba2-3105-4fe1-b14f-bfe83bda6be5\",                        [{\"customdata\":[[\"dcPAMP\"],[\"dcpa\"],[\"diprpa\"],[\"DS-10\"],[\"DS-11\"],[\"DS-12\"],[\"DS-13\"],[\"DS-14\"],[\"DS-15\"],[\"DS-16\"],[\"DS-17\"],[\"DS-18\"],[\"DS-19\"],[\"DS-1\"],[\"DS-20\"],[\"DS-21\"],[\"DS-22\"],[\"DS-23\"],[\"DS-24\"],[\"DS-25\"],[\"DS-26\"],[\"DS-27\"],[\"DS-28\"],[\"DS-29\"],[\"DS-2\"],[\"DS-30\"],[\"DS-31\"],[\"DS-32\"],[\"DS-33\"],[\"DS-34\"],[\"DS-35\"],[\"DS-36\"],[\"DS-37\"],[\"DS-38\"],[\"DS-39\"],[\"DS-3\"],[\"DS-40\"],[\"DS-41\"],[\"DS-42\"],[\"DS-43\"],[\"DS-44\"],[\"DS-45\"],[\"DS-46\"],[\"DS-48\"],[\"DS-49\"],[\"DS-4\"],[\"DS-50\"],[\"DS-52\"],[\"DS-53\"],[\"DS-54\"],[\"DS-55\"],[\"DS-56\"],[\"DS-57\"],[\"DS-58\"],[\"DS-59\"],[\"DS-5\"],[\"DS-60\"],[\"DS-61\"],[\"DS-63\"],[\"DS-64\"],[\"DS-6\"],[\"DS-7\"],[\"DS-8\"],[\"DS-9\"],[\"MB-100\"],[\"MB-101\"],[\"MB-102\"],[\"MB-103\"],[\"MB-104\"],[\"MB-105\"],[\"MB-106\"],[\"MB-107\"],[\"MB-108\"],[\"MB-109\"],[\"MB-10\"],[\"MB-110\"],[\"MB-111\"],[\"MB-112\"],[\"MB-113\"],[\"MB-114\"],[\"MB-115\"],[\"MB-116\"],[\"MB-117\"],[\"MB-118\"],[\"MB-119\"],[\"MB-11\"],[\"MB-120\"],[\"MB-121\"],[\"MB-122\"],[\"MB-123\"],[\"MB-124\"],[\"MB-125\"],[\"MB-126\"],[\"MB-127\"],[\"MB-128\"],[\"MB-129\"],[\"MB-12\"],[\"MB-130\"],[\"MB-131\"],[\"MB-132\"],[\"MB-133\"],[\"MB-134\"],[\"MB-135\"],[\"MB-136\"],[\"MB-137\"],[\"MB-139\"],[\"MB-13\"],[\"MB-140\"],[\"MB-143\"],[\"MB-14\"],[\"MB-15\"],[\"MB-16\"],[\"MB-18\"],[\"MB-19\"],[\"MB-1\"],[\"MB-20\"],[\"MB-21\"],[\"MB-22\"],[\"MB-23\"],[\"MB-24\"],[\"MB-25\"],[\"MB-26\"],[\"MB-27\"],[\"MB-28\"],[\"MB-29\"],[\"MB-2\"],[\"MB-30\"],[\"MB-31\"],[\"MB-32\"],[\"MB-33\"],[\"MB-34\"],[\"MB-35\"],[\"MB-37\"],[\"MB-38\"],[\"MB-39\"],[\"MB-3\"],[\"MB-40\"],[\"MB-41\"],[\"MB-42\"],[\"MB-43\"],[\"MB-44\"],[\"MB-45\"],[\"MB-46\"],[\"MB-47\"],[\"MB-48\"],[\"MB-49\"],[\"MB-4\"],[\"MB-50\"],[\"MB-51\"],[\"MB-52\"],[\"MB-53\"],[\"MB-54\"],[\"MB-55\"],[\"MB-56\"],[\"MB-57\"],[\"MB-58\"],[\"MB-59\"],[\"MB-5\"],[\"MB-60\"],[\"MB-61\"],[\"MB-62\"],[\"MB-63\"],[\"MB-64\"],[\"MB-65\"],[\"MB-66\"],[\"MB-67\"],[\"MB-68\"],[\"MB-69\"],[\"MB-6\"],[\"MB-70\"],[\"MB-71\"],[\"MB-72\"],[\"MB-73\"],[\"MB-74\"],[\"MB-75\"],[\"MB-76\"],[\"MB-77\"],[\"MB-78\"],[\"MB-79\"],[\"MB-7\"],[\"MB-80\"],[\"MB-81\"],[\"MB-82\"],[\"MB-83\"],[\"MB-84\"],[\"MB-85\"],[\"MB-86\"],[\"MB-87\"],[\"MB-88\"],[\"MB-89\"],[\"MB-8\"],[\"MB-90\"],[\"MB-91\"],[\"MB-92\"],[\"MB-93\"],[\"MB-94\"],[\"MB-95\"],[\"MB-96\"],[\"MB-97\"],[\"MB-98\"],[\"MB-9\"],[\"MS-10\"],[\"MS-11\"],[\"MS-12\"],[\"MS-13\"],[\"MS-14\"],[\"MS-15\"],[\"MS-16\"],[\"MS-17\"],[\"MS-19\"],[\"MS-1\"],[\"MS-20\"],[\"MS-21\"],[\"MS-22\"],[\"MS-23\"],[\"MS-24\"],[\"MS-25\"],[\"MS-26\"],[\"MS-27\"],[\"MS-28\"],[\"MS-29\"],[\"MS-2\"],[\"MS-30\"],[\"MS-31\"],[\"MS-32\"],[\"MS-33\"],[\"MS-34\"],[\"MS-35\"],[\"MS-36\"],[\"MS-37\"],[\"MS-38\"],[\"MS-39\"],[\"MS-3\"],[\"MS-40\"],[\"MS-41\"],[\"MS-42\"],[\"MS-44\"],[\"MS-45\"],[\"MS-46\"],[\"MS-47\"],[\"MS-48\"],[\"MS-49\"],[\"MS-4\"],[\"MS-50\"],[\"MS-51\"],[\"MS-52\"],[\"MS-53\"],[\"MS-54\"],[\"MS-55\"],[\"MS-56\"],[\"MS-57\"],[\"MS-58\"],[\"MS-59\"],[\"MS-5\"],[\"MS-60\"],[\"MS-61\"],[\"MS-62\"],[\"MS-64\"],[\"MS-65\"],[\"MS-66\"],[\"MS-68\"],[\"MS-6\"],[\"MS-70\"],[\"MS-71\"],[\"MS-72\"],[\"MS-73\"],[\"MS-74\"],[\"MS-75\"],[\"MS-76\"],[\"MS-77\"],[\"MS-78\"],[\"MS-79\"],[\"MS-80\"],[\"MS-81\"],[\"MS-82\"],[\"MS-83\"],[\"MS-84\"],[\"MS-85\"],[\"MS-86\"],[\"MS-87\"],[\"MS-88\"],[\"MS-89\"],[\"MS-90\"],[\"MS-91\"],[\"MS-92\"],[\"MS-93\"],[\"MS-9\"]],\"hovertemplate\":\"Component 1=%{x}\\u003cbr\\u003eComponent 2=%{y}\\u003cbr\\u003eComponent 3=%{z}\\u003cbr\\u003eligand=%{customdata[0]}\\u003cextra\\u003e\\u003c\\u002fextra\\u003e\",\"legendgroup\":\"\",\"marker\":{\"color\":\"#636efa\",\"opacity\":0.8,\"symbol\":\"circle\"},\"mode\":\"markers\",\"name\":\"\",\"scene\":\"scene\",\"showlegend\":false,\"x\":[5.931822255089498,2.924543023907077,1.6431963287924423,2.5662440650771265,3.9607653422806743,0.9764343911821717,-0.9859024968116201,3.6501825607653875,3.5752208664995195,3.1257148953275737,4.9779375757623505,3.391327541888231,-2.5677883917119457,-1.073225814639228,3.746070300237722,3.1919517920155123,3.8909172123605,5.011680310910131,3.6273643409512033,5.174084117640862,3.466838492703333,2.8370740855395233,4.282066001620953,2.7918033821509076,-7.900542765220172,5.140963789473831,3.86272634115596,5.287626134490217,2.993097559330063,2.070086951459864,3.3102443375158366,-1.7040578585197679,-1.6520497677457278,-2.2654385670118824,-2.1652691488753057,3.894810109932223,-1.2572418109944257,-1.9695606834241586,1.8918877809650692,-17.33287731212111,-1.9058156299980284,-16.8246860046206,-16.632796627564936,-0.7733602308880412,-17.470764803897303,3.2915374717136627,-17.12217738669297,-7.616479854222193,-2.034623775802864,-15.899449936695081,-14.825429404359191,-15.213358605406727,2.2293770241159314,-0.9853744408540197,2.8321538814068954,3.2201562115284763,-0.15227646608928222,-0.8513710492405195,-1.1336026068099936,-2.5330960014455464,0.8375511383288164,2.232164538917378,4.218534656100846,3.6932699114526737,0.7442535699570614,3.5665719459975627,4.940878306390317,-1.818650935831151,4.769421061938625,-4.8587357160808144,3.139335073970123,4.284851173834077,4.338265811398343,3.1705706631210573,0.8185825079269692,6.818020517170911,5.317084795738986,2.285748881154595,4.7319101998280715,6.786236483643307,1.8128501543512539,0.3820795243604868,-0.21210220047953293,4.661580309035169,-14.750930011106187,-1.3450425254837743,5.566688621652003,2.9504941181779754,-7.604473522815452,-6.652357128920688,4.837503380849491,7.406700199085705,7.555822548057821,-0.6875379574441052,9.023643833203352,3.770657097561149,2.885653768278363,-3.2243757888544855,-16.202644652803315,7.041907084505324,0.10127911225005506,3.9344630877857627,2.2422267744466966,-2.158567585274371,4.337925384077481,-0.721463758901361,-0.8884606781215396,5.92716777728756,6.441971968368926,-16.87707259595498,-1.234590728655462,4.465668729168624,5.652408148660649,-1.0262367204832072,-4.506967920206129,-0.8158215083169758,-0.564365430123389,0.4090961587013579,3.6486945583883497,-0.668656160906521,1.1331813452648591,8.413127588113605,-6.736647577858847,-1.4980910094643007,-15.51471389811962,-4.5385940261896485,-20.821726995583745,1.1728006038247996,0.3535768622175498,2.1302622916518,2.789688789923149,3.605523255521369,1.106015849176983,1.3202443065733853,0.43666452108203274,-19.984322032059,4.857036012446873,1.1955538307065696,5.4248839734690835,-7.338377752960131,1.6090375219483077,0.1787895114216635,-16.080350714438545,-4.566541996498387,1.3624942839318719,1.9416435680034625,-1.039005030951821,0.9484848302164208,2.3953033515661364,-4.253456436105579,0.8894964255573325,4.167606238506386,-2.0727577579737684,1.6184541050926506,3.396115084172237,3.7003118499761523,3.3800656240544678,-1.5158508867108957,6.724970719222438,4.089206307595183,6.729196853209075,5.379755652200999,2.665396141953801,-17.87113342130763,1.5575102845034476,1.9596197147850105,2.6829836172816353,2.8460898707476447,-1.098400663319791,3.502133286826686,3.6401310344739803,4.119714263026114,1.9865570611658478,4.017029975739657,5.373647903049336,6.3139113422698125,1.3650378190297783,2.572792213609877,0.8226875247669811,-3.6667425894343157,5.378199517983403,2.0506682195659387,2.396329665044245,2.170517973808008,3.5676618869437653,6.254043971547346,5.77753172326395,-0.5433778479591156,2.6035345585773,2.539603559495696,-17.45223190949949,4.025100484710413,1.6762790039915307,6.958816304032918,-16.00564509759334,1.0293581305567137,2.349456846364382,3.0265756447127345,4.106624009341041,-7.082942211603001,1.385446677848951,7.761190720890006,-0.16529163559249632,1.8008561281362419,3.1767108171102536,-0.21379577192918797,0.9055636588735748,1.952421391110335,2.1182233457861264,1.781286642935434,-3.0504552261129776,1.8849489981939573,1.964757849184264,2.444373912791969,2.020132434464909,2.2572533505454504,1.6985939858594443,4.106022459121999,2.194428320704253,1.1764264554698176,2.289797230229715,-5.994086297112094,2.383261414503462,1.3050145505261452,1.3755827486277132,2.406044098341695,2.31559389148746,2.3946472647465975,2.4244279991453523,1.8781915405197434,2.046202406250604,2.53611463737966,-7.101735671396387,2.5668262226141807,1.7609470096724282,5.399211999565862,1.944917785385295,1.7953269969619272,2.279417790625791,1.7447740714657234,2.5528692996650206,2.2070544123674742,2.5620682433774644,3.2634280976177976,1.789343229050877,0.07144930706668831,1.5925897071571793,3.0838403328658615,1.7286300782084976,2.066918705413642,2.105766676911838,1.0757956518890068,2.3823128462030305,3.0587114302575418,1.7715431318358954,3.415412276176119,4.533138849501915,4.8209867407955205,1.3941920467936246,1.7315785533626933,2.0615226047771893,2.5059890387674972,-4.836884115067574,-1.0451570753803892,1.053370749855778,-18.005768424268034,-1.8972265880659545,-17.872686326909243,-18.271760734865556,-1.124856679480475,-17.772195115833735,4.339795492605638,1.3318614465167686,4.958774860439027,-17.15306863705377,-17.62140673031906,-16.0258799475686,2.3097040412028003,3.387411152225804,-16.715602290330246,2.5772230166472836,-16.159370997500222,2.3840243457003782,-17.285433875162525,3.8014573496613933,7.5233745092430855,0.44149317203898847],\"y\":[0.45767410651582374,-1.7618365688208746,-4.137959235999334,2.0440611791007393,1.3512825422124173,-0.6981244686280981,5.091412096494157,1.7123635307566423,1.717052798337387,4.711236625217412,0.076824321857743,4.555312764741301,13.58743427957792,-7.50971916113791,2.0319051221528874,1.3529010743626342,2.6102189679443053,2.7040802611899064,1.9275759882001489,2.959728618305481,4.132348826609764,5.72177890711973,7.965837036361854,0.816331374624657,-14.702377571568025,3.3878175114927154,3.0861351201932985,3.5897684651993433,3.194341086696967,1.8801689407262718,4.682003180044392,0.5248215243094825,0.6235202913922532,-2.4622417491464357,2.852310294649481,-0.3661327117919595,2.240390284012717,-1.3000062388342732,6.589875784102835,9.597137944062192,3.501812943207064,10.591901675418669,10.503676238766916,9.077007346081773,10.748929486835243,-0.10930162696587446,11.58992894018722,4.200523969145937,-0.5193890564209074,11.253487922958943,11.28168016091254,11.291573639995507,6.895502848391661,4.27309307780147,6.476390384625935,1.1024429420230677,7.70954731415031,6.873651561086243,7.868011093198203,9.47500469689219,4.503719835226968,1.8428294187228105,2.347368607478559,0.5845723736369455,10.08704135167424,-1.7808714983275271,3.8291660615940173,-0.44955020082899505,-1.061858334922549,-2.3625014083330633,-0.8465048406072085,-2.9264768276949575,0.8582181687746897,0.6259200678991236,-5.024939836314368,1.907278590429361,3.244980981888434,-1.367101759971555,1.366832247253986,4.210065524308132,-3.34939311955755,-5.651189712221407,-6.647413415351095,2.2694483669283336,-4.411727682118164,-3.5147770637404037,1.8015092269379447,4.230090147378275,-3.7288893125929135,-3.6928198229249696,2.589873150460893,4.475274068003479,3.1338193653728417,-7.9035692667359,3.6756705431222922,-2.2242825706272753,-3.4458011633425603,0.4040475642389086,-5.208752862478987,2.2718108371638954,-9.286093245163372,-4.718590969437979,-1.6102434006429873,0.8786138269845755,-4.14171745723142,-11.317134561083028,-6.229194760004262,1.4406461697258408,-0.29721698203422886,-4.495372656119755,-6.7147811785505445,-2.701511925728354,-2.0386888604555122,-5.633466466613283,-9.459806781812427,-6.620035566951776,-6.212455015653195,-3.7845881942313064,-2.3541825200188606,-5.839906564962513,-4.356696136194881,-1.5372767550927733,-20.768747599324694,-2.4213745036990755,-1.134210117054007,-7.242234871303837,-12.588157330560952,-4.090943156460209,-3.001154249105066,-3.343445462016603,-2.218697250462664,-1.6835701182877603,-3.4446258407959087,-5.778374403906536,-3.7168518051363306,-9.705116147095676,-0.9358605138672899,-3.208759082818756,-0.45841078811636593,-1.6562621191753986,-4.807711136719879,1.6683090748302543,4.03857990444302,7.184678486833662,-3.912909874756167,-2.466456149864744,-6.009835335461117,-3.8152366351843097,-3.3537746355548927,-4.756194024403953,-2.857703892582985,-0.0806734521760571,2.4806053944247024,-3.0856487339315226,-1.5593144425848804,-3.3637831972949406,-1.6694517132891613,-7.245150769817987,0.4221079812807216,-3.80916600544579,1.2745779708854357,0.5007936823454333,-1.3219353826373068,-8.781444651925518,-2.3588662712257875,-1.57053806474383,-2.5093418770607396,-1.9532876980270224,-6.343161609785546,-3.3276765597392632,-2.7807190605688517,-0.8373837887352988,-2.411010736353665,-0.7977771673368605,-0.42874223227264774,-1.430353173877145,-2.321748133443178,-1.7705289927780958,-3.5997924165203945,-7.568008661896073,-0.7110457266400297,-1.7607073266515108,-1.345409624796186,-1.4347704575049967,-1.3930882965941085,0.8648255743544192,-0.013084543559641598,-4.465715451739088,-0.3991020791959865,-0.17491058347858193,-6.241104943299619,0.42209436105763415,-3.622060086054275,-1.42393624072745,-4.936325399196856,-3.2736589846035553,-1.2704354322511076,-2.27182834976508,-2.117840737719705,-4.9437578842148815,-4.317833056225235,4.0304415829573115,3.257603830843246,0.549404607841672,1.1741671054894947,-1.137295253040434,-0.8828621739875125,0.6279612201396556,0.8228449044313415,2.0650712497245007,-5.2975076426115075,1.5298199306106777,0.9806402232831917,2.1530720864267776,1.139188644593218,1.9297736417698057,2.4185884309829775,3.3327007078327044,1.3961953503073739,0.8243483321955024,1.552747304822112,-0.9172764989145237,2.2708375331742165,0.668453824333374,0.9511029337909267,2.2137627247945546,1.4343230835568201,2.038260678120762,1.954179723734326,1.5508090328289317,1.1991659745299097,1.3702771667304587,-18.240065583099895,2.2484012181796116,1.6485622109270495,1.5258124528880932,1.9284218871752743,1.1413174449492665,4.052340021457491,2.099100207592274,1.3651286065803185,1.6905195170249294,1.498451046119364,4.060492433089203,1.1348658068505315,-0.62366765093278,1.2186686249019592,1.5462449066538433,4.235436180021501,1.7761040138179642,2.572187276416359,4.39736805678806,2.736275604521187,1.2725641201526514,1.5389548685330756,2.1480552686017633,2.780616003118446,3.4362401525683004,3.866306569864182,2.75828571134124,2.261012830797809,3.7485128118236886,-5.415928781511855,-1.9720650281432344,-7.634999315986222,-0.22010440233195833,-2.453328712960326,0.16884497547823873,-0.6983069727041569,-0.3914159106413683,0.8445912609000564,-1.28269845104316,-6.682605441900045,-0.08538833118474555,6.826287919523914,0.46177031257308326,7.214182484146752,-2.6344492018951873,2.705681012062226,7.907711898462435,-1.2246103831896655,6.903581848954785,2.624355872382937,7.160849021355165,3.6335722896189435,1.4792964530219128,-1.2501171835185323],\"z\":[3.937895530181646,3.880004643633486,4.604089672739802,-3.2112520274515304,-3.400544560475301,-0.5716640592061177,1.3222211931933994,-3.2109367117451577,-2.7903965642722044,-3.612537587086176,-3.6884587532753628,-2.1156232355681635,0.9489051494362355,-6.411884734901075,-3.0748684396551296,-2.6020137986898653,-3.602059315772793,-3.8889686514445563,-2.6496030439288174,-4.059852149626989,-3.6194982977116505,0.4745448295969064,2.1776563652819787,-1.6607179195862352,9.588027432876721,-4.135657081982679,-3.7506930983298803,-4.305532807695996,-3.028059092691382,-1.8463362189488084,-2.1551835979771834,-3.8955349671425243,-3.9442605755489706,-7.574091451592961,-2.1512667079226153,0.03173062849318781,-3.54454265472821,-5.853022920324607,5.434813249671646,-0.7393127592079494,-4.006245009973994,0.10771440676038095,1.3046168635682118,13.032260305315504,1.0000927012592449,-2.4851714133752894,0.5968174796918222,2.3508300171751606,2.7823380186117026,1.690961499251512,2.184900774242381,1.4445110583663028,5.032964782048857,0.4188033393487537,-1.0320932691284461,-3.1123808309640184,-1.8049442058754803,-1.0215817618946048,-3.0991036832915966,8.287025284490992,-1.6724556247203297,-2.7948994851368134,0.36240688013064265,-2.89747840925574,9.433816359894433,-0.47696306581072956,1.1811654781062633,-1.8183250581581598,2.3755845788955146,8.430562466791375,-0.8992627059568479,5.897423035808938,1.9426662946543887,-3.21776627319327,-0.2745498472284039,5.8909974323800585,3.7564125754831887,-2.5840196890663285,-0.14034124839486314,4.3996090798679495,0.31135219257843255,1.0575091897403726,1.2031202942055919,-0.6185644853356276,5.727459165480819,-3.4165015725121077,-2.2346237091172667,1.0089813385931485,2.364036705933482,3.587668709335289,2.160164320080748,4.67356681210938,-0.6243884949810484,-0.8879357817411735,8.997771504010665,3.4217062892687324,1.4139228365096697,9.960954690643657,2.2643527071510126,4.320041066247478,6.043932925652705,2.529934319907465,-2.2492042569542305,9.53384321159816,2.3077711197571515,7.33558589078526,-4.0227168683687005,2.0037093054902417,6.738055404920977,-0.28801674724178244,-7.942228494448232,5.269419846243446,4.449079111847564,-4.968856388942352,-6.644584665958964,-3.9372943951404005,-3.89378313869112,-3.157343903955113,1.2602530308491646,-4.162287217008696,1.8732624847939507,7.80942901263165,10.108374449826126,-4.831243292013533,0.607467920572187,-6.933623720946154,1.7317250183584318,-0.8538899403543647,-2.8399271579376295,0.4829541135130752,0.03563499412610588,1.1364344681195404,-2.594420229496266,-0.640784992126355,-3.9175377386014714,-0.9492950448770462,4.018514824837208,-2.640915723577495,4.083876072665479,-0.1301351774833992,-1.9528913207489338,-2.7296505112413607,-0.9410199840744468,5.47636644229781,-3.0407308406263396,-2.847768570710936,-1.197036910376029,-2.845517482169895,-0.8947598078488836,1.3159917404860209,-4.8679242022125235,-0.4930285915010054,-0.15642145732344354,-1.5034555074176608,0.9481473643231502,2.7063276788238535,1.09209651178098,-3.814755156766597,4.521097714141249,5.4050166667005035,3.18514487179329,3.1201884786820555,-0.6957495465747123,6.883598905142585,0.48087213465511025,-2.5066972899932476,-1.0725005702185095,-0.8143788011808163,-1.7963763018275534,-1.1015626274963064,-1.596174541298204,1.3386981154899207,-2.8694896744416822,0.7469208591696774,4.325230660641013,5.881001884968209,-1.0712585468320437,0.06659210300302046,-3.4832175164183212,-7.023321011191304,4.75411323072752,-2.393264556359717,-2.310707674029017,-2.5504571667032123,1.089254082059922,6.2815619584025315,4.052050027499999,-4.937922525881234,-2.713344720503814,-3.4085869808489755,0.17946642416303366,-0.41630377881828995,0.1374036426507813,7.472926959696711,4.397360220775228,-3.9062731443380967,-1.8934711138354146,2.272095295853382,2.378937098723031,5.272317079222447,2.563605744295294,8.334699977262193,0.7060635527765678,-2.80778941657238,-0.4227773907889617,-1.3243545470021154,4.861084181348358,-3.1765718751274505,-3.375399449703141,-2.969462692962503,-3.8937452340190397,-3.0602534437166353,-2.6197168980822187,-3.2298994198164217,-2.7444811677951813,-3.1209587128355776,-2.6693692041706125,1.578736380188543,-2.975104626823728,-1.2136905273210372,-3.120094479287629,0.2611658003636029,-2.9063899462351395,-2.3066215273162474,-2.440585960972312,-3.4262001267009503,-2.9354680301271956,-3.154668453327568,-3.150932346071574,-3.2634690432898426,-2.7465857588977394,-2.3015900777734166,9.650314541220332,-3.442612803325466,-2.6467957428794575,8.81100405020087,-2.886922688438002,-2.648514018483247,-3.7195333348657353,-2.295342580077825,-2.3685523289184776,-2.5702171906294193,2.0208205176985157,-1.4886959346386357,-2.6397108758015886,-0.11618563488771702,-1.8579614389160137,-0.5836901564602811,-2.7013019728654264,-3.427858505361873,-3.0168162974035506,-2.5882535198688736,-3.100407375943374,2.3382714938489957,-3.1156070709595247,1.4275089160287564,4.087478348851447,3.6320589782746904,-2.7952901102143652,-2.35112111777774,-2.4889143268821368,6.739746197037485,-7.289395244310411,-1.8790180873363038,-1.255261838535706,-0.49038787527735317,3.029544953863653,-0.5219560413906515,0.0954158992081102,-3.8726660092085865,-0.6611298894551916,6.96713001485926,-1.8975232163223086,6.851724724899563,-1.326545229175906,-0.7154980504795877,1.092144406675297,2.7255912298865814,6.914697196726081,0.8353945385818369,2.2339201211812076,1.6229492984418807,-2.783569716725521,-0.8642060126454557,6.416226547978908,7.45261254328734,-1.7452035337582101],\"type\":\"scatter3d\"}],                        {\"template\":{\"data\":{\"histogram2dcontour\":[{\"type\":\"histogram2dcontour\",\"colorbar\":{\"outlinewidth\":0,\"ticks\":\"\"},\"colorscale\":[[0.0,\"#0d0887\"],[0.1111111111111111,\"#46039f\"],[0.2222222222222222,\"#7201a8\"],[0.3333333333333333,\"#9c179e\"],[0.4444444444444444,\"#bd3786\"],[0.5555555555555556,\"#d8576b\"],[0.6666666666666666,\"#ed7953\"],[0.7777777777777778,\"#fb9f3a\"],[0.8888888888888888,\"#fdca26\"],[1.0,\"#f0f921\"]]}],\"choropleth\":[{\"type\":\"choropleth\",\"colorbar\":{\"outlinewidth\":0,\"ticks\":\"\"}}],\"histogram2d\":[{\"type\":\"histogram2d\",\"colorbar\":{\"outlinewidth\":0,\"ticks\":\"\"},\"colorscale\":[[0.0,\"#0d0887\"],[0.1111111111111111,\"#46039f\"],[0.2222222222222222,\"#7201a8\"],[0.3333333333333333,\"#9c179e\"],[0.4444444444444444,\"#bd3786\"],[0.5555555555555556,\"#d8576b\"],[0.6666666666666666,\"#ed7953\"],[0.7777777777777778,\"#fb9f3a\"],[0.8888888888888888,\"#fdca26\"],[1.0,\"#f0f921\"]]}],\"heatmap\":[{\"type\":\"heatmap\",\"colorbar\":{\"outlinewidth\":0,\"ticks\":\"\"},\"colorscale\":[[0.0,\"#0d0887\"],[0.1111111111111111,\"#46039f\"],[0.2222222222222222,\"#7201a8\"],[0.3333333333333333,\"#9c179e\"],[0.4444444444444444,\"#bd3786\"],[0.5555555555555556,\"#d8576b\"],[0.6666666666666666,\"#ed7953\"],[0.7777777777777778,\"#fb9f3a\"],[0.8888888888888888,\"#fdca26\"],[1.0,\"#f0f921\"]]}],\"heatmapgl\":[{\"type\":\"heatmapgl\",\"colorbar\":{\"outlinewidth\":0,\"ticks\":\"\"},\"colorscale\":[[0.0,\"#0d0887\"],[0.1111111111111111,\"#46039f\"],[0.2222222222222222,\"#7201a8\"],[0.3333333333333333,\"#9c179e\"],[0.4444444444444444,\"#bd3786\"],[0.5555555555555556,\"#d8576b\"],[0.6666666666666666,\"#ed7953\"],[0.7777777777777778,\"#fb9f3a\"],[0.8888888888888888,\"#fdca26\"],[1.0,\"#f0f921\"]]}],\"contourcarpet\":[{\"type\":\"contourcarpet\",\"colorbar\":{\"outlinewidth\":0,\"ticks\":\"\"}}],\"contour\":[{\"type\":\"contour\",\"colorbar\":{\"outlinewidth\":0,\"ticks\":\"\"},\"colorscale\":[[0.0,\"#0d0887\"],[0.1111111111111111,\"#46039f\"],[0.2222222222222222,\"#7201a8\"],[0.3333333333333333,\"#9c179e\"],[0.4444444444444444,\"#bd3786\"],[0.5555555555555556,\"#d8576b\"],[0.6666666666666666,\"#ed7953\"],[0.7777777777777778,\"#fb9f3a\"],[0.8888888888888888,\"#fdca26\"],[1.0,\"#f0f921\"]]}],\"surface\":[{\"type\":\"surface\",\"colorbar\":{\"outlinewidth\":0,\"ticks\":\"\"},\"colorscale\":[[0.0,\"#0d0887\"],[0.1111111111111111,\"#46039f\"],[0.2222222222222222,\"#7201a8\"],[0.3333333333333333,\"#9c179e\"],[0.4444444444444444,\"#bd3786\"],[0.5555555555555556,\"#d8576b\"],[0.6666666666666666,\"#ed7953\"],[0.7777777777777778,\"#fb9f3a\"],[0.8888888888888888,\"#fdca26\"],[1.0,\"#f0f921\"]]}],\"mesh3d\":[{\"type\":\"mesh3d\",\"colorbar\":{\"outlinewidth\":0,\"ticks\":\"\"}}],\"scatter\":[{\"fillpattern\":{\"fillmode\":\"overlay\",\"size\":10,\"solidity\":0.2},\"type\":\"scatter\"}],\"parcoords\":[{\"type\":\"parcoords\",\"line\":{\"colorbar\":{\"outlinewidth\":0,\"ticks\":\"\"}}}],\"scatterpolargl\":[{\"type\":\"scatterpolargl\",\"marker\":{\"colorbar\":{\"outlinewidth\":0,\"ticks\":\"\"}}}],\"bar\":[{\"error_x\":{\"color\":\"#2a3f5f\"},\"error_y\":{\"color\":\"#2a3f5f\"},\"marker\":{\"line\":{\"color\":\"#E5ECF6\",\"width\":0.5},\"pattern\":{\"fillmode\":\"overlay\",\"size\":10,\"solidity\":0.2}},\"type\":\"bar\"}],\"scattergeo\":[{\"type\":\"scattergeo\",\"marker\":{\"colorbar\":{\"outlinewidth\":0,\"ticks\":\"\"}}}],\"scatterpolar\":[{\"type\":\"scatterpolar\",\"marker\":{\"colorbar\":{\"outlinewidth\":0,\"ticks\":\"\"}}}],\"histogram\":[{\"marker\":{\"pattern\":{\"fillmode\":\"overlay\",\"size\":10,\"solidity\":0.2}},\"type\":\"histogram\"}],\"scattergl\":[{\"type\":\"scattergl\",\"marker\":{\"colorbar\":{\"outlinewidth\":0,\"ticks\":\"\"}}}],\"scatter3d\":[{\"type\":\"scatter3d\",\"line\":{\"colorbar\":{\"outlinewidth\":0,\"ticks\":\"\"}},\"marker\":{\"colorbar\":{\"outlinewidth\":0,\"ticks\":\"\"}}}],\"scattermapbox\":[{\"type\":\"scattermapbox\",\"marker\":{\"colorbar\":{\"outlinewidth\":0,\"ticks\":\"\"}}}],\"scatterternary\":[{\"type\":\"scatterternary\",\"marker\":{\"colorbar\":{\"outlinewidth\":0,\"ticks\":\"\"}}}],\"scattercarpet\":[{\"type\":\"scattercarpet\",\"marker\":{\"colorbar\":{\"outlinewidth\":0,\"ticks\":\"\"}}}],\"carpet\":[{\"aaxis\":{\"endlinecolor\":\"#2a3f5f\",\"gridcolor\":\"white\",\"linecolor\":\"white\",\"minorgridcolor\":\"white\",\"startlinecolor\":\"#2a3f5f\"},\"baxis\":{\"endlinecolor\":\"#2a3f5f\",\"gridcolor\":\"white\",\"linecolor\":\"white\",\"minorgridcolor\":\"white\",\"startlinecolor\":\"#2a3f5f\"},\"type\":\"carpet\"}],\"table\":[{\"cells\":{\"fill\":{\"color\":\"#EBF0F8\"},\"line\":{\"color\":\"white\"}},\"header\":{\"fill\":{\"color\":\"#C8D4E3\"},\"line\":{\"color\":\"white\"}},\"type\":\"table\"}],\"barpolar\":[{\"marker\":{\"line\":{\"color\":\"#E5ECF6\",\"width\":0.5},\"pattern\":{\"fillmode\":\"overlay\",\"size\":10,\"solidity\":0.2}},\"type\":\"barpolar\"}],\"pie\":[{\"automargin\":true,\"type\":\"pie\"}]},\"layout\":{\"autotypenumbers\":\"strict\",\"colorway\":[\"#636efa\",\"#EF553B\",\"#00cc96\",\"#ab63fa\",\"#FFA15A\",\"#19d3f3\",\"#FF6692\",\"#B6E880\",\"#FF97FF\",\"#FECB52\"],\"font\":{\"color\":\"#2a3f5f\"},\"hovermode\":\"closest\",\"hoverlabel\":{\"align\":\"left\"},\"paper_bgcolor\":\"white\",\"plot_bgcolor\":\"#E5ECF6\",\"polar\":{\"bgcolor\":\"#E5ECF6\",\"angularaxis\":{\"gridcolor\":\"white\",\"linecolor\":\"white\",\"ticks\":\"\"},\"radialaxis\":{\"gridcolor\":\"white\",\"linecolor\":\"white\",\"ticks\":\"\"}},\"ternary\":{\"bgcolor\":\"#E5ECF6\",\"aaxis\":{\"gridcolor\":\"white\",\"linecolor\":\"white\",\"ticks\":\"\"},\"baxis\":{\"gridcolor\":\"white\",\"linecolor\":\"white\",\"ticks\":\"\"},\"caxis\":{\"gridcolor\":\"white\",\"linecolor\":\"white\",\"ticks\":\"\"}},\"coloraxis\":{\"colorbar\":{\"outlinewidth\":0,\"ticks\":\"\"}},\"colorscale\":{\"sequential\":[[0.0,\"#0d0887\"],[0.1111111111111111,\"#46039f\"],[0.2222222222222222,\"#7201a8\"],[0.3333333333333333,\"#9c179e\"],[0.4444444444444444,\"#bd3786\"],[0.5555555555555556,\"#d8576b\"],[0.6666666666666666,\"#ed7953\"],[0.7777777777777778,\"#fb9f3a\"],[0.8888888888888888,\"#fdca26\"],[1.0,\"#f0f921\"]],\"sequentialminus\":[[0.0,\"#0d0887\"],[0.1111111111111111,\"#46039f\"],[0.2222222222222222,\"#7201a8\"],[0.3333333333333333,\"#9c179e\"],[0.4444444444444444,\"#bd3786\"],[0.5555555555555556,\"#d8576b\"],[0.6666666666666666,\"#ed7953\"],[0.7777777777777778,\"#fb9f3a\"],[0.8888888888888888,\"#fdca26\"],[1.0,\"#f0f921\"]],\"diverging\":[[0,\"#8e0152\"],[0.1,\"#c51b7d\"],[0.2,\"#de77ae\"],[0.3,\"#f1b6da\"],[0.4,\"#fde0ef\"],[0.5,\"#f7f7f7\"],[0.6,\"#e6f5d0\"],[0.7,\"#b8e186\"],[0.8,\"#7fbc41\"],[0.9,\"#4d9221\"],[1,\"#276419\"]]},\"xaxis\":{\"gridcolor\":\"white\",\"linecolor\":\"white\",\"ticks\":\"\",\"title\":{\"standoff\":15},\"zerolinecolor\":\"white\",\"automargin\":true,\"zerolinewidth\":2},\"yaxis\":{\"gridcolor\":\"white\",\"linecolor\":\"white\",\"ticks\":\"\",\"title\":{\"standoff\":15},\"zerolinecolor\":\"white\",\"automargin\":true,\"zerolinewidth\":2},\"scene\":{\"xaxis\":{\"backgroundcolor\":\"#E5ECF6\",\"gridcolor\":\"white\",\"linecolor\":\"white\",\"showbackground\":true,\"ticks\":\"\",\"zerolinecolor\":\"white\",\"gridwidth\":2},\"yaxis\":{\"backgroundcolor\":\"#E5ECF6\",\"gridcolor\":\"white\",\"linecolor\":\"white\",\"showbackground\":true,\"ticks\":\"\",\"zerolinecolor\":\"white\",\"gridwidth\":2},\"zaxis\":{\"backgroundcolor\":\"#E5ECF6\",\"gridcolor\":\"white\",\"linecolor\":\"white\",\"showbackground\":true,\"ticks\":\"\",\"zerolinecolor\":\"white\",\"gridwidth\":2}},\"shapedefaults\":{\"line\":{\"color\":\"#2a3f5f\"}},\"annotationdefaults\":{\"arrowcolor\":\"#2a3f5f\",\"arrowhead\":0,\"arrowwidth\":1},\"geo\":{\"bgcolor\":\"white\",\"landcolor\":\"#E5ECF6\",\"subunitcolor\":\"white\",\"showland\":true,\"showlakes\":true,\"lakecolor\":\"white\"},\"title\":{\"x\":0.05},\"mapbox\":{\"style\":\"light\"}}},\"scene\":{\"domain\":{\"x\":[0.0,1.0],\"y\":[0.0,1.0]},\"xaxis\":{\"title\":{\"text\":\"Component 1\"}},\"yaxis\":{\"title\":{\"text\":\"Component 2\"}},\"zaxis\":{\"title\":{\"text\":\"Component 3\"}}},\"legend\":{\"tracegroupgap\":0,\"title\":{\"text\":\"Ligand Categories\"}},\"title\":{\"text\":\"Interactive 3D PCA Plot\"}},                        {\"responsive\": true}                    ).then(function(){\n",
       "                            \n",
       "var gd = document.getElementById('14bf6ba2-3105-4fe1-b14f-bfe83bda6be5');\n",
       "var x = new MutationObserver(function (mutations, observer) {{\n",
       "        var display = window.getComputedStyle(gd).display;\n",
       "        if (!display || display === 'none') {{\n",
       "            console.log([gd, 'removed!']);\n",
       "            Plotly.purge(gd);\n",
       "            observer.disconnect();\n",
       "        }}\n",
       "}});\n",
       "\n",
       "// Listen for the removal of the full notebook cells\n",
       "var notebookContainer = gd.closest('#notebook-container');\n",
       "if (notebookContainer) {{\n",
       "    x.observe(notebookContainer, {childList: true});\n",
       "}}\n",
       "\n",
       "// Listen for the clearing of the current output cell\n",
       "var outputEl = gd.closest('.output');\n",
       "if (outputEl) {{\n",
       "    x.observe(outputEl, {childList: true});\n",
       "}}\n",
       "\n",
       "                        })                };                });            </script>        </div>"
      ]
     },
     "metadata": {},
     "output_type": "display_data"
    }
   ],
   "execution_count": 21
  },
  {
   "metadata": {
    "ExecuteTime": {
     "end_time": "2025-01-25T15:54:37.315329Z",
     "start_time": "2025-01-25T15:54:37.280332Z"
    }
   },
   "cell_type": "code",
   "source": [
    "import plotly.graph_objects as go\n",
    "\n",
    "# Dictionary for ligand categories and their colors\n",
    "categories = {\n",
    "    \"DS\": {\"color\": \"blue\", \"label\": \"DS Ligands\"},\n",
    "    \"MS\": {\"color\": \"red\", \"label\": \"MS Ligands\"},\n",
    "    \"MB\": {\"color\": \"green\", \"label\": \"MB Ligands\"},\n",
    "    \"Other\": {\"color\": \"purple\", \"label\": \"Other Ligands\"},\n",
    "}\n",
    "\n",
    "# Initialize a Plotly figure\n",
    "fig = go.Figure()\n",
    "\n",
    "# Add scatter traces for each category\n",
    "for category, properties in categories.items():\n",
    "    subset = pca_df[\n",
    "        pca_df['ligand'].str.contains(category) if category != \"Other\" else ~pca_df['ligand'].str.contains(\"DS|MS|MB\")\n",
    "    ]\n",
    "    fig.add_trace(\n",
    "        go.Scatter3d(\n",
    "            x=subset['Component 1'],\n",
    "            y=subset['Component 2'],\n",
    "            z=subset['Component 3'],\n",
    "            mode='markers',\n",
    "            marker=dict(size=5, color=properties[\"color\"]),\n",
    "            name=properties[\"label\"],  # Legend label\n",
    "            text=subset['ligand'],  # Hover text\n",
    "            hoverinfo=\"text\"  # Display only hover text\n",
    "        )\n",
    "    )\n",
    "\n",
    "# Customize layout\n",
    "fig.update_layout(\n",
    "    title='3D PCA Plot with Highlighted Ligands',\n",
    "    scene=dict(\n",
    "        xaxis_title='Component 1',\n",
    "        yaxis_title='Component 2',\n",
    "        zaxis_title='Component 3'\n",
    "    ),\n",
    "    legend=dict(title=\"Ligand Categories\")\n",
    ")\n",
    "\n",
    "# Show plot\n",
    "fig.show()\n"
   ],
   "id": "6925a75658c11bd1",
   "outputs": [
    {
     "data": {
      "application/vnd.plotly.v1+json": {
       "data": [
        {
         "hoverinfo": "text",
         "marker": {
          "color": "blue",
          "size": 5
         },
         "mode": "markers",
         "name": "DS Ligands",
         "text": [
          "DS-10",
          "DS-11",
          "DS-12",
          "DS-13",
          "DS-14",
          "DS-15",
          "DS-16",
          "DS-17",
          "DS-18",
          "DS-19",
          "DS-1",
          "DS-20",
          "DS-21",
          "DS-22",
          "DS-23",
          "DS-24",
          "DS-25",
          "DS-26",
          "DS-27",
          "DS-28",
          "DS-29",
          "DS-2",
          "DS-30",
          "DS-31",
          "DS-32",
          "DS-33",
          "DS-34",
          "DS-35",
          "DS-36",
          "DS-37",
          "DS-38",
          "DS-39",
          "DS-3",
          "DS-40",
          "DS-41",
          "DS-42",
          "DS-43",
          "DS-44",
          "DS-45",
          "DS-46",
          "DS-48",
          "DS-49",
          "DS-4",
          "DS-50",
          "DS-52",
          "DS-53",
          "DS-54",
          "DS-55",
          "DS-56",
          "DS-57",
          "DS-58",
          "DS-59",
          "DS-5",
          "DS-60",
          "DS-61",
          "DS-63",
          "DS-64",
          "DS-6",
          "DS-7",
          "DS-8",
          "DS-9"
         ],
         "x": [
          2.5662440650771265,
          3.9607653422806743,
          0.9764343911821717,
          -0.9859024968116201,
          3.6501825607653875,
          3.5752208664995195,
          3.1257148953275737,
          4.9779375757623505,
          3.391327541888231,
          -2.5677883917119457,
          -1.073225814639228,
          3.746070300237722,
          3.1919517920155123,
          3.8909172123605,
          5.011680310910131,
          3.6273643409512033,
          5.174084117640862,
          3.466838492703333,
          2.8370740855395233,
          4.282066001620953,
          2.7918033821509076,
          -7.900542765220172,
          5.140963789473831,
          3.86272634115596,
          5.287626134490217,
          2.993097559330063,
          2.070086951459864,
          3.3102443375158366,
          -1.7040578585197679,
          -1.6520497677457278,
          -2.2654385670118824,
          -2.1652691488753057,
          3.894810109932223,
          -1.2572418109944257,
          -1.9695606834241586,
          1.8918877809650692,
          -17.33287731212111,
          -1.9058156299980284,
          -16.8246860046206,
          -16.632796627564936,
          -0.7733602308880412,
          -17.470764803897303,
          3.2915374717136627,
          -17.12217738669297,
          -7.616479854222193,
          -2.034623775802864,
          -15.899449936695081,
          -14.825429404359191,
          -15.213358605406727,
          2.2293770241159314,
          -0.9853744408540197,
          2.8321538814068954,
          3.2201562115284763,
          -0.15227646608928222,
          -0.8513710492405195,
          -1.1336026068099936,
          -2.5330960014455464,
          0.8375511383288164,
          2.232164538917378,
          4.218534656100846,
          3.6932699114526737
         ],
         "y": [
          2.0440611791007393,
          1.3512825422124173,
          -0.6981244686280981,
          5.091412096494157,
          1.7123635307566423,
          1.717052798337387,
          4.711236625217412,
          0.076824321857743,
          4.555312764741301,
          13.58743427957792,
          -7.50971916113791,
          2.0319051221528874,
          1.3529010743626342,
          2.6102189679443053,
          2.7040802611899064,
          1.9275759882001489,
          2.959728618305481,
          4.132348826609764,
          5.72177890711973,
          7.965837036361854,
          0.816331374624657,
          -14.702377571568025,
          3.3878175114927154,
          3.0861351201932985,
          3.5897684651993433,
          3.194341086696967,
          1.8801689407262718,
          4.682003180044392,
          0.5248215243094825,
          0.6235202913922532,
          -2.4622417491464357,
          2.852310294649481,
          -0.3661327117919595,
          2.240390284012717,
          -1.3000062388342732,
          6.589875784102835,
          9.597137944062192,
          3.501812943207064,
          10.591901675418669,
          10.503676238766916,
          9.077007346081773,
          10.748929486835243,
          -0.10930162696587446,
          11.58992894018722,
          4.200523969145937,
          -0.5193890564209074,
          11.253487922958943,
          11.28168016091254,
          11.291573639995507,
          6.895502848391661,
          4.27309307780147,
          6.476390384625935,
          1.1024429420230677,
          7.70954731415031,
          6.873651561086243,
          7.868011093198203,
          9.47500469689219,
          4.503719835226968,
          1.8428294187228105,
          2.347368607478559,
          0.5845723736369455
         ],
         "z": [
          -3.2112520274515304,
          -3.400544560475301,
          -0.5716640592061177,
          1.3222211931933994,
          -3.2109367117451577,
          -2.7903965642722044,
          -3.612537587086176,
          -3.6884587532753628,
          -2.1156232355681635,
          0.9489051494362355,
          -6.411884734901075,
          -3.0748684396551296,
          -2.6020137986898653,
          -3.602059315772793,
          -3.8889686514445563,
          -2.6496030439288174,
          -4.059852149626989,
          -3.6194982977116505,
          0.4745448295969064,
          2.1776563652819787,
          -1.6607179195862352,
          9.588027432876721,
          -4.135657081982679,
          -3.7506930983298803,
          -4.305532807695996,
          -3.028059092691382,
          -1.8463362189488084,
          -2.1551835979771834,
          -3.8955349671425243,
          -3.9442605755489706,
          -7.574091451592961,
          -2.1512667079226153,
          0.03173062849318781,
          -3.54454265472821,
          -5.853022920324607,
          5.434813249671646,
          -0.7393127592079494,
          -4.006245009973994,
          0.10771440676038095,
          1.3046168635682118,
          13.032260305315504,
          1.0000927012592449,
          -2.4851714133752894,
          0.5968174796918222,
          2.3508300171751606,
          2.7823380186117026,
          1.690961499251512,
          2.184900774242381,
          1.4445110583663028,
          5.032964782048857,
          0.4188033393487537,
          -1.0320932691284461,
          -3.1123808309640184,
          -1.8049442058754803,
          -1.0215817618946048,
          -3.0991036832915966,
          8.287025284490992,
          -1.6724556247203297,
          -2.7948994851368134,
          0.36240688013064265,
          -2.89747840925574
         ],
         "type": "scatter3d"
        },
        {
         "hoverinfo": "text",
         "marker": {
          "color": "red",
          "size": 5
         },
         "mode": "markers",
         "name": "MS Ligands",
         "text": [
          "MS-10",
          "MS-11",
          "MS-12",
          "MS-13",
          "MS-14",
          "MS-15",
          "MS-16",
          "MS-17",
          "MS-19",
          "MS-1",
          "MS-20",
          "MS-21",
          "MS-22",
          "MS-23",
          "MS-24",
          "MS-25",
          "MS-26",
          "MS-27",
          "MS-28",
          "MS-29",
          "MS-2",
          "MS-30",
          "MS-31",
          "MS-32",
          "MS-33",
          "MS-34",
          "MS-35",
          "MS-36",
          "MS-37",
          "MS-38",
          "MS-39",
          "MS-3",
          "MS-40",
          "MS-41",
          "MS-42",
          "MS-44",
          "MS-45",
          "MS-46",
          "MS-47",
          "MS-48",
          "MS-49",
          "MS-4",
          "MS-50",
          "MS-51",
          "MS-52",
          "MS-53",
          "MS-54",
          "MS-55",
          "MS-56",
          "MS-57",
          "MS-58",
          "MS-59",
          "MS-5",
          "MS-60",
          "MS-61",
          "MS-62",
          "MS-64",
          "MS-65",
          "MS-66",
          "MS-68",
          "MS-6",
          "MS-70",
          "MS-71",
          "MS-72",
          "MS-73",
          "MS-74",
          "MS-75",
          "MS-76",
          "MS-77",
          "MS-78",
          "MS-79",
          "MS-80",
          "MS-81",
          "MS-82",
          "MS-83",
          "MS-84",
          "MS-85",
          "MS-86",
          "MS-87",
          "MS-88",
          "MS-89",
          "MS-90",
          "MS-91",
          "MS-92",
          "MS-93",
          "MS-9"
         ],
         "x": [
          7.761190720890006,
          -0.16529163559249632,
          1.8008561281362419,
          3.1767108171102536,
          -0.21379577192918797,
          0.9055636588735748,
          1.952421391110335,
          2.1182233457861264,
          1.781286642935434,
          -3.0504552261129776,
          1.8849489981939573,
          1.964757849184264,
          2.444373912791969,
          2.020132434464909,
          2.2572533505454504,
          1.6985939858594443,
          4.106022459121999,
          2.194428320704253,
          1.1764264554698176,
          2.289797230229715,
          -5.994086297112094,
          2.383261414503462,
          1.3050145505261452,
          1.3755827486277132,
          2.406044098341695,
          2.31559389148746,
          2.3946472647465975,
          2.4244279991453523,
          1.8781915405197434,
          2.046202406250604,
          2.53611463737966,
          -7.101735671396387,
          2.5668262226141807,
          1.7609470096724282,
          5.399211999565862,
          1.944917785385295,
          1.7953269969619272,
          2.279417790625791,
          1.7447740714657234,
          2.5528692996650206,
          2.2070544123674742,
          2.5620682433774644,
          3.2634280976177976,
          1.789343229050877,
          0.07144930706668831,
          1.5925897071571793,
          3.0838403328658615,
          1.7286300782084976,
          2.066918705413642,
          2.105766676911838,
          1.0757956518890068,
          2.3823128462030305,
          3.0587114302575418,
          1.7715431318358954,
          3.415412276176119,
          4.533138849501915,
          4.8209867407955205,
          1.3941920467936246,
          1.7315785533626933,
          2.0615226047771893,
          2.5059890387674972,
          -4.836884115067574,
          -1.0451570753803892,
          1.053370749855778,
          -18.005768424268034,
          -1.8972265880659545,
          -17.872686326909243,
          -18.271760734865556,
          -1.124856679480475,
          -17.772195115833735,
          4.339795492605638,
          1.3318614465167686,
          4.958774860439027,
          -17.15306863705377,
          -17.62140673031906,
          -16.0258799475686,
          2.3097040412028003,
          3.387411152225804,
          -16.715602290330246,
          2.5772230166472836,
          -16.159370997500222,
          2.3840243457003782,
          -17.285433875162525,
          3.8014573496613933,
          7.5233745092430855,
          0.44149317203898847
         ],
         "y": [
          4.0304415829573115,
          3.257603830843246,
          0.549404607841672,
          1.1741671054894947,
          -1.137295253040434,
          -0.8828621739875125,
          0.6279612201396556,
          0.8228449044313415,
          2.0650712497245007,
          -5.2975076426115075,
          1.5298199306106777,
          0.9806402232831917,
          2.1530720864267776,
          1.139188644593218,
          1.9297736417698057,
          2.4185884309829775,
          3.3327007078327044,
          1.3961953503073739,
          0.8243483321955024,
          1.552747304822112,
          -0.9172764989145237,
          2.2708375331742165,
          0.668453824333374,
          0.9511029337909267,
          2.2137627247945546,
          1.4343230835568201,
          2.038260678120762,
          1.954179723734326,
          1.5508090328289317,
          1.1991659745299097,
          1.3702771667304587,
          -18.240065583099895,
          2.2484012181796116,
          1.6485622109270495,
          1.5258124528880932,
          1.9284218871752743,
          1.1413174449492665,
          4.052340021457491,
          2.099100207592274,
          1.3651286065803185,
          1.6905195170249294,
          1.498451046119364,
          4.060492433089203,
          1.1348658068505315,
          -0.62366765093278,
          1.2186686249019592,
          1.5462449066538433,
          4.235436180021501,
          1.7761040138179642,
          2.572187276416359,
          4.39736805678806,
          2.736275604521187,
          1.2725641201526514,
          1.5389548685330756,
          2.1480552686017633,
          2.780616003118446,
          3.4362401525683004,
          3.866306569864182,
          2.75828571134124,
          2.261012830797809,
          3.7485128118236886,
          -5.415928781511855,
          -1.9720650281432344,
          -7.634999315986222,
          -0.22010440233195833,
          -2.453328712960326,
          0.16884497547823873,
          -0.6983069727041569,
          -0.3914159106413683,
          0.8445912609000564,
          -1.28269845104316,
          -6.682605441900045,
          -0.08538833118474555,
          6.826287919523914,
          0.46177031257308326,
          7.214182484146752,
          -2.6344492018951873,
          2.705681012062226,
          7.907711898462435,
          -1.2246103831896655,
          6.903581848954785,
          2.624355872382937,
          7.160849021355165,
          3.6335722896189435,
          1.4792964530219128,
          -1.2501171835185323
         ],
         "z": [
          8.334699977262193,
          0.7060635527765678,
          -2.80778941657238,
          -0.4227773907889617,
          -1.3243545470021154,
          4.861084181348358,
          -3.1765718751274505,
          -3.375399449703141,
          -2.969462692962503,
          -3.8937452340190397,
          -3.0602534437166353,
          -2.6197168980822187,
          -3.2298994198164217,
          -2.7444811677951813,
          -3.1209587128355776,
          -2.6693692041706125,
          1.578736380188543,
          -2.975104626823728,
          -1.2136905273210372,
          -3.120094479287629,
          0.2611658003636029,
          -2.9063899462351395,
          -2.3066215273162474,
          -2.440585960972312,
          -3.4262001267009503,
          -2.9354680301271956,
          -3.154668453327568,
          -3.150932346071574,
          -3.2634690432898426,
          -2.7465857588977394,
          -2.3015900777734166,
          9.650314541220332,
          -3.442612803325466,
          -2.6467957428794575,
          8.81100405020087,
          -2.886922688438002,
          -2.648514018483247,
          -3.7195333348657353,
          -2.295342580077825,
          -2.3685523289184776,
          -2.5702171906294193,
          2.0208205176985157,
          -1.4886959346386357,
          -2.6397108758015886,
          -0.11618563488771702,
          -1.8579614389160137,
          -0.5836901564602811,
          -2.7013019728654264,
          -3.427858505361873,
          -3.0168162974035506,
          -2.5882535198688736,
          -3.100407375943374,
          2.3382714938489957,
          -3.1156070709595247,
          1.4275089160287564,
          4.087478348851447,
          3.6320589782746904,
          -2.7952901102143652,
          -2.35112111777774,
          -2.4889143268821368,
          6.739746197037485,
          -7.289395244310411,
          -1.8790180873363038,
          -1.255261838535706,
          -0.49038787527735317,
          3.029544953863653,
          -0.5219560413906515,
          0.0954158992081102,
          -3.8726660092085865,
          -0.6611298894551916,
          6.96713001485926,
          -1.8975232163223086,
          6.851724724899563,
          -1.326545229175906,
          -0.7154980504795877,
          1.092144406675297,
          2.7255912298865814,
          6.914697196726081,
          0.8353945385818369,
          2.2339201211812076,
          1.6229492984418807,
          -2.783569716725521,
          -0.8642060126454557,
          6.416226547978908,
          7.45261254328734,
          -1.7452035337582101
         ],
         "type": "scatter3d"
        },
        {
         "hoverinfo": "text",
         "marker": {
          "color": "green",
          "size": 5
         },
         "mode": "markers",
         "name": "MB Ligands",
         "text": [
          "MB-100",
          "MB-101",
          "MB-102",
          "MB-103",
          "MB-104",
          "MB-105",
          "MB-106",
          "MB-107",
          "MB-108",
          "MB-109",
          "MB-10",
          "MB-110",
          "MB-111",
          "MB-112",
          "MB-113",
          "MB-114",
          "MB-115",
          "MB-116",
          "MB-117",
          "MB-118",
          "MB-119",
          "MB-11",
          "MB-120",
          "MB-121",
          "MB-122",
          "MB-123",
          "MB-124",
          "MB-125",
          "MB-126",
          "MB-127",
          "MB-128",
          "MB-129",
          "MB-12",
          "MB-130",
          "MB-131",
          "MB-132",
          "MB-133",
          "MB-134",
          "MB-135",
          "MB-136",
          "MB-137",
          "MB-139",
          "MB-13",
          "MB-140",
          "MB-143",
          "MB-14",
          "MB-15",
          "MB-16",
          "MB-18",
          "MB-19",
          "MB-1",
          "MB-20",
          "MB-21",
          "MB-22",
          "MB-23",
          "MB-24",
          "MB-25",
          "MB-26",
          "MB-27",
          "MB-28",
          "MB-29",
          "MB-2",
          "MB-30",
          "MB-31",
          "MB-32",
          "MB-33",
          "MB-34",
          "MB-35",
          "MB-37",
          "MB-38",
          "MB-39",
          "MB-3",
          "MB-40",
          "MB-41",
          "MB-42",
          "MB-43",
          "MB-44",
          "MB-45",
          "MB-46",
          "MB-47",
          "MB-48",
          "MB-49",
          "MB-4",
          "MB-50",
          "MB-51",
          "MB-52",
          "MB-53",
          "MB-54",
          "MB-55",
          "MB-56",
          "MB-57",
          "MB-58",
          "MB-59",
          "MB-5",
          "MB-60",
          "MB-61",
          "MB-62",
          "MB-63",
          "MB-64",
          "MB-65",
          "MB-66",
          "MB-67",
          "MB-68",
          "MB-69",
          "MB-6",
          "MB-70",
          "MB-71",
          "MB-72",
          "MB-73",
          "MB-74",
          "MB-75",
          "MB-76",
          "MB-77",
          "MB-78",
          "MB-79",
          "MB-7",
          "MB-80",
          "MB-81",
          "MB-82",
          "MB-83",
          "MB-84",
          "MB-85",
          "MB-86",
          "MB-87",
          "MB-88",
          "MB-89",
          "MB-8",
          "MB-90",
          "MB-91",
          "MB-92",
          "MB-93",
          "MB-94",
          "MB-95",
          "MB-96",
          "MB-97",
          "MB-98",
          "MB-9"
         ],
         "x": [
          0.7442535699570614,
          3.5665719459975627,
          4.940878306390317,
          -1.818650935831151,
          4.769421061938625,
          -4.8587357160808144,
          3.139335073970123,
          4.284851173834077,
          4.338265811398343,
          3.1705706631210573,
          0.8185825079269692,
          6.818020517170911,
          5.317084795738986,
          2.285748881154595,
          4.7319101998280715,
          6.786236483643307,
          1.8128501543512539,
          0.3820795243604868,
          -0.21210220047953293,
          4.661580309035169,
          -14.750930011106187,
          -1.3450425254837743,
          5.566688621652003,
          2.9504941181779754,
          -7.604473522815452,
          -6.652357128920688,
          4.837503380849491,
          7.406700199085705,
          7.555822548057821,
          -0.6875379574441052,
          9.023643833203352,
          3.770657097561149,
          2.885653768278363,
          -3.2243757888544855,
          -16.202644652803315,
          7.041907084505324,
          0.10127911225005506,
          3.9344630877857627,
          2.2422267744466966,
          -2.158567585274371,
          4.337925384077481,
          -0.721463758901361,
          -0.8884606781215396,
          5.92716777728756,
          6.441971968368926,
          -16.87707259595498,
          -1.234590728655462,
          4.465668729168624,
          5.652408148660649,
          -1.0262367204832072,
          -4.506967920206129,
          -0.8158215083169758,
          -0.564365430123389,
          0.4090961587013579,
          3.6486945583883497,
          -0.668656160906521,
          1.1331813452648591,
          8.413127588113605,
          -6.736647577858847,
          -1.4980910094643007,
          -15.51471389811962,
          -4.5385940261896485,
          -20.821726995583745,
          1.1728006038247996,
          0.3535768622175498,
          2.1302622916518,
          2.789688789923149,
          3.605523255521369,
          1.106015849176983,
          1.3202443065733853,
          0.43666452108203274,
          -19.984322032059,
          4.857036012446873,
          1.1955538307065696,
          5.4248839734690835,
          -7.338377752960131,
          1.6090375219483077,
          0.1787895114216635,
          -16.080350714438545,
          -4.566541996498387,
          1.3624942839318719,
          1.9416435680034625,
          -1.039005030951821,
          0.9484848302164208,
          2.3953033515661364,
          -4.253456436105579,
          0.8894964255573325,
          4.167606238506386,
          -2.0727577579737684,
          1.6184541050926506,
          3.396115084172237,
          3.7003118499761523,
          3.3800656240544678,
          -1.5158508867108957,
          6.724970719222438,
          4.089206307595183,
          6.729196853209075,
          5.379755652200999,
          2.665396141953801,
          -17.87113342130763,
          1.5575102845034476,
          1.9596197147850105,
          2.6829836172816353,
          2.8460898707476447,
          -1.098400663319791,
          3.502133286826686,
          3.6401310344739803,
          4.119714263026114,
          1.9865570611658478,
          4.017029975739657,
          5.373647903049336,
          6.3139113422698125,
          1.3650378190297783,
          2.572792213609877,
          0.8226875247669811,
          -3.6667425894343157,
          5.378199517983403,
          2.0506682195659387,
          2.396329665044245,
          2.170517973808008,
          3.5676618869437653,
          6.254043971547346,
          5.77753172326395,
          -0.5433778479591156,
          2.6035345585773,
          2.539603559495696,
          -17.45223190949949,
          4.025100484710413,
          1.6762790039915307,
          6.958816304032918,
          -16.00564509759334,
          1.0293581305567137,
          2.349456846364382,
          3.0265756447127345,
          4.106624009341041,
          -7.082942211603001,
          1.385446677848951
         ],
         "y": [
          10.08704135167424,
          -1.7808714983275271,
          3.8291660615940173,
          -0.44955020082899505,
          -1.061858334922549,
          -2.3625014083330633,
          -0.8465048406072085,
          -2.9264768276949575,
          0.8582181687746897,
          0.6259200678991236,
          -5.024939836314368,
          1.907278590429361,
          3.244980981888434,
          -1.367101759971555,
          1.366832247253986,
          4.210065524308132,
          -3.34939311955755,
          -5.651189712221407,
          -6.647413415351095,
          2.2694483669283336,
          -4.411727682118164,
          -3.5147770637404037,
          1.8015092269379447,
          4.230090147378275,
          -3.7288893125929135,
          -3.6928198229249696,
          2.589873150460893,
          4.475274068003479,
          3.1338193653728417,
          -7.9035692667359,
          3.6756705431222922,
          -2.2242825706272753,
          -3.4458011633425603,
          0.4040475642389086,
          -5.208752862478987,
          2.2718108371638954,
          -9.286093245163372,
          -4.718590969437979,
          -1.6102434006429873,
          0.8786138269845755,
          -4.14171745723142,
          -11.317134561083028,
          -6.229194760004262,
          1.4406461697258408,
          -0.29721698203422886,
          -4.495372656119755,
          -6.7147811785505445,
          -2.701511925728354,
          -2.0386888604555122,
          -5.633466466613283,
          -9.459806781812427,
          -6.620035566951776,
          -6.212455015653195,
          -3.7845881942313064,
          -2.3541825200188606,
          -5.839906564962513,
          -4.356696136194881,
          -1.5372767550927733,
          -20.768747599324694,
          -2.4213745036990755,
          -1.134210117054007,
          -7.242234871303837,
          -12.588157330560952,
          -4.090943156460209,
          -3.001154249105066,
          -3.343445462016603,
          -2.218697250462664,
          -1.6835701182877603,
          -3.4446258407959087,
          -5.778374403906536,
          -3.7168518051363306,
          -9.705116147095676,
          -0.9358605138672899,
          -3.208759082818756,
          -0.45841078811636593,
          -1.6562621191753986,
          -4.807711136719879,
          1.6683090748302543,
          4.03857990444302,
          7.184678486833662,
          -3.912909874756167,
          -2.466456149864744,
          -6.009835335461117,
          -3.8152366351843097,
          -3.3537746355548927,
          -4.756194024403953,
          -2.857703892582985,
          -0.0806734521760571,
          2.4806053944247024,
          -3.0856487339315226,
          -1.5593144425848804,
          -3.3637831972949406,
          -1.6694517132891613,
          -7.245150769817987,
          0.4221079812807216,
          -3.80916600544579,
          1.2745779708854357,
          0.5007936823454333,
          -1.3219353826373068,
          -8.781444651925518,
          -2.3588662712257875,
          -1.57053806474383,
          -2.5093418770607396,
          -1.9532876980270224,
          -6.343161609785546,
          -3.3276765597392632,
          -2.7807190605688517,
          -0.8373837887352988,
          -2.411010736353665,
          -0.7977771673368605,
          -0.42874223227264774,
          -1.430353173877145,
          -2.321748133443178,
          -1.7705289927780958,
          -3.5997924165203945,
          -7.568008661896073,
          -0.7110457266400297,
          -1.7607073266515108,
          -1.345409624796186,
          -1.4347704575049967,
          -1.3930882965941085,
          0.8648255743544192,
          -0.013084543559641598,
          -4.465715451739088,
          -0.3991020791959865,
          -0.17491058347858193,
          -6.241104943299619,
          0.42209436105763415,
          -3.622060086054275,
          -1.42393624072745,
          -4.936325399196856,
          -3.2736589846035553,
          -1.2704354322511076,
          -2.27182834976508,
          -2.117840737719705,
          -4.9437578842148815,
          -4.317833056225235
         ],
         "z": [
          9.433816359894433,
          -0.47696306581072956,
          1.1811654781062633,
          -1.8183250581581598,
          2.3755845788955146,
          8.430562466791375,
          -0.8992627059568479,
          5.897423035808938,
          1.9426662946543887,
          -3.21776627319327,
          -0.2745498472284039,
          5.8909974323800585,
          3.7564125754831887,
          -2.5840196890663285,
          -0.14034124839486314,
          4.3996090798679495,
          0.31135219257843255,
          1.0575091897403726,
          1.2031202942055919,
          -0.6185644853356276,
          5.727459165480819,
          -3.4165015725121077,
          -2.2346237091172667,
          1.0089813385931485,
          2.364036705933482,
          3.587668709335289,
          2.160164320080748,
          4.67356681210938,
          -0.6243884949810484,
          -0.8879357817411735,
          8.997771504010665,
          3.4217062892687324,
          1.4139228365096697,
          9.960954690643657,
          2.2643527071510126,
          4.320041066247478,
          6.043932925652705,
          2.529934319907465,
          -2.2492042569542305,
          9.53384321159816,
          2.3077711197571515,
          7.33558589078526,
          -4.0227168683687005,
          2.0037093054902417,
          6.738055404920977,
          -0.28801674724178244,
          -7.942228494448232,
          5.269419846243446,
          4.449079111847564,
          -4.968856388942352,
          -6.644584665958964,
          -3.9372943951404005,
          -3.89378313869112,
          -3.157343903955113,
          1.2602530308491646,
          -4.162287217008696,
          1.8732624847939507,
          7.80942901263165,
          10.108374449826126,
          -4.831243292013533,
          0.607467920572187,
          -6.933623720946154,
          1.7317250183584318,
          -0.8538899403543647,
          -2.8399271579376295,
          0.4829541135130752,
          0.03563499412610588,
          1.1364344681195404,
          -2.594420229496266,
          -0.640784992126355,
          -3.9175377386014714,
          -0.9492950448770462,
          4.018514824837208,
          -2.640915723577495,
          4.083876072665479,
          -0.1301351774833992,
          -1.9528913207489338,
          -2.7296505112413607,
          -0.9410199840744468,
          5.47636644229781,
          -3.0407308406263396,
          -2.847768570710936,
          -1.197036910376029,
          -2.845517482169895,
          -0.8947598078488836,
          1.3159917404860209,
          -4.8679242022125235,
          -0.4930285915010054,
          -0.15642145732344354,
          -1.5034555074176608,
          0.9481473643231502,
          2.7063276788238535,
          1.09209651178098,
          -3.814755156766597,
          4.521097714141249,
          5.4050166667005035,
          3.18514487179329,
          3.1201884786820555,
          -0.6957495465747123,
          6.883598905142585,
          0.48087213465511025,
          -2.5066972899932476,
          -1.0725005702185095,
          -0.8143788011808163,
          -1.7963763018275534,
          -1.1015626274963064,
          -1.596174541298204,
          1.3386981154899207,
          -2.8694896744416822,
          0.7469208591696774,
          4.325230660641013,
          5.881001884968209,
          -1.0712585468320437,
          0.06659210300302046,
          -3.4832175164183212,
          -7.023321011191304,
          4.75411323072752,
          -2.393264556359717,
          -2.310707674029017,
          -2.5504571667032123,
          1.089254082059922,
          6.2815619584025315,
          4.052050027499999,
          -4.937922525881234,
          -2.713344720503814,
          -3.4085869808489755,
          0.17946642416303366,
          -0.41630377881828995,
          0.1374036426507813,
          7.472926959696711,
          4.397360220775228,
          -3.9062731443380967,
          -1.8934711138354146,
          2.272095295853382,
          2.378937098723031,
          5.272317079222447,
          2.563605744295294
         ],
         "type": "scatter3d"
        },
        {
         "hoverinfo": "text",
         "marker": {
          "color": "purple",
          "size": 5
         },
         "mode": "markers",
         "name": "Other Ligands",
         "text": [
          "dcPAMP",
          "dcpa",
          "diprpa"
         ],
         "x": [
          5.931822255089498,
          2.924543023907077,
          1.6431963287924423
         ],
         "y": [
          0.45767410651582374,
          -1.7618365688208746,
          -4.137959235999334
         ],
         "z": [
          3.937895530181646,
          3.880004643633486,
          4.604089672739802
         ],
         "type": "scatter3d"
        }
       ],
       "layout": {
        "template": {
         "data": {
          "histogram2dcontour": [
           {
            "type": "histogram2dcontour",
            "colorbar": {
             "outlinewidth": 0,
             "ticks": ""
            },
            "colorscale": [
             [
              0.0,
              "#0d0887"
             ],
             [
              0.1111111111111111,
              "#46039f"
             ],
             [
              0.2222222222222222,
              "#7201a8"
             ],
             [
              0.3333333333333333,
              "#9c179e"
             ],
             [
              0.4444444444444444,
              "#bd3786"
             ],
             [
              0.5555555555555556,
              "#d8576b"
             ],
             [
              0.6666666666666666,
              "#ed7953"
             ],
             [
              0.7777777777777778,
              "#fb9f3a"
             ],
             [
              0.8888888888888888,
              "#fdca26"
             ],
             [
              1.0,
              "#f0f921"
             ]
            ]
           }
          ],
          "choropleth": [
           {
            "type": "choropleth",
            "colorbar": {
             "outlinewidth": 0,
             "ticks": ""
            }
           }
          ],
          "histogram2d": [
           {
            "type": "histogram2d",
            "colorbar": {
             "outlinewidth": 0,
             "ticks": ""
            },
            "colorscale": [
             [
              0.0,
              "#0d0887"
             ],
             [
              0.1111111111111111,
              "#46039f"
             ],
             [
              0.2222222222222222,
              "#7201a8"
             ],
             [
              0.3333333333333333,
              "#9c179e"
             ],
             [
              0.4444444444444444,
              "#bd3786"
             ],
             [
              0.5555555555555556,
              "#d8576b"
             ],
             [
              0.6666666666666666,
              "#ed7953"
             ],
             [
              0.7777777777777778,
              "#fb9f3a"
             ],
             [
              0.8888888888888888,
              "#fdca26"
             ],
             [
              1.0,
              "#f0f921"
             ]
            ]
           }
          ],
          "heatmap": [
           {
            "type": "heatmap",
            "colorbar": {
             "outlinewidth": 0,
             "ticks": ""
            },
            "colorscale": [
             [
              0.0,
              "#0d0887"
             ],
             [
              0.1111111111111111,
              "#46039f"
             ],
             [
              0.2222222222222222,
              "#7201a8"
             ],
             [
              0.3333333333333333,
              "#9c179e"
             ],
             [
              0.4444444444444444,
              "#bd3786"
             ],
             [
              0.5555555555555556,
              "#d8576b"
             ],
             [
              0.6666666666666666,
              "#ed7953"
             ],
             [
              0.7777777777777778,
              "#fb9f3a"
             ],
             [
              0.8888888888888888,
              "#fdca26"
             ],
             [
              1.0,
              "#f0f921"
             ]
            ]
           }
          ],
          "heatmapgl": [
           {
            "type": "heatmapgl",
            "colorbar": {
             "outlinewidth": 0,
             "ticks": ""
            },
            "colorscale": [
             [
              0.0,
              "#0d0887"
             ],
             [
              0.1111111111111111,
              "#46039f"
             ],
             [
              0.2222222222222222,
              "#7201a8"
             ],
             [
              0.3333333333333333,
              "#9c179e"
             ],
             [
              0.4444444444444444,
              "#bd3786"
             ],
             [
              0.5555555555555556,
              "#d8576b"
             ],
             [
              0.6666666666666666,
              "#ed7953"
             ],
             [
              0.7777777777777778,
              "#fb9f3a"
             ],
             [
              0.8888888888888888,
              "#fdca26"
             ],
             [
              1.0,
              "#f0f921"
             ]
            ]
           }
          ],
          "contourcarpet": [
           {
            "type": "contourcarpet",
            "colorbar": {
             "outlinewidth": 0,
             "ticks": ""
            }
           }
          ],
          "contour": [
           {
            "type": "contour",
            "colorbar": {
             "outlinewidth": 0,
             "ticks": ""
            },
            "colorscale": [
             [
              0.0,
              "#0d0887"
             ],
             [
              0.1111111111111111,
              "#46039f"
             ],
             [
              0.2222222222222222,
              "#7201a8"
             ],
             [
              0.3333333333333333,
              "#9c179e"
             ],
             [
              0.4444444444444444,
              "#bd3786"
             ],
             [
              0.5555555555555556,
              "#d8576b"
             ],
             [
              0.6666666666666666,
              "#ed7953"
             ],
             [
              0.7777777777777778,
              "#fb9f3a"
             ],
             [
              0.8888888888888888,
              "#fdca26"
             ],
             [
              1.0,
              "#f0f921"
             ]
            ]
           }
          ],
          "surface": [
           {
            "type": "surface",
            "colorbar": {
             "outlinewidth": 0,
             "ticks": ""
            },
            "colorscale": [
             [
              0.0,
              "#0d0887"
             ],
             [
              0.1111111111111111,
              "#46039f"
             ],
             [
              0.2222222222222222,
              "#7201a8"
             ],
             [
              0.3333333333333333,
              "#9c179e"
             ],
             [
              0.4444444444444444,
              "#bd3786"
             ],
             [
              0.5555555555555556,
              "#d8576b"
             ],
             [
              0.6666666666666666,
              "#ed7953"
             ],
             [
              0.7777777777777778,
              "#fb9f3a"
             ],
             [
              0.8888888888888888,
              "#fdca26"
             ],
             [
              1.0,
              "#f0f921"
             ]
            ]
           }
          ],
          "mesh3d": [
           {
            "type": "mesh3d",
            "colorbar": {
             "outlinewidth": 0,
             "ticks": ""
            }
           }
          ],
          "scatter": [
           {
            "fillpattern": {
             "fillmode": "overlay",
             "size": 10,
             "solidity": 0.2
            },
            "type": "scatter"
           }
          ],
          "parcoords": [
           {
            "type": "parcoords",
            "line": {
             "colorbar": {
              "outlinewidth": 0,
              "ticks": ""
             }
            }
           }
          ],
          "scatterpolargl": [
           {
            "type": "scatterpolargl",
            "marker": {
             "colorbar": {
              "outlinewidth": 0,
              "ticks": ""
             }
            }
           }
          ],
          "bar": [
           {
            "error_x": {
             "color": "#2a3f5f"
            },
            "error_y": {
             "color": "#2a3f5f"
            },
            "marker": {
             "line": {
              "color": "#E5ECF6",
              "width": 0.5
             },
             "pattern": {
              "fillmode": "overlay",
              "size": 10,
              "solidity": 0.2
             }
            },
            "type": "bar"
           }
          ],
          "scattergeo": [
           {
            "type": "scattergeo",
            "marker": {
             "colorbar": {
              "outlinewidth": 0,
              "ticks": ""
             }
            }
           }
          ],
          "scatterpolar": [
           {
            "type": "scatterpolar",
            "marker": {
             "colorbar": {
              "outlinewidth": 0,
              "ticks": ""
             }
            }
           }
          ],
          "histogram": [
           {
            "marker": {
             "pattern": {
              "fillmode": "overlay",
              "size": 10,
              "solidity": 0.2
             }
            },
            "type": "histogram"
           }
          ],
          "scattergl": [
           {
            "type": "scattergl",
            "marker": {
             "colorbar": {
              "outlinewidth": 0,
              "ticks": ""
             }
            }
           }
          ],
          "scatter3d": [
           {
            "type": "scatter3d",
            "line": {
             "colorbar": {
              "outlinewidth": 0,
              "ticks": ""
             }
            },
            "marker": {
             "colorbar": {
              "outlinewidth": 0,
              "ticks": ""
             }
            }
           }
          ],
          "scattermapbox": [
           {
            "type": "scattermapbox",
            "marker": {
             "colorbar": {
              "outlinewidth": 0,
              "ticks": ""
             }
            }
           }
          ],
          "scatterternary": [
           {
            "type": "scatterternary",
            "marker": {
             "colorbar": {
              "outlinewidth": 0,
              "ticks": ""
             }
            }
           }
          ],
          "scattercarpet": [
           {
            "type": "scattercarpet",
            "marker": {
             "colorbar": {
              "outlinewidth": 0,
              "ticks": ""
             }
            }
           }
          ],
          "carpet": [
           {
            "aaxis": {
             "endlinecolor": "#2a3f5f",
             "gridcolor": "white",
             "linecolor": "white",
             "minorgridcolor": "white",
             "startlinecolor": "#2a3f5f"
            },
            "baxis": {
             "endlinecolor": "#2a3f5f",
             "gridcolor": "white",
             "linecolor": "white",
             "minorgridcolor": "white",
             "startlinecolor": "#2a3f5f"
            },
            "type": "carpet"
           }
          ],
          "table": [
           {
            "cells": {
             "fill": {
              "color": "#EBF0F8"
             },
             "line": {
              "color": "white"
             }
            },
            "header": {
             "fill": {
              "color": "#C8D4E3"
             },
             "line": {
              "color": "white"
             }
            },
            "type": "table"
           }
          ],
          "barpolar": [
           {
            "marker": {
             "line": {
              "color": "#E5ECF6",
              "width": 0.5
             },
             "pattern": {
              "fillmode": "overlay",
              "size": 10,
              "solidity": 0.2
             }
            },
            "type": "barpolar"
           }
          ],
          "pie": [
           {
            "automargin": true,
            "type": "pie"
           }
          ]
         },
         "layout": {
          "autotypenumbers": "strict",
          "colorway": [
           "#636efa",
           "#EF553B",
           "#00cc96",
           "#ab63fa",
           "#FFA15A",
           "#19d3f3",
           "#FF6692",
           "#B6E880",
           "#FF97FF",
           "#FECB52"
          ],
          "font": {
           "color": "#2a3f5f"
          },
          "hovermode": "closest",
          "hoverlabel": {
           "align": "left"
          },
          "paper_bgcolor": "white",
          "plot_bgcolor": "#E5ECF6",
          "polar": {
           "bgcolor": "#E5ECF6",
           "angularaxis": {
            "gridcolor": "white",
            "linecolor": "white",
            "ticks": ""
           },
           "radialaxis": {
            "gridcolor": "white",
            "linecolor": "white",
            "ticks": ""
           }
          },
          "ternary": {
           "bgcolor": "#E5ECF6",
           "aaxis": {
            "gridcolor": "white",
            "linecolor": "white",
            "ticks": ""
           },
           "baxis": {
            "gridcolor": "white",
            "linecolor": "white",
            "ticks": ""
           },
           "caxis": {
            "gridcolor": "white",
            "linecolor": "white",
            "ticks": ""
           }
          },
          "coloraxis": {
           "colorbar": {
            "outlinewidth": 0,
            "ticks": ""
           }
          },
          "colorscale": {
           "sequential": [
            [
             0.0,
             "#0d0887"
            ],
            [
             0.1111111111111111,
             "#46039f"
            ],
            [
             0.2222222222222222,
             "#7201a8"
            ],
            [
             0.3333333333333333,
             "#9c179e"
            ],
            [
             0.4444444444444444,
             "#bd3786"
            ],
            [
             0.5555555555555556,
             "#d8576b"
            ],
            [
             0.6666666666666666,
             "#ed7953"
            ],
            [
             0.7777777777777778,
             "#fb9f3a"
            ],
            [
             0.8888888888888888,
             "#fdca26"
            ],
            [
             1.0,
             "#f0f921"
            ]
           ],
           "sequentialminus": [
            [
             0.0,
             "#0d0887"
            ],
            [
             0.1111111111111111,
             "#46039f"
            ],
            [
             0.2222222222222222,
             "#7201a8"
            ],
            [
             0.3333333333333333,
             "#9c179e"
            ],
            [
             0.4444444444444444,
             "#bd3786"
            ],
            [
             0.5555555555555556,
             "#d8576b"
            ],
            [
             0.6666666666666666,
             "#ed7953"
            ],
            [
             0.7777777777777778,
             "#fb9f3a"
            ],
            [
             0.8888888888888888,
             "#fdca26"
            ],
            [
             1.0,
             "#f0f921"
            ]
           ],
           "diverging": [
            [
             0,
             "#8e0152"
            ],
            [
             0.1,
             "#c51b7d"
            ],
            [
             0.2,
             "#de77ae"
            ],
            [
             0.3,
             "#f1b6da"
            ],
            [
             0.4,
             "#fde0ef"
            ],
            [
             0.5,
             "#f7f7f7"
            ],
            [
             0.6,
             "#e6f5d0"
            ],
            [
             0.7,
             "#b8e186"
            ],
            [
             0.8,
             "#7fbc41"
            ],
            [
             0.9,
             "#4d9221"
            ],
            [
             1,
             "#276419"
            ]
           ]
          },
          "xaxis": {
           "gridcolor": "white",
           "linecolor": "white",
           "ticks": "",
           "title": {
            "standoff": 15
           },
           "zerolinecolor": "white",
           "automargin": true,
           "zerolinewidth": 2
          },
          "yaxis": {
           "gridcolor": "white",
           "linecolor": "white",
           "ticks": "",
           "title": {
            "standoff": 15
           },
           "zerolinecolor": "white",
           "automargin": true,
           "zerolinewidth": 2
          },
          "scene": {
           "xaxis": {
            "backgroundcolor": "#E5ECF6",
            "gridcolor": "white",
            "linecolor": "white",
            "showbackground": true,
            "ticks": "",
            "zerolinecolor": "white",
            "gridwidth": 2
           },
           "yaxis": {
            "backgroundcolor": "#E5ECF6",
            "gridcolor": "white",
            "linecolor": "white",
            "showbackground": true,
            "ticks": "",
            "zerolinecolor": "white",
            "gridwidth": 2
           },
           "zaxis": {
            "backgroundcolor": "#E5ECF6",
            "gridcolor": "white",
            "linecolor": "white",
            "showbackground": true,
            "ticks": "",
            "zerolinecolor": "white",
            "gridwidth": 2
           }
          },
          "shapedefaults": {
           "line": {
            "color": "#2a3f5f"
           }
          },
          "annotationdefaults": {
           "arrowcolor": "#2a3f5f",
           "arrowhead": 0,
           "arrowwidth": 1
          },
          "geo": {
           "bgcolor": "white",
           "landcolor": "#E5ECF6",
           "subunitcolor": "white",
           "showland": true,
           "showlakes": true,
           "lakecolor": "white"
          },
          "title": {
           "x": 0.05
          },
          "mapbox": {
           "style": "light"
          }
         }
        },
        "title": {
         "text": "3D PCA Plot with Highlighted Ligands"
        },
        "scene": {
         "xaxis": {
          "title": {
           "text": "Component 1"
          }
         },
         "yaxis": {
          "title": {
           "text": "Component 2"
          }
         },
         "zaxis": {
          "title": {
           "text": "Component 3"
          }
         }
        },
        "legend": {
         "title": {
          "text": "Ligand Categories"
         }
        }
       },
       "config": {
        "plotlyServerURL": "https://plot.ly"
       }
      },
      "text/html": [
       "<div>                            <div id=\"dd196117-d82a-4d28-836a-da6a20abc45c\" class=\"plotly-graph-div\" style=\"height:525px; width:100%;\"></div>            <script type=\"text/javascript\">                require([\"plotly\"], function(Plotly) {                    window.PLOTLYENV=window.PLOTLYENV || {};                                    if (document.getElementById(\"dd196117-d82a-4d28-836a-da6a20abc45c\")) {                    Plotly.newPlot(                        \"dd196117-d82a-4d28-836a-da6a20abc45c\",                        [{\"hoverinfo\":\"text\",\"marker\":{\"color\":\"blue\",\"size\":5},\"mode\":\"markers\",\"name\":\"DS Ligands\",\"text\":[\"DS-10\",\"DS-11\",\"DS-12\",\"DS-13\",\"DS-14\",\"DS-15\",\"DS-16\",\"DS-17\",\"DS-18\",\"DS-19\",\"DS-1\",\"DS-20\",\"DS-21\",\"DS-22\",\"DS-23\",\"DS-24\",\"DS-25\",\"DS-26\",\"DS-27\",\"DS-28\",\"DS-29\",\"DS-2\",\"DS-30\",\"DS-31\",\"DS-32\",\"DS-33\",\"DS-34\",\"DS-35\",\"DS-36\",\"DS-37\",\"DS-38\",\"DS-39\",\"DS-3\",\"DS-40\",\"DS-41\",\"DS-42\",\"DS-43\",\"DS-44\",\"DS-45\",\"DS-46\",\"DS-48\",\"DS-49\",\"DS-4\",\"DS-50\",\"DS-52\",\"DS-53\",\"DS-54\",\"DS-55\",\"DS-56\",\"DS-57\",\"DS-58\",\"DS-59\",\"DS-5\",\"DS-60\",\"DS-61\",\"DS-63\",\"DS-64\",\"DS-6\",\"DS-7\",\"DS-8\",\"DS-9\"],\"x\":[2.5662440650771265,3.9607653422806743,0.9764343911821717,-0.9859024968116201,3.6501825607653875,3.5752208664995195,3.1257148953275737,4.9779375757623505,3.391327541888231,-2.5677883917119457,-1.073225814639228,3.746070300237722,3.1919517920155123,3.8909172123605,5.011680310910131,3.6273643409512033,5.174084117640862,3.466838492703333,2.8370740855395233,4.282066001620953,2.7918033821509076,-7.900542765220172,5.140963789473831,3.86272634115596,5.287626134490217,2.993097559330063,2.070086951459864,3.3102443375158366,-1.7040578585197679,-1.6520497677457278,-2.2654385670118824,-2.1652691488753057,3.894810109932223,-1.2572418109944257,-1.9695606834241586,1.8918877809650692,-17.33287731212111,-1.9058156299980284,-16.8246860046206,-16.632796627564936,-0.7733602308880412,-17.470764803897303,3.2915374717136627,-17.12217738669297,-7.616479854222193,-2.034623775802864,-15.899449936695081,-14.825429404359191,-15.213358605406727,2.2293770241159314,-0.9853744408540197,2.8321538814068954,3.2201562115284763,-0.15227646608928222,-0.8513710492405195,-1.1336026068099936,-2.5330960014455464,0.8375511383288164,2.232164538917378,4.218534656100846,3.6932699114526737],\"y\":[2.0440611791007393,1.3512825422124173,-0.6981244686280981,5.091412096494157,1.7123635307566423,1.717052798337387,4.711236625217412,0.076824321857743,4.555312764741301,13.58743427957792,-7.50971916113791,2.0319051221528874,1.3529010743626342,2.6102189679443053,2.7040802611899064,1.9275759882001489,2.959728618305481,4.132348826609764,5.72177890711973,7.965837036361854,0.816331374624657,-14.702377571568025,3.3878175114927154,3.0861351201932985,3.5897684651993433,3.194341086696967,1.8801689407262718,4.682003180044392,0.5248215243094825,0.6235202913922532,-2.4622417491464357,2.852310294649481,-0.3661327117919595,2.240390284012717,-1.3000062388342732,6.589875784102835,9.597137944062192,3.501812943207064,10.591901675418669,10.503676238766916,9.077007346081773,10.748929486835243,-0.10930162696587446,11.58992894018722,4.200523969145937,-0.5193890564209074,11.253487922958943,11.28168016091254,11.291573639995507,6.895502848391661,4.27309307780147,6.476390384625935,1.1024429420230677,7.70954731415031,6.873651561086243,7.868011093198203,9.47500469689219,4.503719835226968,1.8428294187228105,2.347368607478559,0.5845723736369455],\"z\":[-3.2112520274515304,-3.400544560475301,-0.5716640592061177,1.3222211931933994,-3.2109367117451577,-2.7903965642722044,-3.612537587086176,-3.6884587532753628,-2.1156232355681635,0.9489051494362355,-6.411884734901075,-3.0748684396551296,-2.6020137986898653,-3.602059315772793,-3.8889686514445563,-2.6496030439288174,-4.059852149626989,-3.6194982977116505,0.4745448295969064,2.1776563652819787,-1.6607179195862352,9.588027432876721,-4.135657081982679,-3.7506930983298803,-4.305532807695996,-3.028059092691382,-1.8463362189488084,-2.1551835979771834,-3.8955349671425243,-3.9442605755489706,-7.574091451592961,-2.1512667079226153,0.03173062849318781,-3.54454265472821,-5.853022920324607,5.434813249671646,-0.7393127592079494,-4.006245009973994,0.10771440676038095,1.3046168635682118,13.032260305315504,1.0000927012592449,-2.4851714133752894,0.5968174796918222,2.3508300171751606,2.7823380186117026,1.690961499251512,2.184900774242381,1.4445110583663028,5.032964782048857,0.4188033393487537,-1.0320932691284461,-3.1123808309640184,-1.8049442058754803,-1.0215817618946048,-3.0991036832915966,8.287025284490992,-1.6724556247203297,-2.7948994851368134,0.36240688013064265,-2.89747840925574],\"type\":\"scatter3d\"},{\"hoverinfo\":\"text\",\"marker\":{\"color\":\"red\",\"size\":5},\"mode\":\"markers\",\"name\":\"MS Ligands\",\"text\":[\"MS-10\",\"MS-11\",\"MS-12\",\"MS-13\",\"MS-14\",\"MS-15\",\"MS-16\",\"MS-17\",\"MS-19\",\"MS-1\",\"MS-20\",\"MS-21\",\"MS-22\",\"MS-23\",\"MS-24\",\"MS-25\",\"MS-26\",\"MS-27\",\"MS-28\",\"MS-29\",\"MS-2\",\"MS-30\",\"MS-31\",\"MS-32\",\"MS-33\",\"MS-34\",\"MS-35\",\"MS-36\",\"MS-37\",\"MS-38\",\"MS-39\",\"MS-3\",\"MS-40\",\"MS-41\",\"MS-42\",\"MS-44\",\"MS-45\",\"MS-46\",\"MS-47\",\"MS-48\",\"MS-49\",\"MS-4\",\"MS-50\",\"MS-51\",\"MS-52\",\"MS-53\",\"MS-54\",\"MS-55\",\"MS-56\",\"MS-57\",\"MS-58\",\"MS-59\",\"MS-5\",\"MS-60\",\"MS-61\",\"MS-62\",\"MS-64\",\"MS-65\",\"MS-66\",\"MS-68\",\"MS-6\",\"MS-70\",\"MS-71\",\"MS-72\",\"MS-73\",\"MS-74\",\"MS-75\",\"MS-76\",\"MS-77\",\"MS-78\",\"MS-79\",\"MS-80\",\"MS-81\",\"MS-82\",\"MS-83\",\"MS-84\",\"MS-85\",\"MS-86\",\"MS-87\",\"MS-88\",\"MS-89\",\"MS-90\",\"MS-91\",\"MS-92\",\"MS-93\",\"MS-9\"],\"x\":[7.761190720890006,-0.16529163559249632,1.8008561281362419,3.1767108171102536,-0.21379577192918797,0.9055636588735748,1.952421391110335,2.1182233457861264,1.781286642935434,-3.0504552261129776,1.8849489981939573,1.964757849184264,2.444373912791969,2.020132434464909,2.2572533505454504,1.6985939858594443,4.106022459121999,2.194428320704253,1.1764264554698176,2.289797230229715,-5.994086297112094,2.383261414503462,1.3050145505261452,1.3755827486277132,2.406044098341695,2.31559389148746,2.3946472647465975,2.4244279991453523,1.8781915405197434,2.046202406250604,2.53611463737966,-7.101735671396387,2.5668262226141807,1.7609470096724282,5.399211999565862,1.944917785385295,1.7953269969619272,2.279417790625791,1.7447740714657234,2.5528692996650206,2.2070544123674742,2.5620682433774644,3.2634280976177976,1.789343229050877,0.07144930706668831,1.5925897071571793,3.0838403328658615,1.7286300782084976,2.066918705413642,2.105766676911838,1.0757956518890068,2.3823128462030305,3.0587114302575418,1.7715431318358954,3.415412276176119,4.533138849501915,4.8209867407955205,1.3941920467936246,1.7315785533626933,2.0615226047771893,2.5059890387674972,-4.836884115067574,-1.0451570753803892,1.053370749855778,-18.005768424268034,-1.8972265880659545,-17.872686326909243,-18.271760734865556,-1.124856679480475,-17.772195115833735,4.339795492605638,1.3318614465167686,4.958774860439027,-17.15306863705377,-17.62140673031906,-16.0258799475686,2.3097040412028003,3.387411152225804,-16.715602290330246,2.5772230166472836,-16.159370997500222,2.3840243457003782,-17.285433875162525,3.8014573496613933,7.5233745092430855,0.44149317203898847],\"y\":[4.0304415829573115,3.257603830843246,0.549404607841672,1.1741671054894947,-1.137295253040434,-0.8828621739875125,0.6279612201396556,0.8228449044313415,2.0650712497245007,-5.2975076426115075,1.5298199306106777,0.9806402232831917,2.1530720864267776,1.139188644593218,1.9297736417698057,2.4185884309829775,3.3327007078327044,1.3961953503073739,0.8243483321955024,1.552747304822112,-0.9172764989145237,2.2708375331742165,0.668453824333374,0.9511029337909267,2.2137627247945546,1.4343230835568201,2.038260678120762,1.954179723734326,1.5508090328289317,1.1991659745299097,1.3702771667304587,-18.240065583099895,2.2484012181796116,1.6485622109270495,1.5258124528880932,1.9284218871752743,1.1413174449492665,4.052340021457491,2.099100207592274,1.3651286065803185,1.6905195170249294,1.498451046119364,4.060492433089203,1.1348658068505315,-0.62366765093278,1.2186686249019592,1.5462449066538433,4.235436180021501,1.7761040138179642,2.572187276416359,4.39736805678806,2.736275604521187,1.2725641201526514,1.5389548685330756,2.1480552686017633,2.780616003118446,3.4362401525683004,3.866306569864182,2.75828571134124,2.261012830797809,3.7485128118236886,-5.415928781511855,-1.9720650281432344,-7.634999315986222,-0.22010440233195833,-2.453328712960326,0.16884497547823873,-0.6983069727041569,-0.3914159106413683,0.8445912609000564,-1.28269845104316,-6.682605441900045,-0.08538833118474555,6.826287919523914,0.46177031257308326,7.214182484146752,-2.6344492018951873,2.705681012062226,7.907711898462435,-1.2246103831896655,6.903581848954785,2.624355872382937,7.160849021355165,3.6335722896189435,1.4792964530219128,-1.2501171835185323],\"z\":[8.334699977262193,0.7060635527765678,-2.80778941657238,-0.4227773907889617,-1.3243545470021154,4.861084181348358,-3.1765718751274505,-3.375399449703141,-2.969462692962503,-3.8937452340190397,-3.0602534437166353,-2.6197168980822187,-3.2298994198164217,-2.7444811677951813,-3.1209587128355776,-2.6693692041706125,1.578736380188543,-2.975104626823728,-1.2136905273210372,-3.120094479287629,0.2611658003636029,-2.9063899462351395,-2.3066215273162474,-2.440585960972312,-3.4262001267009503,-2.9354680301271956,-3.154668453327568,-3.150932346071574,-3.2634690432898426,-2.7465857588977394,-2.3015900777734166,9.650314541220332,-3.442612803325466,-2.6467957428794575,8.81100405020087,-2.886922688438002,-2.648514018483247,-3.7195333348657353,-2.295342580077825,-2.3685523289184776,-2.5702171906294193,2.0208205176985157,-1.4886959346386357,-2.6397108758015886,-0.11618563488771702,-1.8579614389160137,-0.5836901564602811,-2.7013019728654264,-3.427858505361873,-3.0168162974035506,-2.5882535198688736,-3.100407375943374,2.3382714938489957,-3.1156070709595247,1.4275089160287564,4.087478348851447,3.6320589782746904,-2.7952901102143652,-2.35112111777774,-2.4889143268821368,6.739746197037485,-7.289395244310411,-1.8790180873363038,-1.255261838535706,-0.49038787527735317,3.029544953863653,-0.5219560413906515,0.0954158992081102,-3.8726660092085865,-0.6611298894551916,6.96713001485926,-1.8975232163223086,6.851724724899563,-1.326545229175906,-0.7154980504795877,1.092144406675297,2.7255912298865814,6.914697196726081,0.8353945385818369,2.2339201211812076,1.6229492984418807,-2.783569716725521,-0.8642060126454557,6.416226547978908,7.45261254328734,-1.7452035337582101],\"type\":\"scatter3d\"},{\"hoverinfo\":\"text\",\"marker\":{\"color\":\"green\",\"size\":5},\"mode\":\"markers\",\"name\":\"MB Ligands\",\"text\":[\"MB-100\",\"MB-101\",\"MB-102\",\"MB-103\",\"MB-104\",\"MB-105\",\"MB-106\",\"MB-107\",\"MB-108\",\"MB-109\",\"MB-10\",\"MB-110\",\"MB-111\",\"MB-112\",\"MB-113\",\"MB-114\",\"MB-115\",\"MB-116\",\"MB-117\",\"MB-118\",\"MB-119\",\"MB-11\",\"MB-120\",\"MB-121\",\"MB-122\",\"MB-123\",\"MB-124\",\"MB-125\",\"MB-126\",\"MB-127\",\"MB-128\",\"MB-129\",\"MB-12\",\"MB-130\",\"MB-131\",\"MB-132\",\"MB-133\",\"MB-134\",\"MB-135\",\"MB-136\",\"MB-137\",\"MB-139\",\"MB-13\",\"MB-140\",\"MB-143\",\"MB-14\",\"MB-15\",\"MB-16\",\"MB-18\",\"MB-19\",\"MB-1\",\"MB-20\",\"MB-21\",\"MB-22\",\"MB-23\",\"MB-24\",\"MB-25\",\"MB-26\",\"MB-27\",\"MB-28\",\"MB-29\",\"MB-2\",\"MB-30\",\"MB-31\",\"MB-32\",\"MB-33\",\"MB-34\",\"MB-35\",\"MB-37\",\"MB-38\",\"MB-39\",\"MB-3\",\"MB-40\",\"MB-41\",\"MB-42\",\"MB-43\",\"MB-44\",\"MB-45\",\"MB-46\",\"MB-47\",\"MB-48\",\"MB-49\",\"MB-4\",\"MB-50\",\"MB-51\",\"MB-52\",\"MB-53\",\"MB-54\",\"MB-55\",\"MB-56\",\"MB-57\",\"MB-58\",\"MB-59\",\"MB-5\",\"MB-60\",\"MB-61\",\"MB-62\",\"MB-63\",\"MB-64\",\"MB-65\",\"MB-66\",\"MB-67\",\"MB-68\",\"MB-69\",\"MB-6\",\"MB-70\",\"MB-71\",\"MB-72\",\"MB-73\",\"MB-74\",\"MB-75\",\"MB-76\",\"MB-77\",\"MB-78\",\"MB-79\",\"MB-7\",\"MB-80\",\"MB-81\",\"MB-82\",\"MB-83\",\"MB-84\",\"MB-85\",\"MB-86\",\"MB-87\",\"MB-88\",\"MB-89\",\"MB-8\",\"MB-90\",\"MB-91\",\"MB-92\",\"MB-93\",\"MB-94\",\"MB-95\",\"MB-96\",\"MB-97\",\"MB-98\",\"MB-9\"],\"x\":[0.7442535699570614,3.5665719459975627,4.940878306390317,-1.818650935831151,4.769421061938625,-4.8587357160808144,3.139335073970123,4.284851173834077,4.338265811398343,3.1705706631210573,0.8185825079269692,6.818020517170911,5.317084795738986,2.285748881154595,4.7319101998280715,6.786236483643307,1.8128501543512539,0.3820795243604868,-0.21210220047953293,4.661580309035169,-14.750930011106187,-1.3450425254837743,5.566688621652003,2.9504941181779754,-7.604473522815452,-6.652357128920688,4.837503380849491,7.406700199085705,7.555822548057821,-0.6875379574441052,9.023643833203352,3.770657097561149,2.885653768278363,-3.2243757888544855,-16.202644652803315,7.041907084505324,0.10127911225005506,3.9344630877857627,2.2422267744466966,-2.158567585274371,4.337925384077481,-0.721463758901361,-0.8884606781215396,5.92716777728756,6.441971968368926,-16.87707259595498,-1.234590728655462,4.465668729168624,5.652408148660649,-1.0262367204832072,-4.506967920206129,-0.8158215083169758,-0.564365430123389,0.4090961587013579,3.6486945583883497,-0.668656160906521,1.1331813452648591,8.413127588113605,-6.736647577858847,-1.4980910094643007,-15.51471389811962,-4.5385940261896485,-20.821726995583745,1.1728006038247996,0.3535768622175498,2.1302622916518,2.789688789923149,3.605523255521369,1.106015849176983,1.3202443065733853,0.43666452108203274,-19.984322032059,4.857036012446873,1.1955538307065696,5.4248839734690835,-7.338377752960131,1.6090375219483077,0.1787895114216635,-16.080350714438545,-4.566541996498387,1.3624942839318719,1.9416435680034625,-1.039005030951821,0.9484848302164208,2.3953033515661364,-4.253456436105579,0.8894964255573325,4.167606238506386,-2.0727577579737684,1.6184541050926506,3.396115084172237,3.7003118499761523,3.3800656240544678,-1.5158508867108957,6.724970719222438,4.089206307595183,6.729196853209075,5.379755652200999,2.665396141953801,-17.87113342130763,1.5575102845034476,1.9596197147850105,2.6829836172816353,2.8460898707476447,-1.098400663319791,3.502133286826686,3.6401310344739803,4.119714263026114,1.9865570611658478,4.017029975739657,5.373647903049336,6.3139113422698125,1.3650378190297783,2.572792213609877,0.8226875247669811,-3.6667425894343157,5.378199517983403,2.0506682195659387,2.396329665044245,2.170517973808008,3.5676618869437653,6.254043971547346,5.77753172326395,-0.5433778479591156,2.6035345585773,2.539603559495696,-17.45223190949949,4.025100484710413,1.6762790039915307,6.958816304032918,-16.00564509759334,1.0293581305567137,2.349456846364382,3.0265756447127345,4.106624009341041,-7.082942211603001,1.385446677848951],\"y\":[10.08704135167424,-1.7808714983275271,3.8291660615940173,-0.44955020082899505,-1.061858334922549,-2.3625014083330633,-0.8465048406072085,-2.9264768276949575,0.8582181687746897,0.6259200678991236,-5.024939836314368,1.907278590429361,3.244980981888434,-1.367101759971555,1.366832247253986,4.210065524308132,-3.34939311955755,-5.651189712221407,-6.647413415351095,2.2694483669283336,-4.411727682118164,-3.5147770637404037,1.8015092269379447,4.230090147378275,-3.7288893125929135,-3.6928198229249696,2.589873150460893,4.475274068003479,3.1338193653728417,-7.9035692667359,3.6756705431222922,-2.2242825706272753,-3.4458011633425603,0.4040475642389086,-5.208752862478987,2.2718108371638954,-9.286093245163372,-4.718590969437979,-1.6102434006429873,0.8786138269845755,-4.14171745723142,-11.317134561083028,-6.229194760004262,1.4406461697258408,-0.29721698203422886,-4.495372656119755,-6.7147811785505445,-2.701511925728354,-2.0386888604555122,-5.633466466613283,-9.459806781812427,-6.620035566951776,-6.212455015653195,-3.7845881942313064,-2.3541825200188606,-5.839906564962513,-4.356696136194881,-1.5372767550927733,-20.768747599324694,-2.4213745036990755,-1.134210117054007,-7.242234871303837,-12.588157330560952,-4.090943156460209,-3.001154249105066,-3.343445462016603,-2.218697250462664,-1.6835701182877603,-3.4446258407959087,-5.778374403906536,-3.7168518051363306,-9.705116147095676,-0.9358605138672899,-3.208759082818756,-0.45841078811636593,-1.6562621191753986,-4.807711136719879,1.6683090748302543,4.03857990444302,7.184678486833662,-3.912909874756167,-2.466456149864744,-6.009835335461117,-3.8152366351843097,-3.3537746355548927,-4.756194024403953,-2.857703892582985,-0.0806734521760571,2.4806053944247024,-3.0856487339315226,-1.5593144425848804,-3.3637831972949406,-1.6694517132891613,-7.245150769817987,0.4221079812807216,-3.80916600544579,1.2745779708854357,0.5007936823454333,-1.3219353826373068,-8.781444651925518,-2.3588662712257875,-1.57053806474383,-2.5093418770607396,-1.9532876980270224,-6.343161609785546,-3.3276765597392632,-2.7807190605688517,-0.8373837887352988,-2.411010736353665,-0.7977771673368605,-0.42874223227264774,-1.430353173877145,-2.321748133443178,-1.7705289927780958,-3.5997924165203945,-7.568008661896073,-0.7110457266400297,-1.7607073266515108,-1.345409624796186,-1.4347704575049967,-1.3930882965941085,0.8648255743544192,-0.013084543559641598,-4.465715451739088,-0.3991020791959865,-0.17491058347858193,-6.241104943299619,0.42209436105763415,-3.622060086054275,-1.42393624072745,-4.936325399196856,-3.2736589846035553,-1.2704354322511076,-2.27182834976508,-2.117840737719705,-4.9437578842148815,-4.317833056225235],\"z\":[9.433816359894433,-0.47696306581072956,1.1811654781062633,-1.8183250581581598,2.3755845788955146,8.430562466791375,-0.8992627059568479,5.897423035808938,1.9426662946543887,-3.21776627319327,-0.2745498472284039,5.8909974323800585,3.7564125754831887,-2.5840196890663285,-0.14034124839486314,4.3996090798679495,0.31135219257843255,1.0575091897403726,1.2031202942055919,-0.6185644853356276,5.727459165480819,-3.4165015725121077,-2.2346237091172667,1.0089813385931485,2.364036705933482,3.587668709335289,2.160164320080748,4.67356681210938,-0.6243884949810484,-0.8879357817411735,8.997771504010665,3.4217062892687324,1.4139228365096697,9.960954690643657,2.2643527071510126,4.320041066247478,6.043932925652705,2.529934319907465,-2.2492042569542305,9.53384321159816,2.3077711197571515,7.33558589078526,-4.0227168683687005,2.0037093054902417,6.738055404920977,-0.28801674724178244,-7.942228494448232,5.269419846243446,4.449079111847564,-4.968856388942352,-6.644584665958964,-3.9372943951404005,-3.89378313869112,-3.157343903955113,1.2602530308491646,-4.162287217008696,1.8732624847939507,7.80942901263165,10.108374449826126,-4.831243292013533,0.607467920572187,-6.933623720946154,1.7317250183584318,-0.8538899403543647,-2.8399271579376295,0.4829541135130752,0.03563499412610588,1.1364344681195404,-2.594420229496266,-0.640784992126355,-3.9175377386014714,-0.9492950448770462,4.018514824837208,-2.640915723577495,4.083876072665479,-0.1301351774833992,-1.9528913207489338,-2.7296505112413607,-0.9410199840744468,5.47636644229781,-3.0407308406263396,-2.847768570710936,-1.197036910376029,-2.845517482169895,-0.8947598078488836,1.3159917404860209,-4.8679242022125235,-0.4930285915010054,-0.15642145732344354,-1.5034555074176608,0.9481473643231502,2.7063276788238535,1.09209651178098,-3.814755156766597,4.521097714141249,5.4050166667005035,3.18514487179329,3.1201884786820555,-0.6957495465747123,6.883598905142585,0.48087213465511025,-2.5066972899932476,-1.0725005702185095,-0.8143788011808163,-1.7963763018275534,-1.1015626274963064,-1.596174541298204,1.3386981154899207,-2.8694896744416822,0.7469208591696774,4.325230660641013,5.881001884968209,-1.0712585468320437,0.06659210300302046,-3.4832175164183212,-7.023321011191304,4.75411323072752,-2.393264556359717,-2.310707674029017,-2.5504571667032123,1.089254082059922,6.2815619584025315,4.052050027499999,-4.937922525881234,-2.713344720503814,-3.4085869808489755,0.17946642416303366,-0.41630377881828995,0.1374036426507813,7.472926959696711,4.397360220775228,-3.9062731443380967,-1.8934711138354146,2.272095295853382,2.378937098723031,5.272317079222447,2.563605744295294],\"type\":\"scatter3d\"},{\"hoverinfo\":\"text\",\"marker\":{\"color\":\"purple\",\"size\":5},\"mode\":\"markers\",\"name\":\"Other Ligands\",\"text\":[\"dcPAMP\",\"dcpa\",\"diprpa\"],\"x\":[5.931822255089498,2.924543023907077,1.6431963287924423],\"y\":[0.45767410651582374,-1.7618365688208746,-4.137959235999334],\"z\":[3.937895530181646,3.880004643633486,4.604089672739802],\"type\":\"scatter3d\"}],                        {\"template\":{\"data\":{\"histogram2dcontour\":[{\"type\":\"histogram2dcontour\",\"colorbar\":{\"outlinewidth\":0,\"ticks\":\"\"},\"colorscale\":[[0.0,\"#0d0887\"],[0.1111111111111111,\"#46039f\"],[0.2222222222222222,\"#7201a8\"],[0.3333333333333333,\"#9c179e\"],[0.4444444444444444,\"#bd3786\"],[0.5555555555555556,\"#d8576b\"],[0.6666666666666666,\"#ed7953\"],[0.7777777777777778,\"#fb9f3a\"],[0.8888888888888888,\"#fdca26\"],[1.0,\"#f0f921\"]]}],\"choropleth\":[{\"type\":\"choropleth\",\"colorbar\":{\"outlinewidth\":0,\"ticks\":\"\"}}],\"histogram2d\":[{\"type\":\"histogram2d\",\"colorbar\":{\"outlinewidth\":0,\"ticks\":\"\"},\"colorscale\":[[0.0,\"#0d0887\"],[0.1111111111111111,\"#46039f\"],[0.2222222222222222,\"#7201a8\"],[0.3333333333333333,\"#9c179e\"],[0.4444444444444444,\"#bd3786\"],[0.5555555555555556,\"#d8576b\"],[0.6666666666666666,\"#ed7953\"],[0.7777777777777778,\"#fb9f3a\"],[0.8888888888888888,\"#fdca26\"],[1.0,\"#f0f921\"]]}],\"heatmap\":[{\"type\":\"heatmap\",\"colorbar\":{\"outlinewidth\":0,\"ticks\":\"\"},\"colorscale\":[[0.0,\"#0d0887\"],[0.1111111111111111,\"#46039f\"],[0.2222222222222222,\"#7201a8\"],[0.3333333333333333,\"#9c179e\"],[0.4444444444444444,\"#bd3786\"],[0.5555555555555556,\"#d8576b\"],[0.6666666666666666,\"#ed7953\"],[0.7777777777777778,\"#fb9f3a\"],[0.8888888888888888,\"#fdca26\"],[1.0,\"#f0f921\"]]}],\"heatmapgl\":[{\"type\":\"heatmapgl\",\"colorbar\":{\"outlinewidth\":0,\"ticks\":\"\"},\"colorscale\":[[0.0,\"#0d0887\"],[0.1111111111111111,\"#46039f\"],[0.2222222222222222,\"#7201a8\"],[0.3333333333333333,\"#9c179e\"],[0.4444444444444444,\"#bd3786\"],[0.5555555555555556,\"#d8576b\"],[0.6666666666666666,\"#ed7953\"],[0.7777777777777778,\"#fb9f3a\"],[0.8888888888888888,\"#fdca26\"],[1.0,\"#f0f921\"]]}],\"contourcarpet\":[{\"type\":\"contourcarpet\",\"colorbar\":{\"outlinewidth\":0,\"ticks\":\"\"}}],\"contour\":[{\"type\":\"contour\",\"colorbar\":{\"outlinewidth\":0,\"ticks\":\"\"},\"colorscale\":[[0.0,\"#0d0887\"],[0.1111111111111111,\"#46039f\"],[0.2222222222222222,\"#7201a8\"],[0.3333333333333333,\"#9c179e\"],[0.4444444444444444,\"#bd3786\"],[0.5555555555555556,\"#d8576b\"],[0.6666666666666666,\"#ed7953\"],[0.7777777777777778,\"#fb9f3a\"],[0.8888888888888888,\"#fdca26\"],[1.0,\"#f0f921\"]]}],\"surface\":[{\"type\":\"surface\",\"colorbar\":{\"outlinewidth\":0,\"ticks\":\"\"},\"colorscale\":[[0.0,\"#0d0887\"],[0.1111111111111111,\"#46039f\"],[0.2222222222222222,\"#7201a8\"],[0.3333333333333333,\"#9c179e\"],[0.4444444444444444,\"#bd3786\"],[0.5555555555555556,\"#d8576b\"],[0.6666666666666666,\"#ed7953\"],[0.7777777777777778,\"#fb9f3a\"],[0.8888888888888888,\"#fdca26\"],[1.0,\"#f0f921\"]]}],\"mesh3d\":[{\"type\":\"mesh3d\",\"colorbar\":{\"outlinewidth\":0,\"ticks\":\"\"}}],\"scatter\":[{\"fillpattern\":{\"fillmode\":\"overlay\",\"size\":10,\"solidity\":0.2},\"type\":\"scatter\"}],\"parcoords\":[{\"type\":\"parcoords\",\"line\":{\"colorbar\":{\"outlinewidth\":0,\"ticks\":\"\"}}}],\"scatterpolargl\":[{\"type\":\"scatterpolargl\",\"marker\":{\"colorbar\":{\"outlinewidth\":0,\"ticks\":\"\"}}}],\"bar\":[{\"error_x\":{\"color\":\"#2a3f5f\"},\"error_y\":{\"color\":\"#2a3f5f\"},\"marker\":{\"line\":{\"color\":\"#E5ECF6\",\"width\":0.5},\"pattern\":{\"fillmode\":\"overlay\",\"size\":10,\"solidity\":0.2}},\"type\":\"bar\"}],\"scattergeo\":[{\"type\":\"scattergeo\",\"marker\":{\"colorbar\":{\"outlinewidth\":0,\"ticks\":\"\"}}}],\"scatterpolar\":[{\"type\":\"scatterpolar\",\"marker\":{\"colorbar\":{\"outlinewidth\":0,\"ticks\":\"\"}}}],\"histogram\":[{\"marker\":{\"pattern\":{\"fillmode\":\"overlay\",\"size\":10,\"solidity\":0.2}},\"type\":\"histogram\"}],\"scattergl\":[{\"type\":\"scattergl\",\"marker\":{\"colorbar\":{\"outlinewidth\":0,\"ticks\":\"\"}}}],\"scatter3d\":[{\"type\":\"scatter3d\",\"line\":{\"colorbar\":{\"outlinewidth\":0,\"ticks\":\"\"}},\"marker\":{\"colorbar\":{\"outlinewidth\":0,\"ticks\":\"\"}}}],\"scattermapbox\":[{\"type\":\"scattermapbox\",\"marker\":{\"colorbar\":{\"outlinewidth\":0,\"ticks\":\"\"}}}],\"scatterternary\":[{\"type\":\"scatterternary\",\"marker\":{\"colorbar\":{\"outlinewidth\":0,\"ticks\":\"\"}}}],\"scattercarpet\":[{\"type\":\"scattercarpet\",\"marker\":{\"colorbar\":{\"outlinewidth\":0,\"ticks\":\"\"}}}],\"carpet\":[{\"aaxis\":{\"endlinecolor\":\"#2a3f5f\",\"gridcolor\":\"white\",\"linecolor\":\"white\",\"minorgridcolor\":\"white\",\"startlinecolor\":\"#2a3f5f\"},\"baxis\":{\"endlinecolor\":\"#2a3f5f\",\"gridcolor\":\"white\",\"linecolor\":\"white\",\"minorgridcolor\":\"white\",\"startlinecolor\":\"#2a3f5f\"},\"type\":\"carpet\"}],\"table\":[{\"cells\":{\"fill\":{\"color\":\"#EBF0F8\"},\"line\":{\"color\":\"white\"}},\"header\":{\"fill\":{\"color\":\"#C8D4E3\"},\"line\":{\"color\":\"white\"}},\"type\":\"table\"}],\"barpolar\":[{\"marker\":{\"line\":{\"color\":\"#E5ECF6\",\"width\":0.5},\"pattern\":{\"fillmode\":\"overlay\",\"size\":10,\"solidity\":0.2}},\"type\":\"barpolar\"}],\"pie\":[{\"automargin\":true,\"type\":\"pie\"}]},\"layout\":{\"autotypenumbers\":\"strict\",\"colorway\":[\"#636efa\",\"#EF553B\",\"#00cc96\",\"#ab63fa\",\"#FFA15A\",\"#19d3f3\",\"#FF6692\",\"#B6E880\",\"#FF97FF\",\"#FECB52\"],\"font\":{\"color\":\"#2a3f5f\"},\"hovermode\":\"closest\",\"hoverlabel\":{\"align\":\"left\"},\"paper_bgcolor\":\"white\",\"plot_bgcolor\":\"#E5ECF6\",\"polar\":{\"bgcolor\":\"#E5ECF6\",\"angularaxis\":{\"gridcolor\":\"white\",\"linecolor\":\"white\",\"ticks\":\"\"},\"radialaxis\":{\"gridcolor\":\"white\",\"linecolor\":\"white\",\"ticks\":\"\"}},\"ternary\":{\"bgcolor\":\"#E5ECF6\",\"aaxis\":{\"gridcolor\":\"white\",\"linecolor\":\"white\",\"ticks\":\"\"},\"baxis\":{\"gridcolor\":\"white\",\"linecolor\":\"white\",\"ticks\":\"\"},\"caxis\":{\"gridcolor\":\"white\",\"linecolor\":\"white\",\"ticks\":\"\"}},\"coloraxis\":{\"colorbar\":{\"outlinewidth\":0,\"ticks\":\"\"}},\"colorscale\":{\"sequential\":[[0.0,\"#0d0887\"],[0.1111111111111111,\"#46039f\"],[0.2222222222222222,\"#7201a8\"],[0.3333333333333333,\"#9c179e\"],[0.4444444444444444,\"#bd3786\"],[0.5555555555555556,\"#d8576b\"],[0.6666666666666666,\"#ed7953\"],[0.7777777777777778,\"#fb9f3a\"],[0.8888888888888888,\"#fdca26\"],[1.0,\"#f0f921\"]],\"sequentialminus\":[[0.0,\"#0d0887\"],[0.1111111111111111,\"#46039f\"],[0.2222222222222222,\"#7201a8\"],[0.3333333333333333,\"#9c179e\"],[0.4444444444444444,\"#bd3786\"],[0.5555555555555556,\"#d8576b\"],[0.6666666666666666,\"#ed7953\"],[0.7777777777777778,\"#fb9f3a\"],[0.8888888888888888,\"#fdca26\"],[1.0,\"#f0f921\"]],\"diverging\":[[0,\"#8e0152\"],[0.1,\"#c51b7d\"],[0.2,\"#de77ae\"],[0.3,\"#f1b6da\"],[0.4,\"#fde0ef\"],[0.5,\"#f7f7f7\"],[0.6,\"#e6f5d0\"],[0.7,\"#b8e186\"],[0.8,\"#7fbc41\"],[0.9,\"#4d9221\"],[1,\"#276419\"]]},\"xaxis\":{\"gridcolor\":\"white\",\"linecolor\":\"white\",\"ticks\":\"\",\"title\":{\"standoff\":15},\"zerolinecolor\":\"white\",\"automargin\":true,\"zerolinewidth\":2},\"yaxis\":{\"gridcolor\":\"white\",\"linecolor\":\"white\",\"ticks\":\"\",\"title\":{\"standoff\":15},\"zerolinecolor\":\"white\",\"automargin\":true,\"zerolinewidth\":2},\"scene\":{\"xaxis\":{\"backgroundcolor\":\"#E5ECF6\",\"gridcolor\":\"white\",\"linecolor\":\"white\",\"showbackground\":true,\"ticks\":\"\",\"zerolinecolor\":\"white\",\"gridwidth\":2},\"yaxis\":{\"backgroundcolor\":\"#E5ECF6\",\"gridcolor\":\"white\",\"linecolor\":\"white\",\"showbackground\":true,\"ticks\":\"\",\"zerolinecolor\":\"white\",\"gridwidth\":2},\"zaxis\":{\"backgroundcolor\":\"#E5ECF6\",\"gridcolor\":\"white\",\"linecolor\":\"white\",\"showbackground\":true,\"ticks\":\"\",\"zerolinecolor\":\"white\",\"gridwidth\":2}},\"shapedefaults\":{\"line\":{\"color\":\"#2a3f5f\"}},\"annotationdefaults\":{\"arrowcolor\":\"#2a3f5f\",\"arrowhead\":0,\"arrowwidth\":1},\"geo\":{\"bgcolor\":\"white\",\"landcolor\":\"#E5ECF6\",\"subunitcolor\":\"white\",\"showland\":true,\"showlakes\":true,\"lakecolor\":\"white\"},\"title\":{\"x\":0.05},\"mapbox\":{\"style\":\"light\"}}},\"title\":{\"text\":\"3D PCA Plot with Highlighted Ligands\"},\"scene\":{\"xaxis\":{\"title\":{\"text\":\"Component 1\"}},\"yaxis\":{\"title\":{\"text\":\"Component 2\"}},\"zaxis\":{\"title\":{\"text\":\"Component 3\"}}},\"legend\":{\"title\":{\"text\":\"Ligand Categories\"}}},                        {\"responsive\": true}                    ).then(function(){\n",
       "                            \n",
       "var gd = document.getElementById('dd196117-d82a-4d28-836a-da6a20abc45c');\n",
       "var x = new MutationObserver(function (mutations, observer) {{\n",
       "        var display = window.getComputedStyle(gd).display;\n",
       "        if (!display || display === 'none') {{\n",
       "            console.log([gd, 'removed!']);\n",
       "            Plotly.purge(gd);\n",
       "            observer.disconnect();\n",
       "        }}\n",
       "}});\n",
       "\n",
       "// Listen for the removal of the full notebook cells\n",
       "var notebookContainer = gd.closest('#notebook-container');\n",
       "if (notebookContainer) {{\n",
       "    x.observe(notebookContainer, {childList: true});\n",
       "}}\n",
       "\n",
       "// Listen for the clearing of the current output cell\n",
       "var outputEl = gd.closest('.output');\n",
       "if (outputEl) {{\n",
       "    x.observe(outputEl, {childList: true});\n",
       "}}\n",
       "\n",
       "                        })                };                });            </script>        </div>"
      ]
     },
     "metadata": {},
     "output_type": "display_data"
    }
   ],
   "execution_count": 28
  },
  {
   "metadata": {
    "ExecuteTime": {
     "end_time": "2025-01-25T15:56:02.076301Z",
     "start_time": "2025-01-25T15:56:01.900837Z"
    }
   },
   "cell_type": "code",
   "source": [
    "import plotly.express as px\n",
    "import pandas as pd\n",
    "\n",
    "# Dictionary for ligand categories and their colors\n",
    "categories = {\n",
    "    \"DS\": {\"color\": \"blue\", \"label\": \"DS Ligands\"},\n",
    "    \"MS\": {\"color\": \"red\", \"label\": \"MS Ligands\"},\n",
    "    \"MB\": {\"color\": \"green\", \"label\": \"MB Ligands\"},\n",
    "    \"Other\": {\"color\": \"purple\", \"label\": \"Other Ligands\"},\n",
    "}\n",
    "\n",
    "# Assign a category to each ligand for color coding\n",
    "def get_category(ligand):\n",
    "    if \"DS\" in ligand:\n",
    "        return \"DS Ligands\"\n",
    "    elif \"MS\" in ligand:\n",
    "        return \"MS Ligands\"\n",
    "    elif \"MB\" in ligand:\n",
    "        return \"MB Ligands\"\n",
    "    else:\n",
    "        return \"Other Ligands\"\n",
    "\n",
    "pca_df['category'] = pca_df['ligand'].apply(get_category)\n",
    "\n",
    "# Define a function to plot 2D slices\n",
    "def plot_2d_slice(x, y, x_label, y_label):\n",
    "    fig = px.scatter(\n",
    "        pca_df,\n",
    "        x=x,\n",
    "        y=y,\n",
    "        color='category',\n",
    "        color_discrete_map={\n",
    "            \"DS Ligands\": \"blue\",\n",
    "            \"MS Ligands\": \"red\",\n",
    "            \"MB Ligands\": \"green\",\n",
    "            \"Other Ligands\": \"purple\",\n",
    "        },\n",
    "        hover_data={'ligand': True},  # Show ligand names on hover\n",
    "        title=f'2D PCA Slice: {x_label} vs {y_label}',\n",
    "        labels={'category': 'Ligand Category'}\n",
    "    )\n",
    "    fig.update_layout(\n",
    "        xaxis_title=x_label,\n",
    "        yaxis_title=y_label,\n",
    "        legend_title=\"Ligand Categories\"\n",
    "    )\n",
    "    return fig\n",
    "\n",
    "# Generate and display 2D slices\n",
    "fig1 = plot_2d_slice('Component 1', 'Component 2', 'Component 1', 'Component 2')\n",
    "fig2 = plot_2d_slice('Component 1', 'Component 3', 'Component 1', 'Component 3')\n",
    "fig3 = plot_2d_slice('Component 2', 'Component 3', 'Component 2', 'Component 3')\n",
    "\n",
    "# Show the figures\n",
    "fig1.show()\n",
    "fig2.show()\n",
    "fig3.show()\n"
   ],
   "id": "7484fee955f549be",
   "outputs": [
    {
     "data": {
      "application/vnd.plotly.v1+json": {
       "data": [
        {
         "customdata": [
          [
           "dcPAMP"
          ],
          [
           "dcpa"
          ],
          [
           "diprpa"
          ]
         ],
         "hovertemplate": "Ligand Category=Other Ligands<br>Component 1=%{x}<br>Component 2=%{y}<br>ligand=%{customdata[0]}<extra></extra>",
         "legendgroup": "Other Ligands",
         "marker": {
          "color": "purple",
          "symbol": "circle"
         },
         "mode": "markers",
         "name": "Other Ligands",
         "orientation": "v",
         "showlegend": true,
         "x": [
          5.931822255089498,
          2.924543023907077,
          1.6431963287924423
         ],
         "xaxis": "x",
         "y": [
          0.45767410651582374,
          -1.7618365688208746,
          -4.137959235999334
         ],
         "yaxis": "y",
         "type": "scatter"
        },
        {
         "customdata": [
          [
           "DS-10"
          ],
          [
           "DS-11"
          ],
          [
           "DS-12"
          ],
          [
           "DS-13"
          ],
          [
           "DS-14"
          ],
          [
           "DS-15"
          ],
          [
           "DS-16"
          ],
          [
           "DS-17"
          ],
          [
           "DS-18"
          ],
          [
           "DS-19"
          ],
          [
           "DS-1"
          ],
          [
           "DS-20"
          ],
          [
           "DS-21"
          ],
          [
           "DS-22"
          ],
          [
           "DS-23"
          ],
          [
           "DS-24"
          ],
          [
           "DS-25"
          ],
          [
           "DS-26"
          ],
          [
           "DS-27"
          ],
          [
           "DS-28"
          ],
          [
           "DS-29"
          ],
          [
           "DS-2"
          ],
          [
           "DS-30"
          ],
          [
           "DS-31"
          ],
          [
           "DS-32"
          ],
          [
           "DS-33"
          ],
          [
           "DS-34"
          ],
          [
           "DS-35"
          ],
          [
           "DS-36"
          ],
          [
           "DS-37"
          ],
          [
           "DS-38"
          ],
          [
           "DS-39"
          ],
          [
           "DS-3"
          ],
          [
           "DS-40"
          ],
          [
           "DS-41"
          ],
          [
           "DS-42"
          ],
          [
           "DS-43"
          ],
          [
           "DS-44"
          ],
          [
           "DS-45"
          ],
          [
           "DS-46"
          ],
          [
           "DS-48"
          ],
          [
           "DS-49"
          ],
          [
           "DS-4"
          ],
          [
           "DS-50"
          ],
          [
           "DS-52"
          ],
          [
           "DS-53"
          ],
          [
           "DS-54"
          ],
          [
           "DS-55"
          ],
          [
           "DS-56"
          ],
          [
           "DS-57"
          ],
          [
           "DS-58"
          ],
          [
           "DS-59"
          ],
          [
           "DS-5"
          ],
          [
           "DS-60"
          ],
          [
           "DS-61"
          ],
          [
           "DS-63"
          ],
          [
           "DS-64"
          ],
          [
           "DS-6"
          ],
          [
           "DS-7"
          ],
          [
           "DS-8"
          ],
          [
           "DS-9"
          ]
         ],
         "hovertemplate": "Ligand Category=DS Ligands<br>Component 1=%{x}<br>Component 2=%{y}<br>ligand=%{customdata[0]}<extra></extra>",
         "legendgroup": "DS Ligands",
         "marker": {
          "color": "blue",
          "symbol": "circle"
         },
         "mode": "markers",
         "name": "DS Ligands",
         "orientation": "v",
         "showlegend": true,
         "x": [
          2.5662440650771265,
          3.9607653422806743,
          0.9764343911821717,
          -0.9859024968116201,
          3.6501825607653875,
          3.5752208664995195,
          3.1257148953275737,
          4.9779375757623505,
          3.391327541888231,
          -2.5677883917119457,
          -1.073225814639228,
          3.746070300237722,
          3.1919517920155123,
          3.8909172123605,
          5.011680310910131,
          3.6273643409512033,
          5.174084117640862,
          3.466838492703333,
          2.8370740855395233,
          4.282066001620953,
          2.7918033821509076,
          -7.900542765220172,
          5.140963789473831,
          3.86272634115596,
          5.287626134490217,
          2.993097559330063,
          2.070086951459864,
          3.3102443375158366,
          -1.7040578585197679,
          -1.6520497677457278,
          -2.2654385670118824,
          -2.1652691488753057,
          3.894810109932223,
          -1.2572418109944257,
          -1.9695606834241586,
          1.8918877809650692,
          -17.33287731212111,
          -1.9058156299980284,
          -16.8246860046206,
          -16.632796627564936,
          -0.7733602308880412,
          -17.470764803897303,
          3.2915374717136627,
          -17.12217738669297,
          -7.616479854222193,
          -2.034623775802864,
          -15.899449936695081,
          -14.825429404359191,
          -15.213358605406727,
          2.2293770241159314,
          -0.9853744408540197,
          2.8321538814068954,
          3.2201562115284763,
          -0.15227646608928222,
          -0.8513710492405195,
          -1.1336026068099936,
          -2.5330960014455464,
          0.8375511383288164,
          2.232164538917378,
          4.218534656100846,
          3.6932699114526737
         ],
         "xaxis": "x",
         "y": [
          2.0440611791007393,
          1.3512825422124173,
          -0.6981244686280981,
          5.091412096494157,
          1.7123635307566423,
          1.717052798337387,
          4.711236625217412,
          0.076824321857743,
          4.555312764741301,
          13.58743427957792,
          -7.50971916113791,
          2.0319051221528874,
          1.3529010743626342,
          2.6102189679443053,
          2.7040802611899064,
          1.9275759882001489,
          2.959728618305481,
          4.132348826609764,
          5.72177890711973,
          7.965837036361854,
          0.816331374624657,
          -14.702377571568025,
          3.3878175114927154,
          3.0861351201932985,
          3.5897684651993433,
          3.194341086696967,
          1.8801689407262718,
          4.682003180044392,
          0.5248215243094825,
          0.6235202913922532,
          -2.4622417491464357,
          2.852310294649481,
          -0.3661327117919595,
          2.240390284012717,
          -1.3000062388342732,
          6.589875784102835,
          9.597137944062192,
          3.501812943207064,
          10.591901675418669,
          10.503676238766916,
          9.077007346081773,
          10.748929486835243,
          -0.10930162696587446,
          11.58992894018722,
          4.200523969145937,
          -0.5193890564209074,
          11.253487922958943,
          11.28168016091254,
          11.291573639995507,
          6.895502848391661,
          4.27309307780147,
          6.476390384625935,
          1.1024429420230677,
          7.70954731415031,
          6.873651561086243,
          7.868011093198203,
          9.47500469689219,
          4.503719835226968,
          1.8428294187228105,
          2.347368607478559,
          0.5845723736369455
         ],
         "yaxis": "y",
         "type": "scatter"
        },
        {
         "customdata": [
          [
           "MB-100"
          ],
          [
           "MB-101"
          ],
          [
           "MB-102"
          ],
          [
           "MB-103"
          ],
          [
           "MB-104"
          ],
          [
           "MB-105"
          ],
          [
           "MB-106"
          ],
          [
           "MB-107"
          ],
          [
           "MB-108"
          ],
          [
           "MB-109"
          ],
          [
           "MB-10"
          ],
          [
           "MB-110"
          ],
          [
           "MB-111"
          ],
          [
           "MB-112"
          ],
          [
           "MB-113"
          ],
          [
           "MB-114"
          ],
          [
           "MB-115"
          ],
          [
           "MB-116"
          ],
          [
           "MB-117"
          ],
          [
           "MB-118"
          ],
          [
           "MB-119"
          ],
          [
           "MB-11"
          ],
          [
           "MB-120"
          ],
          [
           "MB-121"
          ],
          [
           "MB-122"
          ],
          [
           "MB-123"
          ],
          [
           "MB-124"
          ],
          [
           "MB-125"
          ],
          [
           "MB-126"
          ],
          [
           "MB-127"
          ],
          [
           "MB-128"
          ],
          [
           "MB-129"
          ],
          [
           "MB-12"
          ],
          [
           "MB-130"
          ],
          [
           "MB-131"
          ],
          [
           "MB-132"
          ],
          [
           "MB-133"
          ],
          [
           "MB-134"
          ],
          [
           "MB-135"
          ],
          [
           "MB-136"
          ],
          [
           "MB-137"
          ],
          [
           "MB-139"
          ],
          [
           "MB-13"
          ],
          [
           "MB-140"
          ],
          [
           "MB-143"
          ],
          [
           "MB-14"
          ],
          [
           "MB-15"
          ],
          [
           "MB-16"
          ],
          [
           "MB-18"
          ],
          [
           "MB-19"
          ],
          [
           "MB-1"
          ],
          [
           "MB-20"
          ],
          [
           "MB-21"
          ],
          [
           "MB-22"
          ],
          [
           "MB-23"
          ],
          [
           "MB-24"
          ],
          [
           "MB-25"
          ],
          [
           "MB-26"
          ],
          [
           "MB-27"
          ],
          [
           "MB-28"
          ],
          [
           "MB-29"
          ],
          [
           "MB-2"
          ],
          [
           "MB-30"
          ],
          [
           "MB-31"
          ],
          [
           "MB-32"
          ],
          [
           "MB-33"
          ],
          [
           "MB-34"
          ],
          [
           "MB-35"
          ],
          [
           "MB-37"
          ],
          [
           "MB-38"
          ],
          [
           "MB-39"
          ],
          [
           "MB-3"
          ],
          [
           "MB-40"
          ],
          [
           "MB-41"
          ],
          [
           "MB-42"
          ],
          [
           "MB-43"
          ],
          [
           "MB-44"
          ],
          [
           "MB-45"
          ],
          [
           "MB-46"
          ],
          [
           "MB-47"
          ],
          [
           "MB-48"
          ],
          [
           "MB-49"
          ],
          [
           "MB-4"
          ],
          [
           "MB-50"
          ],
          [
           "MB-51"
          ],
          [
           "MB-52"
          ],
          [
           "MB-53"
          ],
          [
           "MB-54"
          ],
          [
           "MB-55"
          ],
          [
           "MB-56"
          ],
          [
           "MB-57"
          ],
          [
           "MB-58"
          ],
          [
           "MB-59"
          ],
          [
           "MB-5"
          ],
          [
           "MB-60"
          ],
          [
           "MB-61"
          ],
          [
           "MB-62"
          ],
          [
           "MB-63"
          ],
          [
           "MB-64"
          ],
          [
           "MB-65"
          ],
          [
           "MB-66"
          ],
          [
           "MB-67"
          ],
          [
           "MB-68"
          ],
          [
           "MB-69"
          ],
          [
           "MB-6"
          ],
          [
           "MB-70"
          ],
          [
           "MB-71"
          ],
          [
           "MB-72"
          ],
          [
           "MB-73"
          ],
          [
           "MB-74"
          ],
          [
           "MB-75"
          ],
          [
           "MB-76"
          ],
          [
           "MB-77"
          ],
          [
           "MB-78"
          ],
          [
           "MB-79"
          ],
          [
           "MB-7"
          ],
          [
           "MB-80"
          ],
          [
           "MB-81"
          ],
          [
           "MB-82"
          ],
          [
           "MB-83"
          ],
          [
           "MB-84"
          ],
          [
           "MB-85"
          ],
          [
           "MB-86"
          ],
          [
           "MB-87"
          ],
          [
           "MB-88"
          ],
          [
           "MB-89"
          ],
          [
           "MB-8"
          ],
          [
           "MB-90"
          ],
          [
           "MB-91"
          ],
          [
           "MB-92"
          ],
          [
           "MB-93"
          ],
          [
           "MB-94"
          ],
          [
           "MB-95"
          ],
          [
           "MB-96"
          ],
          [
           "MB-97"
          ],
          [
           "MB-98"
          ],
          [
           "MB-9"
          ]
         ],
         "hovertemplate": "Ligand Category=MB Ligands<br>Component 1=%{x}<br>Component 2=%{y}<br>ligand=%{customdata[0]}<extra></extra>",
         "legendgroup": "MB Ligands",
         "marker": {
          "color": "green",
          "symbol": "circle"
         },
         "mode": "markers",
         "name": "MB Ligands",
         "orientation": "v",
         "showlegend": true,
         "x": [
          0.7442535699570614,
          3.5665719459975627,
          4.940878306390317,
          -1.818650935831151,
          4.769421061938625,
          -4.8587357160808144,
          3.139335073970123,
          4.284851173834077,
          4.338265811398343,
          3.1705706631210573,
          0.8185825079269692,
          6.818020517170911,
          5.317084795738986,
          2.285748881154595,
          4.7319101998280715,
          6.786236483643307,
          1.8128501543512539,
          0.3820795243604868,
          -0.21210220047953293,
          4.661580309035169,
          -14.750930011106187,
          -1.3450425254837743,
          5.566688621652003,
          2.9504941181779754,
          -7.604473522815452,
          -6.652357128920688,
          4.837503380849491,
          7.406700199085705,
          7.555822548057821,
          -0.6875379574441052,
          9.023643833203352,
          3.770657097561149,
          2.885653768278363,
          -3.2243757888544855,
          -16.202644652803315,
          7.041907084505324,
          0.10127911225005506,
          3.9344630877857627,
          2.2422267744466966,
          -2.158567585274371,
          4.337925384077481,
          -0.721463758901361,
          -0.8884606781215396,
          5.92716777728756,
          6.441971968368926,
          -16.87707259595498,
          -1.234590728655462,
          4.465668729168624,
          5.652408148660649,
          -1.0262367204832072,
          -4.506967920206129,
          -0.8158215083169758,
          -0.564365430123389,
          0.4090961587013579,
          3.6486945583883497,
          -0.668656160906521,
          1.1331813452648591,
          8.413127588113605,
          -6.736647577858847,
          -1.4980910094643007,
          -15.51471389811962,
          -4.5385940261896485,
          -20.821726995583745,
          1.1728006038247996,
          0.3535768622175498,
          2.1302622916518,
          2.789688789923149,
          3.605523255521369,
          1.106015849176983,
          1.3202443065733853,
          0.43666452108203274,
          -19.984322032059,
          4.857036012446873,
          1.1955538307065696,
          5.4248839734690835,
          -7.338377752960131,
          1.6090375219483077,
          0.1787895114216635,
          -16.080350714438545,
          -4.566541996498387,
          1.3624942839318719,
          1.9416435680034625,
          -1.039005030951821,
          0.9484848302164208,
          2.3953033515661364,
          -4.253456436105579,
          0.8894964255573325,
          4.167606238506386,
          -2.0727577579737684,
          1.6184541050926506,
          3.396115084172237,
          3.7003118499761523,
          3.3800656240544678,
          -1.5158508867108957,
          6.724970719222438,
          4.089206307595183,
          6.729196853209075,
          5.379755652200999,
          2.665396141953801,
          -17.87113342130763,
          1.5575102845034476,
          1.9596197147850105,
          2.6829836172816353,
          2.8460898707476447,
          -1.098400663319791,
          3.502133286826686,
          3.6401310344739803,
          4.119714263026114,
          1.9865570611658478,
          4.017029975739657,
          5.373647903049336,
          6.3139113422698125,
          1.3650378190297783,
          2.572792213609877,
          0.8226875247669811,
          -3.6667425894343157,
          5.378199517983403,
          2.0506682195659387,
          2.396329665044245,
          2.170517973808008,
          3.5676618869437653,
          6.254043971547346,
          5.77753172326395,
          -0.5433778479591156,
          2.6035345585773,
          2.539603559495696,
          -17.45223190949949,
          4.025100484710413,
          1.6762790039915307,
          6.958816304032918,
          -16.00564509759334,
          1.0293581305567137,
          2.349456846364382,
          3.0265756447127345,
          4.106624009341041,
          -7.082942211603001,
          1.385446677848951
         ],
         "xaxis": "x",
         "y": [
          10.08704135167424,
          -1.7808714983275271,
          3.8291660615940173,
          -0.44955020082899505,
          -1.061858334922549,
          -2.3625014083330633,
          -0.8465048406072085,
          -2.9264768276949575,
          0.8582181687746897,
          0.6259200678991236,
          -5.024939836314368,
          1.907278590429361,
          3.244980981888434,
          -1.367101759971555,
          1.366832247253986,
          4.210065524308132,
          -3.34939311955755,
          -5.651189712221407,
          -6.647413415351095,
          2.2694483669283336,
          -4.411727682118164,
          -3.5147770637404037,
          1.8015092269379447,
          4.230090147378275,
          -3.7288893125929135,
          -3.6928198229249696,
          2.589873150460893,
          4.475274068003479,
          3.1338193653728417,
          -7.9035692667359,
          3.6756705431222922,
          -2.2242825706272753,
          -3.4458011633425603,
          0.4040475642389086,
          -5.208752862478987,
          2.2718108371638954,
          -9.286093245163372,
          -4.718590969437979,
          -1.6102434006429873,
          0.8786138269845755,
          -4.14171745723142,
          -11.317134561083028,
          -6.229194760004262,
          1.4406461697258408,
          -0.29721698203422886,
          -4.495372656119755,
          -6.7147811785505445,
          -2.701511925728354,
          -2.0386888604555122,
          -5.633466466613283,
          -9.459806781812427,
          -6.620035566951776,
          -6.212455015653195,
          -3.7845881942313064,
          -2.3541825200188606,
          -5.839906564962513,
          -4.356696136194881,
          -1.5372767550927733,
          -20.768747599324694,
          -2.4213745036990755,
          -1.134210117054007,
          -7.242234871303837,
          -12.588157330560952,
          -4.090943156460209,
          -3.001154249105066,
          -3.343445462016603,
          -2.218697250462664,
          -1.6835701182877603,
          -3.4446258407959087,
          -5.778374403906536,
          -3.7168518051363306,
          -9.705116147095676,
          -0.9358605138672899,
          -3.208759082818756,
          -0.45841078811636593,
          -1.6562621191753986,
          -4.807711136719879,
          1.6683090748302543,
          4.03857990444302,
          7.184678486833662,
          -3.912909874756167,
          -2.466456149864744,
          -6.009835335461117,
          -3.8152366351843097,
          -3.3537746355548927,
          -4.756194024403953,
          -2.857703892582985,
          -0.0806734521760571,
          2.4806053944247024,
          -3.0856487339315226,
          -1.5593144425848804,
          -3.3637831972949406,
          -1.6694517132891613,
          -7.245150769817987,
          0.4221079812807216,
          -3.80916600544579,
          1.2745779708854357,
          0.5007936823454333,
          -1.3219353826373068,
          -8.781444651925518,
          -2.3588662712257875,
          -1.57053806474383,
          -2.5093418770607396,
          -1.9532876980270224,
          -6.343161609785546,
          -3.3276765597392632,
          -2.7807190605688517,
          -0.8373837887352988,
          -2.411010736353665,
          -0.7977771673368605,
          -0.42874223227264774,
          -1.430353173877145,
          -2.321748133443178,
          -1.7705289927780958,
          -3.5997924165203945,
          -7.568008661896073,
          -0.7110457266400297,
          -1.7607073266515108,
          -1.345409624796186,
          -1.4347704575049967,
          -1.3930882965941085,
          0.8648255743544192,
          -0.013084543559641598,
          -4.465715451739088,
          -0.3991020791959865,
          -0.17491058347858193,
          -6.241104943299619,
          0.42209436105763415,
          -3.622060086054275,
          -1.42393624072745,
          -4.936325399196856,
          -3.2736589846035553,
          -1.2704354322511076,
          -2.27182834976508,
          -2.117840737719705,
          -4.9437578842148815,
          -4.317833056225235
         ],
         "yaxis": "y",
         "type": "scatter"
        },
        {
         "customdata": [
          [
           "MS-10"
          ],
          [
           "MS-11"
          ],
          [
           "MS-12"
          ],
          [
           "MS-13"
          ],
          [
           "MS-14"
          ],
          [
           "MS-15"
          ],
          [
           "MS-16"
          ],
          [
           "MS-17"
          ],
          [
           "MS-19"
          ],
          [
           "MS-1"
          ],
          [
           "MS-20"
          ],
          [
           "MS-21"
          ],
          [
           "MS-22"
          ],
          [
           "MS-23"
          ],
          [
           "MS-24"
          ],
          [
           "MS-25"
          ],
          [
           "MS-26"
          ],
          [
           "MS-27"
          ],
          [
           "MS-28"
          ],
          [
           "MS-29"
          ],
          [
           "MS-2"
          ],
          [
           "MS-30"
          ],
          [
           "MS-31"
          ],
          [
           "MS-32"
          ],
          [
           "MS-33"
          ],
          [
           "MS-34"
          ],
          [
           "MS-35"
          ],
          [
           "MS-36"
          ],
          [
           "MS-37"
          ],
          [
           "MS-38"
          ],
          [
           "MS-39"
          ],
          [
           "MS-3"
          ],
          [
           "MS-40"
          ],
          [
           "MS-41"
          ],
          [
           "MS-42"
          ],
          [
           "MS-44"
          ],
          [
           "MS-45"
          ],
          [
           "MS-46"
          ],
          [
           "MS-47"
          ],
          [
           "MS-48"
          ],
          [
           "MS-49"
          ],
          [
           "MS-4"
          ],
          [
           "MS-50"
          ],
          [
           "MS-51"
          ],
          [
           "MS-52"
          ],
          [
           "MS-53"
          ],
          [
           "MS-54"
          ],
          [
           "MS-55"
          ],
          [
           "MS-56"
          ],
          [
           "MS-57"
          ],
          [
           "MS-58"
          ],
          [
           "MS-59"
          ],
          [
           "MS-5"
          ],
          [
           "MS-60"
          ],
          [
           "MS-61"
          ],
          [
           "MS-62"
          ],
          [
           "MS-64"
          ],
          [
           "MS-65"
          ],
          [
           "MS-66"
          ],
          [
           "MS-68"
          ],
          [
           "MS-6"
          ],
          [
           "MS-70"
          ],
          [
           "MS-71"
          ],
          [
           "MS-72"
          ],
          [
           "MS-73"
          ],
          [
           "MS-74"
          ],
          [
           "MS-75"
          ],
          [
           "MS-76"
          ],
          [
           "MS-77"
          ],
          [
           "MS-78"
          ],
          [
           "MS-79"
          ],
          [
           "MS-80"
          ],
          [
           "MS-81"
          ],
          [
           "MS-82"
          ],
          [
           "MS-83"
          ],
          [
           "MS-84"
          ],
          [
           "MS-85"
          ],
          [
           "MS-86"
          ],
          [
           "MS-87"
          ],
          [
           "MS-88"
          ],
          [
           "MS-89"
          ],
          [
           "MS-90"
          ],
          [
           "MS-91"
          ],
          [
           "MS-92"
          ],
          [
           "MS-93"
          ],
          [
           "MS-9"
          ]
         ],
         "hovertemplate": "Ligand Category=MS Ligands<br>Component 1=%{x}<br>Component 2=%{y}<br>ligand=%{customdata[0]}<extra></extra>",
         "legendgroup": "MS Ligands",
         "marker": {
          "color": "red",
          "symbol": "circle"
         },
         "mode": "markers",
         "name": "MS Ligands",
         "orientation": "v",
         "showlegend": true,
         "x": [
          7.761190720890006,
          -0.16529163559249632,
          1.8008561281362419,
          3.1767108171102536,
          -0.21379577192918797,
          0.9055636588735748,
          1.952421391110335,
          2.1182233457861264,
          1.781286642935434,
          -3.0504552261129776,
          1.8849489981939573,
          1.964757849184264,
          2.444373912791969,
          2.020132434464909,
          2.2572533505454504,
          1.6985939858594443,
          4.106022459121999,
          2.194428320704253,
          1.1764264554698176,
          2.289797230229715,
          -5.994086297112094,
          2.383261414503462,
          1.3050145505261452,
          1.3755827486277132,
          2.406044098341695,
          2.31559389148746,
          2.3946472647465975,
          2.4244279991453523,
          1.8781915405197434,
          2.046202406250604,
          2.53611463737966,
          -7.101735671396387,
          2.5668262226141807,
          1.7609470096724282,
          5.399211999565862,
          1.944917785385295,
          1.7953269969619272,
          2.279417790625791,
          1.7447740714657234,
          2.5528692996650206,
          2.2070544123674742,
          2.5620682433774644,
          3.2634280976177976,
          1.789343229050877,
          0.07144930706668831,
          1.5925897071571793,
          3.0838403328658615,
          1.7286300782084976,
          2.066918705413642,
          2.105766676911838,
          1.0757956518890068,
          2.3823128462030305,
          3.0587114302575418,
          1.7715431318358954,
          3.415412276176119,
          4.533138849501915,
          4.8209867407955205,
          1.3941920467936246,
          1.7315785533626933,
          2.0615226047771893,
          2.5059890387674972,
          -4.836884115067574,
          -1.0451570753803892,
          1.053370749855778,
          -18.005768424268034,
          -1.8972265880659545,
          -17.872686326909243,
          -18.271760734865556,
          -1.124856679480475,
          -17.772195115833735,
          4.339795492605638,
          1.3318614465167686,
          4.958774860439027,
          -17.15306863705377,
          -17.62140673031906,
          -16.0258799475686,
          2.3097040412028003,
          3.387411152225804,
          -16.715602290330246,
          2.5772230166472836,
          -16.159370997500222,
          2.3840243457003782,
          -17.285433875162525,
          3.8014573496613933,
          7.5233745092430855,
          0.44149317203898847
         ],
         "xaxis": "x",
         "y": [
          4.0304415829573115,
          3.257603830843246,
          0.549404607841672,
          1.1741671054894947,
          -1.137295253040434,
          -0.8828621739875125,
          0.6279612201396556,
          0.8228449044313415,
          2.0650712497245007,
          -5.2975076426115075,
          1.5298199306106777,
          0.9806402232831917,
          2.1530720864267776,
          1.139188644593218,
          1.9297736417698057,
          2.4185884309829775,
          3.3327007078327044,
          1.3961953503073739,
          0.8243483321955024,
          1.552747304822112,
          -0.9172764989145237,
          2.2708375331742165,
          0.668453824333374,
          0.9511029337909267,
          2.2137627247945546,
          1.4343230835568201,
          2.038260678120762,
          1.954179723734326,
          1.5508090328289317,
          1.1991659745299097,
          1.3702771667304587,
          -18.240065583099895,
          2.2484012181796116,
          1.6485622109270495,
          1.5258124528880932,
          1.9284218871752743,
          1.1413174449492665,
          4.052340021457491,
          2.099100207592274,
          1.3651286065803185,
          1.6905195170249294,
          1.498451046119364,
          4.060492433089203,
          1.1348658068505315,
          -0.62366765093278,
          1.2186686249019592,
          1.5462449066538433,
          4.235436180021501,
          1.7761040138179642,
          2.572187276416359,
          4.39736805678806,
          2.736275604521187,
          1.2725641201526514,
          1.5389548685330756,
          2.1480552686017633,
          2.780616003118446,
          3.4362401525683004,
          3.866306569864182,
          2.75828571134124,
          2.261012830797809,
          3.7485128118236886,
          -5.415928781511855,
          -1.9720650281432344,
          -7.634999315986222,
          -0.22010440233195833,
          -2.453328712960326,
          0.16884497547823873,
          -0.6983069727041569,
          -0.3914159106413683,
          0.8445912609000564,
          -1.28269845104316,
          -6.682605441900045,
          -0.08538833118474555,
          6.826287919523914,
          0.46177031257308326,
          7.214182484146752,
          -2.6344492018951873,
          2.705681012062226,
          7.907711898462435,
          -1.2246103831896655,
          6.903581848954785,
          2.624355872382937,
          7.160849021355165,
          3.6335722896189435,
          1.4792964530219128,
          -1.2501171835185323
         ],
         "yaxis": "y",
         "type": "scatter"
        }
       ],
       "layout": {
        "template": {
         "data": {
          "histogram2dcontour": [
           {
            "type": "histogram2dcontour",
            "colorbar": {
             "outlinewidth": 0,
             "ticks": ""
            },
            "colorscale": [
             [
              0.0,
              "#0d0887"
             ],
             [
              0.1111111111111111,
              "#46039f"
             ],
             [
              0.2222222222222222,
              "#7201a8"
             ],
             [
              0.3333333333333333,
              "#9c179e"
             ],
             [
              0.4444444444444444,
              "#bd3786"
             ],
             [
              0.5555555555555556,
              "#d8576b"
             ],
             [
              0.6666666666666666,
              "#ed7953"
             ],
             [
              0.7777777777777778,
              "#fb9f3a"
             ],
             [
              0.8888888888888888,
              "#fdca26"
             ],
             [
              1.0,
              "#f0f921"
             ]
            ]
           }
          ],
          "choropleth": [
           {
            "type": "choropleth",
            "colorbar": {
             "outlinewidth": 0,
             "ticks": ""
            }
           }
          ],
          "histogram2d": [
           {
            "type": "histogram2d",
            "colorbar": {
             "outlinewidth": 0,
             "ticks": ""
            },
            "colorscale": [
             [
              0.0,
              "#0d0887"
             ],
             [
              0.1111111111111111,
              "#46039f"
             ],
             [
              0.2222222222222222,
              "#7201a8"
             ],
             [
              0.3333333333333333,
              "#9c179e"
             ],
             [
              0.4444444444444444,
              "#bd3786"
             ],
             [
              0.5555555555555556,
              "#d8576b"
             ],
             [
              0.6666666666666666,
              "#ed7953"
             ],
             [
              0.7777777777777778,
              "#fb9f3a"
             ],
             [
              0.8888888888888888,
              "#fdca26"
             ],
             [
              1.0,
              "#f0f921"
             ]
            ]
           }
          ],
          "heatmap": [
           {
            "type": "heatmap",
            "colorbar": {
             "outlinewidth": 0,
             "ticks": ""
            },
            "colorscale": [
             [
              0.0,
              "#0d0887"
             ],
             [
              0.1111111111111111,
              "#46039f"
             ],
             [
              0.2222222222222222,
              "#7201a8"
             ],
             [
              0.3333333333333333,
              "#9c179e"
             ],
             [
              0.4444444444444444,
              "#bd3786"
             ],
             [
              0.5555555555555556,
              "#d8576b"
             ],
             [
              0.6666666666666666,
              "#ed7953"
             ],
             [
              0.7777777777777778,
              "#fb9f3a"
             ],
             [
              0.8888888888888888,
              "#fdca26"
             ],
             [
              1.0,
              "#f0f921"
             ]
            ]
           }
          ],
          "heatmapgl": [
           {
            "type": "heatmapgl",
            "colorbar": {
             "outlinewidth": 0,
             "ticks": ""
            },
            "colorscale": [
             [
              0.0,
              "#0d0887"
             ],
             [
              0.1111111111111111,
              "#46039f"
             ],
             [
              0.2222222222222222,
              "#7201a8"
             ],
             [
              0.3333333333333333,
              "#9c179e"
             ],
             [
              0.4444444444444444,
              "#bd3786"
             ],
             [
              0.5555555555555556,
              "#d8576b"
             ],
             [
              0.6666666666666666,
              "#ed7953"
             ],
             [
              0.7777777777777778,
              "#fb9f3a"
             ],
             [
              0.8888888888888888,
              "#fdca26"
             ],
             [
              1.0,
              "#f0f921"
             ]
            ]
           }
          ],
          "contourcarpet": [
           {
            "type": "contourcarpet",
            "colorbar": {
             "outlinewidth": 0,
             "ticks": ""
            }
           }
          ],
          "contour": [
           {
            "type": "contour",
            "colorbar": {
             "outlinewidth": 0,
             "ticks": ""
            },
            "colorscale": [
             [
              0.0,
              "#0d0887"
             ],
             [
              0.1111111111111111,
              "#46039f"
             ],
             [
              0.2222222222222222,
              "#7201a8"
             ],
             [
              0.3333333333333333,
              "#9c179e"
             ],
             [
              0.4444444444444444,
              "#bd3786"
             ],
             [
              0.5555555555555556,
              "#d8576b"
             ],
             [
              0.6666666666666666,
              "#ed7953"
             ],
             [
              0.7777777777777778,
              "#fb9f3a"
             ],
             [
              0.8888888888888888,
              "#fdca26"
             ],
             [
              1.0,
              "#f0f921"
             ]
            ]
           }
          ],
          "surface": [
           {
            "type": "surface",
            "colorbar": {
             "outlinewidth": 0,
             "ticks": ""
            },
            "colorscale": [
             [
              0.0,
              "#0d0887"
             ],
             [
              0.1111111111111111,
              "#46039f"
             ],
             [
              0.2222222222222222,
              "#7201a8"
             ],
             [
              0.3333333333333333,
              "#9c179e"
             ],
             [
              0.4444444444444444,
              "#bd3786"
             ],
             [
              0.5555555555555556,
              "#d8576b"
             ],
             [
              0.6666666666666666,
              "#ed7953"
             ],
             [
              0.7777777777777778,
              "#fb9f3a"
             ],
             [
              0.8888888888888888,
              "#fdca26"
             ],
             [
              1.0,
              "#f0f921"
             ]
            ]
           }
          ],
          "mesh3d": [
           {
            "type": "mesh3d",
            "colorbar": {
             "outlinewidth": 0,
             "ticks": ""
            }
           }
          ],
          "scatter": [
           {
            "fillpattern": {
             "fillmode": "overlay",
             "size": 10,
             "solidity": 0.2
            },
            "type": "scatter"
           }
          ],
          "parcoords": [
           {
            "type": "parcoords",
            "line": {
             "colorbar": {
              "outlinewidth": 0,
              "ticks": ""
             }
            }
           }
          ],
          "scatterpolargl": [
           {
            "type": "scatterpolargl",
            "marker": {
             "colorbar": {
              "outlinewidth": 0,
              "ticks": ""
             }
            }
           }
          ],
          "bar": [
           {
            "error_x": {
             "color": "#2a3f5f"
            },
            "error_y": {
             "color": "#2a3f5f"
            },
            "marker": {
             "line": {
              "color": "#E5ECF6",
              "width": 0.5
             },
             "pattern": {
              "fillmode": "overlay",
              "size": 10,
              "solidity": 0.2
             }
            },
            "type": "bar"
           }
          ],
          "scattergeo": [
           {
            "type": "scattergeo",
            "marker": {
             "colorbar": {
              "outlinewidth": 0,
              "ticks": ""
             }
            }
           }
          ],
          "scatterpolar": [
           {
            "type": "scatterpolar",
            "marker": {
             "colorbar": {
              "outlinewidth": 0,
              "ticks": ""
             }
            }
           }
          ],
          "histogram": [
           {
            "marker": {
             "pattern": {
              "fillmode": "overlay",
              "size": 10,
              "solidity": 0.2
             }
            },
            "type": "histogram"
           }
          ],
          "scattergl": [
           {
            "type": "scattergl",
            "marker": {
             "colorbar": {
              "outlinewidth": 0,
              "ticks": ""
             }
            }
           }
          ],
          "scatter3d": [
           {
            "type": "scatter3d",
            "line": {
             "colorbar": {
              "outlinewidth": 0,
              "ticks": ""
             }
            },
            "marker": {
             "colorbar": {
              "outlinewidth": 0,
              "ticks": ""
             }
            }
           }
          ],
          "scattermapbox": [
           {
            "type": "scattermapbox",
            "marker": {
             "colorbar": {
              "outlinewidth": 0,
              "ticks": ""
             }
            }
           }
          ],
          "scatterternary": [
           {
            "type": "scatterternary",
            "marker": {
             "colorbar": {
              "outlinewidth": 0,
              "ticks": ""
             }
            }
           }
          ],
          "scattercarpet": [
           {
            "type": "scattercarpet",
            "marker": {
             "colorbar": {
              "outlinewidth": 0,
              "ticks": ""
             }
            }
           }
          ],
          "carpet": [
           {
            "aaxis": {
             "endlinecolor": "#2a3f5f",
             "gridcolor": "white",
             "linecolor": "white",
             "minorgridcolor": "white",
             "startlinecolor": "#2a3f5f"
            },
            "baxis": {
             "endlinecolor": "#2a3f5f",
             "gridcolor": "white",
             "linecolor": "white",
             "minorgridcolor": "white",
             "startlinecolor": "#2a3f5f"
            },
            "type": "carpet"
           }
          ],
          "table": [
           {
            "cells": {
             "fill": {
              "color": "#EBF0F8"
             },
             "line": {
              "color": "white"
             }
            },
            "header": {
             "fill": {
              "color": "#C8D4E3"
             },
             "line": {
              "color": "white"
             }
            },
            "type": "table"
           }
          ],
          "barpolar": [
           {
            "marker": {
             "line": {
              "color": "#E5ECF6",
              "width": 0.5
             },
             "pattern": {
              "fillmode": "overlay",
              "size": 10,
              "solidity": 0.2
             }
            },
            "type": "barpolar"
           }
          ],
          "pie": [
           {
            "automargin": true,
            "type": "pie"
           }
          ]
         },
         "layout": {
          "autotypenumbers": "strict",
          "colorway": [
           "#636efa",
           "#EF553B",
           "#00cc96",
           "#ab63fa",
           "#FFA15A",
           "#19d3f3",
           "#FF6692",
           "#B6E880",
           "#FF97FF",
           "#FECB52"
          ],
          "font": {
           "color": "#2a3f5f"
          },
          "hovermode": "closest",
          "hoverlabel": {
           "align": "left"
          },
          "paper_bgcolor": "white",
          "plot_bgcolor": "#E5ECF6",
          "polar": {
           "bgcolor": "#E5ECF6",
           "angularaxis": {
            "gridcolor": "white",
            "linecolor": "white",
            "ticks": ""
           },
           "radialaxis": {
            "gridcolor": "white",
            "linecolor": "white",
            "ticks": ""
           }
          },
          "ternary": {
           "bgcolor": "#E5ECF6",
           "aaxis": {
            "gridcolor": "white",
            "linecolor": "white",
            "ticks": ""
           },
           "baxis": {
            "gridcolor": "white",
            "linecolor": "white",
            "ticks": ""
           },
           "caxis": {
            "gridcolor": "white",
            "linecolor": "white",
            "ticks": ""
           }
          },
          "coloraxis": {
           "colorbar": {
            "outlinewidth": 0,
            "ticks": ""
           }
          },
          "colorscale": {
           "sequential": [
            [
             0.0,
             "#0d0887"
            ],
            [
             0.1111111111111111,
             "#46039f"
            ],
            [
             0.2222222222222222,
             "#7201a8"
            ],
            [
             0.3333333333333333,
             "#9c179e"
            ],
            [
             0.4444444444444444,
             "#bd3786"
            ],
            [
             0.5555555555555556,
             "#d8576b"
            ],
            [
             0.6666666666666666,
             "#ed7953"
            ],
            [
             0.7777777777777778,
             "#fb9f3a"
            ],
            [
             0.8888888888888888,
             "#fdca26"
            ],
            [
             1.0,
             "#f0f921"
            ]
           ],
           "sequentialminus": [
            [
             0.0,
             "#0d0887"
            ],
            [
             0.1111111111111111,
             "#46039f"
            ],
            [
             0.2222222222222222,
             "#7201a8"
            ],
            [
             0.3333333333333333,
             "#9c179e"
            ],
            [
             0.4444444444444444,
             "#bd3786"
            ],
            [
             0.5555555555555556,
             "#d8576b"
            ],
            [
             0.6666666666666666,
             "#ed7953"
            ],
            [
             0.7777777777777778,
             "#fb9f3a"
            ],
            [
             0.8888888888888888,
             "#fdca26"
            ],
            [
             1.0,
             "#f0f921"
            ]
           ],
           "diverging": [
            [
             0,
             "#8e0152"
            ],
            [
             0.1,
             "#c51b7d"
            ],
            [
             0.2,
             "#de77ae"
            ],
            [
             0.3,
             "#f1b6da"
            ],
            [
             0.4,
             "#fde0ef"
            ],
            [
             0.5,
             "#f7f7f7"
            ],
            [
             0.6,
             "#e6f5d0"
            ],
            [
             0.7,
             "#b8e186"
            ],
            [
             0.8,
             "#7fbc41"
            ],
            [
             0.9,
             "#4d9221"
            ],
            [
             1,
             "#276419"
            ]
           ]
          },
          "xaxis": {
           "gridcolor": "white",
           "linecolor": "white",
           "ticks": "",
           "title": {
            "standoff": 15
           },
           "zerolinecolor": "white",
           "automargin": true,
           "zerolinewidth": 2
          },
          "yaxis": {
           "gridcolor": "white",
           "linecolor": "white",
           "ticks": "",
           "title": {
            "standoff": 15
           },
           "zerolinecolor": "white",
           "automargin": true,
           "zerolinewidth": 2
          },
          "scene": {
           "xaxis": {
            "backgroundcolor": "#E5ECF6",
            "gridcolor": "white",
            "linecolor": "white",
            "showbackground": true,
            "ticks": "",
            "zerolinecolor": "white",
            "gridwidth": 2
           },
           "yaxis": {
            "backgroundcolor": "#E5ECF6",
            "gridcolor": "white",
            "linecolor": "white",
            "showbackground": true,
            "ticks": "",
            "zerolinecolor": "white",
            "gridwidth": 2
           },
           "zaxis": {
            "backgroundcolor": "#E5ECF6",
            "gridcolor": "white",
            "linecolor": "white",
            "showbackground": true,
            "ticks": "",
            "zerolinecolor": "white",
            "gridwidth": 2
           }
          },
          "shapedefaults": {
           "line": {
            "color": "#2a3f5f"
           }
          },
          "annotationdefaults": {
           "arrowcolor": "#2a3f5f",
           "arrowhead": 0,
           "arrowwidth": 1
          },
          "geo": {
           "bgcolor": "white",
           "landcolor": "#E5ECF6",
           "subunitcolor": "white",
           "showland": true,
           "showlakes": true,
           "lakecolor": "white"
          },
          "title": {
           "x": 0.05
          },
          "mapbox": {
           "style": "light"
          }
         }
        },
        "xaxis": {
         "anchor": "y",
         "domain": [
          0.0,
          1.0
         ],
         "title": {
          "text": "Component 1"
         }
        },
        "yaxis": {
         "anchor": "x",
         "domain": [
          0.0,
          1.0
         ],
         "title": {
          "text": "Component 2"
         }
        },
        "legend": {
         "title": {
          "text": "Ligand Categories"
         },
         "tracegroupgap": 0
        },
        "title": {
         "text": "2D PCA Slice: Component 1 vs Component 2"
        }
       },
       "config": {
        "plotlyServerURL": "https://plot.ly"
       }
      },
      "text/html": [
       "<div>                            <div id=\"1464dd2a-fcb2-4028-b8e2-e091955dec1c\" class=\"plotly-graph-div\" style=\"height:525px; width:100%;\"></div>            <script type=\"text/javascript\">                require([\"plotly\"], function(Plotly) {                    window.PLOTLYENV=window.PLOTLYENV || {};                                    if (document.getElementById(\"1464dd2a-fcb2-4028-b8e2-e091955dec1c\")) {                    Plotly.newPlot(                        \"1464dd2a-fcb2-4028-b8e2-e091955dec1c\",                        [{\"customdata\":[[\"dcPAMP\"],[\"dcpa\"],[\"diprpa\"]],\"hovertemplate\":\"Ligand Category=Other Ligands\\u003cbr\\u003eComponent 1=%{x}\\u003cbr\\u003eComponent 2=%{y}\\u003cbr\\u003eligand=%{customdata[0]}\\u003cextra\\u003e\\u003c\\u002fextra\\u003e\",\"legendgroup\":\"Other Ligands\",\"marker\":{\"color\":\"purple\",\"symbol\":\"circle\"},\"mode\":\"markers\",\"name\":\"Other Ligands\",\"orientation\":\"v\",\"showlegend\":true,\"x\":[5.931822255089498,2.924543023907077,1.6431963287924423],\"xaxis\":\"x\",\"y\":[0.45767410651582374,-1.7618365688208746,-4.137959235999334],\"yaxis\":\"y\",\"type\":\"scatter\"},{\"customdata\":[[\"DS-10\"],[\"DS-11\"],[\"DS-12\"],[\"DS-13\"],[\"DS-14\"],[\"DS-15\"],[\"DS-16\"],[\"DS-17\"],[\"DS-18\"],[\"DS-19\"],[\"DS-1\"],[\"DS-20\"],[\"DS-21\"],[\"DS-22\"],[\"DS-23\"],[\"DS-24\"],[\"DS-25\"],[\"DS-26\"],[\"DS-27\"],[\"DS-28\"],[\"DS-29\"],[\"DS-2\"],[\"DS-30\"],[\"DS-31\"],[\"DS-32\"],[\"DS-33\"],[\"DS-34\"],[\"DS-35\"],[\"DS-36\"],[\"DS-37\"],[\"DS-38\"],[\"DS-39\"],[\"DS-3\"],[\"DS-40\"],[\"DS-41\"],[\"DS-42\"],[\"DS-43\"],[\"DS-44\"],[\"DS-45\"],[\"DS-46\"],[\"DS-48\"],[\"DS-49\"],[\"DS-4\"],[\"DS-50\"],[\"DS-52\"],[\"DS-53\"],[\"DS-54\"],[\"DS-55\"],[\"DS-56\"],[\"DS-57\"],[\"DS-58\"],[\"DS-59\"],[\"DS-5\"],[\"DS-60\"],[\"DS-61\"],[\"DS-63\"],[\"DS-64\"],[\"DS-6\"],[\"DS-7\"],[\"DS-8\"],[\"DS-9\"]],\"hovertemplate\":\"Ligand Category=DS Ligands\\u003cbr\\u003eComponent 1=%{x}\\u003cbr\\u003eComponent 2=%{y}\\u003cbr\\u003eligand=%{customdata[0]}\\u003cextra\\u003e\\u003c\\u002fextra\\u003e\",\"legendgroup\":\"DS Ligands\",\"marker\":{\"color\":\"blue\",\"symbol\":\"circle\"},\"mode\":\"markers\",\"name\":\"DS Ligands\",\"orientation\":\"v\",\"showlegend\":true,\"x\":[2.5662440650771265,3.9607653422806743,0.9764343911821717,-0.9859024968116201,3.6501825607653875,3.5752208664995195,3.1257148953275737,4.9779375757623505,3.391327541888231,-2.5677883917119457,-1.073225814639228,3.746070300237722,3.1919517920155123,3.8909172123605,5.011680310910131,3.6273643409512033,5.174084117640862,3.466838492703333,2.8370740855395233,4.282066001620953,2.7918033821509076,-7.900542765220172,5.140963789473831,3.86272634115596,5.287626134490217,2.993097559330063,2.070086951459864,3.3102443375158366,-1.7040578585197679,-1.6520497677457278,-2.2654385670118824,-2.1652691488753057,3.894810109932223,-1.2572418109944257,-1.9695606834241586,1.8918877809650692,-17.33287731212111,-1.9058156299980284,-16.8246860046206,-16.632796627564936,-0.7733602308880412,-17.470764803897303,3.2915374717136627,-17.12217738669297,-7.616479854222193,-2.034623775802864,-15.899449936695081,-14.825429404359191,-15.213358605406727,2.2293770241159314,-0.9853744408540197,2.8321538814068954,3.2201562115284763,-0.15227646608928222,-0.8513710492405195,-1.1336026068099936,-2.5330960014455464,0.8375511383288164,2.232164538917378,4.218534656100846,3.6932699114526737],\"xaxis\":\"x\",\"y\":[2.0440611791007393,1.3512825422124173,-0.6981244686280981,5.091412096494157,1.7123635307566423,1.717052798337387,4.711236625217412,0.076824321857743,4.555312764741301,13.58743427957792,-7.50971916113791,2.0319051221528874,1.3529010743626342,2.6102189679443053,2.7040802611899064,1.9275759882001489,2.959728618305481,4.132348826609764,5.72177890711973,7.965837036361854,0.816331374624657,-14.702377571568025,3.3878175114927154,3.0861351201932985,3.5897684651993433,3.194341086696967,1.8801689407262718,4.682003180044392,0.5248215243094825,0.6235202913922532,-2.4622417491464357,2.852310294649481,-0.3661327117919595,2.240390284012717,-1.3000062388342732,6.589875784102835,9.597137944062192,3.501812943207064,10.591901675418669,10.503676238766916,9.077007346081773,10.748929486835243,-0.10930162696587446,11.58992894018722,4.200523969145937,-0.5193890564209074,11.253487922958943,11.28168016091254,11.291573639995507,6.895502848391661,4.27309307780147,6.476390384625935,1.1024429420230677,7.70954731415031,6.873651561086243,7.868011093198203,9.47500469689219,4.503719835226968,1.8428294187228105,2.347368607478559,0.5845723736369455],\"yaxis\":\"y\",\"type\":\"scatter\"},{\"customdata\":[[\"MB-100\"],[\"MB-101\"],[\"MB-102\"],[\"MB-103\"],[\"MB-104\"],[\"MB-105\"],[\"MB-106\"],[\"MB-107\"],[\"MB-108\"],[\"MB-109\"],[\"MB-10\"],[\"MB-110\"],[\"MB-111\"],[\"MB-112\"],[\"MB-113\"],[\"MB-114\"],[\"MB-115\"],[\"MB-116\"],[\"MB-117\"],[\"MB-118\"],[\"MB-119\"],[\"MB-11\"],[\"MB-120\"],[\"MB-121\"],[\"MB-122\"],[\"MB-123\"],[\"MB-124\"],[\"MB-125\"],[\"MB-126\"],[\"MB-127\"],[\"MB-128\"],[\"MB-129\"],[\"MB-12\"],[\"MB-130\"],[\"MB-131\"],[\"MB-132\"],[\"MB-133\"],[\"MB-134\"],[\"MB-135\"],[\"MB-136\"],[\"MB-137\"],[\"MB-139\"],[\"MB-13\"],[\"MB-140\"],[\"MB-143\"],[\"MB-14\"],[\"MB-15\"],[\"MB-16\"],[\"MB-18\"],[\"MB-19\"],[\"MB-1\"],[\"MB-20\"],[\"MB-21\"],[\"MB-22\"],[\"MB-23\"],[\"MB-24\"],[\"MB-25\"],[\"MB-26\"],[\"MB-27\"],[\"MB-28\"],[\"MB-29\"],[\"MB-2\"],[\"MB-30\"],[\"MB-31\"],[\"MB-32\"],[\"MB-33\"],[\"MB-34\"],[\"MB-35\"],[\"MB-37\"],[\"MB-38\"],[\"MB-39\"],[\"MB-3\"],[\"MB-40\"],[\"MB-41\"],[\"MB-42\"],[\"MB-43\"],[\"MB-44\"],[\"MB-45\"],[\"MB-46\"],[\"MB-47\"],[\"MB-48\"],[\"MB-49\"],[\"MB-4\"],[\"MB-50\"],[\"MB-51\"],[\"MB-52\"],[\"MB-53\"],[\"MB-54\"],[\"MB-55\"],[\"MB-56\"],[\"MB-57\"],[\"MB-58\"],[\"MB-59\"],[\"MB-5\"],[\"MB-60\"],[\"MB-61\"],[\"MB-62\"],[\"MB-63\"],[\"MB-64\"],[\"MB-65\"],[\"MB-66\"],[\"MB-67\"],[\"MB-68\"],[\"MB-69\"],[\"MB-6\"],[\"MB-70\"],[\"MB-71\"],[\"MB-72\"],[\"MB-73\"],[\"MB-74\"],[\"MB-75\"],[\"MB-76\"],[\"MB-77\"],[\"MB-78\"],[\"MB-79\"],[\"MB-7\"],[\"MB-80\"],[\"MB-81\"],[\"MB-82\"],[\"MB-83\"],[\"MB-84\"],[\"MB-85\"],[\"MB-86\"],[\"MB-87\"],[\"MB-88\"],[\"MB-89\"],[\"MB-8\"],[\"MB-90\"],[\"MB-91\"],[\"MB-92\"],[\"MB-93\"],[\"MB-94\"],[\"MB-95\"],[\"MB-96\"],[\"MB-97\"],[\"MB-98\"],[\"MB-9\"]],\"hovertemplate\":\"Ligand Category=MB Ligands\\u003cbr\\u003eComponent 1=%{x}\\u003cbr\\u003eComponent 2=%{y}\\u003cbr\\u003eligand=%{customdata[0]}\\u003cextra\\u003e\\u003c\\u002fextra\\u003e\",\"legendgroup\":\"MB Ligands\",\"marker\":{\"color\":\"green\",\"symbol\":\"circle\"},\"mode\":\"markers\",\"name\":\"MB Ligands\",\"orientation\":\"v\",\"showlegend\":true,\"x\":[0.7442535699570614,3.5665719459975627,4.940878306390317,-1.818650935831151,4.769421061938625,-4.8587357160808144,3.139335073970123,4.284851173834077,4.338265811398343,3.1705706631210573,0.8185825079269692,6.818020517170911,5.317084795738986,2.285748881154595,4.7319101998280715,6.786236483643307,1.8128501543512539,0.3820795243604868,-0.21210220047953293,4.661580309035169,-14.750930011106187,-1.3450425254837743,5.566688621652003,2.9504941181779754,-7.604473522815452,-6.652357128920688,4.837503380849491,7.406700199085705,7.555822548057821,-0.6875379574441052,9.023643833203352,3.770657097561149,2.885653768278363,-3.2243757888544855,-16.202644652803315,7.041907084505324,0.10127911225005506,3.9344630877857627,2.2422267744466966,-2.158567585274371,4.337925384077481,-0.721463758901361,-0.8884606781215396,5.92716777728756,6.441971968368926,-16.87707259595498,-1.234590728655462,4.465668729168624,5.652408148660649,-1.0262367204832072,-4.506967920206129,-0.8158215083169758,-0.564365430123389,0.4090961587013579,3.6486945583883497,-0.668656160906521,1.1331813452648591,8.413127588113605,-6.736647577858847,-1.4980910094643007,-15.51471389811962,-4.5385940261896485,-20.821726995583745,1.1728006038247996,0.3535768622175498,2.1302622916518,2.789688789923149,3.605523255521369,1.106015849176983,1.3202443065733853,0.43666452108203274,-19.984322032059,4.857036012446873,1.1955538307065696,5.4248839734690835,-7.338377752960131,1.6090375219483077,0.1787895114216635,-16.080350714438545,-4.566541996498387,1.3624942839318719,1.9416435680034625,-1.039005030951821,0.9484848302164208,2.3953033515661364,-4.253456436105579,0.8894964255573325,4.167606238506386,-2.0727577579737684,1.6184541050926506,3.396115084172237,3.7003118499761523,3.3800656240544678,-1.5158508867108957,6.724970719222438,4.089206307595183,6.729196853209075,5.379755652200999,2.665396141953801,-17.87113342130763,1.5575102845034476,1.9596197147850105,2.6829836172816353,2.8460898707476447,-1.098400663319791,3.502133286826686,3.6401310344739803,4.119714263026114,1.9865570611658478,4.017029975739657,5.373647903049336,6.3139113422698125,1.3650378190297783,2.572792213609877,0.8226875247669811,-3.6667425894343157,5.378199517983403,2.0506682195659387,2.396329665044245,2.170517973808008,3.5676618869437653,6.254043971547346,5.77753172326395,-0.5433778479591156,2.6035345585773,2.539603559495696,-17.45223190949949,4.025100484710413,1.6762790039915307,6.958816304032918,-16.00564509759334,1.0293581305567137,2.349456846364382,3.0265756447127345,4.106624009341041,-7.082942211603001,1.385446677848951],\"xaxis\":\"x\",\"y\":[10.08704135167424,-1.7808714983275271,3.8291660615940173,-0.44955020082899505,-1.061858334922549,-2.3625014083330633,-0.8465048406072085,-2.9264768276949575,0.8582181687746897,0.6259200678991236,-5.024939836314368,1.907278590429361,3.244980981888434,-1.367101759971555,1.366832247253986,4.210065524308132,-3.34939311955755,-5.651189712221407,-6.647413415351095,2.2694483669283336,-4.411727682118164,-3.5147770637404037,1.8015092269379447,4.230090147378275,-3.7288893125929135,-3.6928198229249696,2.589873150460893,4.475274068003479,3.1338193653728417,-7.9035692667359,3.6756705431222922,-2.2242825706272753,-3.4458011633425603,0.4040475642389086,-5.208752862478987,2.2718108371638954,-9.286093245163372,-4.718590969437979,-1.6102434006429873,0.8786138269845755,-4.14171745723142,-11.317134561083028,-6.229194760004262,1.4406461697258408,-0.29721698203422886,-4.495372656119755,-6.7147811785505445,-2.701511925728354,-2.0386888604555122,-5.633466466613283,-9.459806781812427,-6.620035566951776,-6.212455015653195,-3.7845881942313064,-2.3541825200188606,-5.839906564962513,-4.356696136194881,-1.5372767550927733,-20.768747599324694,-2.4213745036990755,-1.134210117054007,-7.242234871303837,-12.588157330560952,-4.090943156460209,-3.001154249105066,-3.343445462016603,-2.218697250462664,-1.6835701182877603,-3.4446258407959087,-5.778374403906536,-3.7168518051363306,-9.705116147095676,-0.9358605138672899,-3.208759082818756,-0.45841078811636593,-1.6562621191753986,-4.807711136719879,1.6683090748302543,4.03857990444302,7.184678486833662,-3.912909874756167,-2.466456149864744,-6.009835335461117,-3.8152366351843097,-3.3537746355548927,-4.756194024403953,-2.857703892582985,-0.0806734521760571,2.4806053944247024,-3.0856487339315226,-1.5593144425848804,-3.3637831972949406,-1.6694517132891613,-7.245150769817987,0.4221079812807216,-3.80916600544579,1.2745779708854357,0.5007936823454333,-1.3219353826373068,-8.781444651925518,-2.3588662712257875,-1.57053806474383,-2.5093418770607396,-1.9532876980270224,-6.343161609785546,-3.3276765597392632,-2.7807190605688517,-0.8373837887352988,-2.411010736353665,-0.7977771673368605,-0.42874223227264774,-1.430353173877145,-2.321748133443178,-1.7705289927780958,-3.5997924165203945,-7.568008661896073,-0.7110457266400297,-1.7607073266515108,-1.345409624796186,-1.4347704575049967,-1.3930882965941085,0.8648255743544192,-0.013084543559641598,-4.465715451739088,-0.3991020791959865,-0.17491058347858193,-6.241104943299619,0.42209436105763415,-3.622060086054275,-1.42393624072745,-4.936325399196856,-3.2736589846035553,-1.2704354322511076,-2.27182834976508,-2.117840737719705,-4.9437578842148815,-4.317833056225235],\"yaxis\":\"y\",\"type\":\"scatter\"},{\"customdata\":[[\"MS-10\"],[\"MS-11\"],[\"MS-12\"],[\"MS-13\"],[\"MS-14\"],[\"MS-15\"],[\"MS-16\"],[\"MS-17\"],[\"MS-19\"],[\"MS-1\"],[\"MS-20\"],[\"MS-21\"],[\"MS-22\"],[\"MS-23\"],[\"MS-24\"],[\"MS-25\"],[\"MS-26\"],[\"MS-27\"],[\"MS-28\"],[\"MS-29\"],[\"MS-2\"],[\"MS-30\"],[\"MS-31\"],[\"MS-32\"],[\"MS-33\"],[\"MS-34\"],[\"MS-35\"],[\"MS-36\"],[\"MS-37\"],[\"MS-38\"],[\"MS-39\"],[\"MS-3\"],[\"MS-40\"],[\"MS-41\"],[\"MS-42\"],[\"MS-44\"],[\"MS-45\"],[\"MS-46\"],[\"MS-47\"],[\"MS-48\"],[\"MS-49\"],[\"MS-4\"],[\"MS-50\"],[\"MS-51\"],[\"MS-52\"],[\"MS-53\"],[\"MS-54\"],[\"MS-55\"],[\"MS-56\"],[\"MS-57\"],[\"MS-58\"],[\"MS-59\"],[\"MS-5\"],[\"MS-60\"],[\"MS-61\"],[\"MS-62\"],[\"MS-64\"],[\"MS-65\"],[\"MS-66\"],[\"MS-68\"],[\"MS-6\"],[\"MS-70\"],[\"MS-71\"],[\"MS-72\"],[\"MS-73\"],[\"MS-74\"],[\"MS-75\"],[\"MS-76\"],[\"MS-77\"],[\"MS-78\"],[\"MS-79\"],[\"MS-80\"],[\"MS-81\"],[\"MS-82\"],[\"MS-83\"],[\"MS-84\"],[\"MS-85\"],[\"MS-86\"],[\"MS-87\"],[\"MS-88\"],[\"MS-89\"],[\"MS-90\"],[\"MS-91\"],[\"MS-92\"],[\"MS-93\"],[\"MS-9\"]],\"hovertemplate\":\"Ligand Category=MS Ligands\\u003cbr\\u003eComponent 1=%{x}\\u003cbr\\u003eComponent 2=%{y}\\u003cbr\\u003eligand=%{customdata[0]}\\u003cextra\\u003e\\u003c\\u002fextra\\u003e\",\"legendgroup\":\"MS Ligands\",\"marker\":{\"color\":\"red\",\"symbol\":\"circle\"},\"mode\":\"markers\",\"name\":\"MS Ligands\",\"orientation\":\"v\",\"showlegend\":true,\"x\":[7.761190720890006,-0.16529163559249632,1.8008561281362419,3.1767108171102536,-0.21379577192918797,0.9055636588735748,1.952421391110335,2.1182233457861264,1.781286642935434,-3.0504552261129776,1.8849489981939573,1.964757849184264,2.444373912791969,2.020132434464909,2.2572533505454504,1.6985939858594443,4.106022459121999,2.194428320704253,1.1764264554698176,2.289797230229715,-5.994086297112094,2.383261414503462,1.3050145505261452,1.3755827486277132,2.406044098341695,2.31559389148746,2.3946472647465975,2.4244279991453523,1.8781915405197434,2.046202406250604,2.53611463737966,-7.101735671396387,2.5668262226141807,1.7609470096724282,5.399211999565862,1.944917785385295,1.7953269969619272,2.279417790625791,1.7447740714657234,2.5528692996650206,2.2070544123674742,2.5620682433774644,3.2634280976177976,1.789343229050877,0.07144930706668831,1.5925897071571793,3.0838403328658615,1.7286300782084976,2.066918705413642,2.105766676911838,1.0757956518890068,2.3823128462030305,3.0587114302575418,1.7715431318358954,3.415412276176119,4.533138849501915,4.8209867407955205,1.3941920467936246,1.7315785533626933,2.0615226047771893,2.5059890387674972,-4.836884115067574,-1.0451570753803892,1.053370749855778,-18.005768424268034,-1.8972265880659545,-17.872686326909243,-18.271760734865556,-1.124856679480475,-17.772195115833735,4.339795492605638,1.3318614465167686,4.958774860439027,-17.15306863705377,-17.62140673031906,-16.0258799475686,2.3097040412028003,3.387411152225804,-16.715602290330246,2.5772230166472836,-16.159370997500222,2.3840243457003782,-17.285433875162525,3.8014573496613933,7.5233745092430855,0.44149317203898847],\"xaxis\":\"x\",\"y\":[4.0304415829573115,3.257603830843246,0.549404607841672,1.1741671054894947,-1.137295253040434,-0.8828621739875125,0.6279612201396556,0.8228449044313415,2.0650712497245007,-5.2975076426115075,1.5298199306106777,0.9806402232831917,2.1530720864267776,1.139188644593218,1.9297736417698057,2.4185884309829775,3.3327007078327044,1.3961953503073739,0.8243483321955024,1.552747304822112,-0.9172764989145237,2.2708375331742165,0.668453824333374,0.9511029337909267,2.2137627247945546,1.4343230835568201,2.038260678120762,1.954179723734326,1.5508090328289317,1.1991659745299097,1.3702771667304587,-18.240065583099895,2.2484012181796116,1.6485622109270495,1.5258124528880932,1.9284218871752743,1.1413174449492665,4.052340021457491,2.099100207592274,1.3651286065803185,1.6905195170249294,1.498451046119364,4.060492433089203,1.1348658068505315,-0.62366765093278,1.2186686249019592,1.5462449066538433,4.235436180021501,1.7761040138179642,2.572187276416359,4.39736805678806,2.736275604521187,1.2725641201526514,1.5389548685330756,2.1480552686017633,2.780616003118446,3.4362401525683004,3.866306569864182,2.75828571134124,2.261012830797809,3.7485128118236886,-5.415928781511855,-1.9720650281432344,-7.634999315986222,-0.22010440233195833,-2.453328712960326,0.16884497547823873,-0.6983069727041569,-0.3914159106413683,0.8445912609000564,-1.28269845104316,-6.682605441900045,-0.08538833118474555,6.826287919523914,0.46177031257308326,7.214182484146752,-2.6344492018951873,2.705681012062226,7.907711898462435,-1.2246103831896655,6.903581848954785,2.624355872382937,7.160849021355165,3.6335722896189435,1.4792964530219128,-1.2501171835185323],\"yaxis\":\"y\",\"type\":\"scatter\"}],                        {\"template\":{\"data\":{\"histogram2dcontour\":[{\"type\":\"histogram2dcontour\",\"colorbar\":{\"outlinewidth\":0,\"ticks\":\"\"},\"colorscale\":[[0.0,\"#0d0887\"],[0.1111111111111111,\"#46039f\"],[0.2222222222222222,\"#7201a8\"],[0.3333333333333333,\"#9c179e\"],[0.4444444444444444,\"#bd3786\"],[0.5555555555555556,\"#d8576b\"],[0.6666666666666666,\"#ed7953\"],[0.7777777777777778,\"#fb9f3a\"],[0.8888888888888888,\"#fdca26\"],[1.0,\"#f0f921\"]]}],\"choropleth\":[{\"type\":\"choropleth\",\"colorbar\":{\"outlinewidth\":0,\"ticks\":\"\"}}],\"histogram2d\":[{\"type\":\"histogram2d\",\"colorbar\":{\"outlinewidth\":0,\"ticks\":\"\"},\"colorscale\":[[0.0,\"#0d0887\"],[0.1111111111111111,\"#46039f\"],[0.2222222222222222,\"#7201a8\"],[0.3333333333333333,\"#9c179e\"],[0.4444444444444444,\"#bd3786\"],[0.5555555555555556,\"#d8576b\"],[0.6666666666666666,\"#ed7953\"],[0.7777777777777778,\"#fb9f3a\"],[0.8888888888888888,\"#fdca26\"],[1.0,\"#f0f921\"]]}],\"heatmap\":[{\"type\":\"heatmap\",\"colorbar\":{\"outlinewidth\":0,\"ticks\":\"\"},\"colorscale\":[[0.0,\"#0d0887\"],[0.1111111111111111,\"#46039f\"],[0.2222222222222222,\"#7201a8\"],[0.3333333333333333,\"#9c179e\"],[0.4444444444444444,\"#bd3786\"],[0.5555555555555556,\"#d8576b\"],[0.6666666666666666,\"#ed7953\"],[0.7777777777777778,\"#fb9f3a\"],[0.8888888888888888,\"#fdca26\"],[1.0,\"#f0f921\"]]}],\"heatmapgl\":[{\"type\":\"heatmapgl\",\"colorbar\":{\"outlinewidth\":0,\"ticks\":\"\"},\"colorscale\":[[0.0,\"#0d0887\"],[0.1111111111111111,\"#46039f\"],[0.2222222222222222,\"#7201a8\"],[0.3333333333333333,\"#9c179e\"],[0.4444444444444444,\"#bd3786\"],[0.5555555555555556,\"#d8576b\"],[0.6666666666666666,\"#ed7953\"],[0.7777777777777778,\"#fb9f3a\"],[0.8888888888888888,\"#fdca26\"],[1.0,\"#f0f921\"]]}],\"contourcarpet\":[{\"type\":\"contourcarpet\",\"colorbar\":{\"outlinewidth\":0,\"ticks\":\"\"}}],\"contour\":[{\"type\":\"contour\",\"colorbar\":{\"outlinewidth\":0,\"ticks\":\"\"},\"colorscale\":[[0.0,\"#0d0887\"],[0.1111111111111111,\"#46039f\"],[0.2222222222222222,\"#7201a8\"],[0.3333333333333333,\"#9c179e\"],[0.4444444444444444,\"#bd3786\"],[0.5555555555555556,\"#d8576b\"],[0.6666666666666666,\"#ed7953\"],[0.7777777777777778,\"#fb9f3a\"],[0.8888888888888888,\"#fdca26\"],[1.0,\"#f0f921\"]]}],\"surface\":[{\"type\":\"surface\",\"colorbar\":{\"outlinewidth\":0,\"ticks\":\"\"},\"colorscale\":[[0.0,\"#0d0887\"],[0.1111111111111111,\"#46039f\"],[0.2222222222222222,\"#7201a8\"],[0.3333333333333333,\"#9c179e\"],[0.4444444444444444,\"#bd3786\"],[0.5555555555555556,\"#d8576b\"],[0.6666666666666666,\"#ed7953\"],[0.7777777777777778,\"#fb9f3a\"],[0.8888888888888888,\"#fdca26\"],[1.0,\"#f0f921\"]]}],\"mesh3d\":[{\"type\":\"mesh3d\",\"colorbar\":{\"outlinewidth\":0,\"ticks\":\"\"}}],\"scatter\":[{\"fillpattern\":{\"fillmode\":\"overlay\",\"size\":10,\"solidity\":0.2},\"type\":\"scatter\"}],\"parcoords\":[{\"type\":\"parcoords\",\"line\":{\"colorbar\":{\"outlinewidth\":0,\"ticks\":\"\"}}}],\"scatterpolargl\":[{\"type\":\"scatterpolargl\",\"marker\":{\"colorbar\":{\"outlinewidth\":0,\"ticks\":\"\"}}}],\"bar\":[{\"error_x\":{\"color\":\"#2a3f5f\"},\"error_y\":{\"color\":\"#2a3f5f\"},\"marker\":{\"line\":{\"color\":\"#E5ECF6\",\"width\":0.5},\"pattern\":{\"fillmode\":\"overlay\",\"size\":10,\"solidity\":0.2}},\"type\":\"bar\"}],\"scattergeo\":[{\"type\":\"scattergeo\",\"marker\":{\"colorbar\":{\"outlinewidth\":0,\"ticks\":\"\"}}}],\"scatterpolar\":[{\"type\":\"scatterpolar\",\"marker\":{\"colorbar\":{\"outlinewidth\":0,\"ticks\":\"\"}}}],\"histogram\":[{\"marker\":{\"pattern\":{\"fillmode\":\"overlay\",\"size\":10,\"solidity\":0.2}},\"type\":\"histogram\"}],\"scattergl\":[{\"type\":\"scattergl\",\"marker\":{\"colorbar\":{\"outlinewidth\":0,\"ticks\":\"\"}}}],\"scatter3d\":[{\"type\":\"scatter3d\",\"line\":{\"colorbar\":{\"outlinewidth\":0,\"ticks\":\"\"}},\"marker\":{\"colorbar\":{\"outlinewidth\":0,\"ticks\":\"\"}}}],\"scattermapbox\":[{\"type\":\"scattermapbox\",\"marker\":{\"colorbar\":{\"outlinewidth\":0,\"ticks\":\"\"}}}],\"scatterternary\":[{\"type\":\"scatterternary\",\"marker\":{\"colorbar\":{\"outlinewidth\":0,\"ticks\":\"\"}}}],\"scattercarpet\":[{\"type\":\"scattercarpet\",\"marker\":{\"colorbar\":{\"outlinewidth\":0,\"ticks\":\"\"}}}],\"carpet\":[{\"aaxis\":{\"endlinecolor\":\"#2a3f5f\",\"gridcolor\":\"white\",\"linecolor\":\"white\",\"minorgridcolor\":\"white\",\"startlinecolor\":\"#2a3f5f\"},\"baxis\":{\"endlinecolor\":\"#2a3f5f\",\"gridcolor\":\"white\",\"linecolor\":\"white\",\"minorgridcolor\":\"white\",\"startlinecolor\":\"#2a3f5f\"},\"type\":\"carpet\"}],\"table\":[{\"cells\":{\"fill\":{\"color\":\"#EBF0F8\"},\"line\":{\"color\":\"white\"}},\"header\":{\"fill\":{\"color\":\"#C8D4E3\"},\"line\":{\"color\":\"white\"}},\"type\":\"table\"}],\"barpolar\":[{\"marker\":{\"line\":{\"color\":\"#E5ECF6\",\"width\":0.5},\"pattern\":{\"fillmode\":\"overlay\",\"size\":10,\"solidity\":0.2}},\"type\":\"barpolar\"}],\"pie\":[{\"automargin\":true,\"type\":\"pie\"}]},\"layout\":{\"autotypenumbers\":\"strict\",\"colorway\":[\"#636efa\",\"#EF553B\",\"#00cc96\",\"#ab63fa\",\"#FFA15A\",\"#19d3f3\",\"#FF6692\",\"#B6E880\",\"#FF97FF\",\"#FECB52\"],\"font\":{\"color\":\"#2a3f5f\"},\"hovermode\":\"closest\",\"hoverlabel\":{\"align\":\"left\"},\"paper_bgcolor\":\"white\",\"plot_bgcolor\":\"#E5ECF6\",\"polar\":{\"bgcolor\":\"#E5ECF6\",\"angularaxis\":{\"gridcolor\":\"white\",\"linecolor\":\"white\",\"ticks\":\"\"},\"radialaxis\":{\"gridcolor\":\"white\",\"linecolor\":\"white\",\"ticks\":\"\"}},\"ternary\":{\"bgcolor\":\"#E5ECF6\",\"aaxis\":{\"gridcolor\":\"white\",\"linecolor\":\"white\",\"ticks\":\"\"},\"baxis\":{\"gridcolor\":\"white\",\"linecolor\":\"white\",\"ticks\":\"\"},\"caxis\":{\"gridcolor\":\"white\",\"linecolor\":\"white\",\"ticks\":\"\"}},\"coloraxis\":{\"colorbar\":{\"outlinewidth\":0,\"ticks\":\"\"}},\"colorscale\":{\"sequential\":[[0.0,\"#0d0887\"],[0.1111111111111111,\"#46039f\"],[0.2222222222222222,\"#7201a8\"],[0.3333333333333333,\"#9c179e\"],[0.4444444444444444,\"#bd3786\"],[0.5555555555555556,\"#d8576b\"],[0.6666666666666666,\"#ed7953\"],[0.7777777777777778,\"#fb9f3a\"],[0.8888888888888888,\"#fdca26\"],[1.0,\"#f0f921\"]],\"sequentialminus\":[[0.0,\"#0d0887\"],[0.1111111111111111,\"#46039f\"],[0.2222222222222222,\"#7201a8\"],[0.3333333333333333,\"#9c179e\"],[0.4444444444444444,\"#bd3786\"],[0.5555555555555556,\"#d8576b\"],[0.6666666666666666,\"#ed7953\"],[0.7777777777777778,\"#fb9f3a\"],[0.8888888888888888,\"#fdca26\"],[1.0,\"#f0f921\"]],\"diverging\":[[0,\"#8e0152\"],[0.1,\"#c51b7d\"],[0.2,\"#de77ae\"],[0.3,\"#f1b6da\"],[0.4,\"#fde0ef\"],[0.5,\"#f7f7f7\"],[0.6,\"#e6f5d0\"],[0.7,\"#b8e186\"],[0.8,\"#7fbc41\"],[0.9,\"#4d9221\"],[1,\"#276419\"]]},\"xaxis\":{\"gridcolor\":\"white\",\"linecolor\":\"white\",\"ticks\":\"\",\"title\":{\"standoff\":15},\"zerolinecolor\":\"white\",\"automargin\":true,\"zerolinewidth\":2},\"yaxis\":{\"gridcolor\":\"white\",\"linecolor\":\"white\",\"ticks\":\"\",\"title\":{\"standoff\":15},\"zerolinecolor\":\"white\",\"automargin\":true,\"zerolinewidth\":2},\"scene\":{\"xaxis\":{\"backgroundcolor\":\"#E5ECF6\",\"gridcolor\":\"white\",\"linecolor\":\"white\",\"showbackground\":true,\"ticks\":\"\",\"zerolinecolor\":\"white\",\"gridwidth\":2},\"yaxis\":{\"backgroundcolor\":\"#E5ECF6\",\"gridcolor\":\"white\",\"linecolor\":\"white\",\"showbackground\":true,\"ticks\":\"\",\"zerolinecolor\":\"white\",\"gridwidth\":2},\"zaxis\":{\"backgroundcolor\":\"#E5ECF6\",\"gridcolor\":\"white\",\"linecolor\":\"white\",\"showbackground\":true,\"ticks\":\"\",\"zerolinecolor\":\"white\",\"gridwidth\":2}},\"shapedefaults\":{\"line\":{\"color\":\"#2a3f5f\"}},\"annotationdefaults\":{\"arrowcolor\":\"#2a3f5f\",\"arrowhead\":0,\"arrowwidth\":1},\"geo\":{\"bgcolor\":\"white\",\"landcolor\":\"#E5ECF6\",\"subunitcolor\":\"white\",\"showland\":true,\"showlakes\":true,\"lakecolor\":\"white\"},\"title\":{\"x\":0.05},\"mapbox\":{\"style\":\"light\"}}},\"xaxis\":{\"anchor\":\"y\",\"domain\":[0.0,1.0],\"title\":{\"text\":\"Component 1\"}},\"yaxis\":{\"anchor\":\"x\",\"domain\":[0.0,1.0],\"title\":{\"text\":\"Component 2\"}},\"legend\":{\"title\":{\"text\":\"Ligand Categories\"},\"tracegroupgap\":0},\"title\":{\"text\":\"2D PCA Slice: Component 1 vs Component 2\"}},                        {\"responsive\": true}                    ).then(function(){\n",
       "                            \n",
       "var gd = document.getElementById('1464dd2a-fcb2-4028-b8e2-e091955dec1c');\n",
       "var x = new MutationObserver(function (mutations, observer) {{\n",
       "        var display = window.getComputedStyle(gd).display;\n",
       "        if (!display || display === 'none') {{\n",
       "            console.log([gd, 'removed!']);\n",
       "            Plotly.purge(gd);\n",
       "            observer.disconnect();\n",
       "        }}\n",
       "}});\n",
       "\n",
       "// Listen for the removal of the full notebook cells\n",
       "var notebookContainer = gd.closest('#notebook-container');\n",
       "if (notebookContainer) {{\n",
       "    x.observe(notebookContainer, {childList: true});\n",
       "}}\n",
       "\n",
       "// Listen for the clearing of the current output cell\n",
       "var outputEl = gd.closest('.output');\n",
       "if (outputEl) {{\n",
       "    x.observe(outputEl, {childList: true});\n",
       "}}\n",
       "\n",
       "                        })                };                });            </script>        </div>"
      ]
     },
     "metadata": {},
     "output_type": "display_data"
    },
    {
     "data": {
      "application/vnd.plotly.v1+json": {
       "data": [
        {
         "customdata": [
          [
           "dcPAMP"
          ],
          [
           "dcpa"
          ],
          [
           "diprpa"
          ]
         ],
         "hovertemplate": "Ligand Category=Other Ligands<br>Component 1=%{x}<br>Component 3=%{y}<br>ligand=%{customdata[0]}<extra></extra>",
         "legendgroup": "Other Ligands",
         "marker": {
          "color": "purple",
          "symbol": "circle"
         },
         "mode": "markers",
         "name": "Other Ligands",
         "orientation": "v",
         "showlegend": true,
         "x": [
          5.931822255089498,
          2.924543023907077,
          1.6431963287924423
         ],
         "xaxis": "x",
         "y": [
          3.937895530181646,
          3.880004643633486,
          4.604089672739802
         ],
         "yaxis": "y",
         "type": "scatter"
        },
        {
         "customdata": [
          [
           "DS-10"
          ],
          [
           "DS-11"
          ],
          [
           "DS-12"
          ],
          [
           "DS-13"
          ],
          [
           "DS-14"
          ],
          [
           "DS-15"
          ],
          [
           "DS-16"
          ],
          [
           "DS-17"
          ],
          [
           "DS-18"
          ],
          [
           "DS-19"
          ],
          [
           "DS-1"
          ],
          [
           "DS-20"
          ],
          [
           "DS-21"
          ],
          [
           "DS-22"
          ],
          [
           "DS-23"
          ],
          [
           "DS-24"
          ],
          [
           "DS-25"
          ],
          [
           "DS-26"
          ],
          [
           "DS-27"
          ],
          [
           "DS-28"
          ],
          [
           "DS-29"
          ],
          [
           "DS-2"
          ],
          [
           "DS-30"
          ],
          [
           "DS-31"
          ],
          [
           "DS-32"
          ],
          [
           "DS-33"
          ],
          [
           "DS-34"
          ],
          [
           "DS-35"
          ],
          [
           "DS-36"
          ],
          [
           "DS-37"
          ],
          [
           "DS-38"
          ],
          [
           "DS-39"
          ],
          [
           "DS-3"
          ],
          [
           "DS-40"
          ],
          [
           "DS-41"
          ],
          [
           "DS-42"
          ],
          [
           "DS-43"
          ],
          [
           "DS-44"
          ],
          [
           "DS-45"
          ],
          [
           "DS-46"
          ],
          [
           "DS-48"
          ],
          [
           "DS-49"
          ],
          [
           "DS-4"
          ],
          [
           "DS-50"
          ],
          [
           "DS-52"
          ],
          [
           "DS-53"
          ],
          [
           "DS-54"
          ],
          [
           "DS-55"
          ],
          [
           "DS-56"
          ],
          [
           "DS-57"
          ],
          [
           "DS-58"
          ],
          [
           "DS-59"
          ],
          [
           "DS-5"
          ],
          [
           "DS-60"
          ],
          [
           "DS-61"
          ],
          [
           "DS-63"
          ],
          [
           "DS-64"
          ],
          [
           "DS-6"
          ],
          [
           "DS-7"
          ],
          [
           "DS-8"
          ],
          [
           "DS-9"
          ]
         ],
         "hovertemplate": "Ligand Category=DS Ligands<br>Component 1=%{x}<br>Component 3=%{y}<br>ligand=%{customdata[0]}<extra></extra>",
         "legendgroup": "DS Ligands",
         "marker": {
          "color": "blue",
          "symbol": "circle"
         },
         "mode": "markers",
         "name": "DS Ligands",
         "orientation": "v",
         "showlegend": true,
         "x": [
          2.5662440650771265,
          3.9607653422806743,
          0.9764343911821717,
          -0.9859024968116201,
          3.6501825607653875,
          3.5752208664995195,
          3.1257148953275737,
          4.9779375757623505,
          3.391327541888231,
          -2.5677883917119457,
          -1.073225814639228,
          3.746070300237722,
          3.1919517920155123,
          3.8909172123605,
          5.011680310910131,
          3.6273643409512033,
          5.174084117640862,
          3.466838492703333,
          2.8370740855395233,
          4.282066001620953,
          2.7918033821509076,
          -7.900542765220172,
          5.140963789473831,
          3.86272634115596,
          5.287626134490217,
          2.993097559330063,
          2.070086951459864,
          3.3102443375158366,
          -1.7040578585197679,
          -1.6520497677457278,
          -2.2654385670118824,
          -2.1652691488753057,
          3.894810109932223,
          -1.2572418109944257,
          -1.9695606834241586,
          1.8918877809650692,
          -17.33287731212111,
          -1.9058156299980284,
          -16.8246860046206,
          -16.632796627564936,
          -0.7733602308880412,
          -17.470764803897303,
          3.2915374717136627,
          -17.12217738669297,
          -7.616479854222193,
          -2.034623775802864,
          -15.899449936695081,
          -14.825429404359191,
          -15.213358605406727,
          2.2293770241159314,
          -0.9853744408540197,
          2.8321538814068954,
          3.2201562115284763,
          -0.15227646608928222,
          -0.8513710492405195,
          -1.1336026068099936,
          -2.5330960014455464,
          0.8375511383288164,
          2.232164538917378,
          4.218534656100846,
          3.6932699114526737
         ],
         "xaxis": "x",
         "y": [
          -3.2112520274515304,
          -3.400544560475301,
          -0.5716640592061177,
          1.3222211931933994,
          -3.2109367117451577,
          -2.7903965642722044,
          -3.612537587086176,
          -3.6884587532753628,
          -2.1156232355681635,
          0.9489051494362355,
          -6.411884734901075,
          -3.0748684396551296,
          -2.6020137986898653,
          -3.602059315772793,
          -3.8889686514445563,
          -2.6496030439288174,
          -4.059852149626989,
          -3.6194982977116505,
          0.4745448295969064,
          2.1776563652819787,
          -1.6607179195862352,
          9.588027432876721,
          -4.135657081982679,
          -3.7506930983298803,
          -4.305532807695996,
          -3.028059092691382,
          -1.8463362189488084,
          -2.1551835979771834,
          -3.8955349671425243,
          -3.9442605755489706,
          -7.574091451592961,
          -2.1512667079226153,
          0.03173062849318781,
          -3.54454265472821,
          -5.853022920324607,
          5.434813249671646,
          -0.7393127592079494,
          -4.006245009973994,
          0.10771440676038095,
          1.3046168635682118,
          13.032260305315504,
          1.0000927012592449,
          -2.4851714133752894,
          0.5968174796918222,
          2.3508300171751606,
          2.7823380186117026,
          1.690961499251512,
          2.184900774242381,
          1.4445110583663028,
          5.032964782048857,
          0.4188033393487537,
          -1.0320932691284461,
          -3.1123808309640184,
          -1.8049442058754803,
          -1.0215817618946048,
          -3.0991036832915966,
          8.287025284490992,
          -1.6724556247203297,
          -2.7948994851368134,
          0.36240688013064265,
          -2.89747840925574
         ],
         "yaxis": "y",
         "type": "scatter"
        },
        {
         "customdata": [
          [
           "MB-100"
          ],
          [
           "MB-101"
          ],
          [
           "MB-102"
          ],
          [
           "MB-103"
          ],
          [
           "MB-104"
          ],
          [
           "MB-105"
          ],
          [
           "MB-106"
          ],
          [
           "MB-107"
          ],
          [
           "MB-108"
          ],
          [
           "MB-109"
          ],
          [
           "MB-10"
          ],
          [
           "MB-110"
          ],
          [
           "MB-111"
          ],
          [
           "MB-112"
          ],
          [
           "MB-113"
          ],
          [
           "MB-114"
          ],
          [
           "MB-115"
          ],
          [
           "MB-116"
          ],
          [
           "MB-117"
          ],
          [
           "MB-118"
          ],
          [
           "MB-119"
          ],
          [
           "MB-11"
          ],
          [
           "MB-120"
          ],
          [
           "MB-121"
          ],
          [
           "MB-122"
          ],
          [
           "MB-123"
          ],
          [
           "MB-124"
          ],
          [
           "MB-125"
          ],
          [
           "MB-126"
          ],
          [
           "MB-127"
          ],
          [
           "MB-128"
          ],
          [
           "MB-129"
          ],
          [
           "MB-12"
          ],
          [
           "MB-130"
          ],
          [
           "MB-131"
          ],
          [
           "MB-132"
          ],
          [
           "MB-133"
          ],
          [
           "MB-134"
          ],
          [
           "MB-135"
          ],
          [
           "MB-136"
          ],
          [
           "MB-137"
          ],
          [
           "MB-139"
          ],
          [
           "MB-13"
          ],
          [
           "MB-140"
          ],
          [
           "MB-143"
          ],
          [
           "MB-14"
          ],
          [
           "MB-15"
          ],
          [
           "MB-16"
          ],
          [
           "MB-18"
          ],
          [
           "MB-19"
          ],
          [
           "MB-1"
          ],
          [
           "MB-20"
          ],
          [
           "MB-21"
          ],
          [
           "MB-22"
          ],
          [
           "MB-23"
          ],
          [
           "MB-24"
          ],
          [
           "MB-25"
          ],
          [
           "MB-26"
          ],
          [
           "MB-27"
          ],
          [
           "MB-28"
          ],
          [
           "MB-29"
          ],
          [
           "MB-2"
          ],
          [
           "MB-30"
          ],
          [
           "MB-31"
          ],
          [
           "MB-32"
          ],
          [
           "MB-33"
          ],
          [
           "MB-34"
          ],
          [
           "MB-35"
          ],
          [
           "MB-37"
          ],
          [
           "MB-38"
          ],
          [
           "MB-39"
          ],
          [
           "MB-3"
          ],
          [
           "MB-40"
          ],
          [
           "MB-41"
          ],
          [
           "MB-42"
          ],
          [
           "MB-43"
          ],
          [
           "MB-44"
          ],
          [
           "MB-45"
          ],
          [
           "MB-46"
          ],
          [
           "MB-47"
          ],
          [
           "MB-48"
          ],
          [
           "MB-49"
          ],
          [
           "MB-4"
          ],
          [
           "MB-50"
          ],
          [
           "MB-51"
          ],
          [
           "MB-52"
          ],
          [
           "MB-53"
          ],
          [
           "MB-54"
          ],
          [
           "MB-55"
          ],
          [
           "MB-56"
          ],
          [
           "MB-57"
          ],
          [
           "MB-58"
          ],
          [
           "MB-59"
          ],
          [
           "MB-5"
          ],
          [
           "MB-60"
          ],
          [
           "MB-61"
          ],
          [
           "MB-62"
          ],
          [
           "MB-63"
          ],
          [
           "MB-64"
          ],
          [
           "MB-65"
          ],
          [
           "MB-66"
          ],
          [
           "MB-67"
          ],
          [
           "MB-68"
          ],
          [
           "MB-69"
          ],
          [
           "MB-6"
          ],
          [
           "MB-70"
          ],
          [
           "MB-71"
          ],
          [
           "MB-72"
          ],
          [
           "MB-73"
          ],
          [
           "MB-74"
          ],
          [
           "MB-75"
          ],
          [
           "MB-76"
          ],
          [
           "MB-77"
          ],
          [
           "MB-78"
          ],
          [
           "MB-79"
          ],
          [
           "MB-7"
          ],
          [
           "MB-80"
          ],
          [
           "MB-81"
          ],
          [
           "MB-82"
          ],
          [
           "MB-83"
          ],
          [
           "MB-84"
          ],
          [
           "MB-85"
          ],
          [
           "MB-86"
          ],
          [
           "MB-87"
          ],
          [
           "MB-88"
          ],
          [
           "MB-89"
          ],
          [
           "MB-8"
          ],
          [
           "MB-90"
          ],
          [
           "MB-91"
          ],
          [
           "MB-92"
          ],
          [
           "MB-93"
          ],
          [
           "MB-94"
          ],
          [
           "MB-95"
          ],
          [
           "MB-96"
          ],
          [
           "MB-97"
          ],
          [
           "MB-98"
          ],
          [
           "MB-9"
          ]
         ],
         "hovertemplate": "Ligand Category=MB Ligands<br>Component 1=%{x}<br>Component 3=%{y}<br>ligand=%{customdata[0]}<extra></extra>",
         "legendgroup": "MB Ligands",
         "marker": {
          "color": "green",
          "symbol": "circle"
         },
         "mode": "markers",
         "name": "MB Ligands",
         "orientation": "v",
         "showlegend": true,
         "x": [
          0.7442535699570614,
          3.5665719459975627,
          4.940878306390317,
          -1.818650935831151,
          4.769421061938625,
          -4.8587357160808144,
          3.139335073970123,
          4.284851173834077,
          4.338265811398343,
          3.1705706631210573,
          0.8185825079269692,
          6.818020517170911,
          5.317084795738986,
          2.285748881154595,
          4.7319101998280715,
          6.786236483643307,
          1.8128501543512539,
          0.3820795243604868,
          -0.21210220047953293,
          4.661580309035169,
          -14.750930011106187,
          -1.3450425254837743,
          5.566688621652003,
          2.9504941181779754,
          -7.604473522815452,
          -6.652357128920688,
          4.837503380849491,
          7.406700199085705,
          7.555822548057821,
          -0.6875379574441052,
          9.023643833203352,
          3.770657097561149,
          2.885653768278363,
          -3.2243757888544855,
          -16.202644652803315,
          7.041907084505324,
          0.10127911225005506,
          3.9344630877857627,
          2.2422267744466966,
          -2.158567585274371,
          4.337925384077481,
          -0.721463758901361,
          -0.8884606781215396,
          5.92716777728756,
          6.441971968368926,
          -16.87707259595498,
          -1.234590728655462,
          4.465668729168624,
          5.652408148660649,
          -1.0262367204832072,
          -4.506967920206129,
          -0.8158215083169758,
          -0.564365430123389,
          0.4090961587013579,
          3.6486945583883497,
          -0.668656160906521,
          1.1331813452648591,
          8.413127588113605,
          -6.736647577858847,
          -1.4980910094643007,
          -15.51471389811962,
          -4.5385940261896485,
          -20.821726995583745,
          1.1728006038247996,
          0.3535768622175498,
          2.1302622916518,
          2.789688789923149,
          3.605523255521369,
          1.106015849176983,
          1.3202443065733853,
          0.43666452108203274,
          -19.984322032059,
          4.857036012446873,
          1.1955538307065696,
          5.4248839734690835,
          -7.338377752960131,
          1.6090375219483077,
          0.1787895114216635,
          -16.080350714438545,
          -4.566541996498387,
          1.3624942839318719,
          1.9416435680034625,
          -1.039005030951821,
          0.9484848302164208,
          2.3953033515661364,
          -4.253456436105579,
          0.8894964255573325,
          4.167606238506386,
          -2.0727577579737684,
          1.6184541050926506,
          3.396115084172237,
          3.7003118499761523,
          3.3800656240544678,
          -1.5158508867108957,
          6.724970719222438,
          4.089206307595183,
          6.729196853209075,
          5.379755652200999,
          2.665396141953801,
          -17.87113342130763,
          1.5575102845034476,
          1.9596197147850105,
          2.6829836172816353,
          2.8460898707476447,
          -1.098400663319791,
          3.502133286826686,
          3.6401310344739803,
          4.119714263026114,
          1.9865570611658478,
          4.017029975739657,
          5.373647903049336,
          6.3139113422698125,
          1.3650378190297783,
          2.572792213609877,
          0.8226875247669811,
          -3.6667425894343157,
          5.378199517983403,
          2.0506682195659387,
          2.396329665044245,
          2.170517973808008,
          3.5676618869437653,
          6.254043971547346,
          5.77753172326395,
          -0.5433778479591156,
          2.6035345585773,
          2.539603559495696,
          -17.45223190949949,
          4.025100484710413,
          1.6762790039915307,
          6.958816304032918,
          -16.00564509759334,
          1.0293581305567137,
          2.349456846364382,
          3.0265756447127345,
          4.106624009341041,
          -7.082942211603001,
          1.385446677848951
         ],
         "xaxis": "x",
         "y": [
          9.433816359894433,
          -0.47696306581072956,
          1.1811654781062633,
          -1.8183250581581598,
          2.3755845788955146,
          8.430562466791375,
          -0.8992627059568479,
          5.897423035808938,
          1.9426662946543887,
          -3.21776627319327,
          -0.2745498472284039,
          5.8909974323800585,
          3.7564125754831887,
          -2.5840196890663285,
          -0.14034124839486314,
          4.3996090798679495,
          0.31135219257843255,
          1.0575091897403726,
          1.2031202942055919,
          -0.6185644853356276,
          5.727459165480819,
          -3.4165015725121077,
          -2.2346237091172667,
          1.0089813385931485,
          2.364036705933482,
          3.587668709335289,
          2.160164320080748,
          4.67356681210938,
          -0.6243884949810484,
          -0.8879357817411735,
          8.997771504010665,
          3.4217062892687324,
          1.4139228365096697,
          9.960954690643657,
          2.2643527071510126,
          4.320041066247478,
          6.043932925652705,
          2.529934319907465,
          -2.2492042569542305,
          9.53384321159816,
          2.3077711197571515,
          7.33558589078526,
          -4.0227168683687005,
          2.0037093054902417,
          6.738055404920977,
          -0.28801674724178244,
          -7.942228494448232,
          5.269419846243446,
          4.449079111847564,
          -4.968856388942352,
          -6.644584665958964,
          -3.9372943951404005,
          -3.89378313869112,
          -3.157343903955113,
          1.2602530308491646,
          -4.162287217008696,
          1.8732624847939507,
          7.80942901263165,
          10.108374449826126,
          -4.831243292013533,
          0.607467920572187,
          -6.933623720946154,
          1.7317250183584318,
          -0.8538899403543647,
          -2.8399271579376295,
          0.4829541135130752,
          0.03563499412610588,
          1.1364344681195404,
          -2.594420229496266,
          -0.640784992126355,
          -3.9175377386014714,
          -0.9492950448770462,
          4.018514824837208,
          -2.640915723577495,
          4.083876072665479,
          -0.1301351774833992,
          -1.9528913207489338,
          -2.7296505112413607,
          -0.9410199840744468,
          5.47636644229781,
          -3.0407308406263396,
          -2.847768570710936,
          -1.197036910376029,
          -2.845517482169895,
          -0.8947598078488836,
          1.3159917404860209,
          -4.8679242022125235,
          -0.4930285915010054,
          -0.15642145732344354,
          -1.5034555074176608,
          0.9481473643231502,
          2.7063276788238535,
          1.09209651178098,
          -3.814755156766597,
          4.521097714141249,
          5.4050166667005035,
          3.18514487179329,
          3.1201884786820555,
          -0.6957495465747123,
          6.883598905142585,
          0.48087213465511025,
          -2.5066972899932476,
          -1.0725005702185095,
          -0.8143788011808163,
          -1.7963763018275534,
          -1.1015626274963064,
          -1.596174541298204,
          1.3386981154899207,
          -2.8694896744416822,
          0.7469208591696774,
          4.325230660641013,
          5.881001884968209,
          -1.0712585468320437,
          0.06659210300302046,
          -3.4832175164183212,
          -7.023321011191304,
          4.75411323072752,
          -2.393264556359717,
          -2.310707674029017,
          -2.5504571667032123,
          1.089254082059922,
          6.2815619584025315,
          4.052050027499999,
          -4.937922525881234,
          -2.713344720503814,
          -3.4085869808489755,
          0.17946642416303366,
          -0.41630377881828995,
          0.1374036426507813,
          7.472926959696711,
          4.397360220775228,
          -3.9062731443380967,
          -1.8934711138354146,
          2.272095295853382,
          2.378937098723031,
          5.272317079222447,
          2.563605744295294
         ],
         "yaxis": "y",
         "type": "scatter"
        },
        {
         "customdata": [
          [
           "MS-10"
          ],
          [
           "MS-11"
          ],
          [
           "MS-12"
          ],
          [
           "MS-13"
          ],
          [
           "MS-14"
          ],
          [
           "MS-15"
          ],
          [
           "MS-16"
          ],
          [
           "MS-17"
          ],
          [
           "MS-19"
          ],
          [
           "MS-1"
          ],
          [
           "MS-20"
          ],
          [
           "MS-21"
          ],
          [
           "MS-22"
          ],
          [
           "MS-23"
          ],
          [
           "MS-24"
          ],
          [
           "MS-25"
          ],
          [
           "MS-26"
          ],
          [
           "MS-27"
          ],
          [
           "MS-28"
          ],
          [
           "MS-29"
          ],
          [
           "MS-2"
          ],
          [
           "MS-30"
          ],
          [
           "MS-31"
          ],
          [
           "MS-32"
          ],
          [
           "MS-33"
          ],
          [
           "MS-34"
          ],
          [
           "MS-35"
          ],
          [
           "MS-36"
          ],
          [
           "MS-37"
          ],
          [
           "MS-38"
          ],
          [
           "MS-39"
          ],
          [
           "MS-3"
          ],
          [
           "MS-40"
          ],
          [
           "MS-41"
          ],
          [
           "MS-42"
          ],
          [
           "MS-44"
          ],
          [
           "MS-45"
          ],
          [
           "MS-46"
          ],
          [
           "MS-47"
          ],
          [
           "MS-48"
          ],
          [
           "MS-49"
          ],
          [
           "MS-4"
          ],
          [
           "MS-50"
          ],
          [
           "MS-51"
          ],
          [
           "MS-52"
          ],
          [
           "MS-53"
          ],
          [
           "MS-54"
          ],
          [
           "MS-55"
          ],
          [
           "MS-56"
          ],
          [
           "MS-57"
          ],
          [
           "MS-58"
          ],
          [
           "MS-59"
          ],
          [
           "MS-5"
          ],
          [
           "MS-60"
          ],
          [
           "MS-61"
          ],
          [
           "MS-62"
          ],
          [
           "MS-64"
          ],
          [
           "MS-65"
          ],
          [
           "MS-66"
          ],
          [
           "MS-68"
          ],
          [
           "MS-6"
          ],
          [
           "MS-70"
          ],
          [
           "MS-71"
          ],
          [
           "MS-72"
          ],
          [
           "MS-73"
          ],
          [
           "MS-74"
          ],
          [
           "MS-75"
          ],
          [
           "MS-76"
          ],
          [
           "MS-77"
          ],
          [
           "MS-78"
          ],
          [
           "MS-79"
          ],
          [
           "MS-80"
          ],
          [
           "MS-81"
          ],
          [
           "MS-82"
          ],
          [
           "MS-83"
          ],
          [
           "MS-84"
          ],
          [
           "MS-85"
          ],
          [
           "MS-86"
          ],
          [
           "MS-87"
          ],
          [
           "MS-88"
          ],
          [
           "MS-89"
          ],
          [
           "MS-90"
          ],
          [
           "MS-91"
          ],
          [
           "MS-92"
          ],
          [
           "MS-93"
          ],
          [
           "MS-9"
          ]
         ],
         "hovertemplate": "Ligand Category=MS Ligands<br>Component 1=%{x}<br>Component 3=%{y}<br>ligand=%{customdata[0]}<extra></extra>",
         "legendgroup": "MS Ligands",
         "marker": {
          "color": "red",
          "symbol": "circle"
         },
         "mode": "markers",
         "name": "MS Ligands",
         "orientation": "v",
         "showlegend": true,
         "x": [
          7.761190720890006,
          -0.16529163559249632,
          1.8008561281362419,
          3.1767108171102536,
          -0.21379577192918797,
          0.9055636588735748,
          1.952421391110335,
          2.1182233457861264,
          1.781286642935434,
          -3.0504552261129776,
          1.8849489981939573,
          1.964757849184264,
          2.444373912791969,
          2.020132434464909,
          2.2572533505454504,
          1.6985939858594443,
          4.106022459121999,
          2.194428320704253,
          1.1764264554698176,
          2.289797230229715,
          -5.994086297112094,
          2.383261414503462,
          1.3050145505261452,
          1.3755827486277132,
          2.406044098341695,
          2.31559389148746,
          2.3946472647465975,
          2.4244279991453523,
          1.8781915405197434,
          2.046202406250604,
          2.53611463737966,
          -7.101735671396387,
          2.5668262226141807,
          1.7609470096724282,
          5.399211999565862,
          1.944917785385295,
          1.7953269969619272,
          2.279417790625791,
          1.7447740714657234,
          2.5528692996650206,
          2.2070544123674742,
          2.5620682433774644,
          3.2634280976177976,
          1.789343229050877,
          0.07144930706668831,
          1.5925897071571793,
          3.0838403328658615,
          1.7286300782084976,
          2.066918705413642,
          2.105766676911838,
          1.0757956518890068,
          2.3823128462030305,
          3.0587114302575418,
          1.7715431318358954,
          3.415412276176119,
          4.533138849501915,
          4.8209867407955205,
          1.3941920467936246,
          1.7315785533626933,
          2.0615226047771893,
          2.5059890387674972,
          -4.836884115067574,
          -1.0451570753803892,
          1.053370749855778,
          -18.005768424268034,
          -1.8972265880659545,
          -17.872686326909243,
          -18.271760734865556,
          -1.124856679480475,
          -17.772195115833735,
          4.339795492605638,
          1.3318614465167686,
          4.958774860439027,
          -17.15306863705377,
          -17.62140673031906,
          -16.0258799475686,
          2.3097040412028003,
          3.387411152225804,
          -16.715602290330246,
          2.5772230166472836,
          -16.159370997500222,
          2.3840243457003782,
          -17.285433875162525,
          3.8014573496613933,
          7.5233745092430855,
          0.44149317203898847
         ],
         "xaxis": "x",
         "y": [
          8.334699977262193,
          0.7060635527765678,
          -2.80778941657238,
          -0.4227773907889617,
          -1.3243545470021154,
          4.861084181348358,
          -3.1765718751274505,
          -3.375399449703141,
          -2.969462692962503,
          -3.8937452340190397,
          -3.0602534437166353,
          -2.6197168980822187,
          -3.2298994198164217,
          -2.7444811677951813,
          -3.1209587128355776,
          -2.6693692041706125,
          1.578736380188543,
          -2.975104626823728,
          -1.2136905273210372,
          -3.120094479287629,
          0.2611658003636029,
          -2.9063899462351395,
          -2.3066215273162474,
          -2.440585960972312,
          -3.4262001267009503,
          -2.9354680301271956,
          -3.154668453327568,
          -3.150932346071574,
          -3.2634690432898426,
          -2.7465857588977394,
          -2.3015900777734166,
          9.650314541220332,
          -3.442612803325466,
          -2.6467957428794575,
          8.81100405020087,
          -2.886922688438002,
          -2.648514018483247,
          -3.7195333348657353,
          -2.295342580077825,
          -2.3685523289184776,
          -2.5702171906294193,
          2.0208205176985157,
          -1.4886959346386357,
          -2.6397108758015886,
          -0.11618563488771702,
          -1.8579614389160137,
          -0.5836901564602811,
          -2.7013019728654264,
          -3.427858505361873,
          -3.0168162974035506,
          -2.5882535198688736,
          -3.100407375943374,
          2.3382714938489957,
          -3.1156070709595247,
          1.4275089160287564,
          4.087478348851447,
          3.6320589782746904,
          -2.7952901102143652,
          -2.35112111777774,
          -2.4889143268821368,
          6.739746197037485,
          -7.289395244310411,
          -1.8790180873363038,
          -1.255261838535706,
          -0.49038787527735317,
          3.029544953863653,
          -0.5219560413906515,
          0.0954158992081102,
          -3.8726660092085865,
          -0.6611298894551916,
          6.96713001485926,
          -1.8975232163223086,
          6.851724724899563,
          -1.326545229175906,
          -0.7154980504795877,
          1.092144406675297,
          2.7255912298865814,
          6.914697196726081,
          0.8353945385818369,
          2.2339201211812076,
          1.6229492984418807,
          -2.783569716725521,
          -0.8642060126454557,
          6.416226547978908,
          7.45261254328734,
          -1.7452035337582101
         ],
         "yaxis": "y",
         "type": "scatter"
        }
       ],
       "layout": {
        "template": {
         "data": {
          "histogram2dcontour": [
           {
            "type": "histogram2dcontour",
            "colorbar": {
             "outlinewidth": 0,
             "ticks": ""
            },
            "colorscale": [
             [
              0.0,
              "#0d0887"
             ],
             [
              0.1111111111111111,
              "#46039f"
             ],
             [
              0.2222222222222222,
              "#7201a8"
             ],
             [
              0.3333333333333333,
              "#9c179e"
             ],
             [
              0.4444444444444444,
              "#bd3786"
             ],
             [
              0.5555555555555556,
              "#d8576b"
             ],
             [
              0.6666666666666666,
              "#ed7953"
             ],
             [
              0.7777777777777778,
              "#fb9f3a"
             ],
             [
              0.8888888888888888,
              "#fdca26"
             ],
             [
              1.0,
              "#f0f921"
             ]
            ]
           }
          ],
          "choropleth": [
           {
            "type": "choropleth",
            "colorbar": {
             "outlinewidth": 0,
             "ticks": ""
            }
           }
          ],
          "histogram2d": [
           {
            "type": "histogram2d",
            "colorbar": {
             "outlinewidth": 0,
             "ticks": ""
            },
            "colorscale": [
             [
              0.0,
              "#0d0887"
             ],
             [
              0.1111111111111111,
              "#46039f"
             ],
             [
              0.2222222222222222,
              "#7201a8"
             ],
             [
              0.3333333333333333,
              "#9c179e"
             ],
             [
              0.4444444444444444,
              "#bd3786"
             ],
             [
              0.5555555555555556,
              "#d8576b"
             ],
             [
              0.6666666666666666,
              "#ed7953"
             ],
             [
              0.7777777777777778,
              "#fb9f3a"
             ],
             [
              0.8888888888888888,
              "#fdca26"
             ],
             [
              1.0,
              "#f0f921"
             ]
            ]
           }
          ],
          "heatmap": [
           {
            "type": "heatmap",
            "colorbar": {
             "outlinewidth": 0,
             "ticks": ""
            },
            "colorscale": [
             [
              0.0,
              "#0d0887"
             ],
             [
              0.1111111111111111,
              "#46039f"
             ],
             [
              0.2222222222222222,
              "#7201a8"
             ],
             [
              0.3333333333333333,
              "#9c179e"
             ],
             [
              0.4444444444444444,
              "#bd3786"
             ],
             [
              0.5555555555555556,
              "#d8576b"
             ],
             [
              0.6666666666666666,
              "#ed7953"
             ],
             [
              0.7777777777777778,
              "#fb9f3a"
             ],
             [
              0.8888888888888888,
              "#fdca26"
             ],
             [
              1.0,
              "#f0f921"
             ]
            ]
           }
          ],
          "heatmapgl": [
           {
            "type": "heatmapgl",
            "colorbar": {
             "outlinewidth": 0,
             "ticks": ""
            },
            "colorscale": [
             [
              0.0,
              "#0d0887"
             ],
             [
              0.1111111111111111,
              "#46039f"
             ],
             [
              0.2222222222222222,
              "#7201a8"
             ],
             [
              0.3333333333333333,
              "#9c179e"
             ],
             [
              0.4444444444444444,
              "#bd3786"
             ],
             [
              0.5555555555555556,
              "#d8576b"
             ],
             [
              0.6666666666666666,
              "#ed7953"
             ],
             [
              0.7777777777777778,
              "#fb9f3a"
             ],
             [
              0.8888888888888888,
              "#fdca26"
             ],
             [
              1.0,
              "#f0f921"
             ]
            ]
           }
          ],
          "contourcarpet": [
           {
            "type": "contourcarpet",
            "colorbar": {
             "outlinewidth": 0,
             "ticks": ""
            }
           }
          ],
          "contour": [
           {
            "type": "contour",
            "colorbar": {
             "outlinewidth": 0,
             "ticks": ""
            },
            "colorscale": [
             [
              0.0,
              "#0d0887"
             ],
             [
              0.1111111111111111,
              "#46039f"
             ],
             [
              0.2222222222222222,
              "#7201a8"
             ],
             [
              0.3333333333333333,
              "#9c179e"
             ],
             [
              0.4444444444444444,
              "#bd3786"
             ],
             [
              0.5555555555555556,
              "#d8576b"
             ],
             [
              0.6666666666666666,
              "#ed7953"
             ],
             [
              0.7777777777777778,
              "#fb9f3a"
             ],
             [
              0.8888888888888888,
              "#fdca26"
             ],
             [
              1.0,
              "#f0f921"
             ]
            ]
           }
          ],
          "surface": [
           {
            "type": "surface",
            "colorbar": {
             "outlinewidth": 0,
             "ticks": ""
            },
            "colorscale": [
             [
              0.0,
              "#0d0887"
             ],
             [
              0.1111111111111111,
              "#46039f"
             ],
             [
              0.2222222222222222,
              "#7201a8"
             ],
             [
              0.3333333333333333,
              "#9c179e"
             ],
             [
              0.4444444444444444,
              "#bd3786"
             ],
             [
              0.5555555555555556,
              "#d8576b"
             ],
             [
              0.6666666666666666,
              "#ed7953"
             ],
             [
              0.7777777777777778,
              "#fb9f3a"
             ],
             [
              0.8888888888888888,
              "#fdca26"
             ],
             [
              1.0,
              "#f0f921"
             ]
            ]
           }
          ],
          "mesh3d": [
           {
            "type": "mesh3d",
            "colorbar": {
             "outlinewidth": 0,
             "ticks": ""
            }
           }
          ],
          "scatter": [
           {
            "fillpattern": {
             "fillmode": "overlay",
             "size": 10,
             "solidity": 0.2
            },
            "type": "scatter"
           }
          ],
          "parcoords": [
           {
            "type": "parcoords",
            "line": {
             "colorbar": {
              "outlinewidth": 0,
              "ticks": ""
             }
            }
           }
          ],
          "scatterpolargl": [
           {
            "type": "scatterpolargl",
            "marker": {
             "colorbar": {
              "outlinewidth": 0,
              "ticks": ""
             }
            }
           }
          ],
          "bar": [
           {
            "error_x": {
             "color": "#2a3f5f"
            },
            "error_y": {
             "color": "#2a3f5f"
            },
            "marker": {
             "line": {
              "color": "#E5ECF6",
              "width": 0.5
             },
             "pattern": {
              "fillmode": "overlay",
              "size": 10,
              "solidity": 0.2
             }
            },
            "type": "bar"
           }
          ],
          "scattergeo": [
           {
            "type": "scattergeo",
            "marker": {
             "colorbar": {
              "outlinewidth": 0,
              "ticks": ""
             }
            }
           }
          ],
          "scatterpolar": [
           {
            "type": "scatterpolar",
            "marker": {
             "colorbar": {
              "outlinewidth": 0,
              "ticks": ""
             }
            }
           }
          ],
          "histogram": [
           {
            "marker": {
             "pattern": {
              "fillmode": "overlay",
              "size": 10,
              "solidity": 0.2
             }
            },
            "type": "histogram"
           }
          ],
          "scattergl": [
           {
            "type": "scattergl",
            "marker": {
             "colorbar": {
              "outlinewidth": 0,
              "ticks": ""
             }
            }
           }
          ],
          "scatter3d": [
           {
            "type": "scatter3d",
            "line": {
             "colorbar": {
              "outlinewidth": 0,
              "ticks": ""
             }
            },
            "marker": {
             "colorbar": {
              "outlinewidth": 0,
              "ticks": ""
             }
            }
           }
          ],
          "scattermapbox": [
           {
            "type": "scattermapbox",
            "marker": {
             "colorbar": {
              "outlinewidth": 0,
              "ticks": ""
             }
            }
           }
          ],
          "scatterternary": [
           {
            "type": "scatterternary",
            "marker": {
             "colorbar": {
              "outlinewidth": 0,
              "ticks": ""
             }
            }
           }
          ],
          "scattercarpet": [
           {
            "type": "scattercarpet",
            "marker": {
             "colorbar": {
              "outlinewidth": 0,
              "ticks": ""
             }
            }
           }
          ],
          "carpet": [
           {
            "aaxis": {
             "endlinecolor": "#2a3f5f",
             "gridcolor": "white",
             "linecolor": "white",
             "minorgridcolor": "white",
             "startlinecolor": "#2a3f5f"
            },
            "baxis": {
             "endlinecolor": "#2a3f5f",
             "gridcolor": "white",
             "linecolor": "white",
             "minorgridcolor": "white",
             "startlinecolor": "#2a3f5f"
            },
            "type": "carpet"
           }
          ],
          "table": [
           {
            "cells": {
             "fill": {
              "color": "#EBF0F8"
             },
             "line": {
              "color": "white"
             }
            },
            "header": {
             "fill": {
              "color": "#C8D4E3"
             },
             "line": {
              "color": "white"
             }
            },
            "type": "table"
           }
          ],
          "barpolar": [
           {
            "marker": {
             "line": {
              "color": "#E5ECF6",
              "width": 0.5
             },
             "pattern": {
              "fillmode": "overlay",
              "size": 10,
              "solidity": 0.2
             }
            },
            "type": "barpolar"
           }
          ],
          "pie": [
           {
            "automargin": true,
            "type": "pie"
           }
          ]
         },
         "layout": {
          "autotypenumbers": "strict",
          "colorway": [
           "#636efa",
           "#EF553B",
           "#00cc96",
           "#ab63fa",
           "#FFA15A",
           "#19d3f3",
           "#FF6692",
           "#B6E880",
           "#FF97FF",
           "#FECB52"
          ],
          "font": {
           "color": "#2a3f5f"
          },
          "hovermode": "closest",
          "hoverlabel": {
           "align": "left"
          },
          "paper_bgcolor": "white",
          "plot_bgcolor": "#E5ECF6",
          "polar": {
           "bgcolor": "#E5ECF6",
           "angularaxis": {
            "gridcolor": "white",
            "linecolor": "white",
            "ticks": ""
           },
           "radialaxis": {
            "gridcolor": "white",
            "linecolor": "white",
            "ticks": ""
           }
          },
          "ternary": {
           "bgcolor": "#E5ECF6",
           "aaxis": {
            "gridcolor": "white",
            "linecolor": "white",
            "ticks": ""
           },
           "baxis": {
            "gridcolor": "white",
            "linecolor": "white",
            "ticks": ""
           },
           "caxis": {
            "gridcolor": "white",
            "linecolor": "white",
            "ticks": ""
           }
          },
          "coloraxis": {
           "colorbar": {
            "outlinewidth": 0,
            "ticks": ""
           }
          },
          "colorscale": {
           "sequential": [
            [
             0.0,
             "#0d0887"
            ],
            [
             0.1111111111111111,
             "#46039f"
            ],
            [
             0.2222222222222222,
             "#7201a8"
            ],
            [
             0.3333333333333333,
             "#9c179e"
            ],
            [
             0.4444444444444444,
             "#bd3786"
            ],
            [
             0.5555555555555556,
             "#d8576b"
            ],
            [
             0.6666666666666666,
             "#ed7953"
            ],
            [
             0.7777777777777778,
             "#fb9f3a"
            ],
            [
             0.8888888888888888,
             "#fdca26"
            ],
            [
             1.0,
             "#f0f921"
            ]
           ],
           "sequentialminus": [
            [
             0.0,
             "#0d0887"
            ],
            [
             0.1111111111111111,
             "#46039f"
            ],
            [
             0.2222222222222222,
             "#7201a8"
            ],
            [
             0.3333333333333333,
             "#9c179e"
            ],
            [
             0.4444444444444444,
             "#bd3786"
            ],
            [
             0.5555555555555556,
             "#d8576b"
            ],
            [
             0.6666666666666666,
             "#ed7953"
            ],
            [
             0.7777777777777778,
             "#fb9f3a"
            ],
            [
             0.8888888888888888,
             "#fdca26"
            ],
            [
             1.0,
             "#f0f921"
            ]
           ],
           "diverging": [
            [
             0,
             "#8e0152"
            ],
            [
             0.1,
             "#c51b7d"
            ],
            [
             0.2,
             "#de77ae"
            ],
            [
             0.3,
             "#f1b6da"
            ],
            [
             0.4,
             "#fde0ef"
            ],
            [
             0.5,
             "#f7f7f7"
            ],
            [
             0.6,
             "#e6f5d0"
            ],
            [
             0.7,
             "#b8e186"
            ],
            [
             0.8,
             "#7fbc41"
            ],
            [
             0.9,
             "#4d9221"
            ],
            [
             1,
             "#276419"
            ]
           ]
          },
          "xaxis": {
           "gridcolor": "white",
           "linecolor": "white",
           "ticks": "",
           "title": {
            "standoff": 15
           },
           "zerolinecolor": "white",
           "automargin": true,
           "zerolinewidth": 2
          },
          "yaxis": {
           "gridcolor": "white",
           "linecolor": "white",
           "ticks": "",
           "title": {
            "standoff": 15
           },
           "zerolinecolor": "white",
           "automargin": true,
           "zerolinewidth": 2
          },
          "scene": {
           "xaxis": {
            "backgroundcolor": "#E5ECF6",
            "gridcolor": "white",
            "linecolor": "white",
            "showbackground": true,
            "ticks": "",
            "zerolinecolor": "white",
            "gridwidth": 2
           },
           "yaxis": {
            "backgroundcolor": "#E5ECF6",
            "gridcolor": "white",
            "linecolor": "white",
            "showbackground": true,
            "ticks": "",
            "zerolinecolor": "white",
            "gridwidth": 2
           },
           "zaxis": {
            "backgroundcolor": "#E5ECF6",
            "gridcolor": "white",
            "linecolor": "white",
            "showbackground": true,
            "ticks": "",
            "zerolinecolor": "white",
            "gridwidth": 2
           }
          },
          "shapedefaults": {
           "line": {
            "color": "#2a3f5f"
           }
          },
          "annotationdefaults": {
           "arrowcolor": "#2a3f5f",
           "arrowhead": 0,
           "arrowwidth": 1
          },
          "geo": {
           "bgcolor": "white",
           "landcolor": "#E5ECF6",
           "subunitcolor": "white",
           "showland": true,
           "showlakes": true,
           "lakecolor": "white"
          },
          "title": {
           "x": 0.05
          },
          "mapbox": {
           "style": "light"
          }
         }
        },
        "xaxis": {
         "anchor": "y",
         "domain": [
          0.0,
          1.0
         ],
         "title": {
          "text": "Component 1"
         }
        },
        "yaxis": {
         "anchor": "x",
         "domain": [
          0.0,
          1.0
         ],
         "title": {
          "text": "Component 3"
         }
        },
        "legend": {
         "title": {
          "text": "Ligand Categories"
         },
         "tracegroupgap": 0
        },
        "title": {
         "text": "2D PCA Slice: Component 1 vs Component 3"
        }
       },
       "config": {
        "plotlyServerURL": "https://plot.ly"
       }
      },
      "text/html": [
       "<div>                            <div id=\"5dcd8cb4-ad8d-4ec6-8b7b-b978cfc18b24\" class=\"plotly-graph-div\" style=\"height:525px; width:100%;\"></div>            <script type=\"text/javascript\">                require([\"plotly\"], function(Plotly) {                    window.PLOTLYENV=window.PLOTLYENV || {};                                    if (document.getElementById(\"5dcd8cb4-ad8d-4ec6-8b7b-b978cfc18b24\")) {                    Plotly.newPlot(                        \"5dcd8cb4-ad8d-4ec6-8b7b-b978cfc18b24\",                        [{\"customdata\":[[\"dcPAMP\"],[\"dcpa\"],[\"diprpa\"]],\"hovertemplate\":\"Ligand Category=Other Ligands\\u003cbr\\u003eComponent 1=%{x}\\u003cbr\\u003eComponent 3=%{y}\\u003cbr\\u003eligand=%{customdata[0]}\\u003cextra\\u003e\\u003c\\u002fextra\\u003e\",\"legendgroup\":\"Other Ligands\",\"marker\":{\"color\":\"purple\",\"symbol\":\"circle\"},\"mode\":\"markers\",\"name\":\"Other Ligands\",\"orientation\":\"v\",\"showlegend\":true,\"x\":[5.931822255089498,2.924543023907077,1.6431963287924423],\"xaxis\":\"x\",\"y\":[3.937895530181646,3.880004643633486,4.604089672739802],\"yaxis\":\"y\",\"type\":\"scatter\"},{\"customdata\":[[\"DS-10\"],[\"DS-11\"],[\"DS-12\"],[\"DS-13\"],[\"DS-14\"],[\"DS-15\"],[\"DS-16\"],[\"DS-17\"],[\"DS-18\"],[\"DS-19\"],[\"DS-1\"],[\"DS-20\"],[\"DS-21\"],[\"DS-22\"],[\"DS-23\"],[\"DS-24\"],[\"DS-25\"],[\"DS-26\"],[\"DS-27\"],[\"DS-28\"],[\"DS-29\"],[\"DS-2\"],[\"DS-30\"],[\"DS-31\"],[\"DS-32\"],[\"DS-33\"],[\"DS-34\"],[\"DS-35\"],[\"DS-36\"],[\"DS-37\"],[\"DS-38\"],[\"DS-39\"],[\"DS-3\"],[\"DS-40\"],[\"DS-41\"],[\"DS-42\"],[\"DS-43\"],[\"DS-44\"],[\"DS-45\"],[\"DS-46\"],[\"DS-48\"],[\"DS-49\"],[\"DS-4\"],[\"DS-50\"],[\"DS-52\"],[\"DS-53\"],[\"DS-54\"],[\"DS-55\"],[\"DS-56\"],[\"DS-57\"],[\"DS-58\"],[\"DS-59\"],[\"DS-5\"],[\"DS-60\"],[\"DS-61\"],[\"DS-63\"],[\"DS-64\"],[\"DS-6\"],[\"DS-7\"],[\"DS-8\"],[\"DS-9\"]],\"hovertemplate\":\"Ligand Category=DS Ligands\\u003cbr\\u003eComponent 1=%{x}\\u003cbr\\u003eComponent 3=%{y}\\u003cbr\\u003eligand=%{customdata[0]}\\u003cextra\\u003e\\u003c\\u002fextra\\u003e\",\"legendgroup\":\"DS Ligands\",\"marker\":{\"color\":\"blue\",\"symbol\":\"circle\"},\"mode\":\"markers\",\"name\":\"DS Ligands\",\"orientation\":\"v\",\"showlegend\":true,\"x\":[2.5662440650771265,3.9607653422806743,0.9764343911821717,-0.9859024968116201,3.6501825607653875,3.5752208664995195,3.1257148953275737,4.9779375757623505,3.391327541888231,-2.5677883917119457,-1.073225814639228,3.746070300237722,3.1919517920155123,3.8909172123605,5.011680310910131,3.6273643409512033,5.174084117640862,3.466838492703333,2.8370740855395233,4.282066001620953,2.7918033821509076,-7.900542765220172,5.140963789473831,3.86272634115596,5.287626134490217,2.993097559330063,2.070086951459864,3.3102443375158366,-1.7040578585197679,-1.6520497677457278,-2.2654385670118824,-2.1652691488753057,3.894810109932223,-1.2572418109944257,-1.9695606834241586,1.8918877809650692,-17.33287731212111,-1.9058156299980284,-16.8246860046206,-16.632796627564936,-0.7733602308880412,-17.470764803897303,3.2915374717136627,-17.12217738669297,-7.616479854222193,-2.034623775802864,-15.899449936695081,-14.825429404359191,-15.213358605406727,2.2293770241159314,-0.9853744408540197,2.8321538814068954,3.2201562115284763,-0.15227646608928222,-0.8513710492405195,-1.1336026068099936,-2.5330960014455464,0.8375511383288164,2.232164538917378,4.218534656100846,3.6932699114526737],\"xaxis\":\"x\",\"y\":[-3.2112520274515304,-3.400544560475301,-0.5716640592061177,1.3222211931933994,-3.2109367117451577,-2.7903965642722044,-3.612537587086176,-3.6884587532753628,-2.1156232355681635,0.9489051494362355,-6.411884734901075,-3.0748684396551296,-2.6020137986898653,-3.602059315772793,-3.8889686514445563,-2.6496030439288174,-4.059852149626989,-3.6194982977116505,0.4745448295969064,2.1776563652819787,-1.6607179195862352,9.588027432876721,-4.135657081982679,-3.7506930983298803,-4.305532807695996,-3.028059092691382,-1.8463362189488084,-2.1551835979771834,-3.8955349671425243,-3.9442605755489706,-7.574091451592961,-2.1512667079226153,0.03173062849318781,-3.54454265472821,-5.853022920324607,5.434813249671646,-0.7393127592079494,-4.006245009973994,0.10771440676038095,1.3046168635682118,13.032260305315504,1.0000927012592449,-2.4851714133752894,0.5968174796918222,2.3508300171751606,2.7823380186117026,1.690961499251512,2.184900774242381,1.4445110583663028,5.032964782048857,0.4188033393487537,-1.0320932691284461,-3.1123808309640184,-1.8049442058754803,-1.0215817618946048,-3.0991036832915966,8.287025284490992,-1.6724556247203297,-2.7948994851368134,0.36240688013064265,-2.89747840925574],\"yaxis\":\"y\",\"type\":\"scatter\"},{\"customdata\":[[\"MB-100\"],[\"MB-101\"],[\"MB-102\"],[\"MB-103\"],[\"MB-104\"],[\"MB-105\"],[\"MB-106\"],[\"MB-107\"],[\"MB-108\"],[\"MB-109\"],[\"MB-10\"],[\"MB-110\"],[\"MB-111\"],[\"MB-112\"],[\"MB-113\"],[\"MB-114\"],[\"MB-115\"],[\"MB-116\"],[\"MB-117\"],[\"MB-118\"],[\"MB-119\"],[\"MB-11\"],[\"MB-120\"],[\"MB-121\"],[\"MB-122\"],[\"MB-123\"],[\"MB-124\"],[\"MB-125\"],[\"MB-126\"],[\"MB-127\"],[\"MB-128\"],[\"MB-129\"],[\"MB-12\"],[\"MB-130\"],[\"MB-131\"],[\"MB-132\"],[\"MB-133\"],[\"MB-134\"],[\"MB-135\"],[\"MB-136\"],[\"MB-137\"],[\"MB-139\"],[\"MB-13\"],[\"MB-140\"],[\"MB-143\"],[\"MB-14\"],[\"MB-15\"],[\"MB-16\"],[\"MB-18\"],[\"MB-19\"],[\"MB-1\"],[\"MB-20\"],[\"MB-21\"],[\"MB-22\"],[\"MB-23\"],[\"MB-24\"],[\"MB-25\"],[\"MB-26\"],[\"MB-27\"],[\"MB-28\"],[\"MB-29\"],[\"MB-2\"],[\"MB-30\"],[\"MB-31\"],[\"MB-32\"],[\"MB-33\"],[\"MB-34\"],[\"MB-35\"],[\"MB-37\"],[\"MB-38\"],[\"MB-39\"],[\"MB-3\"],[\"MB-40\"],[\"MB-41\"],[\"MB-42\"],[\"MB-43\"],[\"MB-44\"],[\"MB-45\"],[\"MB-46\"],[\"MB-47\"],[\"MB-48\"],[\"MB-49\"],[\"MB-4\"],[\"MB-50\"],[\"MB-51\"],[\"MB-52\"],[\"MB-53\"],[\"MB-54\"],[\"MB-55\"],[\"MB-56\"],[\"MB-57\"],[\"MB-58\"],[\"MB-59\"],[\"MB-5\"],[\"MB-60\"],[\"MB-61\"],[\"MB-62\"],[\"MB-63\"],[\"MB-64\"],[\"MB-65\"],[\"MB-66\"],[\"MB-67\"],[\"MB-68\"],[\"MB-69\"],[\"MB-6\"],[\"MB-70\"],[\"MB-71\"],[\"MB-72\"],[\"MB-73\"],[\"MB-74\"],[\"MB-75\"],[\"MB-76\"],[\"MB-77\"],[\"MB-78\"],[\"MB-79\"],[\"MB-7\"],[\"MB-80\"],[\"MB-81\"],[\"MB-82\"],[\"MB-83\"],[\"MB-84\"],[\"MB-85\"],[\"MB-86\"],[\"MB-87\"],[\"MB-88\"],[\"MB-89\"],[\"MB-8\"],[\"MB-90\"],[\"MB-91\"],[\"MB-92\"],[\"MB-93\"],[\"MB-94\"],[\"MB-95\"],[\"MB-96\"],[\"MB-97\"],[\"MB-98\"],[\"MB-9\"]],\"hovertemplate\":\"Ligand Category=MB Ligands\\u003cbr\\u003eComponent 1=%{x}\\u003cbr\\u003eComponent 3=%{y}\\u003cbr\\u003eligand=%{customdata[0]}\\u003cextra\\u003e\\u003c\\u002fextra\\u003e\",\"legendgroup\":\"MB Ligands\",\"marker\":{\"color\":\"green\",\"symbol\":\"circle\"},\"mode\":\"markers\",\"name\":\"MB Ligands\",\"orientation\":\"v\",\"showlegend\":true,\"x\":[0.7442535699570614,3.5665719459975627,4.940878306390317,-1.818650935831151,4.769421061938625,-4.8587357160808144,3.139335073970123,4.284851173834077,4.338265811398343,3.1705706631210573,0.8185825079269692,6.818020517170911,5.317084795738986,2.285748881154595,4.7319101998280715,6.786236483643307,1.8128501543512539,0.3820795243604868,-0.21210220047953293,4.661580309035169,-14.750930011106187,-1.3450425254837743,5.566688621652003,2.9504941181779754,-7.604473522815452,-6.652357128920688,4.837503380849491,7.406700199085705,7.555822548057821,-0.6875379574441052,9.023643833203352,3.770657097561149,2.885653768278363,-3.2243757888544855,-16.202644652803315,7.041907084505324,0.10127911225005506,3.9344630877857627,2.2422267744466966,-2.158567585274371,4.337925384077481,-0.721463758901361,-0.8884606781215396,5.92716777728756,6.441971968368926,-16.87707259595498,-1.234590728655462,4.465668729168624,5.652408148660649,-1.0262367204832072,-4.506967920206129,-0.8158215083169758,-0.564365430123389,0.4090961587013579,3.6486945583883497,-0.668656160906521,1.1331813452648591,8.413127588113605,-6.736647577858847,-1.4980910094643007,-15.51471389811962,-4.5385940261896485,-20.821726995583745,1.1728006038247996,0.3535768622175498,2.1302622916518,2.789688789923149,3.605523255521369,1.106015849176983,1.3202443065733853,0.43666452108203274,-19.984322032059,4.857036012446873,1.1955538307065696,5.4248839734690835,-7.338377752960131,1.6090375219483077,0.1787895114216635,-16.080350714438545,-4.566541996498387,1.3624942839318719,1.9416435680034625,-1.039005030951821,0.9484848302164208,2.3953033515661364,-4.253456436105579,0.8894964255573325,4.167606238506386,-2.0727577579737684,1.6184541050926506,3.396115084172237,3.7003118499761523,3.3800656240544678,-1.5158508867108957,6.724970719222438,4.089206307595183,6.729196853209075,5.379755652200999,2.665396141953801,-17.87113342130763,1.5575102845034476,1.9596197147850105,2.6829836172816353,2.8460898707476447,-1.098400663319791,3.502133286826686,3.6401310344739803,4.119714263026114,1.9865570611658478,4.017029975739657,5.373647903049336,6.3139113422698125,1.3650378190297783,2.572792213609877,0.8226875247669811,-3.6667425894343157,5.378199517983403,2.0506682195659387,2.396329665044245,2.170517973808008,3.5676618869437653,6.254043971547346,5.77753172326395,-0.5433778479591156,2.6035345585773,2.539603559495696,-17.45223190949949,4.025100484710413,1.6762790039915307,6.958816304032918,-16.00564509759334,1.0293581305567137,2.349456846364382,3.0265756447127345,4.106624009341041,-7.082942211603001,1.385446677848951],\"xaxis\":\"x\",\"y\":[9.433816359894433,-0.47696306581072956,1.1811654781062633,-1.8183250581581598,2.3755845788955146,8.430562466791375,-0.8992627059568479,5.897423035808938,1.9426662946543887,-3.21776627319327,-0.2745498472284039,5.8909974323800585,3.7564125754831887,-2.5840196890663285,-0.14034124839486314,4.3996090798679495,0.31135219257843255,1.0575091897403726,1.2031202942055919,-0.6185644853356276,5.727459165480819,-3.4165015725121077,-2.2346237091172667,1.0089813385931485,2.364036705933482,3.587668709335289,2.160164320080748,4.67356681210938,-0.6243884949810484,-0.8879357817411735,8.997771504010665,3.4217062892687324,1.4139228365096697,9.960954690643657,2.2643527071510126,4.320041066247478,6.043932925652705,2.529934319907465,-2.2492042569542305,9.53384321159816,2.3077711197571515,7.33558589078526,-4.0227168683687005,2.0037093054902417,6.738055404920977,-0.28801674724178244,-7.942228494448232,5.269419846243446,4.449079111847564,-4.968856388942352,-6.644584665958964,-3.9372943951404005,-3.89378313869112,-3.157343903955113,1.2602530308491646,-4.162287217008696,1.8732624847939507,7.80942901263165,10.108374449826126,-4.831243292013533,0.607467920572187,-6.933623720946154,1.7317250183584318,-0.8538899403543647,-2.8399271579376295,0.4829541135130752,0.03563499412610588,1.1364344681195404,-2.594420229496266,-0.640784992126355,-3.9175377386014714,-0.9492950448770462,4.018514824837208,-2.640915723577495,4.083876072665479,-0.1301351774833992,-1.9528913207489338,-2.7296505112413607,-0.9410199840744468,5.47636644229781,-3.0407308406263396,-2.847768570710936,-1.197036910376029,-2.845517482169895,-0.8947598078488836,1.3159917404860209,-4.8679242022125235,-0.4930285915010054,-0.15642145732344354,-1.5034555074176608,0.9481473643231502,2.7063276788238535,1.09209651178098,-3.814755156766597,4.521097714141249,5.4050166667005035,3.18514487179329,3.1201884786820555,-0.6957495465747123,6.883598905142585,0.48087213465511025,-2.5066972899932476,-1.0725005702185095,-0.8143788011808163,-1.7963763018275534,-1.1015626274963064,-1.596174541298204,1.3386981154899207,-2.8694896744416822,0.7469208591696774,4.325230660641013,5.881001884968209,-1.0712585468320437,0.06659210300302046,-3.4832175164183212,-7.023321011191304,4.75411323072752,-2.393264556359717,-2.310707674029017,-2.5504571667032123,1.089254082059922,6.2815619584025315,4.052050027499999,-4.937922525881234,-2.713344720503814,-3.4085869808489755,0.17946642416303366,-0.41630377881828995,0.1374036426507813,7.472926959696711,4.397360220775228,-3.9062731443380967,-1.8934711138354146,2.272095295853382,2.378937098723031,5.272317079222447,2.563605744295294],\"yaxis\":\"y\",\"type\":\"scatter\"},{\"customdata\":[[\"MS-10\"],[\"MS-11\"],[\"MS-12\"],[\"MS-13\"],[\"MS-14\"],[\"MS-15\"],[\"MS-16\"],[\"MS-17\"],[\"MS-19\"],[\"MS-1\"],[\"MS-20\"],[\"MS-21\"],[\"MS-22\"],[\"MS-23\"],[\"MS-24\"],[\"MS-25\"],[\"MS-26\"],[\"MS-27\"],[\"MS-28\"],[\"MS-29\"],[\"MS-2\"],[\"MS-30\"],[\"MS-31\"],[\"MS-32\"],[\"MS-33\"],[\"MS-34\"],[\"MS-35\"],[\"MS-36\"],[\"MS-37\"],[\"MS-38\"],[\"MS-39\"],[\"MS-3\"],[\"MS-40\"],[\"MS-41\"],[\"MS-42\"],[\"MS-44\"],[\"MS-45\"],[\"MS-46\"],[\"MS-47\"],[\"MS-48\"],[\"MS-49\"],[\"MS-4\"],[\"MS-50\"],[\"MS-51\"],[\"MS-52\"],[\"MS-53\"],[\"MS-54\"],[\"MS-55\"],[\"MS-56\"],[\"MS-57\"],[\"MS-58\"],[\"MS-59\"],[\"MS-5\"],[\"MS-60\"],[\"MS-61\"],[\"MS-62\"],[\"MS-64\"],[\"MS-65\"],[\"MS-66\"],[\"MS-68\"],[\"MS-6\"],[\"MS-70\"],[\"MS-71\"],[\"MS-72\"],[\"MS-73\"],[\"MS-74\"],[\"MS-75\"],[\"MS-76\"],[\"MS-77\"],[\"MS-78\"],[\"MS-79\"],[\"MS-80\"],[\"MS-81\"],[\"MS-82\"],[\"MS-83\"],[\"MS-84\"],[\"MS-85\"],[\"MS-86\"],[\"MS-87\"],[\"MS-88\"],[\"MS-89\"],[\"MS-90\"],[\"MS-91\"],[\"MS-92\"],[\"MS-93\"],[\"MS-9\"]],\"hovertemplate\":\"Ligand Category=MS Ligands\\u003cbr\\u003eComponent 1=%{x}\\u003cbr\\u003eComponent 3=%{y}\\u003cbr\\u003eligand=%{customdata[0]}\\u003cextra\\u003e\\u003c\\u002fextra\\u003e\",\"legendgroup\":\"MS Ligands\",\"marker\":{\"color\":\"red\",\"symbol\":\"circle\"},\"mode\":\"markers\",\"name\":\"MS Ligands\",\"orientation\":\"v\",\"showlegend\":true,\"x\":[7.761190720890006,-0.16529163559249632,1.8008561281362419,3.1767108171102536,-0.21379577192918797,0.9055636588735748,1.952421391110335,2.1182233457861264,1.781286642935434,-3.0504552261129776,1.8849489981939573,1.964757849184264,2.444373912791969,2.020132434464909,2.2572533505454504,1.6985939858594443,4.106022459121999,2.194428320704253,1.1764264554698176,2.289797230229715,-5.994086297112094,2.383261414503462,1.3050145505261452,1.3755827486277132,2.406044098341695,2.31559389148746,2.3946472647465975,2.4244279991453523,1.8781915405197434,2.046202406250604,2.53611463737966,-7.101735671396387,2.5668262226141807,1.7609470096724282,5.399211999565862,1.944917785385295,1.7953269969619272,2.279417790625791,1.7447740714657234,2.5528692996650206,2.2070544123674742,2.5620682433774644,3.2634280976177976,1.789343229050877,0.07144930706668831,1.5925897071571793,3.0838403328658615,1.7286300782084976,2.066918705413642,2.105766676911838,1.0757956518890068,2.3823128462030305,3.0587114302575418,1.7715431318358954,3.415412276176119,4.533138849501915,4.8209867407955205,1.3941920467936246,1.7315785533626933,2.0615226047771893,2.5059890387674972,-4.836884115067574,-1.0451570753803892,1.053370749855778,-18.005768424268034,-1.8972265880659545,-17.872686326909243,-18.271760734865556,-1.124856679480475,-17.772195115833735,4.339795492605638,1.3318614465167686,4.958774860439027,-17.15306863705377,-17.62140673031906,-16.0258799475686,2.3097040412028003,3.387411152225804,-16.715602290330246,2.5772230166472836,-16.159370997500222,2.3840243457003782,-17.285433875162525,3.8014573496613933,7.5233745092430855,0.44149317203898847],\"xaxis\":\"x\",\"y\":[8.334699977262193,0.7060635527765678,-2.80778941657238,-0.4227773907889617,-1.3243545470021154,4.861084181348358,-3.1765718751274505,-3.375399449703141,-2.969462692962503,-3.8937452340190397,-3.0602534437166353,-2.6197168980822187,-3.2298994198164217,-2.7444811677951813,-3.1209587128355776,-2.6693692041706125,1.578736380188543,-2.975104626823728,-1.2136905273210372,-3.120094479287629,0.2611658003636029,-2.9063899462351395,-2.3066215273162474,-2.440585960972312,-3.4262001267009503,-2.9354680301271956,-3.154668453327568,-3.150932346071574,-3.2634690432898426,-2.7465857588977394,-2.3015900777734166,9.650314541220332,-3.442612803325466,-2.6467957428794575,8.81100405020087,-2.886922688438002,-2.648514018483247,-3.7195333348657353,-2.295342580077825,-2.3685523289184776,-2.5702171906294193,2.0208205176985157,-1.4886959346386357,-2.6397108758015886,-0.11618563488771702,-1.8579614389160137,-0.5836901564602811,-2.7013019728654264,-3.427858505361873,-3.0168162974035506,-2.5882535198688736,-3.100407375943374,2.3382714938489957,-3.1156070709595247,1.4275089160287564,4.087478348851447,3.6320589782746904,-2.7952901102143652,-2.35112111777774,-2.4889143268821368,6.739746197037485,-7.289395244310411,-1.8790180873363038,-1.255261838535706,-0.49038787527735317,3.029544953863653,-0.5219560413906515,0.0954158992081102,-3.8726660092085865,-0.6611298894551916,6.96713001485926,-1.8975232163223086,6.851724724899563,-1.326545229175906,-0.7154980504795877,1.092144406675297,2.7255912298865814,6.914697196726081,0.8353945385818369,2.2339201211812076,1.6229492984418807,-2.783569716725521,-0.8642060126454557,6.416226547978908,7.45261254328734,-1.7452035337582101],\"yaxis\":\"y\",\"type\":\"scatter\"}],                        {\"template\":{\"data\":{\"histogram2dcontour\":[{\"type\":\"histogram2dcontour\",\"colorbar\":{\"outlinewidth\":0,\"ticks\":\"\"},\"colorscale\":[[0.0,\"#0d0887\"],[0.1111111111111111,\"#46039f\"],[0.2222222222222222,\"#7201a8\"],[0.3333333333333333,\"#9c179e\"],[0.4444444444444444,\"#bd3786\"],[0.5555555555555556,\"#d8576b\"],[0.6666666666666666,\"#ed7953\"],[0.7777777777777778,\"#fb9f3a\"],[0.8888888888888888,\"#fdca26\"],[1.0,\"#f0f921\"]]}],\"choropleth\":[{\"type\":\"choropleth\",\"colorbar\":{\"outlinewidth\":0,\"ticks\":\"\"}}],\"histogram2d\":[{\"type\":\"histogram2d\",\"colorbar\":{\"outlinewidth\":0,\"ticks\":\"\"},\"colorscale\":[[0.0,\"#0d0887\"],[0.1111111111111111,\"#46039f\"],[0.2222222222222222,\"#7201a8\"],[0.3333333333333333,\"#9c179e\"],[0.4444444444444444,\"#bd3786\"],[0.5555555555555556,\"#d8576b\"],[0.6666666666666666,\"#ed7953\"],[0.7777777777777778,\"#fb9f3a\"],[0.8888888888888888,\"#fdca26\"],[1.0,\"#f0f921\"]]}],\"heatmap\":[{\"type\":\"heatmap\",\"colorbar\":{\"outlinewidth\":0,\"ticks\":\"\"},\"colorscale\":[[0.0,\"#0d0887\"],[0.1111111111111111,\"#46039f\"],[0.2222222222222222,\"#7201a8\"],[0.3333333333333333,\"#9c179e\"],[0.4444444444444444,\"#bd3786\"],[0.5555555555555556,\"#d8576b\"],[0.6666666666666666,\"#ed7953\"],[0.7777777777777778,\"#fb9f3a\"],[0.8888888888888888,\"#fdca26\"],[1.0,\"#f0f921\"]]}],\"heatmapgl\":[{\"type\":\"heatmapgl\",\"colorbar\":{\"outlinewidth\":0,\"ticks\":\"\"},\"colorscale\":[[0.0,\"#0d0887\"],[0.1111111111111111,\"#46039f\"],[0.2222222222222222,\"#7201a8\"],[0.3333333333333333,\"#9c179e\"],[0.4444444444444444,\"#bd3786\"],[0.5555555555555556,\"#d8576b\"],[0.6666666666666666,\"#ed7953\"],[0.7777777777777778,\"#fb9f3a\"],[0.8888888888888888,\"#fdca26\"],[1.0,\"#f0f921\"]]}],\"contourcarpet\":[{\"type\":\"contourcarpet\",\"colorbar\":{\"outlinewidth\":0,\"ticks\":\"\"}}],\"contour\":[{\"type\":\"contour\",\"colorbar\":{\"outlinewidth\":0,\"ticks\":\"\"},\"colorscale\":[[0.0,\"#0d0887\"],[0.1111111111111111,\"#46039f\"],[0.2222222222222222,\"#7201a8\"],[0.3333333333333333,\"#9c179e\"],[0.4444444444444444,\"#bd3786\"],[0.5555555555555556,\"#d8576b\"],[0.6666666666666666,\"#ed7953\"],[0.7777777777777778,\"#fb9f3a\"],[0.8888888888888888,\"#fdca26\"],[1.0,\"#f0f921\"]]}],\"surface\":[{\"type\":\"surface\",\"colorbar\":{\"outlinewidth\":0,\"ticks\":\"\"},\"colorscale\":[[0.0,\"#0d0887\"],[0.1111111111111111,\"#46039f\"],[0.2222222222222222,\"#7201a8\"],[0.3333333333333333,\"#9c179e\"],[0.4444444444444444,\"#bd3786\"],[0.5555555555555556,\"#d8576b\"],[0.6666666666666666,\"#ed7953\"],[0.7777777777777778,\"#fb9f3a\"],[0.8888888888888888,\"#fdca26\"],[1.0,\"#f0f921\"]]}],\"mesh3d\":[{\"type\":\"mesh3d\",\"colorbar\":{\"outlinewidth\":0,\"ticks\":\"\"}}],\"scatter\":[{\"fillpattern\":{\"fillmode\":\"overlay\",\"size\":10,\"solidity\":0.2},\"type\":\"scatter\"}],\"parcoords\":[{\"type\":\"parcoords\",\"line\":{\"colorbar\":{\"outlinewidth\":0,\"ticks\":\"\"}}}],\"scatterpolargl\":[{\"type\":\"scatterpolargl\",\"marker\":{\"colorbar\":{\"outlinewidth\":0,\"ticks\":\"\"}}}],\"bar\":[{\"error_x\":{\"color\":\"#2a3f5f\"},\"error_y\":{\"color\":\"#2a3f5f\"},\"marker\":{\"line\":{\"color\":\"#E5ECF6\",\"width\":0.5},\"pattern\":{\"fillmode\":\"overlay\",\"size\":10,\"solidity\":0.2}},\"type\":\"bar\"}],\"scattergeo\":[{\"type\":\"scattergeo\",\"marker\":{\"colorbar\":{\"outlinewidth\":0,\"ticks\":\"\"}}}],\"scatterpolar\":[{\"type\":\"scatterpolar\",\"marker\":{\"colorbar\":{\"outlinewidth\":0,\"ticks\":\"\"}}}],\"histogram\":[{\"marker\":{\"pattern\":{\"fillmode\":\"overlay\",\"size\":10,\"solidity\":0.2}},\"type\":\"histogram\"}],\"scattergl\":[{\"type\":\"scattergl\",\"marker\":{\"colorbar\":{\"outlinewidth\":0,\"ticks\":\"\"}}}],\"scatter3d\":[{\"type\":\"scatter3d\",\"line\":{\"colorbar\":{\"outlinewidth\":0,\"ticks\":\"\"}},\"marker\":{\"colorbar\":{\"outlinewidth\":0,\"ticks\":\"\"}}}],\"scattermapbox\":[{\"type\":\"scattermapbox\",\"marker\":{\"colorbar\":{\"outlinewidth\":0,\"ticks\":\"\"}}}],\"scatterternary\":[{\"type\":\"scatterternary\",\"marker\":{\"colorbar\":{\"outlinewidth\":0,\"ticks\":\"\"}}}],\"scattercarpet\":[{\"type\":\"scattercarpet\",\"marker\":{\"colorbar\":{\"outlinewidth\":0,\"ticks\":\"\"}}}],\"carpet\":[{\"aaxis\":{\"endlinecolor\":\"#2a3f5f\",\"gridcolor\":\"white\",\"linecolor\":\"white\",\"minorgridcolor\":\"white\",\"startlinecolor\":\"#2a3f5f\"},\"baxis\":{\"endlinecolor\":\"#2a3f5f\",\"gridcolor\":\"white\",\"linecolor\":\"white\",\"minorgridcolor\":\"white\",\"startlinecolor\":\"#2a3f5f\"},\"type\":\"carpet\"}],\"table\":[{\"cells\":{\"fill\":{\"color\":\"#EBF0F8\"},\"line\":{\"color\":\"white\"}},\"header\":{\"fill\":{\"color\":\"#C8D4E3\"},\"line\":{\"color\":\"white\"}},\"type\":\"table\"}],\"barpolar\":[{\"marker\":{\"line\":{\"color\":\"#E5ECF6\",\"width\":0.5},\"pattern\":{\"fillmode\":\"overlay\",\"size\":10,\"solidity\":0.2}},\"type\":\"barpolar\"}],\"pie\":[{\"automargin\":true,\"type\":\"pie\"}]},\"layout\":{\"autotypenumbers\":\"strict\",\"colorway\":[\"#636efa\",\"#EF553B\",\"#00cc96\",\"#ab63fa\",\"#FFA15A\",\"#19d3f3\",\"#FF6692\",\"#B6E880\",\"#FF97FF\",\"#FECB52\"],\"font\":{\"color\":\"#2a3f5f\"},\"hovermode\":\"closest\",\"hoverlabel\":{\"align\":\"left\"},\"paper_bgcolor\":\"white\",\"plot_bgcolor\":\"#E5ECF6\",\"polar\":{\"bgcolor\":\"#E5ECF6\",\"angularaxis\":{\"gridcolor\":\"white\",\"linecolor\":\"white\",\"ticks\":\"\"},\"radialaxis\":{\"gridcolor\":\"white\",\"linecolor\":\"white\",\"ticks\":\"\"}},\"ternary\":{\"bgcolor\":\"#E5ECF6\",\"aaxis\":{\"gridcolor\":\"white\",\"linecolor\":\"white\",\"ticks\":\"\"},\"baxis\":{\"gridcolor\":\"white\",\"linecolor\":\"white\",\"ticks\":\"\"},\"caxis\":{\"gridcolor\":\"white\",\"linecolor\":\"white\",\"ticks\":\"\"}},\"coloraxis\":{\"colorbar\":{\"outlinewidth\":0,\"ticks\":\"\"}},\"colorscale\":{\"sequential\":[[0.0,\"#0d0887\"],[0.1111111111111111,\"#46039f\"],[0.2222222222222222,\"#7201a8\"],[0.3333333333333333,\"#9c179e\"],[0.4444444444444444,\"#bd3786\"],[0.5555555555555556,\"#d8576b\"],[0.6666666666666666,\"#ed7953\"],[0.7777777777777778,\"#fb9f3a\"],[0.8888888888888888,\"#fdca26\"],[1.0,\"#f0f921\"]],\"sequentialminus\":[[0.0,\"#0d0887\"],[0.1111111111111111,\"#46039f\"],[0.2222222222222222,\"#7201a8\"],[0.3333333333333333,\"#9c179e\"],[0.4444444444444444,\"#bd3786\"],[0.5555555555555556,\"#d8576b\"],[0.6666666666666666,\"#ed7953\"],[0.7777777777777778,\"#fb9f3a\"],[0.8888888888888888,\"#fdca26\"],[1.0,\"#f0f921\"]],\"diverging\":[[0,\"#8e0152\"],[0.1,\"#c51b7d\"],[0.2,\"#de77ae\"],[0.3,\"#f1b6da\"],[0.4,\"#fde0ef\"],[0.5,\"#f7f7f7\"],[0.6,\"#e6f5d0\"],[0.7,\"#b8e186\"],[0.8,\"#7fbc41\"],[0.9,\"#4d9221\"],[1,\"#276419\"]]},\"xaxis\":{\"gridcolor\":\"white\",\"linecolor\":\"white\",\"ticks\":\"\",\"title\":{\"standoff\":15},\"zerolinecolor\":\"white\",\"automargin\":true,\"zerolinewidth\":2},\"yaxis\":{\"gridcolor\":\"white\",\"linecolor\":\"white\",\"ticks\":\"\",\"title\":{\"standoff\":15},\"zerolinecolor\":\"white\",\"automargin\":true,\"zerolinewidth\":2},\"scene\":{\"xaxis\":{\"backgroundcolor\":\"#E5ECF6\",\"gridcolor\":\"white\",\"linecolor\":\"white\",\"showbackground\":true,\"ticks\":\"\",\"zerolinecolor\":\"white\",\"gridwidth\":2},\"yaxis\":{\"backgroundcolor\":\"#E5ECF6\",\"gridcolor\":\"white\",\"linecolor\":\"white\",\"showbackground\":true,\"ticks\":\"\",\"zerolinecolor\":\"white\",\"gridwidth\":2},\"zaxis\":{\"backgroundcolor\":\"#E5ECF6\",\"gridcolor\":\"white\",\"linecolor\":\"white\",\"showbackground\":true,\"ticks\":\"\",\"zerolinecolor\":\"white\",\"gridwidth\":2}},\"shapedefaults\":{\"line\":{\"color\":\"#2a3f5f\"}},\"annotationdefaults\":{\"arrowcolor\":\"#2a3f5f\",\"arrowhead\":0,\"arrowwidth\":1},\"geo\":{\"bgcolor\":\"white\",\"landcolor\":\"#E5ECF6\",\"subunitcolor\":\"white\",\"showland\":true,\"showlakes\":true,\"lakecolor\":\"white\"},\"title\":{\"x\":0.05},\"mapbox\":{\"style\":\"light\"}}},\"xaxis\":{\"anchor\":\"y\",\"domain\":[0.0,1.0],\"title\":{\"text\":\"Component 1\"}},\"yaxis\":{\"anchor\":\"x\",\"domain\":[0.0,1.0],\"title\":{\"text\":\"Component 3\"}},\"legend\":{\"title\":{\"text\":\"Ligand Categories\"},\"tracegroupgap\":0},\"title\":{\"text\":\"2D PCA Slice: Component 1 vs Component 3\"}},                        {\"responsive\": true}                    ).then(function(){\n",
       "                            \n",
       "var gd = document.getElementById('5dcd8cb4-ad8d-4ec6-8b7b-b978cfc18b24');\n",
       "var x = new MutationObserver(function (mutations, observer) {{\n",
       "        var display = window.getComputedStyle(gd).display;\n",
       "        if (!display || display === 'none') {{\n",
       "            console.log([gd, 'removed!']);\n",
       "            Plotly.purge(gd);\n",
       "            observer.disconnect();\n",
       "        }}\n",
       "}});\n",
       "\n",
       "// Listen for the removal of the full notebook cells\n",
       "var notebookContainer = gd.closest('#notebook-container');\n",
       "if (notebookContainer) {{\n",
       "    x.observe(notebookContainer, {childList: true});\n",
       "}}\n",
       "\n",
       "// Listen for the clearing of the current output cell\n",
       "var outputEl = gd.closest('.output');\n",
       "if (outputEl) {{\n",
       "    x.observe(outputEl, {childList: true});\n",
       "}}\n",
       "\n",
       "                        })                };                });            </script>        </div>"
      ]
     },
     "metadata": {},
     "output_type": "display_data"
    },
    {
     "data": {
      "application/vnd.plotly.v1+json": {
       "data": [
        {
         "customdata": [
          [
           "dcPAMP"
          ],
          [
           "dcpa"
          ],
          [
           "diprpa"
          ]
         ],
         "hovertemplate": "Ligand Category=Other Ligands<br>Component 2=%{x}<br>Component 3=%{y}<br>ligand=%{customdata[0]}<extra></extra>",
         "legendgroup": "Other Ligands",
         "marker": {
          "color": "purple",
          "symbol": "circle"
         },
         "mode": "markers",
         "name": "Other Ligands",
         "orientation": "v",
         "showlegend": true,
         "x": [
          0.45767410651582374,
          -1.7618365688208746,
          -4.137959235999334
         ],
         "xaxis": "x",
         "y": [
          3.937895530181646,
          3.880004643633486,
          4.604089672739802
         ],
         "yaxis": "y",
         "type": "scatter"
        },
        {
         "customdata": [
          [
           "DS-10"
          ],
          [
           "DS-11"
          ],
          [
           "DS-12"
          ],
          [
           "DS-13"
          ],
          [
           "DS-14"
          ],
          [
           "DS-15"
          ],
          [
           "DS-16"
          ],
          [
           "DS-17"
          ],
          [
           "DS-18"
          ],
          [
           "DS-19"
          ],
          [
           "DS-1"
          ],
          [
           "DS-20"
          ],
          [
           "DS-21"
          ],
          [
           "DS-22"
          ],
          [
           "DS-23"
          ],
          [
           "DS-24"
          ],
          [
           "DS-25"
          ],
          [
           "DS-26"
          ],
          [
           "DS-27"
          ],
          [
           "DS-28"
          ],
          [
           "DS-29"
          ],
          [
           "DS-2"
          ],
          [
           "DS-30"
          ],
          [
           "DS-31"
          ],
          [
           "DS-32"
          ],
          [
           "DS-33"
          ],
          [
           "DS-34"
          ],
          [
           "DS-35"
          ],
          [
           "DS-36"
          ],
          [
           "DS-37"
          ],
          [
           "DS-38"
          ],
          [
           "DS-39"
          ],
          [
           "DS-3"
          ],
          [
           "DS-40"
          ],
          [
           "DS-41"
          ],
          [
           "DS-42"
          ],
          [
           "DS-43"
          ],
          [
           "DS-44"
          ],
          [
           "DS-45"
          ],
          [
           "DS-46"
          ],
          [
           "DS-48"
          ],
          [
           "DS-49"
          ],
          [
           "DS-4"
          ],
          [
           "DS-50"
          ],
          [
           "DS-52"
          ],
          [
           "DS-53"
          ],
          [
           "DS-54"
          ],
          [
           "DS-55"
          ],
          [
           "DS-56"
          ],
          [
           "DS-57"
          ],
          [
           "DS-58"
          ],
          [
           "DS-59"
          ],
          [
           "DS-5"
          ],
          [
           "DS-60"
          ],
          [
           "DS-61"
          ],
          [
           "DS-63"
          ],
          [
           "DS-64"
          ],
          [
           "DS-6"
          ],
          [
           "DS-7"
          ],
          [
           "DS-8"
          ],
          [
           "DS-9"
          ]
         ],
         "hovertemplate": "Ligand Category=DS Ligands<br>Component 2=%{x}<br>Component 3=%{y}<br>ligand=%{customdata[0]}<extra></extra>",
         "legendgroup": "DS Ligands",
         "marker": {
          "color": "blue",
          "symbol": "circle"
         },
         "mode": "markers",
         "name": "DS Ligands",
         "orientation": "v",
         "showlegend": true,
         "x": [
          2.0440611791007393,
          1.3512825422124173,
          -0.6981244686280981,
          5.091412096494157,
          1.7123635307566423,
          1.717052798337387,
          4.711236625217412,
          0.076824321857743,
          4.555312764741301,
          13.58743427957792,
          -7.50971916113791,
          2.0319051221528874,
          1.3529010743626342,
          2.6102189679443053,
          2.7040802611899064,
          1.9275759882001489,
          2.959728618305481,
          4.132348826609764,
          5.72177890711973,
          7.965837036361854,
          0.816331374624657,
          -14.702377571568025,
          3.3878175114927154,
          3.0861351201932985,
          3.5897684651993433,
          3.194341086696967,
          1.8801689407262718,
          4.682003180044392,
          0.5248215243094825,
          0.6235202913922532,
          -2.4622417491464357,
          2.852310294649481,
          -0.3661327117919595,
          2.240390284012717,
          -1.3000062388342732,
          6.589875784102835,
          9.597137944062192,
          3.501812943207064,
          10.591901675418669,
          10.503676238766916,
          9.077007346081773,
          10.748929486835243,
          -0.10930162696587446,
          11.58992894018722,
          4.200523969145937,
          -0.5193890564209074,
          11.253487922958943,
          11.28168016091254,
          11.291573639995507,
          6.895502848391661,
          4.27309307780147,
          6.476390384625935,
          1.1024429420230677,
          7.70954731415031,
          6.873651561086243,
          7.868011093198203,
          9.47500469689219,
          4.503719835226968,
          1.8428294187228105,
          2.347368607478559,
          0.5845723736369455
         ],
         "xaxis": "x",
         "y": [
          -3.2112520274515304,
          -3.400544560475301,
          -0.5716640592061177,
          1.3222211931933994,
          -3.2109367117451577,
          -2.7903965642722044,
          -3.612537587086176,
          -3.6884587532753628,
          -2.1156232355681635,
          0.9489051494362355,
          -6.411884734901075,
          -3.0748684396551296,
          -2.6020137986898653,
          -3.602059315772793,
          -3.8889686514445563,
          -2.6496030439288174,
          -4.059852149626989,
          -3.6194982977116505,
          0.4745448295969064,
          2.1776563652819787,
          -1.6607179195862352,
          9.588027432876721,
          -4.135657081982679,
          -3.7506930983298803,
          -4.305532807695996,
          -3.028059092691382,
          -1.8463362189488084,
          -2.1551835979771834,
          -3.8955349671425243,
          -3.9442605755489706,
          -7.574091451592961,
          -2.1512667079226153,
          0.03173062849318781,
          -3.54454265472821,
          -5.853022920324607,
          5.434813249671646,
          -0.7393127592079494,
          -4.006245009973994,
          0.10771440676038095,
          1.3046168635682118,
          13.032260305315504,
          1.0000927012592449,
          -2.4851714133752894,
          0.5968174796918222,
          2.3508300171751606,
          2.7823380186117026,
          1.690961499251512,
          2.184900774242381,
          1.4445110583663028,
          5.032964782048857,
          0.4188033393487537,
          -1.0320932691284461,
          -3.1123808309640184,
          -1.8049442058754803,
          -1.0215817618946048,
          -3.0991036832915966,
          8.287025284490992,
          -1.6724556247203297,
          -2.7948994851368134,
          0.36240688013064265,
          -2.89747840925574
         ],
         "yaxis": "y",
         "type": "scatter"
        },
        {
         "customdata": [
          [
           "MB-100"
          ],
          [
           "MB-101"
          ],
          [
           "MB-102"
          ],
          [
           "MB-103"
          ],
          [
           "MB-104"
          ],
          [
           "MB-105"
          ],
          [
           "MB-106"
          ],
          [
           "MB-107"
          ],
          [
           "MB-108"
          ],
          [
           "MB-109"
          ],
          [
           "MB-10"
          ],
          [
           "MB-110"
          ],
          [
           "MB-111"
          ],
          [
           "MB-112"
          ],
          [
           "MB-113"
          ],
          [
           "MB-114"
          ],
          [
           "MB-115"
          ],
          [
           "MB-116"
          ],
          [
           "MB-117"
          ],
          [
           "MB-118"
          ],
          [
           "MB-119"
          ],
          [
           "MB-11"
          ],
          [
           "MB-120"
          ],
          [
           "MB-121"
          ],
          [
           "MB-122"
          ],
          [
           "MB-123"
          ],
          [
           "MB-124"
          ],
          [
           "MB-125"
          ],
          [
           "MB-126"
          ],
          [
           "MB-127"
          ],
          [
           "MB-128"
          ],
          [
           "MB-129"
          ],
          [
           "MB-12"
          ],
          [
           "MB-130"
          ],
          [
           "MB-131"
          ],
          [
           "MB-132"
          ],
          [
           "MB-133"
          ],
          [
           "MB-134"
          ],
          [
           "MB-135"
          ],
          [
           "MB-136"
          ],
          [
           "MB-137"
          ],
          [
           "MB-139"
          ],
          [
           "MB-13"
          ],
          [
           "MB-140"
          ],
          [
           "MB-143"
          ],
          [
           "MB-14"
          ],
          [
           "MB-15"
          ],
          [
           "MB-16"
          ],
          [
           "MB-18"
          ],
          [
           "MB-19"
          ],
          [
           "MB-1"
          ],
          [
           "MB-20"
          ],
          [
           "MB-21"
          ],
          [
           "MB-22"
          ],
          [
           "MB-23"
          ],
          [
           "MB-24"
          ],
          [
           "MB-25"
          ],
          [
           "MB-26"
          ],
          [
           "MB-27"
          ],
          [
           "MB-28"
          ],
          [
           "MB-29"
          ],
          [
           "MB-2"
          ],
          [
           "MB-30"
          ],
          [
           "MB-31"
          ],
          [
           "MB-32"
          ],
          [
           "MB-33"
          ],
          [
           "MB-34"
          ],
          [
           "MB-35"
          ],
          [
           "MB-37"
          ],
          [
           "MB-38"
          ],
          [
           "MB-39"
          ],
          [
           "MB-3"
          ],
          [
           "MB-40"
          ],
          [
           "MB-41"
          ],
          [
           "MB-42"
          ],
          [
           "MB-43"
          ],
          [
           "MB-44"
          ],
          [
           "MB-45"
          ],
          [
           "MB-46"
          ],
          [
           "MB-47"
          ],
          [
           "MB-48"
          ],
          [
           "MB-49"
          ],
          [
           "MB-4"
          ],
          [
           "MB-50"
          ],
          [
           "MB-51"
          ],
          [
           "MB-52"
          ],
          [
           "MB-53"
          ],
          [
           "MB-54"
          ],
          [
           "MB-55"
          ],
          [
           "MB-56"
          ],
          [
           "MB-57"
          ],
          [
           "MB-58"
          ],
          [
           "MB-59"
          ],
          [
           "MB-5"
          ],
          [
           "MB-60"
          ],
          [
           "MB-61"
          ],
          [
           "MB-62"
          ],
          [
           "MB-63"
          ],
          [
           "MB-64"
          ],
          [
           "MB-65"
          ],
          [
           "MB-66"
          ],
          [
           "MB-67"
          ],
          [
           "MB-68"
          ],
          [
           "MB-69"
          ],
          [
           "MB-6"
          ],
          [
           "MB-70"
          ],
          [
           "MB-71"
          ],
          [
           "MB-72"
          ],
          [
           "MB-73"
          ],
          [
           "MB-74"
          ],
          [
           "MB-75"
          ],
          [
           "MB-76"
          ],
          [
           "MB-77"
          ],
          [
           "MB-78"
          ],
          [
           "MB-79"
          ],
          [
           "MB-7"
          ],
          [
           "MB-80"
          ],
          [
           "MB-81"
          ],
          [
           "MB-82"
          ],
          [
           "MB-83"
          ],
          [
           "MB-84"
          ],
          [
           "MB-85"
          ],
          [
           "MB-86"
          ],
          [
           "MB-87"
          ],
          [
           "MB-88"
          ],
          [
           "MB-89"
          ],
          [
           "MB-8"
          ],
          [
           "MB-90"
          ],
          [
           "MB-91"
          ],
          [
           "MB-92"
          ],
          [
           "MB-93"
          ],
          [
           "MB-94"
          ],
          [
           "MB-95"
          ],
          [
           "MB-96"
          ],
          [
           "MB-97"
          ],
          [
           "MB-98"
          ],
          [
           "MB-9"
          ]
         ],
         "hovertemplate": "Ligand Category=MB Ligands<br>Component 2=%{x}<br>Component 3=%{y}<br>ligand=%{customdata[0]}<extra></extra>",
         "legendgroup": "MB Ligands",
         "marker": {
          "color": "green",
          "symbol": "circle"
         },
         "mode": "markers",
         "name": "MB Ligands",
         "orientation": "v",
         "showlegend": true,
         "x": [
          10.08704135167424,
          -1.7808714983275271,
          3.8291660615940173,
          -0.44955020082899505,
          -1.061858334922549,
          -2.3625014083330633,
          -0.8465048406072085,
          -2.9264768276949575,
          0.8582181687746897,
          0.6259200678991236,
          -5.024939836314368,
          1.907278590429361,
          3.244980981888434,
          -1.367101759971555,
          1.366832247253986,
          4.210065524308132,
          -3.34939311955755,
          -5.651189712221407,
          -6.647413415351095,
          2.2694483669283336,
          -4.411727682118164,
          -3.5147770637404037,
          1.8015092269379447,
          4.230090147378275,
          -3.7288893125929135,
          -3.6928198229249696,
          2.589873150460893,
          4.475274068003479,
          3.1338193653728417,
          -7.9035692667359,
          3.6756705431222922,
          -2.2242825706272753,
          -3.4458011633425603,
          0.4040475642389086,
          -5.208752862478987,
          2.2718108371638954,
          -9.286093245163372,
          -4.718590969437979,
          -1.6102434006429873,
          0.8786138269845755,
          -4.14171745723142,
          -11.317134561083028,
          -6.229194760004262,
          1.4406461697258408,
          -0.29721698203422886,
          -4.495372656119755,
          -6.7147811785505445,
          -2.701511925728354,
          -2.0386888604555122,
          -5.633466466613283,
          -9.459806781812427,
          -6.620035566951776,
          -6.212455015653195,
          -3.7845881942313064,
          -2.3541825200188606,
          -5.839906564962513,
          -4.356696136194881,
          -1.5372767550927733,
          -20.768747599324694,
          -2.4213745036990755,
          -1.134210117054007,
          -7.242234871303837,
          -12.588157330560952,
          -4.090943156460209,
          -3.001154249105066,
          -3.343445462016603,
          -2.218697250462664,
          -1.6835701182877603,
          -3.4446258407959087,
          -5.778374403906536,
          -3.7168518051363306,
          -9.705116147095676,
          -0.9358605138672899,
          -3.208759082818756,
          -0.45841078811636593,
          -1.6562621191753986,
          -4.807711136719879,
          1.6683090748302543,
          4.03857990444302,
          7.184678486833662,
          -3.912909874756167,
          -2.466456149864744,
          -6.009835335461117,
          -3.8152366351843097,
          -3.3537746355548927,
          -4.756194024403953,
          -2.857703892582985,
          -0.0806734521760571,
          2.4806053944247024,
          -3.0856487339315226,
          -1.5593144425848804,
          -3.3637831972949406,
          -1.6694517132891613,
          -7.245150769817987,
          0.4221079812807216,
          -3.80916600544579,
          1.2745779708854357,
          0.5007936823454333,
          -1.3219353826373068,
          -8.781444651925518,
          -2.3588662712257875,
          -1.57053806474383,
          -2.5093418770607396,
          -1.9532876980270224,
          -6.343161609785546,
          -3.3276765597392632,
          -2.7807190605688517,
          -0.8373837887352988,
          -2.411010736353665,
          -0.7977771673368605,
          -0.42874223227264774,
          -1.430353173877145,
          -2.321748133443178,
          -1.7705289927780958,
          -3.5997924165203945,
          -7.568008661896073,
          -0.7110457266400297,
          -1.7607073266515108,
          -1.345409624796186,
          -1.4347704575049967,
          -1.3930882965941085,
          0.8648255743544192,
          -0.013084543559641598,
          -4.465715451739088,
          -0.3991020791959865,
          -0.17491058347858193,
          -6.241104943299619,
          0.42209436105763415,
          -3.622060086054275,
          -1.42393624072745,
          -4.936325399196856,
          -3.2736589846035553,
          -1.2704354322511076,
          -2.27182834976508,
          -2.117840737719705,
          -4.9437578842148815,
          -4.317833056225235
         ],
         "xaxis": "x",
         "y": [
          9.433816359894433,
          -0.47696306581072956,
          1.1811654781062633,
          -1.8183250581581598,
          2.3755845788955146,
          8.430562466791375,
          -0.8992627059568479,
          5.897423035808938,
          1.9426662946543887,
          -3.21776627319327,
          -0.2745498472284039,
          5.8909974323800585,
          3.7564125754831887,
          -2.5840196890663285,
          -0.14034124839486314,
          4.3996090798679495,
          0.31135219257843255,
          1.0575091897403726,
          1.2031202942055919,
          -0.6185644853356276,
          5.727459165480819,
          -3.4165015725121077,
          -2.2346237091172667,
          1.0089813385931485,
          2.364036705933482,
          3.587668709335289,
          2.160164320080748,
          4.67356681210938,
          -0.6243884949810484,
          -0.8879357817411735,
          8.997771504010665,
          3.4217062892687324,
          1.4139228365096697,
          9.960954690643657,
          2.2643527071510126,
          4.320041066247478,
          6.043932925652705,
          2.529934319907465,
          -2.2492042569542305,
          9.53384321159816,
          2.3077711197571515,
          7.33558589078526,
          -4.0227168683687005,
          2.0037093054902417,
          6.738055404920977,
          -0.28801674724178244,
          -7.942228494448232,
          5.269419846243446,
          4.449079111847564,
          -4.968856388942352,
          -6.644584665958964,
          -3.9372943951404005,
          -3.89378313869112,
          -3.157343903955113,
          1.2602530308491646,
          -4.162287217008696,
          1.8732624847939507,
          7.80942901263165,
          10.108374449826126,
          -4.831243292013533,
          0.607467920572187,
          -6.933623720946154,
          1.7317250183584318,
          -0.8538899403543647,
          -2.8399271579376295,
          0.4829541135130752,
          0.03563499412610588,
          1.1364344681195404,
          -2.594420229496266,
          -0.640784992126355,
          -3.9175377386014714,
          -0.9492950448770462,
          4.018514824837208,
          -2.640915723577495,
          4.083876072665479,
          -0.1301351774833992,
          -1.9528913207489338,
          -2.7296505112413607,
          -0.9410199840744468,
          5.47636644229781,
          -3.0407308406263396,
          -2.847768570710936,
          -1.197036910376029,
          -2.845517482169895,
          -0.8947598078488836,
          1.3159917404860209,
          -4.8679242022125235,
          -0.4930285915010054,
          -0.15642145732344354,
          -1.5034555074176608,
          0.9481473643231502,
          2.7063276788238535,
          1.09209651178098,
          -3.814755156766597,
          4.521097714141249,
          5.4050166667005035,
          3.18514487179329,
          3.1201884786820555,
          -0.6957495465747123,
          6.883598905142585,
          0.48087213465511025,
          -2.5066972899932476,
          -1.0725005702185095,
          -0.8143788011808163,
          -1.7963763018275534,
          -1.1015626274963064,
          -1.596174541298204,
          1.3386981154899207,
          -2.8694896744416822,
          0.7469208591696774,
          4.325230660641013,
          5.881001884968209,
          -1.0712585468320437,
          0.06659210300302046,
          -3.4832175164183212,
          -7.023321011191304,
          4.75411323072752,
          -2.393264556359717,
          -2.310707674029017,
          -2.5504571667032123,
          1.089254082059922,
          6.2815619584025315,
          4.052050027499999,
          -4.937922525881234,
          -2.713344720503814,
          -3.4085869808489755,
          0.17946642416303366,
          -0.41630377881828995,
          0.1374036426507813,
          7.472926959696711,
          4.397360220775228,
          -3.9062731443380967,
          -1.8934711138354146,
          2.272095295853382,
          2.378937098723031,
          5.272317079222447,
          2.563605744295294
         ],
         "yaxis": "y",
         "type": "scatter"
        },
        {
         "customdata": [
          [
           "MS-10"
          ],
          [
           "MS-11"
          ],
          [
           "MS-12"
          ],
          [
           "MS-13"
          ],
          [
           "MS-14"
          ],
          [
           "MS-15"
          ],
          [
           "MS-16"
          ],
          [
           "MS-17"
          ],
          [
           "MS-19"
          ],
          [
           "MS-1"
          ],
          [
           "MS-20"
          ],
          [
           "MS-21"
          ],
          [
           "MS-22"
          ],
          [
           "MS-23"
          ],
          [
           "MS-24"
          ],
          [
           "MS-25"
          ],
          [
           "MS-26"
          ],
          [
           "MS-27"
          ],
          [
           "MS-28"
          ],
          [
           "MS-29"
          ],
          [
           "MS-2"
          ],
          [
           "MS-30"
          ],
          [
           "MS-31"
          ],
          [
           "MS-32"
          ],
          [
           "MS-33"
          ],
          [
           "MS-34"
          ],
          [
           "MS-35"
          ],
          [
           "MS-36"
          ],
          [
           "MS-37"
          ],
          [
           "MS-38"
          ],
          [
           "MS-39"
          ],
          [
           "MS-3"
          ],
          [
           "MS-40"
          ],
          [
           "MS-41"
          ],
          [
           "MS-42"
          ],
          [
           "MS-44"
          ],
          [
           "MS-45"
          ],
          [
           "MS-46"
          ],
          [
           "MS-47"
          ],
          [
           "MS-48"
          ],
          [
           "MS-49"
          ],
          [
           "MS-4"
          ],
          [
           "MS-50"
          ],
          [
           "MS-51"
          ],
          [
           "MS-52"
          ],
          [
           "MS-53"
          ],
          [
           "MS-54"
          ],
          [
           "MS-55"
          ],
          [
           "MS-56"
          ],
          [
           "MS-57"
          ],
          [
           "MS-58"
          ],
          [
           "MS-59"
          ],
          [
           "MS-5"
          ],
          [
           "MS-60"
          ],
          [
           "MS-61"
          ],
          [
           "MS-62"
          ],
          [
           "MS-64"
          ],
          [
           "MS-65"
          ],
          [
           "MS-66"
          ],
          [
           "MS-68"
          ],
          [
           "MS-6"
          ],
          [
           "MS-70"
          ],
          [
           "MS-71"
          ],
          [
           "MS-72"
          ],
          [
           "MS-73"
          ],
          [
           "MS-74"
          ],
          [
           "MS-75"
          ],
          [
           "MS-76"
          ],
          [
           "MS-77"
          ],
          [
           "MS-78"
          ],
          [
           "MS-79"
          ],
          [
           "MS-80"
          ],
          [
           "MS-81"
          ],
          [
           "MS-82"
          ],
          [
           "MS-83"
          ],
          [
           "MS-84"
          ],
          [
           "MS-85"
          ],
          [
           "MS-86"
          ],
          [
           "MS-87"
          ],
          [
           "MS-88"
          ],
          [
           "MS-89"
          ],
          [
           "MS-90"
          ],
          [
           "MS-91"
          ],
          [
           "MS-92"
          ],
          [
           "MS-93"
          ],
          [
           "MS-9"
          ]
         ],
         "hovertemplate": "Ligand Category=MS Ligands<br>Component 2=%{x}<br>Component 3=%{y}<br>ligand=%{customdata[0]}<extra></extra>",
         "legendgroup": "MS Ligands",
         "marker": {
          "color": "red",
          "symbol": "circle"
         },
         "mode": "markers",
         "name": "MS Ligands",
         "orientation": "v",
         "showlegend": true,
         "x": [
          4.0304415829573115,
          3.257603830843246,
          0.549404607841672,
          1.1741671054894947,
          -1.137295253040434,
          -0.8828621739875125,
          0.6279612201396556,
          0.8228449044313415,
          2.0650712497245007,
          -5.2975076426115075,
          1.5298199306106777,
          0.9806402232831917,
          2.1530720864267776,
          1.139188644593218,
          1.9297736417698057,
          2.4185884309829775,
          3.3327007078327044,
          1.3961953503073739,
          0.8243483321955024,
          1.552747304822112,
          -0.9172764989145237,
          2.2708375331742165,
          0.668453824333374,
          0.9511029337909267,
          2.2137627247945546,
          1.4343230835568201,
          2.038260678120762,
          1.954179723734326,
          1.5508090328289317,
          1.1991659745299097,
          1.3702771667304587,
          -18.240065583099895,
          2.2484012181796116,
          1.6485622109270495,
          1.5258124528880932,
          1.9284218871752743,
          1.1413174449492665,
          4.052340021457491,
          2.099100207592274,
          1.3651286065803185,
          1.6905195170249294,
          1.498451046119364,
          4.060492433089203,
          1.1348658068505315,
          -0.62366765093278,
          1.2186686249019592,
          1.5462449066538433,
          4.235436180021501,
          1.7761040138179642,
          2.572187276416359,
          4.39736805678806,
          2.736275604521187,
          1.2725641201526514,
          1.5389548685330756,
          2.1480552686017633,
          2.780616003118446,
          3.4362401525683004,
          3.866306569864182,
          2.75828571134124,
          2.261012830797809,
          3.7485128118236886,
          -5.415928781511855,
          -1.9720650281432344,
          -7.634999315986222,
          -0.22010440233195833,
          -2.453328712960326,
          0.16884497547823873,
          -0.6983069727041569,
          -0.3914159106413683,
          0.8445912609000564,
          -1.28269845104316,
          -6.682605441900045,
          -0.08538833118474555,
          6.826287919523914,
          0.46177031257308326,
          7.214182484146752,
          -2.6344492018951873,
          2.705681012062226,
          7.907711898462435,
          -1.2246103831896655,
          6.903581848954785,
          2.624355872382937,
          7.160849021355165,
          3.6335722896189435,
          1.4792964530219128,
          -1.2501171835185323
         ],
         "xaxis": "x",
         "y": [
          8.334699977262193,
          0.7060635527765678,
          -2.80778941657238,
          -0.4227773907889617,
          -1.3243545470021154,
          4.861084181348358,
          -3.1765718751274505,
          -3.375399449703141,
          -2.969462692962503,
          -3.8937452340190397,
          -3.0602534437166353,
          -2.6197168980822187,
          -3.2298994198164217,
          -2.7444811677951813,
          -3.1209587128355776,
          -2.6693692041706125,
          1.578736380188543,
          -2.975104626823728,
          -1.2136905273210372,
          -3.120094479287629,
          0.2611658003636029,
          -2.9063899462351395,
          -2.3066215273162474,
          -2.440585960972312,
          -3.4262001267009503,
          -2.9354680301271956,
          -3.154668453327568,
          -3.150932346071574,
          -3.2634690432898426,
          -2.7465857588977394,
          -2.3015900777734166,
          9.650314541220332,
          -3.442612803325466,
          -2.6467957428794575,
          8.81100405020087,
          -2.886922688438002,
          -2.648514018483247,
          -3.7195333348657353,
          -2.295342580077825,
          -2.3685523289184776,
          -2.5702171906294193,
          2.0208205176985157,
          -1.4886959346386357,
          -2.6397108758015886,
          -0.11618563488771702,
          -1.8579614389160137,
          -0.5836901564602811,
          -2.7013019728654264,
          -3.427858505361873,
          -3.0168162974035506,
          -2.5882535198688736,
          -3.100407375943374,
          2.3382714938489957,
          -3.1156070709595247,
          1.4275089160287564,
          4.087478348851447,
          3.6320589782746904,
          -2.7952901102143652,
          -2.35112111777774,
          -2.4889143268821368,
          6.739746197037485,
          -7.289395244310411,
          -1.8790180873363038,
          -1.255261838535706,
          -0.49038787527735317,
          3.029544953863653,
          -0.5219560413906515,
          0.0954158992081102,
          -3.8726660092085865,
          -0.6611298894551916,
          6.96713001485926,
          -1.8975232163223086,
          6.851724724899563,
          -1.326545229175906,
          -0.7154980504795877,
          1.092144406675297,
          2.7255912298865814,
          6.914697196726081,
          0.8353945385818369,
          2.2339201211812076,
          1.6229492984418807,
          -2.783569716725521,
          -0.8642060126454557,
          6.416226547978908,
          7.45261254328734,
          -1.7452035337582101
         ],
         "yaxis": "y",
         "type": "scatter"
        }
       ],
       "layout": {
        "template": {
         "data": {
          "histogram2dcontour": [
           {
            "type": "histogram2dcontour",
            "colorbar": {
             "outlinewidth": 0,
             "ticks": ""
            },
            "colorscale": [
             [
              0.0,
              "#0d0887"
             ],
             [
              0.1111111111111111,
              "#46039f"
             ],
             [
              0.2222222222222222,
              "#7201a8"
             ],
             [
              0.3333333333333333,
              "#9c179e"
             ],
             [
              0.4444444444444444,
              "#bd3786"
             ],
             [
              0.5555555555555556,
              "#d8576b"
             ],
             [
              0.6666666666666666,
              "#ed7953"
             ],
             [
              0.7777777777777778,
              "#fb9f3a"
             ],
             [
              0.8888888888888888,
              "#fdca26"
             ],
             [
              1.0,
              "#f0f921"
             ]
            ]
           }
          ],
          "choropleth": [
           {
            "type": "choropleth",
            "colorbar": {
             "outlinewidth": 0,
             "ticks": ""
            }
           }
          ],
          "histogram2d": [
           {
            "type": "histogram2d",
            "colorbar": {
             "outlinewidth": 0,
             "ticks": ""
            },
            "colorscale": [
             [
              0.0,
              "#0d0887"
             ],
             [
              0.1111111111111111,
              "#46039f"
             ],
             [
              0.2222222222222222,
              "#7201a8"
             ],
             [
              0.3333333333333333,
              "#9c179e"
             ],
             [
              0.4444444444444444,
              "#bd3786"
             ],
             [
              0.5555555555555556,
              "#d8576b"
             ],
             [
              0.6666666666666666,
              "#ed7953"
             ],
             [
              0.7777777777777778,
              "#fb9f3a"
             ],
             [
              0.8888888888888888,
              "#fdca26"
             ],
             [
              1.0,
              "#f0f921"
             ]
            ]
           }
          ],
          "heatmap": [
           {
            "type": "heatmap",
            "colorbar": {
             "outlinewidth": 0,
             "ticks": ""
            },
            "colorscale": [
             [
              0.0,
              "#0d0887"
             ],
             [
              0.1111111111111111,
              "#46039f"
             ],
             [
              0.2222222222222222,
              "#7201a8"
             ],
             [
              0.3333333333333333,
              "#9c179e"
             ],
             [
              0.4444444444444444,
              "#bd3786"
             ],
             [
              0.5555555555555556,
              "#d8576b"
             ],
             [
              0.6666666666666666,
              "#ed7953"
             ],
             [
              0.7777777777777778,
              "#fb9f3a"
             ],
             [
              0.8888888888888888,
              "#fdca26"
             ],
             [
              1.0,
              "#f0f921"
             ]
            ]
           }
          ],
          "heatmapgl": [
           {
            "type": "heatmapgl",
            "colorbar": {
             "outlinewidth": 0,
             "ticks": ""
            },
            "colorscale": [
             [
              0.0,
              "#0d0887"
             ],
             [
              0.1111111111111111,
              "#46039f"
             ],
             [
              0.2222222222222222,
              "#7201a8"
             ],
             [
              0.3333333333333333,
              "#9c179e"
             ],
             [
              0.4444444444444444,
              "#bd3786"
             ],
             [
              0.5555555555555556,
              "#d8576b"
             ],
             [
              0.6666666666666666,
              "#ed7953"
             ],
             [
              0.7777777777777778,
              "#fb9f3a"
             ],
             [
              0.8888888888888888,
              "#fdca26"
             ],
             [
              1.0,
              "#f0f921"
             ]
            ]
           }
          ],
          "contourcarpet": [
           {
            "type": "contourcarpet",
            "colorbar": {
             "outlinewidth": 0,
             "ticks": ""
            }
           }
          ],
          "contour": [
           {
            "type": "contour",
            "colorbar": {
             "outlinewidth": 0,
             "ticks": ""
            },
            "colorscale": [
             [
              0.0,
              "#0d0887"
             ],
             [
              0.1111111111111111,
              "#46039f"
             ],
             [
              0.2222222222222222,
              "#7201a8"
             ],
             [
              0.3333333333333333,
              "#9c179e"
             ],
             [
              0.4444444444444444,
              "#bd3786"
             ],
             [
              0.5555555555555556,
              "#d8576b"
             ],
             [
              0.6666666666666666,
              "#ed7953"
             ],
             [
              0.7777777777777778,
              "#fb9f3a"
             ],
             [
              0.8888888888888888,
              "#fdca26"
             ],
             [
              1.0,
              "#f0f921"
             ]
            ]
           }
          ],
          "surface": [
           {
            "type": "surface",
            "colorbar": {
             "outlinewidth": 0,
             "ticks": ""
            },
            "colorscale": [
             [
              0.0,
              "#0d0887"
             ],
             [
              0.1111111111111111,
              "#46039f"
             ],
             [
              0.2222222222222222,
              "#7201a8"
             ],
             [
              0.3333333333333333,
              "#9c179e"
             ],
             [
              0.4444444444444444,
              "#bd3786"
             ],
             [
              0.5555555555555556,
              "#d8576b"
             ],
             [
              0.6666666666666666,
              "#ed7953"
             ],
             [
              0.7777777777777778,
              "#fb9f3a"
             ],
             [
              0.8888888888888888,
              "#fdca26"
             ],
             [
              1.0,
              "#f0f921"
             ]
            ]
           }
          ],
          "mesh3d": [
           {
            "type": "mesh3d",
            "colorbar": {
             "outlinewidth": 0,
             "ticks": ""
            }
           }
          ],
          "scatter": [
           {
            "fillpattern": {
             "fillmode": "overlay",
             "size": 10,
             "solidity": 0.2
            },
            "type": "scatter"
           }
          ],
          "parcoords": [
           {
            "type": "parcoords",
            "line": {
             "colorbar": {
              "outlinewidth": 0,
              "ticks": ""
             }
            }
           }
          ],
          "scatterpolargl": [
           {
            "type": "scatterpolargl",
            "marker": {
             "colorbar": {
              "outlinewidth": 0,
              "ticks": ""
             }
            }
           }
          ],
          "bar": [
           {
            "error_x": {
             "color": "#2a3f5f"
            },
            "error_y": {
             "color": "#2a3f5f"
            },
            "marker": {
             "line": {
              "color": "#E5ECF6",
              "width": 0.5
             },
             "pattern": {
              "fillmode": "overlay",
              "size": 10,
              "solidity": 0.2
             }
            },
            "type": "bar"
           }
          ],
          "scattergeo": [
           {
            "type": "scattergeo",
            "marker": {
             "colorbar": {
              "outlinewidth": 0,
              "ticks": ""
             }
            }
           }
          ],
          "scatterpolar": [
           {
            "type": "scatterpolar",
            "marker": {
             "colorbar": {
              "outlinewidth": 0,
              "ticks": ""
             }
            }
           }
          ],
          "histogram": [
           {
            "marker": {
             "pattern": {
              "fillmode": "overlay",
              "size": 10,
              "solidity": 0.2
             }
            },
            "type": "histogram"
           }
          ],
          "scattergl": [
           {
            "type": "scattergl",
            "marker": {
             "colorbar": {
              "outlinewidth": 0,
              "ticks": ""
             }
            }
           }
          ],
          "scatter3d": [
           {
            "type": "scatter3d",
            "line": {
             "colorbar": {
              "outlinewidth": 0,
              "ticks": ""
             }
            },
            "marker": {
             "colorbar": {
              "outlinewidth": 0,
              "ticks": ""
             }
            }
           }
          ],
          "scattermapbox": [
           {
            "type": "scattermapbox",
            "marker": {
             "colorbar": {
              "outlinewidth": 0,
              "ticks": ""
             }
            }
           }
          ],
          "scatterternary": [
           {
            "type": "scatterternary",
            "marker": {
             "colorbar": {
              "outlinewidth": 0,
              "ticks": ""
             }
            }
           }
          ],
          "scattercarpet": [
           {
            "type": "scattercarpet",
            "marker": {
             "colorbar": {
              "outlinewidth": 0,
              "ticks": ""
             }
            }
           }
          ],
          "carpet": [
           {
            "aaxis": {
             "endlinecolor": "#2a3f5f",
             "gridcolor": "white",
             "linecolor": "white",
             "minorgridcolor": "white",
             "startlinecolor": "#2a3f5f"
            },
            "baxis": {
             "endlinecolor": "#2a3f5f",
             "gridcolor": "white",
             "linecolor": "white",
             "minorgridcolor": "white",
             "startlinecolor": "#2a3f5f"
            },
            "type": "carpet"
           }
          ],
          "table": [
           {
            "cells": {
             "fill": {
              "color": "#EBF0F8"
             },
             "line": {
              "color": "white"
             }
            },
            "header": {
             "fill": {
              "color": "#C8D4E3"
             },
             "line": {
              "color": "white"
             }
            },
            "type": "table"
           }
          ],
          "barpolar": [
           {
            "marker": {
             "line": {
              "color": "#E5ECF6",
              "width": 0.5
             },
             "pattern": {
              "fillmode": "overlay",
              "size": 10,
              "solidity": 0.2
             }
            },
            "type": "barpolar"
           }
          ],
          "pie": [
           {
            "automargin": true,
            "type": "pie"
           }
          ]
         },
         "layout": {
          "autotypenumbers": "strict",
          "colorway": [
           "#636efa",
           "#EF553B",
           "#00cc96",
           "#ab63fa",
           "#FFA15A",
           "#19d3f3",
           "#FF6692",
           "#B6E880",
           "#FF97FF",
           "#FECB52"
          ],
          "font": {
           "color": "#2a3f5f"
          },
          "hovermode": "closest",
          "hoverlabel": {
           "align": "left"
          },
          "paper_bgcolor": "white",
          "plot_bgcolor": "#E5ECF6",
          "polar": {
           "bgcolor": "#E5ECF6",
           "angularaxis": {
            "gridcolor": "white",
            "linecolor": "white",
            "ticks": ""
           },
           "radialaxis": {
            "gridcolor": "white",
            "linecolor": "white",
            "ticks": ""
           }
          },
          "ternary": {
           "bgcolor": "#E5ECF6",
           "aaxis": {
            "gridcolor": "white",
            "linecolor": "white",
            "ticks": ""
           },
           "baxis": {
            "gridcolor": "white",
            "linecolor": "white",
            "ticks": ""
           },
           "caxis": {
            "gridcolor": "white",
            "linecolor": "white",
            "ticks": ""
           }
          },
          "coloraxis": {
           "colorbar": {
            "outlinewidth": 0,
            "ticks": ""
           }
          },
          "colorscale": {
           "sequential": [
            [
             0.0,
             "#0d0887"
            ],
            [
             0.1111111111111111,
             "#46039f"
            ],
            [
             0.2222222222222222,
             "#7201a8"
            ],
            [
             0.3333333333333333,
             "#9c179e"
            ],
            [
             0.4444444444444444,
             "#bd3786"
            ],
            [
             0.5555555555555556,
             "#d8576b"
            ],
            [
             0.6666666666666666,
             "#ed7953"
            ],
            [
             0.7777777777777778,
             "#fb9f3a"
            ],
            [
             0.8888888888888888,
             "#fdca26"
            ],
            [
             1.0,
             "#f0f921"
            ]
           ],
           "sequentialminus": [
            [
             0.0,
             "#0d0887"
            ],
            [
             0.1111111111111111,
             "#46039f"
            ],
            [
             0.2222222222222222,
             "#7201a8"
            ],
            [
             0.3333333333333333,
             "#9c179e"
            ],
            [
             0.4444444444444444,
             "#bd3786"
            ],
            [
             0.5555555555555556,
             "#d8576b"
            ],
            [
             0.6666666666666666,
             "#ed7953"
            ],
            [
             0.7777777777777778,
             "#fb9f3a"
            ],
            [
             0.8888888888888888,
             "#fdca26"
            ],
            [
             1.0,
             "#f0f921"
            ]
           ],
           "diverging": [
            [
             0,
             "#8e0152"
            ],
            [
             0.1,
             "#c51b7d"
            ],
            [
             0.2,
             "#de77ae"
            ],
            [
             0.3,
             "#f1b6da"
            ],
            [
             0.4,
             "#fde0ef"
            ],
            [
             0.5,
             "#f7f7f7"
            ],
            [
             0.6,
             "#e6f5d0"
            ],
            [
             0.7,
             "#b8e186"
            ],
            [
             0.8,
             "#7fbc41"
            ],
            [
             0.9,
             "#4d9221"
            ],
            [
             1,
             "#276419"
            ]
           ]
          },
          "xaxis": {
           "gridcolor": "white",
           "linecolor": "white",
           "ticks": "",
           "title": {
            "standoff": 15
           },
           "zerolinecolor": "white",
           "automargin": true,
           "zerolinewidth": 2
          },
          "yaxis": {
           "gridcolor": "white",
           "linecolor": "white",
           "ticks": "",
           "title": {
            "standoff": 15
           },
           "zerolinecolor": "white",
           "automargin": true,
           "zerolinewidth": 2
          },
          "scene": {
           "xaxis": {
            "backgroundcolor": "#E5ECF6",
            "gridcolor": "white",
            "linecolor": "white",
            "showbackground": true,
            "ticks": "",
            "zerolinecolor": "white",
            "gridwidth": 2
           },
           "yaxis": {
            "backgroundcolor": "#E5ECF6",
            "gridcolor": "white",
            "linecolor": "white",
            "showbackground": true,
            "ticks": "",
            "zerolinecolor": "white",
            "gridwidth": 2
           },
           "zaxis": {
            "backgroundcolor": "#E5ECF6",
            "gridcolor": "white",
            "linecolor": "white",
            "showbackground": true,
            "ticks": "",
            "zerolinecolor": "white",
            "gridwidth": 2
           }
          },
          "shapedefaults": {
           "line": {
            "color": "#2a3f5f"
           }
          },
          "annotationdefaults": {
           "arrowcolor": "#2a3f5f",
           "arrowhead": 0,
           "arrowwidth": 1
          },
          "geo": {
           "bgcolor": "white",
           "landcolor": "#E5ECF6",
           "subunitcolor": "white",
           "showland": true,
           "showlakes": true,
           "lakecolor": "white"
          },
          "title": {
           "x": 0.05
          },
          "mapbox": {
           "style": "light"
          }
         }
        },
        "xaxis": {
         "anchor": "y",
         "domain": [
          0.0,
          1.0
         ],
         "title": {
          "text": "Component 2"
         }
        },
        "yaxis": {
         "anchor": "x",
         "domain": [
          0.0,
          1.0
         ],
         "title": {
          "text": "Component 3"
         }
        },
        "legend": {
         "title": {
          "text": "Ligand Categories"
         },
         "tracegroupgap": 0
        },
        "title": {
         "text": "2D PCA Slice: Component 2 vs Component 3"
        }
       },
       "config": {
        "plotlyServerURL": "https://plot.ly"
       }
      },
      "text/html": [
       "<div>                            <div id=\"c2bd6a5b-a422-4d36-a86f-22f3407afb3d\" class=\"plotly-graph-div\" style=\"height:525px; width:100%;\"></div>            <script type=\"text/javascript\">                require([\"plotly\"], function(Plotly) {                    window.PLOTLYENV=window.PLOTLYENV || {};                                    if (document.getElementById(\"c2bd6a5b-a422-4d36-a86f-22f3407afb3d\")) {                    Plotly.newPlot(                        \"c2bd6a5b-a422-4d36-a86f-22f3407afb3d\",                        [{\"customdata\":[[\"dcPAMP\"],[\"dcpa\"],[\"diprpa\"]],\"hovertemplate\":\"Ligand Category=Other Ligands\\u003cbr\\u003eComponent 2=%{x}\\u003cbr\\u003eComponent 3=%{y}\\u003cbr\\u003eligand=%{customdata[0]}\\u003cextra\\u003e\\u003c\\u002fextra\\u003e\",\"legendgroup\":\"Other Ligands\",\"marker\":{\"color\":\"purple\",\"symbol\":\"circle\"},\"mode\":\"markers\",\"name\":\"Other Ligands\",\"orientation\":\"v\",\"showlegend\":true,\"x\":[0.45767410651582374,-1.7618365688208746,-4.137959235999334],\"xaxis\":\"x\",\"y\":[3.937895530181646,3.880004643633486,4.604089672739802],\"yaxis\":\"y\",\"type\":\"scatter\"},{\"customdata\":[[\"DS-10\"],[\"DS-11\"],[\"DS-12\"],[\"DS-13\"],[\"DS-14\"],[\"DS-15\"],[\"DS-16\"],[\"DS-17\"],[\"DS-18\"],[\"DS-19\"],[\"DS-1\"],[\"DS-20\"],[\"DS-21\"],[\"DS-22\"],[\"DS-23\"],[\"DS-24\"],[\"DS-25\"],[\"DS-26\"],[\"DS-27\"],[\"DS-28\"],[\"DS-29\"],[\"DS-2\"],[\"DS-30\"],[\"DS-31\"],[\"DS-32\"],[\"DS-33\"],[\"DS-34\"],[\"DS-35\"],[\"DS-36\"],[\"DS-37\"],[\"DS-38\"],[\"DS-39\"],[\"DS-3\"],[\"DS-40\"],[\"DS-41\"],[\"DS-42\"],[\"DS-43\"],[\"DS-44\"],[\"DS-45\"],[\"DS-46\"],[\"DS-48\"],[\"DS-49\"],[\"DS-4\"],[\"DS-50\"],[\"DS-52\"],[\"DS-53\"],[\"DS-54\"],[\"DS-55\"],[\"DS-56\"],[\"DS-57\"],[\"DS-58\"],[\"DS-59\"],[\"DS-5\"],[\"DS-60\"],[\"DS-61\"],[\"DS-63\"],[\"DS-64\"],[\"DS-6\"],[\"DS-7\"],[\"DS-8\"],[\"DS-9\"]],\"hovertemplate\":\"Ligand Category=DS Ligands\\u003cbr\\u003eComponent 2=%{x}\\u003cbr\\u003eComponent 3=%{y}\\u003cbr\\u003eligand=%{customdata[0]}\\u003cextra\\u003e\\u003c\\u002fextra\\u003e\",\"legendgroup\":\"DS Ligands\",\"marker\":{\"color\":\"blue\",\"symbol\":\"circle\"},\"mode\":\"markers\",\"name\":\"DS Ligands\",\"orientation\":\"v\",\"showlegend\":true,\"x\":[2.0440611791007393,1.3512825422124173,-0.6981244686280981,5.091412096494157,1.7123635307566423,1.717052798337387,4.711236625217412,0.076824321857743,4.555312764741301,13.58743427957792,-7.50971916113791,2.0319051221528874,1.3529010743626342,2.6102189679443053,2.7040802611899064,1.9275759882001489,2.959728618305481,4.132348826609764,5.72177890711973,7.965837036361854,0.816331374624657,-14.702377571568025,3.3878175114927154,3.0861351201932985,3.5897684651993433,3.194341086696967,1.8801689407262718,4.682003180044392,0.5248215243094825,0.6235202913922532,-2.4622417491464357,2.852310294649481,-0.3661327117919595,2.240390284012717,-1.3000062388342732,6.589875784102835,9.597137944062192,3.501812943207064,10.591901675418669,10.503676238766916,9.077007346081773,10.748929486835243,-0.10930162696587446,11.58992894018722,4.200523969145937,-0.5193890564209074,11.253487922958943,11.28168016091254,11.291573639995507,6.895502848391661,4.27309307780147,6.476390384625935,1.1024429420230677,7.70954731415031,6.873651561086243,7.868011093198203,9.47500469689219,4.503719835226968,1.8428294187228105,2.347368607478559,0.5845723736369455],\"xaxis\":\"x\",\"y\":[-3.2112520274515304,-3.400544560475301,-0.5716640592061177,1.3222211931933994,-3.2109367117451577,-2.7903965642722044,-3.612537587086176,-3.6884587532753628,-2.1156232355681635,0.9489051494362355,-6.411884734901075,-3.0748684396551296,-2.6020137986898653,-3.602059315772793,-3.8889686514445563,-2.6496030439288174,-4.059852149626989,-3.6194982977116505,0.4745448295969064,2.1776563652819787,-1.6607179195862352,9.588027432876721,-4.135657081982679,-3.7506930983298803,-4.305532807695996,-3.028059092691382,-1.8463362189488084,-2.1551835979771834,-3.8955349671425243,-3.9442605755489706,-7.574091451592961,-2.1512667079226153,0.03173062849318781,-3.54454265472821,-5.853022920324607,5.434813249671646,-0.7393127592079494,-4.006245009973994,0.10771440676038095,1.3046168635682118,13.032260305315504,1.0000927012592449,-2.4851714133752894,0.5968174796918222,2.3508300171751606,2.7823380186117026,1.690961499251512,2.184900774242381,1.4445110583663028,5.032964782048857,0.4188033393487537,-1.0320932691284461,-3.1123808309640184,-1.8049442058754803,-1.0215817618946048,-3.0991036832915966,8.287025284490992,-1.6724556247203297,-2.7948994851368134,0.36240688013064265,-2.89747840925574],\"yaxis\":\"y\",\"type\":\"scatter\"},{\"customdata\":[[\"MB-100\"],[\"MB-101\"],[\"MB-102\"],[\"MB-103\"],[\"MB-104\"],[\"MB-105\"],[\"MB-106\"],[\"MB-107\"],[\"MB-108\"],[\"MB-109\"],[\"MB-10\"],[\"MB-110\"],[\"MB-111\"],[\"MB-112\"],[\"MB-113\"],[\"MB-114\"],[\"MB-115\"],[\"MB-116\"],[\"MB-117\"],[\"MB-118\"],[\"MB-119\"],[\"MB-11\"],[\"MB-120\"],[\"MB-121\"],[\"MB-122\"],[\"MB-123\"],[\"MB-124\"],[\"MB-125\"],[\"MB-126\"],[\"MB-127\"],[\"MB-128\"],[\"MB-129\"],[\"MB-12\"],[\"MB-130\"],[\"MB-131\"],[\"MB-132\"],[\"MB-133\"],[\"MB-134\"],[\"MB-135\"],[\"MB-136\"],[\"MB-137\"],[\"MB-139\"],[\"MB-13\"],[\"MB-140\"],[\"MB-143\"],[\"MB-14\"],[\"MB-15\"],[\"MB-16\"],[\"MB-18\"],[\"MB-19\"],[\"MB-1\"],[\"MB-20\"],[\"MB-21\"],[\"MB-22\"],[\"MB-23\"],[\"MB-24\"],[\"MB-25\"],[\"MB-26\"],[\"MB-27\"],[\"MB-28\"],[\"MB-29\"],[\"MB-2\"],[\"MB-30\"],[\"MB-31\"],[\"MB-32\"],[\"MB-33\"],[\"MB-34\"],[\"MB-35\"],[\"MB-37\"],[\"MB-38\"],[\"MB-39\"],[\"MB-3\"],[\"MB-40\"],[\"MB-41\"],[\"MB-42\"],[\"MB-43\"],[\"MB-44\"],[\"MB-45\"],[\"MB-46\"],[\"MB-47\"],[\"MB-48\"],[\"MB-49\"],[\"MB-4\"],[\"MB-50\"],[\"MB-51\"],[\"MB-52\"],[\"MB-53\"],[\"MB-54\"],[\"MB-55\"],[\"MB-56\"],[\"MB-57\"],[\"MB-58\"],[\"MB-59\"],[\"MB-5\"],[\"MB-60\"],[\"MB-61\"],[\"MB-62\"],[\"MB-63\"],[\"MB-64\"],[\"MB-65\"],[\"MB-66\"],[\"MB-67\"],[\"MB-68\"],[\"MB-69\"],[\"MB-6\"],[\"MB-70\"],[\"MB-71\"],[\"MB-72\"],[\"MB-73\"],[\"MB-74\"],[\"MB-75\"],[\"MB-76\"],[\"MB-77\"],[\"MB-78\"],[\"MB-79\"],[\"MB-7\"],[\"MB-80\"],[\"MB-81\"],[\"MB-82\"],[\"MB-83\"],[\"MB-84\"],[\"MB-85\"],[\"MB-86\"],[\"MB-87\"],[\"MB-88\"],[\"MB-89\"],[\"MB-8\"],[\"MB-90\"],[\"MB-91\"],[\"MB-92\"],[\"MB-93\"],[\"MB-94\"],[\"MB-95\"],[\"MB-96\"],[\"MB-97\"],[\"MB-98\"],[\"MB-9\"]],\"hovertemplate\":\"Ligand Category=MB Ligands\\u003cbr\\u003eComponent 2=%{x}\\u003cbr\\u003eComponent 3=%{y}\\u003cbr\\u003eligand=%{customdata[0]}\\u003cextra\\u003e\\u003c\\u002fextra\\u003e\",\"legendgroup\":\"MB Ligands\",\"marker\":{\"color\":\"green\",\"symbol\":\"circle\"},\"mode\":\"markers\",\"name\":\"MB Ligands\",\"orientation\":\"v\",\"showlegend\":true,\"x\":[10.08704135167424,-1.7808714983275271,3.8291660615940173,-0.44955020082899505,-1.061858334922549,-2.3625014083330633,-0.8465048406072085,-2.9264768276949575,0.8582181687746897,0.6259200678991236,-5.024939836314368,1.907278590429361,3.244980981888434,-1.367101759971555,1.366832247253986,4.210065524308132,-3.34939311955755,-5.651189712221407,-6.647413415351095,2.2694483669283336,-4.411727682118164,-3.5147770637404037,1.8015092269379447,4.230090147378275,-3.7288893125929135,-3.6928198229249696,2.589873150460893,4.475274068003479,3.1338193653728417,-7.9035692667359,3.6756705431222922,-2.2242825706272753,-3.4458011633425603,0.4040475642389086,-5.208752862478987,2.2718108371638954,-9.286093245163372,-4.718590969437979,-1.6102434006429873,0.8786138269845755,-4.14171745723142,-11.317134561083028,-6.229194760004262,1.4406461697258408,-0.29721698203422886,-4.495372656119755,-6.7147811785505445,-2.701511925728354,-2.0386888604555122,-5.633466466613283,-9.459806781812427,-6.620035566951776,-6.212455015653195,-3.7845881942313064,-2.3541825200188606,-5.839906564962513,-4.356696136194881,-1.5372767550927733,-20.768747599324694,-2.4213745036990755,-1.134210117054007,-7.242234871303837,-12.588157330560952,-4.090943156460209,-3.001154249105066,-3.343445462016603,-2.218697250462664,-1.6835701182877603,-3.4446258407959087,-5.778374403906536,-3.7168518051363306,-9.705116147095676,-0.9358605138672899,-3.208759082818756,-0.45841078811636593,-1.6562621191753986,-4.807711136719879,1.6683090748302543,4.03857990444302,7.184678486833662,-3.912909874756167,-2.466456149864744,-6.009835335461117,-3.8152366351843097,-3.3537746355548927,-4.756194024403953,-2.857703892582985,-0.0806734521760571,2.4806053944247024,-3.0856487339315226,-1.5593144425848804,-3.3637831972949406,-1.6694517132891613,-7.245150769817987,0.4221079812807216,-3.80916600544579,1.2745779708854357,0.5007936823454333,-1.3219353826373068,-8.781444651925518,-2.3588662712257875,-1.57053806474383,-2.5093418770607396,-1.9532876980270224,-6.343161609785546,-3.3276765597392632,-2.7807190605688517,-0.8373837887352988,-2.411010736353665,-0.7977771673368605,-0.42874223227264774,-1.430353173877145,-2.321748133443178,-1.7705289927780958,-3.5997924165203945,-7.568008661896073,-0.7110457266400297,-1.7607073266515108,-1.345409624796186,-1.4347704575049967,-1.3930882965941085,0.8648255743544192,-0.013084543559641598,-4.465715451739088,-0.3991020791959865,-0.17491058347858193,-6.241104943299619,0.42209436105763415,-3.622060086054275,-1.42393624072745,-4.936325399196856,-3.2736589846035553,-1.2704354322511076,-2.27182834976508,-2.117840737719705,-4.9437578842148815,-4.317833056225235],\"xaxis\":\"x\",\"y\":[9.433816359894433,-0.47696306581072956,1.1811654781062633,-1.8183250581581598,2.3755845788955146,8.430562466791375,-0.8992627059568479,5.897423035808938,1.9426662946543887,-3.21776627319327,-0.2745498472284039,5.8909974323800585,3.7564125754831887,-2.5840196890663285,-0.14034124839486314,4.3996090798679495,0.31135219257843255,1.0575091897403726,1.2031202942055919,-0.6185644853356276,5.727459165480819,-3.4165015725121077,-2.2346237091172667,1.0089813385931485,2.364036705933482,3.587668709335289,2.160164320080748,4.67356681210938,-0.6243884949810484,-0.8879357817411735,8.997771504010665,3.4217062892687324,1.4139228365096697,9.960954690643657,2.2643527071510126,4.320041066247478,6.043932925652705,2.529934319907465,-2.2492042569542305,9.53384321159816,2.3077711197571515,7.33558589078526,-4.0227168683687005,2.0037093054902417,6.738055404920977,-0.28801674724178244,-7.942228494448232,5.269419846243446,4.449079111847564,-4.968856388942352,-6.644584665958964,-3.9372943951404005,-3.89378313869112,-3.157343903955113,1.2602530308491646,-4.162287217008696,1.8732624847939507,7.80942901263165,10.108374449826126,-4.831243292013533,0.607467920572187,-6.933623720946154,1.7317250183584318,-0.8538899403543647,-2.8399271579376295,0.4829541135130752,0.03563499412610588,1.1364344681195404,-2.594420229496266,-0.640784992126355,-3.9175377386014714,-0.9492950448770462,4.018514824837208,-2.640915723577495,4.083876072665479,-0.1301351774833992,-1.9528913207489338,-2.7296505112413607,-0.9410199840744468,5.47636644229781,-3.0407308406263396,-2.847768570710936,-1.197036910376029,-2.845517482169895,-0.8947598078488836,1.3159917404860209,-4.8679242022125235,-0.4930285915010054,-0.15642145732344354,-1.5034555074176608,0.9481473643231502,2.7063276788238535,1.09209651178098,-3.814755156766597,4.521097714141249,5.4050166667005035,3.18514487179329,3.1201884786820555,-0.6957495465747123,6.883598905142585,0.48087213465511025,-2.5066972899932476,-1.0725005702185095,-0.8143788011808163,-1.7963763018275534,-1.1015626274963064,-1.596174541298204,1.3386981154899207,-2.8694896744416822,0.7469208591696774,4.325230660641013,5.881001884968209,-1.0712585468320437,0.06659210300302046,-3.4832175164183212,-7.023321011191304,4.75411323072752,-2.393264556359717,-2.310707674029017,-2.5504571667032123,1.089254082059922,6.2815619584025315,4.052050027499999,-4.937922525881234,-2.713344720503814,-3.4085869808489755,0.17946642416303366,-0.41630377881828995,0.1374036426507813,7.472926959696711,4.397360220775228,-3.9062731443380967,-1.8934711138354146,2.272095295853382,2.378937098723031,5.272317079222447,2.563605744295294],\"yaxis\":\"y\",\"type\":\"scatter\"},{\"customdata\":[[\"MS-10\"],[\"MS-11\"],[\"MS-12\"],[\"MS-13\"],[\"MS-14\"],[\"MS-15\"],[\"MS-16\"],[\"MS-17\"],[\"MS-19\"],[\"MS-1\"],[\"MS-20\"],[\"MS-21\"],[\"MS-22\"],[\"MS-23\"],[\"MS-24\"],[\"MS-25\"],[\"MS-26\"],[\"MS-27\"],[\"MS-28\"],[\"MS-29\"],[\"MS-2\"],[\"MS-30\"],[\"MS-31\"],[\"MS-32\"],[\"MS-33\"],[\"MS-34\"],[\"MS-35\"],[\"MS-36\"],[\"MS-37\"],[\"MS-38\"],[\"MS-39\"],[\"MS-3\"],[\"MS-40\"],[\"MS-41\"],[\"MS-42\"],[\"MS-44\"],[\"MS-45\"],[\"MS-46\"],[\"MS-47\"],[\"MS-48\"],[\"MS-49\"],[\"MS-4\"],[\"MS-50\"],[\"MS-51\"],[\"MS-52\"],[\"MS-53\"],[\"MS-54\"],[\"MS-55\"],[\"MS-56\"],[\"MS-57\"],[\"MS-58\"],[\"MS-59\"],[\"MS-5\"],[\"MS-60\"],[\"MS-61\"],[\"MS-62\"],[\"MS-64\"],[\"MS-65\"],[\"MS-66\"],[\"MS-68\"],[\"MS-6\"],[\"MS-70\"],[\"MS-71\"],[\"MS-72\"],[\"MS-73\"],[\"MS-74\"],[\"MS-75\"],[\"MS-76\"],[\"MS-77\"],[\"MS-78\"],[\"MS-79\"],[\"MS-80\"],[\"MS-81\"],[\"MS-82\"],[\"MS-83\"],[\"MS-84\"],[\"MS-85\"],[\"MS-86\"],[\"MS-87\"],[\"MS-88\"],[\"MS-89\"],[\"MS-90\"],[\"MS-91\"],[\"MS-92\"],[\"MS-93\"],[\"MS-9\"]],\"hovertemplate\":\"Ligand Category=MS Ligands\\u003cbr\\u003eComponent 2=%{x}\\u003cbr\\u003eComponent 3=%{y}\\u003cbr\\u003eligand=%{customdata[0]}\\u003cextra\\u003e\\u003c\\u002fextra\\u003e\",\"legendgroup\":\"MS Ligands\",\"marker\":{\"color\":\"red\",\"symbol\":\"circle\"},\"mode\":\"markers\",\"name\":\"MS Ligands\",\"orientation\":\"v\",\"showlegend\":true,\"x\":[4.0304415829573115,3.257603830843246,0.549404607841672,1.1741671054894947,-1.137295253040434,-0.8828621739875125,0.6279612201396556,0.8228449044313415,2.0650712497245007,-5.2975076426115075,1.5298199306106777,0.9806402232831917,2.1530720864267776,1.139188644593218,1.9297736417698057,2.4185884309829775,3.3327007078327044,1.3961953503073739,0.8243483321955024,1.552747304822112,-0.9172764989145237,2.2708375331742165,0.668453824333374,0.9511029337909267,2.2137627247945546,1.4343230835568201,2.038260678120762,1.954179723734326,1.5508090328289317,1.1991659745299097,1.3702771667304587,-18.240065583099895,2.2484012181796116,1.6485622109270495,1.5258124528880932,1.9284218871752743,1.1413174449492665,4.052340021457491,2.099100207592274,1.3651286065803185,1.6905195170249294,1.498451046119364,4.060492433089203,1.1348658068505315,-0.62366765093278,1.2186686249019592,1.5462449066538433,4.235436180021501,1.7761040138179642,2.572187276416359,4.39736805678806,2.736275604521187,1.2725641201526514,1.5389548685330756,2.1480552686017633,2.780616003118446,3.4362401525683004,3.866306569864182,2.75828571134124,2.261012830797809,3.7485128118236886,-5.415928781511855,-1.9720650281432344,-7.634999315986222,-0.22010440233195833,-2.453328712960326,0.16884497547823873,-0.6983069727041569,-0.3914159106413683,0.8445912609000564,-1.28269845104316,-6.682605441900045,-0.08538833118474555,6.826287919523914,0.46177031257308326,7.214182484146752,-2.6344492018951873,2.705681012062226,7.907711898462435,-1.2246103831896655,6.903581848954785,2.624355872382937,7.160849021355165,3.6335722896189435,1.4792964530219128,-1.2501171835185323],\"xaxis\":\"x\",\"y\":[8.334699977262193,0.7060635527765678,-2.80778941657238,-0.4227773907889617,-1.3243545470021154,4.861084181348358,-3.1765718751274505,-3.375399449703141,-2.969462692962503,-3.8937452340190397,-3.0602534437166353,-2.6197168980822187,-3.2298994198164217,-2.7444811677951813,-3.1209587128355776,-2.6693692041706125,1.578736380188543,-2.975104626823728,-1.2136905273210372,-3.120094479287629,0.2611658003636029,-2.9063899462351395,-2.3066215273162474,-2.440585960972312,-3.4262001267009503,-2.9354680301271956,-3.154668453327568,-3.150932346071574,-3.2634690432898426,-2.7465857588977394,-2.3015900777734166,9.650314541220332,-3.442612803325466,-2.6467957428794575,8.81100405020087,-2.886922688438002,-2.648514018483247,-3.7195333348657353,-2.295342580077825,-2.3685523289184776,-2.5702171906294193,2.0208205176985157,-1.4886959346386357,-2.6397108758015886,-0.11618563488771702,-1.8579614389160137,-0.5836901564602811,-2.7013019728654264,-3.427858505361873,-3.0168162974035506,-2.5882535198688736,-3.100407375943374,2.3382714938489957,-3.1156070709595247,1.4275089160287564,4.087478348851447,3.6320589782746904,-2.7952901102143652,-2.35112111777774,-2.4889143268821368,6.739746197037485,-7.289395244310411,-1.8790180873363038,-1.255261838535706,-0.49038787527735317,3.029544953863653,-0.5219560413906515,0.0954158992081102,-3.8726660092085865,-0.6611298894551916,6.96713001485926,-1.8975232163223086,6.851724724899563,-1.326545229175906,-0.7154980504795877,1.092144406675297,2.7255912298865814,6.914697196726081,0.8353945385818369,2.2339201211812076,1.6229492984418807,-2.783569716725521,-0.8642060126454557,6.416226547978908,7.45261254328734,-1.7452035337582101],\"yaxis\":\"y\",\"type\":\"scatter\"}],                        {\"template\":{\"data\":{\"histogram2dcontour\":[{\"type\":\"histogram2dcontour\",\"colorbar\":{\"outlinewidth\":0,\"ticks\":\"\"},\"colorscale\":[[0.0,\"#0d0887\"],[0.1111111111111111,\"#46039f\"],[0.2222222222222222,\"#7201a8\"],[0.3333333333333333,\"#9c179e\"],[0.4444444444444444,\"#bd3786\"],[0.5555555555555556,\"#d8576b\"],[0.6666666666666666,\"#ed7953\"],[0.7777777777777778,\"#fb9f3a\"],[0.8888888888888888,\"#fdca26\"],[1.0,\"#f0f921\"]]}],\"choropleth\":[{\"type\":\"choropleth\",\"colorbar\":{\"outlinewidth\":0,\"ticks\":\"\"}}],\"histogram2d\":[{\"type\":\"histogram2d\",\"colorbar\":{\"outlinewidth\":0,\"ticks\":\"\"},\"colorscale\":[[0.0,\"#0d0887\"],[0.1111111111111111,\"#46039f\"],[0.2222222222222222,\"#7201a8\"],[0.3333333333333333,\"#9c179e\"],[0.4444444444444444,\"#bd3786\"],[0.5555555555555556,\"#d8576b\"],[0.6666666666666666,\"#ed7953\"],[0.7777777777777778,\"#fb9f3a\"],[0.8888888888888888,\"#fdca26\"],[1.0,\"#f0f921\"]]}],\"heatmap\":[{\"type\":\"heatmap\",\"colorbar\":{\"outlinewidth\":0,\"ticks\":\"\"},\"colorscale\":[[0.0,\"#0d0887\"],[0.1111111111111111,\"#46039f\"],[0.2222222222222222,\"#7201a8\"],[0.3333333333333333,\"#9c179e\"],[0.4444444444444444,\"#bd3786\"],[0.5555555555555556,\"#d8576b\"],[0.6666666666666666,\"#ed7953\"],[0.7777777777777778,\"#fb9f3a\"],[0.8888888888888888,\"#fdca26\"],[1.0,\"#f0f921\"]]}],\"heatmapgl\":[{\"type\":\"heatmapgl\",\"colorbar\":{\"outlinewidth\":0,\"ticks\":\"\"},\"colorscale\":[[0.0,\"#0d0887\"],[0.1111111111111111,\"#46039f\"],[0.2222222222222222,\"#7201a8\"],[0.3333333333333333,\"#9c179e\"],[0.4444444444444444,\"#bd3786\"],[0.5555555555555556,\"#d8576b\"],[0.6666666666666666,\"#ed7953\"],[0.7777777777777778,\"#fb9f3a\"],[0.8888888888888888,\"#fdca26\"],[1.0,\"#f0f921\"]]}],\"contourcarpet\":[{\"type\":\"contourcarpet\",\"colorbar\":{\"outlinewidth\":0,\"ticks\":\"\"}}],\"contour\":[{\"type\":\"contour\",\"colorbar\":{\"outlinewidth\":0,\"ticks\":\"\"},\"colorscale\":[[0.0,\"#0d0887\"],[0.1111111111111111,\"#46039f\"],[0.2222222222222222,\"#7201a8\"],[0.3333333333333333,\"#9c179e\"],[0.4444444444444444,\"#bd3786\"],[0.5555555555555556,\"#d8576b\"],[0.6666666666666666,\"#ed7953\"],[0.7777777777777778,\"#fb9f3a\"],[0.8888888888888888,\"#fdca26\"],[1.0,\"#f0f921\"]]}],\"surface\":[{\"type\":\"surface\",\"colorbar\":{\"outlinewidth\":0,\"ticks\":\"\"},\"colorscale\":[[0.0,\"#0d0887\"],[0.1111111111111111,\"#46039f\"],[0.2222222222222222,\"#7201a8\"],[0.3333333333333333,\"#9c179e\"],[0.4444444444444444,\"#bd3786\"],[0.5555555555555556,\"#d8576b\"],[0.6666666666666666,\"#ed7953\"],[0.7777777777777778,\"#fb9f3a\"],[0.8888888888888888,\"#fdca26\"],[1.0,\"#f0f921\"]]}],\"mesh3d\":[{\"type\":\"mesh3d\",\"colorbar\":{\"outlinewidth\":0,\"ticks\":\"\"}}],\"scatter\":[{\"fillpattern\":{\"fillmode\":\"overlay\",\"size\":10,\"solidity\":0.2},\"type\":\"scatter\"}],\"parcoords\":[{\"type\":\"parcoords\",\"line\":{\"colorbar\":{\"outlinewidth\":0,\"ticks\":\"\"}}}],\"scatterpolargl\":[{\"type\":\"scatterpolargl\",\"marker\":{\"colorbar\":{\"outlinewidth\":0,\"ticks\":\"\"}}}],\"bar\":[{\"error_x\":{\"color\":\"#2a3f5f\"},\"error_y\":{\"color\":\"#2a3f5f\"},\"marker\":{\"line\":{\"color\":\"#E5ECF6\",\"width\":0.5},\"pattern\":{\"fillmode\":\"overlay\",\"size\":10,\"solidity\":0.2}},\"type\":\"bar\"}],\"scattergeo\":[{\"type\":\"scattergeo\",\"marker\":{\"colorbar\":{\"outlinewidth\":0,\"ticks\":\"\"}}}],\"scatterpolar\":[{\"type\":\"scatterpolar\",\"marker\":{\"colorbar\":{\"outlinewidth\":0,\"ticks\":\"\"}}}],\"histogram\":[{\"marker\":{\"pattern\":{\"fillmode\":\"overlay\",\"size\":10,\"solidity\":0.2}},\"type\":\"histogram\"}],\"scattergl\":[{\"type\":\"scattergl\",\"marker\":{\"colorbar\":{\"outlinewidth\":0,\"ticks\":\"\"}}}],\"scatter3d\":[{\"type\":\"scatter3d\",\"line\":{\"colorbar\":{\"outlinewidth\":0,\"ticks\":\"\"}},\"marker\":{\"colorbar\":{\"outlinewidth\":0,\"ticks\":\"\"}}}],\"scattermapbox\":[{\"type\":\"scattermapbox\",\"marker\":{\"colorbar\":{\"outlinewidth\":0,\"ticks\":\"\"}}}],\"scatterternary\":[{\"type\":\"scatterternary\",\"marker\":{\"colorbar\":{\"outlinewidth\":0,\"ticks\":\"\"}}}],\"scattercarpet\":[{\"type\":\"scattercarpet\",\"marker\":{\"colorbar\":{\"outlinewidth\":0,\"ticks\":\"\"}}}],\"carpet\":[{\"aaxis\":{\"endlinecolor\":\"#2a3f5f\",\"gridcolor\":\"white\",\"linecolor\":\"white\",\"minorgridcolor\":\"white\",\"startlinecolor\":\"#2a3f5f\"},\"baxis\":{\"endlinecolor\":\"#2a3f5f\",\"gridcolor\":\"white\",\"linecolor\":\"white\",\"minorgridcolor\":\"white\",\"startlinecolor\":\"#2a3f5f\"},\"type\":\"carpet\"}],\"table\":[{\"cells\":{\"fill\":{\"color\":\"#EBF0F8\"},\"line\":{\"color\":\"white\"}},\"header\":{\"fill\":{\"color\":\"#C8D4E3\"},\"line\":{\"color\":\"white\"}},\"type\":\"table\"}],\"barpolar\":[{\"marker\":{\"line\":{\"color\":\"#E5ECF6\",\"width\":0.5},\"pattern\":{\"fillmode\":\"overlay\",\"size\":10,\"solidity\":0.2}},\"type\":\"barpolar\"}],\"pie\":[{\"automargin\":true,\"type\":\"pie\"}]},\"layout\":{\"autotypenumbers\":\"strict\",\"colorway\":[\"#636efa\",\"#EF553B\",\"#00cc96\",\"#ab63fa\",\"#FFA15A\",\"#19d3f3\",\"#FF6692\",\"#B6E880\",\"#FF97FF\",\"#FECB52\"],\"font\":{\"color\":\"#2a3f5f\"},\"hovermode\":\"closest\",\"hoverlabel\":{\"align\":\"left\"},\"paper_bgcolor\":\"white\",\"plot_bgcolor\":\"#E5ECF6\",\"polar\":{\"bgcolor\":\"#E5ECF6\",\"angularaxis\":{\"gridcolor\":\"white\",\"linecolor\":\"white\",\"ticks\":\"\"},\"radialaxis\":{\"gridcolor\":\"white\",\"linecolor\":\"white\",\"ticks\":\"\"}},\"ternary\":{\"bgcolor\":\"#E5ECF6\",\"aaxis\":{\"gridcolor\":\"white\",\"linecolor\":\"white\",\"ticks\":\"\"},\"baxis\":{\"gridcolor\":\"white\",\"linecolor\":\"white\",\"ticks\":\"\"},\"caxis\":{\"gridcolor\":\"white\",\"linecolor\":\"white\",\"ticks\":\"\"}},\"coloraxis\":{\"colorbar\":{\"outlinewidth\":0,\"ticks\":\"\"}},\"colorscale\":{\"sequential\":[[0.0,\"#0d0887\"],[0.1111111111111111,\"#46039f\"],[0.2222222222222222,\"#7201a8\"],[0.3333333333333333,\"#9c179e\"],[0.4444444444444444,\"#bd3786\"],[0.5555555555555556,\"#d8576b\"],[0.6666666666666666,\"#ed7953\"],[0.7777777777777778,\"#fb9f3a\"],[0.8888888888888888,\"#fdca26\"],[1.0,\"#f0f921\"]],\"sequentialminus\":[[0.0,\"#0d0887\"],[0.1111111111111111,\"#46039f\"],[0.2222222222222222,\"#7201a8\"],[0.3333333333333333,\"#9c179e\"],[0.4444444444444444,\"#bd3786\"],[0.5555555555555556,\"#d8576b\"],[0.6666666666666666,\"#ed7953\"],[0.7777777777777778,\"#fb9f3a\"],[0.8888888888888888,\"#fdca26\"],[1.0,\"#f0f921\"]],\"diverging\":[[0,\"#8e0152\"],[0.1,\"#c51b7d\"],[0.2,\"#de77ae\"],[0.3,\"#f1b6da\"],[0.4,\"#fde0ef\"],[0.5,\"#f7f7f7\"],[0.6,\"#e6f5d0\"],[0.7,\"#b8e186\"],[0.8,\"#7fbc41\"],[0.9,\"#4d9221\"],[1,\"#276419\"]]},\"xaxis\":{\"gridcolor\":\"white\",\"linecolor\":\"white\",\"ticks\":\"\",\"title\":{\"standoff\":15},\"zerolinecolor\":\"white\",\"automargin\":true,\"zerolinewidth\":2},\"yaxis\":{\"gridcolor\":\"white\",\"linecolor\":\"white\",\"ticks\":\"\",\"title\":{\"standoff\":15},\"zerolinecolor\":\"white\",\"automargin\":true,\"zerolinewidth\":2},\"scene\":{\"xaxis\":{\"backgroundcolor\":\"#E5ECF6\",\"gridcolor\":\"white\",\"linecolor\":\"white\",\"showbackground\":true,\"ticks\":\"\",\"zerolinecolor\":\"white\",\"gridwidth\":2},\"yaxis\":{\"backgroundcolor\":\"#E5ECF6\",\"gridcolor\":\"white\",\"linecolor\":\"white\",\"showbackground\":true,\"ticks\":\"\",\"zerolinecolor\":\"white\",\"gridwidth\":2},\"zaxis\":{\"backgroundcolor\":\"#E5ECF6\",\"gridcolor\":\"white\",\"linecolor\":\"white\",\"showbackground\":true,\"ticks\":\"\",\"zerolinecolor\":\"white\",\"gridwidth\":2}},\"shapedefaults\":{\"line\":{\"color\":\"#2a3f5f\"}},\"annotationdefaults\":{\"arrowcolor\":\"#2a3f5f\",\"arrowhead\":0,\"arrowwidth\":1},\"geo\":{\"bgcolor\":\"white\",\"landcolor\":\"#E5ECF6\",\"subunitcolor\":\"white\",\"showland\":true,\"showlakes\":true,\"lakecolor\":\"white\"},\"title\":{\"x\":0.05},\"mapbox\":{\"style\":\"light\"}}},\"xaxis\":{\"anchor\":\"y\",\"domain\":[0.0,1.0],\"title\":{\"text\":\"Component 2\"}},\"yaxis\":{\"anchor\":\"x\",\"domain\":[0.0,1.0],\"title\":{\"text\":\"Component 3\"}},\"legend\":{\"title\":{\"text\":\"Ligand Categories\"},\"tracegroupgap\":0},\"title\":{\"text\":\"2D PCA Slice: Component 2 vs Component 3\"}},                        {\"responsive\": true}                    ).then(function(){\n",
       "                            \n",
       "var gd = document.getElementById('c2bd6a5b-a422-4d36-a86f-22f3407afb3d');\n",
       "var x = new MutationObserver(function (mutations, observer) {{\n",
       "        var display = window.getComputedStyle(gd).display;\n",
       "        if (!display || display === 'none') {{\n",
       "            console.log([gd, 'removed!']);\n",
       "            Plotly.purge(gd);\n",
       "            observer.disconnect();\n",
       "        }}\n",
       "}});\n",
       "\n",
       "// Listen for the removal of the full notebook cells\n",
       "var notebookContainer = gd.closest('#notebook-container');\n",
       "if (notebookContainer) {{\n",
       "    x.observe(notebookContainer, {childList: true});\n",
       "}}\n",
       "\n",
       "// Listen for the clearing of the current output cell\n",
       "var outputEl = gd.closest('.output');\n",
       "if (outputEl) {{\n",
       "    x.observe(outputEl, {childList: true});\n",
       "}}\n",
       "\n",
       "                        })                };                });            </script>        </div>"
      ]
     },
     "metadata": {},
     "output_type": "display_data"
    }
   ],
   "execution_count": 29
  }
 ],
 "metadata": {
  "kernelspec": {
   "display_name": "Python 3 (ipykernel)",
   "language": "python",
   "name": "python3"
  },
  "language_info": {
   "codemirror_mode": {
    "name": "ipython",
    "version": 3
   },
   "file_extension": ".py",
   "mimetype": "text/x-python",
   "name": "python",
   "nbconvert_exporter": "python",
   "pygments_lexer": "ipython3",
   "version": "3.11.7"
  }
 },
 "nbformat": 4,
 "nbformat_minor": 5
}
