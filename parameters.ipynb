{
 "cells": [
  {
   "cell_type": "code",
   "id": "initial_id",
   "metadata": {
    "ExecuteTime": {
     "end_time": "2025-01-21T15:30:39.970369Z",
     "start_time": "2025-01-21T15:30:38.211961Z"
    }
   },
   "source": [
    "import os.path\n",
    "import pandas as pd\n",
    "from rdkit.Chem.Draw import IPythonConsole\n",
    "from rdkit.Chem.Draw.MolDrawing import DrawingOptions\n",
    "from parameter_extractor import ParameterExtractor, Property\n",
    "\n",
    "IPythonConsole.molSize = (300, 300)  # Change image size\n",
    "DrawingOptions.bondLineWidth = 1.8"
   ],
   "outputs": [],
   "execution_count": 1
  },
  {
   "cell_type": "code",
   "id": "a9a53965bad2d575",
   "metadata": {
    "ExecuteTime": {
     "end_time": "2025-01-21T15:30:40.786391Z",
     "start_time": "2025-01-21T15:30:40.779490Z"
    }
   },
   "source": [
    "filename = \"l_15\"\n",
    "path = f\"./out/spe/{filename}_SPE.out\"\n",
    "path_no_rh = f\"./out/spe_no_rh/{filename}_SPE_NoRh.out\"\n",
    "if not os.path.exists(path_no_rh):\n",
    "    print(path_no_rh + \" does not exist\")"
   ],
   "outputs": [],
   "execution_count": 2
  },
  {
   "cell_type": "code",
   "id": "9ac12ab947877846",
   "metadata": {
    "ExecuteTime": {
     "end_time": "2025-01-21T15:30:50.853944Z",
     "start_time": "2025-01-21T15:30:42.409598Z"
    }
   },
   "source": "comp = ParameterExtractor(path=path, no_rh_path=path_no_rh)",
   "outputs": [],
   "execution_count": 3
  },
  {
   "cell_type": "code",
   "id": "932a04594ed5d5b3",
   "metadata": {
    "ExecuteTime": {
     "end_time": "2024-11-21T10:13:36.455336Z",
     "start_time": "2024-11-21T10:13:36.447241Z"
    }
   },
   "source": [
    "bite_angle = comp.get_angle(comp.p1, comp.rh, comp.p2)\n",
    "p1_rh_dist = comp.get_bond_distance(comp.p1, comp.rh)\n",
    "p2_rh_dist = comp.get_bond_distance(comp.p2, comp.rh)\n",
    "p1_bridge_dist = comp.get_bond_distance(comp.p1, comp.bridge)\n",
    "p2_bridge_dist = comp.get_bond_distance(comp.p2, comp.bridge)\n",
    "bridge_angle = comp.get_angle(comp.p1, comp.bridge, comp.p2)\n",
    "\n",
    "print(\"P1-Rh: \" + str(p1_rh_dist), \"P2-Rh: \" + str(p2_rh_dist), \"P1-Bridge: \" + str(p1_bridge_dist),\n",
    "      \"P2-Bridge: \" + str(p2_bridge_dist), \"Bite angle: \" + str(bite_angle), \"Bridge angle: \" + str(bridge_angle))"
   ],
   "outputs": [
    {
     "name": "stdout",
     "output_type": "stream",
     "text": [
      "P1-Rh: 2.3719312711164293 P2-Rh: 2.37194201200198 P1-Bridge: 1.8750391887104654 P2-Bridge: 1.8749946723657644 Bite angle: 72.70956883041772 Bridge angle: 97.16063672571833\n"
     ]
    }
   ],
   "execution_count": 8
  },
  {
   "cell_type": "code",
   "id": "fb26b5a8e4ecc311",
   "metadata": {
    "ExecuteTime": {
     "end_time": "2024-11-21T10:13:36.482276Z",
     "start_time": "2024-11-21T10:13:36.471371Z"
    }
   },
   "source": [
    "comp.dipole"
   ],
   "outputs": [
    {
     "data": {
      "text/plain": [
       "1.9588"
      ]
     },
     "execution_count": 9,
     "metadata": {},
     "output_type": "execute_result"
    }
   ],
   "execution_count": 9
  },
  {
   "metadata": {
    "ExecuteTime": {
     "end_time": "2024-11-21T10:13:36.511790Z",
     "start_time": "2024-11-21T10:13:36.501789Z"
    }
   },
   "cell_type": "code",
   "source": [
    "r1_p1_r2_angle = comp.get_angle(comp.r1, comp.p1, comp.r2)\n",
    "r1_p1_rh_angle = comp.get_angle(comp.r1, comp.p1, comp.rh)\n",
    "rh_p1_bridge_angle = comp.get_angle(comp.rh, comp.p1, comp.bridge)\n",
    "r1_p1_bridge_angle = comp.get_angle(comp.r1, comp.p1, comp.bridge)\n",
    "r2_p1_bridge_angle = comp.get_angle(comp.r2, comp.p1, comp.bridge)\n",
    "r2_p1_rh_angle = comp.get_angle(comp.r2, comp.p1, comp.rh)\n",
    "\n",
    "p1_angle_sum = r1_p1_bridge_angle + r1_p1_r2_angle + r2_p1_bridge_angle\n",
    "p1_angle_sum"
   ],
   "id": "9f0671b96a0d5350",
   "outputs": [
    {
     "data": {
      "text/plain": [
       "317.8066693255203"
      ]
     },
     "execution_count": 10,
     "metadata": {},
     "output_type": "execute_result"
    }
   ],
   "execution_count": 10
  },
  {
   "metadata": {
    "ExecuteTime": {
     "end_time": "2024-11-21T10:13:36.532476Z",
     "start_time": "2024-11-21T10:13:36.521603Z"
    }
   },
   "cell_type": "code",
   "source": [
    "r3_p2_r4_angle = comp.get_angle(comp.r3, comp.p2, comp.r4)\n",
    "r3_p2_rh_angle = comp.get_angle(comp.r3, comp.p2, comp.rh)\n",
    "rh_p2_bridge_angle = comp.get_angle(comp.rh, comp.p2, comp.bridge)\n",
    "r3_p2_bridge_angle = comp.get_angle(comp.r3, comp.p2, comp.bridge)\n",
    "r4_p2_bridge_angle = comp.get_angle(comp.r4, comp.p2, comp.bridge)\n",
    "r4_p2_rh_angle = comp.get_angle(comp.r4, comp.p2, comp.rh)\n",
    "\n",
    "p2_angle_sum = r3_p2_bridge_angle + r3_p2_r4_angle + r4_p2_bridge_angle\n",
    "p2_angle_sum"
   ],
   "id": "bcba7d3018ae8ffd",
   "outputs": [
    {
     "data": {
      "text/plain": [
       "317.80297812394565"
      ]
     },
     "execution_count": 11,
     "metadata": {},
     "output_type": "execute_result"
    }
   ],
   "execution_count": 11
  },
  {
   "metadata": {
    "ExecuteTime": {
     "end_time": "2025-01-21T15:31:26.922937Z",
     "start_time": "2025-01-21T15:31:26.914088Z"
    }
   },
   "cell_type": "code",
   "source": "comp.get_bond(comp.p1, comp.r1).get_prop(Property.ANTIBOND_OCCUPANCY)",
   "id": "1f1d3816cfddfc7f",
   "outputs": [
    {
     "data": {
      "text/plain": [
       "'0.05997'"
      ]
     },
     "execution_count": 4,
     "metadata": {},
     "output_type": "execute_result"
    }
   ],
   "execution_count": 4
  },
  {
   "metadata": {
    "ExecuteTime": {
     "end_time": "2024-11-21T10:13:36.571641Z",
     "start_time": "2024-11-21T10:13:36.563338Z"
    }
   },
   "cell_type": "code",
   "source": "comp.p1.GetPropsAsDict()",
   "id": "897ce52ddaca7c44",
   "outputs": [
    {
     "data": {
      "text/plain": [
       "{'nbo_charge': 1.1076,\n",
       " 'nmr_isotropic': 319.369,\n",
       " 'nmr_anisotropic': 118.7911,\n",
       " 'molAtomMapNumber': 38,\n",
       " 'nbo_charge_no_rh': 0.79838,\n",
       " 'nmr_isotropic_no_rh': 241.6574,\n",
       " 'nmr_anisotropic_no_rh': 93.1935,\n",
       " 'lone_pair_occupancy_no_rh_1': 1.93141,\n",
       " 'lone_pair_energy_no_rh_1': -0.33356}"
      ]
     },
     "execution_count": 13,
     "metadata": {},
     "output_type": "execute_result"
    }
   ],
   "execution_count": 13
  },
  {
   "metadata": {
    "ExecuteTime": {
     "end_time": "2025-01-21T15:40:54.175201Z",
     "start_time": "2025-01-21T15:31:35.907978Z"
    }
   },
   "cell_type": "code",
   "source": [
    "df = pd.DataFrame()\n",
    "param_list = []\n",
    "for file in os.listdir(\"./out/spe/\"):\n",
    "    filename = file.split(\".\")[0]\n",
    "    ligand_name = filename.replace(\"_SPE\", \"\")\n",
    "    path = f\"./out/spe/{filename}.out\"\n",
    "    path_no_rh = f\"./out/spe_no_rh/{filename}_NoRh.out\"\n",
    "    if not os.path.exists(path_no_rh):\n",
    "        print(path_no_rh + \" does not exist\")\n",
    "        continue\n",
    "        \n",
    "    print(ligand_name + \": Parameter extraction started.\")\n",
    "    comp = ParameterExtractor(path=path, no_rh_path=path_no_rh)\n",
    "    \n",
    "    r1_p1_r2_angle = comp.get_angle(comp.r1, comp.p1, comp.r2)\n",
    "    r1_p1_rh_angle = comp.get_angle(comp.r1, comp.p1, comp.rh)\n",
    "    rh_p1_bridge_angle = comp.get_angle(comp.rh, comp.p1, comp.bridge)\n",
    "    r1_p1_bridge_angle = comp.get_angle(comp.r1, comp.p1, comp.bridge)\n",
    "    r2_p1_bridge_angle = comp.get_angle(comp.r2, comp.p1, comp.bridge)\n",
    "    r2_p1_rh_angle = comp.get_angle(comp.r2, comp.p1, comp.rh)\n",
    "    \n",
    "    p1_angle_sum = r1_p1_bridge_angle + r1_p1_r2_angle + r2_p1_bridge_angle\n",
    "    \n",
    "    r3_p2_r4_angle = comp.get_angle(comp.r3, comp.p2, comp.r4)\n",
    "    r3_p2_rh_angle = comp.get_angle(comp.r3, comp.p2, comp.rh)\n",
    "    rh_p2_bridge_angle = comp.get_angle(comp.rh, comp.p2, comp.bridge)\n",
    "    r3_p2_bridge_angle = comp.get_angle(comp.r3, comp.p2, comp.bridge)\n",
    "    r4_p2_bridge_angle = comp.get_angle(comp.r4, comp.p2, comp.bridge)\n",
    "    r4_p2_rh_angle = comp.get_angle(comp.r4, comp.p2, comp.rh)\n",
    "    \n",
    "    p2_angle_sum = r3_p2_bridge_angle + r3_p2_r4_angle + r4_p2_bridge_angle\n",
    "    param_dict = {\n",
    "        # Global parameters\n",
    "        \"ligand\": ligand_name,\n",
    "        \"homo\": comp.homo,\n",
    "        \"lumo\": comp.lumo,\n",
    "        \"dipole\": comp.dipole,\n",
    "        \"rh_charge\": comp.rh.get_prop(Property.CHARGE),\n",
    "        \"rh_LP_1_occ\": comp.rh.get_prop(Property.LONE_PAIR_OCCUPANCY_1),\n",
    "        \"rh_LP_1_eng\": comp.rh.get_prop(Property.LONE_PAIR_ENERGY_1),\n",
    "        \"rh_LP_2_occ\": comp.rh.get_prop(Property.LONE_PAIR_OCCUPANCY_2),\n",
    "        \"rh_LP_2_eng\": comp.rh.get_prop(Property.LONE_PAIR_ENERGY_2),\n",
    "        \"rh_LP_3_occ\": comp.rh.get_prop(Property.LONE_PAIR_OCCUPANCY_3),\n",
    "        \"rh_LP_3_eng\": comp.rh.get_prop(Property.LONE_PAIR_ENERGY_3),\n",
    "        \"rh_LP_4_occ\": comp.rh.get_prop(Property.LONE_PAIR_OCCUPANCY_4),\n",
    "        \"rh_LP_4_eng\": comp.rh.get_prop(Property.LONE_PAIR_ENERGY_4),\n",
    "        \"bite_angle\": comp.get_angle(comp.p1, comp.bridge, comp.p2),\n",
    "        \"homo_no_rh\": comp.homo_no_rh,\n",
    "        \"lumo_no_rh\": comp.lumo_no_rh,\n",
    "        \"dipole_no_rh\": comp.dipole_no_rh,\n",
    "        # missing polarizability, I don't know where to get it from, but does not seem important\n",
    "        \n",
    "        # C1 parameters\n",
    "        \"r1_nbo\": comp.r1.get_prop(Property.CHARGE),\n",
    "        \"r2_nbo\": comp.r2.get_prop(Property.CHARGE),\n",
    "        \"r3_nbo\": comp.r3.get_prop(Property.CHARGE),\n",
    "        \"r4_nbo\": comp.r4.get_prop(Property.CHARGE),\n",
    "        \"bridge_nbo\": comp.bridge.get_prop(Property.CHARGE),\n",
    "        \"p1_nbo\": comp.p1.get_prop(Property.CHARGE),\n",
    "        \"p2_nbo\": comp.p2.get_prop(Property.CHARGE),\n",
    "        \"c1_nbo\": comp.c1.get_prop(Property.CHARGE),\n",
    "        \"c2_nbo\": comp.c2.get_prop(Property.CHARGE),\n",
    "        \"c3_nbo\": comp.c3.get_prop(Property.CHARGE),\n",
    "        \"c4_nbo\": comp.c4.get_prop(Property.CHARGE),\n",
    "        \n",
    "        \"p1_nmr\": comp.p1.get_prop(Property.NMR_ISOTROPIC),\n",
    "        \"p1_nmr_aniso\": comp.p1.get_prop(Property.NMR_ANISOTROPIC),\n",
    "        \"p2_nmr\": comp.p2.get_prop(Property.NMR_ISOTROPIC),\n",
    "        \"p2_nmr_aniso\": comp.p2.get_prop(Property.NMR_ANISOTROPIC),\n",
    "        \n",
    "        \"p1_rh_bond_occ\": comp.get_bond(comp.p1, comp.rh).get_prop(Property.BOND_OCCUPANCY),\n",
    "        \"p2_rh_bond_occ\": comp.get_bond(comp.p2, comp.rh).get_prop(Property.BOND_OCCUPANCY),\n",
    "        \"p1_rh_bond_eng\": comp.get_bond(comp.p1, comp.rh).get_prop(Property.BOND_ENERGY),\n",
    "        \"p2_rh_bond_eng\": comp.get_bond(comp.p2, comp.rh).get_prop(Property.BOND_ENERGY),\n",
    "        \"p1_rh_antibond_occ\": comp.get_bond(comp.p1, comp.rh).get_prop(Property.ANTIBOND_OCCUPANCY),\n",
    "        \"p2_rh_antibond_occ\": comp.get_bond(comp.p2, comp.rh).get_prop(Property.ANTIBOND_OCCUPANCY),\n",
    "        \"p1_rh_antibond_eng\": comp.get_bond(comp.p1, comp.rh).get_prop(Property.ANTIBOND_ENERGY),\n",
    "        \"p2_rh_antibond_eng\": comp.get_bond(comp.p2, comp.rh).get_prop(Property.ANTIBOND_ENERGY),\n",
    "        \"p1_r1_bond_occ\": comp.get_bond(comp.p1, comp.r1).get_prop(Property.BOND_OCCUPANCY),\n",
    "        \"p1_r2_bond_occ\": comp.get_bond(comp.p1, comp.r2).get_prop(Property.BOND_OCCUPANCY),\n",
    "        \"p2_r3_bond_occ\": comp.get_bond(comp.p2, comp.r3).get_prop(Property.BOND_OCCUPANCY),\n",
    "        \"p2_r4_bond_occ\": comp.get_bond(comp.p2, comp.r4).get_prop(Property.BOND_OCCUPANCY),\n",
    "        \"p1_r1_bond_eng\": comp.get_bond(comp.p1, comp.r1).get_prop(Property.BOND_ENERGY),\n",
    "        \"p1_r2_bond_eng\": comp.get_bond(comp.p1, comp.r2).get_prop(Property.BOND_ENERGY),\n",
    "        \"p2_r3_bond_eng\": comp.get_bond(comp.p2, comp.r3).get_prop(Property.BOND_ENERGY),\n",
    "        \"p2_r4_bond_eng\": comp.get_bond(comp.p2, comp.r4).get_prop(Property.BOND_ENERGY),\n",
    "        \"p1_r1_antibond_occ\": comp.get_bond(comp.p1, comp.r1).get_prop(Property.ANTIBOND_OCCUPANCY),\n",
    "        \"p1_r2_antibond_occ\": comp.get_bond(comp.p1, comp.r2).get_prop(Property.ANTIBOND_OCCUPANCY),\n",
    "        \"p2_r3_antibond_occ\": comp.get_bond(comp.p2, comp.r3).get_prop(Property.ANTIBOND_OCCUPANCY),\n",
    "        \"p2_r4_antibond_occ\": comp.get_bond(comp.p2, comp.r4).get_prop(Property.ANTIBOND_OCCUPANCY),\n",
    "        \"p1_r1_antibond_eng\": comp.get_bond(comp.p1, comp.r1).get_prop(Property.ANTIBOND_ENERGY),\n",
    "        \"p1_r2_antibond_eng\": comp.get_bond(comp.p1, comp.r2).get_prop(Property.ANTIBOND_ENERGY),\n",
    "        \"p2_r3_antibond_eng\": comp.get_bond(comp.p2, comp.r3).get_prop(Property.ANTIBOND_ENERGY),\n",
    "        \"p2_r4_antibond_eng\": comp.get_bond(comp.p2, comp.r4).get_prop(Property.ANTIBOND_ENERGY),\n",
    "        \"p1_bridge_bond_occ\": comp.get_bond(comp.p1, comp.bridge).get_prop(Property.BOND_OCCUPANCY),\n",
    "        \"p2_bridge_bond_occ\": comp.get_bond(comp.p2, comp.bridge).get_prop(Property.BOND_OCCUPANCY),\n",
    "        \"p1_bridge_bond_eng\": comp.get_bond(comp.p1, comp.bridge).get_prop(Property.BOND_ENERGY),\n",
    "        \"p2_bridge_bond_eng\": comp.get_bond(comp.p2, comp.bridge).get_prop(Property.BOND_ENERGY),\n",
    "        \"p1_bridge_antibond_occ\": comp.get_bond(comp.p1, comp.bridge).get_prop(Property.ANTIBOND_OCCUPANCY),\n",
    "        \"p2_bridge_antibond_occ\": comp.get_bond(comp.p2, comp.bridge).get_prop(Property.ANTIBOND_OCCUPANCY),\n",
    "        \"p1_bridge_antibond_eng\": comp.get_bond(comp.p1, comp.bridge).get_prop(Property.ANTIBOND_ENERGY),\n",
    "        \"p2_bridge_antibond_eng\": comp.get_bond(comp.p2, comp.bridge).get_prop(Property.ANTIBOND_ENERGY),\n",
    "        \n",
    "        \"c1_rh_dist\": comp.get_bond_distance(comp.c1, comp.rh),\n",
    "        \"c2_rh_dist\": comp.get_bond_distance(comp.c2, comp.rh),\n",
    "        \"c3_rh_dist\": comp.get_bond_distance(comp.c3, comp.rh),\n",
    "        \"c4_rh_dist\": comp.get_bond_distance(comp.c4, comp.rh),\n",
    "        \"p1_c1_dist\": comp.get_bond_distance(comp.p1, comp.c1),\n",
    "        \"p1_c2_dist\": comp.get_bond_distance(comp.p1, comp.c2),\n",
    "        \"p2_c3_dist\": comp.get_bond_distance(comp.p2, comp.c3),\n",
    "        \"p2_c4_dist\": comp.get_bond_distance(comp.p2, comp.c4),\n",
    "        \"p1_bridge_dist\": comp.get_bond_distance(comp.p1, comp.bridge),\n",
    "        \"p2_bridge_dist\": comp.get_bond_distance(comp.p2, comp.bridge),\n",
    "        \n",
    "        \"p1_angle_sum\": p1_angle_sum,\n",
    "        \"p2_angle_sum\": p2_angle_sum,\n",
    "        \"rh_p1_bridge_angle\": rh_p1_bridge_angle,\n",
    "        \"rh_p2_bridge_angle\": rh_p2_bridge_angle,\n",
    "        \"r1_p1_rh_angle\": r1_p1_rh_angle,\n",
    "        \"r2_p1_rh_angle\": r2_p1_rh_angle,\n",
    "        \"r3_p2_rh_angle\": r3_p2_rh_angle,\n",
    "        \"r4_p2_rh_angle\": r4_p2_rh_angle,\n",
    "        \"r1_p1_bridge_angle\": r1_p1_bridge_angle,\n",
    "        \"r2_p1_bridge_angle\": r2_p1_bridge_angle,\n",
    "        \"r3_p2_bridge_angle\": r3_p2_bridge_angle,\n",
    "        \"r4_p2_bridge_angle\": r4_p2_bridge_angle,\n",
    "        \n",
    "        \"p1_nbo_no_rh\": comp.p1.get_prop(Property.CHARGE_NO_RH),\n",
    "        \"p2_nbo_no_rh\": comp.p2.get_prop(Property.CHARGE_NO_RH),\n",
    "        \"r1_nbo_no_rh\": comp.r1.get_prop(Property.CHARGE_NO_RH),\n",
    "        \"r2_nbo_no_rh\": comp.r2.get_prop(Property.CHARGE_NO_RH),\n",
    "        \"r3_nbo_no_rh\": comp.r3.get_prop(Property.CHARGE_NO_RH),\n",
    "        \"r4_nbo_no_rh\": comp.r4.get_prop(Property.CHARGE_NO_RH),\n",
    "        \"bridge_nbo_no_rh\": comp.bridge.get_prop(Property.CHARGE_NO_RH),\n",
    "        \n",
    "        \"p1_nmr_no_rh\": comp.p1.get_prop(Property.NMR_ISOTROPIC_NO_RH),\n",
    "        \"p1_nmr_aniso_no_rh\": comp.p1.get_prop(Property.NMR_ANISOTROPIC_NO_RH),\n",
    "        \"p2_nmr_no_rh\": comp.p2.get_prop(Property.NMR_ISOTROPIC_NO_RH),\n",
    "        \"p2_nmr_aniso_no_rh\": comp.p2.get_prop(Property.NMR_ANISOTROPIC_NO_RH),\n",
    "        \n",
    "        \"p1_LP_occ_no_rh\": comp.p1.get_prop(Property.LONE_PAIR_OCCUPANCY_NO_RH_1),\n",
    "        \"p1_LP_eng_no_rh\": comp.p1.get_prop(Property.LONE_PAIR_ENERGY_NO_RH_1),\n",
    "        \"p2_LP_occ_no_rh\": comp.p2.get_prop(Property.LONE_PAIR_OCCUPANCY_NO_RH_1),\n",
    "        \"p2_LP_eng_no_rh\": comp.p2.get_prop(Property.LONE_PAIR_ENERGY_NO_RH_1),\n",
    "        \n",
    "        \"p1_r1_bond_occ_no_rh\": comp.get_bond(comp.p1, comp.r1).get_prop(Property.BOND_OCCUPANCY_NO_RH),\n",
    "        \"p1_r2_bond_occ_no_rh\": comp.get_bond(comp.p1, comp.r2).get_prop(Property.BOND_OCCUPANCY_NO_RH),\n",
    "        \"p2_r3_bond_occ_no_rh\": comp.get_bond(comp.p2, comp.r3).get_prop(Property.BOND_OCCUPANCY_NO_RH),\n",
    "        \"p2_r4_bond_occ_no_rh\": comp.get_bond(comp.p2, comp.r4).get_prop(Property.BOND_OCCUPANCY_NO_RH),\n",
    "        \"p1_r1_bond_eng_no_rh\": comp.get_bond(comp.p1, comp.r1).get_prop(Property.BOND_ENERGY_NO_RH),\n",
    "        \"p1_r2_bond_eng_no_rh\": comp.get_bond(comp.p1, comp.r2).get_prop(Property.BOND_ENERGY_NO_RH),\n",
    "        \"p2_r3_bond_eng_no_rh\": comp.get_bond(comp.p2, comp.r3).get_prop(Property.BOND_ENERGY_NO_RH),\n",
    "        \"p2_r4_bond_eng_no_rh\": comp.get_bond(comp.p2, comp.r4).get_prop(Property.BOND_ENERGY_NO_RH),\n",
    "        \"p1_r1_antibond_occ_no_rh\": comp.get_bond(comp.p1, comp.r1).get_prop(Property.ANTIBOND_OCCUPANCY_NO_RH),\n",
    "        \"p1_r2_antibond_occ_no_rh\": comp.get_bond(comp.p1, comp.r2).get_prop(Property.ANTIBOND_OCCUPANCY_NO_RH),\n",
    "        \"p2_r3_antibond_occ_no_rh\": comp.get_bond(comp.p2, comp.r3).get_prop(Property.ANTIBOND_OCCUPANCY_NO_RH),\n",
    "        \"p2_r4_antibond_occ_no_rh\": comp.get_bond(comp.p2, comp.r4).get_prop(Property.ANTIBOND_OCCUPANCY_NO_RH),\n",
    "        \"p1_r1_antibond_eng_no_rh\": comp.get_bond(comp.p1, comp.r1).get_prop(Property.ANTIBOND_ENERGY_NO_RH),\n",
    "        \"p1_r2_antibond_eng_no_rh\": comp.get_bond(comp.p1, comp.r2).get_prop(Property.ANTIBOND_ENERGY_NO_RH),\n",
    "        \"p2_r3_antibond_eng_no_rh\": comp.get_bond(comp.p2, comp.r3).get_prop(Property.ANTIBOND_ENERGY_NO_RH),\n",
    "        \"p2_r4_antibond_eng_no_rh\": comp.get_bond(comp.p2, comp.r4).get_prop(Property.ANTIBOND_ENERGY_NO_RH),\n",
    "        \"p1_bridge_bond_occ_no_rh\": comp.get_bond(comp.p1, comp.bridge).get_prop(Property.BOND_OCCUPANCY_NO_RH),\n",
    "        \"p2_bridge_bond_occ_no_rh\": comp.get_bond(comp.p2, comp.bridge).get_prop(Property.BOND_OCCUPANCY_NO_RH),\n",
    "        \"p1_bridge_bond_eng_no_rh\": comp.get_bond(comp.p1, comp.bridge).get_prop(Property.BOND_ENERGY_NO_RH),\n",
    "        \"p2_bridge_bond_eng_no_rh\": comp.get_bond(comp.p2, comp.bridge).get_prop(Property.BOND_ENERGY_NO_RH),\n",
    "        \"p1_bridge_antibond_occ_no_rh\": comp.get_bond(comp.p1, comp.bridge).get_prop(Property.ANTIBOND_OCCUPANCY_NO_RH),\n",
    "        \"p2_bridge_antibond_occ_no_rh\": comp.get_bond(comp.p2, comp.bridge).get_prop(Property.ANTIBOND_OCCUPANCY_NO_RH),\n",
    "        \"p1_bridge_antibond_eng_no_rh\": comp.get_bond(comp.p1, comp.bridge).get_prop(Property.ANTIBOND_ENERGY_NO_RH),\n",
    "        \"p2_bridge_antibond_eng_no_rh\": comp.get_bond(comp.p2, comp.bridge).get_prop(Property.ANTIBOND_ENERGY_NO_RH),\n",
    "        \n",
    "        \"p1_LP_s_occ_no_rh\": comp.p1.get_prop(Property.LONE_PAIR_S_ORBITAL_NO_RH),\n",
    "        \"p2_LP_s_occ_no_rh\": comp.p2.get_prop(Property.LONE_PAIR_S_ORBITAL_NO_RH),\n",
    "    }\n",
    "    \n",
    "    \n",
    "    for radius in range(1, 7, 1):\n",
    "        bv = comp.buried_volume(radius)\n",
    "        bv.octant_analysis()\n",
    "        param_dict[f\"Vbur%_{float(radius)}\"] = bv.fraction_buried_volume * 100\n",
    "        param_dict[f\"NE_{float(radius)}\"] = bv.quadrants[\"percent_buried_volume\"][1]\n",
    "        param_dict[f\"NW_{float(radius)}\"] = bv.quadrants[\"percent_buried_volume\"][2]\n",
    "        param_dict[f\"SE_{float(radius)}\"] = bv.quadrants[\"percent_buried_volume\"][3]\n",
    "        param_dict[f\"SW_{float(radius)}\"] = bv.quadrants[\"percent_buried_volume\"][4]\n",
    "        \n",
    "    param_list.append(param_dict)\n",
    "df = pd.DataFrame(param_list)"
   ],
   "id": "5ac6efeb68d64ccd",
   "outputs": [
    {
     "name": "stdout",
     "output_type": "stream",
     "text": [
      "l_10: Parameter extraction started.\n",
      "l_11: Parameter extraction started.\n",
      "l_12: Parameter extraction started.\n",
      "l_13: Parameter extraction started.\n",
      "l_14: Parameter extraction started.\n",
      "l_15: Parameter extraction started.\n",
      "\u001B[91mBOND_OCCUPANCY not found for bond Rh 52 - P 51\u001B[0m\n",
      "\u001B[91mBOND_ENERGY not found for bond Rh 52 - P 51\u001B[0m\n",
      "\u001B[91mANTIBOND_OCCUPANCY not found for bond Rh 52 - P 51\u001B[0m\n",
      "\u001B[91mANTIBOND_ENERGY not found for bond Rh 52 - P 51\u001B[0m\n",
      "l_16: Parameter extraction started.\n",
      "l_17: Parameter extraction started.\n",
      "l_18: Parameter extraction started.\n",
      "\u001B[91mLONE_PAIR_OCCUPANCY_NO_RH_1 not found for atom P 1\u001B[0m\n",
      "\u001B[91mLONE_PAIR_ENERGY_NO_RH_1 not found for atom P 1\u001B[0m\n",
      "\u001B[91mLONE_PAIR_S_ORBITAL_NO_RH not found for atom P 1\u001B[0m\n",
      "l_19: Parameter extraction started.\n",
      "l_1: Parameter extraction started.\n",
      "l_20b: Parameter extraction started.\n",
      "l_21: Parameter extraction started.\n",
      "l_22: Parameter extraction started.\n",
      "l_23: Parameter extraction started.\n",
      "l_24: Parameter extraction started.\n",
      "l_25: Parameter extraction started.\n",
      "l_26: Parameter extraction started.\n",
      "\u001B[91mBOND_OCCUPANCY not found for bond Rh 41 - P 37\u001B[0m\n",
      "\u001B[91mBOND_ENERGY not found for bond Rh 41 - P 37\u001B[0m\n",
      "\u001B[91mANTIBOND_OCCUPANCY not found for bond Rh 41 - P 37\u001B[0m\n",
      "\u001B[91mANTIBOND_ENERGY not found for bond Rh 41 - P 37\u001B[0m\n",
      "l_27: Parameter extraction started.\n",
      "l_28: Parameter extraction started.\n",
      "l_29: Parameter extraction started.\n",
      "l_2: Parameter extraction started.\n",
      "l_30: Parameter extraction started.\n",
      "l_31: Parameter extraction started.\n",
      "l_32a: Parameter extraction started.\n",
      "l_33c: Parameter extraction started.\n",
      "\u001B[91mBOND_OCCUPANCY_NO_RH not found for bond P 67 - O 65\u001B[0m\n",
      "\u001B[91mBOND_ENERGY_NO_RH not found for bond P 67 - O 65\u001B[0m\n",
      "\u001B[91mANTIBOND_OCCUPANCY_NO_RH not found for bond P 67 - O 65\u001B[0m\n",
      "\u001B[91mANTIBOND_ENERGY_NO_RH not found for bond P 67 - O 65\u001B[0m\n",
      "l_34: Parameter extraction started.\n",
      "\u001B[91mBOND_OCCUPANCY_NO_RH not found for bond O 3 - P 0\u001B[0m\n",
      "\u001B[91mBOND_OCCUPANCY_NO_RH not found for bond O 4 - P 1\u001B[0m\n",
      "\u001B[91mBOND_ENERGY_NO_RH not found for bond O 3 - P 0\u001B[0m\n",
      "\u001B[91mBOND_ENERGY_NO_RH not found for bond O 4 - P 1\u001B[0m\n",
      "\u001B[91mANTIBOND_OCCUPANCY_NO_RH not found for bond O 3 - P 0\u001B[0m\n",
      "\u001B[91mANTIBOND_OCCUPANCY_NO_RH not found for bond O 4 - P 1\u001B[0m\n",
      "\u001B[91mANTIBOND_ENERGY_NO_RH not found for bond O 3 - P 0\u001B[0m\n",
      "\u001B[91mANTIBOND_ENERGY_NO_RH not found for bond O 4 - P 1\u001B[0m\n",
      "l_35: Parameter extraction started.\n",
      "\u001B[91mBOND_OCCUPANCY_NO_RH not found for bond O 3 - P 0\u001B[0m\n",
      "\u001B[91mBOND_OCCUPANCY_NO_RH not found for bond O 4 - P 1\u001B[0m\n",
      "\u001B[91mBOND_ENERGY_NO_RH not found for bond O 3 - P 0\u001B[0m\n",
      "\u001B[91mBOND_ENERGY_NO_RH not found for bond O 4 - P 1\u001B[0m\n",
      "\u001B[91mANTIBOND_OCCUPANCY_NO_RH not found for bond O 3 - P 0\u001B[0m\n",
      "\u001B[91mANTIBOND_OCCUPANCY_NO_RH not found for bond O 4 - P 1\u001B[0m\n",
      "\u001B[91mANTIBOND_ENERGY_NO_RH not found for bond O 3 - P 0\u001B[0m\n",
      "\u001B[91mANTIBOND_ENERGY_NO_RH not found for bond O 4 - P 1\u001B[0m\n",
      "l_36: Parameter extraction started.\n",
      "\u001B[91mBOND_OCCUPANCY_NO_RH not found for bond O 3 - P 0\u001B[0m\n",
      "\u001B[91mBOND_OCCUPANCY_NO_RH not found for bond O 4 - P 1\u001B[0m\n",
      "\u001B[91mBOND_ENERGY_NO_RH not found for bond O 3 - P 0\u001B[0m\n",
      "\u001B[91mBOND_ENERGY_NO_RH not found for bond O 4 - P 1\u001B[0m\n",
      "\u001B[91mANTIBOND_OCCUPANCY_NO_RH not found for bond O 3 - P 0\u001B[0m\n",
      "\u001B[91mANTIBOND_OCCUPANCY_NO_RH not found for bond O 4 - P 1\u001B[0m\n",
      "\u001B[91mANTIBOND_ENERGY_NO_RH not found for bond O 3 - P 0\u001B[0m\n",
      "\u001B[91mANTIBOND_ENERGY_NO_RH not found for bond O 4 - P 1\u001B[0m\n",
      "l_37c: Parameter extraction started.\n",
      "\u001B[91mBOND_OCCUPANCY_NO_RH not found for bond O 3 - P 0\u001B[0m\n",
      "\u001B[91mBOND_OCCUPANCY_NO_RH not found for bond O 4 - P 1\u001B[0m\n",
      "\u001B[91mBOND_ENERGY_NO_RH not found for bond O 3 - P 0\u001B[0m\n",
      "\u001B[91mBOND_ENERGY_NO_RH not found for bond O 4 - P 1\u001B[0m\n",
      "\u001B[91mANTIBOND_OCCUPANCY_NO_RH not found for bond O 3 - P 0\u001B[0m\n",
      "\u001B[91mANTIBOND_OCCUPANCY_NO_RH not found for bond O 4 - P 1\u001B[0m\n",
      "\u001B[91mANTIBOND_ENERGY_NO_RH not found for bond O 3 - P 0\u001B[0m\n",
      "\u001B[91mANTIBOND_ENERGY_NO_RH not found for bond O 4 - P 1\u001B[0m\n",
      "l_38: Parameter extraction started.\n",
      "l_39: Parameter extraction started.\n",
      "l_3: Parameter extraction started.\n",
      "l_40: Parameter extraction started.\n",
      "l_41: Parameter extraction started.\n",
      "l_42: Parameter extraction started.\n",
      "\u001B[91mBOND_OCCUPANCY_NO_RH not found for bond O 3 - P 0\u001B[0m\n",
      "\u001B[91mBOND_OCCUPANCY_NO_RH not found for bond O 4 - P 1\u001B[0m\n",
      "\u001B[91mBOND_ENERGY_NO_RH not found for bond O 3 - P 0\u001B[0m\n",
      "\u001B[91mBOND_ENERGY_NO_RH not found for bond O 4 - P 1\u001B[0m\n",
      "\u001B[91mANTIBOND_OCCUPANCY_NO_RH not found for bond O 3 - P 0\u001B[0m\n",
      "\u001B[91mANTIBOND_OCCUPANCY_NO_RH not found for bond O 4 - P 1\u001B[0m\n",
      "\u001B[91mANTIBOND_ENERGY_NO_RH not found for bond O 3 - P 0\u001B[0m\n",
      "\u001B[91mANTIBOND_ENERGY_NO_RH not found for bond O 4 - P 1\u001B[0m\n",
      "l_43: Parameter extraction started.\n",
      "l_44: Parameter extraction started.\n",
      "l_45: Parameter extraction started.\n",
      "l_46: Parameter extraction started.\n",
      "l_47: Parameter extraction started.\n",
      "l_48: Parameter extraction started.\n",
      "l_49: Parameter extraction started.\n",
      "l_4: Parameter extraction started.\n",
      "l_50: Parameter extraction started.\n",
      "\u001B[91mBOND_OCCUPANCY_NO_RH not found for bond P 77 - O 75\u001B[0m\n",
      "\u001B[91mBOND_OCCUPANCY_NO_RH not found for bond P 77 - O 74\u001B[0m\n",
      "\u001B[91mBOND_ENERGY_NO_RH not found for bond P 77 - O 75\u001B[0m\n",
      "\u001B[91mBOND_ENERGY_NO_RH not found for bond P 77 - O 74\u001B[0m\n",
      "\u001B[91mANTIBOND_OCCUPANCY_NO_RH not found for bond P 77 - O 75\u001B[0m\n",
      "\u001B[91mANTIBOND_OCCUPANCY_NO_RH not found for bond P 77 - O 74\u001B[0m\n",
      "\u001B[91mANTIBOND_ENERGY_NO_RH not found for bond P 77 - O 75\u001B[0m\n",
      "\u001B[91mANTIBOND_ENERGY_NO_RH not found for bond P 77 - O 74\u001B[0m\n",
      "\u001B[91mBOND_OCCUPANCY_NO_RH not found for bond P 77 - N 73\u001B[0m\n",
      "\u001B[91mBOND_ENERGY_NO_RH not found for bond P 77 - N 73\u001B[0m\n",
      "\u001B[91mANTIBOND_OCCUPANCY_NO_RH not found for bond P 77 - N 73\u001B[0m\n",
      "\u001B[91mANTIBOND_ENERGY_NO_RH not found for bond P 77 - N 73\u001B[0m\n",
      "l_51b: Parameter extraction started.\n",
      "l_52: Parameter extraction started.\n",
      "\u001B[91mBOND_OCCUPANCY_NO_RH not found for bond P 57 - O 55\u001B[0m\n",
      "\u001B[91mBOND_OCCUPANCY_NO_RH not found for bond P 57 - O 54\u001B[0m\n",
      "\u001B[91mBOND_ENERGY_NO_RH not found for bond P 57 - O 55\u001B[0m\n",
      "\u001B[91mBOND_ENERGY_NO_RH not found for bond P 57 - O 54\u001B[0m\n",
      "\u001B[91mANTIBOND_OCCUPANCY_NO_RH not found for bond P 57 - O 55\u001B[0m\n",
      "\u001B[91mANTIBOND_OCCUPANCY_NO_RH not found for bond P 57 - O 54\u001B[0m\n",
      "\u001B[91mANTIBOND_ENERGY_NO_RH not found for bond P 57 - O 55\u001B[0m\n",
      "\u001B[91mANTIBOND_ENERGY_NO_RH not found for bond P 57 - O 54\u001B[0m\n",
      "l_53: Parameter extraction started.\n",
      "\u001B[91mBOND_OCCUPANCY_NO_RH not found for bond P 55 - O 53\u001B[0m\n",
      "\u001B[91mBOND_OCCUPANCY_NO_RH not found for bond P 55 - O 52\u001B[0m\n",
      "\u001B[91mBOND_ENERGY_NO_RH not found for bond P 55 - O 53\u001B[0m\n",
      "\u001B[91mBOND_ENERGY_NO_RH not found for bond P 55 - O 52\u001B[0m\n",
      "\u001B[91mANTIBOND_OCCUPANCY_NO_RH not found for bond P 55 - O 53\u001B[0m\n",
      "\u001B[91mANTIBOND_OCCUPANCY_NO_RH not found for bond P 55 - O 52\u001B[0m\n",
      "\u001B[91mANTIBOND_ENERGY_NO_RH not found for bond P 55 - O 53\u001B[0m\n",
      "\u001B[91mANTIBOND_ENERGY_NO_RH not found for bond P 55 - O 52\u001B[0m\n",
      "l_57a: Parameter extraction started.\n",
      "\u001B[91mBOND_OCCUPANCY_NO_RH not found for bond P 90 - O 89\u001B[0m\n",
      "\u001B[91mBOND_ENERGY_NO_RH not found for bond P 90 - O 89\u001B[0m\n",
      "\u001B[91mANTIBOND_OCCUPANCY_NO_RH not found for bond P 90 - O 89\u001B[0m\n",
      "\u001B[91mANTIBOND_ENERGY_NO_RH not found for bond P 90 - O 89\u001B[0m\n",
      "l_58: Parameter extraction started.\n",
      "l_59: Parameter extraction started.\n",
      "l_5: Parameter extraction started.\n",
      "l_60: Parameter extraction started.\n",
      "\u001B[91mBOND_OCCUPANCY_NO_RH not found for bond P 61 - O 59\u001B[0m\n",
      "\u001B[91mBOND_OCCUPANCY_NO_RH not found for bond P 61 - O 58\u001B[0m\n",
      "\u001B[91mBOND_ENERGY_NO_RH not found for bond P 61 - O 59\u001B[0m\n",
      "\u001B[91mBOND_ENERGY_NO_RH not found for bond P 61 - O 58\u001B[0m\n",
      "\u001B[91mANTIBOND_OCCUPANCY_NO_RH not found for bond P 61 - O 59\u001B[0m\n",
      "\u001B[91mANTIBOND_OCCUPANCY_NO_RH not found for bond P 61 - O 58\u001B[0m\n",
      "\u001B[91mANTIBOND_ENERGY_NO_RH not found for bond P 61 - O 59\u001B[0m\n",
      "\u001B[91mANTIBOND_ENERGY_NO_RH not found for bond P 61 - O 58\u001B[0m\n",
      "l_61: Parameter extraction started.\n",
      "\u001B[91mBOND_OCCUPANCY_NO_RH not found for bond P 54 - O 52\u001B[0m\n",
      "\u001B[91mBOND_OCCUPANCY_NO_RH not found for bond P 54 - O 51\u001B[0m\n",
      "\u001B[91mBOND_ENERGY_NO_RH not found for bond P 54 - O 52\u001B[0m\n",
      "\u001B[91mBOND_ENERGY_NO_RH not found for bond P 54 - O 51\u001B[0m\n",
      "\u001B[91mANTIBOND_OCCUPANCY_NO_RH not found for bond P 54 - O 52\u001B[0m\n",
      "\u001B[91mANTIBOND_OCCUPANCY_NO_RH not found for bond P 54 - O 51\u001B[0m\n",
      "\u001B[91mANTIBOND_ENERGY_NO_RH not found for bond P 54 - O 52\u001B[0m\n",
      "\u001B[91mANTIBOND_ENERGY_NO_RH not found for bond P 54 - O 51\u001B[0m\n",
      "l_62: Parameter extraction started.\n",
      "l_63: Parameter extraction started.\n",
      "\u001B[91mBOND_OCCUPANCY_NO_RH not found for bond O 74 - P 72\u001B[0m\n",
      "\u001B[91mBOND_ENERGY_NO_RH not found for bond O 74 - P 72\u001B[0m\n",
      "\u001B[91mANTIBOND_OCCUPANCY_NO_RH not found for bond O 74 - P 72\u001B[0m\n",
      "\u001B[91mANTIBOND_ENERGY_NO_RH not found for bond O 74 - P 72\u001B[0m\n",
      "l_64a: Parameter extraction started.\n",
      "l_65b: Parameter extraction started.\n",
      "l_6: Parameter extraction started.\n",
      "l_72: Parameter extraction started.\n",
      "l_73: Parameter extraction started.\n",
      "l_74: Parameter extraction started.\n",
      "l_75: Parameter extraction started.\n",
      "l_76: Parameter extraction started.\n",
      "\u001B[91mBOND_OCCUPANCY_NO_RH not found for bond P 63 - O 61\u001B[0m\n",
      "\u001B[91mBOND_ENERGY_NO_RH not found for bond P 63 - O 61\u001B[0m\n",
      "\u001B[91mANTIBOND_OCCUPANCY_NO_RH not found for bond P 63 - O 61\u001B[0m\n",
      "\u001B[91mANTIBOND_ENERGY_NO_RH not found for bond P 63 - O 61\u001B[0m\n",
      "l_77: Parameter extraction started.\n",
      "l_78: Parameter extraction started.\n",
      "l_7: Parameter extraction started.\n",
      "l_83: Parameter extraction started.\n",
      "l_84: Parameter extraction started.\n",
      "l_85: Parameter extraction started.\n",
      "l_86: Parameter extraction started.\n",
      "l_89: Parameter extraction started.\n",
      "l_8: Parameter extraction started.\n",
      "l_90: Parameter extraction started.\n",
      "l_91: Parameter extraction started.\n",
      "l_92: Parameter extraction started.\n",
      "l_9b: Parameter extraction started.\n"
     ]
    }
   ],
   "execution_count": 5
  },
  {
   "metadata": {
    "ExecuteTime": {
     "end_time": "2025-01-21T15:43:27.217271Z",
     "start_time": "2025-01-21T15:43:27.185638Z"
    }
   },
   "cell_type": "code",
   "source": "df",
   "id": "b6cafdd87dfcdddb",
   "outputs": [
    {
     "data": {
      "text/plain": [
       "   ligand     homo     lumo  dipole rh_charge rh_LP_1_occ rh_LP_1_eng  \\\n",
       "0    l_10 -0.30854 -0.16412  1.1953  -0.34364     1.98349    -0.31041   \n",
       "1    l_11 -0.31317 -0.16905  0.9229  -0.34856     1.98359    -0.31525   \n",
       "2    l_12 -0.30549 -0.16352  2.3293  -0.36670     1.98320    -0.30691   \n",
       "3    l_13 -0.31265 -0.16971  1.7843  -0.36261     1.98181    -0.31413   \n",
       "4    l_14 -0.30035 -0.15854  3.2379  -0.30737     1.98268    -0.30211   \n",
       "..    ...      ...      ...     ...       ...         ...         ...   \n",
       "72    l_8 -0.31190 -0.16571  1.6657  -0.35261     1.98477    -0.31359   \n",
       "73   l_90 -0.30978 -0.16505  1.7988  -0.35457     1.97948    -0.31016   \n",
       "74   l_91 -0.30633 -0.16210  0.4263  -0.35034     1.97891    -0.30601   \n",
       "75   l_92 -0.30761 -0.16360  1.6455  -0.32650     1.98221    -0.30585   \n",
       "76   l_9b -0.30280 -0.15801  1.4949  -0.39330     1.98293    -0.30777   \n",
       "\n",
       "   rh_LP_2_occ rh_LP_2_eng rh_LP_3_occ  ...  Vbur%_5.0     NE_5.0     NW_5.0  \\\n",
       "0      1.95575    -0.36266     1.79816  ...  47.547972  48.651887  47.794929   \n",
       "1      1.95533    -0.36772     1.80166  ...  46.591482  48.582511  47.676674   \n",
       "2      1.95379    -0.36021     1.80175  ...  45.282591  43.561382  48.429567   \n",
       "3      1.95395    -0.36583     1.80299  ...  43.330784  39.500489  47.777585   \n",
       "4      1.95468    -0.35516     1.80823  ...  48.973936  51.113178  49.822617   \n",
       "..         ...         ...         ...  ...        ...        ...        ...   \n",
       "72     1.95807    -0.36465     1.80738  ...  45.481655  49.396109  47.776797   \n",
       "73     1.95435    -0.36466     1.80425  ...  45.183060  49.809214  45.767242   \n",
       "74     1.95465    -0.36093     1.80426  ...  45.964728  49.798177  46.883574   \n",
       "75     1.95789    -0.36148     1.79773  ...  49.860853  51.970925  49.479676   \n",
       "76     1.95240    -0.35934     1.79972  ...  39.522760  36.166472  44.576803   \n",
       "\n",
       "       SE_5.0     SW_5.0  Vbur%_6.0     NE_6.0     NW_6.0     SE_6.0  \\\n",
       "0   43.971335  49.773738  41.669010  41.205950  39.813597  42.782893   \n",
       "1   40.320394  49.786352  40.032088  41.217289  39.523788  36.600299   \n",
       "2   42.458453  46.680962  40.699692  42.602386  43.156606  37.779038   \n",
       "3   37.959226  48.085838  38.352760  35.898227  39.662570  34.694544   \n",
       "4   48.860017  46.099934  44.799197  49.058914  43.492222  41.844075   \n",
       "..        ...        ...        ...        ...        ...        ...   \n",
       "72  37.308820  47.444893  36.941698  41.332487  39.809062  25.836546   \n",
       "73  38.026237  47.129545  40.547077  48.033924  38.585423  32.342963   \n",
       "74  39.054271  48.122891  42.622001  48.312849  42.412808  35.907751   \n",
       "75  48.865536  49.127274  44.381264  49.147354  41.745204  41.991927   \n",
       "76  34.213680  43.134086  32.379473  25.004762  39.500204  23.896775   \n",
       "\n",
       "       SW_6.0  \n",
       "0   42.873600  \n",
       "1   42.786974  \n",
       "2   39.260737  \n",
       "3   43.155699  \n",
       "4   44.801578  \n",
       "..        ...  \n",
       "72  40.788698  \n",
       "73  43.225997  \n",
       "74  43.854597  \n",
       "75  44.640573  \n",
       "76  41.116150  \n",
       "\n",
       "[77 rows x 157 columns]"
      ],
      "text/html": [
       "<div>\n",
       "<style scoped>\n",
       "    .dataframe tbody tr th:only-of-type {\n",
       "        vertical-align: middle;\n",
       "    }\n",
       "\n",
       "    .dataframe tbody tr th {\n",
       "        vertical-align: top;\n",
       "    }\n",
       "\n",
       "    .dataframe thead th {\n",
       "        text-align: right;\n",
       "    }\n",
       "</style>\n",
       "<table border=\"1\" class=\"dataframe\">\n",
       "  <thead>\n",
       "    <tr style=\"text-align: right;\">\n",
       "      <th></th>\n",
       "      <th>ligand</th>\n",
       "      <th>homo</th>\n",
       "      <th>lumo</th>\n",
       "      <th>dipole</th>\n",
       "      <th>rh_charge</th>\n",
       "      <th>rh_LP_1_occ</th>\n",
       "      <th>rh_LP_1_eng</th>\n",
       "      <th>rh_LP_2_occ</th>\n",
       "      <th>rh_LP_2_eng</th>\n",
       "      <th>rh_LP_3_occ</th>\n",
       "      <th>...</th>\n",
       "      <th>Vbur%_5.0</th>\n",
       "      <th>NE_5.0</th>\n",
       "      <th>NW_5.0</th>\n",
       "      <th>SE_5.0</th>\n",
       "      <th>SW_5.0</th>\n",
       "      <th>Vbur%_6.0</th>\n",
       "      <th>NE_6.0</th>\n",
       "      <th>NW_6.0</th>\n",
       "      <th>SE_6.0</th>\n",
       "      <th>SW_6.0</th>\n",
       "    </tr>\n",
       "  </thead>\n",
       "  <tbody>\n",
       "    <tr>\n",
       "      <th>0</th>\n",
       "      <td>l_10</td>\n",
       "      <td>-0.30854</td>\n",
       "      <td>-0.16412</td>\n",
       "      <td>1.1953</td>\n",
       "      <td>-0.34364</td>\n",
       "      <td>1.98349</td>\n",
       "      <td>-0.31041</td>\n",
       "      <td>1.95575</td>\n",
       "      <td>-0.36266</td>\n",
       "      <td>1.79816</td>\n",
       "      <td>...</td>\n",
       "      <td>47.547972</td>\n",
       "      <td>48.651887</td>\n",
       "      <td>47.794929</td>\n",
       "      <td>43.971335</td>\n",
       "      <td>49.773738</td>\n",
       "      <td>41.669010</td>\n",
       "      <td>41.205950</td>\n",
       "      <td>39.813597</td>\n",
       "      <td>42.782893</td>\n",
       "      <td>42.873600</td>\n",
       "    </tr>\n",
       "    <tr>\n",
       "      <th>1</th>\n",
       "      <td>l_11</td>\n",
       "      <td>-0.31317</td>\n",
       "      <td>-0.16905</td>\n",
       "      <td>0.9229</td>\n",
       "      <td>-0.34856</td>\n",
       "      <td>1.98359</td>\n",
       "      <td>-0.31525</td>\n",
       "      <td>1.95533</td>\n",
       "      <td>-0.36772</td>\n",
       "      <td>1.80166</td>\n",
       "      <td>...</td>\n",
       "      <td>46.591482</td>\n",
       "      <td>48.582511</td>\n",
       "      <td>47.676674</td>\n",
       "      <td>40.320394</td>\n",
       "      <td>49.786352</td>\n",
       "      <td>40.032088</td>\n",
       "      <td>41.217289</td>\n",
       "      <td>39.523788</td>\n",
       "      <td>36.600299</td>\n",
       "      <td>42.786974</td>\n",
       "    </tr>\n",
       "    <tr>\n",
       "      <th>2</th>\n",
       "      <td>l_12</td>\n",
       "      <td>-0.30549</td>\n",
       "      <td>-0.16352</td>\n",
       "      <td>2.3293</td>\n",
       "      <td>-0.36670</td>\n",
       "      <td>1.98320</td>\n",
       "      <td>-0.30691</td>\n",
       "      <td>1.95379</td>\n",
       "      <td>-0.36021</td>\n",
       "      <td>1.80175</td>\n",
       "      <td>...</td>\n",
       "      <td>45.282591</td>\n",
       "      <td>43.561382</td>\n",
       "      <td>48.429567</td>\n",
       "      <td>42.458453</td>\n",
       "      <td>46.680962</td>\n",
       "      <td>40.699692</td>\n",
       "      <td>42.602386</td>\n",
       "      <td>43.156606</td>\n",
       "      <td>37.779038</td>\n",
       "      <td>39.260737</td>\n",
       "    </tr>\n",
       "    <tr>\n",
       "      <th>3</th>\n",
       "      <td>l_13</td>\n",
       "      <td>-0.31265</td>\n",
       "      <td>-0.16971</td>\n",
       "      <td>1.7843</td>\n",
       "      <td>-0.36261</td>\n",
       "      <td>1.98181</td>\n",
       "      <td>-0.31413</td>\n",
       "      <td>1.95395</td>\n",
       "      <td>-0.36583</td>\n",
       "      <td>1.80299</td>\n",
       "      <td>...</td>\n",
       "      <td>43.330784</td>\n",
       "      <td>39.500489</td>\n",
       "      <td>47.777585</td>\n",
       "      <td>37.959226</td>\n",
       "      <td>48.085838</td>\n",
       "      <td>38.352760</td>\n",
       "      <td>35.898227</td>\n",
       "      <td>39.662570</td>\n",
       "      <td>34.694544</td>\n",
       "      <td>43.155699</td>\n",
       "    </tr>\n",
       "    <tr>\n",
       "      <th>4</th>\n",
       "      <td>l_14</td>\n",
       "      <td>-0.30035</td>\n",
       "      <td>-0.15854</td>\n",
       "      <td>3.2379</td>\n",
       "      <td>-0.30737</td>\n",
       "      <td>1.98268</td>\n",
       "      <td>-0.30211</td>\n",
       "      <td>1.95468</td>\n",
       "      <td>-0.35516</td>\n",
       "      <td>1.80823</td>\n",
       "      <td>...</td>\n",
       "      <td>48.973936</td>\n",
       "      <td>51.113178</td>\n",
       "      <td>49.822617</td>\n",
       "      <td>48.860017</td>\n",
       "      <td>46.099934</td>\n",
       "      <td>44.799197</td>\n",
       "      <td>49.058914</td>\n",
       "      <td>43.492222</td>\n",
       "      <td>41.844075</td>\n",
       "      <td>44.801578</td>\n",
       "    </tr>\n",
       "    <tr>\n",
       "      <th>...</th>\n",
       "      <td>...</td>\n",
       "      <td>...</td>\n",
       "      <td>...</td>\n",
       "      <td>...</td>\n",
       "      <td>...</td>\n",
       "      <td>...</td>\n",
       "      <td>...</td>\n",
       "      <td>...</td>\n",
       "      <td>...</td>\n",
       "      <td>...</td>\n",
       "      <td>...</td>\n",
       "      <td>...</td>\n",
       "      <td>...</td>\n",
       "      <td>...</td>\n",
       "      <td>...</td>\n",
       "      <td>...</td>\n",
       "      <td>...</td>\n",
       "      <td>...</td>\n",
       "      <td>...</td>\n",
       "      <td>...</td>\n",
       "      <td>...</td>\n",
       "    </tr>\n",
       "    <tr>\n",
       "      <th>72</th>\n",
       "      <td>l_8</td>\n",
       "      <td>-0.31190</td>\n",
       "      <td>-0.16571</td>\n",
       "      <td>1.6657</td>\n",
       "      <td>-0.35261</td>\n",
       "      <td>1.98477</td>\n",
       "      <td>-0.31359</td>\n",
       "      <td>1.95807</td>\n",
       "      <td>-0.36465</td>\n",
       "      <td>1.80738</td>\n",
       "      <td>...</td>\n",
       "      <td>45.481655</td>\n",
       "      <td>49.396109</td>\n",
       "      <td>47.776797</td>\n",
       "      <td>37.308820</td>\n",
       "      <td>47.444893</td>\n",
       "      <td>36.941698</td>\n",
       "      <td>41.332487</td>\n",
       "      <td>39.809062</td>\n",
       "      <td>25.836546</td>\n",
       "      <td>40.788698</td>\n",
       "    </tr>\n",
       "    <tr>\n",
       "      <th>73</th>\n",
       "      <td>l_90</td>\n",
       "      <td>-0.30978</td>\n",
       "      <td>-0.16505</td>\n",
       "      <td>1.7988</td>\n",
       "      <td>-0.35457</td>\n",
       "      <td>1.97948</td>\n",
       "      <td>-0.31016</td>\n",
       "      <td>1.95435</td>\n",
       "      <td>-0.36466</td>\n",
       "      <td>1.80425</td>\n",
       "      <td>...</td>\n",
       "      <td>45.183060</td>\n",
       "      <td>49.809214</td>\n",
       "      <td>45.767242</td>\n",
       "      <td>38.026237</td>\n",
       "      <td>47.129545</td>\n",
       "      <td>40.547077</td>\n",
       "      <td>48.033924</td>\n",
       "      <td>38.585423</td>\n",
       "      <td>32.342963</td>\n",
       "      <td>43.225997</td>\n",
       "    </tr>\n",
       "    <tr>\n",
       "      <th>74</th>\n",
       "      <td>l_91</td>\n",
       "      <td>-0.30633</td>\n",
       "      <td>-0.16210</td>\n",
       "      <td>0.4263</td>\n",
       "      <td>-0.35034</td>\n",
       "      <td>1.97891</td>\n",
       "      <td>-0.30601</td>\n",
       "      <td>1.95465</td>\n",
       "      <td>-0.36093</td>\n",
       "      <td>1.80426</td>\n",
       "      <td>...</td>\n",
       "      <td>45.964728</td>\n",
       "      <td>49.798177</td>\n",
       "      <td>46.883574</td>\n",
       "      <td>39.054271</td>\n",
       "      <td>48.122891</td>\n",
       "      <td>42.622001</td>\n",
       "      <td>48.312849</td>\n",
       "      <td>42.412808</td>\n",
       "      <td>35.907751</td>\n",
       "      <td>43.854597</td>\n",
       "    </tr>\n",
       "    <tr>\n",
       "      <th>75</th>\n",
       "      <td>l_92</td>\n",
       "      <td>-0.30761</td>\n",
       "      <td>-0.16360</td>\n",
       "      <td>1.6455</td>\n",
       "      <td>-0.32650</td>\n",
       "      <td>1.98221</td>\n",
       "      <td>-0.30585</td>\n",
       "      <td>1.95789</td>\n",
       "      <td>-0.36148</td>\n",
       "      <td>1.79773</td>\n",
       "      <td>...</td>\n",
       "      <td>49.860853</td>\n",
       "      <td>51.970925</td>\n",
       "      <td>49.479676</td>\n",
       "      <td>48.865536</td>\n",
       "      <td>49.127274</td>\n",
       "      <td>44.381264</td>\n",
       "      <td>49.147354</td>\n",
       "      <td>41.745204</td>\n",
       "      <td>41.991927</td>\n",
       "      <td>44.640573</td>\n",
       "    </tr>\n",
       "    <tr>\n",
       "      <th>76</th>\n",
       "      <td>l_9b</td>\n",
       "      <td>-0.30280</td>\n",
       "      <td>-0.15801</td>\n",
       "      <td>1.4949</td>\n",
       "      <td>-0.39330</td>\n",
       "      <td>1.98293</td>\n",
       "      <td>-0.30777</td>\n",
       "      <td>1.95240</td>\n",
       "      <td>-0.35934</td>\n",
       "      <td>1.79972</td>\n",
       "      <td>...</td>\n",
       "      <td>39.522760</td>\n",
       "      <td>36.166472</td>\n",
       "      <td>44.576803</td>\n",
       "      <td>34.213680</td>\n",
       "      <td>43.134086</td>\n",
       "      <td>32.379473</td>\n",
       "      <td>25.004762</td>\n",
       "      <td>39.500204</td>\n",
       "      <td>23.896775</td>\n",
       "      <td>41.116150</td>\n",
       "    </tr>\n",
       "  </tbody>\n",
       "</table>\n",
       "<p>77 rows × 157 columns</p>\n",
       "</div>"
      ]
     },
     "execution_count": 6,
     "metadata": {},
     "output_type": "execute_result"
    }
   ],
   "execution_count": 6
  },
  {
   "metadata": {
    "ExecuteTime": {
     "end_time": "2025-01-21T15:45:34.995317Z",
     "start_time": "2025-01-21T15:45:34.078435Z"
    }
   },
   "cell_type": "code",
   "source": [
    "import pandas as pd\n",
    "from sklearn.decomposition import PCA\n",
    "from sklearn.preprocessing import StandardScaler\n",
    "\n",
    "# Load the dataset\n",
    "file_path = \"parameters.csv\"  # Path to your uploaded CSV file\n",
    "data = pd.read_csv(file_path)\n",
    "\n",
    "# Separate the `ligand` column\n",
    "ligand_column = data['ligand']\n",
    "data_numeric = data.drop(columns=['ligand'])\n",
    "data_numeric = data_numeric.fillna(data_numeric.mean())\n",
    "\n",
    "# Standardize the data (important for PCA)\n",
    "scaler = StandardScaler()\n",
    "data_scaled = scaler.fit_transform(data_numeric)\n",
    "\n",
    "# Perform PCA to reduce to 3 components\n",
    "pca = PCA(n_components=3)\n",
    "data_pca = pca.fit_transform(data_scaled)\n",
    "\n",
    "# Save the transformed data to a new CSV file\n",
    "pca_df = pd.DataFrame(data_pca, columns=['Component 1', 'Component 2', 'Component 3'])\n",
    "pca_df['ligand'] = ligand_column.values\n",
    "# output_file = \"/mnt/data/pca_output.csv\"\n",
    "# pca_df.to_csv(output_file, index=False)\n",
    "#\n",
    "# print(f\"PCA completed. Transformed data saved to {output_file}\")\n",
    "pca_df"
   ],
   "id": "324baa1196b581aa",
   "outputs": [
    {
     "data": {
      "text/plain": [
       "    Component 1  Component 2  Component 3 ligand\n",
       "0      8.093236     1.313835    -4.983577   l_10\n",
       "1      7.622714     0.475867    -5.425420   l_11\n",
       "2      6.274783    -2.702533    -3.772521   l_12\n",
       "3      5.688125    -2.710999    -3.770130   l_13\n",
       "4      7.156774     4.147142    -2.165011   l_14\n",
       "..          ...          ...          ...    ...\n",
       "72     6.771610    -2.308250    -0.301030    l_8\n",
       "73     5.530427    -3.078638    -1.303832   l_90\n",
       "74     6.062189    -2.501681    -0.953256   l_91\n",
       "75     7.799431    -1.242311    -4.033738   l_92\n",
       "76     3.459164    -6.619873     6.826183   l_9b\n",
       "\n",
       "[77 rows x 4 columns]"
      ],
      "text/html": [
       "<div>\n",
       "<style scoped>\n",
       "    .dataframe tbody tr th:only-of-type {\n",
       "        vertical-align: middle;\n",
       "    }\n",
       "\n",
       "    .dataframe tbody tr th {\n",
       "        vertical-align: top;\n",
       "    }\n",
       "\n",
       "    .dataframe thead th {\n",
       "        text-align: right;\n",
       "    }\n",
       "</style>\n",
       "<table border=\"1\" class=\"dataframe\">\n",
       "  <thead>\n",
       "    <tr style=\"text-align: right;\">\n",
       "      <th></th>\n",
       "      <th>Component 1</th>\n",
       "      <th>Component 2</th>\n",
       "      <th>Component 3</th>\n",
       "      <th>ligand</th>\n",
       "    </tr>\n",
       "  </thead>\n",
       "  <tbody>\n",
       "    <tr>\n",
       "      <th>0</th>\n",
       "      <td>8.093236</td>\n",
       "      <td>1.313835</td>\n",
       "      <td>-4.983577</td>\n",
       "      <td>l_10</td>\n",
       "    </tr>\n",
       "    <tr>\n",
       "      <th>1</th>\n",
       "      <td>7.622714</td>\n",
       "      <td>0.475867</td>\n",
       "      <td>-5.425420</td>\n",
       "      <td>l_11</td>\n",
       "    </tr>\n",
       "    <tr>\n",
       "      <th>2</th>\n",
       "      <td>6.274783</td>\n",
       "      <td>-2.702533</td>\n",
       "      <td>-3.772521</td>\n",
       "      <td>l_12</td>\n",
       "    </tr>\n",
       "    <tr>\n",
       "      <th>3</th>\n",
       "      <td>5.688125</td>\n",
       "      <td>-2.710999</td>\n",
       "      <td>-3.770130</td>\n",
       "      <td>l_13</td>\n",
       "    </tr>\n",
       "    <tr>\n",
       "      <th>4</th>\n",
       "      <td>7.156774</td>\n",
       "      <td>4.147142</td>\n",
       "      <td>-2.165011</td>\n",
       "      <td>l_14</td>\n",
       "    </tr>\n",
       "    <tr>\n",
       "      <th>...</th>\n",
       "      <td>...</td>\n",
       "      <td>...</td>\n",
       "      <td>...</td>\n",
       "      <td>...</td>\n",
       "    </tr>\n",
       "    <tr>\n",
       "      <th>72</th>\n",
       "      <td>6.771610</td>\n",
       "      <td>-2.308250</td>\n",
       "      <td>-0.301030</td>\n",
       "      <td>l_8</td>\n",
       "    </tr>\n",
       "    <tr>\n",
       "      <th>73</th>\n",
       "      <td>5.530427</td>\n",
       "      <td>-3.078638</td>\n",
       "      <td>-1.303832</td>\n",
       "      <td>l_90</td>\n",
       "    </tr>\n",
       "    <tr>\n",
       "      <th>74</th>\n",
       "      <td>6.062189</td>\n",
       "      <td>-2.501681</td>\n",
       "      <td>-0.953256</td>\n",
       "      <td>l_91</td>\n",
       "    </tr>\n",
       "    <tr>\n",
       "      <th>75</th>\n",
       "      <td>7.799431</td>\n",
       "      <td>-1.242311</td>\n",
       "      <td>-4.033738</td>\n",
       "      <td>l_92</td>\n",
       "    </tr>\n",
       "    <tr>\n",
       "      <th>76</th>\n",
       "      <td>3.459164</td>\n",
       "      <td>-6.619873</td>\n",
       "      <td>6.826183</td>\n",
       "      <td>l_9b</td>\n",
       "    </tr>\n",
       "  </tbody>\n",
       "</table>\n",
       "<p>77 rows × 4 columns</p>\n",
       "</div>"
      ]
     },
     "execution_count": 8,
     "metadata": {},
     "output_type": "execute_result"
    }
   ],
   "execution_count": 8
  },
  {
   "metadata": {
    "ExecuteTime": {
     "end_time": "2025-01-21T16:00:38.941864Z",
     "start_time": "2025-01-21T16:00:37.297896Z"
    }
   },
   "cell_type": "code",
   "source": [
    "import matplotlib.pyplot as plt\n",
    "from mpl_toolkits.mplot3d import Axes3D\n",
    "\n",
    "# Specify ligands to highlight\n",
    "highlight_ligands = ['l_44', 'l_45', \"l_46\", \"l_47\", \"l_48\", \"l_49\", \"l_58\", \"l_59\"]\n",
    "\n",
    "# 3D scatter plot\n",
    "fig = plt.figure(figsize=(10, 8))\n",
    "ax = fig.add_subplot(111, projection='3d')\n",
    "\n",
    "# Plot data\n",
    "for ligand in pca_df['ligand'].unique():\n",
    "    subset = pca_df[pca_df['ligand'] == ligand]\n",
    "    if ligand in highlight_ligands:\n",
    "        ax.scatter(\n",
    "            subset['Component 1'],\n",
    "            subset['Component 2'],\n",
    "            subset['Component 3'],\n",
    "            label=ligand,\n",
    "            s=50,  # Marker size\n",
    "            alpha=0.8  # Transparency\n",
    "        )\n",
    "    else:\n",
    "        ax.scatter(\n",
    "            subset['Component 1'],\n",
    "            subset['Component 2'],\n",
    "            subset['Component 3'],\n",
    "            color='gray',  # Default color for unhighlighted ligands\n",
    "            s=30,\n",
    "            alpha=0.5\n",
    "        )\n",
    "\n",
    "ax.set_title('3D PCA Plot with Highlighted Ligands', fontsize=16)\n",
    "ax.set_xlabel('Component 1')\n",
    "ax.set_ylabel('Component 2')\n",
    "ax.set_zlabel('Component 3')\n",
    "ax.legend(title='Highlighted Ligands', bbox_to_anchor=(1.05, 1), loc='upper left')\n",
    "plt.tight_layout()\n",
    "plt.show()"
   ],
   "id": "85cc7d2aff63c4a4",
   "outputs": [
    {
     "data": {
      "text/plain": [
       "<Figure size 1000x800 with 1 Axes>"
      ],
      "image/png": "[encoded data removed]"
     },
     "metadata": {},
     "output_type": "display_data"
    }
   ],
   "execution_count": 14
  },
  {
   "metadata": {
    "ExecuteTime": {
     "end_time": "2025-01-21T16:04:14.020920Z",
     "start_time": "2025-01-21T16:04:13.939091Z"
    }
   },
   "cell_type": "code",
   "source": [
    "import plotly.express as px\n",
    "\n",
    "# Specify ligands to highlight\n",
    "highlight_ligands = ['l_44', 'l_45', \"l_46\", \"l_47\", \"l_48\", \"l_49\", \"l_58\", \"l_59\"]\n",
    "\n",
    "# Add a new column for color coding (highlight or default)\n",
    "pca_df['color'] = pca_df['ligand'].apply(\n",
    "    lambda x: x if x in highlight_ligands else 'Other'\n",
    ")\n",
    "\n",
    "# Create a 3D scatter plot\n",
    "fig = px.scatter_3d(\n",
    "    pca_df,\n",
    "    x='Component 1',\n",
    "    y='Component 2',\n",
    "    z='Component 3',\n",
    "    color='color',\n",
    "    title='Interactive 3D PCA Plot',\n",
    "    labels={'color': 'Ligand'},\n",
    "    symbol='color',  # Optional: use different symbols for highlighted ligands\n",
    "    opacity=0.8\n",
    ")\n",
    "\n",
    "# Customize the layout\n",
    "fig.update_layout(\n",
    "    legend=dict(title='Ligand Categories'),\n",
    "    scene=dict(\n",
    "        xaxis_title='Component 1',\n",
    "        yaxis_title='Component 2',\n",
    "        zaxis_title='Component 3'\n",
    "    )\n",
    ")\n",
    "\n",
    "# Show the interactive plot\n",
    "fig.show()"
   ],
   "id": "a88fe68730d17c64",
   "outputs": [
    {
     "data": {
      "application/vnd.plotly.v1+json": {
       "data": [
        {
         "hovertemplate": "Ligand=Other<br>Component 1=%{x}<br>Component 2=%{y}<br>Component 3=%{z}<extra></extra>",
         "legendgroup": "Other",
         "marker": {
          "color": "#636efa",
          "opacity": 0.8,
          "symbol": "circle"
         },
         "mode": "markers",
         "name": "Other",
         "scene": "scene",
         "showlegend": true,
         "x": [
          8.093235685950038,
          7.622713640922256,
          6.274782931328845,
          5.688124559979094,
          7.156773847867212,
          8.833408902186303,
          7.419622019689511,
          5.731764070450783,
          5.156636837317029,
          1.8013994081871898,
          2.5887709178279095,
          2.344761141724029,
          -3.0809745042424814,
          -4.3072199297888965,
          -4.939829637880348,
          -7.7921293692950915,
          -1.8007454391806343,
          9.090569936988796,
          11.09448209848451,
          8.592660955798904,
          9.09845044874577,
          3.678721224046793,
          7.114200560546309,
          5.761256380580422,
          7.6314922305168835,
          -7.590555596156493,
          -12.532503342345755,
          -12.278224241325429,
          -12.448896906169749,
          -12.154850489741415,
          -12.269804204738296,
          -17.008837673926916,
          2.230088928074128,
          -14.558337336682317,
          -14.62082423444724,
          -12.47529405248346,
          -0.6575259885535981,
          2.0712836727069575,
          -4.420723951913704,
          -7.126038497614273,
          -5.3230985188339615,
          -3.154424816765663,
          -3.145255846643484,
          1.8190432443524984,
          -4.745099794467456,
          -2.4443973880051137,
          -0.9161130539844012,
          -9.34068038223955,
          -2.548274378157642,
          -14.972641482657453,
          4.003646180354796,
          -0.893307581181896,
          -1.0514701161261526,
          -0.9858430976975318,
          -0.9049223023292517,
          -7.577826985328493,
          4.758899986067596,
          4.770211950422886,
          4.438024133540405,
          -4.489230302159371,
          -3.8249568889684475,
          -3.5479987838606717,
          -1.8831459248136282,
          5.000764885913871,
          6.771610321219066,
          5.530427085142365,
          6.062188915571845,
          7.799430578030749,
          3.459163596511962
         ],
         "y": [
          1.3138347679599611,
          0.47586681017732196,
          -2.702533429879413,
          -2.710998683752845,
          4.147141790015038,
          3.472660623183997,
          2.4595842898831886,
          2.2179307125790944,
          6.0110960368031945,
          2.3018994692766594,
          -4.526938360782531,
          -7.4545968948781445,
          2.3881701288415607,
          1.5091236965601822,
          1.399158289030678,
          -0.09700138761773719,
          1.710268667316179,
          -1.6204902430271686,
          3.6702393414683256,
          -0.2756211192825634,
          0.25885664445271467,
          -7.539916172177612,
          2.6034374288192144,
          -2.115569903723033,
          -0.8714003136511114,
          2.7658897874642303,
          -1.661271750238444,
          -1.5016736556455543,
          -1.550257115715833,
          -1.4193440598076081,
          -6.904886712998958,
          -7.2112646769466195,
          -9.172941356202713,
          -3.5463881339789474,
          -3.052869881108576,
          -1.5583347661530371,
          3.70062656237357,
          -9.173512339074039,
          7.165766403544129,
          4.231881791172706,
          6.712948274735965,
          10.226430464202753,
          7.801045659704752,
          -8.685765050236757,
          7.299382042321917,
          9.945322371531045,
          5.138749736664132,
          1.5004753627528886,
          7.181574290845652,
          -4.46509460685139,
          -7.083802637165753,
          4.899743111468832,
          4.5611491084454014,
          4.85411467215218,
          5.4599378608761375,
          3.26322981931395,
          -6.114930334128648,
          2.6824858791152297,
          -6.66508219858927,
          -1.7931738120712846,
          -2.8565633413444576,
          -1.8243932367284665,
          1.2209067093194819,
          -2.0451749104123205,
          -2.3082501133191715,
          -3.0786381057721126,
          -2.501680882826984,
          -1.242311338908867,
          -6.61987275925497
         ],
         "z": [
          -4.983577202561828,
          -5.425419918459539,
          -3.7725207279872937,
          -3.7701303253746055,
          -2.165011265562204,
          -5.761869095332817,
          -3.4161544440550093,
          -1.6311776871291106,
          -10.126160367825673,
          0.8948639485900968,
          5.711823590781133,
          5.805912683945928,
          1.2541164486098713,
          -0.878554359261164,
          -2.85679371820463,
          -3.2794675907726143,
          -0.7529459698129588,
          -1.364006927568358,
          -2.9880641494258,
          -2.7458029481939965,
          -2.199639415323592,
          1.3750824512004882,
          -0.3757194731311564,
          -5.101276328604746,
          0.09880292769427443,
          2.7519183116627493,
          -4.196581778892885,
          -3.87041870300509,
          -3.772806843305361,
          -3.7101643168739886,
          -4.45958930311726,
          -2.873300666795067,
          4.273852821695144,
          -2.4065901624443202,
          -2.120674013670361,
          -4.041011582964426,
          4.243407744409598,
          2.2287311268495906,
          1.0750431535870906,
          3.4293277701434444,
          1.6978194740657686,
          0.718810909171318,
          1.6178715274563087,
          4.753408600278541,
          2.2951708836272835,
          1.2593171938568621,
          4.842267649543334,
          2.9557136839301474,
          5.076284602358189,
          -0.9318709868153693,
          2.524975308743464,
          3.453714993798059,
          4.811049687884238,
          4.8548012336492405,
          4.7217582752004645,
          3.226760730543916,
          1.1786846399991833,
          -3.8997392513972415,
          3.4490955162464894,
          1.3963538446526957,
          -0.2170958410579027,
          1.4533632240036087,
          -1.6286576535764803,
          -0.6725513977706378,
          -0.30103039704033857,
          -1.3038324310633755,
          -0.9532558397247557,
          -4.033737588603753,
          6.826183146740727
         ],
         "type": "scatter3d"
        },
        {
         "hovertemplate": "Ligand=l_44<br>Component 1=%{x}<br>Component 2=%{y}<br>Component 3=%{z}<extra></extra>",
         "legendgroup": "l_44",
         "marker": {
          "color": "#EF553B",
          "opacity": 0.8,
          "symbol": "diamond"
         },
         "mode": "markers",
         "name": "l_44",
         "scene": "scene",
         "showlegend": true,
         "x": [
          4.01145309949336
         ],
         "y": [
          -1.0515965566092693
         ],
         "z": [
          3.347514092076621
         ],
         "type": "scatter3d"
        },
        {
         "hovertemplate": "Ligand=l_45<br>Component 1=%{x}<br>Component 2=%{y}<br>Component 3=%{z}<extra></extra>",
         "legendgroup": "l_45",
         "marker": {
          "color": "#00cc96",
          "opacity": 0.8,
          "symbol": "square"
         },
         "mode": "markers",
         "name": "l_45",
         "scene": "scene",
         "showlegend": true,
         "x": [
          5.030518754102719
         ],
         "y": [
          -1.501166449950997
         ],
         "z": [
          0.8332195191652597
         ],
         "type": "scatter3d"
        },
        {
         "hovertemplate": "Ligand=l_46<br>Component 1=%{x}<br>Component 2=%{y}<br>Component 3=%{z}<extra></extra>",
         "legendgroup": "l_46",
         "marker": {
          "color": "#ab63fa",
          "opacity": 0.8,
          "symbol": "x"
         },
         "mode": "markers",
         "name": "l_46",
         "scene": "scene",
         "showlegend": true,
         "x": [
          4.526018044568223
         ],
         "y": [
          -1.2056920201106354
         ],
         "z": [
          2.399032880153756
         ],
         "type": "scatter3d"
        },
        {
         "hovertemplate": "Ligand=l_47<br>Component 1=%{x}<br>Component 2=%{y}<br>Component 3=%{z}<extra></extra>",
         "legendgroup": "l_47",
         "marker": {
          "color": "#FFA15A",
          "opacity": 0.8,
          "symbol": "cross"
         },
         "mode": "markers",
         "name": "l_47",
         "scene": "scene",
         "showlegend": true,
         "x": [
          5.124476285048548
         ],
         "y": [
          -1.2577151812966676
         ],
         "z": [
          0.8913933645801988
         ],
         "type": "scatter3d"
        },
        {
         "hovertemplate": "Ligand=l_48<br>Component 1=%{x}<br>Component 2=%{y}<br>Component 3=%{z}<extra></extra>",
         "legendgroup": "l_48",
         "marker": {
          "color": "#19d3f3",
          "opacity": 0.8,
          "symbol": "circle"
         },
         "mode": "markers",
         "name": "l_48",
         "scene": "scene",
         "showlegend": true,
         "x": [
          6.272922817530555
         ],
         "y": [
          -0.8856077484837123
         ],
         "z": [
          0.2291592281323656
         ],
         "type": "scatter3d"
        },
        {
         "hovertemplate": "Ligand=l_49<br>Component 1=%{x}<br>Component 2=%{y}<br>Component 3=%{z}<extra></extra>",
         "legendgroup": "l_49",
         "marker": {
          "color": "#FF6692",
          "opacity": 0.8,
          "symbol": "diamond"
         },
         "mode": "markers",
         "name": "l_49",
         "scene": "scene",
         "showlegend": true,
         "x": [
          5.355834228121677
         ],
         "y": [
          -0.4339729477693119
         ],
         "z": [
          1.7985304978391217
         ],
         "type": "scatter3d"
        },
        {
         "hovertemplate": "Ligand=l_58<br>Component 1=%{x}<br>Component 2=%{y}<br>Component 3=%{z}<extra></extra>",
         "legendgroup": "l_58",
         "marker": {
          "color": "#B6E880",
          "opacity": 0.8,
          "symbol": "square"
         },
         "mode": "markers",
         "name": "l_58",
         "scene": "scene",
         "showlegend": true,
         "x": [
          6.816807449204977
         ],
         "y": [
          1.7390063568694045
         ],
         "z": [
          1.452292622629889
         ],
         "type": "scatter3d"
        },
        {
         "hovertemplate": "Ligand=l_59<br>Component 1=%{x}<br>Component 2=%{y}<br>Component 3=%{z}<extra></extra>",
         "legendgroup": "l_59",
         "marker": {
          "color": "#FF97FF",
          "opacity": 0.8,
          "symbol": "x"
         },
         "mode": "markers",
         "name": "l_59",
         "scene": "scene",
         "showlegend": true,
         "x": [
          7.185361085588495
         ],
         "y": [
          1.998360227231876
         ],
         "z": [
          1.779770363209236
         ],
         "type": "scatter3d"
        }
       ],
       "layout": {
        "template": {
         "data": {
          "histogram2dcontour": [
           {
            "type": "histogram2dcontour",
            "colorbar": {
             "outlinewidth": 0,
             "ticks": ""
            },
            "colorscale": [
             [
              0.0,
              "#0d0887"
             ],
             [
              0.1111111111111111,
              "#46039f"
             ],
             [
              0.2222222222222222,
              "#7201a8"
             ],
             [
              0.3333333333333333,
              "#9c179e"
             ],
             [
              0.4444444444444444,
              "#bd3786"
             ],
             [
              0.5555555555555556,
              "#d8576b"
             ],
             [
              0.6666666666666666,
              "#ed7953"
             ],
             [
              0.7777777777777778,
              "#fb9f3a"
             ],
             [
              0.8888888888888888,
              "#fdca26"
             ],
             [
              1.0,
              "#f0f921"
             ]
            ]
           }
          ],
          "choropleth": [
           {
            "type": "choropleth",
            "colorbar": {
             "outlinewidth": 0,
             "ticks": ""
            }
           }
          ],
          "histogram2d": [
           {
            "type": "histogram2d",
            "colorbar": {
             "outlinewidth": 0,
             "ticks": ""
            },
            "colorscale": [
             [
              0.0,
              "#0d0887"
             ],
             [
              0.1111111111111111,
              "#46039f"
             ],
             [
              0.2222222222222222,
              "#7201a8"
             ],
             [
              0.3333333333333333,
              "#9c179e"
             ],
             [
              0.4444444444444444,
              "#bd3786"
             ],
             [
              0.5555555555555556,
              "#d8576b"
             ],
             [
              0.6666666666666666,
              "#ed7953"
             ],
             [
              0.7777777777777778,
              "#fb9f3a"
             ],
             [
              0.8888888888888888,
              "#fdca26"
             ],
             [
              1.0,
              "#f0f921"
             ]
            ]
           }
          ],
          "heatmap": [
           {
            "type": "heatmap",
            "colorbar": {
             "outlinewidth": 0,
             "ticks": ""
            },
            "colorscale": [
             [
              0.0,
              "#0d0887"
             ],
             [
              0.1111111111111111,
              "#46039f"
             ],
             [
              0.2222222222222222,
              "#7201a8"
             ],
             [
              0.3333333333333333,
              "#9c179e"
             ],
             [
              0.4444444444444444,
              "#bd3786"
             ],
             [
              0.5555555555555556,
              "#d8576b"
             ],
             [
              0.6666666666666666,
              "#ed7953"
             ],
             [
              0.7777777777777778,
              "#fb9f3a"
             ],
             [
              0.8888888888888888,
              "#fdca26"
             ],
             [
              1.0,
              "#f0f921"
             ]
            ]
           }
          ],
          "heatmapgl": [
           {
            "type": "heatmapgl",
            "colorbar": {
             "outlinewidth": 0,
             "ticks": ""
            },
            "colorscale": [
             [
              0.0,
              "#0d0887"
             ],
             [
              0.1111111111111111,
              "#46039f"
             ],
             [
              0.2222222222222222,
              "#7201a8"
             ],
             [
              0.3333333333333333,
              "#9c179e"
             ],
             [
              0.4444444444444444,
              "#bd3786"
             ],
             [
              0.5555555555555556,
              "#d8576b"
             ],
             [
              0.6666666666666666,
              "#ed7953"
             ],
             [
              0.7777777777777778,
              "#fb9f3a"
             ],
             [
              0.8888888888888888,
              "#fdca26"
             ],
             [
              1.0,
              "#f0f921"
             ]
            ]
           }
          ],
          "contourcarpet": [
           {
            "type": "contourcarpet",
            "colorbar": {
             "outlinewidth": 0,
             "ticks": ""
            }
           }
          ],
          "contour": [
           {
            "type": "contour",
            "colorbar": {
             "outlinewidth": 0,
             "ticks": ""
            },
            "colorscale": [
             [
              0.0,
              "#0d0887"
             ],
             [
              0.1111111111111111,
              "#46039f"
             ],
             [
              0.2222222222222222,
              "#7201a8"
             ],
             [
              0.3333333333333333,
              "#9c179e"
             ],
             [
              0.4444444444444444,
              "#bd3786"
             ],
             [
              0.5555555555555556,
              "#d8576b"
             ],
             [
              0.6666666666666666,
              "#ed7953"
             ],
             [
              0.7777777777777778,
              "#fb9f3a"
             ],
             [
              0.8888888888888888,
              "#fdca26"
             ],
             [
              1.0,
              "#f0f921"
             ]
            ]
           }
          ],
          "surface": [
           {
            "type": "surface",
            "colorbar": {
             "outlinewidth": 0,
             "ticks": ""
            },
            "colorscale": [
             [
              0.0,
              "#0d0887"
             ],
             [
              0.1111111111111111,
              "#46039f"
             ],
             [
              0.2222222222222222,
              "#7201a8"
             ],
             [
              0.3333333333333333,
              "#9c179e"
             ],
             [
              0.4444444444444444,
              "#bd3786"
             ],
             [
              0.5555555555555556,
              "#d8576b"
             ],
             [
              0.6666666666666666,
              "#ed7953"
             ],
             [
              0.7777777777777778,
              "#fb9f3a"
             ],
             [
              0.8888888888888888,
              "#fdca26"
             ],
             [
              1.0,
              "#f0f921"
             ]
            ]
           }
          ],
          "mesh3d": [
           {
            "type": "mesh3d",
            "colorbar": {
             "outlinewidth": 0,
             "ticks": ""
            }
           }
          ],
          "scatter": [
           {
            "fillpattern": {
             "fillmode": "overlay",
             "size": 10,
             "solidity": 0.2
            },
            "type": "scatter"
           }
          ],
          "parcoords": [
           {
            "type": "parcoords",
            "line": {
             "colorbar": {
              "outlinewidth": 0,
              "ticks": ""
             }
            }
           }
          ],
          "scatterpolargl": [
           {
            "type": "scatterpolargl",
            "marker": {
             "colorbar": {
              "outlinewidth": 0,
              "ticks": ""
             }
            }
           }
          ],
          "bar": [
           {
            "error_x": {
             "color": "#2a3f5f"
            },
            "error_y": {
             "color": "#2a3f5f"
            },
            "marker": {
             "line": {
              "color": "#E5ECF6",
              "width": 0.5
             },
             "pattern": {
              "fillmode": "overlay",
              "size": 10,
              "solidity": 0.2
             }
            },
            "type": "bar"
           }
          ],
          "scattergeo": [
           {
            "type": "scattergeo",
            "marker": {
             "colorbar": {
              "outlinewidth": 0,
              "ticks": ""
             }
            }
           }
          ],
          "scatterpolar": [
           {
            "type": "scatterpolar",
            "marker": {
             "colorbar": {
              "outlinewidth": 0,
              "ticks": ""
             }
            }
           }
          ],
          "histogram": [
           {
            "marker": {
             "pattern": {
              "fillmode": "overlay",
              "size": 10,
              "solidity": 0.2
             }
            },
            "type": "histogram"
           }
          ],
          "scattergl": [
           {
            "type": "scattergl",
            "marker": {
             "colorbar": {
              "outlinewidth": 0,
              "ticks": ""
             }
            }
           }
          ],
          "scatter3d": [
           {
            "type": "scatter3d",
            "line": {
             "colorbar": {
              "outlinewidth": 0,
              "ticks": ""
             }
            },
            "marker": {
             "colorbar": {
              "outlinewidth": 0,
              "ticks": ""
             }
            }
           }
          ],
          "scattermapbox": [
           {
            "type": "scattermapbox",
            "marker": {
             "colorbar": {
              "outlinewidth": 0,
              "ticks": ""
             }
            }
           }
          ],
          "scatterternary": [
           {
            "type": "scatterternary",
            "marker": {
             "colorbar": {
              "outlinewidth": 0,
              "ticks": ""
             }
            }
           }
          ],
          "scattercarpet": [
           {
            "type": "scattercarpet",
            "marker": {
             "colorbar": {
              "outlinewidth": 0,
              "ticks": ""
             }
            }
           }
          ],
          "carpet": [
           {
            "aaxis": {
             "endlinecolor": "#2a3f5f",
             "gridcolor": "white",
             "linecolor": "white",
             "minorgridcolor": "white",
             "startlinecolor": "#2a3f5f"
            },
            "baxis": {
             "endlinecolor": "#2a3f5f",
             "gridcolor": "white",
             "linecolor": "white",
             "minorgridcolor": "white",
             "startlinecolor": "#2a3f5f"
            },
            "type": "carpet"
           }
          ],
          "table": [
           {
            "cells": {
             "fill": {
              "color": "#EBF0F8"
             },
             "line": {
              "color": "white"
             }
            },
            "header": {
             "fill": {
              "color": "#C8D4E3"
             },
             "line": {
              "color": "white"
             }
            },
            "type": "table"
           }
          ],
          "barpolar": [
           {
            "marker": {
             "line": {
              "color": "#E5ECF6",
              "width": 0.5
             },
             "pattern": {
              "fillmode": "overlay",
              "size": 10,
              "solidity": 0.2
             }
            },
            "type": "barpolar"
           }
          ],
          "pie": [
           {
            "automargin": true,
            "type": "pie"
           }
          ]
         },
         "layout": {
          "autotypenumbers": "strict",
          "colorway": [
           "#636efa",
           "#EF553B",
           "#00cc96",
           "#ab63fa",
           "#FFA15A",
           "#19d3f3",
           "#FF6692",
           "#B6E880",
           "#FF97FF",
           "#FECB52"
          ],
          "font": {
           "color": "#2a3f5f"
          },
          "hovermode": "closest",
          "hoverlabel": {
           "align": "left"
          },
          "paper_bgcolor": "white",
          "plot_bgcolor": "#E5ECF6",
          "polar": {
           "bgcolor": "#E5ECF6",
           "angularaxis": {
            "gridcolor": "white",
            "linecolor": "white",
            "ticks": ""
           },
           "radialaxis": {
            "gridcolor": "white",
            "linecolor": "white",
            "ticks": ""
           }
          },
          "ternary": {
           "bgcolor": "#E5ECF6",
           "aaxis": {
            "gridcolor": "white",
            "linecolor": "white",
            "ticks": ""
           },
           "baxis": {
            "gridcolor": "white",
            "linecolor": "white",
            "ticks": ""
           },
           "caxis": {
            "gridcolor": "white",
            "linecolor": "white",
            "ticks": ""
           }
          },
          "coloraxis": {
           "colorbar": {
            "outlinewidth": 0,
            "ticks": ""
           }
          },
          "colorscale": {
           "sequential": [
            [
             0.0,
             "#0d0887"
            ],
            [
             0.1111111111111111,
             "#46039f"
            ],
            [
             0.2222222222222222,
             "#7201a8"
            ],
            [
             0.3333333333333333,
             "#9c179e"
            ],
            [
             0.4444444444444444,
             "#bd3786"
            ],
            [
             0.5555555555555556,
             "#d8576b"
            ],
            [
             0.6666666666666666,
             "#ed7953"
            ],
            [
             0.7777777777777778,
             "#fb9f3a"
            ],
            [
             0.8888888888888888,
             "#fdca26"
            ],
            [
             1.0,
             "#f0f921"
            ]
           ],
           "sequentialminus": [
            [
             0.0,
             "#0d0887"
            ],
            [
             0.1111111111111111,
             "#46039f"
            ],
            [
             0.2222222222222222,
             "#7201a8"
            ],
            [
             0.3333333333333333,
             "#9c179e"
            ],
            [
             0.4444444444444444,
             "#bd3786"
            ],
            [
             0.5555555555555556,
             "#d8576b"
            ],
            [
             0.6666666666666666,
             "#ed7953"
            ],
            [
             0.7777777777777778,
             "#fb9f3a"
            ],
            [
             0.8888888888888888,
             "#fdca26"
            ],
            [
             1.0,
             "#f0f921"
            ]
           ],
           "diverging": [
            [
             0,
             "#8e0152"
            ],
            [
             0.1,
             "#c51b7d"
            ],
            [
             0.2,
             "#de77ae"
            ],
            [
             0.3,
             "#f1b6da"
            ],
            [
             0.4,
             "#fde0ef"
            ],
            [
             0.5,
             "#f7f7f7"
            ],
            [
             0.6,
             "#e6f5d0"
            ],
            [
             0.7,
             "#b8e186"
            ],
            [
             0.8,
             "#7fbc41"
            ],
            [
             0.9,
             "#4d9221"
            ],
            [
             1,
             "#276419"
            ]
           ]
          },
          "xaxis": {
           "gridcolor": "white",
           "linecolor": "white",
           "ticks": "",
           "title": {
            "standoff": 15
           },
           "zerolinecolor": "white",
           "automargin": true,
           "zerolinewidth": 2
          },
          "yaxis": {
           "gridcolor": "white",
           "linecolor": "white",
           "ticks": "",
           "title": {
            "standoff": 15
           },
           "zerolinecolor": "white",
           "automargin": true,
           "zerolinewidth": 2
          },
          "scene": {
           "xaxis": {
            "backgroundcolor": "#E5ECF6",
            "gridcolor": "white",
            "linecolor": "white",
            "showbackground": true,
            "ticks": "",
            "zerolinecolor": "white",
            "gridwidth": 2
           },
           "yaxis": {
            "backgroundcolor": "#E5ECF6",
            "gridcolor": "white",
            "linecolor": "white",
            "showbackground": true,
            "ticks": "",
            "zerolinecolor": "white",
            "gridwidth": 2
           },
           "zaxis": {
            "backgroundcolor": "#E5ECF6",
            "gridcolor": "white",
            "linecolor": "white",
            "showbackground": true,
            "ticks": "",
            "zerolinecolor": "white",
            "gridwidth": 2
           }
          },
          "shapedefaults": {
           "line": {
            "color": "#2a3f5f"
           }
          },
          "annotationdefaults": {
           "arrowcolor": "#2a3f5f",
           "arrowhead": 0,
           "arrowwidth": 1
          },
          "geo": {
           "bgcolor": "white",
           "landcolor": "#E5ECF6",
           "subunitcolor": "white",
           "showland": true,
           "showlakes": true,
           "lakecolor": "white"
          },
          "title": {
           "x": 0.05
          },
          "mapbox": {
           "style": "light"
          }
         }
        },
        "scene": {
         "domain": {
          "x": [
           0.0,
           1.0
          ],
          "y": [
           0.0,
           1.0
          ]
         },
         "xaxis": {
          "title": {
           "text": "Component 1"
          }
         },
         "yaxis": {
          "title": {
           "text": "Component 2"
          }
         },
         "zaxis": {
          "title": {
           "text": "Component 3"
          }
         }
        },
        "legend": {
         "title": {
          "text": "Ligand Categories"
         },
         "tracegroupgap": 0
        },
        "title": {
         "text": "Interactive 3D PCA Plot"
        }
       },
       "config": {
        "plotlyServerURL": "https://plot.ly"
       }
      },
      "text/html": [
       "<div>                            <div id=\"29eb9d3e-4f3a-4a63-bbb2-3f825336140a\" class=\"plotly-graph-div\" style=\"height:525px; width:100%;\"></div>            <script type=\"text/javascript\">                require([\"plotly\"], function(Plotly) {                    window.PLOTLYENV=window.PLOTLYENV || {};                                    if (document.getElementById(\"29eb9d3e-4f3a-4a63-bbb2-3f825336140a\")) {                    Plotly.newPlot(                        \"29eb9d3e-4f3a-4a63-bbb2-3f825336140a\",                        [{\"hovertemplate\":\"Ligand=Other\\u003cbr\\u003eComponent 1=%{x}\\u003cbr\\u003eComponent 2=%{y}\\u003cbr\\u003eComponent 3=%{z}\\u003cextra\\u003e\\u003c\\u002fextra\\u003e\",\"legendgroup\":\"Other\",\"marker\":{\"color\":\"#636efa\",\"opacity\":0.8,\"symbol\":\"circle\"},\"mode\":\"markers\",\"name\":\"Other\",\"scene\":\"scene\",\"showlegend\":true,\"x\":[8.093235685950038,7.622713640922256,6.274782931328845,5.688124559979094,7.156773847867212,8.833408902186303,7.419622019689511,5.731764070450783,5.156636837317029,1.8013994081871898,2.5887709178279095,2.344761141724029,-3.0809745042424814,-4.3072199297888965,-4.939829637880348,-7.7921293692950915,-1.8007454391806343,9.090569936988796,11.09448209848451,8.592660955798904,9.09845044874577,3.678721224046793,7.114200560546309,5.761256380580422,7.6314922305168835,-7.590555596156493,-12.532503342345755,-12.278224241325429,-12.448896906169749,-12.154850489741415,-12.269804204738296,-17.008837673926916,2.230088928074128,-14.558337336682317,-14.62082423444724,-12.47529405248346,-0.6575259885535981,2.0712836727069575,-4.420723951913704,-7.126038497614273,-5.3230985188339615,-3.154424816765663,-3.145255846643484,1.8190432443524984,-4.745099794467456,-2.4443973880051137,-0.9161130539844012,-9.34068038223955,-2.548274378157642,-14.972641482657453,4.003646180354796,-0.893307581181896,-1.0514701161261526,-0.9858430976975318,-0.9049223023292517,-7.577826985328493,4.758899986067596,4.770211950422886,4.438024133540405,-4.489230302159371,-3.8249568889684475,-3.5479987838606717,-1.8831459248136282,5.000764885913871,6.771610321219066,5.530427085142365,6.062188915571845,7.799430578030749,3.459163596511962],\"y\":[1.3138347679599611,0.47586681017732196,-2.702533429879413,-2.710998683752845,4.147141790015038,3.472660623183997,2.4595842898831886,2.2179307125790944,6.0110960368031945,2.3018994692766594,-4.526938360782531,-7.4545968948781445,2.3881701288415607,1.5091236965601822,1.399158289030678,-0.09700138761773719,1.710268667316179,-1.6204902430271686,3.6702393414683256,-0.2756211192825634,0.25885664445271467,-7.539916172177612,2.6034374288192144,-2.115569903723033,-0.8714003136511114,2.7658897874642303,-1.661271750238444,-1.5016736556455543,-1.550257115715833,-1.4193440598076081,-6.904886712998958,-7.2112646769466195,-9.172941356202713,-3.5463881339789474,-3.052869881108576,-1.5583347661530371,3.70062656237357,-9.173512339074039,7.165766403544129,4.231881791172706,6.712948274735965,10.226430464202753,7.801045659704752,-8.685765050236757,7.299382042321917,9.945322371531045,5.138749736664132,1.5004753627528886,7.181574290845652,-4.46509460685139,-7.083802637165753,4.899743111468832,4.5611491084454014,4.85411467215218,5.4599378608761375,3.26322981931395,-6.114930334128648,2.6824858791152297,-6.66508219858927,-1.7931738120712846,-2.8565633413444576,-1.8243932367284665,1.2209067093194819,-2.0451749104123205,-2.3082501133191715,-3.0786381057721126,-2.501680882826984,-1.242311338908867,-6.61987275925497],\"z\":[-4.983577202561828,-5.425419918459539,-3.7725207279872937,-3.7701303253746055,-2.165011265562204,-5.761869095332817,-3.4161544440550093,-1.6311776871291106,-10.126160367825673,0.8948639485900968,5.711823590781133,5.805912683945928,1.2541164486098713,-0.878554359261164,-2.85679371820463,-3.2794675907726143,-0.7529459698129588,-1.364006927568358,-2.9880641494258,-2.7458029481939965,-2.199639415323592,1.3750824512004882,-0.3757194731311564,-5.101276328604746,0.09880292769427443,2.7519183116627493,-4.196581778892885,-3.87041870300509,-3.772806843305361,-3.7101643168739886,-4.45958930311726,-2.873300666795067,4.273852821695144,-2.4065901624443202,-2.120674013670361,-4.041011582964426,4.243407744409598,2.2287311268495906,1.0750431535870906,3.4293277701434444,1.6978194740657686,0.718810909171318,1.6178715274563087,4.753408600278541,2.2951708836272835,1.2593171938568621,4.842267649543334,2.9557136839301474,5.076284602358189,-0.9318709868153693,2.524975308743464,3.453714993798059,4.811049687884238,4.8548012336492405,4.7217582752004645,3.226760730543916,1.1786846399991833,-3.8997392513972415,3.4490955162464894,1.3963538446526957,-0.2170958410579027,1.4533632240036087,-1.6286576535764803,-0.6725513977706378,-0.30103039704033857,-1.3038324310633755,-0.9532558397247557,-4.033737588603753,6.826183146740727],\"type\":\"scatter3d\"},{\"hovertemplate\":\"Ligand=l_44\\u003cbr\\u003eComponent 1=%{x}\\u003cbr\\u003eComponent 2=%{y}\\u003cbr\\u003eComponent 3=%{z}\\u003cextra\\u003e\\u003c\\u002fextra\\u003e\",\"legendgroup\":\"l_44\",\"marker\":{\"color\":\"#EF553B\",\"opacity\":0.8,\"symbol\":\"diamond\"},\"mode\":\"markers\",\"name\":\"l_44\",\"scene\":\"scene\",\"showlegend\":true,\"x\":[4.01145309949336],\"y\":[-1.0515965566092693],\"z\":[3.347514092076621],\"type\":\"scatter3d\"},{\"hovertemplate\":\"Ligand=l_45\\u003cbr\\u003eComponent 1=%{x}\\u003cbr\\u003eComponent 2=%{y}\\u003cbr\\u003eComponent 3=%{z}\\u003cextra\\u003e\\u003c\\u002fextra\\u003e\",\"legendgroup\":\"l_45\",\"marker\":{\"color\":\"#00cc96\",\"opacity\":0.8,\"symbol\":\"square\"},\"mode\":\"markers\",\"name\":\"l_45\",\"scene\":\"scene\",\"showlegend\":true,\"x\":[5.030518754102719],\"y\":[-1.501166449950997],\"z\":[0.8332195191652597],\"type\":\"scatter3d\"},{\"hovertemplate\":\"Ligand=l_46\\u003cbr\\u003eComponent 1=%{x}\\u003cbr\\u003eComponent 2=%{y}\\u003cbr\\u003eComponent 3=%{z}\\u003cextra\\u003e\\u003c\\u002fextra\\u003e\",\"legendgroup\":\"l_46\",\"marker\":{\"color\":\"#ab63fa\",\"opacity\":0.8,\"symbol\":\"x\"},\"mode\":\"markers\",\"name\":\"l_46\",\"scene\":\"scene\",\"showlegend\":true,\"x\":[4.526018044568223],\"y\":[-1.2056920201106354],\"z\":[2.399032880153756],\"type\":\"scatter3d\"},{\"hovertemplate\":\"Ligand=l_47\\u003cbr\\u003eComponent 1=%{x}\\u003cbr\\u003eComponent 2=%{y}\\u003cbr\\u003eComponent 3=%{z}\\u003cextra\\u003e\\u003c\\u002fextra\\u003e\",\"legendgroup\":\"l_47\",\"marker\":{\"color\":\"#FFA15A\",\"opacity\":0.8,\"symbol\":\"cross\"},\"mode\":\"markers\",\"name\":\"l_47\",\"scene\":\"scene\",\"showlegend\":true,\"x\":[5.124476285048548],\"y\":[-1.2577151812966676],\"z\":[0.8913933645801988],\"type\":\"scatter3d\"},{\"hovertemplate\":\"Ligand=l_48\\u003cbr\\u003eComponent 1=%{x}\\u003cbr\\u003eComponent 2=%{y}\\u003cbr\\u003eComponent 3=%{z}\\u003cextra\\u003e\\u003c\\u002fextra\\u003e\",\"legendgroup\":\"l_48\",\"marker\":{\"color\":\"#19d3f3\",\"opacity\":0.8,\"symbol\":\"circle\"},\"mode\":\"markers\",\"name\":\"l_48\",\"scene\":\"scene\",\"showlegend\":true,\"x\":[6.272922817530555],\"y\":[-0.8856077484837123],\"z\":[0.2291592281323656],\"type\":\"scatter3d\"},{\"hovertemplate\":\"Ligand=l_49\\u003cbr\\u003eComponent 1=%{x}\\u003cbr\\u003eComponent 2=%{y}\\u003cbr\\u003eComponent 3=%{z}\\u003cextra\\u003e\\u003c\\u002fextra\\u003e\",\"legendgroup\":\"l_49\",\"marker\":{\"color\":\"#FF6692\",\"opacity\":0.8,\"symbol\":\"diamond\"},\"mode\":\"markers\",\"name\":\"l_49\",\"scene\":\"scene\",\"showlegend\":true,\"x\":[5.355834228121677],\"y\":[-0.4339729477693119],\"z\":[1.7985304978391217],\"type\":\"scatter3d\"},{\"hovertemplate\":\"Ligand=l_58\\u003cbr\\u003eComponent 1=%{x}\\u003cbr\\u003eComponent 2=%{y}\\u003cbr\\u003eComponent 3=%{z}\\u003cextra\\u003e\\u003c\\u002fextra\\u003e\",\"legendgroup\":\"l_58\",\"marker\":{\"color\":\"#B6E880\",\"opacity\":0.8,\"symbol\":\"square\"},\"mode\":\"markers\",\"name\":\"l_58\",\"scene\":\"scene\",\"showlegend\":true,\"x\":[6.816807449204977],\"y\":[1.7390063568694045],\"z\":[1.452292622629889],\"type\":\"scatter3d\"},{\"hovertemplate\":\"Ligand=l_59\\u003cbr\\u003eComponent 1=%{x}\\u003cbr\\u003eComponent 2=%{y}\\u003cbr\\u003eComponent 3=%{z}\\u003cextra\\u003e\\u003c\\u002fextra\\u003e\",\"legendgroup\":\"l_59\",\"marker\":{\"color\":\"#FF97FF\",\"opacity\":0.8,\"symbol\":\"x\"},\"mode\":\"markers\",\"name\":\"l_59\",\"scene\":\"scene\",\"showlegend\":true,\"x\":[7.185361085588495],\"y\":[1.998360227231876],\"z\":[1.779770363209236],\"type\":\"scatter3d\"}],                        {\"template\":{\"data\":{\"histogram2dcontour\":[{\"type\":\"histogram2dcontour\",\"colorbar\":{\"outlinewidth\":0,\"ticks\":\"\"},\"colorscale\":[[0.0,\"#0d0887\"],[0.1111111111111111,\"#46039f\"],[0.2222222222222222,\"#7201a8\"],[0.3333333333333333,\"#9c179e\"],[0.4444444444444444,\"#bd3786\"],[0.5555555555555556,\"#d8576b\"],[0.6666666666666666,\"#ed7953\"],[0.7777777777777778,\"#fb9f3a\"],[0.8888888888888888,\"#fdca26\"],[1.0,\"#f0f921\"]]}],\"choropleth\":[{\"type\":\"choropleth\",\"colorbar\":{\"outlinewidth\":0,\"ticks\":\"\"}}],\"histogram2d\":[{\"type\":\"histogram2d\",\"colorbar\":{\"outlinewidth\":0,\"ticks\":\"\"},\"colorscale\":[[0.0,\"#0d0887\"],[0.1111111111111111,\"#46039f\"],[0.2222222222222222,\"#7201a8\"],[0.3333333333333333,\"#9c179e\"],[0.4444444444444444,\"#bd3786\"],[0.5555555555555556,\"#d8576b\"],[0.6666666666666666,\"#ed7953\"],[0.7777777777777778,\"#fb9f3a\"],[0.8888888888888888,\"#fdca26\"],[1.0,\"#f0f921\"]]}],\"heatmap\":[{\"type\":\"heatmap\",\"colorbar\":{\"outlinewidth\":0,\"ticks\":\"\"},\"colorscale\":[[0.0,\"#0d0887\"],[0.1111111111111111,\"#46039f\"],[0.2222222222222222,\"#7201a8\"],[0.3333333333333333,\"#9c179e\"],[0.4444444444444444,\"#bd3786\"],[0.5555555555555556,\"#d8576b\"],[0.6666666666666666,\"#ed7953\"],[0.7777777777777778,\"#fb9f3a\"],[0.8888888888888888,\"#fdca26\"],[1.0,\"#f0f921\"]]}],\"heatmapgl\":[{\"type\":\"heatmapgl\",\"colorbar\":{\"outlinewidth\":0,\"ticks\":\"\"},\"colorscale\":[[0.0,\"#0d0887\"],[0.1111111111111111,\"#46039f\"],[0.2222222222222222,\"#7201a8\"],[0.3333333333333333,\"#9c179e\"],[0.4444444444444444,\"#bd3786\"],[0.5555555555555556,\"#d8576b\"],[0.6666666666666666,\"#ed7953\"],[0.7777777777777778,\"#fb9f3a\"],[0.8888888888888888,\"#fdca26\"],[1.0,\"#f0f921\"]]}],\"contourcarpet\":[{\"type\":\"contourcarpet\",\"colorbar\":{\"outlinewidth\":0,\"ticks\":\"\"}}],\"contour\":[{\"type\":\"contour\",\"colorbar\":{\"outlinewidth\":0,\"ticks\":\"\"},\"colorscale\":[[0.0,\"#0d0887\"],[0.1111111111111111,\"#46039f\"],[0.2222222222222222,\"#7201a8\"],[0.3333333333333333,\"#9c179e\"],[0.4444444444444444,\"#bd3786\"],[0.5555555555555556,\"#d8576b\"],[0.6666666666666666,\"#ed7953\"],[0.7777777777777778,\"#fb9f3a\"],[0.8888888888888888,\"#fdca26\"],[1.0,\"#f0f921\"]]}],\"surface\":[{\"type\":\"surface\",\"colorbar\":{\"outlinewidth\":0,\"ticks\":\"\"},\"colorscale\":[[0.0,\"#0d0887\"],[0.1111111111111111,\"#46039f\"],[0.2222222222222222,\"#7201a8\"],[0.3333333333333333,\"#9c179e\"],[0.4444444444444444,\"#bd3786\"],[0.5555555555555556,\"#d8576b\"],[0.6666666666666666,\"#ed7953\"],[0.7777777777777778,\"#fb9f3a\"],[0.8888888888888888,\"#fdca26\"],[1.0,\"#f0f921\"]]}],\"mesh3d\":[{\"type\":\"mesh3d\",\"colorbar\":{\"outlinewidth\":0,\"ticks\":\"\"}}],\"scatter\":[{\"fillpattern\":{\"fillmode\":\"overlay\",\"size\":10,\"solidity\":0.2},\"type\":\"scatter\"}],\"parcoords\":[{\"type\":\"parcoords\",\"line\":{\"colorbar\":{\"outlinewidth\":0,\"ticks\":\"\"}}}],\"scatterpolargl\":[{\"type\":\"scatterpolargl\",\"marker\":{\"colorbar\":{\"outlinewidth\":0,\"ticks\":\"\"}}}],\"bar\":[{\"error_x\":{\"color\":\"#2a3f5f\"},\"error_y\":{\"color\":\"#2a3f5f\"},\"marker\":{\"line\":{\"color\":\"#E5ECF6\",\"width\":0.5},\"pattern\":{\"fillmode\":\"overlay\",\"size\":10,\"solidity\":0.2}},\"type\":\"bar\"}],\"scattergeo\":[{\"type\":\"scattergeo\",\"marker\":{\"colorbar\":{\"outlinewidth\":0,\"ticks\":\"\"}}}],\"scatterpolar\":[{\"type\":\"scatterpolar\",\"marker\":{\"colorbar\":{\"outlinewidth\":0,\"ticks\":\"\"}}}],\"histogram\":[{\"marker\":{\"pattern\":{\"fillmode\":\"overlay\",\"size\":10,\"solidity\":0.2}},\"type\":\"histogram\"}],\"scattergl\":[{\"type\":\"scattergl\",\"marker\":{\"colorbar\":{\"outlinewidth\":0,\"ticks\":\"\"}}}],\"scatter3d\":[{\"type\":\"scatter3d\",\"line\":{\"colorbar\":{\"outlinewidth\":0,\"ticks\":\"\"}},\"marker\":{\"colorbar\":{\"outlinewidth\":0,\"ticks\":\"\"}}}],\"scattermapbox\":[{\"type\":\"scattermapbox\",\"marker\":{\"colorbar\":{\"outlinewidth\":0,\"ticks\":\"\"}}}],\"scatterternary\":[{\"type\":\"scatterternary\",\"marker\":{\"colorbar\":{\"outlinewidth\":0,\"ticks\":\"\"}}}],\"scattercarpet\":[{\"type\":\"scattercarpet\",\"marker\":{\"colorbar\":{\"outlinewidth\":0,\"ticks\":\"\"}}}],\"carpet\":[{\"aaxis\":{\"endlinecolor\":\"#2a3f5f\",\"gridcolor\":\"white\",\"linecolor\":\"white\",\"minorgridcolor\":\"white\",\"startlinecolor\":\"#2a3f5f\"},\"baxis\":{\"endlinecolor\":\"#2a3f5f\",\"gridcolor\":\"white\",\"linecolor\":\"white\",\"minorgridcolor\":\"white\",\"startlinecolor\":\"#2a3f5f\"},\"type\":\"carpet\"}],\"table\":[{\"cells\":{\"fill\":{\"color\":\"#EBF0F8\"},\"line\":{\"color\":\"white\"}},\"header\":{\"fill\":{\"color\":\"#C8D4E3\"},\"line\":{\"color\":\"white\"}},\"type\":\"table\"}],\"barpolar\":[{\"marker\":{\"line\":{\"color\":\"#E5ECF6\",\"width\":0.5},\"pattern\":{\"fillmode\":\"overlay\",\"size\":10,\"solidity\":0.2}},\"type\":\"barpolar\"}],\"pie\":[{\"automargin\":true,\"type\":\"pie\"}]},\"layout\":{\"autotypenumbers\":\"strict\",\"colorway\":[\"#636efa\",\"#EF553B\",\"#00cc96\",\"#ab63fa\",\"#FFA15A\",\"#19d3f3\",\"#FF6692\",\"#B6E880\",\"#FF97FF\",\"#FECB52\"],\"font\":{\"color\":\"#2a3f5f\"},\"hovermode\":\"closest\",\"hoverlabel\":{\"align\":\"left\"},\"paper_bgcolor\":\"white\",\"plot_bgcolor\":\"#E5ECF6\",\"polar\":{\"bgcolor\":\"#E5ECF6\",\"angularaxis\":{\"gridcolor\":\"white\",\"linecolor\":\"white\",\"ticks\":\"\"},\"radialaxis\":{\"gridcolor\":\"white\",\"linecolor\":\"white\",\"ticks\":\"\"}},\"ternary\":{\"bgcolor\":\"#E5ECF6\",\"aaxis\":{\"gridcolor\":\"white\",\"linecolor\":\"white\",\"ticks\":\"\"},\"baxis\":{\"gridcolor\":\"white\",\"linecolor\":\"white\",\"ticks\":\"\"},\"caxis\":{\"gridcolor\":\"white\",\"linecolor\":\"white\",\"ticks\":\"\"}},\"coloraxis\":{\"colorbar\":{\"outlinewidth\":0,\"ticks\":\"\"}},\"colorscale\":{\"sequential\":[[0.0,\"#0d0887\"],[0.1111111111111111,\"#46039f\"],[0.2222222222222222,\"#7201a8\"],[0.3333333333333333,\"#9c179e\"],[0.4444444444444444,\"#bd3786\"],[0.5555555555555556,\"#d8576b\"],[0.6666666666666666,\"#ed7953\"],[0.7777777777777778,\"#fb9f3a\"],[0.8888888888888888,\"#fdca26\"],[1.0,\"#f0f921\"]],\"sequentialminus\":[[0.0,\"#0d0887\"],[0.1111111111111111,\"#46039f\"],[0.2222222222222222,\"#7201a8\"],[0.3333333333333333,\"#9c179e\"],[0.4444444444444444,\"#bd3786\"],[0.5555555555555556,\"#d8576b\"],[0.6666666666666666,\"#ed7953\"],[0.7777777777777778,\"#fb9f3a\"],[0.8888888888888888,\"#fdca26\"],[1.0,\"#f0f921\"]],\"diverging\":[[0,\"#8e0152\"],[0.1,\"#c51b7d\"],[0.2,\"#de77ae\"],[0.3,\"#f1b6da\"],[0.4,\"#fde0ef\"],[0.5,\"#f7f7f7\"],[0.6,\"#e6f5d0\"],[0.7,\"#b8e186\"],[0.8,\"#7fbc41\"],[0.9,\"#4d9221\"],[1,\"#276419\"]]},\"xaxis\":{\"gridcolor\":\"white\",\"linecolor\":\"white\",\"ticks\":\"\",\"title\":{\"standoff\":15},\"zerolinecolor\":\"white\",\"automargin\":true,\"zerolinewidth\":2},\"yaxis\":{\"gridcolor\":\"white\",\"linecolor\":\"white\",\"ticks\":\"\",\"title\":{\"standoff\":15},\"zerolinecolor\":\"white\",\"automargin\":true,\"zerolinewidth\":2},\"scene\":{\"xaxis\":{\"backgroundcolor\":\"#E5ECF6\",\"gridcolor\":\"white\",\"linecolor\":\"white\",\"showbackground\":true,\"ticks\":\"\",\"zerolinecolor\":\"white\",\"gridwidth\":2},\"yaxis\":{\"backgroundcolor\":\"#E5ECF6\",\"gridcolor\":\"white\",\"linecolor\":\"white\",\"showbackground\":true,\"ticks\":\"\",\"zerolinecolor\":\"white\",\"gridwidth\":2},\"zaxis\":{\"backgroundcolor\":\"#E5ECF6\",\"gridcolor\":\"white\",\"linecolor\":\"white\",\"showbackground\":true,\"ticks\":\"\",\"zerolinecolor\":\"white\",\"gridwidth\":2}},\"shapedefaults\":{\"line\":{\"color\":\"#2a3f5f\"}},\"annotationdefaults\":{\"arrowcolor\":\"#2a3f5f\",\"arrowhead\":0,\"arrowwidth\":1},\"geo\":{\"bgcolor\":\"white\",\"landcolor\":\"#E5ECF6\",\"subunitcolor\":\"white\",\"showland\":true,\"showlakes\":true,\"lakecolor\":\"white\"},\"title\":{\"x\":0.05},\"mapbox\":{\"style\":\"light\"}}},\"scene\":{\"domain\":{\"x\":[0.0,1.0],\"y\":[0.0,1.0]},\"xaxis\":{\"title\":{\"text\":\"Component 1\"}},\"yaxis\":{\"title\":{\"text\":\"Component 2\"}},\"zaxis\":{\"title\":{\"text\":\"Component 3\"}}},\"legend\":{\"title\":{\"text\":\"Ligand Categories\"},\"tracegroupgap\":0},\"title\":{\"text\":\"Interactive 3D PCA Plot\"}},                        {\"responsive\": true}                    ).then(function(){\n",
       "                            \n",
       "var gd = document.getElementById('29eb9d3e-4f3a-4a63-bbb2-3f825336140a');\n",
       "var x = new MutationObserver(function (mutations, observer) {{\n",
       "        var display = window.getComputedStyle(gd).display;\n",
       "        if (!display || display === 'none') {{\n",
       "            console.log([gd, 'removed!']);\n",
       "            Plotly.purge(gd);\n",
       "            observer.disconnect();\n",
       "        }}\n",
       "}});\n",
       "\n",
       "// Listen for the removal of the full notebook cells\n",
       "var notebookContainer = gd.closest('#notebook-container');\n",
       "if (notebookContainer) {{\n",
       "    x.observe(notebookContainer, {childList: true});\n",
       "}}\n",
       "\n",
       "// Listen for the clearing of the current output cell\n",
       "var outputEl = gd.closest('.output');\n",
       "if (outputEl) {{\n",
       "    x.observe(outputEl, {childList: true});\n",
       "}}\n",
       "\n",
       "                        })                };                });            </script>        </div>"
      ]
     },
     "metadata": {},
     "output_type": "display_data"
    }
   ],
   "execution_count": 16
  }
 ],
 "metadata": {
  "kernelspec": {
   "display_name": "Python 3 (ipykernel)",
   "language": "python",
   "name": "python3"
  },
  "language_info": {
   "codemirror_mode": {
    "name": "ipython",
    "version": 3
   },
   "file_extension": ".py",
   "mimetype": "text/x-python",
   "name": "python",
   "nbconvert_exporter": "python",
   "pygments_lexer": "ipython3",
   "version": "3.11.7"
  }
 },
 "nbformat": 4,
 "nbformat_minor": 5
}
