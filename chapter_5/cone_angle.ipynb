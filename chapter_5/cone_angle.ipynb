{
 "cells": [
  {
   "cell_type": "code",
   "id": "initial_id",
   "metadata": {
    "collapsed": true,
    "ExecuteTime": {
     "end_time": "2025-06-29T15:54:21.023102Z",
     "start_time": "2025-06-29T15:54:15.649529Z"
    }
   },
   "source": [
    "import os\n",
    "from morfeus import ConeAngle, read_xyz\n",
    "\n",
    "for file in os.listdir('xyz'):\n",
    "    elements, coordinates = read_xyz(f\"xyz/{file}\")\n",
    "    cone_angle = ConeAngle(elements, coordinates, 1)\n",
    "    print(file)\n",
    "    cone_angle.print_report()\n",
    "    print(\"\")"
   ],
   "outputs": [
    {
     "name": "stdout",
     "output_type": "stream",
     "text": [
      "diphenyl_phenyl.xyz\n",
      "Cone angle: 171.1\n",
      "No. tangent atoms: 3\n",
      "Tangent to: H9 H20 H35\n",
      "\n",
      "fluorene_cyclohexyl.xyz\n",
      "Cone angle: 177.4\n",
      "No. tangent atoms: 3\n",
      "Tangent to: H14 H31 H58\n",
      "\n",
      "fluorene_isopropyl.xyz\n",
      "Cone angle: 181.0\n",
      "No. tangent atoms: 3\n",
      "Tangent to: H20 H30 H42\n",
      "\n",
      "fluorene_phenyl.xyz\n",
      "Cone angle: 167.2\n",
      "No. tangent atoms: 3\n",
      "Tangent to: C8 H20 H37\n",
      "\n",
      "fluorene_tertbutyl.xyz\n",
      "Cone angle: 188.1\n",
      "No. tangent atoms: 3\n",
      "Tangent to: H20 H28 H38\n",
      "\n"
     ]
    }
   ],
   "execution_count": 5
  }
 ],
 "metadata": {
  "kernelspec": {
   "display_name": "Python 3",
   "language": "python",
   "name": "python3"
  },
  "language_info": {
   "codemirror_mode": {
    "name": "ipython",
    "version": 2
   },
   "file_extension": ".py",
   "mimetype": "text/x-python",
   "name": "python",
   "nbconvert_exporter": "python",
   "pygments_lexer": "ipython2",
   "version": "2.7.6"
  }
 },
 "nbformat": 4,
 "nbformat_minor": 5
}
