{
 "cells": [
  {
   "cell_type": "code",
   "id": "initial_id",
   "metadata": {
    "collapsed": true,
    "ExecuteTime": {
     "end_time": "2024-11-06T14:02:07.160475Z",
     "start_time": "2024-11-06T14:02:06.690311Z"
    }
   },
   "source": [
    "import os\n",
    "import re\n",
    "\n",
    "from rdkit import Chem\n",
    "from openbabel import pybel\n",
    "import parameter_extractor as pe\n",
    "from rdkit.Chem.Draw import IPythonConsole\n",
    "from rdkit.Chem.Draw.MolDrawing import DrawingOptions\n",
    "\n",
    "IPythonConsole.molSize = (300, 300)  # Change image size\n",
    "DrawingOptions.bondLineWidth = 1.8"
   ],
   "outputs": [],
   "execution_count": 1
  },
  {
   "metadata": {
    "ExecuteTime": {
     "end_time": "2024-11-06T12:21:57.567043Z",
     "start_time": "2024-11-06T12:21:57.330113Z"
    }
   },
   "cell_type": "code",
   "source": [
    "filename = \"l_4_SPE\"\n",
    "comp = pe.ParameterExtractor(filename)\n",
    "sorted([(a.GetSymbol(), a.GetIdx() + 1) for a in comp.cod], key=lambda x: x[1])"
   ],
   "id": "cb7e4a3c0b06c79b",
   "outputs": [
    {
     "name": "stdout",
     "output_type": "stream",
     "text": [
      "Rh 34 - C 24 : Bond not found\n",
      "Rh 34 - C 22 : Bond not found\n",
      "Rh 34 - C 14 : Bond not found\n",
      "Rh 34 - C 12 : Bond not found\n",
      "Rh 34 - C 24 : Antibond not found\n",
      "Rh 34 - C 22 : Antibond not found\n",
      "Rh 34 - C 14 : Antibond not found\n",
      "Rh 34 - C 12 : Antibond not found\n"
     ]
    },
    {
     "data": {
      "text/plain": [
       "[('C', 12),\n",
       " ('H', 13),\n",
       " ('C', 14),\n",
       " ('H', 15),\n",
       " ('C', 16),\n",
       " ('H', 17),\n",
       " ('H', 18),\n",
       " ('C', 19),\n",
       " ('H', 20),\n",
       " ('H', 21),\n",
       " ('C', 22),\n",
       " ('H', 23),\n",
       " ('C', 24),\n",
       " ('H', 25),\n",
       " ('C', 26),\n",
       " ('H', 27),\n",
       " ('H', 28),\n",
       " ('C', 29),\n",
       " ('H', 30),\n",
       " ('H', 31)]"
      ]
     },
     "execution_count": 70,
     "metadata": {},
     "output_type": "execute_result"
    }
   ],
   "execution_count": 70
  },
  {
   "metadata": {
    "ExecuteTime": {
     "end_time": "2024-11-06T11:30:37.464841Z",
     "start_time": "2024-11-06T11:30:37.447920Z"
    }
   },
   "cell_type": "code",
   "source": [
    "editable_mol = Chem.RWMol(comp.mol)\n",
    "cod_idx = [a.GetIdx() for a in comp.cod]\n",
    "remove_atoms = [a for a in editable_mol.GetAtoms() if a.GetIdx() in cod_idx]\n",
    "remove_atoms.append(comp.rh)\n",
    "remove_atoms = sorted(remove_atoms, key=lambda x: x.GetIdx(), reverse=True)\n",
    "for atom in remove_atoms:\n",
    "    atom.SetAtomMapNum(atom.GetIdx())\n",
    "    editable_mol.RemoveAtom(atom.GetIdx())\n",
    "editable_mol"
   ],
   "id": "b0fb44e9ab89ec9a",
   "outputs": [
    {
     "data": {
      "text/plain": [
       "<rdkit.Chem.rdchem.RWMol at 0x25e0b27d3a0>"
      ],
      "image/png": "[encoded data removed]"
     },
     "execution_count": 49,
     "metadata": {},
     "output_type": "execute_result"
    }
   ],
   "execution_count": 49
  },
  {
   "metadata": {
    "ExecuteTime": {
     "end_time": "2024-11-06T12:21:19.808239Z",
     "start_time": "2024-11-06T12:21:19.801977Z"
    }
   },
   "cell_type": "code",
   "source": [
    "ligand_number = re.search(r\"\\d+[a-z]*\", filename)[0]\n",
    "ligand_number"
   ],
   "id": "ac477bad75c1f9f4",
   "outputs": [
    {
     "data": {
      "text/plain": [
       "'44'"
      ]
     },
     "execution_count": 68,
     "metadata": {},
     "output_type": "execute_result"
    }
   ],
   "execution_count": 68
  },
  {
   "metadata": {
    "ExecuteTime": {
     "end_time": "2024-11-06T12:26:40.279602Z",
     "start_time": "2024-11-06T12:26:40.269956Z"
    }
   },
   "cell_type": "code",
   "source": [
    "pdb_block = Chem.MolToPDBBlock(editable_mol)\n",
    "pdb = pybel.readstring(\"pdb\", pdb_block)\n",
    "gjf = pdb.write(\"gjf\")\n",
    "gjf = re.sub(r\"!Put Keywords Here, check Charge and Multiplicity.\\n#\\n\\n\",\n",
    "             fr\"%nprocshared=14\\n%mem=8GB\\n# nmr=giao b3lyp/def2TZVP pop=nbo scfcyc=200\\n\\nLigand {ligand_number} SPE NoRh\",\n",
    "             gjf)\n",
    "with open(f\"l_{ligand_number}_SPE_NoRh.gjf\", \"w\") as f:\n",
    "    f.write(gjf)"
   ],
   "id": "d85222ccc8c0d326",
   "outputs": [],
   "execution_count": 73
  },
  {
   "metadata": {},
   "cell_type": "code",
   "outputs": [],
   "execution_count": null,
   "source": [
    "submit_filename = f\"l_{ligand_number}_SPE_NoRh\"\n",
    "submit_file = f\"\"\"\n",
    "#!/bin/csh\n",
    "#$ -N {submit_filename}\n",
    "#$ -pe smp 14\n",
    "#$ -q iqtc08.q\n",
    "#$ -S /bin/csh\n",
    "#$ -cwd\n",
    "#$ -o $HOME/javier/{submit_filename}.log\n",
    "#$ -e $HOME/javier/{submit_filename}.err\n",
    "#$ -m e  \n",
    "#$ -M javier.eusamio@ub.edu \n",
    "\n",
    "# Load the modules needed\n",
    "source /etc/profile.d/modules.csh\n",
    "module load gaussian/g16b01\n",
    "\n",
    "cd $TMPDIR\n",
    "cp -pr $HOME/javier/{submit_filename}.gjf .\n",
    "\n",
    "# Run the job\n",
    "g16 < {submit_filename}.gjf > {submit_filename}.out\n",
    "\n",
    "# Copy the results to our home directory\n",
    "cp {submit_filename}.out $HOME/javier/\n",
    "\"\"\"\n",
    "with open(submit_filename, \"w\") as f:\n",
    "    f.write(submit_file)"
   ],
   "id": "7665f85b1872a48d"
  },
  {
   "metadata": {
    "ExecuteTime": {
     "end_time": "2024-11-06T12:40:24.924463Z",
     "start_time": "2024-11-06T12:40:24.918083Z"
    }
   },
   "cell_type": "code",
   "source": "os.listdir(\"./out/spe\")",
   "id": "34727ee3aea56df2",
   "outputs": [
    {
     "data": {
      "text/plain": [
       "['l_10_SPE.out',\n",
       " 'l_11_SPE.out',\n",
       " 'l_12_SPE.out',\n",
       " 'l_13_SPE.out',\n",
       " 'l_18_SPE.out',\n",
       " 'l_19_SPE.out',\n",
       " 'l_1_SPE.out',\n",
       " 'l_2_SPE.out',\n",
       " 'l_3_SPE.out',\n",
       " 'l_4_SPE.out',\n",
       " 'l_5_SPE.out',\n",
       " 'l_6_SPE.out',\n",
       " 'l_7_SPE.out',\n",
       " 'l_8_SPE.out']"
      ]
     },
     "execution_count": 80,
     "metadata": {},
     "output_type": "execute_result"
    }
   ],
   "execution_count": 80
  },
  {
   "metadata": {
    "ExecuteTime": {
     "end_time": "2024-11-06T14:02:42.288057Z",
     "start_time": "2024-11-06T14:02:11.315273Z"
    }
   },
   "cell_type": "code",
   "source": [
    "for file in os.listdir(\"./out/spe\"):\n",
    "    filename = file.split(\".\")[0]\n",
    "    ligand_number = re.search(r\"\\d+[a-z]*\", file)[0]\n",
    "    submit_filename = f\"l_{ligand_number}_SPE_NoRh\"\n",
    "    submit_file = f\"\"\"#!/bin/csh\n",
    "#$ -N {submit_filename}\n",
    "#$ -pe smp 14\n",
    "#$ -q iqtc08.q\n",
    "#$ -S /bin/csh\n",
    "#$ -cwd\n",
    "#$ -o $HOME/javier/{submit_filename}.log\n",
    "#$ -e $HOME/javier/{submit_filename}.err\n",
    "#$ -m e  \n",
    "#$ -M javier.eusamio@ub.edu \n",
    "\n",
    "# Load the modules needed\n",
    "source /etc/profile.d/modules.csh\n",
    "module load gaussian/g16b01\n",
    "\n",
    "cd $TMPDIR\n",
    "cp -pr $HOME/javier/{submit_filename}.gjf .\n",
    "\n",
    "# Run the job\n",
    "g16 < {submit_filename}.gjf > {submit_filename}.out\n",
    "\n",
    "# Copy the results to our home directory\n",
    "cp {submit_filename}.out $HOME/javier/\"\"\"\n",
    "    comp = pe.ParameterExtractor(filename)\n",
    "    editable_mol = Chem.RWMol(comp.mol)\n",
    "    cod_idx = [a.GetIdx() for a in comp.cod]\n",
    "    remove_atoms = [a for a in editable_mol.GetAtoms() if a.GetIdx() in cod_idx]\n",
    "    remove_atoms.append(comp.rh)\n",
    "    remove_atoms = sorted(remove_atoms, key=lambda x: x.GetIdx(), reverse=True)\n",
    "    for atom in remove_atoms:\n",
    "        atom.SetAtomMapNum(atom.GetIdx())\n",
    "        editable_mol.RemoveAtom(atom.GetIdx())\n",
    "    pdb_block = Chem.MolToPDBBlock(editable_mol)\n",
    "    pdb = pybel.readstring(\"pdb\", pdb_block)\n",
    "    gjf = pdb.write(\"gjf\")\n",
    "    gjf = re.sub(\n",
    "        r\"!Put Keywords Here, check Charge and Multiplicity.\\n#\\n\\n\",\n",
    "        fr\"%nprocshared=14\\n%mem=8GB\\n# nmr=giao b3lyp/def2TZVP pop=nbo scfcyc=200\\n\\nLigand {ligand_number} SPE NoRh\",\n",
    "        gjf\n",
    "    )\n",
    "    with open(f\"./gjf/NoRh/l_{ligand_number}_SPE_NoRh.gjf\", \"w\") as f:\n",
    "        f.write(gjf)\n",
    "    with open(f\"./gjf/NoRh/{submit_filename}\", \"w\", newline='\\n') as f:\n",
    "        f.write(submit_file)\n",
    "    print(f\"Ligand {ligand_number} done!\")"
   ],
   "id": "33ea7bb68237af96",
   "outputs": [
    {
     "name": "stdout",
     "output_type": "stream",
     "text": [
      "Ligand 10 done!\n",
      "Ligand 11 done!\n",
      "Ligand 12 done!\n",
      "Ligand 13 done!\n",
      "Ligand 18 done!\n",
      "Ligand 19 done!\n",
      "Ligand 1 done!\n",
      "Ligand 20b done!\n",
      "Ligand 21 done!\n",
      "Ligand 22 done!\n",
      "Ligand 23 done!\n",
      "Ligand 24 done!\n",
      "Ligand 25 done!\n",
      "Ligand 26 done!\n",
      "Ligand 27 done!\n",
      "Ligand 28 done!\n",
      "Ligand 29 done!\n",
      "Ligand 2 done!\n",
      "Ligand 30 done!\n",
      "Ligand 31 done!\n",
      "Ligand 32a done!\n",
      "Ligand 33c done!\n",
      "Ligand 34 done!\n",
      "Ligand 35 done!\n",
      "Ligand 36 done!\n",
      "Ligand 37c done!\n",
      "Ligand 38 done!\n",
      "Ligand 39 done!\n",
      "Ligand 3 done!\n",
      "Ligand 40 done!\n",
      "Ligand 41 done!\n",
      "Ligand 42 done!\n",
      "Ligand 43 done!\n",
      "Ligand 44 done!\n",
      "Ligand 45 done!\n",
      "Ligand 46 done!\n",
      "Ligand 47 done!\n",
      "Ligand 48 done!\n",
      "Ligand 49 done!\n",
      "Ligand 4 done!\n",
      "Ligand 50 done!\n",
      "Ligand 51b done!\n",
      "Ligand 52 done!\n",
      "Ligand 53 done!\n",
      "Ligand 57a done!\n",
      "Ligand 58 done!\n",
      "Ligand 59 done!\n",
      "Ligand 5 done!\n",
      "Ligand 60 done!\n",
      "Ligand 61 done!\n",
      "Ligand 62 done!\n",
      "Ligand 63 done!\n",
      "Ligand 64a done!\n",
      "Ligand 65b done!\n",
      "Ligand 6 done!\n",
      "Ligand 72 done!\n",
      "Ligand 73 done!\n",
      "Ligand 74 done!\n",
      "Ligand 75 done!\n",
      "Ligand 76 done!\n",
      "Ligand 77 done!\n",
      "Ligand 7 done!\n",
      "Ligand 8 done!\n",
      "Ligand 9b done!\n"
     ]
    }
   ],
   "execution_count": 2
  },
  {
   "metadata": {
    "ExecuteTime": {
     "end_time": "2024-11-06T13:59:24.647314Z",
     "start_time": "2024-11-06T13:59:24.470933Z"
    }
   },
   "cell_type": "code",
   "source": [
    "from rdkit.Chem import rdDetermineBonds\n",
    "with open(f\"./out/spe/{filename}.out\") as f:\n",
    "    __out = f.readlines()\n",
    "mol = next(pybel.readfile(\"out\", f\"./out/spe/{filename}.out\"))\n",
    "xyz = mol.write(\"xyz\")\n",
    "mol = Chem.MolFromXYZBlock(xyz)\n",
    "rdDetermineBonds.DetermineConnectivity(mol)\n",
    "mol"
   ],
   "id": "a98b85031ba56692",
   "outputs": [
    {
     "data": {
      "text/plain": [
       "<rdkit.Chem.rdchem.Mol at 0x1e92d4f7290>"
      ],
      "image/png": "[encoded data removed]"
     },
     "execution_count": 17,
     "metadata": {},
     "output_type": "execute_result"
    }
   ],
   "execution_count": 17
  }
 ],
 "metadata": {
  "kernelspec": {
   "display_name": "Python 3",
   "language": "python",
   "name": "python3"
  },
  "language_info": {
   "codemirror_mode": {
    "name": "ipython",
    "version": 2
   },
   "file_extension": ".py",
   "mimetype": "text/x-python",
   "name": "python",
   "nbconvert_exporter": "python",
   "pygments_lexer": "ipython2",
   "version": "2.7.6"
  }
 },
 "nbformat": 4,
 "nbformat_minor": 5
}
