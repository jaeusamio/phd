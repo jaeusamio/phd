{
 "cells": [
  {
   "cell_type": "code",
   "id": "initial_id",
   "metadata": {
    "collapsed": true,
    "ExecuteTime": {
     "end_time": "2024-11-21T10:12:00.160167Z",
     "start_time": "2024-11-21T10:11:59.317492Z"
    }
   },
   "source": [
    "import os\n",
    "import re\n",
    "\n",
    "from rdkit import Chem\n",
    "from openbabel import pybel\n",
    "import parameter_extractor as pe\n",
    "from rdkit.Chem.Draw import IPythonConsole\n",
    "from rdkit.Chem.Draw.MolDrawing import DrawingOptions\n",
    "\n",
    "IPythonConsole.molSize = (300, 300)  # Change image size\n",
    "DrawingOptions.bondLineWidth = 1.8"
   ],
   "outputs": [],
   "execution_count": 1
  },
  {
   "metadata": {},
   "cell_type": "markdown",
   "source": [
    "# Gaussian Input Files Generation\n",
    "This notebook generates `.gjf` and script files to submit the calculations to gaussian."
   ],
   "id": "c4b041a4f68b529f"
  },
  {
   "metadata": {},
   "cell_type": "markdown",
   "source": "This cell creates input files for `SPE_NoRh` structures.",
   "id": "fe4bf8b2d8d8865"
  },
  {
   "metadata": {
    "ExecuteTime": {
     "end_time": "2024-11-20T14:17:43.901004Z",
     "start_time": "2024-11-20T14:17:43.894664Z"
    }
   },
   "cell_type": "code",
   "source": "directory = \"./out/pending/\"",
   "id": "39ea4e6af3d346c9",
   "outputs": [],
   "execution_count": 2
  },
  {
   "metadata": {
    "ExecuteTime": {
     "end_time": "2024-11-20T14:17:47.662256Z",
     "start_time": "2024-11-20T14:17:46.781495Z"
    }
   },
   "cell_type": "code",
   "source": [
    "for file in os.listdir(directory):\n",
    "    path = directory + file\n",
    "    ligand_number = re.search(r\"\\d+[a-z]*\", file)[0]\n",
    "    submit_filename = f\"l_{ligand_number}_SPE_NoRh\"\n",
    "    submit_file = f\"\"\"#!/bin/csh\n",
    "#$ -N {submit_filename}\n",
    "#$ -pe smp 14\n",
    "#$ -q iqtc08.q\n",
    "#$ -S /bin/csh\n",
    "#$ -cwd\n",
    "#$ -o $HOME/javier/{submit_filename}.log\n",
    "#$ -e $HOME/javier/{submit_filename}.err\n",
    "#$ -m e  \n",
    "#$ -M javier.eusamio@ub.edu \n",
    "\n",
    "# Load the modules needed\n",
    "source /etc/profile.d/modules.csh\n",
    "module load gaussian/g16b01\n",
    "\n",
    "cd $TMPDIR\n",
    "cp -pr $HOME/javier/{submit_filename}.gjf .\n",
    "\n",
    "# Run the job\n",
    "g16 < {submit_filename}.gjf > {submit_filename}.out\n",
    "\n",
    "# Copy the results to our home directory\n",
    "cp {submit_filename}.out $HOME/javier/\"\"\"\n",
    "    \n",
    "    # Removes COD + Rh from molecule, converts to .gjf and adds job keywords\n",
    "    comp = pe.ParameterExtractor(path, include_spe_prop=False)\n",
    "    editable_mol = Chem.RWMol(comp.mol)\n",
    "    cod_idx = [a.GetIdx() for a in comp.cod]\n",
    "    remove_atoms = [a for a in editable_mol.GetAtoms() if a.GetIdx() in cod_idx]\n",
    "    remove_atoms.append(comp.rh)\n",
    "    remove_atoms = sorted(remove_atoms, key=lambda x: x.GetIdx(), reverse=True)\n",
    "    for atom in remove_atoms:\n",
    "        atom.SetAtomMapNum(atom.GetIdx())\n",
    "        editable_mol.RemoveAtom(atom.GetIdx())\n",
    "    pdb_block = Chem.MolToPDBBlock(editable_mol)\n",
    "    pdb = pybel.readstring(\"pdb\", pdb_block)\n",
    "    gjf = pdb.write(\"gjf\")\n",
    "    gjf = re.sub(\n",
    "        r\"!Put Keywords Here, check Charge and Multiplicity.\\n#\\n\\n\",\n",
    "        fr\"%nprocshared=14\\n%mem=8GB\\n# nmr=giao b3lyp/def2TZVP pop=nbo scfcyc=200\\n\\nLigand {ligand_number} SPE NoRh\",\n",
    "        gjf\n",
    "    )\n",
    "    with open(f\"./gjf/NoRh/l_{ligand_number}_SPE_NoRh.gjf\", \"w\") as f:\n",
    "        f.write(gjf)\n",
    "    with open(f\"./gjf/NoRh/{submit_filename}\", \"w\", newline='\\n') as f:\n",
    "        f.write(submit_file)\n",
    "    print(f\"Ligand {ligand_number} done!\")"
   ],
   "id": "33ea7bb68237af96",
   "outputs": [
    {
     "name": "stdout",
     "output_type": "stream",
     "text": [
      "Ligand 87 done!\n"
     ]
    }
   ],
   "execution_count": 3
  }
 ],
 "metadata": {
  "kernelspec": {
   "display_name": "Python 3",
   "language": "python",
   "name": "python3"
  },
  "language_info": {
   "codemirror_mode": {
    "name": "ipython",
    "version": 2
   },
   "file_extension": ".py",
   "mimetype": "text/x-python",
   "name": "python",
   "nbconvert_exporter": "python",
   "pygments_lexer": "ipython2",
   "version": "2.7.6"
  }
 },
 "nbformat": 4,
 "nbformat_minor": 5
}
