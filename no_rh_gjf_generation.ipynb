{
 "cells": [
  {
   "cell_type": "code",
   "id": "initial_id",
   "metadata": {
    "collapsed": true,
    "ExecuteTime": {
     "end_time": "2024-11-11T11:42:01.205807Z",
     "start_time": "2024-11-11T11:42:00.859727Z"
    }
   },
   "source": [
    "import os\n",
    "import re\n",
    "\n",
    "from rdkit import Chem\n",
    "from openbabel import pybel\n",
    "import parameter_extractor as pe\n",
    "from rdkit.Chem.Draw import IPythonConsole\n",
    "from rdkit.Chem.Draw.MolDrawing import DrawingOptions\n",
    "\n",
    "IPythonConsole.molSize = (300, 300)  # Change image size\n",
    "DrawingOptions.bondLineWidth = 1.8"
   ],
   "outputs": [],
   "execution_count": 1
  },
  {
   "metadata": {},
   "cell_type": "markdown",
   "source": [
    "# Gaussian Input Files Generation\n",
    "This notebook generates `.gjf` and script files to submit the calculations to gaussian."
   ],
   "id": "c4b041a4f68b529f"
  },
  {
   "metadata": {},
   "cell_type": "markdown",
   "source": "This cell creates input files for `SPE_NoRh` structures.",
   "id": "fe4bf8b2d8d8865"
  },
  {
   "metadata": {
    "ExecuteTime": {
     "end_time": "2024-11-11T11:47:43.706841Z",
     "start_time": "2024-11-11T11:46:49.612775Z"
    }
   },
   "cell_type": "code",
   "source": [
    "for file in os.listdir(\"./out/spe\"):\n",
    "    filename = file.split(\".\")[0]\n",
    "    ligand_number = re.search(r\"\\d+[a-z]*\", file)[0]\n",
    "    submit_filename = f\"l_{ligand_number}_SPE_NoRh\"\n",
    "    submit_file = f\"\"\"#!/bin/csh\n",
    "#$ -N {submit_filename}\n",
    "#$ -pe smp 14\n",
    "#$ -q iqtc08.q\n",
    "#$ -S /bin/csh\n",
    "#$ -cwd\n",
    "#$ -o $HOME/javier/{submit_filename}.log\n",
    "#$ -e $HOME/javier/{submit_filename}.err\n",
    "#$ -m e  \n",
    "#$ -M javier.eusamio@ub.edu \n",
    "\n",
    "# Load the modules needed\n",
    "source /etc/profile.d/modules.csh\n",
    "module load gaussian/g16b01\n",
    "\n",
    "cd $TMPDIR\n",
    "cp -pr $HOME/javier/{submit_filename}.gjf .\n",
    "\n",
    "# Run the job\n",
    "g16 < {submit_filename}.gjf > {submit_filename}.out\n",
    "\n",
    "# Copy the results to our home directory\n",
    "cp {submit_filename}.out $HOME/javier/\"\"\"\n",
    "    \n",
    "    # Removes COD + Rh from molecule, converts to .gjf and adds job keywords\n",
    "    comp = pe.ParameterExtractor(filename, include_no_rh=False)\n",
    "    editable_mol = Chem.RWMol(comp.mol)\n",
    "    cod_idx = [a.GetIdx() for a in comp.cod]\n",
    "    remove_atoms = [a for a in editable_mol.GetAtoms() if a.GetIdx() in cod_idx]\n",
    "    remove_atoms.append(comp.rh)\n",
    "    remove_atoms = sorted(remove_atoms, key=lambda x: x.GetIdx(), reverse=True)\n",
    "    for atom in remove_atoms:\n",
    "        atom.SetAtomMapNum(atom.GetIdx())\n",
    "        editable_mol.RemoveAtom(atom.GetIdx())\n",
    "    pdb_block = Chem.MolToPDBBlock(editable_mol)\n",
    "    pdb = pybel.readstring(\"pdb\", pdb_block)\n",
    "    gjf = pdb.write(\"gjf\")\n",
    "    gjf = re.sub(\n",
    "        r\"!Put Keywords Here, check Charge and Multiplicity.\\n#\\n\\n\",\n",
    "        fr\"%nprocshared=14\\n%mem=8GB\\n# nmr=giao b3lyp/def2TZVP pop=nbo scfcyc=200\\n\\nLigand {ligand_number} SPE NoRh\",\n",
    "        gjf\n",
    "    )\n",
    "    with open(f\"./gjf/NoRh/l_{ligand_number}_SPE_NoRh.gjf\", \"w\") as f:\n",
    "        f.write(gjf)\n",
    "    with open(f\"./gjf/NoRh/{submit_filename}\", \"w\", newline='\\n') as f:\n",
    "        f.write(submit_file)\n",
    "    print(f\"Ligand {ligand_number} done!\")"
   ],
   "id": "33ea7bb68237af96",
   "outputs": [
    {
     "name": "stdout",
     "output_type": "stream",
     "text": [
      "Ligand 10 done!\n",
      "Ligand 11 done!\n",
      "Ligand 12 done!\n",
      "Ligand 13 done!\n",
      "Ligand 15 done!\n",
      "Ligand 16 done!\n",
      "Ligand 17 done!\n",
      "Ligand 18 done!\n",
      "Ligand 19 done!\n",
      "Ligand 1 done!\n",
      "Ligand 20b done!\n",
      "Ligand 21 done!\n",
      "Ligand 22 done!\n",
      "Ligand 23 done!\n",
      "Ligand 24 done!\n",
      "Ligand 25 done!\n",
      "Ligand 26 done!\n",
      "Ligand 2 done!\n",
      "Ligand 31 done!\n",
      "Ligand 32a done!\n",
      "Ligand 33c done!\n",
      "Ligand 34 done!\n",
      "Ligand 35 done!\n",
      "Ligand 36 done!\n",
      "Ligand 37c done!\n",
      "Ligand 38 done!\n",
      "Ligand 39 done!\n",
      "Ligand 3 done!\n",
      "Ligand 40 done!\n",
      "Ligand 41 done!\n",
      "Ligand 42 done!\n",
      "Ligand 43 done!\n",
      "Ligand 44 done!\n",
      "Ligand 45 done!\n",
      "Ligand 46 done!\n",
      "Ligand 47 done!\n",
      "Ligand 48 done!\n",
      "Ligand 49 done!\n",
      "Ligand 4 done!\n",
      "Ligand 50 done!\n",
      "Ligand 51b done!\n",
      "Ligand 52 done!\n",
      "Ligand 53 done!\n",
      "Ligand 57a done!\n",
      "Ligand 58 done!\n",
      "Ligand 59 done!\n",
      "Ligand 5 done!\n",
      "Ligand 60 done!\n",
      "Ligand 61 done!\n",
      "Ligand 62 done!\n",
      "Ligand 63 done!\n",
      "Ligand 64a done!\n",
      "Ligand 65b done!\n",
      "Ligand 6 done!\n",
      "Ligand 72 done!\n",
      "Ligand 73 done!\n",
      "Ligand 74 done!\n",
      "Ligand 75 done!\n",
      "Ligand 76 done!\n",
      "Ligand 77 done!\n",
      "Ligand 7 done!\n",
      "Ligand 8 done!\n",
      "Ligand 9b done!\n"
     ]
    }
   ],
   "execution_count": 3
  }
 ],
 "metadata": {
  "kernelspec": {
   "display_name": "Python 3",
   "language": "python",
   "name": "python3"
  },
  "language_info": {
   "codemirror_mode": {
    "name": "ipython",
    "version": 2
   },
   "file_extension": ".py",
   "mimetype": "text/x-python",
   "name": "python",
   "nbconvert_exporter": "python",
   "pygments_lexer": "ipython2",
   "version": "2.7.6"
  }
 },
 "nbformat": 4,
 "nbformat_minor": 5
}
