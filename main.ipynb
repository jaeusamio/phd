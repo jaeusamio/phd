{
 "cells": [
  {
   "cell_type": "code",
   "outputs": [],
   "source": [
    "import os\n",
    "import pandas as pd\n",
    "from py2sambvca import p2s"
   ],
   "metadata": {
    "collapsed": false,
    "ExecuteTime": {
     "end_time": "2024-09-04T13:41:16.281085900Z",
     "start_time": "2024-09-04T13:41:16.236720500Z"
    }
   },
   "id": "b66501813b2f37c9",
   "execution_count": 72
  },
  {
   "cell_type": "code",
   "execution_count": 2,
   "id": "initial_id",
   "metadata": {
    "collapsed": true,
    "ExecuteTime": {
     "end_time": "2024-09-04T11:08:40.772979700Z",
     "start_time": "2024-09-04T11:08:40.733352400Z"
    }
   },
   "outputs": [],
   "source": [
    "METAL_ATOMS = [\"Fe\", \"Ru\", \"Os\", \"Co\", \"Rh\", \"Ir\", \"Ni\", \"Pd\", \"Pt\", \"Cu\", \"Ag\", \"Au\"]"
   ]
  },
  {
   "cell_type": "code",
   "outputs": [],
   "source": [
    "file = \"xyz/2-QIXFIM.xyz\"\n",
    "# file = \"nhc.xyz\"\n",
    "with open(file, \"r\") as f:\n",
    "    lines = f.readlines()[2:]\n",
    "atoms = [line.split()[0] for line in lines]\n",
    "metal_center = [i + 1 for i, atom in enumerate(atoms) if atom in METAL_ATOMS]\n",
    "phosphorus = [i + 1 for i, atom in enumerate(atoms) if atom == \"P\"]\n",
    "test_p2s = p2s(\n",
    "    xyz_filepath=file,\n",
    "    sphere_center_atom_ids=metal_center,\n",
    "    z_ax_atom_ids=phosphorus,\n",
    "    xz_plane_atoms_ids=[phosphorus[0]],\n",
    "    atoms_to_delete_ids=metal_center,\n",
    "    mesh_size=0.05,\n",
    "    remove_H=0,\n",
    "    verbose=2\n",
    ")"
   ],
   "metadata": {
    "collapsed": false,
    "ExecuteTime": {
     "end_time": "2024-09-04T12:28:22.316068700Z",
     "start_time": "2024-09-04T12:28:22.289637900Z"
    }
   },
   "id": "6128bc54535656e0",
   "execution_count": 23
  },
  {
   "cell_type": "code",
   "outputs": [],
   "source": [
    "output = test_p2s.run()"
   ],
   "metadata": {
    "collapsed": false,
    "ExecuteTime": {
     "end_time": "2024-09-04T13:19:54.315021100Z",
     "start_time": "2024-09-04T13:19:53.419078600Z"
    }
   },
   "id": "fffac1c20b1be52b",
   "execution_count": 47
  },
  {
   "cell_type": "code",
   "outputs": [
    {
     "data": {
      "text/plain": "   %Vbur  Total Volume  %Vbur SW  %Vbur NW  %Vbur SE  %Vbur NE\n0   42.7         179.5      48.7      38.3      37.9      45.9",
      "text/html": "<div>\n<style scoped>\n    .dataframe tbody tr th:only-of-type {\n        vertical-align: middle;\n    }\n\n    .dataframe tbody tr th {\n        vertical-align: top;\n    }\n\n    .dataframe thead th {\n        text-align: right;\n    }\n</style>\n<table border=\"1\" class=\"dataframe\">\n  <thead>\n    <tr style=\"text-align: right;\">\n      <th></th>\n      <th>%Vbur</th>\n      <th>Total Volume</th>\n      <th>%Vbur SW</th>\n      <th>%Vbur NW</th>\n      <th>%Vbur SE</th>\n      <th>%Vbur NE</th>\n    </tr>\n  </thead>\n  <tbody>\n    <tr>\n      <th>0</th>\n      <td>42.7</td>\n      <td>179.5</td>\n      <td>48.7</td>\n      <td>38.3</td>\n      <td>37.9</td>\n      <td>45.9</td>\n    </tr>\n  </tbody>\n</table>\n</div>"
     },
     "execution_count": 60,
     "metadata": {},
     "output_type": "execute_result"
    }
   ],
   "source": [
    "total_volume = output[0][\"total_volume\"]\n",
    "percent_buried_volume = output[0][\"percent_buried_volume\"]\n",
    "percent_buried_volume_sw = output[1][\"percent_buried_volume\"][\"SW\"]\n",
    "percent_buried_volume_nw = output[1][\"percent_buried_volume\"][\"NW\"]\n",
    "percent_buried_volume_se = output[1][\"percent_buried_volume\"][\"SE\"]\n",
    "percent_buried_volume_ne = output[1][\"percent_buried_volume\"][\"NE\"]\n",
    "dict = {\"%Vbur\": percent_buried_volume, \"Total Volume\": total_volume, \"%Vbur SW\": percent_buried_volume_sw, \"%Vbur NW\": percent_buried_volume_nw, \"%Vbur SE\": percent_buried_volume_se, \"%Vbur NE\": percent_buried_volume_ne}\n",
    "pd.DataFrame(dict)"
   ],
   "metadata": {
    "collapsed": false,
    "ExecuteTime": {
     "end_time": "2024-09-04T13:31:50.678166900Z",
     "start_time": "2024-09-04T13:31:50.457846100Z"
    }
   },
   "id": "4961ae86c725fb93",
   "execution_count": 60
  },
  {
   "cell_type": "code",
   "outputs": [
    {
     "data": {
      "text/plain": "            Name  %Vbur  Total Volume  %Vbur SW  %Vbur NW  %Vbur SE  %Vbur NE\n0   10ent-PARMAY   49.5         179.5      48.6      46.5      51.5      51.4\n1      19-EHERIT   46.2         179.5      52.0      45.6      45.4      41.9\n2      19-FEHWAT   45.2         179.5      40.9      46.3      44.2      49.4\n3      19-FEHWEX   45.5         179.5      41.0      46.3      45.1      49.7\n4      19-FEHWIB   44.8         179.5      48.0      45.6      45.5      40.2\n5      19-POKFAY   47.6         179.5      48.8      41.0      52.6      48.2\n6      19-VUTGUO   47.8         179.5      39.9      49.2      50.7      51.4\n7      19-WOCVIV   53.3         179.5      44.9      55.7      55.7      56.7\n8      19-WOCVOB   51.1         179.5      54.2      42.4      55.7      52.0\n9      19-WOCVUH   48.2         179.5      53.5      48.9      50.2      40.1\n10     19-WOCWAO   48.1         179.5      40.9      50.3      51.2      49.8\n11      2-QIXFIM   42.7         179.5      48.7      38.3      37.9      45.9\n12      2-QUKYEC   44.2         179.5      48.2      40.5      39.6      48.6\n13    32a-MOXFAJ   48.4         179.5      48.6      43.3      51.5      50.1\n14    33c-YAKDOE   41.3         179.5      41.1      50.1      37.0      37.1\n15    37c-YIBDOD   41.5         179.5      42.2      41.9      39.2      42.8\n16     43-BEPSUL   46.2         179.5      43.6      48.0      44.1      49.3\n17     43-BEPTAS   46.4         179.5      43.3      48.8      44.1      49.3\n18     44-SUPSII   48.3         179.5      43.9      51.2      52.9      45.1\n19     48-SUPSUU   45.9         179.5      48.8      41.7      51.5      41.4\n20     48-SUPTAB   49.2         179.5      54.7      46.6      48.4      47.2\n21     49-TEYKER   45.8         179.5      47.3      45.5      49.2      41.2\n22     49-TEYKIV   43.2         179.5      44.4      43.9      41.0      43.4\n23    51b-WAKYOA   43.1         179.5      39.3      35.0      52.8      45.3\n24     59-TEYKAN   48.4         179.5      44.2      49.6      51.9      48.1\n25     62-YOKYEC   47.8         179.5      53.5      43.5      49.8      44.6\n26    64a-AHAZOY   43.4         179.5      40.7      45.1      42.8      45.2\n27      8-BEWPEZ   47.0         179.5      46.5      42.9      51.5      46.9\n28     9a-TUGCUU   47.1         179.5      44.8      51.6      49.2      42.6",
      "text/html": "<div>\n<style scoped>\n    .dataframe tbody tr th:only-of-type {\n        vertical-align: middle;\n    }\n\n    .dataframe tbody tr th {\n        vertical-align: top;\n    }\n\n    .dataframe thead th {\n        text-align: right;\n    }\n</style>\n<table border=\"1\" class=\"dataframe\">\n  <thead>\n    <tr style=\"text-align: right;\">\n      <th></th>\n      <th>Name</th>\n      <th>%Vbur</th>\n      <th>Total Volume</th>\n      <th>%Vbur SW</th>\n      <th>%Vbur NW</th>\n      <th>%Vbur SE</th>\n      <th>%Vbur NE</th>\n    </tr>\n  </thead>\n  <tbody>\n    <tr>\n      <th>0</th>\n      <td>10ent-PARMAY</td>\n      <td>49.5</td>\n      <td>179.5</td>\n      <td>48.6</td>\n      <td>46.5</td>\n      <td>51.5</td>\n      <td>51.4</td>\n    </tr>\n    <tr>\n      <th>1</th>\n      <td>19-EHERIT</td>\n      <td>46.2</td>\n      <td>179.5</td>\n      <td>52.0</td>\n      <td>45.6</td>\n      <td>45.4</td>\n      <td>41.9</td>\n    </tr>\n    <tr>\n      <th>2</th>\n      <td>19-FEHWAT</td>\n      <td>45.2</td>\n      <td>179.5</td>\n      <td>40.9</td>\n      <td>46.3</td>\n      <td>44.2</td>\n      <td>49.4</td>\n    </tr>\n    <tr>\n      <th>3</th>\n      <td>19-FEHWEX</td>\n      <td>45.5</td>\n      <td>179.5</td>\n      <td>41.0</td>\n      <td>46.3</td>\n      <td>45.1</td>\n      <td>49.7</td>\n    </tr>\n    <tr>\n      <th>4</th>\n      <td>19-FEHWIB</td>\n      <td>44.8</td>\n      <td>179.5</td>\n      <td>48.0</td>\n      <td>45.6</td>\n      <td>45.5</td>\n      <td>40.2</td>\n    </tr>\n    <tr>\n      <th>5</th>\n      <td>19-POKFAY</td>\n      <td>47.6</td>\n      <td>179.5</td>\n      <td>48.8</td>\n      <td>41.0</td>\n      <td>52.6</td>\n      <td>48.2</td>\n    </tr>\n    <tr>\n      <th>6</th>\n      <td>19-VUTGUO</td>\n      <td>47.8</td>\n      <td>179.5</td>\n      <td>39.9</td>\n      <td>49.2</td>\n      <td>50.7</td>\n      <td>51.4</td>\n    </tr>\n    <tr>\n      <th>7</th>\n      <td>19-WOCVIV</td>\n      <td>53.3</td>\n      <td>179.5</td>\n      <td>44.9</td>\n      <td>55.7</td>\n      <td>55.7</td>\n      <td>56.7</td>\n    </tr>\n    <tr>\n      <th>8</th>\n      <td>19-WOCVOB</td>\n      <td>51.1</td>\n      <td>179.5</td>\n      <td>54.2</td>\n      <td>42.4</td>\n      <td>55.7</td>\n      <td>52.0</td>\n    </tr>\n    <tr>\n      <th>9</th>\n      <td>19-WOCVUH</td>\n      <td>48.2</td>\n      <td>179.5</td>\n      <td>53.5</td>\n      <td>48.9</td>\n      <td>50.2</td>\n      <td>40.1</td>\n    </tr>\n    <tr>\n      <th>10</th>\n      <td>19-WOCWAO</td>\n      <td>48.1</td>\n      <td>179.5</td>\n      <td>40.9</td>\n      <td>50.3</td>\n      <td>51.2</td>\n      <td>49.8</td>\n    </tr>\n    <tr>\n      <th>11</th>\n      <td>2-QIXFIM</td>\n      <td>42.7</td>\n      <td>179.5</td>\n      <td>48.7</td>\n      <td>38.3</td>\n      <td>37.9</td>\n      <td>45.9</td>\n    </tr>\n    <tr>\n      <th>12</th>\n      <td>2-QUKYEC</td>\n      <td>44.2</td>\n      <td>179.5</td>\n      <td>48.2</td>\n      <td>40.5</td>\n      <td>39.6</td>\n      <td>48.6</td>\n    </tr>\n    <tr>\n      <th>13</th>\n      <td>32a-MOXFAJ</td>\n      <td>48.4</td>\n      <td>179.5</td>\n      <td>48.6</td>\n      <td>43.3</td>\n      <td>51.5</td>\n      <td>50.1</td>\n    </tr>\n    <tr>\n      <th>14</th>\n      <td>33c-YAKDOE</td>\n      <td>41.3</td>\n      <td>179.5</td>\n      <td>41.1</td>\n      <td>50.1</td>\n      <td>37.0</td>\n      <td>37.1</td>\n    </tr>\n    <tr>\n      <th>15</th>\n      <td>37c-YIBDOD</td>\n      <td>41.5</td>\n      <td>179.5</td>\n      <td>42.2</td>\n      <td>41.9</td>\n      <td>39.2</td>\n      <td>42.8</td>\n    </tr>\n    <tr>\n      <th>16</th>\n      <td>43-BEPSUL</td>\n      <td>46.2</td>\n      <td>179.5</td>\n      <td>43.6</td>\n      <td>48.0</td>\n      <td>44.1</td>\n      <td>49.3</td>\n    </tr>\n    <tr>\n      <th>17</th>\n      <td>43-BEPTAS</td>\n      <td>46.4</td>\n      <td>179.5</td>\n      <td>43.3</td>\n      <td>48.8</td>\n      <td>44.1</td>\n      <td>49.3</td>\n    </tr>\n    <tr>\n      <th>18</th>\n      <td>44-SUPSII</td>\n      <td>48.3</td>\n      <td>179.5</td>\n      <td>43.9</td>\n      <td>51.2</td>\n      <td>52.9</td>\n      <td>45.1</td>\n    </tr>\n    <tr>\n      <th>19</th>\n      <td>48-SUPSUU</td>\n      <td>45.9</td>\n      <td>179.5</td>\n      <td>48.8</td>\n      <td>41.7</td>\n      <td>51.5</td>\n      <td>41.4</td>\n    </tr>\n    <tr>\n      <th>20</th>\n      <td>48-SUPTAB</td>\n      <td>49.2</td>\n      <td>179.5</td>\n      <td>54.7</td>\n      <td>46.6</td>\n      <td>48.4</td>\n      <td>47.2</td>\n    </tr>\n    <tr>\n      <th>21</th>\n      <td>49-TEYKER</td>\n      <td>45.8</td>\n      <td>179.5</td>\n      <td>47.3</td>\n      <td>45.5</td>\n      <td>49.2</td>\n      <td>41.2</td>\n    </tr>\n    <tr>\n      <th>22</th>\n      <td>49-TEYKIV</td>\n      <td>43.2</td>\n      <td>179.5</td>\n      <td>44.4</td>\n      <td>43.9</td>\n      <td>41.0</td>\n      <td>43.4</td>\n    </tr>\n    <tr>\n      <th>23</th>\n      <td>51b-WAKYOA</td>\n      <td>43.1</td>\n      <td>179.5</td>\n      <td>39.3</td>\n      <td>35.0</td>\n      <td>52.8</td>\n      <td>45.3</td>\n    </tr>\n    <tr>\n      <th>24</th>\n      <td>59-TEYKAN</td>\n      <td>48.4</td>\n      <td>179.5</td>\n      <td>44.2</td>\n      <td>49.6</td>\n      <td>51.9</td>\n      <td>48.1</td>\n    </tr>\n    <tr>\n      <th>25</th>\n      <td>62-YOKYEC</td>\n      <td>47.8</td>\n      <td>179.5</td>\n      <td>53.5</td>\n      <td>43.5</td>\n      <td>49.8</td>\n      <td>44.6</td>\n    </tr>\n    <tr>\n      <th>26</th>\n      <td>64a-AHAZOY</td>\n      <td>43.4</td>\n      <td>179.5</td>\n      <td>40.7</td>\n      <td>45.1</td>\n      <td>42.8</td>\n      <td>45.2</td>\n    </tr>\n    <tr>\n      <th>27</th>\n      <td>8-BEWPEZ</td>\n      <td>47.0</td>\n      <td>179.5</td>\n      <td>46.5</td>\n      <td>42.9</td>\n      <td>51.5</td>\n      <td>46.9</td>\n    </tr>\n    <tr>\n      <th>28</th>\n      <td>9a-TUGCUU</td>\n      <td>47.1</td>\n      <td>179.5</td>\n      <td>44.8</td>\n      <td>51.6</td>\n      <td>49.2</td>\n      <td>42.6</td>\n    </tr>\n  </tbody>\n</table>\n</div>"
     },
     "execution_count": 68,
     "metadata": {},
     "output_type": "execute_result"
    }
   ],
   "source": [
    "xyz_list = []\n",
    "xyz_files = [f for f in os.listdir(\"xyz\")]\n",
    "for xyz in xyz_files:\n",
    "    name = xyz.strip(\".xyz\")\n",
    "    xyz_path = \"xyz/\" + xyz\n",
    "    with open(xyz_path, \"r\") as f:\n",
    "        lines = f.readlines()[2:]\n",
    "    atoms = [line.split()[0] for line in lines]\n",
    "    metal_center = [i + 1 for i, atom in enumerate(atoms) if atom in METAL_ATOMS]\n",
    "    phosphorus = [i + 1 for i, atom in enumerate(atoms) if atom == \"P\"]\n",
    "    test_p2s = p2s(\n",
    "        xyz_filepath=xyz_path,\n",
    "        sphere_center_atom_ids=metal_center,\n",
    "        z_ax_atom_ids=phosphorus,\n",
    "        xz_plane_atoms_ids=[phosphorus[0]],\n",
    "        atoms_to_delete_ids=metal_center,\n",
    "        mesh_size=0.05,\n",
    "        remove_H=0,\n",
    "    )\n",
    "    output = test_p2s.run()\n",
    "    total_volume = output[0][\"total_volume\"]\n",
    "    percent_buried_volume = output[0][\"percent_buried_volume\"]\n",
    "    percent_buried_volume_sw = output[1][\"percent_buried_volume\"][\"SW\"]\n",
    "    percent_buried_volume_nw = output[1][\"percent_buried_volume\"][\"NW\"]\n",
    "    percent_buried_volume_se = output[1][\"percent_buried_volume\"][\"SE\"]\n",
    "    percent_buried_volume_ne = output[1][\"percent_buried_volume\"][\"NE\"]\n",
    "    \n",
    "    xyz_list.append({\"Name\": name, \"%Vbur\": percent_buried_volume, \"Total Volume\": total_volume, \"%Vbur SW\": percent_buried_volume_sw, \"%Vbur NW\": percent_buried_volume_nw, \"%Vbur SE\": percent_buried_volume_se, \"%Vbur NE\": percent_buried_volume_ne})\n",
    "\n",
    "sambvca_df = pd.DataFrame(xyz_list)\n",
    "sambvca_df"
   ],
   "metadata": {
    "collapsed": false,
    "ExecuteTime": {
     "end_time": "2024-09-04T13:39:42.553192Z",
     "start_time": "2024-09-04T13:39:14.133441800Z"
    }
   },
   "id": "c3f4c9573a6edaa3",
   "execution_count": 68
  },
  {
   "cell_type": "code",
   "outputs": [],
   "source": [
    "sambvca_df.to_excel(\"vbur_sambvca.xlsx\", index=False)"
   ],
   "metadata": {
    "collapsed": false,
    "ExecuteTime": {
     "end_time": "2024-09-04T13:42:09.311190400Z",
     "start_time": "2024-09-04T13:42:09.230347700Z"
    }
   },
   "id": "1fd4f1f50474a259",
   "execution_count": 75
  },
  {
   "cell_type": "code",
   "outputs": [
    {
     "name": "stderr",
     "output_type": "stream",
     "text": [
      "[17:04:03] unsupported number of radical electrons 4\n"
     ]
    },
    {
     "data": {
      "text/plain": "<rdkit.Chem.rdchem.Mol at 0x23f5f1bb840>",
      "image/png": "[encoded data removed]"
     },
     "execution_count": 78,
     "metadata": {},
     "output_type": "execute_result"
    }
   ],
   "source": [
    "from rdkit import Chem\n",
    "\n",
    "f1 = Chem.rdmolfiles.MolFromMol2File(\"RhCOD.mol2\")\n",
    "f2 = Chem.rdmolfiles.MolFromMol2File(\"AX1940.mol2\")\n",
    "Chem.CombineMols(f1, f2)"
   ],
   "metadata": {
    "collapsed": false,
    "ExecuteTime": {
     "end_time": "2024-09-04T15:04:03.697567100Z",
     "start_time": "2024-09-04T15:04:03.520427Z"
    }
   },
   "id": "2a0e4b4fb39a2bf0",
   "execution_count": 78
  }
 ],
 "metadata": {
  "kernelspec": {
   "display_name": "Python 3",
   "language": "python",
   "name": "python3"
  },
  "language_info": {
   "codemirror_mode": {
    "name": "ipython",
    "version": 2
   },
   "file_extension": ".py",
   "mimetype": "text/x-python",
   "name": "python",
   "nbconvert_exporter": "python",
   "pygments_lexer": "ipython2",
   "version": "2.7.6"
  }
 },
 "nbformat": 4,
 "nbformat_minor": 5
}
